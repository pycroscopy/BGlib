{
 "cells": [
  {
   "cell_type": "markdown",
   "metadata": {},
   "source": [
    "## Band Excitation data procesing using pycroscopy\n",
    "#### Suhas Somnath, Chris R. Smith, Stephen Jesse\n",
    "The Center for Nanophase Materials Science and The Institute for Functional Imaging for Materials <br>\n",
    "Oak Ridge National Laboratory<br>\n",
    "2/10/2017\n",
    "\n",
    "\n",
    "## cKPFM analysis\n",
    "#### Sabine Neumayer\n",
    "University College Dublin<br> \n",
    "7/4/2017"
   ]
  },
  {
   "cell_type": "markdown",
   "metadata": {},
   "source": [
    "![notebook_rules.png](notebook_rules.png)\n",
    "\n",
    "Image courtesy of Jean Bilheux from the [neutron imaging](https://github.com/neutronimaging/python_notebooks) GitHub repository."
   ]
  },
  {
   "cell_type": "markdown",
   "metadata": {},
   "source": [
    "## Configure the notebook"
   ]
  },
  {
   "cell_type": "code",
   "execution_count": 1,
   "metadata": {},
   "outputs": [
    {
     "name": "stdout",
     "output_type": "stream",
     "text": [
      "Collecting package metadata (current_repodata.json): ...working... done\n",
      "Solving environment: ...working... done\n",
      "\n",
      "# All requested packages already installed.\n",
      "\n",
      "Requirement already satisfied: sidpy in c:\\users\\yla\\anaconda3\\lib\\site-packages (0.0.5)\n",
      "Requirement already satisfied: bglib in c:\\users\\yla\\anaconda3\\lib\\site-packages (0.0.3)\n"
     ]
    }
   ],
   "source": [
    "# Make sure needed packages are installed and up-to-date\n",
    "import sys\n",
    "!conda install --yes --prefix {sys.prefix} numpy scipy matplotlib scikit-learn Ipython ipywidgets h5py\n",
    "!{sys.executable} -m pip install -U --no-deps sidpy bglib"
   ]
  },
  {
   "cell_type": "code",
   "execution_count": 2,
   "metadata": {},
   "outputs": [
    {
     "data": {
      "text/html": [
       "\n",
       "<style>\n",
       "    div#notebook-container    { width: 95%; }\n",
       "    div#menubar-container     { width: 65%; }\n",
       "    div#maintoolbar-container { width: 99%; }\n",
       "</style>\n"
      ],
      "text/plain": [
       "<IPython.core.display.HTML object>"
      ]
     },
     "metadata": {},
     "output_type": "display_data"
    }
   ],
   "source": [
    "# Ensure python 3 compatibility\n",
    "from __future__ import division, print_function, absolute_import\n",
    "\n",
    "# Import necessary libraries:\n",
    "# General utilities:\n",
    "import sys\n",
    "import os\n",
    "import math\n",
    "\n",
    "# Computation:\n",
    "import numpy as np\n",
    "import h5py\n",
    "\n",
    "# Visualization:\n",
    "import matplotlib.pyplot as plt\n",
    "import matplotlib.colors as colors\n",
    "import ipywidgets as widgets\n",
    "\n",
    "from IPython.display import display, HTML\n",
    "\n",
    "# Finally, BGlib itself\n",
    "sys.path.append('..')\n",
    "\n",
    "from BGlib import be as belib\n",
    "import pyUSID as usid\n",
    "import sidpy\n",
    "\n",
    "# Make Notebook take up most of page width\n",
    "display(HTML(data=\"\"\"\n",
    "<style>\n",
    "    div#notebook-container    { width: 95%; }\n",
    "    div#menubar-container     { width: 65%; }\n",
    "    div#maintoolbar-container { width: 99%; }\n",
    "</style>\n",
    "\"\"\"))"
   ]
  },
  {
   "cell_type": "code",
   "execution_count": 3,
   "metadata": {},
   "outputs": [],
   "source": [
    "# set up notebook to show plots within the notebook\n",
    "%matplotlib notebook"
   ]
  },
  {
   "cell_type": "markdown",
   "metadata": {},
   "source": [
    "## Set some basic parameters for computation\n",
    "This notebook performs some functional fitting whose duration can be substantially decreased by using more memory and CPU cores. We have provided default values below but you may choose to change them if necessary."
   ]
  },
  {
   "cell_type": "code",
   "execution_count": 4,
   "metadata": {},
   "outputs": [],
   "source": [
    "max_mem         = 1024*8  # Maximum memory to use, in Mbs. Default = 1024\n",
    "max_cores       = None    # Number of logical cores to use in fitting.  None uses all but 2 available cores."
   ]
  },
  {
   "cell_type": "markdown",
   "metadata": {},
   "source": [
    "## Make the data pycroscopy compatible\n",
    "Converting the raw data into a pycroscopy compatible hierarchical data format (HDF or .h5) file gives you access to the fast fitting algorithms and powerful analysis functions within pycroscopy\n",
    "\n",
    "#### H5 files:\n",
    "* are like smart containers that can store matrices with data, folders to organize these datasets, images, metadata like experimental parameters, links or shortcuts to datasets, etc.\n",
    "* are readily compatible with high-performance computing facilities\n",
    "* scale very efficiently from few kilobytes to several terabytes\n",
    "* can be read and modified using any language including Python, Matlab, C/C++, Java, Fortran, Igor Pro, etc.\n",
    "\n",
    "#### You can load either of the following:\n",
    "* Any .mat or .txt parameter file from the original experiment\n",
    "* A .h5 file generated from the raw data using pycroscopy - skips translation\n",
    "\n",
    "You can select desired file type by choosing the second option in the pull down menu on the bottom right of the file window"
   ]
  },
  {
   "cell_type": "code",
   "execution_count": 6,
   "metadata": {},
   "outputs": [
    {
     "name": "stdout",
     "output_type": "stream",
     "text": [
      "File is already Pycroscopy ready.\n",
      "Working on:\n",
      "C:/Users/yla/Google Drive/PD time files/User Work/SimonFraser_ZuoGuangYe/sample2/BEcKPFM_2um_0012.h5\n"
     ]
    },
    {
     "name": "stderr",
     "output_type": "stream",
     "text": [
      "C:\\Users\\yla\\Anaconda3\\lib\\site-packages\\sidpy\\sid\\translator.py:42: FutureWarning: Consider using sidpy.Reader instead of sidpy.Translator if possible and contribute your reader to ScopeReaders\n",
      "  warn('Consider using sidpy.Reader instead of sidpy.Translator if '\n"
     ]
    }
   ],
   "source": [
    "input_file_path = r'C:/Users/yla/Google Drive/PD time files/User Work/SimonFraser_ZuoGuangYe/sample2/BEcKPFM_2um_0012.h5'\n",
    "\n",
    "(data_dir, filename) = os.path.split(input_file_path)\n",
    "\n",
    "if input_file_path.endswith('.h5'):\n",
    "    # No translation here\n",
    "    h5_path = input_file_path\n",
    "    force = False # Set this to true to force patching of the datafile.\n",
    "    tl = belib.translators.LabViewH5Patcher()\n",
    "    tl.translate(h5_path, force_patch=force)\n",
    "else:\n",
    "    # Set the data to be translated\n",
    "    data_path = input_file_path\n",
    "\n",
    "    (junk, base_name) = os.path.split(data_dir)\n",
    "\n",
    "    # Check if the data is in the new or old format.  Initialize the correct translator for the format.\n",
    "    if base_name == 'newdataformat':\n",
    "        (junk, base_name) = os.path.split(junk)\n",
    "        translator = belib.translators.BEPSndfTranslator(max_mem_mb=max_mem)\n",
    "    else:\n",
    "        translator = belib.translators.BEodfTranslator(max_mem_mb=max_mem)\n",
    "    if base_name.endswith('_d'):\n",
    "        base_name = base_name[:-2]\n",
    "    # Translate the data\n",
    "    h5_path = translator.translate(data_path, show_plots=True, save_plots=False)\n",
    "\n",
    "h5_file = h5py.File(h5_path, 'r+')\n",
    "print('Working on:\\n' + h5_path)\n",
    "\n",
    "h5_main = usid.hdf_utils.find_dataset(h5_file, 'Raw_Data')[0]"
   ]
  },
  {
   "cell_type": "markdown",
   "metadata": {},
   "source": [
    "##### Inspect the contents of this h5 data file\n",
    "The file contents are stored in a tree structure, just like files on a conventional computer.\n",
    "The data is stored as a 2D matrix (position, spectroscopic value) regardless of the dimensionality of the data. Thus, the positions will be arranged as row0-col0, row0-col1.... row0-colN, row1-col0.... and the data for each position is stored as it was chronologically collected  \n",
    "\n",
    "The main dataset is always accompanied by four ancillary datasets that explain the position and spectroscopic value of any given element in the dataset."
   ]
  },
  {
   "cell_type": "code",
   "execution_count": 7,
   "metadata": {
    "scrolled": false
   },
   "outputs": [
    {
     "name": "stdout",
     "output_type": "stream",
     "text": [
      "Datasets and datagroups within the file:\n",
      "------------------------------------\n",
      "/\n",
      "├ Measurement_000\n",
      "  ---------------\n",
      "  ├ Channel_000\n",
      "    -----------\n",
      "    ├ Bin_FFT\n",
      "    ├ Bin_Frequencies\n",
      "    ├ Bin_Indices\n",
      "    ├ Bin_Step\n",
      "    ├ Excitation_Waveform\n",
      "    ├ Noise_Floor\n",
      "    ├ Position_Indices\n",
      "    ├ Position_Values\n",
      "    ├ Raw_Data\n",
      "    ├ Raw_Data-SHO_Fit_000\n",
      "      --------------------\n",
      "      ├ Guess\n",
      "      ├ Spectroscopic_Indices\n",
      "      ├ Spectroscopic_Values\n",
      "    ├ Raw_Data-SHO_Fit_001\n",
      "      --------------------\n",
      "      ├ Fit\n",
      "      ├ Guess\n",
      "      ├ Spectroscopic_Indices\n",
      "      ├ Spectroscopic_Values\n",
      "      ├ completed_fit_positions\n",
      "      ├ completed_guess_positions\n",
      "    ├ Spatially_Averaged_Plot_Group_000\n",
      "      ---------------------------------\n",
      "      ├ Bin_Frequencies\n",
      "      ├ Mean_Spectrogram\n",
      "      ├ Spectroscopic_Parameter\n",
      "      ├ Step_Averaged_Response\n",
      "    ├ Spectroscopic_Indices\n",
      "    ├ Spectroscopic_Values\n",
      "  ├ Channel_001\n",
      "    -----------\n",
      "    ├ Position_Indices\n",
      "    ├ Position_Values\n",
      "    ├ Raw_Data\n",
      "    ├ Spectroscopic_Indices\n",
      "    ├ Spectroscopic_Values\n",
      "\n",
      "The main dataset:\n",
      "------------------------------------\n",
      "<HDF5 dataset \"Raw_Data\": shape (100, 54560), type \"<c8\">\n",
      "located at: \n",
      "\t/Measurement_000/Channel_000/Raw_Data \n",
      "Data contains: \n",
      "\tquantity (a.u.) \n",
      "Data dimensions and original shape: \n",
      "Position Dimensions: \n",
      "\tX - size: 10 \n",
      "\tY - size: 10 \n",
      "Spectroscopic Dimensions: \n",
      "\tFrequency - size: 124 \n",
      "\tField - size: 2 \n",
      "\twrite_bias - size: 20 \n",
      "\tread_bias - size: 11\n",
      "Data Type:\n",
      "\tcomplex64\n",
      "\n",
      "The ancillary datasets:\n",
      "------------------------------------\n",
      "<HDF5 dataset \"Position_Indices\": shape (100, 2), type \"<u4\">\n",
      "<HDF5 dataset \"Position_Values\": shape (100, 2), type \"<f4\">\n",
      "<HDF5 dataset \"Spectroscopic_Indices\": shape (4, 54560), type \"<u4\">\n",
      "<HDF5 dataset \"Spectroscopic_Values\": shape (4, 54560), type \"<f4\">\n",
      "\n",
      "Metadata or attributes in a datagroup\n",
      "------------------------------------\n",
      "AFM_InvOLS : 1e-07\n",
      "AFM_XLVDT_sensor : 3.7947347683133456e-06\n",
      "AFM_XPiezo_sensitivity : -1.605988e-07\n",
      "AFM_YLVDT_sensor : 3.968488902834937e-06\n",
      "AFM_YPiezo_sensitivity : 1.8273e-07\n",
      "AFM_ZLVDT_sensor : 2.4883e-06\n",
      "AFM_ZPiezo_sensitivity : 2.8128e-08\n",
      "AR_ : 31.0\n",
      "AR_Frequency_Setpoint : 100.0\n",
      "AR_Gain_for_PFM_Dart_mode : 0.0\n",
      "AR_Inverted_Optical_Lever_Sensitivity : 1e-07\n",
      "AR_Lockin_0_ : 1500.0\n",
      "AR_Number_of_frames_when_IMS_scanning : 0.0\n",
      "AR_The_Deflection_Setpoint_in_meters : 0.0\n",
      "AR_The_Integral_Gain_(the_one_that_matters) : 10.0\n",
      "AR_The_Offset_that_is_applied_to_the_user_channels : 0.0\n",
      "AR_The_Proportional_Gain_(what_is_it_good_for?) : 0.0\n",
      "AR_The_Set_Point_if_we_are_feeding_back_on_amplitude : 0.8\n",
      "AR_The_amount_of_rounding_on_the_scans : 0.04\n",
      "AR_The_amount_of_secret_gain_in_X : 7.02\n",
      "AR_The_amount_of_secret_gain_in_Y : 7.09\n",
      "AR_The_amount_of_secret_gain_in_Z : 0.0\n",
      "AR_The_amount_that_the_X_LVDT_is_not_centered : 0.0\n",
      "AR_The_amount_the_size_of_the_scan_is_reduced_by_the_scan_angle : 0.0\n",
      "AR_The_amplitude_of_the_drive_to_the_tip_piezo : 0.1\n",
      "AR_The_amplitude_set_point_in_meters : 8.72e-08\n",
      "AR_The_angle_of_the_scan_in_degrees_going_clockwise : 90.0\n",
      "AR_The_current_distance_moved_by_force_curves : 4e-07\n",
      "AR_The_deflection_Setpoint_in_newtons : 5e-09\n",
      "AR_The_displayed_Setpoint : 0.0008\n",
      "AR_The_frequency_of_the_drive_to_the_piezo : 0.0\n",
      "AR_The_frequency_width_during_a_tune : 5000.0\n",
      "AR_The_gain_on_the_fast_ADC_in_dB : 0.0\n",
      "AR_The_gains_that_are_applied_to_the_user_channels : 1.0\n",
      "AR_The_integral_gain_of_the_X_axis : 4.72\n",
      "AR_The_integral_gain_of_the_Y_axis : 4.74\n",
      "AR_The_maximum_physical_scan_size : 9e-05\n",
      "AR_The_number_of_lines_per_scan : 256.0\n",
      "AR_The_number_of_points_in_cantilever_tune : 480.0\n",
      "AR_The_number_of_points_per_line : 0.0\n",
      "AR_The_offset_of_the_X_LVDT_sensor : -0.09\n",
      "AR_The_offset_of_the_Y_LVDT_sensor : -0.1\n",
      "AR_The_offset_of_the_Z_LVDT_sensor : 0.55\n",
      "AR_The_offset_of_the_scan_in_meters_from_the_center_in_X : 1.2502379e-06\n",
      "AR_The_offset_of_the_scan_in_meters_from_the_center_in_Y : 7.339670100000001e-06\n",
      "AR_The_offset_required_to_center_the_phase : 0.0\n",
      "AR_The_proportional_gain_of_the_X_axis : -inf\n",
      "AR_The_proportional_gain_of_the_Y_axis : -inf\n",
      "AR_The_rate_of_the_scan_in_hertz : 1.0\n",
      "AR_The_sensitivity_of_the_X_LVDT_sensor : 3.7947347683133456e-06\n",
      "AR_The_sensitivity_of_the_X_piezo : -1.605988e-07\n",
      "AR_The_sensitivity_of_the_Y_LVDT_sensor : 3.968488902834937e-06\n",
      "AR_The_sensitivity_of_the_Y_piezo : 1.8273e-07\n",
      "AR_The_sensitivity_of_the_Z_LVDT_sensor : 2.4883e-06\n",
      "AR_The_sensitivity_of_the_Z_piezo : 3.6124e-08\n",
      "AR_The_setpoint_if_we_are_feeding_back_on_deflection : 1.0\n",
      "AR_The_size_of_the_scan_in_meters : 2e-06\n",
      "AR_The_size_of_the_scan_in_the_fast_direction_in_meters : 2e-06\n",
      "AR_The_size_of_the_scan_in_the_slow_direction_in_meters : 2e-06\n",
      "AR_The_speed_of_the_scan_in_meters_per_second : 5.0080128205128205e-06\n",
      "AR_The_spring_constant_of_the_cantilever : 1.0\n",
      "AR_The_spring_constant_of_the_secondary_mode_of_the_cantilever : 100.0\n",
      "AR_The_suffix_applied_to_saved_images : 1.0\n",
      "AR_The_voltage_bias_on_the_User_0_BNC : 0.0\n",
      "AR_The_voltage_bias_on_the_User_1_BNC : 0.0\n",
      "AR_The_voltage_bias_on_the_sample : 0.0\n",
      "AR_The_voltage_bias_on_the_tip : 0.0\n",
      "AR_This_is_1e-9_of_the_secondary_mode_spring_constant,_for_display_versus_nm : 1.0000000000000001e-07\n",
      "AR_This_is_1e-9_of_the_spring_constant,_for_display_versus_nm : 1e-09\n",
      "AR_What_imaging_mode_are_we_in : 0.0\n",
      "AR_What_the_gain_was_before_it_was_changed : 12.0\n",
      "AR_Whether_or_not_the_slow_scan_is_enabled : 0.0\n",
      "AR_Whether_the_image_has_been_changed_during_this_scan : 0.0\n",
      "AR_Whether_the_parameters_have_changed : 0.0\n",
      "AR_Whether_this_is_the_last_scan_or_not : 2.0\n",
      "AR_Whether_to_save_images_or_not : 2.0\n",
      "AR_Which_Way_the_scan_is_heading : 1.0\n",
      "AR_variable_that_attempts_to_line_up_trace_with_retrace : 0.0\n",
      "BE_amplitude_[V] : 2.0\n",
      "BE_auto_smooth_cond : 1.0\n",
      "BE_band_width_[Hz] : 100000.0\n",
      "BE_center_frequency_[Hz] : 390000.0\n",
      "BE_phase_content : b'chirp-sinc hybrid'\n",
      "BE_phase_variation : 1.0\n",
      "BE_pulse_duration_[s] : 0.008\n",
      "BE_repeats : 4.0\n",
      "BE_signal_type_ring : 1.0\n",
      "BE_smoothing : 3208.717049919559\n",
      "BE_window_adjustment : 0.215625\n",
      "File_file_name : BEcKPFM_2um_0012\n",
      "IO_AFM_platform : b'1 Cypher AR16'\n",
      "IO_AI_range : 10.0\n",
      "IO_AO_range : 10.0\n",
      "IO_Analog_output_routing : 0.0\n",
      "IO_Channel_001_type : b'topography'\n",
      "IO_Channel_002_type : b'none'\n",
      "IO_Channel_003_type : b'none'\n",
      "IO_analog_output_amplifier_ring : 1.0\n",
      "IO_card : b'6124'\n",
      "IO_deflection_detector_ring : 0\n",
      "IO_rate : 4000000.0\n",
      "IO_sensitivity : 1.0\n",
      "VS_delay_time_after_step_[s] : 0.0\n",
      "VS_max_read_bias_[V] : 1.0\n",
      "VS_max_write_bias_[V] : 6.0\n",
      "VS_min_read_bias_[V] : -1.0\n",
      "VS_min_write_bias_[V] : -6.0\n",
      "VS_mode : b'cKPFM'\n",
      "VS_num_DC_write_steps : 20\n",
      "VS_num_read_steps : 11\n",
      "VS_step_transition_time_[s] : 0.001\n",
      "data_type : b'cKPFMData'\n",
      "grid_current_col : 9\n",
      "grid_current_row : 9\n",
      "grid_num_cols : 10\n",
      "grid_num_rows : 10\n",
      "grid_set_point_[V] : 1.0\n",
      "grid_settle_time_[s] : 1.0\n",
      "grid_transit_time_[s] : 1.0\n",
      "num_H5_col : 54560\n",
      "num_UDVS_steps : 440\n",
      "num_pix : 100\n",
      "num_steps : 440\n"
     ]
    }
   ],
   "source": [
    "print('Datasets and datagroups within the file:\\n------------------------------------')\n",
    "usid.hdf_utils.print_tree(h5_file)\n",
    " \n",
    "print('\\nThe main dataset:\\n------------------------------------')\n",
    "print(h5_main)\n",
    "print('\\nThe ancillary datasets:\\n------------------------------------')\n",
    "print(h5_file['/Measurement_000/Channel_000/Position_Indices'])\n",
    "print(h5_file['/Measurement_000/Channel_000/Position_Values'])\n",
    "print(h5_file['/Measurement_000/Channel_000/Spectroscopic_Indices'])\n",
    "print(h5_file['/Measurement_000/Channel_000/Spectroscopic_Values'])\n",
    "\n",
    "print('\\nMetadata or attributes in a datagroup\\n------------------------------------')\n",
    "for key in h5_file['/Measurement_000'].attrs:\n",
    "    print('{} : {}'.format(key, h5_file['/Measurement_000'].attrs[key]))"
   ]
  },
  {
   "cell_type": "markdown",
   "metadata": {},
   "source": [
    "## Get some basic parameters from the H5 file\n",
    "This information will be vital for futher analysis and visualization of the data"
   ]
  },
  {
   "cell_type": "code",
   "execution_count": 8,
   "metadata": {},
   "outputs": [
    {
     "name": "stdout",
     "output_type": "stream",
     "text": [
      "['X', 'Y'] [10, 10]\n"
     ]
    }
   ],
   "source": [
    "h5_pos_inds = h5_main.h5_pos_inds\n",
    "pos_dims = h5_main.pos_dim_sizes\n",
    "pos_labels = h5_main.pos_dim_labels\n",
    "print(pos_labels, pos_dims)\n",
    "\n",
    "parm_dict = h5_file['/Measurement_000'].attrs\n",
    "is_ckpfm = True\n",
    "\n",
    "num_write_steps = parm_dict['VS_num_DC_write_steps']\n",
    "num_read_steps = parm_dict['VS_num_read_steps']\n",
    "num_fields = 2"
   ]
  },
  {
   "cell_type": "markdown",
   "metadata": {},
   "source": [
    "## Visualize the raw data\n",
    "Use the sliders below to visualize spatial maps (2D only for now), and spectrograms.\n",
    "For simplicity, all the spectroscopic dimensions such as frequency, excitation bias, cycle, field, etc. have been collapsed to a single slider."
   ]
  },
  {
   "cell_type": "code",
   "execution_count": 9,
   "metadata": {
    "scrolled": false
   },
   "outputs": [
    {
     "name": "stdout",
     "output_type": "stream",
     "text": [
      "No position datasets found as attributes of /Measurement_000/Channel_000/Spectroscopic_Values\n"
     ]
    },
    {
     "data": {
      "application/javascript": [
       "/* Put everything inside the global mpl namespace */\n",
       "/* global mpl */\n",
       "window.mpl = {};\n",
       "\n",
       "mpl.get_websocket_type = function () {\n",
       "    if (typeof WebSocket !== 'undefined') {\n",
       "        return WebSocket;\n",
       "    } else if (typeof MozWebSocket !== 'undefined') {\n",
       "        return MozWebSocket;\n",
       "    } else {\n",
       "        alert(\n",
       "            'Your browser does not have WebSocket support. ' +\n",
       "                'Please try Chrome, Safari or Firefox ≥ 6. ' +\n",
       "                'Firefox 4 and 5 are also supported but you ' +\n",
       "                'have to enable WebSockets in about:config.'\n",
       "        );\n",
       "    }\n",
       "};\n",
       "\n",
       "mpl.figure = function (figure_id, websocket, ondownload, parent_element) {\n",
       "    this.id = figure_id;\n",
       "\n",
       "    this.ws = websocket;\n",
       "\n",
       "    this.supports_binary = this.ws.binaryType !== undefined;\n",
       "\n",
       "    if (!this.supports_binary) {\n",
       "        var warnings = document.getElementById('mpl-warnings');\n",
       "        if (warnings) {\n",
       "            warnings.style.display = 'block';\n",
       "            warnings.textContent =\n",
       "                'This browser does not support binary websocket messages. ' +\n",
       "                'Performance may be slow.';\n",
       "        }\n",
       "    }\n",
       "\n",
       "    this.imageObj = new Image();\n",
       "\n",
       "    this.context = undefined;\n",
       "    this.message = undefined;\n",
       "    this.canvas = undefined;\n",
       "    this.rubberband_canvas = undefined;\n",
       "    this.rubberband_context = undefined;\n",
       "    this.format_dropdown = undefined;\n",
       "\n",
       "    this.image_mode = 'full';\n",
       "\n",
       "    this.root = document.createElement('div');\n",
       "    this.root.setAttribute('style', 'display: inline-block');\n",
       "    this._root_extra_style(this.root);\n",
       "\n",
       "    parent_element.appendChild(this.root);\n",
       "\n",
       "    this._init_header(this);\n",
       "    this._init_canvas(this);\n",
       "    this._init_toolbar(this);\n",
       "\n",
       "    var fig = this;\n",
       "\n",
       "    this.waiting = false;\n",
       "\n",
       "    this.ws.onopen = function () {\n",
       "        fig.send_message('supports_binary', { value: fig.supports_binary });\n",
       "        fig.send_message('send_image_mode', {});\n",
       "        if (fig.ratio !== 1) {\n",
       "            fig.send_message('set_dpi_ratio', { dpi_ratio: fig.ratio });\n",
       "        }\n",
       "        fig.send_message('refresh', {});\n",
       "    };\n",
       "\n",
       "    this.imageObj.onload = function () {\n",
       "        if (fig.image_mode === 'full') {\n",
       "            // Full images could contain transparency (where diff images\n",
       "            // almost always do), so we need to clear the canvas so that\n",
       "            // there is no ghosting.\n",
       "            fig.context.clearRect(0, 0, fig.canvas.width, fig.canvas.height);\n",
       "        }\n",
       "        fig.context.drawImage(fig.imageObj, 0, 0);\n",
       "    };\n",
       "\n",
       "    this.imageObj.onunload = function () {\n",
       "        fig.ws.close();\n",
       "    };\n",
       "\n",
       "    this.ws.onmessage = this._make_on_message_function(this);\n",
       "\n",
       "    this.ondownload = ondownload;\n",
       "};\n",
       "\n",
       "mpl.figure.prototype._init_header = function () {\n",
       "    var titlebar = document.createElement('div');\n",
       "    titlebar.classList =\n",
       "        'ui-dialog-titlebar ui-widget-header ui-corner-all ui-helper-clearfix';\n",
       "    var titletext = document.createElement('div');\n",
       "    titletext.classList = 'ui-dialog-title';\n",
       "    titletext.setAttribute(\n",
       "        'style',\n",
       "        'width: 100%; text-align: center; padding: 3px;'\n",
       "    );\n",
       "    titlebar.appendChild(titletext);\n",
       "    this.root.appendChild(titlebar);\n",
       "    this.header = titletext;\n",
       "};\n",
       "\n",
       "mpl.figure.prototype._canvas_extra_style = function (_canvas_div) {};\n",
       "\n",
       "mpl.figure.prototype._root_extra_style = function (_canvas_div) {};\n",
       "\n",
       "mpl.figure.prototype._init_canvas = function () {\n",
       "    var fig = this;\n",
       "\n",
       "    var canvas_div = (this.canvas_div = document.createElement('div'));\n",
       "    canvas_div.setAttribute(\n",
       "        'style',\n",
       "        'border: 1px solid #ddd;' +\n",
       "            'box-sizing: content-box;' +\n",
       "            'clear: both;' +\n",
       "            'min-height: 1px;' +\n",
       "            'min-width: 1px;' +\n",
       "            'outline: 0;' +\n",
       "            'overflow: hidden;' +\n",
       "            'position: relative;' +\n",
       "            'resize: both;'\n",
       "    );\n",
       "\n",
       "    function on_keyboard_event_closure(name) {\n",
       "        return function (event) {\n",
       "            return fig.key_event(event, name);\n",
       "        };\n",
       "    }\n",
       "\n",
       "    canvas_div.addEventListener(\n",
       "        'keydown',\n",
       "        on_keyboard_event_closure('key_press')\n",
       "    );\n",
       "    canvas_div.addEventListener(\n",
       "        'keyup',\n",
       "        on_keyboard_event_closure('key_release')\n",
       "    );\n",
       "\n",
       "    this._canvas_extra_style(canvas_div);\n",
       "    this.root.appendChild(canvas_div);\n",
       "\n",
       "    var canvas = (this.canvas = document.createElement('canvas'));\n",
       "    canvas.classList.add('mpl-canvas');\n",
       "    canvas.setAttribute('style', 'box-sizing: content-box;');\n",
       "\n",
       "    this.context = canvas.getContext('2d');\n",
       "\n",
       "    var backingStore =\n",
       "        this.context.backingStorePixelRatio ||\n",
       "        this.context.webkitBackingStorePixelRatio ||\n",
       "        this.context.mozBackingStorePixelRatio ||\n",
       "        this.context.msBackingStorePixelRatio ||\n",
       "        this.context.oBackingStorePixelRatio ||\n",
       "        this.context.backingStorePixelRatio ||\n",
       "        1;\n",
       "\n",
       "    this.ratio = (window.devicePixelRatio || 1) / backingStore;\n",
       "\n",
       "    var rubberband_canvas = (this.rubberband_canvas = document.createElement(\n",
       "        'canvas'\n",
       "    ));\n",
       "    rubberband_canvas.setAttribute(\n",
       "        'style',\n",
       "        'box-sizing: content-box; position: absolute; left: 0; top: 0; z-index: 1;'\n",
       "    );\n",
       "\n",
       "    // Apply a ponyfill if ResizeObserver is not implemented by browser.\n",
       "    if (this.ResizeObserver === undefined) {\n",
       "        if (window.ResizeObserver !== undefined) {\n",
       "            this.ResizeObserver = window.ResizeObserver;\n",
       "        } else {\n",
       "            var obs = _JSXTOOLS_RESIZE_OBSERVER({});\n",
       "            this.ResizeObserver = obs.ResizeObserver;\n",
       "        }\n",
       "    }\n",
       "\n",
       "    this.resizeObserverInstance = new this.ResizeObserver(function (entries) {\n",
       "        var nentries = entries.length;\n",
       "        for (var i = 0; i < nentries; i++) {\n",
       "            var entry = entries[i];\n",
       "            var width, height;\n",
       "            if (entry.contentBoxSize) {\n",
       "                if (entry.contentBoxSize instanceof Array) {\n",
       "                    // Chrome 84 implements new version of spec.\n",
       "                    width = entry.contentBoxSize[0].inlineSize;\n",
       "                    height = entry.contentBoxSize[0].blockSize;\n",
       "                } else {\n",
       "                    // Firefox implements old version of spec.\n",
       "                    width = entry.contentBoxSize.inlineSize;\n",
       "                    height = entry.contentBoxSize.blockSize;\n",
       "                }\n",
       "            } else {\n",
       "                // Chrome <84 implements even older version of spec.\n",
       "                width = entry.contentRect.width;\n",
       "                height = entry.contentRect.height;\n",
       "            }\n",
       "\n",
       "            // Keep the size of the canvas and rubber band canvas in sync with\n",
       "            // the canvas container.\n",
       "            if (entry.devicePixelContentBoxSize) {\n",
       "                // Chrome 84 implements new version of spec.\n",
       "                canvas.setAttribute(\n",
       "                    'width',\n",
       "                    entry.devicePixelContentBoxSize[0].inlineSize\n",
       "                );\n",
       "                canvas.setAttribute(\n",
       "                    'height',\n",
       "                    entry.devicePixelContentBoxSize[0].blockSize\n",
       "                );\n",
       "            } else {\n",
       "                canvas.setAttribute('width', width * fig.ratio);\n",
       "                canvas.setAttribute('height', height * fig.ratio);\n",
       "            }\n",
       "            canvas.setAttribute(\n",
       "                'style',\n",
       "                'width: ' + width + 'px; height: ' + height + 'px;'\n",
       "            );\n",
       "\n",
       "            rubberband_canvas.setAttribute('width', width);\n",
       "            rubberband_canvas.setAttribute('height', height);\n",
       "\n",
       "            // And update the size in Python. We ignore the initial 0/0 size\n",
       "            // that occurs as the element is placed into the DOM, which should\n",
       "            // otherwise not happen due to the minimum size styling.\n",
       "            if (fig.ws.readyState == 1 && width != 0 && height != 0) {\n",
       "                fig.request_resize(width, height);\n",
       "            }\n",
       "        }\n",
       "    });\n",
       "    this.resizeObserverInstance.observe(canvas_div);\n",
       "\n",
       "    function on_mouse_event_closure(name) {\n",
       "        return function (event) {\n",
       "            return fig.mouse_event(event, name);\n",
       "        };\n",
       "    }\n",
       "\n",
       "    rubberband_canvas.addEventListener(\n",
       "        'mousedown',\n",
       "        on_mouse_event_closure('button_press')\n",
       "    );\n",
       "    rubberband_canvas.addEventListener(\n",
       "        'mouseup',\n",
       "        on_mouse_event_closure('button_release')\n",
       "    );\n",
       "    // Throttle sequential mouse events to 1 every 20ms.\n",
       "    rubberband_canvas.addEventListener(\n",
       "        'mousemove',\n",
       "        on_mouse_event_closure('motion_notify')\n",
       "    );\n",
       "\n",
       "    rubberband_canvas.addEventListener(\n",
       "        'mouseenter',\n",
       "        on_mouse_event_closure('figure_enter')\n",
       "    );\n",
       "    rubberband_canvas.addEventListener(\n",
       "        'mouseleave',\n",
       "        on_mouse_event_closure('figure_leave')\n",
       "    );\n",
       "\n",
       "    canvas_div.addEventListener('wheel', function (event) {\n",
       "        if (event.deltaY < 0) {\n",
       "            event.step = 1;\n",
       "        } else {\n",
       "            event.step = -1;\n",
       "        }\n",
       "        on_mouse_event_closure('scroll')(event);\n",
       "    });\n",
       "\n",
       "    canvas_div.appendChild(canvas);\n",
       "    canvas_div.appendChild(rubberband_canvas);\n",
       "\n",
       "    this.rubberband_context = rubberband_canvas.getContext('2d');\n",
       "    this.rubberband_context.strokeStyle = '#000000';\n",
       "\n",
       "    this._resize_canvas = function (width, height, forward) {\n",
       "        if (forward) {\n",
       "            canvas_div.style.width = width + 'px';\n",
       "            canvas_div.style.height = height + 'px';\n",
       "        }\n",
       "    };\n",
       "\n",
       "    // Disable right mouse context menu.\n",
       "    this.rubberband_canvas.addEventListener('contextmenu', function (_e) {\n",
       "        event.preventDefault();\n",
       "        return false;\n",
       "    });\n",
       "\n",
       "    function set_focus() {\n",
       "        canvas.focus();\n",
       "        canvas_div.focus();\n",
       "    }\n",
       "\n",
       "    window.setTimeout(set_focus, 100);\n",
       "};\n",
       "\n",
       "mpl.figure.prototype._init_toolbar = function () {\n",
       "    var fig = this;\n",
       "\n",
       "    var toolbar = document.createElement('div');\n",
       "    toolbar.classList = 'mpl-toolbar';\n",
       "    this.root.appendChild(toolbar);\n",
       "\n",
       "    function on_click_closure(name) {\n",
       "        return function (_event) {\n",
       "            return fig.toolbar_button_onclick(name);\n",
       "        };\n",
       "    }\n",
       "\n",
       "    function on_mouseover_closure(tooltip) {\n",
       "        return function (event) {\n",
       "            if (!event.currentTarget.disabled) {\n",
       "                return fig.toolbar_button_onmouseover(tooltip);\n",
       "            }\n",
       "        };\n",
       "    }\n",
       "\n",
       "    fig.buttons = {};\n",
       "    var buttonGroup = document.createElement('div');\n",
       "    buttonGroup.classList = 'mpl-button-group';\n",
       "    for (var toolbar_ind in mpl.toolbar_items) {\n",
       "        var name = mpl.toolbar_items[toolbar_ind][0];\n",
       "        var tooltip = mpl.toolbar_items[toolbar_ind][1];\n",
       "        var image = mpl.toolbar_items[toolbar_ind][2];\n",
       "        var method_name = mpl.toolbar_items[toolbar_ind][3];\n",
       "\n",
       "        if (!name) {\n",
       "            /* Instead of a spacer, we start a new button group. */\n",
       "            if (buttonGroup.hasChildNodes()) {\n",
       "                toolbar.appendChild(buttonGroup);\n",
       "            }\n",
       "            buttonGroup = document.createElement('div');\n",
       "            buttonGroup.classList = 'mpl-button-group';\n",
       "            continue;\n",
       "        }\n",
       "\n",
       "        var button = (fig.buttons[name] = document.createElement('button'));\n",
       "        button.classList = 'mpl-widget';\n",
       "        button.setAttribute('role', 'button');\n",
       "        button.setAttribute('aria-disabled', 'false');\n",
       "        button.addEventListener('click', on_click_closure(method_name));\n",
       "        button.addEventListener('mouseover', on_mouseover_closure(tooltip));\n",
       "\n",
       "        var icon_img = document.createElement('img');\n",
       "        icon_img.src = '_images/' + image + '.png';\n",
       "        icon_img.srcset = '_images/' + image + '_large.png 2x';\n",
       "        icon_img.alt = tooltip;\n",
       "        button.appendChild(icon_img);\n",
       "\n",
       "        buttonGroup.appendChild(button);\n",
       "    }\n",
       "\n",
       "    if (buttonGroup.hasChildNodes()) {\n",
       "        toolbar.appendChild(buttonGroup);\n",
       "    }\n",
       "\n",
       "    var fmt_picker = document.createElement('select');\n",
       "    fmt_picker.classList = 'mpl-widget';\n",
       "    toolbar.appendChild(fmt_picker);\n",
       "    this.format_dropdown = fmt_picker;\n",
       "\n",
       "    for (var ind in mpl.extensions) {\n",
       "        var fmt = mpl.extensions[ind];\n",
       "        var option = document.createElement('option');\n",
       "        option.selected = fmt === mpl.default_extension;\n",
       "        option.innerHTML = fmt;\n",
       "        fmt_picker.appendChild(option);\n",
       "    }\n",
       "\n",
       "    var status_bar = document.createElement('span');\n",
       "    status_bar.classList = 'mpl-message';\n",
       "    toolbar.appendChild(status_bar);\n",
       "    this.message = status_bar;\n",
       "};\n",
       "\n",
       "mpl.figure.prototype.request_resize = function (x_pixels, y_pixels) {\n",
       "    // Request matplotlib to resize the figure. Matplotlib will then trigger a resize in the client,\n",
       "    // which will in turn request a refresh of the image.\n",
       "    this.send_message('resize', { width: x_pixels, height: y_pixels });\n",
       "};\n",
       "\n",
       "mpl.figure.prototype.send_message = function (type, properties) {\n",
       "    properties['type'] = type;\n",
       "    properties['figure_id'] = this.id;\n",
       "    this.ws.send(JSON.stringify(properties));\n",
       "};\n",
       "\n",
       "mpl.figure.prototype.send_draw_message = function () {\n",
       "    if (!this.waiting) {\n",
       "        this.waiting = true;\n",
       "        this.ws.send(JSON.stringify({ type: 'draw', figure_id: this.id }));\n",
       "    }\n",
       "};\n",
       "\n",
       "mpl.figure.prototype.handle_save = function (fig, _msg) {\n",
       "    var format_dropdown = fig.format_dropdown;\n",
       "    var format = format_dropdown.options[format_dropdown.selectedIndex].value;\n",
       "    fig.ondownload(fig, format);\n",
       "};\n",
       "\n",
       "mpl.figure.prototype.handle_resize = function (fig, msg) {\n",
       "    var size = msg['size'];\n",
       "    if (size[0] !== fig.canvas.width || size[1] !== fig.canvas.height) {\n",
       "        fig._resize_canvas(size[0], size[1], msg['forward']);\n",
       "        fig.send_message('refresh', {});\n",
       "    }\n",
       "};\n",
       "\n",
       "mpl.figure.prototype.handle_rubberband = function (fig, msg) {\n",
       "    var x0 = msg['x0'] / fig.ratio;\n",
       "    var y0 = (fig.canvas.height - msg['y0']) / fig.ratio;\n",
       "    var x1 = msg['x1'] / fig.ratio;\n",
       "    var y1 = (fig.canvas.height - msg['y1']) / fig.ratio;\n",
       "    x0 = Math.floor(x0) + 0.5;\n",
       "    y0 = Math.floor(y0) + 0.5;\n",
       "    x1 = Math.floor(x1) + 0.5;\n",
       "    y1 = Math.floor(y1) + 0.5;\n",
       "    var min_x = Math.min(x0, x1);\n",
       "    var min_y = Math.min(y0, y1);\n",
       "    var width = Math.abs(x1 - x0);\n",
       "    var height = Math.abs(y1 - y0);\n",
       "\n",
       "    fig.rubberband_context.clearRect(\n",
       "        0,\n",
       "        0,\n",
       "        fig.canvas.width / fig.ratio,\n",
       "        fig.canvas.height / fig.ratio\n",
       "    );\n",
       "\n",
       "    fig.rubberband_context.strokeRect(min_x, min_y, width, height);\n",
       "};\n",
       "\n",
       "mpl.figure.prototype.handle_figure_label = function (fig, msg) {\n",
       "    // Updates the figure title.\n",
       "    fig.header.textContent = msg['label'];\n",
       "};\n",
       "\n",
       "mpl.figure.prototype.handle_cursor = function (fig, msg) {\n",
       "    var cursor = msg['cursor'];\n",
       "    switch (cursor) {\n",
       "        case 0:\n",
       "            cursor = 'pointer';\n",
       "            break;\n",
       "        case 1:\n",
       "            cursor = 'default';\n",
       "            break;\n",
       "        case 2:\n",
       "            cursor = 'crosshair';\n",
       "            break;\n",
       "        case 3:\n",
       "            cursor = 'move';\n",
       "            break;\n",
       "    }\n",
       "    fig.rubberband_canvas.style.cursor = cursor;\n",
       "};\n",
       "\n",
       "mpl.figure.prototype.handle_message = function (fig, msg) {\n",
       "    fig.message.textContent = msg['message'];\n",
       "};\n",
       "\n",
       "mpl.figure.prototype.handle_draw = function (fig, _msg) {\n",
       "    // Request the server to send over a new figure.\n",
       "    fig.send_draw_message();\n",
       "};\n",
       "\n",
       "mpl.figure.prototype.handle_image_mode = function (fig, msg) {\n",
       "    fig.image_mode = msg['mode'];\n",
       "};\n",
       "\n",
       "mpl.figure.prototype.handle_history_buttons = function (fig, msg) {\n",
       "    for (var key in msg) {\n",
       "        if (!(key in fig.buttons)) {\n",
       "            continue;\n",
       "        }\n",
       "        fig.buttons[key].disabled = !msg[key];\n",
       "        fig.buttons[key].setAttribute('aria-disabled', !msg[key]);\n",
       "    }\n",
       "};\n",
       "\n",
       "mpl.figure.prototype.handle_navigate_mode = function (fig, msg) {\n",
       "    if (msg['mode'] === 'PAN') {\n",
       "        fig.buttons['Pan'].classList.add('active');\n",
       "        fig.buttons['Zoom'].classList.remove('active');\n",
       "    } else if (msg['mode'] === 'ZOOM') {\n",
       "        fig.buttons['Pan'].classList.remove('active');\n",
       "        fig.buttons['Zoom'].classList.add('active');\n",
       "    } else {\n",
       "        fig.buttons['Pan'].classList.remove('active');\n",
       "        fig.buttons['Zoom'].classList.remove('active');\n",
       "    }\n",
       "};\n",
       "\n",
       "mpl.figure.prototype.updated_canvas_event = function () {\n",
       "    // Called whenever the canvas gets updated.\n",
       "    this.send_message('ack', {});\n",
       "};\n",
       "\n",
       "// A function to construct a web socket function for onmessage handling.\n",
       "// Called in the figure constructor.\n",
       "mpl.figure.prototype._make_on_message_function = function (fig) {\n",
       "    return function socket_on_message(evt) {\n",
       "        if (evt.data instanceof Blob) {\n",
       "            /* FIXME: We get \"Resource interpreted as Image but\n",
       "             * transferred with MIME type text/plain:\" errors on\n",
       "             * Chrome.  But how to set the MIME type?  It doesn't seem\n",
       "             * to be part of the websocket stream */\n",
       "            evt.data.type = 'image/png';\n",
       "\n",
       "            /* Free the memory for the previous frames */\n",
       "            if (fig.imageObj.src) {\n",
       "                (window.URL || window.webkitURL).revokeObjectURL(\n",
       "                    fig.imageObj.src\n",
       "                );\n",
       "            }\n",
       "\n",
       "            fig.imageObj.src = (window.URL || window.webkitURL).createObjectURL(\n",
       "                evt.data\n",
       "            );\n",
       "            fig.updated_canvas_event();\n",
       "            fig.waiting = false;\n",
       "            return;\n",
       "        } else if (\n",
       "            typeof evt.data === 'string' &&\n",
       "            evt.data.slice(0, 21) === 'data:image/png;base64'\n",
       "        ) {\n",
       "            fig.imageObj.src = evt.data;\n",
       "            fig.updated_canvas_event();\n",
       "            fig.waiting = false;\n",
       "            return;\n",
       "        }\n",
       "\n",
       "        var msg = JSON.parse(evt.data);\n",
       "        var msg_type = msg['type'];\n",
       "\n",
       "        // Call the  \"handle_{type}\" callback, which takes\n",
       "        // the figure and JSON message as its only arguments.\n",
       "        try {\n",
       "            var callback = fig['handle_' + msg_type];\n",
       "        } catch (e) {\n",
       "            console.log(\n",
       "                \"No handler for the '\" + msg_type + \"' message type: \",\n",
       "                msg\n",
       "            );\n",
       "            return;\n",
       "        }\n",
       "\n",
       "        if (callback) {\n",
       "            try {\n",
       "                // console.log(\"Handling '\" + msg_type + \"' message: \", msg);\n",
       "                callback(fig, msg);\n",
       "            } catch (e) {\n",
       "                console.log(\n",
       "                    \"Exception inside the 'handler_\" + msg_type + \"' callback:\",\n",
       "                    e,\n",
       "                    e.stack,\n",
       "                    msg\n",
       "                );\n",
       "            }\n",
       "        }\n",
       "    };\n",
       "};\n",
       "\n",
       "// from http://stackoverflow.com/questions/1114465/getting-mouse-location-in-canvas\n",
       "mpl.findpos = function (e) {\n",
       "    //this section is from http://www.quirksmode.org/js/events_properties.html\n",
       "    var targ;\n",
       "    if (!e) {\n",
       "        e = window.event;\n",
       "    }\n",
       "    if (e.target) {\n",
       "        targ = e.target;\n",
       "    } else if (e.srcElement) {\n",
       "        targ = e.srcElement;\n",
       "    }\n",
       "    if (targ.nodeType === 3) {\n",
       "        // defeat Safari bug\n",
       "        targ = targ.parentNode;\n",
       "    }\n",
       "\n",
       "    // pageX,Y are the mouse positions relative to the document\n",
       "    var boundingRect = targ.getBoundingClientRect();\n",
       "    var x = e.pageX - (boundingRect.left + document.body.scrollLeft);\n",
       "    var y = e.pageY - (boundingRect.top + document.body.scrollTop);\n",
       "\n",
       "    return { x: x, y: y };\n",
       "};\n",
       "\n",
       "/*\n",
       " * return a copy of an object with only non-object keys\n",
       " * we need this to avoid circular references\n",
       " * http://stackoverflow.com/a/24161582/3208463\n",
       " */\n",
       "function simpleKeys(original) {\n",
       "    return Object.keys(original).reduce(function (obj, key) {\n",
       "        if (typeof original[key] !== 'object') {\n",
       "            obj[key] = original[key];\n",
       "        }\n",
       "        return obj;\n",
       "    }, {});\n",
       "}\n",
       "\n",
       "mpl.figure.prototype.mouse_event = function (event, name) {\n",
       "    var canvas_pos = mpl.findpos(event);\n",
       "\n",
       "    if (name === 'button_press') {\n",
       "        this.canvas.focus();\n",
       "        this.canvas_div.focus();\n",
       "    }\n",
       "\n",
       "    var x = canvas_pos.x * this.ratio;\n",
       "    var y = canvas_pos.y * this.ratio;\n",
       "\n",
       "    this.send_message(name, {\n",
       "        x: x,\n",
       "        y: y,\n",
       "        button: event.button,\n",
       "        step: event.step,\n",
       "        guiEvent: simpleKeys(event),\n",
       "    });\n",
       "\n",
       "    /* This prevents the web browser from automatically changing to\n",
       "     * the text insertion cursor when the button is pressed.  We want\n",
       "     * to control all of the cursor setting manually through the\n",
       "     * 'cursor' event from matplotlib */\n",
       "    event.preventDefault();\n",
       "    return false;\n",
       "};\n",
       "\n",
       "mpl.figure.prototype._key_event_extra = function (_event, _name) {\n",
       "    // Handle any extra behaviour associated with a key event\n",
       "};\n",
       "\n",
       "mpl.figure.prototype.key_event = function (event, name) {\n",
       "    // Prevent repeat events\n",
       "    if (name === 'key_press') {\n",
       "        if (event.which === this._key) {\n",
       "            return;\n",
       "        } else {\n",
       "            this._key = event.which;\n",
       "        }\n",
       "    }\n",
       "    if (name === 'key_release') {\n",
       "        this._key = null;\n",
       "    }\n",
       "\n",
       "    var value = '';\n",
       "    if (event.ctrlKey && event.which !== 17) {\n",
       "        value += 'ctrl+';\n",
       "    }\n",
       "    if (event.altKey && event.which !== 18) {\n",
       "        value += 'alt+';\n",
       "    }\n",
       "    if (event.shiftKey && event.which !== 16) {\n",
       "        value += 'shift+';\n",
       "    }\n",
       "\n",
       "    value += 'k';\n",
       "    value += event.which.toString();\n",
       "\n",
       "    this._key_event_extra(event, name);\n",
       "\n",
       "    this.send_message(name, { key: value, guiEvent: simpleKeys(event) });\n",
       "    return false;\n",
       "};\n",
       "\n",
       "mpl.figure.prototype.toolbar_button_onclick = function (name) {\n",
       "    if (name === 'download') {\n",
       "        this.handle_save(this, null);\n",
       "    } else {\n",
       "        this.send_message('toolbar_button', { name: name });\n",
       "    }\n",
       "};\n",
       "\n",
       "mpl.figure.prototype.toolbar_button_onmouseover = function (tooltip) {\n",
       "    this.message.textContent = tooltip;\n",
       "};\n",
       "\n",
       "///////////////// REMAINING CONTENT GENERATED BY embed_js.py /////////////////\n",
       "// prettier-ignore\n",
       "var _JSXTOOLS_RESIZE_OBSERVER=function(A){var t,i=new WeakMap,n=new WeakMap,a=new WeakMap,r=new WeakMap,o=new Set;function s(e){if(!(this instanceof s))throw new TypeError(\"Constructor requires 'new' operator\");i.set(this,e)}function h(){throw new TypeError(\"Function is not a constructor\")}function c(e,t,i,n){e=0 in arguments?Number(arguments[0]):0,t=1 in arguments?Number(arguments[1]):0,i=2 in arguments?Number(arguments[2]):0,n=3 in arguments?Number(arguments[3]):0,this.right=(this.x=this.left=e)+(this.width=i),this.bottom=(this.y=this.top=t)+(this.height=n),Object.freeze(this)}function d(){t=requestAnimationFrame(d);var s=new WeakMap,p=new Set;o.forEach((function(t){r.get(t).forEach((function(i){var r=t instanceof window.SVGElement,o=a.get(t),d=r?0:parseFloat(o.paddingTop),f=r?0:parseFloat(o.paddingRight),l=r?0:parseFloat(o.paddingBottom),u=r?0:parseFloat(o.paddingLeft),g=r?0:parseFloat(o.borderTopWidth),m=r?0:parseFloat(o.borderRightWidth),w=r?0:parseFloat(o.borderBottomWidth),b=u+f,F=d+l,v=(r?0:parseFloat(o.borderLeftWidth))+m,W=g+w,y=r?0:t.offsetHeight-W-t.clientHeight,E=r?0:t.offsetWidth-v-t.clientWidth,R=b+v,z=F+W,M=r?t.width:parseFloat(o.width)-R-E,O=r?t.height:parseFloat(o.height)-z-y;if(n.has(t)){var k=n.get(t);if(k[0]===M&&k[1]===O)return}n.set(t,[M,O]);var S=Object.create(h.prototype);S.target=t,S.contentRect=new c(u,d,M,O),s.has(i)||(s.set(i,[]),p.add(i)),s.get(i).push(S)}))})),p.forEach((function(e){i.get(e).call(e,s.get(e),e)}))}return s.prototype.observe=function(i){if(i instanceof window.Element){r.has(i)||(r.set(i,new Set),o.add(i),a.set(i,window.getComputedStyle(i)));var n=r.get(i);n.has(this)||n.add(this),cancelAnimationFrame(t),t=requestAnimationFrame(d)}},s.prototype.unobserve=function(i){if(i instanceof window.Element&&r.has(i)){var n=r.get(i);n.has(this)&&(n.delete(this),n.size||(r.delete(i),o.delete(i))),n.size||r.delete(i),o.size||cancelAnimationFrame(t)}},A.DOMRectReadOnly=c,A.ResizeObserver=s,A.ResizeObserverEntry=h,A}; // eslint-disable-line\n",
       "mpl.toolbar_items = [[\"Home\", \"Reset original view\", \"fa fa-home icon-home\", \"home\"], [\"Back\", \"Back to previous view\", \"fa fa-arrow-left icon-arrow-left\", \"back\"], [\"Forward\", \"Forward to next view\", \"fa fa-arrow-right icon-arrow-right\", \"forward\"], [\"\", \"\", \"\", \"\"], [\"Pan\", \"Left button pans, Right button zooms\\nx/y fixes axis, CTRL fixes aspect\", \"fa fa-arrows icon-move\", \"pan\"], [\"Zoom\", \"Zoom to rectangle\\nx/y fixes axis, CTRL fixes aspect\", \"fa fa-square-o icon-check-empty\", \"zoom\"], [\"\", \"\", \"\", \"\"], [\"Download\", \"Download plot\", \"fa fa-floppy-o icon-save\", \"download\"]];\n",
       "\n",
       "mpl.extensions = [\"eps\", \"jpeg\", \"pdf\", \"png\", \"ps\", \"raw\", \"svg\", \"tif\"];\n",
       "\n",
       "mpl.default_extension = \"png\";/* global mpl */\n",
       "\n",
       "var comm_websocket_adapter = function (comm) {\n",
       "    // Create a \"websocket\"-like object which calls the given IPython comm\n",
       "    // object with the appropriate methods. Currently this is a non binary\n",
       "    // socket, so there is still some room for performance tuning.\n",
       "    var ws = {};\n",
       "\n",
       "    ws.close = function () {\n",
       "        comm.close();\n",
       "    };\n",
       "    ws.send = function (m) {\n",
       "        //console.log('sending', m);\n",
       "        comm.send(m);\n",
       "    };\n",
       "    // Register the callback with on_msg.\n",
       "    comm.on_msg(function (msg) {\n",
       "        //console.log('receiving', msg['content']['data'], msg);\n",
       "        // Pass the mpl event to the overridden (by mpl) onmessage function.\n",
       "        ws.onmessage(msg['content']['data']);\n",
       "    });\n",
       "    return ws;\n",
       "};\n",
       "\n",
       "mpl.mpl_figure_comm = function (comm, msg) {\n",
       "    // This is the function which gets called when the mpl process\n",
       "    // starts-up an IPython Comm through the \"matplotlib\" channel.\n",
       "\n",
       "    var id = msg.content.data.id;\n",
       "    // Get hold of the div created by the display call when the Comm\n",
       "    // socket was opened in Python.\n",
       "    var element = document.getElementById(id);\n",
       "    var ws_proxy = comm_websocket_adapter(comm);\n",
       "\n",
       "    function ondownload(figure, _format) {\n",
       "        window.open(figure.canvas.toDataURL());\n",
       "    }\n",
       "\n",
       "    var fig = new mpl.figure(id, ws_proxy, ondownload, element);\n",
       "\n",
       "    // Call onopen now - mpl needs it, as it is assuming we've passed it a real\n",
       "    // web socket which is closed, not our websocket->open comm proxy.\n",
       "    ws_proxy.onopen();\n",
       "\n",
       "    fig.parent_element = element;\n",
       "    fig.cell_info = mpl.find_output_cell(\"<div id='\" + id + \"'></div>\");\n",
       "    if (!fig.cell_info) {\n",
       "        console.error('Failed to find cell for figure', id, fig);\n",
       "        return;\n",
       "    }\n",
       "    fig.cell_info[0].output_area.element.on(\n",
       "        'cleared',\n",
       "        { fig: fig },\n",
       "        fig._remove_fig_handler\n",
       "    );\n",
       "};\n",
       "\n",
       "mpl.figure.prototype.handle_close = function (fig, msg) {\n",
       "    var width = fig.canvas.width / fig.ratio;\n",
       "    fig.cell_info[0].output_area.element.off(\n",
       "        'cleared',\n",
       "        fig._remove_fig_handler\n",
       "    );\n",
       "    fig.resizeObserverInstance.unobserve(fig.canvas_div);\n",
       "\n",
       "    // Update the output cell to use the data from the current canvas.\n",
       "    fig.push_to_output();\n",
       "    var dataURL = fig.canvas.toDataURL();\n",
       "    // Re-enable the keyboard manager in IPython - without this line, in FF,\n",
       "    // the notebook keyboard shortcuts fail.\n",
       "    IPython.keyboard_manager.enable();\n",
       "    fig.parent_element.innerHTML =\n",
       "        '<img src=\"' + dataURL + '\" width=\"' + width + '\">';\n",
       "    fig.close_ws(fig, msg);\n",
       "};\n",
       "\n",
       "mpl.figure.prototype.close_ws = function (fig, msg) {\n",
       "    fig.send_message('closing', msg);\n",
       "    // fig.ws.close()\n",
       "};\n",
       "\n",
       "mpl.figure.prototype.push_to_output = function (_remove_interactive) {\n",
       "    // Turn the data on the canvas into data in the output cell.\n",
       "    var width = this.canvas.width / this.ratio;\n",
       "    var dataURL = this.canvas.toDataURL();\n",
       "    this.cell_info[1]['text/html'] =\n",
       "        '<img src=\"' + dataURL + '\" width=\"' + width + '\">';\n",
       "};\n",
       "\n",
       "mpl.figure.prototype.updated_canvas_event = function () {\n",
       "    // Tell IPython that the notebook contents must change.\n",
       "    IPython.notebook.set_dirty(true);\n",
       "    this.send_message('ack', {});\n",
       "    var fig = this;\n",
       "    // Wait a second, then push the new image to the DOM so\n",
       "    // that it is saved nicely (might be nice to debounce this).\n",
       "    setTimeout(function () {\n",
       "        fig.push_to_output();\n",
       "    }, 1000);\n",
       "};\n",
       "\n",
       "mpl.figure.prototype._init_toolbar = function () {\n",
       "    var fig = this;\n",
       "\n",
       "    var toolbar = document.createElement('div');\n",
       "    toolbar.classList = 'btn-toolbar';\n",
       "    this.root.appendChild(toolbar);\n",
       "\n",
       "    function on_click_closure(name) {\n",
       "        return function (_event) {\n",
       "            return fig.toolbar_button_onclick(name);\n",
       "        };\n",
       "    }\n",
       "\n",
       "    function on_mouseover_closure(tooltip) {\n",
       "        return function (event) {\n",
       "            if (!event.currentTarget.disabled) {\n",
       "                return fig.toolbar_button_onmouseover(tooltip);\n",
       "            }\n",
       "        };\n",
       "    }\n",
       "\n",
       "    fig.buttons = {};\n",
       "    var buttonGroup = document.createElement('div');\n",
       "    buttonGroup.classList = 'btn-group';\n",
       "    var button;\n",
       "    for (var toolbar_ind in mpl.toolbar_items) {\n",
       "        var name = mpl.toolbar_items[toolbar_ind][0];\n",
       "        var tooltip = mpl.toolbar_items[toolbar_ind][1];\n",
       "        var image = mpl.toolbar_items[toolbar_ind][2];\n",
       "        var method_name = mpl.toolbar_items[toolbar_ind][3];\n",
       "\n",
       "        if (!name) {\n",
       "            /* Instead of a spacer, we start a new button group. */\n",
       "            if (buttonGroup.hasChildNodes()) {\n",
       "                toolbar.appendChild(buttonGroup);\n",
       "            }\n",
       "            buttonGroup = document.createElement('div');\n",
       "            buttonGroup.classList = 'btn-group';\n",
       "            continue;\n",
       "        }\n",
       "\n",
       "        button = fig.buttons[name] = document.createElement('button');\n",
       "        button.classList = 'btn btn-default';\n",
       "        button.href = '#';\n",
       "        button.title = name;\n",
       "        button.innerHTML = '<i class=\"fa ' + image + ' fa-lg\"></i>';\n",
       "        button.addEventListener('click', on_click_closure(method_name));\n",
       "        button.addEventListener('mouseover', on_mouseover_closure(tooltip));\n",
       "        buttonGroup.appendChild(button);\n",
       "    }\n",
       "\n",
       "    if (buttonGroup.hasChildNodes()) {\n",
       "        toolbar.appendChild(buttonGroup);\n",
       "    }\n",
       "\n",
       "    // Add the status bar.\n",
       "    var status_bar = document.createElement('span');\n",
       "    status_bar.classList = 'mpl-message pull-right';\n",
       "    toolbar.appendChild(status_bar);\n",
       "    this.message = status_bar;\n",
       "\n",
       "    // Add the close button to the window.\n",
       "    var buttongrp = document.createElement('div');\n",
       "    buttongrp.classList = 'btn-group inline pull-right';\n",
       "    button = document.createElement('button');\n",
       "    button.classList = 'btn btn-mini btn-primary';\n",
       "    button.href = '#';\n",
       "    button.title = 'Stop Interaction';\n",
       "    button.innerHTML = '<i class=\"fa fa-power-off icon-remove icon-large\"></i>';\n",
       "    button.addEventListener('click', function (_evt) {\n",
       "        fig.handle_close(fig, {});\n",
       "    });\n",
       "    button.addEventListener(\n",
       "        'mouseover',\n",
       "        on_mouseover_closure('Stop Interaction')\n",
       "    );\n",
       "    buttongrp.appendChild(button);\n",
       "    var titlebar = this.root.querySelector('.ui-dialog-titlebar');\n",
       "    titlebar.insertBefore(buttongrp, titlebar.firstChild);\n",
       "};\n",
       "\n",
       "mpl.figure.prototype._remove_fig_handler = function (event) {\n",
       "    var fig = event.data.fig;\n",
       "    if (event.target !== this) {\n",
       "        // Ignore bubbled events from children.\n",
       "        return;\n",
       "    }\n",
       "    fig.close_ws(fig, {});\n",
       "};\n",
       "\n",
       "mpl.figure.prototype._root_extra_style = function (el) {\n",
       "    el.style.boxSizing = 'content-box'; // override notebook setting of border-box.\n",
       "};\n",
       "\n",
       "mpl.figure.prototype._canvas_extra_style = function (el) {\n",
       "    // this is important to make the div 'focusable\n",
       "    el.setAttribute('tabindex', 0);\n",
       "    // reach out to IPython and tell the keyboard manager to turn it's self\n",
       "    // off when our div gets focus\n",
       "\n",
       "    // location in version 3\n",
       "    if (IPython.notebook.keyboard_manager) {\n",
       "        IPython.notebook.keyboard_manager.register_events(el);\n",
       "    } else {\n",
       "        // location in version 2\n",
       "        IPython.keyboard_manager.register_events(el);\n",
       "    }\n",
       "};\n",
       "\n",
       "mpl.figure.prototype._key_event_extra = function (event, _name) {\n",
       "    var manager = IPython.notebook.keyboard_manager;\n",
       "    if (!manager) {\n",
       "        manager = IPython.keyboard_manager;\n",
       "    }\n",
       "\n",
       "    // Check for shift+enter\n",
       "    if (event.shiftKey && event.which === 13) {\n",
       "        this.canvas_div.blur();\n",
       "        // select the cell after this one\n",
       "        var index = IPython.notebook.find_cell_index(this.cell_info[0]);\n",
       "        IPython.notebook.select(index + 1);\n",
       "    }\n",
       "};\n",
       "\n",
       "mpl.figure.prototype.handle_save = function (fig, _msg) {\n",
       "    fig.ondownload(fig, null);\n",
       "};\n",
       "\n",
       "mpl.find_output_cell = function (html_output) {\n",
       "    // Return the cell and output element which can be found *uniquely* in the notebook.\n",
       "    // Note - this is a bit hacky, but it is done because the \"notebook_saving.Notebook\"\n",
       "    // IPython event is triggered only after the cells have been serialised, which for\n",
       "    // our purposes (turning an active figure into a static one), is too late.\n",
       "    var cells = IPython.notebook.get_cells();\n",
       "    var ncells = cells.length;\n",
       "    for (var i = 0; i < ncells; i++) {\n",
       "        var cell = cells[i];\n",
       "        if (cell.cell_type === 'code') {\n",
       "            for (var j = 0; j < cell.output_area.outputs.length; j++) {\n",
       "                var data = cell.output_area.outputs[j];\n",
       "                if (data.data) {\n",
       "                    // IPython >= 3 moved mimebundle to data attribute of output\n",
       "                    data = data.data;\n",
       "                }\n",
       "                if (data['text/html'] === html_output) {\n",
       "                    return [cell, data, j];\n",
       "                }\n",
       "            }\n",
       "        }\n",
       "    }\n",
       "};\n",
       "\n",
       "// Register the function which deals with the matplotlib target/channel.\n",
       "// The kernel may be null if the page has been refreshed.\n",
       "if (IPython.notebook.kernel !== null) {\n",
       "    IPython.notebook.kernel.comm_manager.register_target(\n",
       "        'matplotlib',\n",
       "        mpl.mpl_figure_comm\n",
       "    );\n",
       "}\n"
      ],
      "text/plain": [
       "<IPython.core.display.Javascript object>"
      ]
     },
     "metadata": {},
     "output_type": "display_data"
    },
    {
     "data": {
      "text/html": [
       "<img src=\"data:image/png;base64,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\" width=\"1200\">"
      ],
      "text/plain": [
       "<IPython.core.display.HTML object>"
      ]
     },
     "metadata": {},
     "output_type": "display_data"
    },
    {
     "data": {
      "application/vnd.jupyter.widget-view+json": {
       "model_id": "152651dae5074d6098961e4df188b710",
       "version_major": 2,
       "version_minor": 0
      },
      "text/plain": [
       "HBox(children=(Text(value='BEcKPFM_2um_0012.png', description='Output Filename:', layout=Layout(width='50%'), …"
      ]
     },
     "metadata": {},
     "output_type": "display_data"
    },
    {
     "data": {
      "application/vnd.jupyter.widget-view+json": {
       "model_id": "aff983a27acf4e14aed0fdb5a41b2e4e",
       "version_major": 2,
       "version_minor": 0
      },
      "text/plain": [
       "interactive(children=(IntSlider(value=0, description='Step', max=54560), Output()), _dom_classes=('widget-inte…"
      ]
     },
     "metadata": {},
     "output_type": "display_data"
    }
   ],
   "source": [
    "fig = belib.viz.be_viz_utils.jupyter_visualize_be_spectrograms(h5_main)"
   ]
  },
  {
   "cell_type": "code",
   "execution_count": 10,
   "metadata": {},
   "outputs": [
    {
     "data": {
      "text/plain": [
       "<HDF5 dataset \"Raw_Data\": shape (100, 54560), type \"<c8\">\n",
       "located at: \n",
       "\t/Measurement_000/Channel_000/Raw_Data \n",
       "Data contains: \n",
       "\tquantity (a.u.) \n",
       "Data dimensions and original shape: \n",
       "Position Dimensions: \n",
       "\tX - size: 10 \n",
       "\tY - size: 10 \n",
       "Spectroscopic Dimensions: \n",
       "\tFrequency - size: 124 \n",
       "\tField - size: 2 \n",
       "\twrite_bias - size: 20 \n",
       "\tread_bias - size: 11\n",
       "Data Type:\n",
       "\tcomplex64"
      ]
     },
     "execution_count": 10,
     "metadata": {},
     "output_type": "execute_result"
    }
   ],
   "source": [
    "h5_main"
   ]
  },
  {
   "cell_type": "markdown",
   "metadata": {},
   "source": [
    "## Fit the Band Excitation (BE) spectra\n",
    "Fit each of the acquired spectra to a simple harmonic oscillator (SHO) model to extract the following information regarding the response:\n",
    "* Oscillation amplitude\n",
    "* Phase\n",
    "* Resonance frequency\n",
    "* Quality factor\n",
    "\n",
    "By default, the cell below will take any previous result instead of re-computing the SHO fit"
   ]
  },
  {
   "cell_type": "code",
   "execution_count": 11,
   "metadata": {
    "scrolled": false
   },
   "outputs": [
    {
     "name": "stdout",
     "output_type": "stream",
     "text": [
      "Consider calling test() to check results before calling compute() which computes on the entire dataset and writes results to the HDF5 file\n",
      "Group: <HDF5 group \"/Measurement_000/Channel_000/Raw_Data-SHO_Fit_000\" (3 members)> had neither the status HDF5 dataset or the legacy attribute: \"last_pixel\".\n",
      "\n",
      "Note: SHO_Fit has already been performed with the same parameters before. These results will be returned by compute() by default. Set override to True to force fresh computation\n",
      "\n",
      "[<HDF5 group \"/Measurement_000/Channel_000/Raw_Data-SHO_Fit_001\" (7 members)>]\n",
      "\n",
      "Note: SHO_Fit has already been performed with the same parameters before. These results will be returned by compute() by default. Set override to True to force fresh computation\n",
      "\n",
      "[<HDF5 group \"/Measurement_000/Channel_000/Raw_Data-SHO_Fit_001\" (7 members)>]\n",
      "Returned previously computed results at /Measurement_000/Channel_000/Raw_Data-SHO_Fit_001\n",
      "\n",
      "Note: SHO_Fit has already been performed with the same parameters before. These results will be returned by compute() by default. Set override to True to force fresh computation\n",
      "\n",
      "[<HDF5 group \"/Measurement_000/Channel_000/Raw_Data-SHO_Fit_001\" (7 members)>]\n",
      "Returned previously computed results at /Measurement_000/Channel_000/Raw_Data-SHO_Fit_001\n"
     ]
    }
   ],
   "source": [
    "sho_fit_points = 5  # The number of data points at each step to use when fitting\n",
    "sho_override = False  # Force recompute if True\n",
    "results_to_new_file = False\n",
    "\n",
    "h5_sho_targ_grp = None\n",
    "if results_to_new_file:\n",
    "    h5_sho_file_path = os.path.join(folder_path, \n",
    "                                h5_raw_file_name.replace('.h5', '_sho_fit.h5'))\n",
    "    print('\\n\\nSHO Fits will be written to:\\n' + h5_sho_file_path + '\\n\\n')\n",
    "    f_open_mode = 'w'\n",
    "    if os.path.exists(h5_sho_file_path):\n",
    "        f_open_mode = 'r+'\n",
    "    h5_sho_file = h5py.File(h5_sho_file_path, mode=f_open_mode)\n",
    "    h5_sho_targ_grp = h5_sho_file\n",
    "    \n",
    "sho_fitter = belib.analysis.BESHOfitter(h5_main, cores=max_cores, verbose=False, h5_target_group=h5_sho_targ_grp)\n",
    "sho_fitter.set_up_guess(guess_func=belib.analysis.be_sho_fitter.SHOGuessFunc.complex_gaussian,\n",
    "                        num_points=sho_fit_points)\n",
    "h5_sho_guess = sho_fitter.do_guess(override=sho_override)\n",
    "sho_fitter.set_up_fit()\n",
    "h5_sho_fit = sho_fitter.do_fit(override=sho_override)\n",
    "h5_sho_grp = h5_sho_fit.parent"
   ]
  },
  {
   "cell_type": "markdown",
   "metadata": {},
   "source": [
    "# cKPFM data analysis\n",
    "\n",
    "- Specify the output file path where the figures should be saved to.\n",
    "- Set high_voltage_amplf to 10 if a high voltage amplifier was used, otherwise set to 1"
   ]
  },
  {
   "cell_type": "code",
   "execution_count": 12,
   "metadata": {},
   "outputs": [],
   "source": [
    "# Specify output file path, default is the same directory as the data\n",
    "output_file_path = data_dir\n",
    "\n",
    "# If HV amplifier was used set high_voltage_amplf to 10, else to 1\n",
    "high_voltage_amplf = 1\n"
   ]
  },
  {
   "cell_type": "markdown",
   "metadata": {},
   "source": [
    "## Remove phase offset\n",
    "\n",
    "If removing the instrumental phase offset is not desired, set phase_offset = 0"
   ]
  },
  {
   "cell_type": "code",
   "execution_count": 13,
   "metadata": {},
   "outputs": [
    {
     "name": "stdout",
     "output_type": "stream",
     "text": [
      "Nd_mat shape =  (10, 10, 2, 20, 11)\n",
      "Phase offset [rad] =  -0.3490023\n"
     ]
    }
   ],
   "source": [
    "Nd_mat = h5_sho_fit.get_n_dim_form()\n",
    "print('Nd_mat shape = ', Nd_mat.shape)\n",
    "\n",
    "phase_offset = Nd_mat[0, 0, 1, 0, 0]['Phase [rad]']\n",
    "\n",
    "print('Phase offset [rad] = ', phase_offset)\n",
    "\n",
    "Nd_mat[:,:,:,:,:]['Phase [rad]'] = Nd_mat[:,:,:,:,:]['Phase [rad]'] - phase_offset\n"
   ]
  },
  {
   "cell_type": "markdown",
   "metadata": {},
   "source": [
    "## Display cKPFM data\n",
    "The figure shows:\n",
    "\n",
    "- Read and write voltage steps with the selected step marked as a red dot\n",
    "- Response map at read and write voltage steps selected with sliders\n",
    "- Real component of the response at selected read and write steps and x/y coordinates <b> -> select option</b>\n",
    "- Response at each write step (x-axis) after each write pulse (color coded)\n",
    "\n",
    "The 'Save figure' button saves the displayed figure in the above specified output file path as tiff, png and eps file. Alternatively, figures can be copy pasted into other programs like Powerpoint or Word.\n",
    "\n",
    "#### Select display option by setting 'option = 1' or 'option = 2' in the second line of the code\n",
    "- Option 1: display response curves from the maximum write step to the minimum write step\n",
    "- Option 2: display response curves from all write voltages"
   ]
  },
  {
   "cell_type": "code",
   "execution_count": 14,
   "metadata": {},
   "outputs": [],
   "source": [
    "def plot_line_family(axis, x_vec, line_family, line_names=None, label_prefix='', label_suffix='',\n",
    "                     y_offset=0, show_cbar=False, **kwargs):\n",
    "    \"\"\"\n",
    "    Plots a family of lines with a sequence of colors\n",
    "\n",
    "    Parameters\n",
    "    ----------\n",
    "    axis : matplotlib.axes.Axes object\n",
    "        Axis to plot the curve\n",
    "    x_vec : array-like\n",
    "        Values to plot against\n",
    "    line_family : 2D numpy array\n",
    "        family of curves arranged as [curve_index, features]\n",
    "    line_names : array-like\n",
    "        array of string or numbers that represent the identity of each curve in the family\n",
    "    label_prefix : string / unicode\n",
    "        prefix for the legend (before the index of the curve)\n",
    "    label_suffix : string / unicode\n",
    "        suffix for the legend (after the index of the curve)\n",
    "    y_offset : (optional) number\n",
    "        quantity by which the lines are offset from each other vertically (useful for spectra)\n",
    "    show_cbar : (optional) bool\n",
    "        Whether or not to show a colorbar (instead of a legend)\n",
    "\n",
    "    \"\"\"\n",
    "    \n",
    "    x_vec = np.array(x_vec)\n",
    "    #assert x_vec.ndim == 1, 'x_vec must be a 1D array'\n",
    "    if not isinstance(line_family, list):\n",
    "        line_family = np.array(line_family)\n",
    "   \n",
    "    assert line_family.ndim == 2, 'line_family must be a 2D array'\n",
    "    #    assert x_vec.shape[1] == line_family.shape[1], \\\n",
    "    #        'The size of the 2nd dimension of line_family must match with of x_vec, but line fam has shape {} whereas xvec has shape {}'.format(line_family.shape, x_vec.shape)\n",
    "    num_lines = line_family.shape[0]\n",
    "\n",
    "\n",
    "    if line_names is None:\n",
    "        # label_prefix = 'Line '\n",
    "        line_names = [str(line_ind) for line_ind in range(num_lines)]\n",
    "\n",
    "    line_names = ['{} {} {}'.format(label_prefix, cur_name, label_suffix) for cur_name in line_names]\n",
    "    \n",
    "    print(\"Line family shape is {}\".format(line_family.shape))\n",
    "    \n",
    "    for line_ind in range(num_lines):\n",
    "        colors = plt.cm.get_cmap('jet', line_family.shape[-1])\n",
    "        axis.plot(x_vec, line_family[line_ind] + line_ind * y_offset,\n",
    "                  color = colors(line_ind),\n",
    "                  )\n",
    "\n",
    "    if show_cbar:\n",
    "        # put back the cmap parameter:\n",
    "        kwargs.update({'cmap': cmap})\n",
    "        _ = cbar_for_line_plot(axis, num_lines, **kwargs)\n"
   ]
  },
  {
   "cell_type": "code",
   "execution_count": 15,
   "metadata": {
    "scrolled": false
   },
   "outputs": [
    {
     "name": "stdout",
     "output_type": "stream",
     "text": [
      "No position datasets found as attributes of /Measurement_000/Channel_000/Raw_Data-SHO_Fit_001/Spectroscopic_Values\n",
      "These are the labels ['Field', 'write_bias', 'read_bias']\n"
     ]
    },
    {
     "data": {
      "application/vnd.jupyter.widget-view+json": {
       "model_id": "50c885d737f94ec0b43c9208e378df00",
       "version_major": 2,
       "version_minor": 0
      },
      "text/plain": [
       "interactive(children=(IntSlider(value=4, continuous_update=False, description='Read step', max=10), IntSlider(…"
      ]
     },
     "metadata": {},
     "output_type": "display_data"
    },
    {
     "data": {
      "application/vnd.jupyter.widget-view+json": {
       "model_id": "96f2b5e49bb74f20a02a1666ef959ed8",
       "version_major": 2,
       "version_minor": 0
      },
      "text/plain": [
       "Button(description='Save figure', style=ButtonStyle())"
      ]
     },
     "metadata": {},
     "output_type": "display_data"
    }
   ],
   "source": [
    "global option, save_figure \n",
    "# Option 1: only show curves from maximum to minimum write voltage\n",
    "# Option 2: Show all curves from the whole write voltage waveform\n",
    "option = 1 \n",
    "save_figure = False # Save the figure after being generated if True\n",
    "\n",
    "h5_sho_spec_inds = h5_sho_fit.h5_spec_inds\n",
    "h5_sho_spec_vals = h5_sho_fit.h5_spec_vals\n",
    "\n",
    "sho_spec_labels = h5_sho_fit.spec_dim_labels\n",
    "pos_labels = h5_sho_fit.pos_dim_labels\n",
    "\n",
    "num_fields = h5_sho_fit.spec_dim_sizes[h5_sho_fit.spec_dim_labels.index('Field')]\n",
    "num_write_steps = h5_sho_fit.spec_dim_sizes[h5_sho_fit.spec_dim_labels.index('write_bias')]\n",
    "num_read_steps = h5_sho_fit.spec_dim_sizes[h5_sho_fit.spec_dim_labels.index('read_bias')]\n",
    "\n",
    "# It turns out that the read voltage index starts from 1 instead of 0\n",
    "# Also the VDC indices are NOT repeating. They are just rising monotonically\n",
    "write_volt_index = sho_spec_labels.index('write_bias')\n",
    "read_volt_index = sho_spec_labels.index('read_bias')\n",
    "h5_sho_spec_inds[read_volt_index, :] -= np.min(h5_sho_spec_inds[read_volt_index, :])\n",
    "h5_sho_spec_inds[write_volt_index, :] = np.tile(np.repeat(np.arange(num_write_steps), num_fields), num_read_steps)\n",
    "\n",
    "# Get the bias matrix:\n",
    "bias_mat, _ = usid.hdf_utils.reshape_to_n_dims(h5_sho_spec_vals, h5_spec=h5_sho_spec_inds)\n",
    "bias_vec_r_all = bias_mat[read_volt_index]*high_voltage_amplf\n",
    "bias_vec_w_all = bias_mat[write_volt_index]*high_voltage_amplf\n",
    "bias_vec_w = bias_vec_w_all.reshape(h5_sho_fit.spec_dim_sizes)[1, :, 1]\n",
    "bias_vec_r = bias_vec_r_all.reshape(h5_sho_fit.spec_dim_sizes)[1, :, :]\n",
    "\n",
    "# Option 1: only show curves from maximum to minimum write voltage:\n",
    "if option == 1:\n",
    "    write_step_start = np.argmax(bias_vec_w)\n",
    "    write_step_end = np.argmin(bias_vec_w)\n",
    "\n",
    "# ption 2: show all curves from the whole write voltage waveform\n",
    "if option == 2:\n",
    "    write_step_start = 0\n",
    "    write_step_end = num_write_steps-1\n",
    "\n",
    "bias_vec_r_display = np.transpose(bias_vec_r[write_step_start:write_step_end+1,:])\n",
    "\n",
    "print('These are the labels', sho_spec_labels)\n",
    "\n",
    "nd_labels = h5_sho_fit.n_dim_labels\n",
    "\n",
    "num_read_steps = Nd_mat.shape[nd_labels.index('read_bias')]\n",
    "num_write_steps = Nd_mat.shape[nd_labels.index('write_bias')]\n",
    "num_row = Nd_mat.shape[nd_labels.index('Y')]\n",
    "num_col = Nd_mat.shape[nd_labels.index('X')]\n",
    "\n",
    "# Indices of initial data points to plot\n",
    "row = 0\n",
    "col = 0\n",
    "field = 1\n",
    "dc_step_read = 0\n",
    "dc_step_write = 0\n",
    "\n",
    "# Select color scale range for map here\n",
    "cmin = -0.0001\n",
    "cmax = 0.0001\n",
    "\n",
    "# Get the read and write data to plot\n",
    "resp_vec_w = Nd_mat[row,col,field,:,dc_step_read]['Amplitude [V]'] * np.cos(Nd_mat[row,col,field,:,dc_step_read]['Phase [rad]'])*1000\n",
    "\n",
    "resp_mat_r = Nd_mat[:,:,1,dc_step_write,dc_step_read]['Amplitude [V]'] * np.cos(Nd_mat[:,:,1,dc_step_write,dc_step_read]['Phase [rad]'])*1000\n",
    "\n",
    "resp_vec_r = np.squeeze(Nd_mat[:,:,1,write_step_start:write_step_end+1,:]['Amplitude [V]'] \n",
    "                          * np.cos(Nd_mat[:,:,1,write_step_start:write_step_end+1,:]['Phase [rad]'])*1000)\n",
    "\n",
    "\n",
    "def make_figure(resp_mat_r, resp_vec_r, resp_vec_w, dc_step_read, dc_step_write, col, row):\n",
    "    global save_figure\n",
    "    plt.clf();\n",
    "    fig = plt.figure(figsize=(13, 9))\n",
    "    fig.set_facecolor('white')\n",
    "    \n",
    "    ax_bias_w = plt.subplot2grid((20, 2), (0, 0), colspan=1, rowspan=3)\n",
    "    ax_bias_r = plt.subplot2grid((20, 2), (5, 0), colspan=1, rowspan=3)\n",
    "    ax_loop_w = plt.subplot2grid((20, 2), (0, 1), colspan=1, rowspan=7)\n",
    "    ax_loop_r = plt.subplot2grid((20, 2), (9, 1), colspan=1, rowspan=8)\n",
    "    ax_colorbar = plt.subplot2grid((20, 2), (19, 1), colspan=1, rowspan=1)\n",
    "    ax_map = plt.subplot2grid((20, 2), (10, 0), colspan=1, rowspan=11)\n",
    "    \n",
    "    \n",
    "    \n",
    "    ax_bias_w.set_xlabel('Step', fontsize = 12)\n",
    "    ax_bias_w.set_ylabel('Write voltage [V]', fontsize = 12)\n",
    "    ax_bias_r.set_xlabel('Step', fontsize = 12)\n",
    "    ax_bias_r.set_ylabel('Read voltage [V]', fontsize = 12)\n",
    "    ax_loop_w.set_ylabel('Response [a.u.]', fontsize = 12)\n",
    "    ax_loop_w.set_xlabel('Write voltage [V]', fontsize = 12)\n",
    "    ax_loop_r.set_ylabel('Response [a.u.]', fontsize = 12)\n",
    "    ax_loop_r.set_xlabel('Read voltage [V]', fontsize = 12)\n",
    "\n",
    "    # Title saying read and write voltages\n",
    "    fig.suptitle('Read voltage = '+str(bias_vec_r[1,dc_step_read])+' V, Write voltage = ' +str(bias_vec_w[dc_step_write])+' V'\n",
    "                ', x = '+str(col)+', y = '+str(row), fontsize = 14);\n",
    "    \n",
    "    co_b = ax_map.imshow(resp_mat_r, cmap = sidpy.plot_utils.cmap_jet_white_center(), origin='upper', \n",
    "                         interpolation='none');\n",
    "    cb = fig.colorbar(co_b)\n",
    "    \n",
    "    #Graph of DC write voltage\n",
    "    ax_bias_w.plot(bias_vec_w,'b.');\n",
    "    ax_bias_w.plot(dc_step_write,bias_vec_w[dc_step_write],'r.');\n",
    "    ax_bias_w.set_ylim([np.min(bias_vec_w)-0.5, np.max(bias_vec_w)+0.5])\n",
    "    \n",
    "    #Graph of DC read voltage\n",
    "    ax_bias_r.plot(np.transpose(bias_vec_r[1]),'b.');\n",
    "    ax_bias_r.plot(dc_step_read,np.transpose(bias_vec_r[1,dc_step_read]),'r.');\n",
    "    ax_bias_r.set_ylim([np.min(bias_vec_r)-0.5, np.max(bias_vec_r)+0.5])\n",
    "        \n",
    "    #Graph of response loop (amplitude * cos(phase)) vs write voltage at selected x, y and read step\n",
    "    ax_loop_w.plot(bias_vec_w, resp_vec_w,'.-');\n",
    "    \n",
    "    #Response loops (amplitude * cos(phase)) of all write voltage steps (color coded) vs read voltage at selected x, y\n",
    "    plot_line_family(ax_loop_r, bias_vec_r_display[:, :], \n",
    "                                   resp_vec_r, line_names='None',\n",
    "                                   label_prefix='Line', label_suffix='')\n",
    "    \n",
    "    if option == 1:\n",
    "        colorbar_mat = np.column_stack((range(write_step_start,write_step_end+1),range(write_step_start,write_step_end+1)))\n",
    "        ax_colorbar.imshow(np.transpose(colorbar_mat[:,:]), cmap=plt.cm.jet, origin='lower', interpolation='none')\n",
    "        ax_colorbar.set_yticklabels('')\n",
    "        ax_colorbar.tick_params(axis = 'y', left = 'off', right = 'off')\n",
    "        plt.sca(ax_colorbar)\n",
    "        plt.xticks([0,write_step_end-write_step_start],[bias_vec_w[write_step_start],bias_vec_w[write_step_end]])\n",
    "        ax_colorbar.set_xlabel('Write voltage [V]', fontsize = 12)\n",
    "                \n",
    "    if option == 2:\n",
    "        colorbar_mat = np.column_stack((range(0,num_write_steps-1),range(0,num_write_steps-1)))\n",
    "        ax_colorbar.imshow(np.transpose(colorbar_mat[:,:]), cmap=plt.cm.jet, origin='lower', interpolation='none')\n",
    "        ax_colorbar.set_yticklabels('')\n",
    "        ax_colorbar.tick_params(axis = 'y', left = 'off', right = 'off')\n",
    "        ax_colorbar.set_xlabel('Write voltage step', fontsize = 12)\n",
    "        \n",
    "    \n",
    "    if save_figure == True:\n",
    "        fig.savefig(output_file_path+'\\cb_cKPFM_Vr'+str(dc_step_read)+'_Vw'+str(dc_step_write)+'_x='+str(col)+'_y='+str(row)+'.png', format='png')\n",
    "        fig.savefig(output_file_path+'\\cb_cKPFM_Vr'+str(dc_step_read)+'_Vw'+str(dc_step_write)+'_x='+str(col)+'_y='+str(row)+'.eps', format='eps')\n",
    "        fig.savefig(output_file_path+'\\cb_cKPFM_Vr'+str(dc_step_read)+'_Vw'+str(dc_step_write)+'_x='+str(col)+'_y='+str(row)+'.tif', format='tiff')\n",
    "        save_figure = False\n",
    "\n",
    "        \n",
    "def update_sho_plots(dc_step_read, dc_step_write, col, row, **kwargs):\n",
    "    resp_vec_w = Nd_mat[row,col,field,:,dc_step_read]['Amplitude [V]'] * np.cos(Nd_mat[row,col,field,:,dc_step_read]['Phase [rad]'])*1000\n",
    "    resp_vec_w = Nd_mat[row,col,field,:,dc_step_read]['Amplitude [V]'] * np.cos(Nd_mat[row,col,field,:,dc_step_read]['Phase [rad]'])*1000\n",
    "    resp_mat_r = Nd_mat[:,:,1,dc_step_write,dc_step_read]['Amplitude [V]'] * np.cos(Nd_mat[:,:,1,dc_step_write,dc_step_read]['Phase [rad]'])*1000\n",
    "    resp_vec_r = (Nd_mat[row,col,field,write_step_start:write_step_end+1,:]['Amplitude [V]'] \n",
    "                           * np.cos(Nd_mat[row,col,field,write_step_start:write_step_end+1,:]['Phase [rad]'])*1000)\n",
    "\n",
    "    make_figure(resp_mat_r, resp_vec_r, resp_vec_w, dc_step_read, dc_step_write, col, row)\n",
    "    \n",
    "    \n",
    "def on_save_button_clicked(b):\n",
    "    global save_figure \n",
    "    save_figure = True\n",
    "    dc_step_read =  dc_step_read_slider.value\n",
    "    dc_step_write = dc_step_write_slider.value\n",
    "    col = x_slider.value\n",
    "    row = y_slider.value\n",
    "    \n",
    "    update_sho_plots(dc_step_read,dc_step_write, col, row)\n",
    "    \n",
    "\n",
    "slider_dict = dict()   \n",
    "\n",
    "dc_step_read_slider = widgets.IntSlider(min = 0, max = num_read_steps-1, step = 1,value = 4,\n",
    "                                        description = 'Read step',continuous_update = False);\n",
    "dc_step_write_slider = widgets.IntSlider(min = 0, max = num_write_steps-1, step = 1,value = 0,\n",
    "                                         description = 'Write step', continuous_update = False);\n",
    "x_slider = widgets.IntSlider(min = 0, max = num_col-1,step = 1,value = 0,\n",
    "                             description='x',continuous_update = False);\n",
    "y_slider = widgets.IntSlider(min = 0,max = num_row-1,step = 1,value = 0,\n",
    "                             description = 'y',continuous_update = False);\n",
    "\n",
    "widgets.interact(update_sho_plots,dc_step_read=dc_step_read_slider,dc_step_write=dc_step_write_slider, col = x_slider, row = y_slider, **slider_dict); \n",
    "\n",
    "button = widgets.Button(description = 'Save figure')\n",
    "display(button)\n",
    "button.on_click(on_save_button_clicked)\n"
   ]
  },
  {
   "cell_type": "markdown",
   "metadata": {},
   "source": [
    "## Display averaged cKPFM data\n",
    "\n",
    "Figures show response at each write step (x-axis) after each write pulse (color coded) averaged over the whole map (left) and averaged over the area selected with x- and y-range sliders (right).\n",
    "\n",
    "#### Select display option by setting 'option = 1' or 'option = 2' in the first line of the code\n",
    "- Option 1: display response curves from the maximum write step to the minimum write step\n",
    "- Option 2: display response curves from all write voltages"
   ]
  },
  {
   "cell_type": "code",
   "execution_count": 16,
   "metadata": {
    "scrolled": false
   },
   "outputs": [
    {
     "data": {
      "application/vnd.jupyter.widget-view+json": {
       "model_id": "495b331624074b93b84c2da7489b6ad6",
       "version_major": 2,
       "version_minor": 0
      },
      "text/plain": [
       "interactive(children=(IntRangeSlider(value=(2, 6), continuous_update=False, description='x-range', max=9), Int…"
      ]
     },
     "metadata": {},
     "output_type": "display_data"
    },
    {
     "data": {
      "application/vnd.jupyter.widget-view+json": {
       "model_id": "a1d6353a5d2246c2ba5599da2c36d24d",
       "version_major": 2,
       "version_minor": 0
      },
      "text/plain": [
       "Button(description='Save figure', style=ButtonStyle())"
      ]
     },
     "metadata": {},
     "output_type": "display_data"
    }
   ],
   "source": [
    "option = 1\n",
    "\n",
    "# Option 1: only show curves from maximum to minimum write voltage:\n",
    "if option == 1:\n",
    "    write_step_start = np.argmax(bias_vec_w)\n",
    "    write_step_end = np.argmin(bias_vec_w)\n",
    "\n",
    "# Option 2: show all curves from the whole write voltage waveform\n",
    "if option == 2:\n",
    "    write_step_start = 0\n",
    "    write_step_end = num_write_steps-1\n",
    "\n",
    "    \n",
    "bias_vec_r_display = np.transpose(bias_vec_r[write_step_start:write_step_end+1,:])\n",
    "\n",
    "num_display_steps = bias_vec_r_display.shape[1]\n",
    "\n",
    "\n",
    "global save_figure_vsr\n",
    "\n",
    "save_figure_vsr = False\n",
    "\n",
    "\n",
    "resp_mat_vsr = np.squeeze(Nd_mat[:,:,1,write_step_start:write_step_end+1,:]['Amplitude [V]'] \n",
    "                          * np.cos(Nd_mat[:,:,1,write_step_start:write_step_end+1,:]['Phase [rad]'])*1000)\n",
    "\n",
    "# Calculate response at 0 V read voltage averaged over all pixels\n",
    "resp_vsr_mean1 = np.nanmean(resp_mat_vsr,axis = 0)\n",
    "resp_vsr_std1 = np.nanstd(resp_mat_vsr,axis = 0)\n",
    "resp_vsr_mean = np.nanmean(resp_vsr_mean1,axis = 0)\n",
    "resp_vsr_std = np.nanstd(resp_vsr_std1,axis = 0)\n",
    "\n",
    "\n",
    "def make_figure_respvsr(resp_vsr_mean_range, resp_vsr_std_range, x_range, y_range):\n",
    "    global save_figure_vsr\n",
    "    \n",
    "    fig_vsr = plt.figure(figsize=(12,5))  \n",
    "    fig_vsr.clf()\n",
    "    fig_vsr.set_facecolor('white')\n",
    "    ax_plot = plt.subplot2grid((5, 2), (0, 0), colspan=1, rowspan=4)\n",
    "    ax_plot_range = plt.subplot2grid((5, 2), (0, 1), colspan=1, rowspan=4)\n",
    "    ax_colorbar = plt.subplot2grid((5, 2), (4, 0), colspan=1, rowspan=1)\n",
    "    ax_colorbar2 = plt.subplot2grid((5, 2), (4, 1), colspan=1, rowspan=1)\n",
    "\n",
    "    plot_line_family(ax_plot, bias_vec_r_display[:, :], \n",
    "                                   resp_vsr_mean[:, :], line_names='None',label_prefix='Line', \n",
    "                                   label_suffix='', cmap=plt.cm.jet)\n",
    "    plot_line_family(ax_plot_range, bias_vec_r_display[:, :], \n",
    "                                   resp_vsr_mean_range[:, :], line_names='None',\n",
    "                                   label_prefix='Line', label_suffix='', cmap=plt.cm.jet)\n",
    "         \n",
    "    ax_plot.set_xlabel('Read voltage [V]', fontsize = 12)\n",
    "    ax_plot.set_ylabel('Response [a.u.]', fontsize = 12)\n",
    "    ax_plot.set_title('Averaged over whole map', fontsize = 12)\n",
    "    \n",
    "    ax_plot_range.set_xlabel('Read voltage [V]', fontsize = 12)\n",
    "    ax_plot_range.set_ylabel('Response [a.u.]', fontsize = 12)\n",
    "    ax_plot_range.set_title('Averaged x = '+str(x_range[0])+' - '+str(x_range[1])\n",
    "                            +', y = '+str(y_range[0])+' - '+str(y_range[1]), fontsize = 12)\n",
    "    if option == 1:\n",
    "        colorbar_mat = np.column_stack((range(write_step_start,write_step_end+1),range(write_step_start,write_step_end+1)))\n",
    "        ax_colorbar.imshow(np.transpose(colorbar_mat[:,:]), cmap=plt.cm.jet, origin='lower', interpolation='none')\n",
    "        ax_colorbar.set_yticklabels('')\n",
    "        ax_colorbar.tick_params(axis = 'y', left = 'off', right = 'off')\n",
    "        plt.sca(ax_colorbar)\n",
    "        plt.xticks([0,write_step_end-write_step_start],[bias_vec_w[write_step_start],bias_vec_w[write_step_end]])\n",
    "        ax_colorbar.set_xlabel('Write voltage [V]', fontsize = 12)\n",
    "        \n",
    "        ax_colorbar2.imshow(np.transpose(colorbar_mat[:,:]), cmap=plt.cm.jet, origin='lower', interpolation='none')\n",
    "        ax_colorbar2.set_yticklabels('')\n",
    "        ax_colorbar2.tick_params(axis = 'y', left = 'off', right = 'off')\n",
    "        plt.sca(ax_colorbar2)\n",
    "        plt.xticks([0,write_step_end-write_step_start],[bias_vec_w[write_step_start],bias_vec_w[write_step_end]])\n",
    "        ax_colorbar2.set_xlabel('Write voltage [V]', fontsize = 12)\n",
    "\n",
    "        \n",
    "    \n",
    "    if option == 2:\n",
    "        colorbar_mat = np.column_stack((range(0,num_write_steps-1),range(0,num_write_steps-1)))\n",
    "        ax_colorbar.imshow(np.transpose(colorbar_mat[:,:]), cmap=plt.cm.jet, origin='lower', interpolation='none')\n",
    "        ax_colorbar.set_yticklabels('')\n",
    "        ax_colorbar.tick_params(axis = 'y', left = 'off', right = 'off')\n",
    "        ax_colorbar.set_xlabel('Write voltage step', fontsize = 12)\n",
    "        \n",
    "        ax_colorbar2.imshow(np.transpose(colorbar_mat[:,:]), cmap=plt.cm.jet, origin='lower', interpolation='none')\n",
    "        ax_colorbar2.set_yticklabels('')\n",
    "        ax_colorbar2.tick_params(axis = 'y', left = 'off', right = 'off')\n",
    "        ax_colorbar2.set_xlabel('Write voltage step', fontsize = 12)\n",
    "        \n",
    "     \n",
    "        \n",
    "    fig_vsr.tight_layout();\n",
    "   \n",
    "    if save_figure_vsr == True:\n",
    "        fig_vsr.savefig(output_file_path+'\\cbColor_Response_vsReadVoltage_x'+str(x_range)+'_y'+str(y_range)+'.png', format='png')\n",
    "        fig_vsr.savefig(output_file_path+'\\cbColor_Response_vsReadVoltage_x'+str(x_range)+'_y'+str(y_range)+'.eps', format='eps')\n",
    "        fig_vsr.savefig(output_file_path+'\\cbColor_Response_vsReadVoltage_x'+str(x_range)+'_y'+str(y_range)+'.tif', format='tiff')\n",
    "        save_figure_vsr = False\n",
    "        \n",
    "        \n",
    "            \n",
    "\n",
    "def update_xyrange(x_range, y_range):\n",
    "\n",
    "# Calculate response averaged over selected pixels\n",
    "    \n",
    "    resp_mat_vsr_range = np.squeeze(Nd_mat[y_range[0]:y_range[1], x_range[0]:x_range[1],1,write_step_start:write_step_end+1,:]['Amplitude [V]']\n",
    "                                    *np.cos(Nd_mat[y_range[0]:y_range[1], x_range[0]:x_range[1],1,write_step_start:write_step_end+1,:]['Phase [rad]'])*1000)\n",
    "    \n",
    "    resp_vsr_mean1_range = np.nanmean(resp_mat_vsr_range,axis = 0)\n",
    "    resp_vsr_std1_range = np.nanstd(resp_mat_vsr_range,axis = 0)\n",
    "    resp_vsr_mean_range = np.nanmean(resp_vsr_mean1_range,axis = 0)\n",
    "    resp_vsr_std_range = np.nanstd(resp_vsr_std1_range,axis = 0)\n",
    "\n",
    "    make_figure_respvsr(resp_vsr_mean_range, resp_vsr_std_range, x_range, y_range)\n",
    "                                        \n",
    "                                          \n",
    "x_range = widgets.IntRangeSlider(min = 0,max = num_col-1,step = 1,value = 0,\n",
    "                             description = 'x-range',continuous_update = False)\n",
    "\n",
    "y_range = widgets.IntRangeSlider(min = 0,max = num_col-1,step = 1,value = 0,\n",
    "                             description = 'y-range',continuous_update = False)\n",
    "\n",
    "widgets.interact(update_xyrange,x_range = x_range, y_range = y_range);\n",
    "\n",
    "\n",
    "\n",
    "def on_save_button_clicked_vsr(b):\n",
    "    global save_figure_vsr \n",
    "    save_figure_vsr = True\n",
    "  \n",
    "    update_xyrange(x_range.value, y_range.value)\n",
    "\n",
    "button_vsr = widgets.Button(description = 'Save figure')\n",
    "display(button_vsr)\n",
    "button_vsr.on_click(on_save_button_clicked_vsr)\n",
    "\n",
    "\n"
   ]
  },
  {
   "cell_type": "markdown",
   "metadata": {},
   "source": [
    "## Export response after all write steps for all pixels\n",
    "\n",
    "Response data (\\= amplitude * cos(phase)) is exported into separate tab delimited text files for each read voltage (see file names). The columns in the text file represent write voltage steps, the rows represent individual pixels. "
   ]
  },
  {
   "cell_type": "code",
   "execution_count": 17,
   "metadata": {},
   "outputs": [],
   "source": [
    "#Export response of all write steps (columns) for all pixels (rows) to one delimited text file for each read step\n",
    "\n",
    "for dc_step_read in range(0,num_read_steps-1):\n",
    "    resp_mat = np.squeeze(Nd_mat[:,:,1,:,dc_step_read]['Amplitude [V]'] \n",
    "                          * np.cos(Nd_mat[:,:,1,:,dc_step_read]['Phase [rad]'])*1000)\n",
    "\n",
    "    resp_vec = np.reshape(resp_mat, (num_row*num_col, num_write_steps))\n",
    "    np.savetxt(os.path.join(output_file_path,'Response_at_Vread_'+str(bias_vec_r[0,dc_step_read])+'V.txt'),resp_vec, fmt='%f', delimiter='\\t')\n",
    "\n",
    "np.savetxt(os.path.join(output_file_path,'Read_voltage_vec.txt'), np.squeeze(bias_vec_r[0,:]), fmt='%f', delimiter='\\t')\n",
    "np.savetxt(os.path.join(output_file_path,'Write_voltage_vec.txt'), np.squeeze(bias_vec_w[:]), fmt='%f', delimiter='\\t')"
   ]
  },
  {
   "cell_type": "markdown",
   "metadata": {},
   "source": [
    "## Display averaged response at 0 V read voltage\n",
    "\n",
    "The left figure shows response at 0 V read voltage averaged over the whole grid, the right figure shows response at 0 V read voltage averaged over the x- and y- range specified with sliders."
   ]
  },
  {
   "cell_type": "code",
   "execution_count": 18,
   "metadata": {
    "scrolled": false
   },
   "outputs": [
    {
     "data": {
      "application/vnd.jupyter.widget-view+json": {
       "model_id": "e522589f9f2e400c9c380a8127d5ac24",
       "version_major": 2,
       "version_minor": 0
      },
      "text/plain": [
       "interactive(children=(IntRangeSlider(value=(2, 6), continuous_update=False, description='x-range', max=9, step…"
      ]
     },
     "metadata": {},
     "output_type": "display_data"
    },
    {
     "data": {
      "application/vnd.jupyter.widget-view+json": {
       "model_id": "647f5142aceb43a5b2aeb5b1778f4728",
       "version_major": 2,
       "version_minor": 0
      },
      "text/plain": [
       "Button(description='Save figure', style=ButtonStyle())"
      ]
     },
     "metadata": {},
     "output_type": "display_data"
    }
   ],
   "source": [
    "# Plot response at 0 V read voltage averaged over all pixels\n",
    "global save_figure_0V\n",
    "\n",
    "save_figure_0V = False\n",
    "dc_step_read = np.argwhere(np.isclose(bias_vec_r[0,:], 0)).squeeze()\n",
    "\n",
    "resp_mat_0Vr = np.squeeze(Nd_mat[:,:,1,:,dc_step_read]['Amplitude [V]'] \n",
    "                          * np.cos(Nd_mat[:,:,1,:,dc_step_read]['Phase [rad]'])*1000)\n",
    "\n",
    "# Calculate response at 0 V read voltage averaged over all pixels\n",
    "resp_0V_mean1 = np.nanmean(resp_mat_0Vr,axis = 0)\n",
    "resp_0V_std1 = np.nanstd(resp_mat_0Vr,axis = 0)\n",
    "resp_0V_mean = np.nanmean(resp_0V_mean1,axis = 0)\n",
    "resp_0V_std = np.nanstd(resp_0V_std1,axis = 0)\n",
    "\n",
    "\n",
    "def make_figure_resp0V(resp_0V_mean_range, resp_0V_std_range, x_range, y_range):\n",
    "    global save_figure_0V\n",
    "    \n",
    "    fig_r0V = plt.figure(figsize=(10,4))  \n",
    "    fig_r0V.clf()\n",
    "    fig_r0V.set_facecolor('white')\n",
    "    ax_plot = plt.subplot2grid((1, 2), (0, 0), colspan=1, rowspan=1)\n",
    "    ax_plot_range = plt.subplot2grid((1, 2), (0, 1), colspan=1, rowspan=1)\n",
    "    \n",
    "    ax_plot.plot(bias_vec_w[:], resp_0V_mean\n",
    "                 , '.-')\n",
    "    ax_plot.errorbar(bias_vec_w[:], resp_0V_mean, yerr = resp_0V_std, fmt = '.-')\n",
    "    \n",
    "    ax_plot.set_xlabel('Write voltage [V]', fontsize = 12)\n",
    "    ax_plot.set_ylabel('Response [a.u.]', fontsize = 12)\n",
    "    ax_plot.set_title('Averaged over whole map', fontsize = 12)\n",
    "    \n",
    "    ax_plot_range.errorbar(bias_vec_w[:], resp_0V_mean_range, yerr = resp_0V_std_range, fmt = '.-')\n",
    "    ax_plot_range.set_xlabel('Write voltage [V]', fontsize = 12)\n",
    "    ax_plot_range.set_ylabel('Response [a.u.]', fontsize = 12)\n",
    "    ax_plot_range.set_title('Averaged from x = '+str(x_range[0])+'-'+str(x_range[1])\n",
    "                            +', y = '+str(y_range[0])+'-'+str(y_range[1]), fontsize = 12)\n",
    "    \n",
    "    fig_r0V.tight_layout();\n",
    "    fig_r0V.suptitle('Spatially averaged response at read voltage = 0 V', y = 1.05, x=0.55, fontsize = 12)\n",
    "    \n",
    "    #save_figure_0V = True   \n",
    "    if save_figure_0V == True:\n",
    "        fig_r0V.savefig(output_file_path+'\\Response_0V_x'+str(x_range)+'_y'+str(y_range)+'.png', format='png')\n",
    "        fig_r0V.savefig(output_file_path+'\\Response_0V_x'+str(x_range)+'_y'+str(y_range)+'.eps', format='eps')\n",
    "        fig_r0V.savefig(output_file_path+'\\Response_0V_x'+str(x_range)+'_y'+str(y_range)+'.tif', format='tiff')\n",
    "        save_figure_0V = False\n",
    "        \n",
    "        \n",
    "        \n",
    "\n",
    "def update_xyrange(x_range, y_range):\n",
    "\n",
    "# Calculate response at 0 V read voltage averaged over selected pixels\n",
    "#     a=Nd_mat[x_range[0]:x_range[1], y_range[0]:y_range[1],1,:,dc_step_read]['Amplitude [V]']\n",
    "    \n",
    "    resp_mat_0Vr_range = np.squeeze(Nd_mat[y_range[0]:y_range[1], x_range[0]:x_range[1],1,:,dc_step_read]['Amplitude [V]']\n",
    "                                    *np.cos(Nd_mat[y_range[0]:y_range[1], x_range[0]:x_range[1],1,:,dc_step_read]['Phase [rad]'])*1000)\n",
    "    \n",
    "    resp_0V_mean1_range = np.nanmean(resp_mat_0Vr_range,axis = 0)\n",
    "    resp_0V_std1_range = np.nanstd(resp_mat_0Vr_range,axis = 0)\n",
    "    resp_0V_mean_range = np.nanmean(resp_0V_mean1_range,axis = 0)\n",
    "    resp_0V_std_range = np.nanstd(resp_0V_std1_range,axis = 0)\n",
    "    \n",
    "    print(resp_0V_mean_range, resp_0V_std_range, x_range, y_range)\n",
    "    \n",
    "    make_figure_resp0V(resp_0V_mean_range, resp_0V_std_range, x_range, y_range)\n",
    "                                          \n",
    "                                          \n",
    "x_range = widgets.IntRangeSlider(min = 0,max = num_col-1,step = 0.1,value = 0,\n",
    "                             description = 'x-range',continuous_update = False)\n",
    "\n",
    "y_range = widgets.IntRangeSlider(min = 0,max = num_col-1,step = 0.1,value = 0,\n",
    "                             description = 'y-range',continuous_update = False)\n",
    "\n",
    "widgets.interact(update_xyrange,x_range = x_range, y_range = y_range);\n",
    "\n",
    "\n",
    "\n",
    "def on_save_button_clicked_0V(b):\n",
    "    global save_figure_0V \n",
    "    save_figure_0V = True\n",
    "\n",
    "   \n",
    "    update_xyrange(x_range.value, y_range.value)\n",
    "\n",
    "button_0V = widgets.Button(description = 'Save figure')\n",
    "display(button_0V)\n",
    "button_0V.on_click(on_save_button_clicked_0V)"
   ]
  },
  {
   "cell_type": "markdown",
   "metadata": {},
   "source": [
    "## Display response, amplitude and phase data at 0 V read voltage for a single pixel\n",
    "\n",
    "Select the pixel of interest below by setting x_select and y_select to the desired coordinates."
   ]
  },
  {
   "cell_type": "code",
   "execution_count": 19,
   "metadata": {},
   "outputs": [
    {
     "data": {
      "application/javascript": [
       "/* Put everything inside the global mpl namespace */\n",
       "/* global mpl */\n",
       "window.mpl = {};\n",
       "\n",
       "mpl.get_websocket_type = function () {\n",
       "    if (typeof WebSocket !== 'undefined') {\n",
       "        return WebSocket;\n",
       "    } else if (typeof MozWebSocket !== 'undefined') {\n",
       "        return MozWebSocket;\n",
       "    } else {\n",
       "        alert(\n",
       "            'Your browser does not have WebSocket support. ' +\n",
       "                'Please try Chrome, Safari or Firefox ≥ 6. ' +\n",
       "                'Firefox 4 and 5 are also supported but you ' +\n",
       "                'have to enable WebSockets in about:config.'\n",
       "        );\n",
       "    }\n",
       "};\n",
       "\n",
       "mpl.figure = function (figure_id, websocket, ondownload, parent_element) {\n",
       "    this.id = figure_id;\n",
       "\n",
       "    this.ws = websocket;\n",
       "\n",
       "    this.supports_binary = this.ws.binaryType !== undefined;\n",
       "\n",
       "    if (!this.supports_binary) {\n",
       "        var warnings = document.getElementById('mpl-warnings');\n",
       "        if (warnings) {\n",
       "            warnings.style.display = 'block';\n",
       "            warnings.textContent =\n",
       "                'This browser does not support binary websocket messages. ' +\n",
       "                'Performance may be slow.';\n",
       "        }\n",
       "    }\n",
       "\n",
       "    this.imageObj = new Image();\n",
       "\n",
       "    this.context = undefined;\n",
       "    this.message = undefined;\n",
       "    this.canvas = undefined;\n",
       "    this.rubberband_canvas = undefined;\n",
       "    this.rubberband_context = undefined;\n",
       "    this.format_dropdown = undefined;\n",
       "\n",
       "    this.image_mode = 'full';\n",
       "\n",
       "    this.root = document.createElement('div');\n",
       "    this.root.setAttribute('style', 'display: inline-block');\n",
       "    this._root_extra_style(this.root);\n",
       "\n",
       "    parent_element.appendChild(this.root);\n",
       "\n",
       "    this._init_header(this);\n",
       "    this._init_canvas(this);\n",
       "    this._init_toolbar(this);\n",
       "\n",
       "    var fig = this;\n",
       "\n",
       "    this.waiting = false;\n",
       "\n",
       "    this.ws.onopen = function () {\n",
       "        fig.send_message('supports_binary', { value: fig.supports_binary });\n",
       "        fig.send_message('send_image_mode', {});\n",
       "        if (fig.ratio !== 1) {\n",
       "            fig.send_message('set_dpi_ratio', { dpi_ratio: fig.ratio });\n",
       "        }\n",
       "        fig.send_message('refresh', {});\n",
       "    };\n",
       "\n",
       "    this.imageObj.onload = function () {\n",
       "        if (fig.image_mode === 'full') {\n",
       "            // Full images could contain transparency (where diff images\n",
       "            // almost always do), so we need to clear the canvas so that\n",
       "            // there is no ghosting.\n",
       "            fig.context.clearRect(0, 0, fig.canvas.width, fig.canvas.height);\n",
       "        }\n",
       "        fig.context.drawImage(fig.imageObj, 0, 0);\n",
       "    };\n",
       "\n",
       "    this.imageObj.onunload = function () {\n",
       "        fig.ws.close();\n",
       "    };\n",
       "\n",
       "    this.ws.onmessage = this._make_on_message_function(this);\n",
       "\n",
       "    this.ondownload = ondownload;\n",
       "};\n",
       "\n",
       "mpl.figure.prototype._init_header = function () {\n",
       "    var titlebar = document.createElement('div');\n",
       "    titlebar.classList =\n",
       "        'ui-dialog-titlebar ui-widget-header ui-corner-all ui-helper-clearfix';\n",
       "    var titletext = document.createElement('div');\n",
       "    titletext.classList = 'ui-dialog-title';\n",
       "    titletext.setAttribute(\n",
       "        'style',\n",
       "        'width: 100%; text-align: center; padding: 3px;'\n",
       "    );\n",
       "    titlebar.appendChild(titletext);\n",
       "    this.root.appendChild(titlebar);\n",
       "    this.header = titletext;\n",
       "};\n",
       "\n",
       "mpl.figure.prototype._canvas_extra_style = function (_canvas_div) {};\n",
       "\n",
       "mpl.figure.prototype._root_extra_style = function (_canvas_div) {};\n",
       "\n",
       "mpl.figure.prototype._init_canvas = function () {\n",
       "    var fig = this;\n",
       "\n",
       "    var canvas_div = (this.canvas_div = document.createElement('div'));\n",
       "    canvas_div.setAttribute(\n",
       "        'style',\n",
       "        'border: 1px solid #ddd;' +\n",
       "            'box-sizing: content-box;' +\n",
       "            'clear: both;' +\n",
       "            'min-height: 1px;' +\n",
       "            'min-width: 1px;' +\n",
       "            'outline: 0;' +\n",
       "            'overflow: hidden;' +\n",
       "            'position: relative;' +\n",
       "            'resize: both;'\n",
       "    );\n",
       "\n",
       "    function on_keyboard_event_closure(name) {\n",
       "        return function (event) {\n",
       "            return fig.key_event(event, name);\n",
       "        };\n",
       "    }\n",
       "\n",
       "    canvas_div.addEventListener(\n",
       "        'keydown',\n",
       "        on_keyboard_event_closure('key_press')\n",
       "    );\n",
       "    canvas_div.addEventListener(\n",
       "        'keyup',\n",
       "        on_keyboard_event_closure('key_release')\n",
       "    );\n",
       "\n",
       "    this._canvas_extra_style(canvas_div);\n",
       "    this.root.appendChild(canvas_div);\n",
       "\n",
       "    var canvas = (this.canvas = document.createElement('canvas'));\n",
       "    canvas.classList.add('mpl-canvas');\n",
       "    canvas.setAttribute('style', 'box-sizing: content-box;');\n",
       "\n",
       "    this.context = canvas.getContext('2d');\n",
       "\n",
       "    var backingStore =\n",
       "        this.context.backingStorePixelRatio ||\n",
       "        this.context.webkitBackingStorePixelRatio ||\n",
       "        this.context.mozBackingStorePixelRatio ||\n",
       "        this.context.msBackingStorePixelRatio ||\n",
       "        this.context.oBackingStorePixelRatio ||\n",
       "        this.context.backingStorePixelRatio ||\n",
       "        1;\n",
       "\n",
       "    this.ratio = (window.devicePixelRatio || 1) / backingStore;\n",
       "\n",
       "    var rubberband_canvas = (this.rubberband_canvas = document.createElement(\n",
       "        'canvas'\n",
       "    ));\n",
       "    rubberband_canvas.setAttribute(\n",
       "        'style',\n",
       "        'box-sizing: content-box; position: absolute; left: 0; top: 0; z-index: 1;'\n",
       "    );\n",
       "\n",
       "    // Apply a ponyfill if ResizeObserver is not implemented by browser.\n",
       "    if (this.ResizeObserver === undefined) {\n",
       "        if (window.ResizeObserver !== undefined) {\n",
       "            this.ResizeObserver = window.ResizeObserver;\n",
       "        } else {\n",
       "            var obs = _JSXTOOLS_RESIZE_OBSERVER({});\n",
       "            this.ResizeObserver = obs.ResizeObserver;\n",
       "        }\n",
       "    }\n",
       "\n",
       "    this.resizeObserverInstance = new this.ResizeObserver(function (entries) {\n",
       "        var nentries = entries.length;\n",
       "        for (var i = 0; i < nentries; i++) {\n",
       "            var entry = entries[i];\n",
       "            var width, height;\n",
       "            if (entry.contentBoxSize) {\n",
       "                if (entry.contentBoxSize instanceof Array) {\n",
       "                    // Chrome 84 implements new version of spec.\n",
       "                    width = entry.contentBoxSize[0].inlineSize;\n",
       "                    height = entry.contentBoxSize[0].blockSize;\n",
       "                } else {\n",
       "                    // Firefox implements old version of spec.\n",
       "                    width = entry.contentBoxSize.inlineSize;\n",
       "                    height = entry.contentBoxSize.blockSize;\n",
       "                }\n",
       "            } else {\n",
       "                // Chrome <84 implements even older version of spec.\n",
       "                width = entry.contentRect.width;\n",
       "                height = entry.contentRect.height;\n",
       "            }\n",
       "\n",
       "            // Keep the size of the canvas and rubber band canvas in sync with\n",
       "            // the canvas container.\n",
       "            if (entry.devicePixelContentBoxSize) {\n",
       "                // Chrome 84 implements new version of spec.\n",
       "                canvas.setAttribute(\n",
       "                    'width',\n",
       "                    entry.devicePixelContentBoxSize[0].inlineSize\n",
       "                );\n",
       "                canvas.setAttribute(\n",
       "                    'height',\n",
       "                    entry.devicePixelContentBoxSize[0].blockSize\n",
       "                );\n",
       "            } else {\n",
       "                canvas.setAttribute('width', width * fig.ratio);\n",
       "                canvas.setAttribute('height', height * fig.ratio);\n",
       "            }\n",
       "            canvas.setAttribute(\n",
       "                'style',\n",
       "                'width: ' + width + 'px; height: ' + height + 'px;'\n",
       "            );\n",
       "\n",
       "            rubberband_canvas.setAttribute('width', width);\n",
       "            rubberband_canvas.setAttribute('height', height);\n",
       "\n",
       "            // And update the size in Python. We ignore the initial 0/0 size\n",
       "            // that occurs as the element is placed into the DOM, which should\n",
       "            // otherwise not happen due to the minimum size styling.\n",
       "            if (fig.ws.readyState == 1 && width != 0 && height != 0) {\n",
       "                fig.request_resize(width, height);\n",
       "            }\n",
       "        }\n",
       "    });\n",
       "    this.resizeObserverInstance.observe(canvas_div);\n",
       "\n",
       "    function on_mouse_event_closure(name) {\n",
       "        return function (event) {\n",
       "            return fig.mouse_event(event, name);\n",
       "        };\n",
       "    }\n",
       "\n",
       "    rubberband_canvas.addEventListener(\n",
       "        'mousedown',\n",
       "        on_mouse_event_closure('button_press')\n",
       "    );\n",
       "    rubberband_canvas.addEventListener(\n",
       "        'mouseup',\n",
       "        on_mouse_event_closure('button_release')\n",
       "    );\n",
       "    // Throttle sequential mouse events to 1 every 20ms.\n",
       "    rubberband_canvas.addEventListener(\n",
       "        'mousemove',\n",
       "        on_mouse_event_closure('motion_notify')\n",
       "    );\n",
       "\n",
       "    rubberband_canvas.addEventListener(\n",
       "        'mouseenter',\n",
       "        on_mouse_event_closure('figure_enter')\n",
       "    );\n",
       "    rubberband_canvas.addEventListener(\n",
       "        'mouseleave',\n",
       "        on_mouse_event_closure('figure_leave')\n",
       "    );\n",
       "\n",
       "    canvas_div.addEventListener('wheel', function (event) {\n",
       "        if (event.deltaY < 0) {\n",
       "            event.step = 1;\n",
       "        } else {\n",
       "            event.step = -1;\n",
       "        }\n",
       "        on_mouse_event_closure('scroll')(event);\n",
       "    });\n",
       "\n",
       "    canvas_div.appendChild(canvas);\n",
       "    canvas_div.appendChild(rubberband_canvas);\n",
       "\n",
       "    this.rubberband_context = rubberband_canvas.getContext('2d');\n",
       "    this.rubberband_context.strokeStyle = '#000000';\n",
       "\n",
       "    this._resize_canvas = function (width, height, forward) {\n",
       "        if (forward) {\n",
       "            canvas_div.style.width = width + 'px';\n",
       "            canvas_div.style.height = height + 'px';\n",
       "        }\n",
       "    };\n",
       "\n",
       "    // Disable right mouse context menu.\n",
       "    this.rubberband_canvas.addEventListener('contextmenu', function (_e) {\n",
       "        event.preventDefault();\n",
       "        return false;\n",
       "    });\n",
       "\n",
       "    function set_focus() {\n",
       "        canvas.focus();\n",
       "        canvas_div.focus();\n",
       "    }\n",
       "\n",
       "    window.setTimeout(set_focus, 100);\n",
       "};\n",
       "\n",
       "mpl.figure.prototype._init_toolbar = function () {\n",
       "    var fig = this;\n",
       "\n",
       "    var toolbar = document.createElement('div');\n",
       "    toolbar.classList = 'mpl-toolbar';\n",
       "    this.root.appendChild(toolbar);\n",
       "\n",
       "    function on_click_closure(name) {\n",
       "        return function (_event) {\n",
       "            return fig.toolbar_button_onclick(name);\n",
       "        };\n",
       "    }\n",
       "\n",
       "    function on_mouseover_closure(tooltip) {\n",
       "        return function (event) {\n",
       "            if (!event.currentTarget.disabled) {\n",
       "                return fig.toolbar_button_onmouseover(tooltip);\n",
       "            }\n",
       "        };\n",
       "    }\n",
       "\n",
       "    fig.buttons = {};\n",
       "    var buttonGroup = document.createElement('div');\n",
       "    buttonGroup.classList = 'mpl-button-group';\n",
       "    for (var toolbar_ind in mpl.toolbar_items) {\n",
       "        var name = mpl.toolbar_items[toolbar_ind][0];\n",
       "        var tooltip = mpl.toolbar_items[toolbar_ind][1];\n",
       "        var image = mpl.toolbar_items[toolbar_ind][2];\n",
       "        var method_name = mpl.toolbar_items[toolbar_ind][3];\n",
       "\n",
       "        if (!name) {\n",
       "            /* Instead of a spacer, we start a new button group. */\n",
       "            if (buttonGroup.hasChildNodes()) {\n",
       "                toolbar.appendChild(buttonGroup);\n",
       "            }\n",
       "            buttonGroup = document.createElement('div');\n",
       "            buttonGroup.classList = 'mpl-button-group';\n",
       "            continue;\n",
       "        }\n",
       "\n",
       "        var button = (fig.buttons[name] = document.createElement('button'));\n",
       "        button.classList = 'mpl-widget';\n",
       "        button.setAttribute('role', 'button');\n",
       "        button.setAttribute('aria-disabled', 'false');\n",
       "        button.addEventListener('click', on_click_closure(method_name));\n",
       "        button.addEventListener('mouseover', on_mouseover_closure(tooltip));\n",
       "\n",
       "        var icon_img = document.createElement('img');\n",
       "        icon_img.src = '_images/' + image + '.png';\n",
       "        icon_img.srcset = '_images/' + image + '_large.png 2x';\n",
       "        icon_img.alt = tooltip;\n",
       "        button.appendChild(icon_img);\n",
       "\n",
       "        buttonGroup.appendChild(button);\n",
       "    }\n",
       "\n",
       "    if (buttonGroup.hasChildNodes()) {\n",
       "        toolbar.appendChild(buttonGroup);\n",
       "    }\n",
       "\n",
       "    var fmt_picker = document.createElement('select');\n",
       "    fmt_picker.classList = 'mpl-widget';\n",
       "    toolbar.appendChild(fmt_picker);\n",
       "    this.format_dropdown = fmt_picker;\n",
       "\n",
       "    for (var ind in mpl.extensions) {\n",
       "        var fmt = mpl.extensions[ind];\n",
       "        var option = document.createElement('option');\n",
       "        option.selected = fmt === mpl.default_extension;\n",
       "        option.innerHTML = fmt;\n",
       "        fmt_picker.appendChild(option);\n",
       "    }\n",
       "\n",
       "    var status_bar = document.createElement('span');\n",
       "    status_bar.classList = 'mpl-message';\n",
       "    toolbar.appendChild(status_bar);\n",
       "    this.message = status_bar;\n",
       "};\n",
       "\n",
       "mpl.figure.prototype.request_resize = function (x_pixels, y_pixels) {\n",
       "    // Request matplotlib to resize the figure. Matplotlib will then trigger a resize in the client,\n",
       "    // which will in turn request a refresh of the image.\n",
       "    this.send_message('resize', { width: x_pixels, height: y_pixels });\n",
       "};\n",
       "\n",
       "mpl.figure.prototype.send_message = function (type, properties) {\n",
       "    properties['type'] = type;\n",
       "    properties['figure_id'] = this.id;\n",
       "    this.ws.send(JSON.stringify(properties));\n",
       "};\n",
       "\n",
       "mpl.figure.prototype.send_draw_message = function () {\n",
       "    if (!this.waiting) {\n",
       "        this.waiting = true;\n",
       "        this.ws.send(JSON.stringify({ type: 'draw', figure_id: this.id }));\n",
       "    }\n",
       "};\n",
       "\n",
       "mpl.figure.prototype.handle_save = function (fig, _msg) {\n",
       "    var format_dropdown = fig.format_dropdown;\n",
       "    var format = format_dropdown.options[format_dropdown.selectedIndex].value;\n",
       "    fig.ondownload(fig, format);\n",
       "};\n",
       "\n",
       "mpl.figure.prototype.handle_resize = function (fig, msg) {\n",
       "    var size = msg['size'];\n",
       "    if (size[0] !== fig.canvas.width || size[1] !== fig.canvas.height) {\n",
       "        fig._resize_canvas(size[0], size[1], msg['forward']);\n",
       "        fig.send_message('refresh', {});\n",
       "    }\n",
       "};\n",
       "\n",
       "mpl.figure.prototype.handle_rubberband = function (fig, msg) {\n",
       "    var x0 = msg['x0'] / fig.ratio;\n",
       "    var y0 = (fig.canvas.height - msg['y0']) / fig.ratio;\n",
       "    var x1 = msg['x1'] / fig.ratio;\n",
       "    var y1 = (fig.canvas.height - msg['y1']) / fig.ratio;\n",
       "    x0 = Math.floor(x0) + 0.5;\n",
       "    y0 = Math.floor(y0) + 0.5;\n",
       "    x1 = Math.floor(x1) + 0.5;\n",
       "    y1 = Math.floor(y1) + 0.5;\n",
       "    var min_x = Math.min(x0, x1);\n",
       "    var min_y = Math.min(y0, y1);\n",
       "    var width = Math.abs(x1 - x0);\n",
       "    var height = Math.abs(y1 - y0);\n",
       "\n",
       "    fig.rubberband_context.clearRect(\n",
       "        0,\n",
       "        0,\n",
       "        fig.canvas.width / fig.ratio,\n",
       "        fig.canvas.height / fig.ratio\n",
       "    );\n",
       "\n",
       "    fig.rubberband_context.strokeRect(min_x, min_y, width, height);\n",
       "};\n",
       "\n",
       "mpl.figure.prototype.handle_figure_label = function (fig, msg) {\n",
       "    // Updates the figure title.\n",
       "    fig.header.textContent = msg['label'];\n",
       "};\n",
       "\n",
       "mpl.figure.prototype.handle_cursor = function (fig, msg) {\n",
       "    var cursor = msg['cursor'];\n",
       "    switch (cursor) {\n",
       "        case 0:\n",
       "            cursor = 'pointer';\n",
       "            break;\n",
       "        case 1:\n",
       "            cursor = 'default';\n",
       "            break;\n",
       "        case 2:\n",
       "            cursor = 'crosshair';\n",
       "            break;\n",
       "        case 3:\n",
       "            cursor = 'move';\n",
       "            break;\n",
       "    }\n",
       "    fig.rubberband_canvas.style.cursor = cursor;\n",
       "};\n",
       "\n",
       "mpl.figure.prototype.handle_message = function (fig, msg) {\n",
       "    fig.message.textContent = msg['message'];\n",
       "};\n",
       "\n",
       "mpl.figure.prototype.handle_draw = function (fig, _msg) {\n",
       "    // Request the server to send over a new figure.\n",
       "    fig.send_draw_message();\n",
       "};\n",
       "\n",
       "mpl.figure.prototype.handle_image_mode = function (fig, msg) {\n",
       "    fig.image_mode = msg['mode'];\n",
       "};\n",
       "\n",
       "mpl.figure.prototype.handle_history_buttons = function (fig, msg) {\n",
       "    for (var key in msg) {\n",
       "        if (!(key in fig.buttons)) {\n",
       "            continue;\n",
       "        }\n",
       "        fig.buttons[key].disabled = !msg[key];\n",
       "        fig.buttons[key].setAttribute('aria-disabled', !msg[key]);\n",
       "    }\n",
       "};\n",
       "\n",
       "mpl.figure.prototype.handle_navigate_mode = function (fig, msg) {\n",
       "    if (msg['mode'] === 'PAN') {\n",
       "        fig.buttons['Pan'].classList.add('active');\n",
       "        fig.buttons['Zoom'].classList.remove('active');\n",
       "    } else if (msg['mode'] === 'ZOOM') {\n",
       "        fig.buttons['Pan'].classList.remove('active');\n",
       "        fig.buttons['Zoom'].classList.add('active');\n",
       "    } else {\n",
       "        fig.buttons['Pan'].classList.remove('active');\n",
       "        fig.buttons['Zoom'].classList.remove('active');\n",
       "    }\n",
       "};\n",
       "\n",
       "mpl.figure.prototype.updated_canvas_event = function () {\n",
       "    // Called whenever the canvas gets updated.\n",
       "    this.send_message('ack', {});\n",
       "};\n",
       "\n",
       "// A function to construct a web socket function for onmessage handling.\n",
       "// Called in the figure constructor.\n",
       "mpl.figure.prototype._make_on_message_function = function (fig) {\n",
       "    return function socket_on_message(evt) {\n",
       "        if (evt.data instanceof Blob) {\n",
       "            /* FIXME: We get \"Resource interpreted as Image but\n",
       "             * transferred with MIME type text/plain:\" errors on\n",
       "             * Chrome.  But how to set the MIME type?  It doesn't seem\n",
       "             * to be part of the websocket stream */\n",
       "            evt.data.type = 'image/png';\n",
       "\n",
       "            /* Free the memory for the previous frames */\n",
       "            if (fig.imageObj.src) {\n",
       "                (window.URL || window.webkitURL).revokeObjectURL(\n",
       "                    fig.imageObj.src\n",
       "                );\n",
       "            }\n",
       "\n",
       "            fig.imageObj.src = (window.URL || window.webkitURL).createObjectURL(\n",
       "                evt.data\n",
       "            );\n",
       "            fig.updated_canvas_event();\n",
       "            fig.waiting = false;\n",
       "            return;\n",
       "        } else if (\n",
       "            typeof evt.data === 'string' &&\n",
       "            evt.data.slice(0, 21) === 'data:image/png;base64'\n",
       "        ) {\n",
       "            fig.imageObj.src = evt.data;\n",
       "            fig.updated_canvas_event();\n",
       "            fig.waiting = false;\n",
       "            return;\n",
       "        }\n",
       "\n",
       "        var msg = JSON.parse(evt.data);\n",
       "        var msg_type = msg['type'];\n",
       "\n",
       "        // Call the  \"handle_{type}\" callback, which takes\n",
       "        // the figure and JSON message as its only arguments.\n",
       "        try {\n",
       "            var callback = fig['handle_' + msg_type];\n",
       "        } catch (e) {\n",
       "            console.log(\n",
       "                \"No handler for the '\" + msg_type + \"' message type: \",\n",
       "                msg\n",
       "            );\n",
       "            return;\n",
       "        }\n",
       "\n",
       "        if (callback) {\n",
       "            try {\n",
       "                // console.log(\"Handling '\" + msg_type + \"' message: \", msg);\n",
       "                callback(fig, msg);\n",
       "            } catch (e) {\n",
       "                console.log(\n",
       "                    \"Exception inside the 'handler_\" + msg_type + \"' callback:\",\n",
       "                    e,\n",
       "                    e.stack,\n",
       "                    msg\n",
       "                );\n",
       "            }\n",
       "        }\n",
       "    };\n",
       "};\n",
       "\n",
       "// from http://stackoverflow.com/questions/1114465/getting-mouse-location-in-canvas\n",
       "mpl.findpos = function (e) {\n",
       "    //this section is from http://www.quirksmode.org/js/events_properties.html\n",
       "    var targ;\n",
       "    if (!e) {\n",
       "        e = window.event;\n",
       "    }\n",
       "    if (e.target) {\n",
       "        targ = e.target;\n",
       "    } else if (e.srcElement) {\n",
       "        targ = e.srcElement;\n",
       "    }\n",
       "    if (targ.nodeType === 3) {\n",
       "        // defeat Safari bug\n",
       "        targ = targ.parentNode;\n",
       "    }\n",
       "\n",
       "    // pageX,Y are the mouse positions relative to the document\n",
       "    var boundingRect = targ.getBoundingClientRect();\n",
       "    var x = e.pageX - (boundingRect.left + document.body.scrollLeft);\n",
       "    var y = e.pageY - (boundingRect.top + document.body.scrollTop);\n",
       "\n",
       "    return { x: x, y: y };\n",
       "};\n",
       "\n",
       "/*\n",
       " * return a copy of an object with only non-object keys\n",
       " * we need this to avoid circular references\n",
       " * http://stackoverflow.com/a/24161582/3208463\n",
       " */\n",
       "function simpleKeys(original) {\n",
       "    return Object.keys(original).reduce(function (obj, key) {\n",
       "        if (typeof original[key] !== 'object') {\n",
       "            obj[key] = original[key];\n",
       "        }\n",
       "        return obj;\n",
       "    }, {});\n",
       "}\n",
       "\n",
       "mpl.figure.prototype.mouse_event = function (event, name) {\n",
       "    var canvas_pos = mpl.findpos(event);\n",
       "\n",
       "    if (name === 'button_press') {\n",
       "        this.canvas.focus();\n",
       "        this.canvas_div.focus();\n",
       "    }\n",
       "\n",
       "    var x = canvas_pos.x * this.ratio;\n",
       "    var y = canvas_pos.y * this.ratio;\n",
       "\n",
       "    this.send_message(name, {\n",
       "        x: x,\n",
       "        y: y,\n",
       "        button: event.button,\n",
       "        step: event.step,\n",
       "        guiEvent: simpleKeys(event),\n",
       "    });\n",
       "\n",
       "    /* This prevents the web browser from automatically changing to\n",
       "     * the text insertion cursor when the button is pressed.  We want\n",
       "     * to control all of the cursor setting manually through the\n",
       "     * 'cursor' event from matplotlib */\n",
       "    event.preventDefault();\n",
       "    return false;\n",
       "};\n",
       "\n",
       "mpl.figure.prototype._key_event_extra = function (_event, _name) {\n",
       "    // Handle any extra behaviour associated with a key event\n",
       "};\n",
       "\n",
       "mpl.figure.prototype.key_event = function (event, name) {\n",
       "    // Prevent repeat events\n",
       "    if (name === 'key_press') {\n",
       "        if (event.which === this._key) {\n",
       "            return;\n",
       "        } else {\n",
       "            this._key = event.which;\n",
       "        }\n",
       "    }\n",
       "    if (name === 'key_release') {\n",
       "        this._key = null;\n",
       "    }\n",
       "\n",
       "    var value = '';\n",
       "    if (event.ctrlKey && event.which !== 17) {\n",
       "        value += 'ctrl+';\n",
       "    }\n",
       "    if (event.altKey && event.which !== 18) {\n",
       "        value += 'alt+';\n",
       "    }\n",
       "    if (event.shiftKey && event.which !== 16) {\n",
       "        value += 'shift+';\n",
       "    }\n",
       "\n",
       "    value += 'k';\n",
       "    value += event.which.toString();\n",
       "\n",
       "    this._key_event_extra(event, name);\n",
       "\n",
       "    this.send_message(name, { key: value, guiEvent: simpleKeys(event) });\n",
       "    return false;\n",
       "};\n",
       "\n",
       "mpl.figure.prototype.toolbar_button_onclick = function (name) {\n",
       "    if (name === 'download') {\n",
       "        this.handle_save(this, null);\n",
       "    } else {\n",
       "        this.send_message('toolbar_button', { name: name });\n",
       "    }\n",
       "};\n",
       "\n",
       "mpl.figure.prototype.toolbar_button_onmouseover = function (tooltip) {\n",
       "    this.message.textContent = tooltip;\n",
       "};\n",
       "\n",
       "///////////////// REMAINING CONTENT GENERATED BY embed_js.py /////////////////\n",
       "// prettier-ignore\n",
       "var _JSXTOOLS_RESIZE_OBSERVER=function(A){var t,i=new WeakMap,n=new WeakMap,a=new WeakMap,r=new WeakMap,o=new Set;function s(e){if(!(this instanceof s))throw new TypeError(\"Constructor requires 'new' operator\");i.set(this,e)}function h(){throw new TypeError(\"Function is not a constructor\")}function c(e,t,i,n){e=0 in arguments?Number(arguments[0]):0,t=1 in arguments?Number(arguments[1]):0,i=2 in arguments?Number(arguments[2]):0,n=3 in arguments?Number(arguments[3]):0,this.right=(this.x=this.left=e)+(this.width=i),this.bottom=(this.y=this.top=t)+(this.height=n),Object.freeze(this)}function d(){t=requestAnimationFrame(d);var s=new WeakMap,p=new Set;o.forEach((function(t){r.get(t).forEach((function(i){var r=t instanceof window.SVGElement,o=a.get(t),d=r?0:parseFloat(o.paddingTop),f=r?0:parseFloat(o.paddingRight),l=r?0:parseFloat(o.paddingBottom),u=r?0:parseFloat(o.paddingLeft),g=r?0:parseFloat(o.borderTopWidth),m=r?0:parseFloat(o.borderRightWidth),w=r?0:parseFloat(o.borderBottomWidth),b=u+f,F=d+l,v=(r?0:parseFloat(o.borderLeftWidth))+m,W=g+w,y=r?0:t.offsetHeight-W-t.clientHeight,E=r?0:t.offsetWidth-v-t.clientWidth,R=b+v,z=F+W,M=r?t.width:parseFloat(o.width)-R-E,O=r?t.height:parseFloat(o.height)-z-y;if(n.has(t)){var k=n.get(t);if(k[0]===M&&k[1]===O)return}n.set(t,[M,O]);var S=Object.create(h.prototype);S.target=t,S.contentRect=new c(u,d,M,O),s.has(i)||(s.set(i,[]),p.add(i)),s.get(i).push(S)}))})),p.forEach((function(e){i.get(e).call(e,s.get(e),e)}))}return s.prototype.observe=function(i){if(i instanceof window.Element){r.has(i)||(r.set(i,new Set),o.add(i),a.set(i,window.getComputedStyle(i)));var n=r.get(i);n.has(this)||n.add(this),cancelAnimationFrame(t),t=requestAnimationFrame(d)}},s.prototype.unobserve=function(i){if(i instanceof window.Element&&r.has(i)){var n=r.get(i);n.has(this)&&(n.delete(this),n.size||(r.delete(i),o.delete(i))),n.size||r.delete(i),o.size||cancelAnimationFrame(t)}},A.DOMRectReadOnly=c,A.ResizeObserver=s,A.ResizeObserverEntry=h,A}; // eslint-disable-line\n",
       "mpl.toolbar_items = [[\"Home\", \"Reset original view\", \"fa fa-home icon-home\", \"home\"], [\"Back\", \"Back to previous view\", \"fa fa-arrow-left icon-arrow-left\", \"back\"], [\"Forward\", \"Forward to next view\", \"fa fa-arrow-right icon-arrow-right\", \"forward\"], [\"\", \"\", \"\", \"\"], [\"Pan\", \"Left button pans, Right button zooms\\nx/y fixes axis, CTRL fixes aspect\", \"fa fa-arrows icon-move\", \"pan\"], [\"Zoom\", \"Zoom to rectangle\\nx/y fixes axis, CTRL fixes aspect\", \"fa fa-square-o icon-check-empty\", \"zoom\"], [\"\", \"\", \"\", \"\"], [\"Download\", \"Download plot\", \"fa fa-floppy-o icon-save\", \"download\"]];\n",
       "\n",
       "mpl.extensions = [\"eps\", \"jpeg\", \"pdf\", \"png\", \"ps\", \"raw\", \"svg\", \"tif\"];\n",
       "\n",
       "mpl.default_extension = \"png\";/* global mpl */\n",
       "\n",
       "var comm_websocket_adapter = function (comm) {\n",
       "    // Create a \"websocket\"-like object which calls the given IPython comm\n",
       "    // object with the appropriate methods. Currently this is a non binary\n",
       "    // socket, so there is still some room for performance tuning.\n",
       "    var ws = {};\n",
       "\n",
       "    ws.close = function () {\n",
       "        comm.close();\n",
       "    };\n",
       "    ws.send = function (m) {\n",
       "        //console.log('sending', m);\n",
       "        comm.send(m);\n",
       "    };\n",
       "    // Register the callback with on_msg.\n",
       "    comm.on_msg(function (msg) {\n",
       "        //console.log('receiving', msg['content']['data'], msg);\n",
       "        // Pass the mpl event to the overridden (by mpl) onmessage function.\n",
       "        ws.onmessage(msg['content']['data']);\n",
       "    });\n",
       "    return ws;\n",
       "};\n",
       "\n",
       "mpl.mpl_figure_comm = function (comm, msg) {\n",
       "    // This is the function which gets called when the mpl process\n",
       "    // starts-up an IPython Comm through the \"matplotlib\" channel.\n",
       "\n",
       "    var id = msg.content.data.id;\n",
       "    // Get hold of the div created by the display call when the Comm\n",
       "    // socket was opened in Python.\n",
       "    var element = document.getElementById(id);\n",
       "    var ws_proxy = comm_websocket_adapter(comm);\n",
       "\n",
       "    function ondownload(figure, _format) {\n",
       "        window.open(figure.canvas.toDataURL());\n",
       "    }\n",
       "\n",
       "    var fig = new mpl.figure(id, ws_proxy, ondownload, element);\n",
       "\n",
       "    // Call onopen now - mpl needs it, as it is assuming we've passed it a real\n",
       "    // web socket which is closed, not our websocket->open comm proxy.\n",
       "    ws_proxy.onopen();\n",
       "\n",
       "    fig.parent_element = element;\n",
       "    fig.cell_info = mpl.find_output_cell(\"<div id='\" + id + \"'></div>\");\n",
       "    if (!fig.cell_info) {\n",
       "        console.error('Failed to find cell for figure', id, fig);\n",
       "        return;\n",
       "    }\n",
       "    fig.cell_info[0].output_area.element.on(\n",
       "        'cleared',\n",
       "        { fig: fig },\n",
       "        fig._remove_fig_handler\n",
       "    );\n",
       "};\n",
       "\n",
       "mpl.figure.prototype.handle_close = function (fig, msg) {\n",
       "    var width = fig.canvas.width / fig.ratio;\n",
       "    fig.cell_info[0].output_area.element.off(\n",
       "        'cleared',\n",
       "        fig._remove_fig_handler\n",
       "    );\n",
       "    fig.resizeObserverInstance.unobserve(fig.canvas_div);\n",
       "\n",
       "    // Update the output cell to use the data from the current canvas.\n",
       "    fig.push_to_output();\n",
       "    var dataURL = fig.canvas.toDataURL();\n",
       "    // Re-enable the keyboard manager in IPython - without this line, in FF,\n",
       "    // the notebook keyboard shortcuts fail.\n",
       "    IPython.keyboard_manager.enable();\n",
       "    fig.parent_element.innerHTML =\n",
       "        '<img src=\"' + dataURL + '\" width=\"' + width + '\">';\n",
       "    fig.close_ws(fig, msg);\n",
       "};\n",
       "\n",
       "mpl.figure.prototype.close_ws = function (fig, msg) {\n",
       "    fig.send_message('closing', msg);\n",
       "    // fig.ws.close()\n",
       "};\n",
       "\n",
       "mpl.figure.prototype.push_to_output = function (_remove_interactive) {\n",
       "    // Turn the data on the canvas into data in the output cell.\n",
       "    var width = this.canvas.width / this.ratio;\n",
       "    var dataURL = this.canvas.toDataURL();\n",
       "    this.cell_info[1]['text/html'] =\n",
       "        '<img src=\"' + dataURL + '\" width=\"' + width + '\">';\n",
       "};\n",
       "\n",
       "mpl.figure.prototype.updated_canvas_event = function () {\n",
       "    // Tell IPython that the notebook contents must change.\n",
       "    IPython.notebook.set_dirty(true);\n",
       "    this.send_message('ack', {});\n",
       "    var fig = this;\n",
       "    // Wait a second, then push the new image to the DOM so\n",
       "    // that it is saved nicely (might be nice to debounce this).\n",
       "    setTimeout(function () {\n",
       "        fig.push_to_output();\n",
       "    }, 1000);\n",
       "};\n",
       "\n",
       "mpl.figure.prototype._init_toolbar = function () {\n",
       "    var fig = this;\n",
       "\n",
       "    var toolbar = document.createElement('div');\n",
       "    toolbar.classList = 'btn-toolbar';\n",
       "    this.root.appendChild(toolbar);\n",
       "\n",
       "    function on_click_closure(name) {\n",
       "        return function (_event) {\n",
       "            return fig.toolbar_button_onclick(name);\n",
       "        };\n",
       "    }\n",
       "\n",
       "    function on_mouseover_closure(tooltip) {\n",
       "        return function (event) {\n",
       "            if (!event.currentTarget.disabled) {\n",
       "                return fig.toolbar_button_onmouseover(tooltip);\n",
       "            }\n",
       "        };\n",
       "    }\n",
       "\n",
       "    fig.buttons = {};\n",
       "    var buttonGroup = document.createElement('div');\n",
       "    buttonGroup.classList = 'btn-group';\n",
       "    var button;\n",
       "    for (var toolbar_ind in mpl.toolbar_items) {\n",
       "        var name = mpl.toolbar_items[toolbar_ind][0];\n",
       "        var tooltip = mpl.toolbar_items[toolbar_ind][1];\n",
       "        var image = mpl.toolbar_items[toolbar_ind][2];\n",
       "        var method_name = mpl.toolbar_items[toolbar_ind][3];\n",
       "\n",
       "        if (!name) {\n",
       "            /* Instead of a spacer, we start a new button group. */\n",
       "            if (buttonGroup.hasChildNodes()) {\n",
       "                toolbar.appendChild(buttonGroup);\n",
       "            }\n",
       "            buttonGroup = document.createElement('div');\n",
       "            buttonGroup.classList = 'btn-group';\n",
       "            continue;\n",
       "        }\n",
       "\n",
       "        button = fig.buttons[name] = document.createElement('button');\n",
       "        button.classList = 'btn btn-default';\n",
       "        button.href = '#';\n",
       "        button.title = name;\n",
       "        button.innerHTML = '<i class=\"fa ' + image + ' fa-lg\"></i>';\n",
       "        button.addEventListener('click', on_click_closure(method_name));\n",
       "        button.addEventListener('mouseover', on_mouseover_closure(tooltip));\n",
       "        buttonGroup.appendChild(button);\n",
       "    }\n",
       "\n",
       "    if (buttonGroup.hasChildNodes()) {\n",
       "        toolbar.appendChild(buttonGroup);\n",
       "    }\n",
       "\n",
       "    // Add the status bar.\n",
       "    var status_bar = document.createElement('span');\n",
       "    status_bar.classList = 'mpl-message pull-right';\n",
       "    toolbar.appendChild(status_bar);\n",
       "    this.message = status_bar;\n",
       "\n",
       "    // Add the close button to the window.\n",
       "    var buttongrp = document.createElement('div');\n",
       "    buttongrp.classList = 'btn-group inline pull-right';\n",
       "    button = document.createElement('button');\n",
       "    button.classList = 'btn btn-mini btn-primary';\n",
       "    button.href = '#';\n",
       "    button.title = 'Stop Interaction';\n",
       "    button.innerHTML = '<i class=\"fa fa-power-off icon-remove icon-large\"></i>';\n",
       "    button.addEventListener('click', function (_evt) {\n",
       "        fig.handle_close(fig, {});\n",
       "    });\n",
       "    button.addEventListener(\n",
       "        'mouseover',\n",
       "        on_mouseover_closure('Stop Interaction')\n",
       "    );\n",
       "    buttongrp.appendChild(button);\n",
       "    var titlebar = this.root.querySelector('.ui-dialog-titlebar');\n",
       "    titlebar.insertBefore(buttongrp, titlebar.firstChild);\n",
       "};\n",
       "\n",
       "mpl.figure.prototype._remove_fig_handler = function (event) {\n",
       "    var fig = event.data.fig;\n",
       "    if (event.target !== this) {\n",
       "        // Ignore bubbled events from children.\n",
       "        return;\n",
       "    }\n",
       "    fig.close_ws(fig, {});\n",
       "};\n",
       "\n",
       "mpl.figure.prototype._root_extra_style = function (el) {\n",
       "    el.style.boxSizing = 'content-box'; // override notebook setting of border-box.\n",
       "};\n",
       "\n",
       "mpl.figure.prototype._canvas_extra_style = function (el) {\n",
       "    // this is important to make the div 'focusable\n",
       "    el.setAttribute('tabindex', 0);\n",
       "    // reach out to IPython and tell the keyboard manager to turn it's self\n",
       "    // off when our div gets focus\n",
       "\n",
       "    // location in version 3\n",
       "    if (IPython.notebook.keyboard_manager) {\n",
       "        IPython.notebook.keyboard_manager.register_events(el);\n",
       "    } else {\n",
       "        // location in version 2\n",
       "        IPython.keyboard_manager.register_events(el);\n",
       "    }\n",
       "};\n",
       "\n",
       "mpl.figure.prototype._key_event_extra = function (event, _name) {\n",
       "    var manager = IPython.notebook.keyboard_manager;\n",
       "    if (!manager) {\n",
       "        manager = IPython.keyboard_manager;\n",
       "    }\n",
       "\n",
       "    // Check for shift+enter\n",
       "    if (event.shiftKey && event.which === 13) {\n",
       "        this.canvas_div.blur();\n",
       "        // select the cell after this one\n",
       "        var index = IPython.notebook.find_cell_index(this.cell_info[0]);\n",
       "        IPython.notebook.select(index + 1);\n",
       "    }\n",
       "};\n",
       "\n",
       "mpl.figure.prototype.handle_save = function (fig, _msg) {\n",
       "    fig.ondownload(fig, null);\n",
       "};\n",
       "\n",
       "mpl.find_output_cell = function (html_output) {\n",
       "    // Return the cell and output element which can be found *uniquely* in the notebook.\n",
       "    // Note - this is a bit hacky, but it is done because the \"notebook_saving.Notebook\"\n",
       "    // IPython event is triggered only after the cells have been serialised, which for\n",
       "    // our purposes (turning an active figure into a static one), is too late.\n",
       "    var cells = IPython.notebook.get_cells();\n",
       "    var ncells = cells.length;\n",
       "    for (var i = 0; i < ncells; i++) {\n",
       "        var cell = cells[i];\n",
       "        if (cell.cell_type === 'code') {\n",
       "            for (var j = 0; j < cell.output_area.outputs.length; j++) {\n",
       "                var data = cell.output_area.outputs[j];\n",
       "                if (data.data) {\n",
       "                    // IPython >= 3 moved mimebundle to data attribute of output\n",
       "                    data = data.data;\n",
       "                }\n",
       "                if (data['text/html'] === html_output) {\n",
       "                    return [cell, data, j];\n",
       "                }\n",
       "            }\n",
       "        }\n",
       "    }\n",
       "};\n",
       "\n",
       "// Register the function which deals with the matplotlib target/channel.\n",
       "// The kernel may be null if the page has been refreshed.\n",
       "if (IPython.notebook.kernel !== null) {\n",
       "    IPython.notebook.kernel.comm_manager.register_target(\n",
       "        'matplotlib',\n",
       "        mpl.mpl_figure_comm\n",
       "    );\n",
       "}\n"
      ],
      "text/plain": [
       "<IPython.core.display.Javascript object>"
      ]
     },
     "metadata": {},
     "output_type": "display_data"
    },
    {
     "data": {
      "text/html": [
       "<img src=\"data:image/png;base64,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\" width=\"1200\">"
      ],
      "text/plain": [
       "<IPython.core.display.HTML object>"
      ]
     },
     "metadata": {},
     "output_type": "display_data"
    }
   ],
   "source": [
    "x_select = 3\n",
    "y_select = 2\n",
    "\n",
    "resp_mat_0Vr = np.squeeze(Nd_mat[:,:,1,:,dc_step_read]['Amplitude [V]'] \n",
    "                          * np.cos(Nd_mat[:,:,1,:,dc_step_read]['Phase [rad]'])*1000)\n",
    "amp_mat_0Vr = np.squeeze(Nd_mat[:,:,1,:,dc_step_read]['Amplitude [V]'])*1000\n",
    "phase_mat_0Vr = np.squeeze(Nd_mat[:,:,1,:,dc_step_read]['Phase [rad]'])\n",
    "\n",
    "\n",
    "fig_r0V = plt.figure(figsize=(12,4))  \n",
    "fig_r0V.clf()\n",
    "fig_r0V.set_facecolor('white')\n",
    "ax_resp = plt.subplot2grid((1, 3), (0, 0), colspan=1, rowspan=1)\n",
    "ax_amp = plt.subplot2grid((1, 3), (0, 1), colspan=1, rowspan=1)\n",
    "ax_phase = plt.subplot2grid((1, 3), (0, 2), colspan=1, rowspan=1)\n",
    "\n",
    "ax_resp.plot(bias_vec_w[:], resp_mat_0Vr[y_select, x_select, :],'.-')\n",
    "ax_resp.set_xlabel('Write voltage [V]', fontsize = 12)\n",
    "ax_resp.set_ylabel('Response [a.u.]', fontsize = 12)\n",
    "\n",
    "ax_amp.plot(bias_vec_w[:], amp_mat_0Vr[y_select, x_select, :],'.-')\n",
    "ax_amp.set_xlabel('Write voltage [V]', fontsize = 12)\n",
    "ax_amp.set_ylabel('Amplitude [a.u.]', fontsize = 12)\n",
    "\n",
    "ax_phase.plot(bias_vec_w[:], phase_mat_0Vr[y_select, x_select, :],'.-')\n",
    "ax_phase.set_xlabel('Write voltage [V]', fontsize = 12)\n",
    "ax_phase.set_ylabel('Phase [rad]', fontsize = 12)\n",
    "ax_phase.set_ylim([-4, 4])\n",
    "\n",
    "fig_r0V.tight_layout()"
   ]
  },
  {
   "cell_type": "markdown",
   "metadata": {},
   "source": [
    "## Display on-field loops for all read steps\n",
    "\n",
    "The figure shows on-field response vs. write voltage for all read voltages (color coded) averaged over the whole map."
   ]
  },
  {
   "cell_type": "code",
   "execution_count": 20,
   "metadata": {},
   "outputs": [
    {
     "ename": "AttributeError",
     "evalue": "module 'numpy' has no attribute 'matlib'",
     "output_type": "error",
     "traceback": [
      "\u001b[1;31m---------------------------------------------------------------------------\u001b[0m",
      "\u001b[1;31mAttributeError\u001b[0m                            Traceback (most recent call last)",
      "\u001b[1;32m<ipython-input-20-ce0dd88f5b35>\u001b[0m in \u001b[0;36m<module>\u001b[1;34m\u001b[0m\n\u001b[0;32m      8\u001b[0m \u001b[0mresp_IF_std\u001b[0m \u001b[1;33m=\u001b[0m \u001b[0mnp\u001b[0m\u001b[1;33m.\u001b[0m\u001b[0mnanstd\u001b[0m\u001b[1;33m(\u001b[0m\u001b[0mresp_IF_std1\u001b[0m\u001b[1;33m,\u001b[0m\u001b[0maxis\u001b[0m \u001b[1;33m=\u001b[0m \u001b[1;36m0\u001b[0m\u001b[1;33m)\u001b[0m\u001b[1;33m\u001b[0m\u001b[1;33m\u001b[0m\u001b[0m\n\u001b[0;32m      9\u001b[0m \u001b[1;33m\u001b[0m\u001b[0m\n\u001b[1;32m---> 10\u001b[1;33m \u001b[0mbias_vec_w_graph\u001b[0m \u001b[1;33m=\u001b[0m \u001b[0mnp\u001b[0m\u001b[1;33m.\u001b[0m\u001b[0mmatlib\u001b[0m\u001b[1;33m.\u001b[0m\u001b[0mrepmat\u001b[0m\u001b[1;33m(\u001b[0m\u001b[0mbias_vec_w\u001b[0m\u001b[1;33m,\u001b[0m\u001b[0mnum_read_steps\u001b[0m\u001b[1;33m,\u001b[0m \u001b[1;36m1\u001b[0m\u001b[1;33m)\u001b[0m\u001b[1;33m\u001b[0m\u001b[1;33m\u001b[0m\u001b[0m\n\u001b[0m\u001b[0;32m     11\u001b[0m \u001b[1;31m# print(resp_IF_mean.shape, resp_IF_std.shape, bias_vec_w_graph.shape)\u001b[0m\u001b[1;33m\u001b[0m\u001b[1;33m\u001b[0m\u001b[1;33m\u001b[0m\u001b[0m\n\u001b[0;32m     12\u001b[0m \u001b[1;33m\u001b[0m\u001b[0m\n",
      "\u001b[1;32m~\\Anaconda3\\lib\\site-packages\\numpy\\__init__.py\u001b[0m in \u001b[0;36m__getattr__\u001b[1;34m(attr)\u001b[0m\n\u001b[0;32m    301\u001b[0m                 \u001b[1;32mreturn\u001b[0m \u001b[0mTester\u001b[0m\u001b[1;33m\u001b[0m\u001b[1;33m\u001b[0m\u001b[0m\n\u001b[0;32m    302\u001b[0m \u001b[1;33m\u001b[0m\u001b[0m\n\u001b[1;32m--> 303\u001b[1;33m             raise AttributeError(\"module {!r} has no attribute \"\n\u001b[0m\u001b[0;32m    304\u001b[0m                                  \"{!r}\".format(__name__, attr))\n\u001b[0;32m    305\u001b[0m \u001b[1;33m\u001b[0m\u001b[0m\n",
      "\u001b[1;31mAttributeError\u001b[0m: module 'numpy' has no attribute 'matlib'"
     ]
    }
   ],
   "source": [
    "resp_mat_IF = np.squeeze(Nd_mat[:,:,0,:,:]['Amplitude [V]'] \n",
    "                          * np.cos(Nd_mat[:,:,0,:,:]['Phase [rad]'])*1000)\n",
    "\n",
    "# Calculate response at 0 V read voltage averaged over all pixels\n",
    "resp_IF_mean1 = np.nanmean(resp_mat_IF,axis = 0)\n",
    "resp_IF_std1 = np.nanstd(resp_mat_IF,axis = 0)\n",
    "resp_IF_mean = np.nanmean(resp_IF_mean1,axis = 0)\n",
    "resp_IF_std = np.nanstd(resp_IF_std1,axis = 0)\n",
    "\n",
    "bias_vec_w_graph = np.matlib.repmat(bias_vec_w,num_read_steps, 1)\n",
    "# print(resp_IF_mean.shape, resp_IF_std.shape, bias_vec_w_graph.shape)\n",
    "\n",
    "fig_IF = plt.figure(figsize=(6,6))  \n",
    "fig_IF.clf()\n",
    "fig_IF.set_facecolor('white')\n",
    "ax_plot = plt.subplot2grid((15, 5), (0, 0), colspan=5, rowspan=12)\n",
    "ax_colorbar = plt.subplot2grid((15, 5), (14, 0), colspan=5, rowspan=1)\n",
    "\n",
    "px.plot_utils.plot_line_family(ax_plot, np.transpose(bias_vec_w_graph), np.transpose(resp_IF_mean), line_names='None',label_prefix='Line', label_suffix='', cmap=plt.cm.jet)\n",
    "# ax_plot.plot(bias_vec_w[:], resp_IF_mean, '.-')\n",
    "# ax_plot.errorbar(bias_vec_w[:], resp_IF_mean, yerr = resp_IF_std, fmt = '.-')\n",
    "colorbar_mat = np.column_stack((range(0,num_read_steps),range(0,num_read_steps)))\n",
    "ax_colorbar.imshow(np.transpose(colorbar_mat[:,:]), cmap=plt.cm.jet, origin='lower', interpolation='none', aspect = 0.25)\n",
    "ax_colorbar.set_yticklabels('')\n",
    "\n",
    "\n",
    "ax_colorbar.tick_params(axis = 'y', left = 'off', right = 'off')\n",
    "\n",
    "\n",
    "# ax_colorbar.set_xlabel('Read step')\n",
    "    \n",
    "\n",
    "ax_plot.set_xlabel('Write voltage [V]', fontsize = 12)\n",
    "ax_plot.set_ylabel('In field response [a.u.]', fontsize = 12)\n",
    "ax_plot.set_title('Averaged over whole map', fontsize = 12)\n",
    "\n",
    "labels = list(range(num_read_steps))\n",
    "\n",
    "for i in range(0, num_read_steps-0, 1):\n",
    "    labels[i] = str(bias_vec_r[0,i])\n",
    "\n",
    "ax_colorbar.set_xticks(np.arange(num_read_steps))\n",
    "ax_colorbar.set_xticklabels(labels, fontsize = 10)\n",
    "\n",
    "ax_colorbar.set_xlabel('Read voltage [V]', fontsize = 12)\n",
    "# fig_IF.tight_layout();\n",
    "\n",
    "def on_save_button4_clicked(b):\n",
    "    \n",
    "    fig_IF.savefig(output_file_path+'\\IFresponse.png', format='png')\n",
    "    fig_IF.savefig(output_file_path+'\\IFresponse.eps', format='eps')\n",
    "    fig_IF.savefig(output_file_path+'\\IFresponse.tif', format='tiff')\n",
    "\n",
    "    \n",
    "    \n",
    "button4 = widgets.Button(description = 'Save figure')\n",
    "display(button4)\n",
    "button4.on_click(on_save_button4_clicked)"
   ]
  },
  {
   "cell_type": "markdown",
   "metadata": {},
   "source": [
    "## Calculate the jCPD\n",
    "\n",
    "The junction contact potential difference (jCPD) is extracted for each dc write voltage step by linear fitting of the response vs. read bias and calculating the x-intercept.\n",
    "\n",
    "If only a certain (linear) regime of the cKPFM curves should be fitted, set v_read_start_index and v_read_end_index to the first and last index of the data that should be considered for the fit."
   ]
  },
  {
   "cell_type": "code",
   "execution_count": 22,
   "metadata": {},
   "outputs": [
    {
     "name": "stdout",
     "output_type": "stream",
     "text": [
      "v_read_start_index =  0 , v_read_end_index =  10\n",
      "[-1.  -0.8 -0.6 -0.4 -0.2  0.   0.2  0.4  0.6  0.8  1. ]\n"
     ]
    }
   ],
   "source": [
    "#Calculate x intercept -> jCPD\n",
    "\n",
    "v_read_start_index = 0\n",
    "v_read_end_index = num_read_steps-1\n",
    "\n",
    "print('v_read_start_index = ', v_read_start_index, ', v_read_end_index = ', v_read_end_index)\n",
    "# resp_mat_r_all_all = Nd_mat[:,:,1,:,:]['Amplitude [V]'] * np.cos(Nd_mat[:,:,1,:,:]['Phase [rad]'])*1000\n",
    "resp_mat_r_all = Nd_mat[:,:,1,:,v_read_start_index : v_read_end_index+1]['Amplitude [V]'] * np.cos(Nd_mat[:,:,1,:,v_read_start_index : v_read_end_index+1]['Phase [rad]'])*1000\n",
    "\n",
    "\n",
    "# print(num_read_steps)\n",
    "# print(resp_mat_r_all.shape)\n",
    "# print('resp_mat_r_all', resp_mat_r_all[0,0,0,:])\n",
    "# print('resp_mat_r_all_all', resp_mat_r_all_all[0,0,0,:])\n",
    "\n",
    "fit_slope = np.zeros((num_col, num_row, num_write_steps))\n",
    "fit_yintercept = np.zeros((num_col, num_row, num_write_steps))\n",
    "jCPD_mat = np.zeros((num_col, num_row, num_write_steps))\n",
    "   \n",
    "print(bias_vec_r[1,v_read_start_index : v_read_end_index+1])\n",
    "# print(bias_vec_r[1,:])\n",
    "\n",
    "for row in range(num_row):\n",
    "    for col in range(num_col):\n",
    "        for vw in range(0,num_write_steps-1):\n",
    "            fit_coeff = np.polyfit(bias_vec_r[1,v_read_start_index : v_read_end_index+1], resp_mat_r_all[col, row, vw,:],1)\n",
    "            fit_slope[col, row, vw] = fit_coeff[0]\n",
    "            fit_yintercept[col, row, vw] = fit_coeff[1]\n",
    "            jCPD_mat[col, row, vw] = -fit_coeff[1]/ fit_coeff[0]\n",
    "            \n",
    "\n",
    "# fit_y = fit_coeff[0] * bias_vec_r[1,:] + fit_coeff[1]\n",
    "\n",
    "# row = 1\n",
    "# col = 1\n",
    "# vw = 10         \n",
    "# print(fit_slope[col, row, vw])\n",
    "# print(fit_yintercept[col, row, vw])\n",
    "# print(jCPD_mat[col ,row, vw])\n",
    "\n",
    "\n",
    "# plt.figure(1)\n",
    "# plt.plot(bias_vec_r[1,:],resp_mat_r_all[col, row, vw,:],'.-')\n",
    "# plt.plot(bias_vec_r[1,:],fit_y)\n",
    "# print(fit_coeff[0],fit_coeff[1],jCPD_mat[col, row, vw])\n",
    "#Filter outliers from jCPD matrix, (-> improve code)\n",
    "# for r in range(1, num_row):\n",
    "#     for c in range(1, num_col):\n",
    "#         for s in range(1, num_write_steps):\n",
    "#             if jCPD_mat[r-1, c-1, s-1] > 20 or jCPD_mat[r-1, c-1, s-1] < -20:\n",
    "# #                 jCPD_mat[r-1, c-1, s-1] = np.nan\n",
    "#                 jCPD_mat[r-1, c-1, s-1] = 0\n",
    "\n"
   ]
  },
  {
   "cell_type": "markdown",
   "metadata": {},
   "source": [
    "## Display jCPD data\n",
    "Figure shows\n",
    "\n",
    "- The jCPD map for the write voltage step selected with the slider\n",
    "- Graphs of jCPD cross sections along the selected x- and y- axes for the selected write voltage step"
   ]
  },
  {
   "cell_type": "code",
   "execution_count": 24,
   "metadata": {},
   "outputs": [
    {
     "data": {
      "application/vnd.jupyter.widget-view+json": {
       "model_id": "dcf03ab3bfce469388eee0592df282e5",
       "version_major": 2,
       "version_minor": 0
      },
      "text/plain": [
       "interactive(children=(IntSlider(value=0, description='Write Step', max=19), IntSlider(value=0, description='x'…"
      ]
     },
     "metadata": {},
     "output_type": "display_data"
    },
    {
     "data": {
      "application/vnd.jupyter.widget-view+json": {
       "model_id": "eded5cd06e7d499c9a3f761f35cea1ef",
       "version_major": 2,
       "version_minor": 0
      },
      "text/plain": [
       "Button(description='Save figure', style=ButtonStyle())"
      ]
     },
     "metadata": {},
     "output_type": "display_data"
    }
   ],
   "source": [
    "global save_figure\n",
    "\n",
    "save_figure = False\n",
    "\n",
    "#Color scale minimum and maximum\n",
    "cmin = -0.2\n",
    "cmax = 0.02\n",
    "  \n",
    "def make_jCPD_figure(dc_step_write, x_select, y_select):    \n",
    "    global save_figure \n",
    "\n",
    "    fig2 = plt.figure(figsize=(14,8))  \n",
    "    fig2.set_facecolor('white')    \n",
    "    ax_jCPD_xcross_section = plt.subplot2grid((10, 10), (0, 7), colspan=4, rowspan=3)\n",
    "    plt.title('jCPD cross section at x ='+str(x_select), fontsize = 12)\n",
    "    \n",
    "    ax_jCPD_ycross_section = plt.subplot2grid((10, 10), (4, 7), colspan=4, rowspan=3)\n",
    "    plt.title('jCPD cross section at y ='+str(y_select), fontsize = 12)\n",
    "    \n",
    "    ax_jCPD_plot = plt.subplot2grid((10, 10), (0, 0), colspan=6, rowspan=7)\n",
    "    plt.title('jCPD [V] at write voltage = '+str(bias_vec_w[dc_step_write])+' V', fontsize = 12)\n",
    "    \n",
    "\n",
    "    \n",
    "    ax_jCPD_xcross_section.plot(range(num_col),jCPD_mat[:,x_select,dc_step_write],'.-')\n",
    "    ax_jCPD_xcross_section.set_xlabel('Pixel #', fontsize = 12)\n",
    "    ax_jCPD_xcross_section.set_ylabel('jCPD [V]', fontsize = 12)\n",
    "  \n",
    "    ax_jCPD_ycross_section.plot(range(num_row),jCPD_mat[y_select,:,dc_step_write],'.-')\n",
    "    ax_jCPD_ycross_section.set_xlabel('Pixel #', fontsize = 12)\n",
    "    ax_jCPD_ycross_section.set_ylabel('jCPD [V]', fontsize = 12)\n",
    "    \n",
    "#     co_b2 = ax_jCPD_plot.imshow(jCPD_mat[:,:,dc_step_write], \n",
    "#                                 cmap=px.plot_utils.cmap_jet_white_center(), \n",
    "#                                 origin='lower', interpolation='none', clim=(cmin, cmax));\n",
    "    co_b2 = ax_jCPD_plot.imshow(jCPD_mat[:,:,dc_step_write], \n",
    "                                cmap=usid.plot_utils.cmap_jet_white_center(), \n",
    "                                origin='upper', interpolation='none');\n",
    "    cb2 = fig2.colorbar(co_b2)\n",
    "   \n",
    "    \n",
    "    if save_figure == True:\n",
    "        fig2.savefig(output_file_path+'jCPD_map_WriteStep'+str(dc_step_write)+'y'+str(row)+'.png', format='png')\n",
    "        fig2.savefig(output_file_path+'jCPD_map_WriteStep'+str(dc_step_write)+'y'+str(row)+'.eps', format='eps')\n",
    "        save_figure = False;\n",
    "\n",
    "    \n",
    "\n",
    "slider_dict = dict()      \n",
    "dc_step_write_slider = widgets.IntSlider(min = 0, max = num_write_steps-1, step = 1,value = 0,description='Write Step');\n",
    "x_slider = widgets.IntSlider(min = 0, max = num_col, step = 1, value = 0, description = 'x')\n",
    "y_slider = widgets.IntSlider(min = 0, max = num_row, step = 1, value = 0, description = 'y')\n",
    "\n",
    "widgets.interact(make_jCPD_figure, dc_step_write = dc_step_write_slider, x_select = x_slider, y_select = y_slider, **slider_dict); \n",
    "\n",
    "\n",
    "def on_save_button2_clicked(b):\n",
    "    global save_figure\n",
    "    save_figure = True \n",
    "    \n",
    "    dc_step_write = dc_step_write_slider.value\n",
    "    x_select = x_slider.value\n",
    "    y_select = y_slider.value\n",
    "     \n",
    "    make_jCPD_figure(dc_step_write, x_select, y_select)\n",
    "    \n",
    "    \n",
    "button2 = widgets.Button(description = 'Save figure')\n",
    "display(button2)\n",
    "button2.on_click(on_save_button2_clicked)"
   ]
  },
  {
   "cell_type": "markdown",
   "metadata": {},
   "source": [
    "## Display jCPD and fitting parameters\n",
    "\n",
    "Figure shows maps of\n",
    "- jCPD\n",
    "- slope\n",
    "- y-intercept\n",
    "\n",
    "for the write voltage step selected with slider."
   ]
  },
  {
   "cell_type": "code",
   "execution_count": 26,
   "metadata": {},
   "outputs": [
    {
     "data": {
      "application/vnd.jupyter.widget-view+json": {
       "model_id": "2fd22b8a497543e7b416ae3134a04553",
       "version_major": 2,
       "version_minor": 0
      },
      "text/plain": [
       "interactive(children=(IntSlider(value=0, description='Write Step', max=19), Output()), _dom_classes=('widget-i…"
      ]
     },
     "metadata": {},
     "output_type": "display_data"
    },
    {
     "data": {
      "application/vnd.jupyter.widget-view+json": {
       "model_id": "2d01b19f41a7451b8d931eb8f36b13fa",
       "version_major": 2,
       "version_minor": 0
      },
      "text/plain": [
       "Button(description='Save figure', style=ButtonStyle())"
      ]
     },
     "metadata": {},
     "output_type": "display_data"
    }
   ],
   "source": [
    "global save_figure\n",
    "\n",
    "save_figure = False\n",
    "   \n",
    "cmin = -3\n",
    "cmax = 3\n",
    "  \n",
    "def make_fitting_figure(dc_step_write):    \n",
    "    global save_figure \n",
    "    fig3 = plt.figure(figsize=(10,3))  \n",
    "    fig3.set_facecolor('white')    \n",
    "    ax_jCPD_plot = plt.subplot(131)\n",
    "    ax_slope_plot = plt.subplot(132)\n",
    "    ax_yintercept_plot = plt.subplot(133)\n",
    "    ax_slope_plot.set_title('Slope [a.u.]', fontsize = 12)\n",
    "    \n",
    "    im3 = ax_jCPD_plot.imshow(jCPD_mat[:,:,dc_step_write], \n",
    "                                cmap=usid.plot_utils.cmap_jet_white_center(), \n",
    "                                origin='upper', interpolation='none');\n",
    "    \n",
    "#     im3 = ax_jCPD_plot.imshow(jCPD_mat[:,:,dc_step_write], \n",
    "#                                 cmap=px.plot_utils.cmap_jet_white_center(), \n",
    "#                                 origin='upper', interpolation='none', clim=(cmin, cmax)); \n",
    "    \n",
    "    fig3.colorbar(im3, ax = ax_jCPD_plot)\n",
    "    ax_jCPD_plot.set_title('jCPD [V]', fontsize = 12)\n",
    "    \n",
    "    im = ax_slope_plot.imshow(fit_slope[:,:,dc_step_write], \n",
    "                                cmap=usid.plot_utils.cmap_jet_white_center(), \n",
    "                                origin='upper', interpolation='none');\n",
    "       \n",
    "    fig3.colorbar(im, ax = ax_slope_plot)\n",
    "    \n",
    "    im2 = ax_yintercept_plot.imshow(fit_yintercept[:,:,dc_step_write], \n",
    "                                cmap=usid.plot_utils.cmap_jet_white_center(), \n",
    "                                origin='upper', interpolation='none');\n",
    "    ax_yintercept_plot.set_title('y-intercept [a.u.]', fontsize = 12)\n",
    "    \n",
    "    fig3.colorbar(im2, ax = ax_yintercept_plot)\n",
    "    \n",
    "    #fig3.suptitle('Write voltage = '+str(bias_vec_w[dc_step_write])+' V', fontsize = 14, y = 1.06)\n",
    "    \n",
    "    fig3.suptitle('Write voltage = '+str(bias_vec_w[dc_step_write])+' V', fontsize = 14)\n",
    "    \n",
    "    \n",
    "#     fig3.add_subplot(132).text(2,11,'Write voltage = '+str(bias_vec_w[dc_step_write])+' V', fontsize = 14, orientation='vertical')\n",
    "    plt.tight_layout()\n",
    "    plt.subplots_adjust(top=0.8)\n",
    "    if save_figure == True:\n",
    "        fig3.savefig(output_file_path+'\\jCPD_map_WriteStep'+str(dc_step_write)+'.png', format='png')\n",
    "        fig3.savefig(output_file_path+'\\jCPD_map_WriteStep'+str(dc_step_write)+'.eps', format='eps')\n",
    "        fig3.savefig(output_file_path+'\\jCPD_map_WriteStep'+str(dc_step_write)+'.tif', format='tif')\n",
    "        save_figure = False;\n",
    "\n",
    "    \n",
    "slider_dict = dict()      \n",
    "dc_step_write_slider = widgets.IntSlider(min = 0, max = num_write_steps-1, step = 1, value = 0, description='Write Step');\n",
    "\n",
    "widgets.interact(make_fitting_figure, dc_step_write = dc_step_write_slider, **slider_dict); \n",
    "\n",
    "\n",
    "def on_save_button3_clicked(b):\n",
    "    global save_figure\n",
    "    save_figure = True \n",
    "    \n",
    "    dc_step_write = dc_step_write_slider.value\n",
    "#     x_select = x_slider.value\n",
    "#     y_select = y_slider.value\n",
    "     \n",
    "    make_fitting_figure(dc_step_write)\n",
    "    \n",
    "    \n",
    "button3 = widgets.Button(description = 'Save figure')\n",
    "display(button3)\n",
    "button3.on_click(on_save_button3_clicked)"
   ]
  },
  {
   "cell_type": "markdown",
   "metadata": {},
   "source": [
    "## jCPD plots\n",
    "\n",
    "- Left graph depicts the jCPD averaged over all pixels as a function of write voltage\n",
    "- Specify a pixel that jCPD data should be displayed from in graph on the right by setting x_select and y_select."
   ]
  },
  {
   "cell_type": "code",
   "execution_count": 27,
   "metadata": {},
   "outputs": [
    {
     "data": {
      "application/javascript": [
       "/* Put everything inside the global mpl namespace */\n",
       "/* global mpl */\n",
       "window.mpl = {};\n",
       "\n",
       "mpl.get_websocket_type = function () {\n",
       "    if (typeof WebSocket !== 'undefined') {\n",
       "        return WebSocket;\n",
       "    } else if (typeof MozWebSocket !== 'undefined') {\n",
       "        return MozWebSocket;\n",
       "    } else {\n",
       "        alert(\n",
       "            'Your browser does not have WebSocket support. ' +\n",
       "                'Please try Chrome, Safari or Firefox ≥ 6. ' +\n",
       "                'Firefox 4 and 5 are also supported but you ' +\n",
       "                'have to enable WebSockets in about:config.'\n",
       "        );\n",
       "    }\n",
       "};\n",
       "\n",
       "mpl.figure = function (figure_id, websocket, ondownload, parent_element) {\n",
       "    this.id = figure_id;\n",
       "\n",
       "    this.ws = websocket;\n",
       "\n",
       "    this.supports_binary = this.ws.binaryType !== undefined;\n",
       "\n",
       "    if (!this.supports_binary) {\n",
       "        var warnings = document.getElementById('mpl-warnings');\n",
       "        if (warnings) {\n",
       "            warnings.style.display = 'block';\n",
       "            warnings.textContent =\n",
       "                'This browser does not support binary websocket messages. ' +\n",
       "                'Performance may be slow.';\n",
       "        }\n",
       "    }\n",
       "\n",
       "    this.imageObj = new Image();\n",
       "\n",
       "    this.context = undefined;\n",
       "    this.message = undefined;\n",
       "    this.canvas = undefined;\n",
       "    this.rubberband_canvas = undefined;\n",
       "    this.rubberband_context = undefined;\n",
       "    this.format_dropdown = undefined;\n",
       "\n",
       "    this.image_mode = 'full';\n",
       "\n",
       "    this.root = document.createElement('div');\n",
       "    this.root.setAttribute('style', 'display: inline-block');\n",
       "    this._root_extra_style(this.root);\n",
       "\n",
       "    parent_element.appendChild(this.root);\n",
       "\n",
       "    this._init_header(this);\n",
       "    this._init_canvas(this);\n",
       "    this._init_toolbar(this);\n",
       "\n",
       "    var fig = this;\n",
       "\n",
       "    this.waiting = false;\n",
       "\n",
       "    this.ws.onopen = function () {\n",
       "        fig.send_message('supports_binary', { value: fig.supports_binary });\n",
       "        fig.send_message('send_image_mode', {});\n",
       "        if (fig.ratio !== 1) {\n",
       "            fig.send_message('set_dpi_ratio', { dpi_ratio: fig.ratio });\n",
       "        }\n",
       "        fig.send_message('refresh', {});\n",
       "    };\n",
       "\n",
       "    this.imageObj.onload = function () {\n",
       "        if (fig.image_mode === 'full') {\n",
       "            // Full images could contain transparency (where diff images\n",
       "            // almost always do), so we need to clear the canvas so that\n",
       "            // there is no ghosting.\n",
       "            fig.context.clearRect(0, 0, fig.canvas.width, fig.canvas.height);\n",
       "        }\n",
       "        fig.context.drawImage(fig.imageObj, 0, 0);\n",
       "    };\n",
       "\n",
       "    this.imageObj.onunload = function () {\n",
       "        fig.ws.close();\n",
       "    };\n",
       "\n",
       "    this.ws.onmessage = this._make_on_message_function(this);\n",
       "\n",
       "    this.ondownload = ondownload;\n",
       "};\n",
       "\n",
       "mpl.figure.prototype._init_header = function () {\n",
       "    var titlebar = document.createElement('div');\n",
       "    titlebar.classList =\n",
       "        'ui-dialog-titlebar ui-widget-header ui-corner-all ui-helper-clearfix';\n",
       "    var titletext = document.createElement('div');\n",
       "    titletext.classList = 'ui-dialog-title';\n",
       "    titletext.setAttribute(\n",
       "        'style',\n",
       "        'width: 100%; text-align: center; padding: 3px;'\n",
       "    );\n",
       "    titlebar.appendChild(titletext);\n",
       "    this.root.appendChild(titlebar);\n",
       "    this.header = titletext;\n",
       "};\n",
       "\n",
       "mpl.figure.prototype._canvas_extra_style = function (_canvas_div) {};\n",
       "\n",
       "mpl.figure.prototype._root_extra_style = function (_canvas_div) {};\n",
       "\n",
       "mpl.figure.prototype._init_canvas = function () {\n",
       "    var fig = this;\n",
       "\n",
       "    var canvas_div = (this.canvas_div = document.createElement('div'));\n",
       "    canvas_div.setAttribute(\n",
       "        'style',\n",
       "        'border: 1px solid #ddd;' +\n",
       "            'box-sizing: content-box;' +\n",
       "            'clear: both;' +\n",
       "            'min-height: 1px;' +\n",
       "            'min-width: 1px;' +\n",
       "            'outline: 0;' +\n",
       "            'overflow: hidden;' +\n",
       "            'position: relative;' +\n",
       "            'resize: both;'\n",
       "    );\n",
       "\n",
       "    function on_keyboard_event_closure(name) {\n",
       "        return function (event) {\n",
       "            return fig.key_event(event, name);\n",
       "        };\n",
       "    }\n",
       "\n",
       "    canvas_div.addEventListener(\n",
       "        'keydown',\n",
       "        on_keyboard_event_closure('key_press')\n",
       "    );\n",
       "    canvas_div.addEventListener(\n",
       "        'keyup',\n",
       "        on_keyboard_event_closure('key_release')\n",
       "    );\n",
       "\n",
       "    this._canvas_extra_style(canvas_div);\n",
       "    this.root.appendChild(canvas_div);\n",
       "\n",
       "    var canvas = (this.canvas = document.createElement('canvas'));\n",
       "    canvas.classList.add('mpl-canvas');\n",
       "    canvas.setAttribute('style', 'box-sizing: content-box;');\n",
       "\n",
       "    this.context = canvas.getContext('2d');\n",
       "\n",
       "    var backingStore =\n",
       "        this.context.backingStorePixelRatio ||\n",
       "        this.context.webkitBackingStorePixelRatio ||\n",
       "        this.context.mozBackingStorePixelRatio ||\n",
       "        this.context.msBackingStorePixelRatio ||\n",
       "        this.context.oBackingStorePixelRatio ||\n",
       "        this.context.backingStorePixelRatio ||\n",
       "        1;\n",
       "\n",
       "    this.ratio = (window.devicePixelRatio || 1) / backingStore;\n",
       "\n",
       "    var rubberband_canvas = (this.rubberband_canvas = document.createElement(\n",
       "        'canvas'\n",
       "    ));\n",
       "    rubberband_canvas.setAttribute(\n",
       "        'style',\n",
       "        'box-sizing: content-box; position: absolute; left: 0; top: 0; z-index: 1;'\n",
       "    );\n",
       "\n",
       "    // Apply a ponyfill if ResizeObserver is not implemented by browser.\n",
       "    if (this.ResizeObserver === undefined) {\n",
       "        if (window.ResizeObserver !== undefined) {\n",
       "            this.ResizeObserver = window.ResizeObserver;\n",
       "        } else {\n",
       "            var obs = _JSXTOOLS_RESIZE_OBSERVER({});\n",
       "            this.ResizeObserver = obs.ResizeObserver;\n",
       "        }\n",
       "    }\n",
       "\n",
       "    this.resizeObserverInstance = new this.ResizeObserver(function (entries) {\n",
       "        var nentries = entries.length;\n",
       "        for (var i = 0; i < nentries; i++) {\n",
       "            var entry = entries[i];\n",
       "            var width, height;\n",
       "            if (entry.contentBoxSize) {\n",
       "                if (entry.contentBoxSize instanceof Array) {\n",
       "                    // Chrome 84 implements new version of spec.\n",
       "                    width = entry.contentBoxSize[0].inlineSize;\n",
       "                    height = entry.contentBoxSize[0].blockSize;\n",
       "                } else {\n",
       "                    // Firefox implements old version of spec.\n",
       "                    width = entry.contentBoxSize.inlineSize;\n",
       "                    height = entry.contentBoxSize.blockSize;\n",
       "                }\n",
       "            } else {\n",
       "                // Chrome <84 implements even older version of spec.\n",
       "                width = entry.contentRect.width;\n",
       "                height = entry.contentRect.height;\n",
       "            }\n",
       "\n",
       "            // Keep the size of the canvas and rubber band canvas in sync with\n",
       "            // the canvas container.\n",
       "            if (entry.devicePixelContentBoxSize) {\n",
       "                // Chrome 84 implements new version of spec.\n",
       "                canvas.setAttribute(\n",
       "                    'width',\n",
       "                    entry.devicePixelContentBoxSize[0].inlineSize\n",
       "                );\n",
       "                canvas.setAttribute(\n",
       "                    'height',\n",
       "                    entry.devicePixelContentBoxSize[0].blockSize\n",
       "                );\n",
       "            } else {\n",
       "                canvas.setAttribute('width', width * fig.ratio);\n",
       "                canvas.setAttribute('height', height * fig.ratio);\n",
       "            }\n",
       "            canvas.setAttribute(\n",
       "                'style',\n",
       "                'width: ' + width + 'px; height: ' + height + 'px;'\n",
       "            );\n",
       "\n",
       "            rubberband_canvas.setAttribute('width', width);\n",
       "            rubberband_canvas.setAttribute('height', height);\n",
       "\n",
       "            // And update the size in Python. We ignore the initial 0/0 size\n",
       "            // that occurs as the element is placed into the DOM, which should\n",
       "            // otherwise not happen due to the minimum size styling.\n",
       "            if (fig.ws.readyState == 1 && width != 0 && height != 0) {\n",
       "                fig.request_resize(width, height);\n",
       "            }\n",
       "        }\n",
       "    });\n",
       "    this.resizeObserverInstance.observe(canvas_div);\n",
       "\n",
       "    function on_mouse_event_closure(name) {\n",
       "        return function (event) {\n",
       "            return fig.mouse_event(event, name);\n",
       "        };\n",
       "    }\n",
       "\n",
       "    rubberband_canvas.addEventListener(\n",
       "        'mousedown',\n",
       "        on_mouse_event_closure('button_press')\n",
       "    );\n",
       "    rubberband_canvas.addEventListener(\n",
       "        'mouseup',\n",
       "        on_mouse_event_closure('button_release')\n",
       "    );\n",
       "    // Throttle sequential mouse events to 1 every 20ms.\n",
       "    rubberband_canvas.addEventListener(\n",
       "        'mousemove',\n",
       "        on_mouse_event_closure('motion_notify')\n",
       "    );\n",
       "\n",
       "    rubberband_canvas.addEventListener(\n",
       "        'mouseenter',\n",
       "        on_mouse_event_closure('figure_enter')\n",
       "    );\n",
       "    rubberband_canvas.addEventListener(\n",
       "        'mouseleave',\n",
       "        on_mouse_event_closure('figure_leave')\n",
       "    );\n",
       "\n",
       "    canvas_div.addEventListener('wheel', function (event) {\n",
       "        if (event.deltaY < 0) {\n",
       "            event.step = 1;\n",
       "        } else {\n",
       "            event.step = -1;\n",
       "        }\n",
       "        on_mouse_event_closure('scroll')(event);\n",
       "    });\n",
       "\n",
       "    canvas_div.appendChild(canvas);\n",
       "    canvas_div.appendChild(rubberband_canvas);\n",
       "\n",
       "    this.rubberband_context = rubberband_canvas.getContext('2d');\n",
       "    this.rubberband_context.strokeStyle = '#000000';\n",
       "\n",
       "    this._resize_canvas = function (width, height, forward) {\n",
       "        if (forward) {\n",
       "            canvas_div.style.width = width + 'px';\n",
       "            canvas_div.style.height = height + 'px';\n",
       "        }\n",
       "    };\n",
       "\n",
       "    // Disable right mouse context menu.\n",
       "    this.rubberband_canvas.addEventListener('contextmenu', function (_e) {\n",
       "        event.preventDefault();\n",
       "        return false;\n",
       "    });\n",
       "\n",
       "    function set_focus() {\n",
       "        canvas.focus();\n",
       "        canvas_div.focus();\n",
       "    }\n",
       "\n",
       "    window.setTimeout(set_focus, 100);\n",
       "};\n",
       "\n",
       "mpl.figure.prototype._init_toolbar = function () {\n",
       "    var fig = this;\n",
       "\n",
       "    var toolbar = document.createElement('div');\n",
       "    toolbar.classList = 'mpl-toolbar';\n",
       "    this.root.appendChild(toolbar);\n",
       "\n",
       "    function on_click_closure(name) {\n",
       "        return function (_event) {\n",
       "            return fig.toolbar_button_onclick(name);\n",
       "        };\n",
       "    }\n",
       "\n",
       "    function on_mouseover_closure(tooltip) {\n",
       "        return function (event) {\n",
       "            if (!event.currentTarget.disabled) {\n",
       "                return fig.toolbar_button_onmouseover(tooltip);\n",
       "            }\n",
       "        };\n",
       "    }\n",
       "\n",
       "    fig.buttons = {};\n",
       "    var buttonGroup = document.createElement('div');\n",
       "    buttonGroup.classList = 'mpl-button-group';\n",
       "    for (var toolbar_ind in mpl.toolbar_items) {\n",
       "        var name = mpl.toolbar_items[toolbar_ind][0];\n",
       "        var tooltip = mpl.toolbar_items[toolbar_ind][1];\n",
       "        var image = mpl.toolbar_items[toolbar_ind][2];\n",
       "        var method_name = mpl.toolbar_items[toolbar_ind][3];\n",
       "\n",
       "        if (!name) {\n",
       "            /* Instead of a spacer, we start a new button group. */\n",
       "            if (buttonGroup.hasChildNodes()) {\n",
       "                toolbar.appendChild(buttonGroup);\n",
       "            }\n",
       "            buttonGroup = document.createElement('div');\n",
       "            buttonGroup.classList = 'mpl-button-group';\n",
       "            continue;\n",
       "        }\n",
       "\n",
       "        var button = (fig.buttons[name] = document.createElement('button'));\n",
       "        button.classList = 'mpl-widget';\n",
       "        button.setAttribute('role', 'button');\n",
       "        button.setAttribute('aria-disabled', 'false');\n",
       "        button.addEventListener('click', on_click_closure(method_name));\n",
       "        button.addEventListener('mouseover', on_mouseover_closure(tooltip));\n",
       "\n",
       "        var icon_img = document.createElement('img');\n",
       "        icon_img.src = '_images/' + image + '.png';\n",
       "        icon_img.srcset = '_images/' + image + '_large.png 2x';\n",
       "        icon_img.alt = tooltip;\n",
       "        button.appendChild(icon_img);\n",
       "\n",
       "        buttonGroup.appendChild(button);\n",
       "    }\n",
       "\n",
       "    if (buttonGroup.hasChildNodes()) {\n",
       "        toolbar.appendChild(buttonGroup);\n",
       "    }\n",
       "\n",
       "    var fmt_picker = document.createElement('select');\n",
       "    fmt_picker.classList = 'mpl-widget';\n",
       "    toolbar.appendChild(fmt_picker);\n",
       "    this.format_dropdown = fmt_picker;\n",
       "\n",
       "    for (var ind in mpl.extensions) {\n",
       "        var fmt = mpl.extensions[ind];\n",
       "        var option = document.createElement('option');\n",
       "        option.selected = fmt === mpl.default_extension;\n",
       "        option.innerHTML = fmt;\n",
       "        fmt_picker.appendChild(option);\n",
       "    }\n",
       "\n",
       "    var status_bar = document.createElement('span');\n",
       "    status_bar.classList = 'mpl-message';\n",
       "    toolbar.appendChild(status_bar);\n",
       "    this.message = status_bar;\n",
       "};\n",
       "\n",
       "mpl.figure.prototype.request_resize = function (x_pixels, y_pixels) {\n",
       "    // Request matplotlib to resize the figure. Matplotlib will then trigger a resize in the client,\n",
       "    // which will in turn request a refresh of the image.\n",
       "    this.send_message('resize', { width: x_pixels, height: y_pixels });\n",
       "};\n",
       "\n",
       "mpl.figure.prototype.send_message = function (type, properties) {\n",
       "    properties['type'] = type;\n",
       "    properties['figure_id'] = this.id;\n",
       "    this.ws.send(JSON.stringify(properties));\n",
       "};\n",
       "\n",
       "mpl.figure.prototype.send_draw_message = function () {\n",
       "    if (!this.waiting) {\n",
       "        this.waiting = true;\n",
       "        this.ws.send(JSON.stringify({ type: 'draw', figure_id: this.id }));\n",
       "    }\n",
       "};\n",
       "\n",
       "mpl.figure.prototype.handle_save = function (fig, _msg) {\n",
       "    var format_dropdown = fig.format_dropdown;\n",
       "    var format = format_dropdown.options[format_dropdown.selectedIndex].value;\n",
       "    fig.ondownload(fig, format);\n",
       "};\n",
       "\n",
       "mpl.figure.prototype.handle_resize = function (fig, msg) {\n",
       "    var size = msg['size'];\n",
       "    if (size[0] !== fig.canvas.width || size[1] !== fig.canvas.height) {\n",
       "        fig._resize_canvas(size[0], size[1], msg['forward']);\n",
       "        fig.send_message('refresh', {});\n",
       "    }\n",
       "};\n",
       "\n",
       "mpl.figure.prototype.handle_rubberband = function (fig, msg) {\n",
       "    var x0 = msg['x0'] / fig.ratio;\n",
       "    var y0 = (fig.canvas.height - msg['y0']) / fig.ratio;\n",
       "    var x1 = msg['x1'] / fig.ratio;\n",
       "    var y1 = (fig.canvas.height - msg['y1']) / fig.ratio;\n",
       "    x0 = Math.floor(x0) + 0.5;\n",
       "    y0 = Math.floor(y0) + 0.5;\n",
       "    x1 = Math.floor(x1) + 0.5;\n",
       "    y1 = Math.floor(y1) + 0.5;\n",
       "    var min_x = Math.min(x0, x1);\n",
       "    var min_y = Math.min(y0, y1);\n",
       "    var width = Math.abs(x1 - x0);\n",
       "    var height = Math.abs(y1 - y0);\n",
       "\n",
       "    fig.rubberband_context.clearRect(\n",
       "        0,\n",
       "        0,\n",
       "        fig.canvas.width / fig.ratio,\n",
       "        fig.canvas.height / fig.ratio\n",
       "    );\n",
       "\n",
       "    fig.rubberband_context.strokeRect(min_x, min_y, width, height);\n",
       "};\n",
       "\n",
       "mpl.figure.prototype.handle_figure_label = function (fig, msg) {\n",
       "    // Updates the figure title.\n",
       "    fig.header.textContent = msg['label'];\n",
       "};\n",
       "\n",
       "mpl.figure.prototype.handle_cursor = function (fig, msg) {\n",
       "    var cursor = msg['cursor'];\n",
       "    switch (cursor) {\n",
       "        case 0:\n",
       "            cursor = 'pointer';\n",
       "            break;\n",
       "        case 1:\n",
       "            cursor = 'default';\n",
       "            break;\n",
       "        case 2:\n",
       "            cursor = 'crosshair';\n",
       "            break;\n",
       "        case 3:\n",
       "            cursor = 'move';\n",
       "            break;\n",
       "    }\n",
       "    fig.rubberband_canvas.style.cursor = cursor;\n",
       "};\n",
       "\n",
       "mpl.figure.prototype.handle_message = function (fig, msg) {\n",
       "    fig.message.textContent = msg['message'];\n",
       "};\n",
       "\n",
       "mpl.figure.prototype.handle_draw = function (fig, _msg) {\n",
       "    // Request the server to send over a new figure.\n",
       "    fig.send_draw_message();\n",
       "};\n",
       "\n",
       "mpl.figure.prototype.handle_image_mode = function (fig, msg) {\n",
       "    fig.image_mode = msg['mode'];\n",
       "};\n",
       "\n",
       "mpl.figure.prototype.handle_history_buttons = function (fig, msg) {\n",
       "    for (var key in msg) {\n",
       "        if (!(key in fig.buttons)) {\n",
       "            continue;\n",
       "        }\n",
       "        fig.buttons[key].disabled = !msg[key];\n",
       "        fig.buttons[key].setAttribute('aria-disabled', !msg[key]);\n",
       "    }\n",
       "};\n",
       "\n",
       "mpl.figure.prototype.handle_navigate_mode = function (fig, msg) {\n",
       "    if (msg['mode'] === 'PAN') {\n",
       "        fig.buttons['Pan'].classList.add('active');\n",
       "        fig.buttons['Zoom'].classList.remove('active');\n",
       "    } else if (msg['mode'] === 'ZOOM') {\n",
       "        fig.buttons['Pan'].classList.remove('active');\n",
       "        fig.buttons['Zoom'].classList.add('active');\n",
       "    } else {\n",
       "        fig.buttons['Pan'].classList.remove('active');\n",
       "        fig.buttons['Zoom'].classList.remove('active');\n",
       "    }\n",
       "};\n",
       "\n",
       "mpl.figure.prototype.updated_canvas_event = function () {\n",
       "    // Called whenever the canvas gets updated.\n",
       "    this.send_message('ack', {});\n",
       "};\n",
       "\n",
       "// A function to construct a web socket function for onmessage handling.\n",
       "// Called in the figure constructor.\n",
       "mpl.figure.prototype._make_on_message_function = function (fig) {\n",
       "    return function socket_on_message(evt) {\n",
       "        if (evt.data instanceof Blob) {\n",
       "            /* FIXME: We get \"Resource interpreted as Image but\n",
       "             * transferred with MIME type text/plain:\" errors on\n",
       "             * Chrome.  But how to set the MIME type?  It doesn't seem\n",
       "             * to be part of the websocket stream */\n",
       "            evt.data.type = 'image/png';\n",
       "\n",
       "            /* Free the memory for the previous frames */\n",
       "            if (fig.imageObj.src) {\n",
       "                (window.URL || window.webkitURL).revokeObjectURL(\n",
       "                    fig.imageObj.src\n",
       "                );\n",
       "            }\n",
       "\n",
       "            fig.imageObj.src = (window.URL || window.webkitURL).createObjectURL(\n",
       "                evt.data\n",
       "            );\n",
       "            fig.updated_canvas_event();\n",
       "            fig.waiting = false;\n",
       "            return;\n",
       "        } else if (\n",
       "            typeof evt.data === 'string' &&\n",
       "            evt.data.slice(0, 21) === 'data:image/png;base64'\n",
       "        ) {\n",
       "            fig.imageObj.src = evt.data;\n",
       "            fig.updated_canvas_event();\n",
       "            fig.waiting = false;\n",
       "            return;\n",
       "        }\n",
       "\n",
       "        var msg = JSON.parse(evt.data);\n",
       "        var msg_type = msg['type'];\n",
       "\n",
       "        // Call the  \"handle_{type}\" callback, which takes\n",
       "        // the figure and JSON message as its only arguments.\n",
       "        try {\n",
       "            var callback = fig['handle_' + msg_type];\n",
       "        } catch (e) {\n",
       "            console.log(\n",
       "                \"No handler for the '\" + msg_type + \"' message type: \",\n",
       "                msg\n",
       "            );\n",
       "            return;\n",
       "        }\n",
       "\n",
       "        if (callback) {\n",
       "            try {\n",
       "                // console.log(\"Handling '\" + msg_type + \"' message: \", msg);\n",
       "                callback(fig, msg);\n",
       "            } catch (e) {\n",
       "                console.log(\n",
       "                    \"Exception inside the 'handler_\" + msg_type + \"' callback:\",\n",
       "                    e,\n",
       "                    e.stack,\n",
       "                    msg\n",
       "                );\n",
       "            }\n",
       "        }\n",
       "    };\n",
       "};\n",
       "\n",
       "// from http://stackoverflow.com/questions/1114465/getting-mouse-location-in-canvas\n",
       "mpl.findpos = function (e) {\n",
       "    //this section is from http://www.quirksmode.org/js/events_properties.html\n",
       "    var targ;\n",
       "    if (!e) {\n",
       "        e = window.event;\n",
       "    }\n",
       "    if (e.target) {\n",
       "        targ = e.target;\n",
       "    } else if (e.srcElement) {\n",
       "        targ = e.srcElement;\n",
       "    }\n",
       "    if (targ.nodeType === 3) {\n",
       "        // defeat Safari bug\n",
       "        targ = targ.parentNode;\n",
       "    }\n",
       "\n",
       "    // pageX,Y are the mouse positions relative to the document\n",
       "    var boundingRect = targ.getBoundingClientRect();\n",
       "    var x = e.pageX - (boundingRect.left + document.body.scrollLeft);\n",
       "    var y = e.pageY - (boundingRect.top + document.body.scrollTop);\n",
       "\n",
       "    return { x: x, y: y };\n",
       "};\n",
       "\n",
       "/*\n",
       " * return a copy of an object with only non-object keys\n",
       " * we need this to avoid circular references\n",
       " * http://stackoverflow.com/a/24161582/3208463\n",
       " */\n",
       "function simpleKeys(original) {\n",
       "    return Object.keys(original).reduce(function (obj, key) {\n",
       "        if (typeof original[key] !== 'object') {\n",
       "            obj[key] = original[key];\n",
       "        }\n",
       "        return obj;\n",
       "    }, {});\n",
       "}\n",
       "\n",
       "mpl.figure.prototype.mouse_event = function (event, name) {\n",
       "    var canvas_pos = mpl.findpos(event);\n",
       "\n",
       "    if (name === 'button_press') {\n",
       "        this.canvas.focus();\n",
       "        this.canvas_div.focus();\n",
       "    }\n",
       "\n",
       "    var x = canvas_pos.x * this.ratio;\n",
       "    var y = canvas_pos.y * this.ratio;\n",
       "\n",
       "    this.send_message(name, {\n",
       "        x: x,\n",
       "        y: y,\n",
       "        button: event.button,\n",
       "        step: event.step,\n",
       "        guiEvent: simpleKeys(event),\n",
       "    });\n",
       "\n",
       "    /* This prevents the web browser from automatically changing to\n",
       "     * the text insertion cursor when the button is pressed.  We want\n",
       "     * to control all of the cursor setting manually through the\n",
       "     * 'cursor' event from matplotlib */\n",
       "    event.preventDefault();\n",
       "    return false;\n",
       "};\n",
       "\n",
       "mpl.figure.prototype._key_event_extra = function (_event, _name) {\n",
       "    // Handle any extra behaviour associated with a key event\n",
       "};\n",
       "\n",
       "mpl.figure.prototype.key_event = function (event, name) {\n",
       "    // Prevent repeat events\n",
       "    if (name === 'key_press') {\n",
       "        if (event.which === this._key) {\n",
       "            return;\n",
       "        } else {\n",
       "            this._key = event.which;\n",
       "        }\n",
       "    }\n",
       "    if (name === 'key_release') {\n",
       "        this._key = null;\n",
       "    }\n",
       "\n",
       "    var value = '';\n",
       "    if (event.ctrlKey && event.which !== 17) {\n",
       "        value += 'ctrl+';\n",
       "    }\n",
       "    if (event.altKey && event.which !== 18) {\n",
       "        value += 'alt+';\n",
       "    }\n",
       "    if (event.shiftKey && event.which !== 16) {\n",
       "        value += 'shift+';\n",
       "    }\n",
       "\n",
       "    value += 'k';\n",
       "    value += event.which.toString();\n",
       "\n",
       "    this._key_event_extra(event, name);\n",
       "\n",
       "    this.send_message(name, { key: value, guiEvent: simpleKeys(event) });\n",
       "    return false;\n",
       "};\n",
       "\n",
       "mpl.figure.prototype.toolbar_button_onclick = function (name) {\n",
       "    if (name === 'download') {\n",
       "        this.handle_save(this, null);\n",
       "    } else {\n",
       "        this.send_message('toolbar_button', { name: name });\n",
       "    }\n",
       "};\n",
       "\n",
       "mpl.figure.prototype.toolbar_button_onmouseover = function (tooltip) {\n",
       "    this.message.textContent = tooltip;\n",
       "};\n",
       "\n",
       "///////////////// REMAINING CONTENT GENERATED BY embed_js.py /////////////////\n",
       "// prettier-ignore\n",
       "var _JSXTOOLS_RESIZE_OBSERVER=function(A){var t,i=new WeakMap,n=new WeakMap,a=new WeakMap,r=new WeakMap,o=new Set;function s(e){if(!(this instanceof s))throw new TypeError(\"Constructor requires 'new' operator\");i.set(this,e)}function h(){throw new TypeError(\"Function is not a constructor\")}function c(e,t,i,n){e=0 in arguments?Number(arguments[0]):0,t=1 in arguments?Number(arguments[1]):0,i=2 in arguments?Number(arguments[2]):0,n=3 in arguments?Number(arguments[3]):0,this.right=(this.x=this.left=e)+(this.width=i),this.bottom=(this.y=this.top=t)+(this.height=n),Object.freeze(this)}function d(){t=requestAnimationFrame(d);var s=new WeakMap,p=new Set;o.forEach((function(t){r.get(t).forEach((function(i){var r=t instanceof window.SVGElement,o=a.get(t),d=r?0:parseFloat(o.paddingTop),f=r?0:parseFloat(o.paddingRight),l=r?0:parseFloat(o.paddingBottom),u=r?0:parseFloat(o.paddingLeft),g=r?0:parseFloat(o.borderTopWidth),m=r?0:parseFloat(o.borderRightWidth),w=r?0:parseFloat(o.borderBottomWidth),b=u+f,F=d+l,v=(r?0:parseFloat(o.borderLeftWidth))+m,W=g+w,y=r?0:t.offsetHeight-W-t.clientHeight,E=r?0:t.offsetWidth-v-t.clientWidth,R=b+v,z=F+W,M=r?t.width:parseFloat(o.width)-R-E,O=r?t.height:parseFloat(o.height)-z-y;if(n.has(t)){var k=n.get(t);if(k[0]===M&&k[1]===O)return}n.set(t,[M,O]);var S=Object.create(h.prototype);S.target=t,S.contentRect=new c(u,d,M,O),s.has(i)||(s.set(i,[]),p.add(i)),s.get(i).push(S)}))})),p.forEach((function(e){i.get(e).call(e,s.get(e),e)}))}return s.prototype.observe=function(i){if(i instanceof window.Element){r.has(i)||(r.set(i,new Set),o.add(i),a.set(i,window.getComputedStyle(i)));var n=r.get(i);n.has(this)||n.add(this),cancelAnimationFrame(t),t=requestAnimationFrame(d)}},s.prototype.unobserve=function(i){if(i instanceof window.Element&&r.has(i)){var n=r.get(i);n.has(this)&&(n.delete(this),n.size||(r.delete(i),o.delete(i))),n.size||r.delete(i),o.size||cancelAnimationFrame(t)}},A.DOMRectReadOnly=c,A.ResizeObserver=s,A.ResizeObserverEntry=h,A}; // eslint-disable-line\n",
       "mpl.toolbar_items = [[\"Home\", \"Reset original view\", \"fa fa-home icon-home\", \"home\"], [\"Back\", \"Back to previous view\", \"fa fa-arrow-left icon-arrow-left\", \"back\"], [\"Forward\", \"Forward to next view\", \"fa fa-arrow-right icon-arrow-right\", \"forward\"], [\"\", \"\", \"\", \"\"], [\"Pan\", \"Left button pans, Right button zooms\\nx/y fixes axis, CTRL fixes aspect\", \"fa fa-arrows icon-move\", \"pan\"], [\"Zoom\", \"Zoom to rectangle\\nx/y fixes axis, CTRL fixes aspect\", \"fa fa-square-o icon-check-empty\", \"zoom\"], [\"\", \"\", \"\", \"\"], [\"Download\", \"Download plot\", \"fa fa-floppy-o icon-save\", \"download\"]];\n",
       "\n",
       "mpl.extensions = [\"eps\", \"jpeg\", \"pdf\", \"png\", \"ps\", \"raw\", \"svg\", \"tif\"];\n",
       "\n",
       "mpl.default_extension = \"png\";/* global mpl */\n",
       "\n",
       "var comm_websocket_adapter = function (comm) {\n",
       "    // Create a \"websocket\"-like object which calls the given IPython comm\n",
       "    // object with the appropriate methods. Currently this is a non binary\n",
       "    // socket, so there is still some room for performance tuning.\n",
       "    var ws = {};\n",
       "\n",
       "    ws.close = function () {\n",
       "        comm.close();\n",
       "    };\n",
       "    ws.send = function (m) {\n",
       "        //console.log('sending', m);\n",
       "        comm.send(m);\n",
       "    };\n",
       "    // Register the callback with on_msg.\n",
       "    comm.on_msg(function (msg) {\n",
       "        //console.log('receiving', msg['content']['data'], msg);\n",
       "        // Pass the mpl event to the overridden (by mpl) onmessage function.\n",
       "        ws.onmessage(msg['content']['data']);\n",
       "    });\n",
       "    return ws;\n",
       "};\n",
       "\n",
       "mpl.mpl_figure_comm = function (comm, msg) {\n",
       "    // This is the function which gets called when the mpl process\n",
       "    // starts-up an IPython Comm through the \"matplotlib\" channel.\n",
       "\n",
       "    var id = msg.content.data.id;\n",
       "    // Get hold of the div created by the display call when the Comm\n",
       "    // socket was opened in Python.\n",
       "    var element = document.getElementById(id);\n",
       "    var ws_proxy = comm_websocket_adapter(comm);\n",
       "\n",
       "    function ondownload(figure, _format) {\n",
       "        window.open(figure.canvas.toDataURL());\n",
       "    }\n",
       "\n",
       "    var fig = new mpl.figure(id, ws_proxy, ondownload, element);\n",
       "\n",
       "    // Call onopen now - mpl needs it, as it is assuming we've passed it a real\n",
       "    // web socket which is closed, not our websocket->open comm proxy.\n",
       "    ws_proxy.onopen();\n",
       "\n",
       "    fig.parent_element = element;\n",
       "    fig.cell_info = mpl.find_output_cell(\"<div id='\" + id + \"'></div>\");\n",
       "    if (!fig.cell_info) {\n",
       "        console.error('Failed to find cell for figure', id, fig);\n",
       "        return;\n",
       "    }\n",
       "    fig.cell_info[0].output_area.element.on(\n",
       "        'cleared',\n",
       "        { fig: fig },\n",
       "        fig._remove_fig_handler\n",
       "    );\n",
       "};\n",
       "\n",
       "mpl.figure.prototype.handle_close = function (fig, msg) {\n",
       "    var width = fig.canvas.width / fig.ratio;\n",
       "    fig.cell_info[0].output_area.element.off(\n",
       "        'cleared',\n",
       "        fig._remove_fig_handler\n",
       "    );\n",
       "    fig.resizeObserverInstance.unobserve(fig.canvas_div);\n",
       "\n",
       "    // Update the output cell to use the data from the current canvas.\n",
       "    fig.push_to_output();\n",
       "    var dataURL = fig.canvas.toDataURL();\n",
       "    // Re-enable the keyboard manager in IPython - without this line, in FF,\n",
       "    // the notebook keyboard shortcuts fail.\n",
       "    IPython.keyboard_manager.enable();\n",
       "    fig.parent_element.innerHTML =\n",
       "        '<img src=\"' + dataURL + '\" width=\"' + width + '\">';\n",
       "    fig.close_ws(fig, msg);\n",
       "};\n",
       "\n",
       "mpl.figure.prototype.close_ws = function (fig, msg) {\n",
       "    fig.send_message('closing', msg);\n",
       "    // fig.ws.close()\n",
       "};\n",
       "\n",
       "mpl.figure.prototype.push_to_output = function (_remove_interactive) {\n",
       "    // Turn the data on the canvas into data in the output cell.\n",
       "    var width = this.canvas.width / this.ratio;\n",
       "    var dataURL = this.canvas.toDataURL();\n",
       "    this.cell_info[1]['text/html'] =\n",
       "        '<img src=\"' + dataURL + '\" width=\"' + width + '\">';\n",
       "};\n",
       "\n",
       "mpl.figure.prototype.updated_canvas_event = function () {\n",
       "    // Tell IPython that the notebook contents must change.\n",
       "    IPython.notebook.set_dirty(true);\n",
       "    this.send_message('ack', {});\n",
       "    var fig = this;\n",
       "    // Wait a second, then push the new image to the DOM so\n",
       "    // that it is saved nicely (might be nice to debounce this).\n",
       "    setTimeout(function () {\n",
       "        fig.push_to_output();\n",
       "    }, 1000);\n",
       "};\n",
       "\n",
       "mpl.figure.prototype._init_toolbar = function () {\n",
       "    var fig = this;\n",
       "\n",
       "    var toolbar = document.createElement('div');\n",
       "    toolbar.classList = 'btn-toolbar';\n",
       "    this.root.appendChild(toolbar);\n",
       "\n",
       "    function on_click_closure(name) {\n",
       "        return function (_event) {\n",
       "            return fig.toolbar_button_onclick(name);\n",
       "        };\n",
       "    }\n",
       "\n",
       "    function on_mouseover_closure(tooltip) {\n",
       "        return function (event) {\n",
       "            if (!event.currentTarget.disabled) {\n",
       "                return fig.toolbar_button_onmouseover(tooltip);\n",
       "            }\n",
       "        };\n",
       "    }\n",
       "\n",
       "    fig.buttons = {};\n",
       "    var buttonGroup = document.createElement('div');\n",
       "    buttonGroup.classList = 'btn-group';\n",
       "    var button;\n",
       "    for (var toolbar_ind in mpl.toolbar_items) {\n",
       "        var name = mpl.toolbar_items[toolbar_ind][0];\n",
       "        var tooltip = mpl.toolbar_items[toolbar_ind][1];\n",
       "        var image = mpl.toolbar_items[toolbar_ind][2];\n",
       "        var method_name = mpl.toolbar_items[toolbar_ind][3];\n",
       "\n",
       "        if (!name) {\n",
       "            /* Instead of a spacer, we start a new button group. */\n",
       "            if (buttonGroup.hasChildNodes()) {\n",
       "                toolbar.appendChild(buttonGroup);\n",
       "            }\n",
       "            buttonGroup = document.createElement('div');\n",
       "            buttonGroup.classList = 'btn-group';\n",
       "            continue;\n",
       "        }\n",
       "\n",
       "        button = fig.buttons[name] = document.createElement('button');\n",
       "        button.classList = 'btn btn-default';\n",
       "        button.href = '#';\n",
       "        button.title = name;\n",
       "        button.innerHTML = '<i class=\"fa ' + image + ' fa-lg\"></i>';\n",
       "        button.addEventListener('click', on_click_closure(method_name));\n",
       "        button.addEventListener('mouseover', on_mouseover_closure(tooltip));\n",
       "        buttonGroup.appendChild(button);\n",
       "    }\n",
       "\n",
       "    if (buttonGroup.hasChildNodes()) {\n",
       "        toolbar.appendChild(buttonGroup);\n",
       "    }\n",
       "\n",
       "    // Add the status bar.\n",
       "    var status_bar = document.createElement('span');\n",
       "    status_bar.classList = 'mpl-message pull-right';\n",
       "    toolbar.appendChild(status_bar);\n",
       "    this.message = status_bar;\n",
       "\n",
       "    // Add the close button to the window.\n",
       "    var buttongrp = document.createElement('div');\n",
       "    buttongrp.classList = 'btn-group inline pull-right';\n",
       "    button = document.createElement('button');\n",
       "    button.classList = 'btn btn-mini btn-primary';\n",
       "    button.href = '#';\n",
       "    button.title = 'Stop Interaction';\n",
       "    button.innerHTML = '<i class=\"fa fa-power-off icon-remove icon-large\"></i>';\n",
       "    button.addEventListener('click', function (_evt) {\n",
       "        fig.handle_close(fig, {});\n",
       "    });\n",
       "    button.addEventListener(\n",
       "        'mouseover',\n",
       "        on_mouseover_closure('Stop Interaction')\n",
       "    );\n",
       "    buttongrp.appendChild(button);\n",
       "    var titlebar = this.root.querySelector('.ui-dialog-titlebar');\n",
       "    titlebar.insertBefore(buttongrp, titlebar.firstChild);\n",
       "};\n",
       "\n",
       "mpl.figure.prototype._remove_fig_handler = function (event) {\n",
       "    var fig = event.data.fig;\n",
       "    if (event.target !== this) {\n",
       "        // Ignore bubbled events from children.\n",
       "        return;\n",
       "    }\n",
       "    fig.close_ws(fig, {});\n",
       "};\n",
       "\n",
       "mpl.figure.prototype._root_extra_style = function (el) {\n",
       "    el.style.boxSizing = 'content-box'; // override notebook setting of border-box.\n",
       "};\n",
       "\n",
       "mpl.figure.prototype._canvas_extra_style = function (el) {\n",
       "    // this is important to make the div 'focusable\n",
       "    el.setAttribute('tabindex', 0);\n",
       "    // reach out to IPython and tell the keyboard manager to turn it's self\n",
       "    // off when our div gets focus\n",
       "\n",
       "    // location in version 3\n",
       "    if (IPython.notebook.keyboard_manager) {\n",
       "        IPython.notebook.keyboard_manager.register_events(el);\n",
       "    } else {\n",
       "        // location in version 2\n",
       "        IPython.keyboard_manager.register_events(el);\n",
       "    }\n",
       "};\n",
       "\n",
       "mpl.figure.prototype._key_event_extra = function (event, _name) {\n",
       "    var manager = IPython.notebook.keyboard_manager;\n",
       "    if (!manager) {\n",
       "        manager = IPython.keyboard_manager;\n",
       "    }\n",
       "\n",
       "    // Check for shift+enter\n",
       "    if (event.shiftKey && event.which === 13) {\n",
       "        this.canvas_div.blur();\n",
       "        // select the cell after this one\n",
       "        var index = IPython.notebook.find_cell_index(this.cell_info[0]);\n",
       "        IPython.notebook.select(index + 1);\n",
       "    }\n",
       "};\n",
       "\n",
       "mpl.figure.prototype.handle_save = function (fig, _msg) {\n",
       "    fig.ondownload(fig, null);\n",
       "};\n",
       "\n",
       "mpl.find_output_cell = function (html_output) {\n",
       "    // Return the cell and output element which can be found *uniquely* in the notebook.\n",
       "    // Note - this is a bit hacky, but it is done because the \"notebook_saving.Notebook\"\n",
       "    // IPython event is triggered only after the cells have been serialised, which for\n",
       "    // our purposes (turning an active figure into a static one), is too late.\n",
       "    var cells = IPython.notebook.get_cells();\n",
       "    var ncells = cells.length;\n",
       "    for (var i = 0; i < ncells; i++) {\n",
       "        var cell = cells[i];\n",
       "        if (cell.cell_type === 'code') {\n",
       "            for (var j = 0; j < cell.output_area.outputs.length; j++) {\n",
       "                var data = cell.output_area.outputs[j];\n",
       "                if (data.data) {\n",
       "                    // IPython >= 3 moved mimebundle to data attribute of output\n",
       "                    data = data.data;\n",
       "                }\n",
       "                if (data['text/html'] === html_output) {\n",
       "                    return [cell, data, j];\n",
       "                }\n",
       "            }\n",
       "        }\n",
       "    }\n",
       "};\n",
       "\n",
       "// Register the function which deals with the matplotlib target/channel.\n",
       "// The kernel may be null if the page has been refreshed.\n",
       "if (IPython.notebook.kernel !== null) {\n",
       "    IPython.notebook.kernel.comm_manager.register_target(\n",
       "        'matplotlib',\n",
       "        mpl.mpl_figure_comm\n",
       "    );\n",
       "}\n"
      ],
      "text/plain": [
       "<IPython.core.display.Javascript object>"
      ]
     },
     "metadata": {},
     "output_type": "display_data"
    },
    {
     "data": {
      "text/html": [
       "<img src=\"data:image/png;base64,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\" width=\"1200\">"
      ],
      "text/plain": [
       "<IPython.core.display.HTML object>"
      ]
     },
     "metadata": {},
     "output_type": "display_data"
    },
    {
     "name": "stdout",
     "output_type": "stream",
     "text": [
      "jCPD averaged over all pixels and write voltage steps = -0.5591658004864636 +/- 13.630228163902892 V\n"
     ]
    }
   ],
   "source": [
    "# specify x select and y select\n",
    "\n",
    "x_select = 3\n",
    "y_select = 2\n",
    "\n",
    "x_range2 = [0, num_col-1]\n",
    "y_range2 = [0, num_row-1]\n",
    "# x_range2[0] = 0\n",
    "# x_range2[1] = num_col-1\n",
    "# y_range2[0] = 0\n",
    "# y_range2[1] = num_row-1\n",
    "\n",
    "jCPD_mean1 = np.nanmean(jCPD_mat[y_range2[0]:y_range2[1], x_range2[0]:x_range2[1],:],axis = 0)\n",
    "jCPD_std1 = np.nanstd(jCPD_mat[y_range2[0]:y_range2[1], x_range2[0]:x_range2[1],:],axis = 0)\n",
    "jCPD_mean_w = np.nanmean(jCPD_mean1,axis = 0)\n",
    "jCPD_std_w = np.nanstd(jCPD_mean1,axis = 0)\n",
    "\n",
    "\n",
    "\n",
    "#jCPD_mean_w[2] = np.nan\n",
    "\n",
    "\n",
    "jCPD_mean_all = np.nanmean(jCPD_mean_w,axis = 0)\n",
    "jCPD_std_all = np.nanstd(jCPD_std_w,axis = 0)\n",
    "\n",
    "\n",
    "fig3 = plt.figure(figsize=(12,7))  \n",
    "fig3.set_facecolor('white')\n",
    "ax_jCPD_mean = plt.subplot2grid((10, 10), (0, 0), colspan=4, rowspan=5)\n",
    "ax_jCPD_xy = plt.subplot2grid((10, 10), (0, 5), colspan=4, rowspan=5)\n",
    "\n",
    "plt.title('Mean jCPD vs write voltage', fontsize = 12)\n",
    "# ax_jCPD_mean.errorbar(bias_vec_w, jCPD_mean_w, yerr = jCPD_std_w, fmt = '.-')\n",
    "ax_jCPD_mean.plot(bias_vec_w, jCPD_mean_w, '.-')\n",
    "ax_jCPD_mean.set_xlabel('Write voltage [V]', fontsize = 12)\n",
    "ax_jCPD_mean.set_ylabel('Mean jCPD [V]', fontsize = 12)\n",
    "# ax_jCPD_mean.set_ylim([-10,10])\n",
    "\n",
    "ax_jCPD_xy.plot(bias_vec_w, jCPD_mat[y_select,x_select, : ], '.-')\n",
    "ax_jCPD_xy.set_xlabel('Write voltage [V]', fontsize = 12)\n",
    "ax_jCPD_xy.set_ylabel('jCPD [V]', fontsize = 12)\n",
    "# ax_jCPD_xy.set_ylim([-10,15])\n",
    "plt.title('jCPD at x = '+str(x_select)+' y = '+str(y_select))\n",
    "\n",
    "print('jCPD averaged over all pixels and write voltage steps = '+ str(jCPD_mean_all)+' +/- '+str(jCPD_std_all)+' V')"
   ]
  },
  {
   "cell_type": "markdown",
   "metadata": {},
   "source": [
    "## PCA analysis\n",
    "\n",
    "### Singular value decomposition performed on raw data:"
   ]
  },
  {
   "cell_type": "code",
   "execution_count": 29,
   "metadata": {},
   "outputs": [
    {
     "name": "stdout",
     "output_type": "stream",
     "text": [
      "(100, 54560)\n"
     ]
    },
    {
     "ename": "AttributeError",
     "evalue": "module 'pyUSID' has no attribute 'svd_utils'",
     "output_type": "error",
     "traceback": [
      "\u001b[1;31m---------------------------------------------------------------------------\u001b[0m",
      "\u001b[1;31mAttributeError\u001b[0m                            Traceback (most recent call last)",
      "\u001b[1;32m<ipython-input-29-c45f5a6127d5>\u001b[0m in \u001b[0;36m<module>\u001b[1;34m\u001b[0m\n\u001b[0;32m      1\u001b[0m \u001b[1;31m# Do SVD on raw data\u001b[0m\u001b[1;33m\u001b[0m\u001b[1;33m\u001b[0m\u001b[1;33m\u001b[0m\u001b[0m\n\u001b[0;32m      2\u001b[0m \u001b[0mprint\u001b[0m\u001b[1;33m(\u001b[0m\u001b[0mh5_main\u001b[0m\u001b[1;33m.\u001b[0m\u001b[0mshape\u001b[0m\u001b[1;33m)\u001b[0m\u001b[1;33m\u001b[0m\u001b[1;33m\u001b[0m\u001b[0m\n\u001b[1;32m----> 3\u001b[1;33m \u001b[0mdo_svd\u001b[0m \u001b[1;33m=\u001b[0m \u001b[0musid\u001b[0m\u001b[1;33m.\u001b[0m\u001b[0msvd_utils\u001b[0m\u001b[1;33m.\u001b[0m\u001b[0mSVD\u001b[0m\u001b[1;33m(\u001b[0m\u001b[0mh5_main\u001b[0m\u001b[1;33m,\u001b[0m \u001b[0mnum_components\u001b[0m\u001b[1;33m=\u001b[0m\u001b[1;36m40\u001b[0m\u001b[1;33m)\u001b[0m\u001b[1;33m\u001b[0m\u001b[1;33m\u001b[0m\u001b[0m\n\u001b[0m\u001b[0;32m      4\u001b[0m \u001b[0mSVD_data\u001b[0m \u001b[1;33m=\u001b[0m \u001b[0mdo_svd\u001b[0m\u001b[1;33m.\u001b[0m\u001b[0mcompute\u001b[0m\u001b[1;33m(\u001b[0m\u001b[1;33m)\u001b[0m\u001b[1;33m\u001b[0m\u001b[1;33m\u001b[0m\u001b[0m\n",
      "\u001b[1;31mAttributeError\u001b[0m: module 'pyUSID' has no attribute 'svd_utils'"
     ]
    }
   ],
   "source": [
    "# Do SVD on raw data\n",
    "print(h5_main.shape)\n",
    "do_svd = px.svd_utils.SVD(h5_main, num_components=40)\n",
    "SVD_data = do_svd.compute()\n"
   ]
  },
  {
   "cell_type": "markdown",
   "metadata": {},
   "source": [
    "### SVD on jCPD, slope, y-intercept data and response at 0 V read voltage:"
   ]
  },
  {
   "cell_type": "code",
   "execution_count": null,
   "metadata": {},
   "outputs": [],
   "source": [
    "# Do SVD on jCPD, slope and y-intercept data\n",
    "\n",
    "from sklearn.utils.extmath import randomized_svd\n",
    "\n",
    "num_components = 20;\n",
    "\n",
    "# # #Filter outliers from jCPD matrix, (-> improve code)\n",
    "# # for r in range(1, num_row):\n",
    "# #     for c in range(1, num_col):\n",
    "# #         for s in range(1, num_write_steps):\n",
    "# #             if jCPD_mat[r-1, c-1, s-1] > 5 or jCPD_mat[r-1, c-1, s-1] < -5:\n",
    "# #                 jCPD_mat[r-1, c-1, s-1] = np.nan\n",
    "# # #                 jCPD_mat[r-1, c-1, s-1] = 0\n",
    "\n",
    "\n",
    "x_delete = np.array([])\n",
    "y_delete = np.array([])\n",
    "\n",
    "\n",
    "index_delete = (num_col)*y_delete+x_delete\n",
    "\n",
    "\n",
    "jCPD_mat_SVD = np.reshape(jCPD_mat,(num_row*num_col, num_write_steps))\n",
    "\n",
    "nan_pos = np.squeeze((np.argwhere(np.isnan(jCPD_mat_SVD).any(axis=1))))\n",
    "index_delete = np.insert(index_delete, index_delete.shape[0], nan_pos, axis = 0)\n",
    "\n",
    "index_delete = -np.sort(-index_delete)\n",
    "\n",
    "\n",
    "jCPD_mat_SVD_clean = jCPD_mat_SVD\n",
    "\n",
    "for i in range(0,index_delete.shape[0]):\n",
    "    jCPD_mat_SVD_clean = np.delete(jCPD_mat_SVD_clean, index_delete[i], axis = 0)\n",
    "\n",
    "U_SVD_jCPD, S_SVD_jCPD, V_SVD_jCPD = randomized_svd(jCPD_mat_SVD_clean, n_components = num_components)\n",
    "\n",
    "\n",
    "index_delete = np.sort(index_delete)\n",
    "\n",
    "for i in range(0,index_delete.shape[0]):\n",
    "    U_SVD_jCPD = np.insert(U_SVD_jCPD, index_delete[i], np.nan ,axis = 0)\n",
    "    print(i,index_delete[i])\n",
    "    \n",
    "print(U_SVD_jCPD.shape)\n",
    "\n",
    "\n",
    "slope_mat_SVD = np.reshape(fit_slope,(num_row*num_col, num_write_steps))\n",
    "U_SVD_slope, S_SVD_slope, V_SVD_slope = randomized_svd(slope_mat_SVD, n_components = num_components)\n",
    "\n",
    "yintercept_mat_SVD = np.reshape(fit_yintercept,(num_row*num_col, num_write_steps))\n",
    "U_SVD_yintercept, S_SVD_yintercept, V_SVD_yintercept = randomized_svd(yintercept_mat_SVD, n_components = num_components)\n",
    "\n",
    "\n",
    "# Do SVD on cKPFM signal at 0 V read voltage (= PFM)\n",
    "dc_step_read = np.argwhere(np.isclose(bias_vec_r[0,:], 0)).squeeze()\n",
    "\n",
    "resp_mat_0Vr = np.squeeze(Nd_mat[:,:,1,:,dc_step_read]['Amplitude [V]'] * \n",
    "                          np.cos(Nd_mat[:,:,1,:,dc_step_read]['Phase [rad]'])*1000)\n",
    "\n",
    "resp_mat_0Vr = np.reshape(resp_mat_0Vr,(num_row*num_col, num_write_steps))\n",
    "U_SVD_resp0Vr, S_SVD_resp0Vr, V_SVD_resp0Vr = randomized_svd(resp_mat_0Vr, n_components = num_components)\n"
   ]
  },
  {
   "cell_type": "markdown",
   "metadata": {},
   "source": [
    "### Display SVD score maps and eigenvectors of jCPD data:"
   ]
  },
  {
   "cell_type": "code",
   "execution_count": null,
   "metadata": {
    "scrolled": false
   },
   "outputs": [],
   "source": [
    "# Visualize PCA of jCPD data\n",
    "\n",
    "U_SVD_jCPD = np.reshape(U_SVD_jCPD,(num_row, num_col, num_components))\n",
    "\n",
    "fig5 = plt.figure(figsize=(12,12))\n",
    "fig5.clf()\n",
    "fig5.set_facecolor('white')    \n",
    "\n",
    "n_components = 20\n",
    "\n",
    "for component in range(1, n_components+1):\n",
    "    \n",
    "\n",
    "    ax_SVD_plot = plt.subplot(5, 4, component)\n",
    "    image = ax_SVD_plot.imshow(U_SVD_jCPD[:,:,component-1], cmap=px.plot_utils.cmap_jet_white_center(), \n",
    "                               origin='upper', interpolation='none');\n",
    "    ax_SVD_plot.set_title('#'+str(component), fontsize = 10)\n",
    "    \n",
    "    fig5.colorbar(image, ax = ax_SVD_plot)\n",
    "    \n",
    "fig5.suptitle('PCA scores of jCPD data', weight = 'bold', fontsize = 12, y=1)\n",
    "fig5.tight_layout()\n",
    "\n",
    "\n",
    "\n",
    "fig55 = plt.figure(figsize=(12,12))\n",
    "fig55.clf()\n",
    "fig55.set_facecolor('white')\n",
    "\n",
    "for component in range(1, n_components+1):\n",
    "    ax_SVD_plot = plt.subplot(5, 4, component)\n",
    "    image = ax_SVD_plot.plot(bias_vec_w, V_SVD_jCPD[component-1,:],'.-');\n",
    "    ax_SVD_plot.set_title('#'+str(component), fontsize = 10)\n",
    "    ax_SVD_plot.set_xlabel('Write voltage [V]')\n",
    "\n",
    "\n",
    "fig55.suptitle('PCA eigenvectors of jCPD data', weight = 'bold', fontsize = 12, y=1);\n",
    "\n",
    "fig55.tight_layout()\n",
    "\n",
    "\n",
    "def on_save_button4_clicked(b):\n",
    "   \n",
    "    fig5.savefig(output_file_path+'\\PCA_jCPD_scores.png', format='png')\n",
    "    fig5.savefig(output_file_path+'\\PCA_jCPD_scores.eps', format='eps')\n",
    "    fig5.savefig(output_file_path+'\\PCA_jCPD_scores.tif', format='tif')\n",
    "    fig55.savefig(output_file_path+'\\PCA_jCPD_ev.png', format='png')\n",
    "    fig55.savefig(output_file_path+'\\PCA_jCPD_ev.eps', format='eps')\n",
    "    fig55.savefig(output_file_path+'\\PCA_jCPD_ev.tif', format='tif')\n",
    "\n",
    "    \n",
    "button4 = widgets.Button(description = 'Save figure')\n",
    "display(button4)\n",
    "button4.on_click(on_save_button4_clicked)\n",
    "\n",
    "\n"
   ]
  },
  {
   "cell_type": "markdown",
   "metadata": {},
   "source": [
    "### Display SVD score maps and eigenvectors of slope data:"
   ]
  },
  {
   "cell_type": "code",
   "execution_count": null,
   "metadata": {
    "scrolled": false
   },
   "outputs": [],
   "source": [
    "# Visualize PCA of slope data\n",
    "U_SVD_slope = np.reshape(U_SVD_slope,(num_row, num_col, num_components))\n",
    "\n",
    "fig6 = plt.figure(figsize=(12,12))\n",
    "fig6.clf()\n",
    "fig6.set_facecolor('white')    \n",
    "\n",
    "n_components = 20\n",
    "\n",
    "for component in range(1, n_components+1):\n",
    "    \n",
    "\n",
    "    ax_SVD_plot = plt.subplot(5, 4, component)\n",
    "    image = ax_SVD_plot.imshow(U_SVD_slope[:,:,component-1], cmap=px.plot_utils.cmap_jet_white_center(), \n",
    "                               origin='upper', interpolation='none');\n",
    "    ax_SVD_plot.set_title('#'+str(component), fontsize = 10)\n",
    "    fig6.colorbar(image, ax = ax_SVD_plot)\n",
    "    \n",
    "fig6.tight_layout()\n",
    "fig6.suptitle('PCA scores of slope data', weight = 'bold', fontsize = 12, y = 1);\n",
    "\n",
    "\n",
    "fig66 = plt.figure(figsize=(12,12))\n",
    "fig66.clf()\n",
    "fig66.set_facecolor('white')\n",
    "\n",
    "for component in range(1, n_components+1):\n",
    "    ax_SVD_plot = plt.subplot(5, 4, component)\n",
    "    image = ax_SVD_plot.plot(bias_vec_w, V_SVD_slope[component-1,:],'.-');\n",
    "    ax_SVD_plot.set_title('#'+str(component), fontsize = 10)\n",
    "    ax_SVD_plot.set_xlabel('Write voltage [V]')\n",
    "fig66.tight_layout()\n",
    "\n",
    "fig66.suptitle('PCA eigenvectors of slope data', weight = 'bold', fontsize = 12, y = 1);\n",
    "\n",
    "def on_save_button5_clicked(b):\n",
    "   \n",
    "    fig6.savefig(output_file_path+'\\PCA_slope_scores.png', format='png')\n",
    "    fig6.savefig(output_file_path+'\\PCA_slope_scores.eps', format='eps')\n",
    "    fig6.savefig(output_file_path+'\\PCA_slope_scores.tif', format='tif')\n",
    "    fig66.savefig(output_file_path+'\\PCA_slope_ev.png', format='png')\n",
    "    fig66.savefig(output_file_path+'\\PCA_slope_ev.eps', format='eps')\n",
    "    fig66.savefig(output_file_path+'\\PCA_slope_ev.tif', format='tif')\n",
    "\n",
    "    \n",
    "button5 = widgets.Button(description = 'Save figure')\n",
    "display(button5)\n",
    "button5.on_click(on_save_button5_clicked)"
   ]
  },
  {
   "cell_type": "markdown",
   "metadata": {},
   "source": [
    "### Display SVD score maps and eigenvectors of y-intercept data:"
   ]
  },
  {
   "cell_type": "code",
   "execution_count": null,
   "metadata": {
    "scrolled": false
   },
   "outputs": [],
   "source": [
    "# Visualize PCA of y-intercept data\n",
    "U_SVD_yintercept = np.reshape(U_SVD_yintercept,(num_row, num_col, num_components))\n",
    "\n",
    "fig7 = plt.figure(figsize=(12,12))\n",
    "fig7.clf()\n",
    "fig7.set_facecolor('white')    \n",
    "\n",
    "n_components = 20\n",
    "\n",
    "for component in range(1, n_components+1):\n",
    "    \n",
    "\n",
    "    ax_SVD_plot = plt.subplot(5, 4, component)\n",
    "    image = ax_SVD_plot.imshow(U_SVD_yintercept[:,:,component-1], cmap=px.plot_utils.cmap_jet_white_center(), \n",
    "                               origin='upper', interpolation='none');\n",
    "    ax_SVD_plot.set_title('#'+str(component), fontsize = 10)\n",
    "    \n",
    "    fig7.colorbar(image, ax = ax_SVD_plot)\n",
    "    \n",
    "\n",
    "fig7.tight_layout()\n",
    "\n",
    "fig7.suptitle('PCA scores of y-intercept data', weight = 'bold', fontsize = 12, y = 1);\n",
    "\n",
    "fig77 = plt.figure(figsize=(12,12))\n",
    "fig77.clf()\n",
    "fig77.set_facecolor('white')\n",
    "\n",
    "for component in range(1, n_components+1):\n",
    "    ax_SVD_plot = plt.subplot(5, 4, component)\n",
    "    image = ax_SVD_plot.plot(bias_vec_w, V_SVD_yintercept[component-1,:],'.-');\n",
    "    ax_SVD_plot.set_title('#'+str(component), fontsize = 10)\n",
    "    ax_SVD_plot.set_xlabel('Write voltage [V]')\n",
    "fig77.tight_layout()\n",
    "\n",
    "fig77.suptitle('PCA eigenvectors of y-intercept data', weight = 'bold', fontsize = 12, y = 1);\n",
    "\n",
    "def on_save_button6_clicked(b):\n",
    "   \n",
    "    fig7.savefig(output_file_path+'\\PCA_yintercept_scores.png', format='png')\n",
    "    fig7.savefig(output_file_path+'\\PCA_yintercept_scores.eps', format='eps')\n",
    "    fig7.savefig(output_file_path+'\\PCA_yintercept_scores.tif', format='tif')\n",
    "    fig77.savefig(output_file_path+'\\PCA_yintercept_ev.png', format='png')\n",
    "    fig77.savefig(output_file_path+'\\PCA_yintercept_ev.eps', format='eps')\n",
    "    fig77.savefig(output_file_path+'\\PCA_yintercept_ev.tif', format='tif')\n",
    "\n",
    "    \n",
    "button6 = widgets.Button(description = 'Save figure')\n",
    "display(button6)\n",
    "button6.on_click(on_save_button6_clicked)"
   ]
  },
  {
   "cell_type": "markdown",
   "metadata": {},
   "source": [
    "### Display SVD score maps and eigenvectors of response at 0 V read voltage:"
   ]
  },
  {
   "cell_type": "code",
   "execution_count": null,
   "metadata": {
    "scrolled": false
   },
   "outputs": [],
   "source": [
    "# Visualize PCA of response at 0 V read voltage\n",
    "U_SVD_resp0Vr = np.reshape(U_SVD_resp0Vr,(num_row, num_col, num_components))\n",
    "\n",
    "fig8 = plt.figure(figsize=(12,12))\n",
    "fig8.clf()\n",
    "fig8.set_facecolor('white')    \n",
    "\n",
    "n_components = 20\n",
    "\n",
    "\n",
    "for component in range(1, n_components+1):\n",
    "    \n",
    "\n",
    "    ax_SVD_plot = plt.subplot(5, 4, component)\n",
    "    image = ax_SVD_plot.imshow(U_SVD_resp0Vr[:,:,component-1], cmap=px.plot_utils.cmap_jet_white_center(), \n",
    "                               origin='upper', interpolation='none');\n",
    "    ax_SVD_plot.set_title('#'+str(component), fontsize = 10)\n",
    "    fig8.colorbar(image, ax = ax_SVD_plot)\n",
    "    \n",
    "\n",
    "fig8.tight_layout()\n",
    "\n",
    "fig8.suptitle('PCA scores of response at V$_{read}$ = 0 V', weight = 'bold', fontsize = 12, y = 1);\n",
    "\n",
    "fig88 = plt.figure(figsize=(12,12))\n",
    "fig88.clf()\n",
    "fig88.set_facecolor('white')\n",
    "\n",
    "for component in range(1, n_components+1):\n",
    "    ax_SVD_plot = plt.subplot(5, 4, component)\n",
    "    image = ax_SVD_plot.plot(bias_vec_w, V_SVD_resp0Vr[component-1,:],'.-');\n",
    "    ax_SVD_plot.set_xlabel('Write voltage [V]')\n",
    "    ax_SVD_plot.set_title('#'+str(component), fontsize = 10)\n",
    "fig88.tight_layout()\n",
    "\n",
    "fig88.suptitle('PCA eigenvectors of response at V$_{read}$ = 0 V', weight = 'bold', fontsize = 12, y = 1);\n",
    "\n",
    "def on_save_button7_clicked(b):\n",
    "   \n",
    "    fig8.savefig(output_file_path+'\\PCA_resp0V_scores.png', format='png')\n",
    "    fig8.savefig(output_file_path+'\\PCA_resp0V_scores.eps', format='eps')\n",
    "    fig8.savefig(output_file_path+'\\PCA_resp0V_scores.tif', format='tif')\n",
    "    fig88.savefig(output_file_path+'\\PCA_resp0V_ev.png', format='png')\n",
    "    fig88.savefig(output_file_path+'\\PCA_resp0V_ev.eps', format='eps')\n",
    "    fig88.savefig(output_file_path+'\\PCA_resp0V_ev.tif', format='tif')\n",
    "\n",
    "    \n",
    "button7 = widgets.Button(description = 'Save figure')\n",
    "display(button7)\n",
    "button7.on_click(on_save_button7_clicked)"
   ]
  },
  {
   "cell_type": "markdown",
   "metadata": {},
   "source": [
    "### Display SVD score maps and eigenvectors of raw data:"
   ]
  },
  {
   "cell_type": "code",
   "execution_count": null,
   "metadata": {
    "scrolled": false
   },
   "outputs": [],
   "source": [
    "# Visualize PCA of raw data\n",
    "S_mat = SVD_data['S'][:]\n",
    "U_mat = SVD_data['U'][:]\n",
    "V_mat = SVD_data['V'][:]\n",
    "\n",
    "n_components = min(40, S_mat.size)\n",
    "\n",
    "U_mat = np.reshape(U_mat,(num_row, num_col, n_components))\n",
    "\n",
    "fig4 = plt.figure(figsize=(12,20))\n",
    "fig4.clf()\n",
    "fig4.set_facecolor('white')    \n",
    "\n",
    "for component in range(1, n_components+1):\n",
    "    ax_SVD_plot = plt.subplot(10, 4, component)\n",
    "    \n",
    "    image = ax_SVD_plot.imshow(U_mat[:,:,component-1], \n",
    "                            cmap=px.plot_utils.cmap_jet_white_center(), \n",
    "                            origin='upper', interpolation='none');\n",
    "    ax_SVD_plot.set_title('#'+str(component), fontsize = 10)\n",
    "    fig4.colorbar(image, ax = ax_SVD_plot)\n",
    "    \n",
    "fig4.tight_layout()\n",
    "\n",
    "\n",
    "fig4.suptitle('PCA scores of raw data', weight = 'bold', fontsize = 12, y = 1);\n",
    "\n",
    "\n",
    "fig44 = plt.figure(figsize=(12,20))\n",
    "fig44.clf()\n",
    "fig44.set_facecolor('white')\n",
    "\n",
    "for component in range(1, n_components+1):\n",
    "    ax_SVD_plot = plt.subplot(10, 4, component)\n",
    "    image = ax_SVD_plot.plot(V_mat[component-1,:],'.-');\n",
    "    ax_SVD_plot.set_title('#'+str(component), fontsize = 10)\n",
    "fig44.tight_layout()\n",
    "\n",
    "fig44.suptitle('PCA eigenvectors of of raw data', weight = 'bold', fontsize = 12, y = 1);\n",
    "\n",
    "def on_save_button8_clicked(b):\n",
    "   \n",
    "    fig4.savefig(output_file_path+'\\PCA_rawdata_scores.png', format='png')\n",
    "    fig4.savefig(output_file_path+'\\PCA_rawdata_scores.eps', format='eps')\n",
    "    fig4.savefig(output_file_path+'\\PCA_rawdata_scores.tif', format='tif')\n",
    "    fig44.savefig(output_file_path+'\\PCA_rawdata_ev.png', format='png')\n",
    "    fig44.savefig(output_file_path+'\\PCA_rawdata_ev.eps', format='eps')\n",
    "    fig44.savefig(output_file_path+'\\PCA_rawdata_ev.tif', format='tif')\n",
    "\n",
    "    \n",
    "button8 = widgets.Button(description = 'Save figure')\n",
    "display(button8)\n",
    "button8.on_click(on_save_button8_clicked)"
   ]
  },
  {
   "cell_type": "markdown",
   "metadata": {},
   "source": [
    "# BEPS/ FORC viewer"
   ]
  },
  {
   "cell_type": "code",
   "execution_count": null,
   "metadata": {
    "scrolled": false
   },
   "outputs": [],
   "source": [
    "global count\n",
    "count = 0\n",
    "cycle = 0\n",
    "row = 0\n",
    "col = 0\n",
    "dc_step_write = 0\n",
    "step_chan = b'read_bias'\n",
    "\n",
    "guess_3d_data, success = px.hdf_utils.reshape_to_Ndims(h5_sho_fit)\n",
    "h5_sho_spec_inds = px.hdf_utils.getAuxData(h5_sho_fit, auxDataName='Spectroscopic_Indices')[0]\n",
    "h5_sho_spec_vals = px.hdf_utils.getAuxData(h5_sho_fit, auxDataName='Spectroscopic_Values')[0]\n",
    "\n",
    "spec_nd, _ = px.hdf_utils.reshape_to_Ndims(h5_sho_spec_inds, h5_spec=h5_sho_spec_inds)\n",
    "\n",
    "spec_nd, _ = px.hdf_utils.reshape_to_Ndims(h5_sho_spec_inds, h5_spec=h5_sho_spec_inds)\n",
    "# sho_spec_sort = get_sort_order(h5_sho_spec_inds)\n",
    "sho_spec_dims = np.array(spec_nd.shape[1:])\n",
    "sho_spec_labels = h5_sho_spec_inds.attrs['labels']\n",
    "\n",
    "h5_pos_inds = px.hdf_utils.getAuxData(h5_sho_fit, auxDataName='Position_Indices')[-1];\n",
    "pos_nd, _ = px.hdf_utils.reshape_to_Ndims(h5_pos_inds, h5_pos=h5_pos_inds)\n",
    "pos_dims = list(pos_nd.shape[:h5_pos_inds.shape[1]])\n",
    "pos_labels = h5_pos_inds.attrs['labels']\n",
    "\n",
    "# reshape to X, Y, step, all others\n",
    "spec_step_dim_ind = np.where(sho_spec_labels == step_chan)[0]\n",
    "step_dim_ind = len(pos_dims) + spec_step_dim_ind\n",
    "\n",
    "# move the step dimension to be the first after all position dimensions\n",
    "rest_sho_dim_order = list(range(len(pos_dims), len(guess_3d_data.shape)))\n",
    "rest_sho_dim_order.remove(step_dim_ind)\n",
    "new_order = list(range(len(pos_dims))) + step_dim_ind.tolist() + rest_sho_dim_order\n",
    "\n",
    "# Transpose the 3D dataset to this shape:\n",
    "sho_guess_Nd_1 = np.transpose(guess_3d_data, new_order)\n",
    "\n",
    "# Now move the step dimension to the front for the spec labels as well\n",
    "new_spec_order = list(range(len(sho_spec_labels)))\n",
    "new_spec_order.remove(spec_step_dim_ind)\n",
    "new_spec_order = spec_step_dim_ind.tolist() + new_spec_order\n",
    "\n",
    "# new_spec_labels = sho_spec_labels[new_spec_order]\n",
    "new_spec_dims = np.array(sho_spec_dims)[new_spec_order]\n",
    "\n",
    "# Now collapse all additional dimensions\n",
    "final_guess_shape = pos_dims + [new_spec_dims[0]] + [-1]\n",
    "sho_dset_collapsed = np.reshape(sho_guess_Nd_1, final_guess_shape)\n",
    "\n",
    "# Get the bias matrix:\n",
    "bias_mat, _ = px.hdf_utils.reshape_to_Ndims(h5_sho_spec_vals, h5_spec=h5_sho_spec_inds)\n",
    "bias_mat = np.transpose(bias_mat[spec_step_dim_ind].squeeze(), new_spec_order).reshape(sho_dset_collapsed.\n",
    "                                                                             shape[len(pos_dims):])\n",
    "bias_mat = bias_mat*high_voltage_amplf\n",
    "\n",
    "num_read_steps = sho_dset_collapsed.shape[1]\n",
    "num_write_steps = sho_dset_collapsed.shape[2]\n",
    "num_row = sho_dset_collapsed.shape[1]\n",
    "num_col = sho_dset_collapsed.shape[0]\n",
    "\n",
    "print(sho_dset_collapsed.shape)\n",
    "print('bias mat shape', bias_mat.shape)\n",
    "\n",
    "num_loops = bias_mat.shape[1]\n",
    "num_loops_h = int(num_loops/2)\n",
    "# plt.figure()\n",
    "# plt.plot(bias_mat[:,:]);\n",
    "\n",
    "\n",
    "\n",
    "# print(sho_dset_collapsed.attrs)\n",
    "# print(getattr(obj))\n",
    "\n",
    "amp_map = sho_dset_collapsed[:, :, dc_step_write, cycle]['Amplitude [V]']*1000\n",
    "phase_map = sho_dset_collapsed[:, :, dc_step_write, cycle]['Phase [rad]']\n",
    "frequency_map = sho_dset_collapsed[:, :, dc_step_write, cycle]['Frequency [Hz]']/1000\n",
    "Q_map = sho_dset_collapsed[:, :, dc_step_write, cycle]['Quality Factor']\n",
    "\n",
    "mixed_map = amp_map*np.cos(phase_map)\n",
    "mixed_mat_h = sho_dset_collapsed[:, :, :, :]['Amplitude [V]'] * np.cos(sho_dset_collapsed[:, :, :, :]['Phase [rad]'])*1000\n",
    "\n",
    "print('mixed shape = ', mixed_mat_h.shape)\n",
    "\n",
    "def make_figure_beps_forc(amp_map, phase_map, mixed_map, Q_map, frequency_map, mixed_mat_h, col, row, cycle, dc_step_write):\n",
    "    global fig_bf\n",
    "    fig_bf = plt.figure(figsize=(12,6))\n",
    "    fig_bf.clf()\n",
    "    fig_bf.set_facecolor('white')  \n",
    "    \n",
    "    \n",
    "    \n",
    "    ax_amp = plt.subplot(2, 3, 1)\n",
    "    img_a = ax_amp.imshow(amp_map, cmap=px.plot_utils.cmap_jet_white_center(), \n",
    "                          origin='upper', interpolation='none');\n",
    "    ax_amp.set_title('Amplitude [a.u.]', fontsize = 10)\n",
    "    fig_bf.colorbar(img_a, ax = ax_amp)\n",
    "\n",
    "    ax_phase = plt.subplot(2, 3, 2)\n",
    "    img_p = ax_phase.imshow(phase_map, cmap=px.plot_utils.cmap_jet_white_center(), \n",
    "                          origin='upper', interpolation='none', clim = [-3.5, 3.5]);\n",
    "    ax_phase.set_title('Phase [rad]', fontsize = 10)\n",
    "    fig_bf.colorbar(img_p, ax = ax_phase)\n",
    "\n",
    "    ax_m = plt.subplot(2, 3, 3)\n",
    "    img_m = ax_m.imshow(mixed_map, cmap=px.plot_utils.cmap_jet_white_center(), \n",
    "                          origin='upper', interpolation='none');\n",
    "    ax_m.set_title('Real component [a.u.]', fontsize = 10)\n",
    "    fig_bf.colorbar(img_m, ax = ax_m)\n",
    "\n",
    "    ax_q = plt.subplot(2, 3, 4)\n",
    "    img_q = ax_q.imshow(Q_map, cmap=px.plot_utils.cmap_jet_white_center(), \n",
    "                          origin='upper', interpolation='none');\n",
    "    ax_q.set_title('Quality factor', fontsize = 10)\n",
    "    fig_bf.colorbar(img_q, ax = ax_q)   \n",
    "\n",
    "    ax_f = plt.subplot(2, 3, 5)\n",
    "    img_f = ax_f.imshow(frequency_map, cmap=px.plot_utils.cmap_jet_white_center(), \n",
    "                          origin='upper', interpolation='none');\n",
    "    ax_f.set_title('Resonance frequency [kHz]', fontsize = 10)\n",
    "    fig_bf.colorbar(img_f, ax = ax_f) \n",
    "\n",
    "    ax_h = plt.subplot(2, 3, 6)\n",
    "    ax_h.plot(bias_mat[:,0:num_loops//2], mixed_mat_h[row, col, :, 0:num_loops//2],'-.', marker ='*')\n",
    "    ax_h.plot(bias_mat[:,num_loops_h:num_loops], mixed_mat_h[row, col, :, num_loops_h:num_loops],'.-')\n",
    "    ax_h.set_ylabel('Response [a.u.]')\n",
    "    ax_h.set_xlabel('Write voltage [V]')\n",
    "    ax_h.set_title('x = '+str(col)+' y = '+str(row), fontsize = 10)\n",
    "    \n",
    "    \n",
    "    fig_bf.suptitle('Step# = '+str(dc_step_write)+', cycle# = '+str(cycle)\n",
    "                    +', V$_{write}$ = '+str(bias_mat[dc_step_write, 0]) +' V'\n",
    "                   , fontsize = 12);\n",
    "    \n",
    "\n",
    "    fig_bf.tight_layout()\n",
    "    \n",
    "    plt.subplots_adjust(top = 0.9)\n",
    "\n",
    "make_figure_beps_forc(amp_map, phase_map, mixed_map, Q_map, frequency_map, mixed_mat_h, col, row, cycle, dc_step_write)\n",
    "    \n",
    "def update_beps_forc_plot(dc_step_write, cycle, col, row):\n",
    "       \n",
    "    amp_map = sho_dset_collapsed[:, :, dc_step_write, cycle]['Amplitude [V]']*1000\n",
    "    phase_map = sho_dset_collapsed[:, :, dc_step_write, cycle]['Phase [rad]']\n",
    "    frequency_map = sho_dset_collapsed[:, :, dc_step_write, cycle]['Frequency [Hz]']/1000\n",
    "    Q_map = sho_dset_collapsed[:, :, dc_step_write, cycle]['Quality Factor']\n",
    "    mixed_map = amp_map*np.cos(phase_map)\n",
    "    mixed_mat_h = sho_dset_collapsed[:, :, :, :]['Amplitude [V]'] * np.cos(sho_dset_collapsed[:, :, :, :]['Phase [rad]'])*1000\n",
    "\n",
    "    make_figure_beps_forc(amp_map, phase_map, mixed_map, Q_map, frequency_map, mixed_mat_h, col, row, cycle, dc_step_write)\n",
    "\n",
    "num_loops_h =num_loops//2-1\n",
    "\n",
    "dc_step_write_slider_bf = widgets.IntSlider(min = 0, max = num_write_steps-1, step = 1,value = 0,\n",
    "                                        description = 'Write step',continuous_update = False)\n",
    "cycle_slider = widgets.IntSlider(min = 2, max = num_loops-1, step = 1,value = 2,\n",
    "                                          description = 'Cycle', continuous_update = False)\n",
    "x_slider_bf  = widgets.IntSlider(min = 0, max = num_col-1,step = 1,value = 0,\n",
    "                             description='x',continuous_update = False)\n",
    "y_slider_bf  = widgets.IntSlider(min = 0,max = num_row-1,step = 1,value = 0, description = 'y',continuous_update = False)\n",
    "\n",
    "widgets.interact(update_beps_forc_plot, dc_step_write = dc_step_write_slider_bf, cycle = cycle_slider, \n",
    "                 col = x_slider_bf, row = y_slider_bf, **slider_dict); \n",
    "\n",
    "\n",
    "def on_save_button9_clicked(b):\n",
    "    global count\n",
    "    \n",
    "    fig_bf.savefig(output_file_path+'\\SHO_parms'+str(count)+'.png', format='png')\n",
    "    fig_bf.savefig(output_file_path+'\\SHO_parms'+str(count)+'.eps', format='eps')\n",
    "    fig_bf.savefig(output_file_path+'\\SHO_parms'+str(count)+'.tif', format='tif')\n",
    "    count+=1\n",
    "    \n",
    "button9 = widgets.Button(description = 'Save figure')\n",
    "display(button9)\n",
    "button9.on_click(on_save_button9_clicked)"
   ]
  },
  {
   "cell_type": "code",
   "execution_count": null,
   "metadata": {},
   "outputs": [],
   "source": [
    "amp_data = sho_dset_collapsed[:, :, :, :]['Amplitude [V]']*1000\n",
    "phase_data = sho_dset_collapsed[:, :, :, :]['Phase [rad]']\n",
    "\n",
    "amp_mean1 = np.nanmean(amp_data, axis = 0)\n",
    "amp_mean = np.nanmean(amp_mean1, axis = 0)\n",
    "\n",
    "phase_mean1 = np.nanmean(phase_data, axis = 0)\n",
    "phase_mean = np.nanmean(phase_mean1, axis = 0)\n",
    "\n",
    "mixed_mat_mean1 = np.nanmean(mixed_mat_h, axis = 0)\n",
    "mixed_mat_mean = np.nanmean(mixed_mat_mean1, axis = 0)\n",
    "\n",
    "fig_loops = plt.figure(figsize=(16,4))\n",
    "fig_loops.clf()\n",
    "fig_loops.set_facecolor('white')  \n",
    "\n",
    "ax_mixed = plt.subplot(1, 3, 1)\n",
    "img_a = ax_mixed.plot(bias_mat[:, 2:4], mixed_mat_mean[:, 2:4],'.-');\n",
    "ax_mixed.set_xlabel('DC voltage [V]', fontsize = 12)\n",
    "ax_mixed.set_ylabel('Mixed response [a.u.]', fontsize = 12)\n",
    "\n",
    "ax_phase = plt.subplot(1, 3, 2)\n",
    "img_c = ax_phase.plot(bias_mat[:,2:4], phase_mean[:, 2:4],'.-');\n",
    "ax_phase.set_xlabel('DC voltage [V]', fontsize = 12)\n",
    "ax_phase.set_ylabel('Phase [rad]', fontsize = 12)\n",
    "\n",
    "ax_amp = plt.subplot(1, 3, 3)\n",
    "img_b = ax_amp.plot(bias_mat[:,2:4], amp_mean[:,2:4],'.-');\n",
    "ax_amp.set_xlabel('DC voltage [V]', fontsize = 12)\n",
    "ax_amp.set_ylabel('Amplitude [a.u.]', fontsize = 12)\n",
    "\n",
    "def on_save_button10_clicked(b):\n",
    "    fig_loops.savefig(output_file_path+'\\Loops.png', format='png')\n",
    "    fig_loops.savefig(output_file_path+'\\Loops.eps', format='eps')\n",
    "    fig_loops.savefig(output_file_path+'\\Loops.tif', format='tif')\n",
    "    \n",
    "    \n",
    "button10 = widgets.Button(description = 'Save figure')\n",
    "display(button10)\n",
    "button10.on_click(on_save_button10_clicked)\n"
   ]
  },
  {
   "cell_type": "code",
   "execution_count": null,
   "metadata": {},
   "outputs": [],
   "source": [
    "# PCA on real component\n",
    "\n",
    "from sklearn.utils.extmath import randomized_svd\n",
    "\n",
    "\n",
    "mixed_mat_h[:, :, :, num_loops_h:num_loops]\n",
    "\n",
    "# resp_mat_0Vr = np.reshape(resp_mat_0Vr,(num_row*num_col, num_write_steps))\n",
    "# U_SVD_resp0Vr, S_SVD_resp0Vr, V_SVD_resp0Vr = randomized_svd(resp_mat_0Vr, n_components = num_components)"
   ]
  },
  {
   "cell_type": "code",
   "execution_count": null,
   "metadata": {},
   "outputs": [],
   "source": [
    "from matplotlib.widgets import Cursor\n",
    "import numpy as np\n",
    "import matplotlib.pyplot as plt\n",
    "\n",
    "\n",
    "fig = plt.figure(figsize=(8, 6))\n",
    "ax = fig.add_subplot(111)\n",
    "\n",
    "x, y = 4*(np.random.rand(2, 100) - .5)\n",
    "ax.plot(x, y, 'o')\n",
    "ax.set_xlim(-2, 2)\n",
    "ax.set_ylim(-2, 2)\n",
    "\n",
    "# set useblit = True on gtkagg for enhanced performance\n",
    "cursor = Cursor(ax, useblit=True, color='red', linewidth=2)\n",
    "\n",
    "plt.show()"
   ]
  },
  {
   "cell_type": "markdown",
   "metadata": {},
   "source": [
    "## Visualize the SHO results of BEline, BEPS and FORC data\n",
    "Here, we visualize the parameters for the SHO fits. BE-line (3D) data is visualized via simple spatial maps of the SHO parameters while more complex BEPS datasets (4+ dimensions) can be visualized using a simple interactive visualizer below. \n",
    "\n",
    "You can choose to visualize the guesses for SHO function or the final fit values from the first line of the cell below.\n",
    "\n",
    "Use the sliders below to inspect the BE response at any given location. "
   ]
  },
  {
   "cell_type": "code",
   "execution_count": null,
   "metadata": {
    "scrolled": false
   },
   "outputs": [],
   "source": [
    "use_sho_guess = False\n",
    "use_static_viz_func = False\n",
    "\n",
    "if use_sho_guess:\n",
    "    sho_dset = h5_sho_guess\n",
    "else:\n",
    "    sho_dset = h5_sho_fit\n",
    "\n",
    "if hdf.file.attrs['data_type'] == 'BELineData' or len(pos_dims) != 2:\n",
    "    use_static_viz_func = True\n",
    "    step_chan = None\n",
    "else:\n",
    "    if h5_main.parent.parent.attrs['VS_mode'] not in ['AC modulation mode with time reversal', \n",
    "                                                      'DC modulation mode']:\n",
    "        use_static_viz_func = True\n",
    "    else:\n",
    "        if h5_main.parent.parent.attrs['VS_mode'] == 'DC modulation mode':\n",
    "            step_chan = 'DC_Offset'\n",
    "        else:\n",
    "            step_chan = 'AC_Amplitude'\n",
    "if not use_static_viz_func:\n",
    "    try:\n",
    "        # use interactive visualization\n",
    "        px.be_viz_utils.jupyter_visualize_beps_sho(sho_dset, step_chan)\n",
    "    except:\n",
    "        print('There was a problem with the interactive visualizer')\n",
    "        use_static_viz_func = True\n",
    "if use_static_viz_func:\n",
    "    # show plots of SHO results vs. applied bias\n",
    "    px.be_viz_utils.visualize_sho_results(sho_dset, show_plots=True, \n",
    "                                        save_plots=False)"
   ]
  },
  {
   "cell_type": "code",
   "execution_count": null,
   "metadata": {},
   "outputs": [],
   "source": [
    "h5_sho_dset = sho_dset\n",
    "resp_func = None\n",
    "guess_3d_data, success = px.io.hdf_utils.reshape_to_Ndims(h5_sho_dset)\n",
    "\n",
    "h5_sho_spec_inds = px.io.hdf_utils.getAuxData(h5_sho_dset, 'Spectroscopic_Indices')[0]\n",
    "h5_sho_spec_vals = px.io.hdf_utils.getAuxData(h5_sho_dset, 'Spectroscopic_Values')[0]\n",
    "spec_nd, _ = px.io.hdf_utils.reshape_to_Ndims(h5_sho_spec_inds, h5_spec=h5_sho_spec_inds)\n",
    "# sho_spec_sort = get_sort_order(h5_sho_spec_inds)\n",
    "sho_spec_dims = np.array(spec_nd.shape[1:])\n",
    "sho_spec_labels = h5_sho_spec_inds.attrs['labels']\n",
    "\n",
    "h5_pos_inds = px.io.hdf_utils.getAuxData(h5_sho_dset, auxDataName='Position_Indices')[-1]\n",
    "pos_nd, _ = px.io.hdf_utils.reshape_to_Ndims(h5_pos_inds, h5_pos=h5_pos_inds)\n",
    "print(pos_nd.shape)\n",
    "pos_dims = list(pos_nd.shape[:h5_pos_inds.shape[1]])\n",
    "print(pos_dims)\n",
    "pos_labels = h5_pos_inds.attrs['labels']\n",
    "print(pos_labels)\n",
    "\n",
    "# reshape to X, Y, step, all others\n",
    "spec_step_dim_ind = np.argwhere(sho_spec_labels == step_chan)[0][0]\n",
    "step_dim_ind = len(pos_dims) + spec_step_dim_ind\n",
    "\n",
    "# move the step dimension to be the first after all position dimensions\n",
    "rest_sho_dim_order = list(range(len(pos_dims), len(guess_3d_data.shape)))\n",
    "rest_sho_dim_order.remove(step_dim_ind)\n",
    "new_order = list(range(len(pos_dims))) + [step_dim_ind] + rest_sho_dim_order\n",
    "\n",
    "# Transpose the 3D dataset to this shape:\n",
    "sho_guess_Nd_1 = np.transpose(guess_3d_data, new_order)\n",
    "\n",
    "# Now move the step dimension to the front for the spec labels as well\n",
    "new_spec_order = list(range(len(sho_spec_labels)))\n",
    "new_spec_order.remove(spec_step_dim_ind)\n",
    "new_spec_order = [spec_step_dim_ind] + new_spec_order\n",
    "\n",
    "# new_spec_labels = sho_spec_labels[new_spec_order]\n",
    "new_spec_dims = np.array(sho_spec_dims)[new_spec_order]\n",
    "\n",
    "# Now collapse all additional dimensions\n",
    "final_guess_shape = pos_dims + [new_spec_dims[0]] + [-1]\n",
    "sho_dset_collapsed = np.reshape(sho_guess_Nd_1, final_guess_shape)\n",
    "\n",
    "# Get the bias matrix:\n",
    "bias_mat, _ = px.io.hdf_utils.reshape_to_Ndims(h5_sho_spec_vals, h5_spec=h5_sho_spec_inds)\n",
    "bias_mat = np.transpose(bias_mat[spec_step_dim_ind], new_spec_order).reshape(sho_dset_collapsed.shape[len(pos_dims):])\n",
    "\n",
    "# This is just the visualizer:\n",
    "sho_quantity = 'Amplitude [V]'\n",
    "step_ind = 0\n",
    "row_ind = 1\n",
    "col_ind = 1\n",
    "\n",
    "def dc_spectroscopy_func(resp_vec):\n",
    "    return resp_vec['Amplitude [V]'] * np.cos(resp_vec['Phase [rad]']) * 1E+3\n",
    "\n",
    "def ac_spectroscopy_func(resp_vec):\n",
    "    return resp_vec['Amplitude [V]']\n",
    "\n",
    "if resp_func is None:\n",
    "    if step_chan == 'DC_Offset':\n",
    "        resp_func = dc_spectroscopy_func\n",
    "        resp_label = 'A cos($\\phi$) (a. u.)'\n",
    "    else:\n",
    "        resp_func = ac_spectroscopy_func\n",
    "        resp_label = 'Amplitude (a. u.)'\n",
    "\n",
    "spatial_map = sho_dset_collapsed[:, :, step_ind, 0][sho_quantity]\n",
    "resp_vec = sho_dset_collapsed[row_ind, col_ind, :, :]\n",
    "resp_vec = resp_func(resp_vec)"
   ]
  },
  {
   "cell_type": "markdown",
   "metadata": {},
   "source": [
    "## Fit loops to a function\n",
    "This is applicable only to DC voltage spectroscopy datasets from BEPS. The PFM hysteresis loops in this dataset will be projected to maximize the loop area and then fitted to a function.\n",
    "\n",
    "Note: This computation generally takes a while for reasonably sized datasets."
   ]
  },
  {
   "cell_type": "code",
   "execution_count": null,
   "metadata": {},
   "outputs": [],
   "source": [
    "# Do the Loop Fitting on the SHO Fit dataset\n",
    "loop_success = False\n",
    "h5_loop_group = px.hdf_utils.findH5group(h5_sho_fit, 'Loop_Fit')\n",
    "if len(h5_loop_group) == 0:\n",
    "    try:\n",
    "        loop_fitter = px.BELoopModel(h5_sho_fit, variables=['read_bias'], parallel=True)\n",
    "        print('No loop fits found. Fitting now....')\n",
    "        h5_loop_guess = loop_fitter.do_guess(processors=max_cores, max_mem=max_mem)\n",
    "        h5_loop_fit = loop_fitter.do_fit(processors=max_cores, max_mem=max_mem)\n",
    "        loop_success = True\n",
    "    except ValueError:\n",
    "        print('Loop fitting is applicable only to DC spectroscopy datasets!')\n",
    "        raise\n",
    "else:\n",
    "    loop_success = True\n",
    "    print('Taking previously computed loop fits')\n",
    "    h5_loop_guess = h5_loop_group[-1]['Guess']\n",
    "    h5_loop_fit = h5_loop_group[-1]['Fit']"
   ]
  },
  {
   "cell_type": "markdown",
   "metadata": {},
   "source": [
    "## Prepare datasets for visualization"
   ]
  },
  {
   "cell_type": "code",
   "execution_count": null,
   "metadata": {},
   "outputs": [],
   "source": [
    "# Prepare some variables for plotting loops fits and guesses\n",
    "# Plot the Loop Guess and Fit Results\n",
    "if loop_success:\n",
    "    h5_projected_loops = h5_loop_guess.parent['Projected_Loops']\n",
    "    h5_proj_spec_inds = px.hdf_utils.getAuxData(h5_projected_loops, \n",
    "                                                auxDataName='Spectroscopic_Indices')[-1]\n",
    "    h5_proj_spec_vals = px.hdf_utils.getAuxData(h5_projected_loops, \n",
    "                                                auxDataName='Spectroscopic_Values')[-1]\n",
    "\n",
    "    # reshape the vdc_vec into DC_step by Loop\n",
    "    sort_order = px.hdf_utils.get_sort_order(h5_proj_spec_inds)\n",
    "    dims = px.hdf_utils.get_dimensionality(h5_proj_spec_inds[()], \n",
    "                                           sort_order[::-1])\n",
    "    vdc_vec = np.reshape(h5_proj_spec_vals[h5_proj_spec_vals.attrs['read_bias']], dims).T\n",
    "\n",
    "    #Also reshape the projected loops to Positions-DC_Step-Loop\n",
    "    # Also reshape the projected loops to Positions-DC_Step-Loop\n",
    "    proj_nd, _ = px.hdf_utils.reshape_to_Ndims(h5_projected_loops)\n",
    "    proj_3d = np.reshape(proj_nd, [h5_projected_loops.shape[0], \n",
    "                                   proj_nd.shape[2], -1])"
   ]
  },
  {
   "cell_type": "markdown",
   "metadata": {},
   "source": [
    "## Visualize Loop fits"
   ]
  },
  {
   "cell_type": "code",
   "execution_count": null,
   "metadata": {},
   "outputs": [],
   "source": [
    "use_static_plots = False\n",
    "if loop_success:\n",
    "    if not use_static_plots:\n",
    "        try:\n",
    "            px.be_viz_utils.jupyter_visualize_beps_loops(h5_projected_loops, h5_loop_guess, h5_loop_fit)\n",
    "        except:\n",
    "            print('There was a problem with the interactive visualizer')\n",
    "            use_static_plots = True\n",
    "    if use_static_plots:\n",
    "        for iloop in range(h5_loop_guess.shape[1]):\n",
    "            fig, ax = px.be_viz_utils.plot_loop_guess_fit(vdc_vec[:, iloop], proj_3d[:, :, iloop], \n",
    "                                          h5_loop_guess[:, iloop], h5_loop_fit[:, iloop],\n",
    "                                          title='Loop {} - All Positions'.format(iloop))"
   ]
  },
  {
   "cell_type": "markdown",
   "metadata": {},
   "source": [
    "## Save and close\n",
    "* Save the .h5 file that we are working on by closing it. <br>\n",
    "* Also, consider exporting this notebook as a notebook or an html file. <br> To do this, go to File >> Download as >> HTML\n",
    "* Finally consider saving this notebook if necessary"
   ]
  },
  {
   "cell_type": "code",
   "execution_count": null,
   "metadata": {},
   "outputs": [],
   "source": [
    "hdf.close()"
   ]
  }
 ],
 "metadata": {
  "anaconda-cloud": {},
  "kernelspec": {
   "display_name": "Python 3",
   "language": "python",
   "name": "python3"
  },
  "language_info": {
   "codemirror_mode": {
    "name": "ipython",
    "version": 3
   },
   "file_extension": ".py",
   "mimetype": "text/x-python",
   "name": "python",
   "nbconvert_exporter": "python",
   "pygments_lexer": "ipython3",
   "version": "3.8.8"
  },
  "widgets": {
   "state": {
    "004b75b3c0a9453ca262e88bcffe6320": {
     "views": [
      {
       "cell_index": 32
      }
     ]
    },
    "013ef43338834ac39d1f55e0551f215f": {
     "views": [
      {
       "cell_index": 20
      }
     ]
    },
    "03731bbe4e7d465c87b35c0b214a490b": {
     "views": [
      {
       "cell_index": 20
      }
     ]
    },
    "0c2522aad7044463a20d86643b11210c": {
     "views": [
      {
       "cell_index": 22
      }
     ]
    },
    "0da6103db52140148c92ce3ec3c92ea7": {
     "views": [
      {
       "cell_index": 34
      }
     ]
    },
    "0df0b276e40145aeab5e3202f50e2b9a": {
     "views": [
      {
       "cell_index": 22
      }
     ]
    },
    "0f2d2083cd374bd7b06ffd7cf3dc7c79": {
     "views": [
      {
       "cell_index": 22
      }
     ]
    },
    "0fba4a2efa3f4c0cacd61f7949b828d0": {
     "views": [
      {
       "cell_index": 48
      }
     ]
    },
    "106ba6b9a2894013ad1ff2fa2aa47685": {
     "views": [
      {
       "cell_index": 20
      }
     ]
    },
    "1091c7898b69459f82d77f44c0dbe692": {
     "views": [
      {
       "cell_index": 27
      }
     ]
    },
    "1245a5ae807749d8affe00b6e8a06815": {
     "views": [
      {
       "cell_index": 22
      }
     ]
    },
    "16c05b12e4384404a5bff00c8f070e82": {
     "views": [
      {
       "cell_index": 22
      }
     ]
    },
    "18390a7af99d4e4490908f7f8e2ccb64": {
     "views": [
      {
       "cell_index": 22
      }
     ]
    },
    "1887b799056c41ddb614014b0b6b3052": {
     "views": [
      {
       "cell_index": 20
      }
     ]
    },
    "1b168bdf1dfc4e029a7bcdfaf5287d9e": {
     "views": [
      {
       "cell_index": 26
      }
     ]
    },
    "1c8b17397e97460a912c240618cce55b": {
     "views": [
      {
       "cell_index": 22
      }
     ]
    },
    "1e3a3abddfd44d44b3d8b35f614e4f6d": {
     "views": [
      {
       "cell_index": 22
      }
     ]
    },
    "1eff84f3a0644385a260536c132b5350": {
     "views": [
      {
       "cell_index": 20
      }
     ]
    },
    "1f3b6953cd83422ba4536fda5217fb0f": {
     "views": [
      {
       "cell_index": 22
      }
     ]
    },
    "1f57be14625349f88520479895455a09": {
     "views": [
      {
       "cell_index": 20
      }
     ]
    },
    "1fb9b7b1b1fe435aa6cd66e8ce7fc873": {
     "views": [
      {
       "cell_index": 22
      }
     ]
    },
    "200ee1d6a3604138b8ab81673c6d2437": {
     "views": [
      {
       "cell_index": 20
      }
     ]
    },
    "229081689cac459288eb97c2402e4647": {
     "views": [
      {
       "cell_index": 22
      }
     ]
    },
    "2333ee6e2b3041c1b14c4839f213a35f": {
     "views": [
      {
       "cell_index": 34
      }
     ]
    },
    "24683f19881944aa9e159aa3cd212b26": {
     "views": [
      {
       "cell_index": 22
      }
     ]
    },
    "252296babdb140b9822e152a621d3c6f": {
     "views": [
      {
       "cell_index": 20
      }
     ]
    },
    "253c6da489d24de9b9e9c3f57c834f8e": {
     "views": [
      {
       "cell_index": 22
      }
     ]
    },
    "27cec2a4bcf1481ab5fa76546685d313": {
     "views": [
      {
       "cell_index": 22
      }
     ]
    },
    "27ea4625d1264657abf1335f10309d48": {
     "views": [
      {
       "cell_index": 22
      }
     ]
    },
    "2a5f6a0c370e491f805769f82b16f1f5": {
     "views": [
      {
       "cell_index": 22
      }
     ]
    },
    "2c326a8d9c014475bb08a96f2d48ec6b": {
     "views": [
      {
       "cell_index": 20
      }
     ]
    },
    "2d978ede735d4a008c6d6939e7af0d34": {
     "views": [
      {
       "cell_index": 20
      }
     ]
    },
    "2eba2773d5a3439bab45d7c75633b80a": {
     "views": [
      {
       "cell_index": 22
      }
     ]
    },
    "2f08fd75283d4c9bbbb2f585c18c2b84": {
     "views": [
      {
       "cell_index": 22
      }
     ]
    },
    "2f5edd3f8d164672b6253acd481bab5c": {
     "views": [
      {
       "cell_index": 22
      }
     ]
    },
    "2fd188ee4d81451797c14a58f6d70013": {
     "views": [
      {
       "cell_index": 22
      }
     ]
    },
    "3226cf4e6c214735a3319a94b62452d9": {
     "views": [
      {
       "cell_index": 20
      }
     ]
    },
    "32c72b404c3540c3b9ee8321eb549227": {
     "views": [
      {
       "cell_index": 22
      }
     ]
    },
    "334527a619684c94ac23c0bb3927e7e2": {
     "views": [
      {
       "cell_index": 20
      }
     ]
    },
    "33c2a2056b4a48a2b4caf5416d6c15de": {
     "views": [
      {
       "cell_index": 22
      }
     ]
    },
    "3a11fd566d1243f88c7a1d9f9568346e": {
     "views": [
      {
       "cell_index": 22
      }
     ]
    },
    "3c2e566d0c5047c9bbb376a386566811": {
     "views": [
      {
       "cell_index": 20
      }
     ]
    },
    "3c6531bf8739465b9e278aa147b8bce0": {
     "views": [
      {
       "cell_index": 22
      }
     ]
    },
    "3c6b79158906476ba2ae69eb3626ef29": {
     "views": [
      {
       "cell_index": 20
      }
     ]
    },
    "3cd3856d1bec4cbca42bfdb385eac13b": {
     "views": [
      {
       "cell_index": 22
      }
     ]
    },
    "3ea78f55d0c24b39a8604fc5ae7fc470": {
     "views": [
      {
       "cell_index": 22
      }
     ]
    },
    "3fa3e0756a0a4858a044c50eb96655a4": {
     "views": [
      {
       "cell_index": 22
      }
     ]
    },
    "3fd4c31c30104f54bd0e36b599f1b0d7": {
     "views": [
      {
       "cell_index": 20
      }
     ]
    },
    "426f6d47a8b84e7ca4babb28232f785c": {
     "views": [
      {
       "cell_index": 27
      }
     ]
    },
    "441862466c3542d9b8614d285acc2d89": {
     "views": [
      {
       "cell_index": 33
      }
     ]
    },
    "4440c4795e124ebbbc97d48d20082a4b": {
     "views": [
      {
       "cell_index": 22
      }
     ]
    },
    "45d76a9ccb5341f58a4e940b81d72ad6": {
     "views": [
      {
       "cell_index": 22
      }
     ]
    },
    "466cf44264604b1ca750ddf1212e2ee8": {
     "views": [
      {
       "cell_index": 34
      }
     ]
    },
    "47667b6638864a2387eab723e4872a8b": {
     "views": [
      {
       "cell_index": 50
      }
     ]
    },
    "48db59f08e0e47859b0ee0edebed06b5": {
     "views": [
      {
       "cell_index": 22
      }
     ]
    },
    "49e68a65d3c34a8aa0858798e5116098": {
     "views": [
      {
       "cell_index": 22
      }
     ]
    },
    "4a08b03856224646ae6fc06386762f7d": {
     "views": [
      {
       "cell_index": 20
      }
     ]
    },
    "4b0eeeae2b384f59b72c7ec06f9c471a": {
     "views": [
      {
       "cell_index": 20
      }
     ]
    },
    "4c80135c71cf499fbc2be1eb7b3039ca": {
     "views": [
      {
       "cell_index": 22
      }
     ]
    },
    "4e34b568636f48ca8da39e6023d7b946": {
     "views": [
      {
       "cell_index": 20
      }
     ]
    },
    "50a8632de0c94ca981418a62c43b229d": {
     "views": [
      {
       "cell_index": 22
      }
     ]
    },
    "518ad177ac774c97b1bf788dfa362e87": {
     "views": [
      {
       "cell_index": 22
      }
     ]
    },
    "52e1cd22d4cc46f78b1bdb199b30b32e": {
     "views": [
      {
       "cell_index": 22
      }
     ]
    },
    "55545d47ba384198aad1cd7808448c7f": {
     "views": [
      {
       "cell_index": 22
      }
     ]
    },
    "57516f91b20b4797a77235b67e315d07": {
     "views": [
      {
       "cell_index": 22
      }
     ]
    },
    "5759b7e6994a44219ce213e406eb7982": {
     "views": [
      {
       "cell_index": 22
      }
     ]
    },
    "58548d5bb6e041da91fc1e34d67497c8": {
     "views": [
      {
       "cell_index": 24
      }
     ]
    },
    "59b02714a16e4aea94a8831867dff71e": {
     "views": [
      {
       "cell_index": 22
      }
     ]
    },
    "5a2a9080cd404793a247ef01c74a890a": {
     "views": [
      {
       "cell_index": 22
      }
     ]
    },
    "5a5f2318950d49978dec3511cb4b00dc": {
     "views": [
      {
       "cell_index": 22
      }
     ]
    },
    "5adc30a3eb994a6493a249a223ee3eaa": {
     "views": [
      {
       "cell_index": 28
      }
     ]
    },
    "5da98c3f88a9498d9bb77f208323c6fa": {
     "views": [
      {
       "cell_index": 33
      }
     ]
    },
    "5f140d874f0a4c7f86ccbb9d8f181f87": {
     "views": [
      {
       "cell_index": 22
      }
     ]
    },
    "5fcdc1b98d9a46b3b3698348ff309f76": {
     "views": [
      {
       "cell_index": 20
      }
     ]
    },
    "601a1d573ef54f3da0207940088436fc": {
     "views": [
      {
       "cell_index": 22
      }
     ]
    },
    "61923f2aa2014259ae563b97a8f030ba": {
     "views": [
      {
       "cell_index": 22
      }
     ]
    },
    "6215fec2288b4f8d908226db6f432b9f": {
     "views": [
      {
       "cell_index": 22
      }
     ]
    },
    "62705169cbc74b3eab7f8c50ea8c52fe": {
     "views": [
      {
       "cell_index": 20
      }
     ]
    },
    "640653936f65487988404f6d426da533": {
     "views": [
      {
       "cell_index": 20
      }
     ]
    },
    "6479f5cb4cf04daca716b0df1e643186": {
     "views": [
      {
       "cell_index": 22
      }
     ]
    },
    "6781d0b6a8e84ab691cd021175acefb3": {
     "views": [
      {
       "cell_index": 22
      }
     ]
    },
    "6820c0bb148c4cf9b2b3e2babf9d4876": {
     "views": [
      {
       "cell_index": 22
      }
     ]
    },
    "6a30ab4b402849a19a5ab69a0425d99f": {
     "views": [
      {
       "cell_index": 22
      }
     ]
    },
    "6a829084d30c43a990cf429ef467c5f5": {
     "views": [
      {
       "cell_index": 20
      }
     ]
    },
    "6aedfc25a0194d0ba4aa69bef246298c": {
     "views": [
      {
       "cell_index": 36
      }
     ]
    },
    "6b977337480340bea29cb7393cc86adf": {
     "views": [
      {
       "cell_index": 26
      }
     ]
    },
    "6f1267616b1442808bc8e28eaf990b9a": {
     "views": [
      {
       "cell_index": 22
      }
     ]
    },
    "745d38ec65f444e08b73f49bb4d5f19d": {
     "views": [
      {
       "cell_index": 12
      }
     ]
    },
    "75db983b508b44608fec25c6217f85f8": {
     "views": [
      {
       "cell_index": 22
      }
     ]
    },
    "76f8e33e84b24376891f86fce56e610b": {
     "views": [
      {
       "cell_index": 27
      }
     ]
    },
    "772c140a0c2040b4a21bde7f61617789": {
     "views": [
      {
       "cell_index": 22
      }
     ]
    },
    "78860c1ca5ba4daf8c1f8aa9cdf9886d": {
     "views": [
      {
       "cell_index": 22
      }
     ]
    },
    "78955f0364994a3c971afd1863a05b3a": {
     "views": [
      {
       "cell_index": 22
      }
     ]
    },
    "7cc6aa3950504a1abb7bb1fdaed4e8b4": {
     "views": [
      {
       "cell_index": 20
      }
     ]
    },
    "7dd37cbc0bb34505b9b8997ac8602da9": {
     "views": [
      {
       "cell_index": 34
      }
     ]
    },
    "81ea2b5c960741218ce783af9cc518b9": {
     "views": [
      {
       "cell_index": 22
      }
     ]
    },
    "8285c6714ca041f1a2294d40f8a744b5": {
     "views": [
      {
       "cell_index": 22
      }
     ]
    },
    "83148171a8254f2bba18f2825784d5cb": {
     "views": [
      {
       "cell_index": 30
      }
     ]
    },
    "835480b7080f4c739c41cf4d5ed2fc2c": {
     "views": [
      {
       "cell_index": 22
      }
     ]
    },
    "84f40717e9c649e5bbabaa85cf0ae263": {
     "views": [
      {
       "cell_index": 22
      }
     ]
    },
    "84f62ae372fd4442b5b1f43807e1f31c": {
     "views": [
      {
       "cell_index": 20
      }
     ]
    },
    "870b7b8a3fa24a4ba6d94d618fa3f3e3": {
     "views": [
      {
       "cell_index": 22
      }
     ]
    },
    "8719d35335554d098f37003a3e4d7266": {
     "views": [
      {
       "cell_index": 22
      }
     ]
    },
    "87f7c00bc4e24d46aa9e7d168574f79e": {
     "views": [
      {
       "cell_index": 20
      }
     ]
    },
    "8b0ef9eac4e24702b6f2fd4a94810f56": {
     "views": [
      {
       "cell_index": 27
      }
     ]
    },
    "8c0f848a076a41d89ccb59d04113fde2": {
     "views": [
      {
       "cell_index": 22
      }
     ]
    },
    "8cbe81dbfe0042aab68990f5f727e57f": {
     "views": [
      {
       "cell_index": 32
      }
     ]
    },
    "8ea4ba4cfd1c44c085b929fda24c9b3c": {
     "views": [
      {
       "cell_index": 22
      }
     ]
    },
    "8f637079f4eb44ed93e69a76ad7c8446": {
     "views": [
      {
       "cell_index": 22
      }
     ]
    },
    "8fd6b3062f27485d85b170e5dc493bd1": {
     "views": [
      {
       "cell_index": 20
      }
     ]
    },
    "90fc2cd4bc5a4bc9933eefe6eade6d73": {
     "views": [
      {
       "cell_index": 20
      }
     ]
    },
    "936a08daf35148fb9fd86dad1e54ad70": {
     "views": [
      {
       "cell_index": 20
      }
     ]
    },
    "943beb03286741f4ada739f7d3bfbf8f": {
     "views": [
      {
       "cell_index": 27
      }
     ]
    },
    "96323125acc0426281e0a3d62847dd46": {
     "views": [
      {
       "cell_index": 20
      }
     ]
    },
    "9710a09cec7c42ad89a94d5eb3458949": {
     "views": [
      {
       "cell_index": 22
      }
     ]
    },
    "9985eed09f37449fa1f1c8f245f4085f": {
     "views": [
      {
       "cell_index": 22
      }
     ]
    },
    "9a77a5c0079d42c5b2ccde0034423cad": {
     "views": [
      {
       "cell_index": 22
      }
     ]
    },
    "9abef5c8b2d54b7cbe1f7a6b71949bd9": {
     "views": [
      {
       "cell_index": 22
      }
     ]
    },
    "9b35d7483a93479da1b9f36593b7d564": {
     "views": [
      {
       "cell_index": 34
      }
     ]
    },
    "9f98b4f217ca4e68b9629b09bb30709d": {
     "views": [
      {
       "cell_index": 22
      }
     ]
    },
    "a319db55898f48c98a1a41f056b214aa": {
     "views": [
      {
       "cell_index": 22
      }
     ]
    },
    "a4132c170ec7479c8e19f0001aee322c": {
     "views": [
      {
       "cell_index": 22
      }
     ]
    },
    "a6000ebbbd6f42b2821a8e928102e349": {
     "views": [
      {
       "cell_index": 20
      }
     ]
    },
    "a85c126a09884a349ca65e98fdb6a175": {
     "views": [
      {
       "cell_index": 22
      }
     ]
    },
    "a8b860980e2f4c539fe2ecf6609de434": {
     "views": [
      {
       "cell_index": 20
      }
     ]
    },
    "aa32b3e3313e494899ce0e0d6d64c161": {
     "views": [
      {
       "cell_index": 22
      }
     ]
    },
    "ab22b74afdb246b5bf31c5d0d2c24eae": {
     "views": [
      {
       "cell_index": 22
      }
     ]
    },
    "ad5a9688818140fcb5d11d72e8448197": {
     "views": [
      {
       "cell_index": 20
      }
     ]
    },
    "ad888acb36d849bd9cecf53e7af0b263": {
     "views": [
      {
       "cell_index": 22
      }
     ]
    },
    "afbd23209f284c1e9f47a9925617b1e4": {
     "views": [
      {
       "cell_index": 22
      }
     ]
    },
    "b018aeb25f774f3e84edd16671e7448d": {
     "views": [
      {
       "cell_index": 19
      }
     ]
    },
    "b1dd9ef912ab40e4939dbbc8296d99df": {
     "views": [
      {
       "cell_index": 22
      }
     ]
    },
    "b2e873efb17d456b9e88099444f8c49d": {
     "views": [
      {
       "cell_index": 22
      }
     ]
    },
    "b3a3132aa5904950953e77668be69239": {
     "views": [
      {
       "cell_index": 20
      }
     ]
    },
    "b587b62ed2674093ac7547c28322dade": {
     "views": [
      {
       "cell_index": 22
      }
     ]
    },
    "b7aff4785f1a48919c6202e28194cd8a": {
     "views": [
      {
       "cell_index": 22
      }
     ]
    },
    "b7b4e90ac1c946f0b2a0a1a3944e3a72": {
     "views": [
      {
       "cell_index": 20
      }
     ]
    },
    "bae378b5ee894a82b3d0a01cd6226292": {
     "views": [
      {
       "cell_index": 26
      }
     ]
    },
    "c0818ccd1f224489b76a8e384050e05d": {
     "views": [
      {
       "cell_index": 22
      }
     ]
    },
    "c140980fff33438295f215f4a14bf1a0": {
     "views": [
      {
       "cell_index": 33
      }
     ]
    },
    "c1ae6f91f28a4979adc60164ae3c23a9": {
     "views": [
      {
       "cell_index": 20
      }
     ]
    },
    "c4bf1a0b9f5c4ae385c4f29ca2500930": {
     "views": [
      {
       "cell_index": 20
      }
     ]
    },
    "c53ed2724b494dd49705edd102548e1e": {
     "views": [
      {
       "cell_index": 32
      }
     ]
    },
    "ca651c48b785444db4843482c5c0128f": {
     "views": [
      {
       "cell_index": 20
      }
     ]
    },
    "cc8a22026fe94604ab8edf7bfc9d8ea4": {
     "views": [
      {
       "cell_index": 22
      }
     ]
    },
    "ceabcdc115244af88db6b71fb5541653": {
     "views": [
      {
       "cell_index": 36
      }
     ]
    },
    "cf01b46ee4eb47deab9fe18393b056bb": {
     "views": [
      {
       "cell_index": 22
      }
     ]
    },
    "d5624ebebcee48cdadabb67c904e06bb": {
     "views": [
      {
       "cell_index": 22
      }
     ]
    },
    "da7c461ef7014ae2bbf2027f8e096974": {
     "views": [
      {
       "cell_index": 22
      }
     ]
    },
    "daa28c65a80f43c8a73415376bdb4c0f": {
     "views": [
      {
       "cell_index": 22
      }
     ]
    },
    "db4ec01f773e4aafa9cb6f218273d987": {
     "views": [
      {
       "cell_index": 20
      }
     ]
    },
    "ddab1ab606344b008646a203ae843dad": {
     "views": [
      {
       "cell_index": 22
      }
     ]
    },
    "e13e4e9f39184699bb11f8c1cd3cdae4": {
     "views": [
      {
       "cell_index": 52
      }
     ]
    },
    "e1597335a1d44d8eb26e983ac939deeb": {
     "views": [
      {
       "cell_index": 22
      }
     ]
    },
    "e5e52ee5548c4aaf9ba824c4c82916e8": {
     "views": [
      {
       "cell_index": 34
      }
     ]
    },
    "e655206f0ed04bc9aeafb7fef58a3405": {
     "views": [
      {
       "cell_index": 46
      }
     ]
    },
    "e95b6a5beb194275979b5e71c9982243": {
     "views": [
      {
       "cell_index": 33
      }
     ]
    },
    "e9fb83d24e1b4b24b32022998a54c3d7": {
     "views": [
      {
       "cell_index": 22
      }
     ]
    },
    "ec619dc0e5a64620b425b3c7ec149c40": {
     "views": [
      {
       "cell_index": 27
      }
     ]
    },
    "ed220ad67e454d999b2da008a9df9771": {
     "views": [
      {
       "cell_index": 22
      }
     ]
    },
    "ed2ebc25e05246568c1477da2b97bc7a": {
     "views": [
      {
       "cell_index": 22
      }
     ]
    },
    "f0bd4c54c7a34f8fadf2443e6503e908": {
     "views": [
      {
       "cell_index": 22
      }
     ]
    },
    "f11b353d940642c49c91cc64e7b8b87c": {
     "views": [
      {
       "cell_index": 22
      }
     ]
    },
    "f139fa25257b4f0a8f780339d87b8ab3": {
     "views": [
      {
       "cell_index": 33
      }
     ]
    },
    "f1d46b6184c242eb8776b7848f59a233": {
     "views": [
      {
       "cell_index": 20
      }
     ]
    },
    "f776056026424da39823d5d1a90c6c73": {
     "views": [
      {
       "cell_index": 22
      }
     ]
    },
    "f886e32db5a848c680e24bffebf5a248": {
     "views": [
      {
       "cell_index": 20
      }
     ]
    },
    "f8eb0f63bc52416792d963d341e92cac": {
     "views": [
      {
       "cell_index": 22
      }
     ]
    },
    "f93549d3234d437991e3e8ccee7e2aef": {
     "views": [
      {
       "cell_index": 22
      }
     ]
    },
    "fb128ad83d604626b40e13b454e0cb91": {
     "views": [
      {
       "cell_index": 24
      }
     ]
    },
    "fd5503410927484f8e3a79f91701820e": {
     "views": [
      {
       "cell_index": 20
      }
     ]
    },
    "fd7a314013ae4b67b3051732b774dcf6": {
     "views": [
      {
       "cell_index": 44
      }
     ]
    },
    "fe12f66437d94adc95c058e7ab155a6b": {
     "views": [
      {
       "cell_index": 22
      }
     ]
    }
   },
   "version": "1.2.0"
  }
 },
 "nbformat": 4,
 "nbformat_minor": 1
}
