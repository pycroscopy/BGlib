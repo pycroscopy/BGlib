{
 "cells": [
  {
   "cell_type": "markdown",
   "metadata": {},
   "source": [
    "## Band Excitation & Contact Kelvin Probe Force Microscopy (cKPFM) data procesing \n",
    "#### Sabine Neumayer,  Suhas Somnath, Chris R. Smith, Stephen Jesse\n",
    "The Center for Nanophase Materials Science and The Institute for Functional Imaging for Materials <br>\n",
    "Oak Ridge National Laboratory<br>\n",
    "7/4/2017\n",
    "\n",
    "### References:\n",
    "This Jupyter notebook uses [pycroscopy](https://pycroscopy.github.io/pycroscopy/about.html) to analyze Band Excitation data. We request you to reference the following papers in your publications if you use this notebook for your research: \n",
    "\n",
    "* [Arxiv paper](https://arxiv.org/abs/1903.09515) titled \"*USID and Pycroscopy - Open frameworks for storing and analyzing spectroscopic and imaging data*\"  \n",
    "* [ACS Applied Materials and Interfaces](https://pubs.acs.org/doi/abs/10.1021/acsami.8b15872) titled \"*Decoupling mesoscale functional response in PLZT across the ferroelectric–relaxor phase transition with contact Kelvin probe force microscopy and machine learning*\"\n",
    "\n",
    "#### Jupyter Notebooks:\n",
    "This is a Jupyter Notebook - it contains text and executable code `cells`. To learn more about how to use it, please see [this video](https://www.youtube.com/watch?v=jZ952vChhuI). Please see the image below for some basic tips on using this notebook.\n",
    "\n",
    "If you have any questions or need help running this notebook, please get in touch with your host if you are a users at the Center for Nanophase Materials Science (CNMS) or our [google group](https://groups.google.com/forum/#!forum/pycroscopy).\n",
    "\n",
    "![notebook_rules.png](https://raw.githubusercontent.com/pycroscopy/pycroscopy/master/jupyter_notebooks/notebook_rules.png)\n",
    "\n",
    "Image courtesy of Jean Bilheux from the [neutron imaging](https://github.com/neutronimaging/python_notebooks) GitHub repository."
   ]
  },
  {
   "cell_type": "markdown",
   "metadata": {},
   "source": [
    "## Configure the notebook"
   ]
  },
  {
   "cell_type": "code",
   "execution_count": 1,
   "metadata": {},
   "outputs": [],
   "source": [
    "# Make sure needed packages are installed and up-to-date\n",
    "import sys\n",
    "!conda install --yes --prefix {sys.prefix} numpy scipy matplotlib scikit-learn Ipython ipywidgets h5py\n",
    "!{sys.executable} -m pip install -U --no-deps BGlib \n",
    "\n",
    "#sys.path.insert(0,r'/Users/rvv/pyUSID')\n",
    "#sys.path.insert(0,r'/Users/rvv/PycharmProjects/sidpy')\n",
    "#sys.path.insert(0,r'/Users/rvv/PycharmProjects/BGlib')"
   ]
  },
  {
   "cell_type": "code",
   "execution_count": 3,
   "metadata": {},
   "outputs": [
    {
     "data": {
      "text/html": [
       "\n",
       "<style>\n",
       "    div#notebook-container    { width: 95%; }\n",
       "    div#menubar-container     { width: 65%; }\n",
       "    div#maintoolbar-container { width: 99%; }\n",
       "</style>\n"
      ],
      "text/plain": [
       "<IPython.core.display.HTML object>"
      ]
     },
     "metadata": {},
     "output_type": "display_data"
    }
   ],
   "source": [
    "# Ensure python 3 compatibility\n",
    "from __future__ import division, print_function, absolute_import\n",
    "\n",
    "# Import necessary libraries:\n",
    "# General utilities:\n",
    "import sys\n",
    "import os\n",
    "import math\n",
    "\n",
    "# Computation:\n",
    "import numpy as np\n",
    "import h5py\n",
    "\n",
    "# Visualization:\n",
    "import matplotlib.pyplot as plt\n",
    "import matplotlib.colors as colors\n",
    "import ipywidgets as widgets\n",
    "\n",
    "from IPython.display import display, HTML\n",
    "\n",
    "# The engineering components supporting pycroscopy:\n",
    "import pyUSID as usid\n",
    "\n",
    "# Finally, BGlib itself\n",
    "from BGlib import be as belib\n",
    "\n",
    "# Make Notebook take up most of page width\n",
    "display(HTML(data=\"\"\"\n",
    "<style>\n",
    "    div#notebook-container    { width: 95%; }\n",
    "    div#menubar-container     { width: 65%; }\n",
    "    div#maintoolbar-container { width: 99%; }\n",
    "</style>\n",
    "\"\"\"))"
   ]
  },
  {
   "cell_type": "code",
   "execution_count": 5,
   "metadata": {},
   "outputs": [],
   "source": [
    "# set up notebook to show plots within the notebook\n",
    "%matplotlib notebook"
   ]
  },
  {
   "cell_type": "markdown",
   "metadata": {},
   "source": [
    "## Set some basic parameters for computation\n",
    "This notebook performs some functional fitting whose duration can be substantially decreased by using more memory and CPU cores. We have provided default values below but you may choose to change them if necessary. Setting `max_cores` to `None` will allow usage of all but one CPU core for the computations. \n",
    "\n",
    "By default, results of the functional fitting will be written back to the same HDF5 file. However, if you prefer to write results into different HDF5 files, please set the `results_to_new_file` parameter to `True` instead. Users of the [DataFed](https://datafed.ornl.gov) Scientific Data Management System may want to set this parameter to `True`."
   ]
  },
  {
   "cell_type": "code",
   "execution_count": 6,
   "metadata": {},
   "outputs": [],
   "source": [
    "max_mem         = 1024*8  # Maximum memory to use, in Mbs. Default = 1024\n",
    "max_cores       = None    # Number of logical cores to use in fitting.  None uses all but 2 available cores.\n",
    "results_to_new_file = False"
   ]
  },
  {
   "cell_type": "markdown",
   "metadata": {},
   "source": [
    "## Make the data pycroscopy compatible\n",
    "Converting the raw data into a pycroscopy compatible hierarchical data format (HDF or .h5) file gives you access to the fast fitting algorithms and powerful analysis functions within pycroscopy\n",
    "\n",
    "#### H5 files:\n",
    "* are like smart containers that can store matrices with data, folders to organize these datasets, images, metadata like experimental parameters, links or shortcuts to datasets, etc.\n",
    "* are readily compatible with high-performance computing facilities\n",
    "* scale very efficiently from few kilobytes to several terabytes\n",
    "* can be read and modified using any language including Python, Matlab, C/C++, Java, Fortran, Igor Pro, etc.\n",
    "\n",
    "#### You can load either of the following:\n",
    "* Any .mat or .txt parameter file from the original experiment\n",
    "* A .h5 file generated from the raw data using pycroscopy - skips translation\n",
    "\n",
    "You can select desired file type by choosing the second option in the pull down menu on the bottom right of the file window"
   ]
  },
  {
   "cell_type": "code",
   "execution_count": 8,
   "metadata": {},
   "outputs": [
    {
     "name": "stdout",
     "output_type": "stream",
     "text": [
      "File is already Pycroscopy ready.\n",
      "Working on:\n",
      "/Users/rvv/Downloads/BEcKPFM_sfPFM5_0016.h5\n"
     ]
    }
   ],
   "source": [
    "input_file_path = r'/Users/rvv/Downloads/BEcKPFM_sfPFM5_0016.h5'\n",
    "\n",
    "(data_dir, filename) = os.path.split(input_file_path)\n",
    "\n",
    "if input_file_path.endswith('.h5'):\n",
    "    # No translation here\n",
    "    h5_path = input_file_path\n",
    "    force = False # Set this to true to force patching of the datafile.\n",
    "    tl = belib.translators.LabViewH5Patcher()\n",
    "    tl.translate(h5_path, force_patch=force)\n",
    "else:\n",
    "    # Set the data to be translated\n",
    "    data_path = input_file_path\n",
    "\n",
    "    (junk, base_name) = os.path.split(data_dir)\n",
    "\n",
    "    # Check if the data is in the new or old format.  Initialize the correct translator for the format.\n",
    "    if base_name == 'newdataformat':\n",
    "        (junk, base_name) = os.path.split(junk)\n",
    "        translator = belib.translators.BEPSndfTranslator(max_mem_mb=max_mem)\n",
    "    else:\n",
    "        translator = belib.translators.BEodfTranslator(max_mem_mb=max_mem)\n",
    "    if base_name.endswith('_d'):\n",
    "        base_name = base_name[:-2]\n",
    "    # Translate the data\n",
    "    h5_path = translator.translate(data_path, show_plots=True, save_plots=False)\n",
    "\n",
    "h5_file = h5py.File(h5_path, 'r+')\n",
    "print('Working on:\\n' + h5_path)\n",
    "\n",
    "h5_main = usid.hdf_utils.find_dataset(h5_file, 'Raw_Data')[0]"
   ]
  },
  {
   "cell_type": "markdown",
   "metadata": {},
   "source": [
    "##### Inspect the contents of this h5 data file\n",
    "The file contents are stored in a tree structure, just like files on a conventional computer.\n",
    "The data is stored as a 2D matrix (position, spectroscopic value) regardless of the dimensionality of the data. Thus, the positions will be arranged as row0-col0, row0-col1.... row0-colN, row1-col0.... and the data for each position is stored as it was chronologically collected  \n",
    "\n",
    "The main dataset is always accompanied by four ancillary datasets that explain the position and spectroscopic value of any given element in the dataset."
   ]
  },
  {
   "cell_type": "code",
   "execution_count": 9,
   "metadata": {
    "scrolled": false
   },
   "outputs": [
    {
     "name": "stdout",
     "output_type": "stream",
     "text": [
      "Datasets and datagroups within the file:\n",
      "------------------------------------\n",
      "/\n",
      "├ Measurement_000\n",
      "  ---------------\n",
      "  ├ Channel_000\n",
      "    -----------\n",
      "    ├ Bin_FFT\n",
      "    ├ Bin_Frequencies\n",
      "    ├ Bin_Indices\n",
      "    ├ Bin_Step\n",
      "    ├ Excitation_Waveform\n",
      "    ├ Noise_Floor\n",
      "    ├ Position_Indices\n",
      "    ├ Position_Values\n",
      "    ├ Raw_Data\n",
      "    ├ Raw_Data-SHO_Fit_000\n",
      "      --------------------\n",
      "      ├ Guess\n",
      "      ├ Spectroscopic_Indices\n",
      "      ├ Spectroscopic_Values\n",
      "    ├ Spatially_Averaged_Plot_Group_000\n",
      "      ---------------------------------\n",
      "      ├ Bin_Frequencies\n",
      "      ├ Mean_Spectrogram\n",
      "      ├ Spectroscopic_Parameter\n",
      "      ├ Step_Averaged_Response\n",
      "    ├ Spectroscopic_Indices\n",
      "    ├ Spectroscopic_Values\n",
      "\n",
      "The main dataset:\n",
      "------------------------------------\n",
      "<HDF5 dataset \"Raw_Data\": shape (900, 26840), type \"<c8\">\n",
      "located at: \n",
      "\t/Measurement_000/Channel_000/Raw_Data \n",
      "Data contains: \n",
      "\tquantity (a.u.) \n",
      "Data dimensions and original shape: \n",
      "Position Dimensions: \n",
      "\tX - size: 30 \n",
      "\tY - size: 30 \n",
      "Spectroscopic Dimensions: \n",
      "\tFrequency - size: 61 \n",
      "\tField - size: 2 \n",
      "\twrite_bias - size: 20 \n",
      "\tread_bias - size: 11\n",
      "Data Type:\n",
      "\tcomplex64\n",
      "\n",
      "The ancillary datasets:\n",
      "------------------------------------\n",
      "<HDF5 dataset \"Position_Indices\": shape (900, 2), type \"<u4\">\n",
      "<HDF5 dataset \"Position_Values\": shape (900, 2), type \"<f4\">\n",
      "<HDF5 dataset \"Spectroscopic_Indices\": shape (4, 26840), type \"<u4\">\n",
      "<HDF5 dataset \"Spectroscopic_Values\": shape (4, 26840), type \"<f4\">\n",
      "\n",
      "Metadata or attributes in a datagroup\n",
      "------------------------------------\n",
      "AFM_InvOLS : 1e-07\n",
      "AFM_XLVDT_sensor : 4.2214e-06\n",
      "AFM_XPiezo_sensitivity : -1.7437e-07\n",
      "AFM_YLVDT_sensor : 4.3626e-06\n",
      "AFM_YPiezo_sensitivity : 1.8489e-07\n",
      "AFM_ZLVDT_sensor : 4.790395e-06\n",
      "AFM_ZPiezo_sensitivity : 2.95923e-08\n",
      "AR_ : 426.0\n",
      "AR_Gain_for_PFM_Dart_mode : 0.0\n",
      "AR_Inverted_Optical_Lever_Sensitivity : 1e-07\n",
      "AR_Lockin_0_ : 5000.0\n",
      "AR_Number_of_frames_when_IMS_scanning : 0.0\n",
      "AR_The_Deflection_Setpoint_in_meters : 0.0\n",
      "AR_The_Integral_Gain_(the_one_that_matters) : 19.665404806186988\n",
      "AR_The_Offset_that_is_applied_to_the_user_channels : 0.0\n",
      "AR_The_Proportional_Gain_(what_is_it_good_for?) : 0.0\n",
      "AR_The_Set_Point_if_we_are_feeding_back_on_amplitude : 0.8\n",
      "AR_The_amount_of_rounding_on_the_scans : 0.04\n",
      "AR_The_amount_of_secret_gain_in_X : 7.53\n",
      "AR_The_amount_of_secret_gain_in_Y : 7.59\n",
      "AR_The_amount_of_secret_gain_in_Z : 0.0\n",
      "AR_The_amount_that_the_X_LVDT_is_not_centered : 0.0\n",
      "AR_The_amount_the_size_of_the_scan_is_reduced_by_the_scan_angle : 0.0\n",
      "AR_The_amplitude_of_the_drive_to_the_tip_piezo : 0.1\n",
      "AR_The_amplitude_set_point_in_meters : 1e-08\n",
      "AR_The_angle_of_the_scan_in_degrees_going_clockwise : 90.0\n",
      "AR_The_current_distance_moved_by_force_curves : 4e-07\n",
      "AR_The_deflection_Setpoint_in_newtons : 5e-09\n",
      "AR_The_displayed_Setpoint : 0.0008\n",
      "AR_The_frequency_of_the_drive_to_the_piezo : 450000.0\n",
      "AR_The_frequency_width_during_a_tune : 5000.0\n",
      "AR_The_gain_on_the_fast_ADC_in_dB : 0.0\n",
      "AR_The_gains_that_are_applied_to_the_user_channels : 1.0\n",
      "AR_The_integral_gain_of_the_X_axis : 4.73\n",
      "AR_The_integral_gain_of_the_Y_axis : 4.84\n",
      "AR_The_maximum_physical_scan_size : 3e-05\n",
      "AR_The_number_of_lines_per_scan : 256.0\n",
      "AR_The_number_of_points_in_cantilever_tune : 480.0\n",
      "AR_The_number_of_points_per_line : 256.0\n",
      "AR_The_offset_of_the_X_LVDT_sensor : 0.58\n",
      "AR_The_offset_of_the_Y_LVDT_sensor : -1.2\n",
      "AR_The_offset_of_the_Z_LVDT_sensor : 0.0\n",
      "AR_The_offset_of_the_scan_in_meters_from_the_center_in_X : -5.3731014e-06\n",
      "AR_The_offset_of_the_scan_in_meters_from_the_center_in_Y : 7.2112676e-06\n",
      "AR_The_offset_required_to_center_the_phase : 0.0\n",
      "AR_The_proportional_gain_of_the_X_axis : -inf\n",
      "AR_The_proportional_gain_of_the_Y_axis : -inf\n",
      "AR_The_rate_of_the_scan_in_hertz : 0.390625\n",
      "AR_The_sensitivity_of_the_X_LVDT_sensor : 4.2214e-06\n",
      "AR_The_sensitivity_of_the_X_piezo : -1.7437e-07\n",
      "AR_The_sensitivity_of_the_Y_LVDT_sensor : 4.3626e-06\n",
      "AR_The_sensitivity_of_the_Y_piezo : 1.8489e-07\n",
      "AR_The_sensitivity_of_the_Z_LVDT_sensor : 4.790395e-06\n",
      "AR_The_sensitivity_of_the_Z_piezo : 2.95923e-08\n",
      "AR_The_setpoint_if_we_are_feeding_back_on_deflection : 1.0\n",
      "AR_The_size_of_the_scan_in_meters : 4e-06\n",
      "AR_The_size_of_the_scan_in_the_fast_direction_in_meters : 4e-06\n",
      "AR_The_size_of_the_scan_in_the_slow_direction_in_meters : 4e-06\n",
      "AR_The_speed_of_the_scan_in_meters_per_second : 7.971938775510205e-06\n",
      "AR_The_spring_constant_of_the_cantilever : 1.0\n",
      "AR_The_suffix_applied_to_saved_images : 3.0\n",
      "AR_The_voltage_bias_on_the_User_0_BNC : 0.0\n",
      "AR_The_voltage_bias_on_the_User_1_BNC : 0.0\n",
      "AR_The_voltage_bias_on_the_sample : 0.0\n",
      "AR_The_voltage_bias_on_the_tip : 0.0\n",
      "AR_This_is_1e-9_of_the_spring_constant,_for_display_versus_nm : 1e-09\n",
      "AR_What_imaging_mode_are_we_in : 3.0\n",
      "AR_What_the_gain_was_before_it_was_changed : 12.0\n",
      "AR_Whether_or_not_the_slow_scan_is_enabled : 1.0\n",
      "AR_Whether_the_image_has_been_changed_during_this_scan : 0.0\n",
      "AR_Whether_the_parameters_have_changed : 0.0\n",
      "AR_Whether_this_is_the_last_scan_or_not : 0.0\n",
      "AR_Whether_to_save_images_or_not : 2.0\n",
      "AR_Which_Way_the_scan_is_heading : 1.0\n",
      "AR_variable_that_attempts_to_line_up_trace_with_retrace : 0.0\n",
      "BE_amplitude_[V] : 4.0\n",
      "BE_auto_smooth_cond : 1.0\n",
      "BE_band_width_[Hz] : 100000.0\n",
      "BE_center_frequency_[Hz] : 320000.0\n",
      "BE_phase_content : b'chirp-sinc hybrid'\n",
      "BE_phase_variation : 1.0\n",
      "BE_pulse_duration_[s] : 0.004\n",
      "BE_repeats : 3.0\n",
      "BE_signal_type_ring : 1.0\n",
      "BE_smoothing : 3208.717049919559\n",
      "BE_window_adjustment : 0.215625\n",
      "File_date_and_time : 06-Sep-2020 17:31:28\n",
      "File_file_name : BEcKPFM_sfPFM5_0016\n",
      "IO_AFM_platform : b'0 Cypher AR14'\n",
      "IO_AI_range : 10.0\n",
      "IO_AO_range : 10.0\n",
      "IO_Analog_output_routing : 0.0\n",
      "IO_Channel_001_type : b'none'\n",
      "IO_Channel_002_type : b'none'\n",
      "IO_Channel_003_type : b'none'\n",
      "IO_analog_output_amplifier_ring : 1.0\n",
      "IO_card : b'6124'\n",
      "IO_deflection_detector_ring : 0\n",
      "IO_rate : 4000000.0\n",
      "IO_sensitivity : 1.0\n",
      "VS_delay_time_after_step_[s] : 0.0\n",
      "VS_max_read_bias_[V] : 3.0\n",
      "VS_max_write_bias_[V] : 20.0\n",
      "VS_min_read_bias_[V] : -3.0\n",
      "VS_min_write_bias_[V] : -10.0\n",
      "VS_mode : b'cKPFM'\n",
      "VS_num_DC_write_steps : 10\n",
      "VS_num_read_steps : 11\n",
      "VS_step_transition_time_[s] : 0.001\n",
      "data_type : b'cKPFMData'\n",
      "grid_current_col : 29\n",
      "grid_current_row : 29\n",
      "grid_num_cols : 30\n",
      "grid_num_rows : 30\n",
      "grid_set_point_[V] : 1.0\n",
      "grid_settle_time_[s] : 1.0\n",
      "grid_transit_time_[s] : 1.0\n",
      "num_UDVS_bins : 26840\n",
      "num_UDVS_steps : 440\n",
      "num_bins : 26840\n",
      "num_pix : 900\n",
      "num_steps : 440\n"
     ]
    }
   ],
   "source": [
    "print('Datasets and datagroups within the file:\\n------------------------------------')\n",
    "usid.hdf_utils.print_tree(h5_file)\n",
    " \n",
    "print('\\nThe main dataset:\\n------------------------------------')\n",
    "print(h5_main)\n",
    "print('\\nThe ancillary datasets:\\n------------------------------------')\n",
    "print(h5_file['/Measurement_000/Channel_000/Position_Indices'])\n",
    "print(h5_file['/Measurement_000/Channel_000/Position_Values'])\n",
    "print(h5_file['/Measurement_000/Channel_000/Spectroscopic_Indices'])\n",
    "print(h5_file['/Measurement_000/Channel_000/Spectroscopic_Values'])\n",
    "\n",
    "print('\\nMetadata or attributes in a datagroup\\n------------------------------------')\n",
    "for key in h5_file['/Measurement_000'].attrs:\n",
    "    print('{} : {}'.format(key, h5_file['/Measurement_000'].attrs[key]))"
   ]
  },
  {
   "cell_type": "markdown",
   "metadata": {},
   "source": [
    "## Get some basic parameters from the H5 file\n",
    "This information will be vital for futher analysis and visualization of the data"
   ]
  },
  {
   "cell_type": "code",
   "execution_count": 25,
   "metadata": {},
   "outputs": [
    {
     "name": "stdout",
     "output_type": "stream",
     "text": [
      "['X', 'Y'] [30, 30]\n"
     ]
    }
   ],
   "source": [
    "h5_pos_inds = h5_main.h5_pos_inds\n",
    "pos_dims = h5_main.pos_dim_sizes\n",
    "pos_labels = h5_main.pos_dim_labels\n",
    "print(pos_labels, pos_dims)\n",
    "\n",
    "parm_dict = h5_file['/Measurement_000'].attrs\n",
    "is_ckpfm = h5_file.attrs['data_type'] == b'cKPFMData'\n",
    "if is_ckpfm:\n",
    "    num_write_steps = parm_dict['VS_num_DC_write_steps']\n",
    "    num_read_steps = parm_dict['VS_num_read_steps']\n",
    "    num_fields = 2"
   ]
  },
  {
   "cell_type": "markdown",
   "metadata": {},
   "source": [
    "## Visualize the raw data\n",
    "Use the sliders below to visualize spatial maps (2D only for now), and spectrograms.\n",
    "For simplicity, all the spectroscopic dimensions such as frequency, excitation bias, cycle, field, etc. have been collapsed to a single slider."
   ]
  },
  {
   "cell_type": "code",
   "execution_count": 12,
   "metadata": {
    "scrolled": false
   },
   "outputs": [
    {
     "name": "stdout",
     "output_type": "stream",
     "text": [
      "No position datasets found as attributes of /Measurement_000/Channel_000/Spectroscopic_Values\n"
     ]
    },
    {
     "data": {
      "application/javascript": [
       "/* Put everything inside the global mpl namespace */\n",
       "window.mpl = {};\n",
       "\n",
       "\n",
       "mpl.get_websocket_type = function() {\n",
       "    if (typeof(WebSocket) !== 'undefined') {\n",
       "        return WebSocket;\n",
       "    } else if (typeof(MozWebSocket) !== 'undefined') {\n",
       "        return MozWebSocket;\n",
       "    } else {\n",
       "        alert('Your browser does not have WebSocket support. ' +\n",
       "              'Please try Chrome, Safari or Firefox ≥ 6. ' +\n",
       "              'Firefox 4 and 5 are also supported but you ' +\n",
       "              'have to enable WebSockets in about:config.');\n",
       "    };\n",
       "}\n",
       "\n",
       "mpl.figure = function(figure_id, websocket, ondownload, parent_element) {\n",
       "    this.id = figure_id;\n",
       "\n",
       "    this.ws = websocket;\n",
       "\n",
       "    this.supports_binary = (this.ws.binaryType != undefined);\n",
       "\n",
       "    if (!this.supports_binary) {\n",
       "        var warnings = document.getElementById(\"mpl-warnings\");\n",
       "        if (warnings) {\n",
       "            warnings.style.display = 'block';\n",
       "            warnings.textContent = (\n",
       "                \"This browser does not support binary websocket messages. \" +\n",
       "                    \"Performance may be slow.\");\n",
       "        }\n",
       "    }\n",
       "\n",
       "    this.imageObj = new Image();\n",
       "\n",
       "    this.context = undefined;\n",
       "    this.message = undefined;\n",
       "    this.canvas = undefined;\n",
       "    this.rubberband_canvas = undefined;\n",
       "    this.rubberband_context = undefined;\n",
       "    this.format_dropdown = undefined;\n",
       "\n",
       "    this.image_mode = 'full';\n",
       "\n",
       "    this.root = $('<div/>');\n",
       "    this._root_extra_style(this.root)\n",
       "    this.root.attr('style', 'display: inline-block');\n",
       "\n",
       "    $(parent_element).append(this.root);\n",
       "\n",
       "    this._init_header(this);\n",
       "    this._init_canvas(this);\n",
       "    this._init_toolbar(this);\n",
       "\n",
       "    var fig = this;\n",
       "\n",
       "    this.waiting = false;\n",
       "\n",
       "    this.ws.onopen =  function () {\n",
       "            fig.send_message(\"supports_binary\", {value: fig.supports_binary});\n",
       "            fig.send_message(\"send_image_mode\", {});\n",
       "            if (mpl.ratio != 1) {\n",
       "                fig.send_message(\"set_dpi_ratio\", {'dpi_ratio': mpl.ratio});\n",
       "            }\n",
       "            fig.send_message(\"refresh\", {});\n",
       "        }\n",
       "\n",
       "    this.imageObj.onload = function() {\n",
       "            if (fig.image_mode == 'full') {\n",
       "                // Full images could contain transparency (where diff images\n",
       "                // almost always do), so we need to clear the canvas so that\n",
       "                // there is no ghosting.\n",
       "                fig.context.clearRect(0, 0, fig.canvas.width, fig.canvas.height);\n",
       "            }\n",
       "            fig.context.drawImage(fig.imageObj, 0, 0);\n",
       "        };\n",
       "\n",
       "    this.imageObj.onunload = function() {\n",
       "        fig.ws.close();\n",
       "    }\n",
       "\n",
       "    this.ws.onmessage = this._make_on_message_function(this);\n",
       "\n",
       "    this.ondownload = ondownload;\n",
       "}\n",
       "\n",
       "mpl.figure.prototype._init_header = function() {\n",
       "    var titlebar = $(\n",
       "        '<div class=\"ui-dialog-titlebar ui-widget-header ui-corner-all ' +\n",
       "        'ui-helper-clearfix\"/>');\n",
       "    var titletext = $(\n",
       "        '<div class=\"ui-dialog-title\" style=\"width: 100%; ' +\n",
       "        'text-align: center; padding: 3px;\"/>');\n",
       "    titlebar.append(titletext)\n",
       "    this.root.append(titlebar);\n",
       "    this.header = titletext[0];\n",
       "}\n",
       "\n",
       "\n",
       "\n",
       "mpl.figure.prototype._canvas_extra_style = function(canvas_div) {\n",
       "\n",
       "}\n",
       "\n",
       "\n",
       "mpl.figure.prototype._root_extra_style = function(canvas_div) {\n",
       "\n",
       "}\n",
       "\n",
       "mpl.figure.prototype._init_canvas = function() {\n",
       "    var fig = this;\n",
       "\n",
       "    var canvas_div = $('<div/>');\n",
       "\n",
       "    canvas_div.attr('style', 'position: relative; clear: both; outline: 0');\n",
       "\n",
       "    function canvas_keyboard_event(event) {\n",
       "        return fig.key_event(event, event['data']);\n",
       "    }\n",
       "\n",
       "    canvas_div.keydown('key_press', canvas_keyboard_event);\n",
       "    canvas_div.keyup('key_release', canvas_keyboard_event);\n",
       "    this.canvas_div = canvas_div\n",
       "    this._canvas_extra_style(canvas_div)\n",
       "    this.root.append(canvas_div);\n",
       "\n",
       "    var canvas = $('<canvas/>');\n",
       "    canvas.addClass('mpl-canvas');\n",
       "    canvas.attr('style', \"left: 0; top: 0; z-index: 0; outline: 0\")\n",
       "\n",
       "    this.canvas = canvas[0];\n",
       "    this.context = canvas[0].getContext(\"2d\");\n",
       "\n",
       "    var backingStore = this.context.backingStorePixelRatio ||\n",
       "\tthis.context.webkitBackingStorePixelRatio ||\n",
       "\tthis.context.mozBackingStorePixelRatio ||\n",
       "\tthis.context.msBackingStorePixelRatio ||\n",
       "\tthis.context.oBackingStorePixelRatio ||\n",
       "\tthis.context.backingStorePixelRatio || 1;\n",
       "\n",
       "    mpl.ratio = (window.devicePixelRatio || 1) / backingStore;\n",
       "\n",
       "    var rubberband = $('<canvas/>');\n",
       "    rubberband.attr('style', \"position: absolute; left: 0; top: 0; z-index: 1;\")\n",
       "\n",
       "    var pass_mouse_events = true;\n",
       "\n",
       "    canvas_div.resizable({\n",
       "        start: function(event, ui) {\n",
       "            pass_mouse_events = false;\n",
       "        },\n",
       "        resize: function(event, ui) {\n",
       "            fig.request_resize(ui.size.width, ui.size.height);\n",
       "        },\n",
       "        stop: function(event, ui) {\n",
       "            pass_mouse_events = true;\n",
       "            fig.request_resize(ui.size.width, ui.size.height);\n",
       "        },\n",
       "    });\n",
       "\n",
       "    function mouse_event_fn(event) {\n",
       "        if (pass_mouse_events)\n",
       "            return fig.mouse_event(event, event['data']);\n",
       "    }\n",
       "\n",
       "    rubberband.mousedown('button_press', mouse_event_fn);\n",
       "    rubberband.mouseup('button_release', mouse_event_fn);\n",
       "    // Throttle sequential mouse events to 1 every 20ms.\n",
       "    rubberband.mousemove('motion_notify', mouse_event_fn);\n",
       "\n",
       "    rubberband.mouseenter('figure_enter', mouse_event_fn);\n",
       "    rubberband.mouseleave('figure_leave', mouse_event_fn);\n",
       "\n",
       "    canvas_div.on(\"wheel\", function (event) {\n",
       "        event = event.originalEvent;\n",
       "        event['data'] = 'scroll'\n",
       "        if (event.deltaY < 0) {\n",
       "            event.step = 1;\n",
       "        } else {\n",
       "            event.step = -1;\n",
       "        }\n",
       "        mouse_event_fn(event);\n",
       "    });\n",
       "\n",
       "    canvas_div.append(canvas);\n",
       "    canvas_div.append(rubberband);\n",
       "\n",
       "    this.rubberband = rubberband;\n",
       "    this.rubberband_canvas = rubberband[0];\n",
       "    this.rubberband_context = rubberband[0].getContext(\"2d\");\n",
       "    this.rubberband_context.strokeStyle = \"#000000\";\n",
       "\n",
       "    this._resize_canvas = function(width, height) {\n",
       "        // Keep the size of the canvas, canvas container, and rubber band\n",
       "        // canvas in synch.\n",
       "        canvas_div.css('width', width)\n",
       "        canvas_div.css('height', height)\n",
       "\n",
       "        canvas.attr('width', width * mpl.ratio);\n",
       "        canvas.attr('height', height * mpl.ratio);\n",
       "        canvas.attr('style', 'width: ' + width + 'px; height: ' + height + 'px;');\n",
       "\n",
       "        rubberband.attr('width', width);\n",
       "        rubberband.attr('height', height);\n",
       "    }\n",
       "\n",
       "    // Set the figure to an initial 600x600px, this will subsequently be updated\n",
       "    // upon first draw.\n",
       "    this._resize_canvas(600, 600);\n",
       "\n",
       "    // Disable right mouse context menu.\n",
       "    $(this.rubberband_canvas).bind(\"contextmenu\",function(e){\n",
       "        return false;\n",
       "    });\n",
       "\n",
       "    function set_focus () {\n",
       "        canvas.focus();\n",
       "        canvas_div.focus();\n",
       "    }\n",
       "\n",
       "    window.setTimeout(set_focus, 100);\n",
       "}\n",
       "\n",
       "mpl.figure.prototype._init_toolbar = function() {\n",
       "    var fig = this;\n",
       "\n",
       "    var nav_element = $('<div/>');\n",
       "    nav_element.attr('style', 'width: 100%');\n",
       "    this.root.append(nav_element);\n",
       "\n",
       "    // Define a callback function for later on.\n",
       "    function toolbar_event(event) {\n",
       "        return fig.toolbar_button_onclick(event['data']);\n",
       "    }\n",
       "    function toolbar_mouse_event(event) {\n",
       "        return fig.toolbar_button_onmouseover(event['data']);\n",
       "    }\n",
       "\n",
       "    for(var toolbar_ind in mpl.toolbar_items) {\n",
       "        var name = mpl.toolbar_items[toolbar_ind][0];\n",
       "        var tooltip = mpl.toolbar_items[toolbar_ind][1];\n",
       "        var image = mpl.toolbar_items[toolbar_ind][2];\n",
       "        var method_name = mpl.toolbar_items[toolbar_ind][3];\n",
       "\n",
       "        if (!name) {\n",
       "            // put a spacer in here.\n",
       "            continue;\n",
       "        }\n",
       "        var button = $('<button/>');\n",
       "        button.addClass('ui-button ui-widget ui-state-default ui-corner-all ' +\n",
       "                        'ui-button-icon-only');\n",
       "        button.attr('role', 'button');\n",
       "        button.attr('aria-disabled', 'false');\n",
       "        button.click(method_name, toolbar_event);\n",
       "        button.mouseover(tooltip, toolbar_mouse_event);\n",
       "\n",
       "        var icon_img = $('<span/>');\n",
       "        icon_img.addClass('ui-button-icon-primary ui-icon');\n",
       "        icon_img.addClass(image);\n",
       "        icon_img.addClass('ui-corner-all');\n",
       "\n",
       "        var tooltip_span = $('<span/>');\n",
       "        tooltip_span.addClass('ui-button-text');\n",
       "        tooltip_span.html(tooltip);\n",
       "\n",
       "        button.append(icon_img);\n",
       "        button.append(tooltip_span);\n",
       "\n",
       "        nav_element.append(button);\n",
       "    }\n",
       "\n",
       "    var fmt_picker_span = $('<span/>');\n",
       "\n",
       "    var fmt_picker = $('<select/>');\n",
       "    fmt_picker.addClass('mpl-toolbar-option ui-widget ui-widget-content');\n",
       "    fmt_picker_span.append(fmt_picker);\n",
       "    nav_element.append(fmt_picker_span);\n",
       "    this.format_dropdown = fmt_picker[0];\n",
       "\n",
       "    for (var ind in mpl.extensions) {\n",
       "        var fmt = mpl.extensions[ind];\n",
       "        var option = $(\n",
       "            '<option/>', {selected: fmt === mpl.default_extension}).html(fmt);\n",
       "        fmt_picker.append(option);\n",
       "    }\n",
       "\n",
       "    // Add hover states to the ui-buttons\n",
       "    $( \".ui-button\" ).hover(\n",
       "        function() { $(this).addClass(\"ui-state-hover\");},\n",
       "        function() { $(this).removeClass(\"ui-state-hover\");}\n",
       "    );\n",
       "\n",
       "    var status_bar = $('<span class=\"mpl-message\"/>');\n",
       "    nav_element.append(status_bar);\n",
       "    this.message = status_bar[0];\n",
       "}\n",
       "\n",
       "mpl.figure.prototype.request_resize = function(x_pixels, y_pixels) {\n",
       "    // Request matplotlib to resize the figure. Matplotlib will then trigger a resize in the client,\n",
       "    // which will in turn request a refresh of the image.\n",
       "    this.send_message('resize', {'width': x_pixels, 'height': y_pixels});\n",
       "}\n",
       "\n",
       "mpl.figure.prototype.send_message = function(type, properties) {\n",
       "    properties['type'] = type;\n",
       "    properties['figure_id'] = this.id;\n",
       "    this.ws.send(JSON.stringify(properties));\n",
       "}\n",
       "\n",
       "mpl.figure.prototype.send_draw_message = function() {\n",
       "    if (!this.waiting) {\n",
       "        this.waiting = true;\n",
       "        this.ws.send(JSON.stringify({type: \"draw\", figure_id: this.id}));\n",
       "    }\n",
       "}\n",
       "\n",
       "\n",
       "mpl.figure.prototype.handle_save = function(fig, msg) {\n",
       "    var format_dropdown = fig.format_dropdown;\n",
       "    var format = format_dropdown.options[format_dropdown.selectedIndex].value;\n",
       "    fig.ondownload(fig, format);\n",
       "}\n",
       "\n",
       "\n",
       "mpl.figure.prototype.handle_resize = function(fig, msg) {\n",
       "    var size = msg['size'];\n",
       "    if (size[0] != fig.canvas.width || size[1] != fig.canvas.height) {\n",
       "        fig._resize_canvas(size[0], size[1]);\n",
       "        fig.send_message(\"refresh\", {});\n",
       "    };\n",
       "}\n",
       "\n",
       "mpl.figure.prototype.handle_rubberband = function(fig, msg) {\n",
       "    var x0 = msg['x0'] / mpl.ratio;\n",
       "    var y0 = (fig.canvas.height - msg['y0']) / mpl.ratio;\n",
       "    var x1 = msg['x1'] / mpl.ratio;\n",
       "    var y1 = (fig.canvas.height - msg['y1']) / mpl.ratio;\n",
       "    x0 = Math.floor(x0) + 0.5;\n",
       "    y0 = Math.floor(y0) + 0.5;\n",
       "    x1 = Math.floor(x1) + 0.5;\n",
       "    y1 = Math.floor(y1) + 0.5;\n",
       "    var min_x = Math.min(x0, x1);\n",
       "    var min_y = Math.min(y0, y1);\n",
       "    var width = Math.abs(x1 - x0);\n",
       "    var height = Math.abs(y1 - y0);\n",
       "\n",
       "    fig.rubberband_context.clearRect(\n",
       "        0, 0, fig.canvas.width / mpl.ratio, fig.canvas.height / mpl.ratio);\n",
       "\n",
       "    fig.rubberband_context.strokeRect(min_x, min_y, width, height);\n",
       "}\n",
       "\n",
       "mpl.figure.prototype.handle_figure_label = function(fig, msg) {\n",
       "    // Updates the figure title.\n",
       "    fig.header.textContent = msg['label'];\n",
       "}\n",
       "\n",
       "mpl.figure.prototype.handle_cursor = function(fig, msg) {\n",
       "    var cursor = msg['cursor'];\n",
       "    switch(cursor)\n",
       "    {\n",
       "    case 0:\n",
       "        cursor = 'pointer';\n",
       "        break;\n",
       "    case 1:\n",
       "        cursor = 'default';\n",
       "        break;\n",
       "    case 2:\n",
       "        cursor = 'crosshair';\n",
       "        break;\n",
       "    case 3:\n",
       "        cursor = 'move';\n",
       "        break;\n",
       "    }\n",
       "    fig.rubberband_canvas.style.cursor = cursor;\n",
       "}\n",
       "\n",
       "mpl.figure.prototype.handle_message = function(fig, msg) {\n",
       "    fig.message.textContent = msg['message'];\n",
       "}\n",
       "\n",
       "mpl.figure.prototype.handle_draw = function(fig, msg) {\n",
       "    // Request the server to send over a new figure.\n",
       "    fig.send_draw_message();\n",
       "}\n",
       "\n",
       "mpl.figure.prototype.handle_image_mode = function(fig, msg) {\n",
       "    fig.image_mode = msg['mode'];\n",
       "}\n",
       "\n",
       "mpl.figure.prototype.updated_canvas_event = function() {\n",
       "    // Called whenever the canvas gets updated.\n",
       "    this.send_message(\"ack\", {});\n",
       "}\n",
       "\n",
       "// A function to construct a web socket function for onmessage handling.\n",
       "// Called in the figure constructor.\n",
       "mpl.figure.prototype._make_on_message_function = function(fig) {\n",
       "    return function socket_on_message(evt) {\n",
       "        if (evt.data instanceof Blob) {\n",
       "            /* FIXME: We get \"Resource interpreted as Image but\n",
       "             * transferred with MIME type text/plain:\" errors on\n",
       "             * Chrome.  But how to set the MIME type?  It doesn't seem\n",
       "             * to be part of the websocket stream */\n",
       "            evt.data.type = \"image/png\";\n",
       "\n",
       "            /* Free the memory for the previous frames */\n",
       "            if (fig.imageObj.src) {\n",
       "                (window.URL || window.webkitURL).revokeObjectURL(\n",
       "                    fig.imageObj.src);\n",
       "            }\n",
       "\n",
       "            fig.imageObj.src = (window.URL || window.webkitURL).createObjectURL(\n",
       "                evt.data);\n",
       "            fig.updated_canvas_event();\n",
       "            fig.waiting = false;\n",
       "            return;\n",
       "        }\n",
       "        else if (typeof evt.data === 'string' && evt.data.slice(0, 21) == \"data:image/png;base64\") {\n",
       "            fig.imageObj.src = evt.data;\n",
       "            fig.updated_canvas_event();\n",
       "            fig.waiting = false;\n",
       "            return;\n",
       "        }\n",
       "\n",
       "        var msg = JSON.parse(evt.data);\n",
       "        var msg_type = msg['type'];\n",
       "\n",
       "        // Call the  \"handle_{type}\" callback, which takes\n",
       "        // the figure and JSON message as its only arguments.\n",
       "        try {\n",
       "            var callback = fig[\"handle_\" + msg_type];\n",
       "        } catch (e) {\n",
       "            console.log(\"No handler for the '\" + msg_type + \"' message type: \", msg);\n",
       "            return;\n",
       "        }\n",
       "\n",
       "        if (callback) {\n",
       "            try {\n",
       "                // console.log(\"Handling '\" + msg_type + \"' message: \", msg);\n",
       "                callback(fig, msg);\n",
       "            } catch (e) {\n",
       "                console.log(\"Exception inside the 'handler_\" + msg_type + \"' callback:\", e, e.stack, msg);\n",
       "            }\n",
       "        }\n",
       "    };\n",
       "}\n",
       "\n",
       "// from http://stackoverflow.com/questions/1114465/getting-mouse-location-in-canvas\n",
       "mpl.findpos = function(e) {\n",
       "    //this section is from http://www.quirksmode.org/js/events_properties.html\n",
       "    var targ;\n",
       "    if (!e)\n",
       "        e = window.event;\n",
       "    if (e.target)\n",
       "        targ = e.target;\n",
       "    else if (e.srcElement)\n",
       "        targ = e.srcElement;\n",
       "    if (targ.nodeType == 3) // defeat Safari bug\n",
       "        targ = targ.parentNode;\n",
       "\n",
       "    // jQuery normalizes the pageX and pageY\n",
       "    // pageX,Y are the mouse positions relative to the document\n",
       "    // offset() returns the position of the element relative to the document\n",
       "    var x = e.pageX - $(targ).offset().left;\n",
       "    var y = e.pageY - $(targ).offset().top;\n",
       "\n",
       "    return {\"x\": x, \"y\": y};\n",
       "};\n",
       "\n",
       "/*\n",
       " * return a copy of an object with only non-object keys\n",
       " * we need this to avoid circular references\n",
       " * http://stackoverflow.com/a/24161582/3208463\n",
       " */\n",
       "function simpleKeys (original) {\n",
       "  return Object.keys(original).reduce(function (obj, key) {\n",
       "    if (typeof original[key] !== 'object')\n",
       "        obj[key] = original[key]\n",
       "    return obj;\n",
       "  }, {});\n",
       "}\n",
       "\n",
       "mpl.figure.prototype.mouse_event = function(event, name) {\n",
       "    var canvas_pos = mpl.findpos(event)\n",
       "\n",
       "    if (name === 'button_press')\n",
       "    {\n",
       "        this.canvas.focus();\n",
       "        this.canvas_div.focus();\n",
       "    }\n",
       "\n",
       "    var x = canvas_pos.x * mpl.ratio;\n",
       "    var y = canvas_pos.y * mpl.ratio;\n",
       "\n",
       "    this.send_message(name, {x: x, y: y, button: event.button,\n",
       "                             step: event.step,\n",
       "                             guiEvent: simpleKeys(event)});\n",
       "\n",
       "    /* This prevents the web browser from automatically changing to\n",
       "     * the text insertion cursor when the button is pressed.  We want\n",
       "     * to control all of the cursor setting manually through the\n",
       "     * 'cursor' event from matplotlib */\n",
       "    event.preventDefault();\n",
       "    return false;\n",
       "}\n",
       "\n",
       "mpl.figure.prototype._key_event_extra = function(event, name) {\n",
       "    // Handle any extra behaviour associated with a key event\n",
       "}\n",
       "\n",
       "mpl.figure.prototype.key_event = function(event, name) {\n",
       "\n",
       "    // Prevent repeat events\n",
       "    if (name == 'key_press')\n",
       "    {\n",
       "        if (event.which === this._key)\n",
       "            return;\n",
       "        else\n",
       "            this._key = event.which;\n",
       "    }\n",
       "    if (name == 'key_release')\n",
       "        this._key = null;\n",
       "\n",
       "    var value = '';\n",
       "    if (event.ctrlKey && event.which != 17)\n",
       "        value += \"ctrl+\";\n",
       "    if (event.altKey && event.which != 18)\n",
       "        value += \"alt+\";\n",
       "    if (event.shiftKey && event.which != 16)\n",
       "        value += \"shift+\";\n",
       "\n",
       "    value += 'k';\n",
       "    value += event.which.toString();\n",
       "\n",
       "    this._key_event_extra(event, name);\n",
       "\n",
       "    this.send_message(name, {key: value,\n",
       "                             guiEvent: simpleKeys(event)});\n",
       "    return false;\n",
       "}\n",
       "\n",
       "mpl.figure.prototype.toolbar_button_onclick = function(name) {\n",
       "    if (name == 'download') {\n",
       "        this.handle_save(this, null);\n",
       "    } else {\n",
       "        this.send_message(\"toolbar_button\", {name: name});\n",
       "    }\n",
       "};\n",
       "\n",
       "mpl.figure.prototype.toolbar_button_onmouseover = function(tooltip) {\n",
       "    this.message.textContent = tooltip;\n",
       "};\n",
       "mpl.toolbar_items = [[\"Home\", \"Reset original view\", \"fa fa-home icon-home\", \"home\"], [\"Back\", \"Back to previous view\", \"fa fa-arrow-left icon-arrow-left\", \"back\"], [\"Forward\", \"Forward to next view\", \"fa fa-arrow-right icon-arrow-right\", \"forward\"], [\"\", \"\", \"\", \"\"], [\"Pan\", \"Pan axes with left mouse, zoom with right\", \"fa fa-arrows icon-move\", \"pan\"], [\"Zoom\", \"Zoom to rectangle\", \"fa fa-square-o icon-check-empty\", \"zoom\"], [\"\", \"\", \"\", \"\"], [\"Download\", \"Download plot\", \"fa fa-floppy-o icon-save\", \"download\"]];\n",
       "\n",
       "mpl.extensions = [\"eps\", \"jpeg\", \"pdf\", \"png\", \"ps\", \"raw\", \"svg\", \"tif\"];\n",
       "\n",
       "mpl.default_extension = \"png\";var comm_websocket_adapter = function(comm) {\n",
       "    // Create a \"websocket\"-like object which calls the given IPython comm\n",
       "    // object with the appropriate methods. Currently this is a non binary\n",
       "    // socket, so there is still some room for performance tuning.\n",
       "    var ws = {};\n",
       "\n",
       "    ws.close = function() {\n",
       "        comm.close()\n",
       "    };\n",
       "    ws.send = function(m) {\n",
       "        //console.log('sending', m);\n",
       "        comm.send(m);\n",
       "    };\n",
       "    // Register the callback with on_msg.\n",
       "    comm.on_msg(function(msg) {\n",
       "        //console.log('receiving', msg['content']['data'], msg);\n",
       "        // Pass the mpl event to the overridden (by mpl) onmessage function.\n",
       "        ws.onmessage(msg['content']['data'])\n",
       "    });\n",
       "    return ws;\n",
       "}\n",
       "\n",
       "mpl.mpl_figure_comm = function(comm, msg) {\n",
       "    // This is the function which gets called when the mpl process\n",
       "    // starts-up an IPython Comm through the \"matplotlib\" channel.\n",
       "\n",
       "    var id = msg.content.data.id;\n",
       "    // Get hold of the div created by the display call when the Comm\n",
       "    // socket was opened in Python.\n",
       "    var element = $(\"#\" + id);\n",
       "    var ws_proxy = comm_websocket_adapter(comm)\n",
       "\n",
       "    function ondownload(figure, format) {\n",
       "        window.open(figure.imageObj.src);\n",
       "    }\n",
       "\n",
       "    var fig = new mpl.figure(id, ws_proxy,\n",
       "                           ondownload,\n",
       "                           element.get(0));\n",
       "\n",
       "    // Call onopen now - mpl needs it, as it is assuming we've passed it a real\n",
       "    // web socket which is closed, not our websocket->open comm proxy.\n",
       "    ws_proxy.onopen();\n",
       "\n",
       "    fig.parent_element = element.get(0);\n",
       "    fig.cell_info = mpl.find_output_cell(\"<div id='\" + id + \"'></div>\");\n",
       "    if (!fig.cell_info) {\n",
       "        console.error(\"Failed to find cell for figure\", id, fig);\n",
       "        return;\n",
       "    }\n",
       "\n",
       "    var output_index = fig.cell_info[2]\n",
       "    var cell = fig.cell_info[0];\n",
       "\n",
       "};\n",
       "\n",
       "mpl.figure.prototype.handle_close = function(fig, msg) {\n",
       "    var width = fig.canvas.width/mpl.ratio\n",
       "    fig.root.unbind('remove')\n",
       "\n",
       "    // Update the output cell to use the data from the current canvas.\n",
       "    fig.push_to_output();\n",
       "    var dataURL = fig.canvas.toDataURL();\n",
       "    // Re-enable the keyboard manager in IPython - without this line, in FF,\n",
       "    // the notebook keyboard shortcuts fail.\n",
       "    IPython.keyboard_manager.enable()\n",
       "    $(fig.parent_element).html('<img src=\"' + dataURL + '\" width=\"' + width + '\">');\n",
       "    fig.close_ws(fig, msg);\n",
       "}\n",
       "\n",
       "mpl.figure.prototype.close_ws = function(fig, msg){\n",
       "    fig.send_message('closing', msg);\n",
       "    // fig.ws.close()\n",
       "}\n",
       "\n",
       "mpl.figure.prototype.push_to_output = function(remove_interactive) {\n",
       "    // Turn the data on the canvas into data in the output cell.\n",
       "    var width = this.canvas.width/mpl.ratio\n",
       "    var dataURL = this.canvas.toDataURL();\n",
       "    this.cell_info[1]['text/html'] = '<img src=\"' + dataURL + '\" width=\"' + width + '\">';\n",
       "}\n",
       "\n",
       "mpl.figure.prototype.updated_canvas_event = function() {\n",
       "    // Tell IPython that the notebook contents must change.\n",
       "    IPython.notebook.set_dirty(true);\n",
       "    this.send_message(\"ack\", {});\n",
       "    var fig = this;\n",
       "    // Wait a second, then push the new image to the DOM so\n",
       "    // that it is saved nicely (might be nice to debounce this).\n",
       "    setTimeout(function () { fig.push_to_output() }, 1000);\n",
       "}\n",
       "\n",
       "mpl.figure.prototype._init_toolbar = function() {\n",
       "    var fig = this;\n",
       "\n",
       "    var nav_element = $('<div/>');\n",
       "    nav_element.attr('style', 'width: 100%');\n",
       "    this.root.append(nav_element);\n",
       "\n",
       "    // Define a callback function for later on.\n",
       "    function toolbar_event(event) {\n",
       "        return fig.toolbar_button_onclick(event['data']);\n",
       "    }\n",
       "    function toolbar_mouse_event(event) {\n",
       "        return fig.toolbar_button_onmouseover(event['data']);\n",
       "    }\n",
       "\n",
       "    for(var toolbar_ind in mpl.toolbar_items){\n",
       "        var name = mpl.toolbar_items[toolbar_ind][0];\n",
       "        var tooltip = mpl.toolbar_items[toolbar_ind][1];\n",
       "        var image = mpl.toolbar_items[toolbar_ind][2];\n",
       "        var method_name = mpl.toolbar_items[toolbar_ind][3];\n",
       "\n",
       "        if (!name) { continue; };\n",
       "\n",
       "        var button = $('<button class=\"btn btn-default\" href=\"#\" title=\"' + name + '\"><i class=\"fa ' + image + ' fa-lg\"></i></button>');\n",
       "        button.click(method_name, toolbar_event);\n",
       "        button.mouseover(tooltip, toolbar_mouse_event);\n",
       "        nav_element.append(button);\n",
       "    }\n",
       "\n",
       "    // Add the status bar.\n",
       "    var status_bar = $('<span class=\"mpl-message\" style=\"text-align:right; float: right;\"/>');\n",
       "    nav_element.append(status_bar);\n",
       "    this.message = status_bar[0];\n",
       "\n",
       "    // Add the close button to the window.\n",
       "    var buttongrp = $('<div class=\"btn-group inline pull-right\"></div>');\n",
       "    var button = $('<button class=\"btn btn-mini btn-primary\" href=\"#\" title=\"Stop Interaction\"><i class=\"fa fa-power-off icon-remove icon-large\"></i></button>');\n",
       "    button.click(function (evt) { fig.handle_close(fig, {}); } );\n",
       "    button.mouseover('Stop Interaction', toolbar_mouse_event);\n",
       "    buttongrp.append(button);\n",
       "    var titlebar = this.root.find($('.ui-dialog-titlebar'));\n",
       "    titlebar.prepend(buttongrp);\n",
       "}\n",
       "\n",
       "mpl.figure.prototype._root_extra_style = function(el){\n",
       "    var fig = this\n",
       "    el.on(\"remove\", function(){\n",
       "\tfig.close_ws(fig, {});\n",
       "    });\n",
       "}\n",
       "\n",
       "mpl.figure.prototype._canvas_extra_style = function(el){\n",
       "    // this is important to make the div 'focusable\n",
       "    el.attr('tabindex', 0)\n",
       "    // reach out to IPython and tell the keyboard manager to turn it's self\n",
       "    // off when our div gets focus\n",
       "\n",
       "    // location in version 3\n",
       "    if (IPython.notebook.keyboard_manager) {\n",
       "        IPython.notebook.keyboard_manager.register_events(el);\n",
       "    }\n",
       "    else {\n",
       "        // location in version 2\n",
       "        IPython.keyboard_manager.register_events(el);\n",
       "    }\n",
       "\n",
       "}\n",
       "\n",
       "mpl.figure.prototype._key_event_extra = function(event, name) {\n",
       "    var manager = IPython.notebook.keyboard_manager;\n",
       "    if (!manager)\n",
       "        manager = IPython.keyboard_manager;\n",
       "\n",
       "    // Check for shift+enter\n",
       "    if (event.shiftKey && event.which == 13) {\n",
       "        this.canvas_div.blur();\n",
       "        // select the cell after this one\n",
       "        var index = IPython.notebook.find_cell_index(this.cell_info[0]);\n",
       "        IPython.notebook.select(index + 1);\n",
       "    }\n",
       "}\n",
       "\n",
       "mpl.figure.prototype.handle_save = function(fig, msg) {\n",
       "    fig.ondownload(fig, null);\n",
       "}\n",
       "\n",
       "\n",
       "mpl.find_output_cell = function(html_output) {\n",
       "    // Return the cell and output element which can be found *uniquely* in the notebook.\n",
       "    // Note - this is a bit hacky, but it is done because the \"notebook_saving.Notebook\"\n",
       "    // IPython event is triggered only after the cells have been serialised, which for\n",
       "    // our purposes (turning an active figure into a static one), is too late.\n",
       "    var cells = IPython.notebook.get_cells();\n",
       "    var ncells = cells.length;\n",
       "    for (var i=0; i<ncells; i++) {\n",
       "        var cell = cells[i];\n",
       "        if (cell.cell_type === 'code'){\n",
       "            for (var j=0; j<cell.output_area.outputs.length; j++) {\n",
       "                var data = cell.output_area.outputs[j];\n",
       "                if (data.data) {\n",
       "                    // IPython >= 3 moved mimebundle to data attribute of output\n",
       "                    data = data.data;\n",
       "                }\n",
       "                if (data['text/html'] == html_output) {\n",
       "                    return [cell, data, j];\n",
       "                }\n",
       "            }\n",
       "        }\n",
       "    }\n",
       "}\n",
       "\n",
       "// Register the function which deals with the matplotlib target/channel.\n",
       "// The kernel may be null if the page has been refreshed.\n",
       "if (IPython.notebook.kernel != null) {\n",
       "    IPython.notebook.kernel.comm_manager.register_target('matplotlib', mpl.mpl_figure_comm);\n",
       "}\n"
      ],
      "text/plain": [
       "<IPython.core.display.Javascript object>"
      ]
     },
     "metadata": {},
     "output_type": "display_data"
    },
    {
     "data": {
      "text/html": [
       "<img src=\"data:image/png;base64,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\" width=\"1200\">"
      ],
      "text/plain": [
       "<IPython.core.display.HTML object>"
      ]
     },
     "metadata": {},
     "output_type": "display_data"
    },
    {
     "data": {
      "application/vnd.jupyter.widget-view+json": {
       "model_id": "33dce12a6be346738f0dad574f75f1ac",
       "version_major": 2,
       "version_minor": 0
      },
      "text/plain": [
       "HBox(children=(Text(value='BEcKPFM_sfPFM5_0016.png', description='Output Filename:', layout=Layout(width='50%'…"
      ]
     },
     "metadata": {},
     "output_type": "display_data"
    },
    {
     "data": {
      "application/vnd.jupyter.widget-view+json": {
       "model_id": "3d56796ddc2c45f9917a53a06476e008",
       "version_major": 2,
       "version_minor": 0
      },
      "text/plain": [
       "interactive(children=(IntSlider(value=0, description='Step', max=26840), Output()), _dom_classes=('widget-inte…"
      ]
     },
     "metadata": {},
     "output_type": "display_data"
    }
   ],
   "source": [
    "fig = belib.viz.be_viz_utils.jupyter_visualize_be_spectrograms(h5_main)"
   ]
  },
  {
   "cell_type": "markdown",
   "metadata": {},
   "source": [
    "## Fit the Band Excitation (BE) spectra\n",
    "Fit each of the acquired spectra to a simple harmonic oscillator (SHO) model to extract the following information regarding the response:\n",
    "* Oscillation amplitude\n",
    "* Phase\n",
    "* Resonance frequency\n",
    "* Quality factor\n",
    "\n",
    "By default, the cell below will take any previous result instead of re-computing the SHO fit"
   ]
  },
  {
   "cell_type": "code",
   "execution_count": 15,
   "metadata": {
    "scrolled": false
   },
   "outputs": [
    {
     "name": "stdout",
     "output_type": "stream",
     "text": [
      "Consider calling test() to check results before calling compute() which computes on the entire dataset and writes results to the HDF5 file\n",
      "Group: <HDF5 group \"/Measurement_000/Channel_000/Raw_Data-SHO_Fit_000\" (3 members)> had neither the status HDF5 dataset or the legacy attribute: \"last_pixel\".\n",
      "\tThis class (likely) supports interruption and resuming of computations!\n",
      "\tIf you are operating in a python console, press Ctrl+C or Cmd+C to abort\n",
      "\tIf you are in a Jupyter notebook, click on \"Kernel\">>\"Interrupt\"\n",
      "\tIf you are operating on a cluster and your job gets killed, re-run the job to resume\n",
      "\n",
      "Rank 0 finished parallel computation\n",
      "Rank 0 - 100% complete. Time remaining: 0.0 msec\n",
      "Finished processing the entire dataset!\n",
      "Group: <HDF5 group \"/Measurement_000/Channel_000/Raw_Data-SHO_Fit_000\" (3 members)> had neither the status HDF5 dataset or the legacy attribute: \"last_pixel\".\n",
      "\n",
      "Note: SHO_Fit has already been performed with the same parameters before. These results will be returned by compute() by default. Set override to True to force fresh computation\n",
      "\n",
      "[<HDF5 group \"/Measurement_000/Channel_000/Raw_Data-SHO_Fit_001\" (4 members)>]\n"
     ]
    },
    {
     "name": "stderr",
     "output_type": "stream",
     "text": [
      "/Users/rvv/PycharmProjects/BGlib/BGlib/be/analysis/fitter.py:140: UserWarning: status dataset not created yet\n",
      "  warn('status dataset not created yet')\n",
      "/Users/rvv/pyUSID/pyUSID/io/hdf_utils/simple.py:300: UserWarning: pyUSID.io.hdf_utils.simple.copy_attributes no longer copies region references. Please use pyUSID.io.reg_ref.copy_region_refs to copy references manually\n",
      "  warn('pyUSID.io.hdf_utils.simple.copy_attributes no longer copies '\n"
     ]
    },
    {
     "name": "stdout",
     "output_type": "stream",
     "text": [
      "Resuming computation. 0% completed already\n",
      "\tThis class (likely) supports interruption and resuming of computations!\n",
      "\tIf you are operating in a python console, press Ctrl+C or Cmd+C to abort\n",
      "\tIf you are in a Jupyter notebook, click on \"Kernel\">>\"Interrupt\"\n",
      "\tIf you are operating on a cluster and your job gets killed, re-run the job to resume\n",
      "\n",
      "Rank 0 - 100% complete. Time remaining: 0.0 msec\n",
      "Finished processing the entire dataset!\n"
     ]
    }
   ],
   "source": [
    "sho_fit_points = 5  # The number of data points at each step to use when fitting\n",
    "sho_override = False  # Force recompute if True\n",
    "\n",
    "h5_sho_targ_grp = None\n",
    "if results_to_new_file:\n",
    "    h5_sho_file_path = os.path.join(folder_path, \n",
    "                                h5_raw_file_name.replace('.h5', '_sho_fit.h5'))\n",
    "    print('\\n\\nSHO Fits will be written to:\\n' + h5_sho_file_path + '\\n\\n')\n",
    "    f_open_mode = 'w'\n",
    "    if os.path.exists(h5_sho_file_path):\n",
    "        f_open_mode = 'r+'\n",
    "    h5_sho_file = h5py.File(h5_sho_file_path, mode=f_open_mode)\n",
    "    h5_sho_targ_grp = h5_sho_file\n",
    "\n",
    "sho_fitter = belib.analysis.BESHOfitter(h5_main, cores=max_cores, verbose=False, h5_target_group=h5_sho_targ_grp)\n",
    "sho_fitter.set_up_guess(guess_func=belib.analysis.be_sho_fitter.SHOGuessFunc.complex_gaussian,\n",
    "                        num_points=sho_fit_points)\n",
    "h5_sho_guess = sho_fitter.do_guess(override=sho_override)\n",
    "sho_fitter.set_up_fit()\n",
    "h5_sho_fit = sho_fitter.do_fit(override=sho_override)\n",
    "h5_sho_grp = h5_sho_fit.parent"
   ]
  },
  {
   "cell_type": "markdown",
   "metadata": {},
   "source": [
    "# cKPFM data analysis\n",
    "\n",
    "- Figures will be saved to the same directory where this HDF5 file is located\n",
    "- Set high_voltage_amplf to 10 if a high voltage amplifier was used, otherwise set to 1"
   ]
  },
  {
   "cell_type": "code",
   "execution_count": 16,
   "metadata": {},
   "outputs": [],
   "source": [
    "# If HV amplifier was used set high_voltage_amplf to 10, else to 1\n",
    "high_voltage_amplf = 1"
   ]
  },
  {
   "cell_type": "markdown",
   "metadata": {},
   "source": [
    "## Remove phase offset\n",
    "\n",
    "If removing the instrumental phase offset is not desired, set phase_offset = 0"
   ]
  },
  {
   "cell_type": "code",
   "execution_count": 17,
   "metadata": {},
   "outputs": [
    {
     "name": "stdout",
     "output_type": "stream",
     "text": [
      "Nd_mat shape =  (30, 30, 2, 20, 11)\n",
      "Phase offset [rad] =  -2.619004\n"
     ]
    }
   ],
   "source": [
    "Nd_mat = h5_sho_fit.get_n_dim_form()\n",
    "print('Nd_mat shape = ', Nd_mat.shape)\n",
    "\n",
    "phase_offset = Nd_mat[0, 0, 1, 0, 0]['Phase [rad]']\n",
    "\n",
    "print('Phase offset [rad] = ', phase_offset)\n",
    "\n",
    "Nd_mat[:,:,:,:,:]['Phase [rad]'] = Nd_mat[:,:,:,:,:]['Phase [rad]'] - phase_offset\n"
   ]
  },
  {
   "cell_type": "markdown",
   "metadata": {},
   "source": [
    "## Display cKPFM data\n",
    "The figure shows:\n",
    "\n",
    "- Read and write voltage steps with the selected step marked as a red dot\n",
    "- Response map at read and write voltage steps selected with sliders\n",
    "- Real component of the response at selected read and write steps and x/y coordinates <b> -> select option</b>\n",
    "- Response at each write step (x-axis) after each write pulse (color coded)\n",
    "\n",
    "The 'Save figure' button saves the displayed figure in the above specified output file path as tiff, png and eps file. Alternatively, figures can be copy pasted into other programs like Powerpoint or Word.\n",
    "\n",
    "#### Select display option by setting 'option = 1' or 'option = 2' in the second line of the code\n",
    "- Option 1: display response curves from the maximum write step to the minimum write step\n",
    "- Option 2: display response curves from all write voltages"
   ]
  },
  {
   "cell_type": "code",
   "execution_count": 29,
   "metadata": {
    "scrolled": false
   },
   "outputs": [
    {
     "ename": "TypeError",
     "evalue": "Can't broadcast (220,) -> (440,)",
     "output_type": "error",
     "traceback": [
      "\u001b[0;31m---------------------------------------------------------------------------\u001b[0m",
      "\u001b[0;31mTypeError\u001b[0m                                 Traceback (most recent call last)",
      "\u001b[0;32m<ipython-input-29-f3e06d88c94b>\u001b[0m in \u001b[0;36m<module>\u001b[0;34m\u001b[0m\n\u001b[1;32m     17\u001b[0m     \u001b[0mread_volt_index\u001b[0m \u001b[0;34m=\u001b[0m \u001b[0msho_spec_labels\u001b[0m\u001b[0;34m.\u001b[0m\u001b[0mindex\u001b[0m\u001b[0;34m(\u001b[0m\u001b[0;34m'read_bias'\u001b[0m\u001b[0;34m)\u001b[0m\u001b[0;34m\u001b[0m\u001b[0;34m\u001b[0m\u001b[0m\n\u001b[1;32m     18\u001b[0m     \u001b[0mh5_sho_spec_inds\u001b[0m\u001b[0;34m[\u001b[0m\u001b[0mread_volt_index\u001b[0m\u001b[0;34m,\u001b[0m \u001b[0;34m:\u001b[0m\u001b[0;34m]\u001b[0m \u001b[0;34m-=\u001b[0m \u001b[0mnp\u001b[0m\u001b[0;34m.\u001b[0m\u001b[0mmin\u001b[0m\u001b[0;34m(\u001b[0m\u001b[0mh5_sho_spec_inds\u001b[0m\u001b[0;34m[\u001b[0m\u001b[0mread_volt_index\u001b[0m\u001b[0;34m,\u001b[0m \u001b[0;34m:\u001b[0m\u001b[0;34m]\u001b[0m\u001b[0;34m)\u001b[0m\u001b[0;34m\u001b[0m\u001b[0;34m\u001b[0m\u001b[0m\n\u001b[0;32m---> 19\u001b[0;31m     \u001b[0mh5_sho_spec_inds\u001b[0m\u001b[0;34m[\u001b[0m\u001b[0mwrite_volt_index\u001b[0m\u001b[0;34m,\u001b[0m \u001b[0;34m:\u001b[0m\u001b[0;34m]\u001b[0m \u001b[0;34m=\u001b[0m \u001b[0mnp\u001b[0m\u001b[0;34m.\u001b[0m\u001b[0mtile\u001b[0m\u001b[0;34m(\u001b[0m\u001b[0mnp\u001b[0m\u001b[0;34m.\u001b[0m\u001b[0mrepeat\u001b[0m\u001b[0;34m(\u001b[0m\u001b[0mnp\u001b[0m\u001b[0;34m.\u001b[0m\u001b[0marange\u001b[0m\u001b[0;34m(\u001b[0m\u001b[0mnum_write_steps\u001b[0m\u001b[0;34m)\u001b[0m\u001b[0;34m,\u001b[0m \u001b[0mnum_fields\u001b[0m\u001b[0;34m)\u001b[0m\u001b[0;34m,\u001b[0m \u001b[0mnum_read_steps\u001b[0m\u001b[0;34m)\u001b[0m\u001b[0;34m\u001b[0m\u001b[0;34m\u001b[0m\u001b[0m\n\u001b[0m\u001b[1;32m     20\u001b[0m \u001b[0;34m\u001b[0m\u001b[0m\n\u001b[1;32m     21\u001b[0m \u001b[0;31m# Get the bias matrix:\u001b[0m\u001b[0;34m\u001b[0m\u001b[0;34m\u001b[0m\u001b[0;34m\u001b[0m\u001b[0m\n",
      "\u001b[0;32mh5py/_objects.pyx\u001b[0m in \u001b[0;36mh5py._objects.with_phil.wrapper\u001b[0;34m()\u001b[0m\n",
      "\u001b[0;32mh5py/_objects.pyx\u001b[0m in \u001b[0;36mh5py._objects.with_phil.wrapper\u001b[0;34m()\u001b[0m\n",
      "\u001b[0;32m//anaconda3/lib/python3.7/site-packages/h5py/_hl/dataset.py\u001b[0m in \u001b[0;36m__setitem__\u001b[0;34m(self, args, val)\u001b[0m\n\u001b[1;32m    705\u001b[0m             \u001b[0mmshape_pad\u001b[0m \u001b[0;34m=\u001b[0m \u001b[0mmshape\u001b[0m\u001b[0;34m\u001b[0m\u001b[0;34m\u001b[0m\u001b[0m\n\u001b[1;32m    706\u001b[0m         \u001b[0mmspace\u001b[0m \u001b[0;34m=\u001b[0m \u001b[0mh5s\u001b[0m\u001b[0;34m.\u001b[0m\u001b[0mcreate_simple\u001b[0m\u001b[0;34m(\u001b[0m\u001b[0mmshape_pad\u001b[0m\u001b[0;34m,\u001b[0m \u001b[0;34m(\u001b[0m\u001b[0mh5s\u001b[0m\u001b[0;34m.\u001b[0m\u001b[0mUNLIMITED\u001b[0m\u001b[0;34m,\u001b[0m\u001b[0;34m)\u001b[0m\u001b[0;34m*\u001b[0m\u001b[0mlen\u001b[0m\u001b[0;34m(\u001b[0m\u001b[0mmshape_pad\u001b[0m\u001b[0;34m)\u001b[0m\u001b[0;34m)\u001b[0m\u001b[0;34m\u001b[0m\u001b[0;34m\u001b[0m\u001b[0m\n\u001b[0;32m--> 707\u001b[0;31m         \u001b[0;32mfor\u001b[0m \u001b[0mfspace\u001b[0m \u001b[0;32min\u001b[0m \u001b[0mselection\u001b[0m\u001b[0;34m.\u001b[0m\u001b[0mbroadcast\u001b[0m\u001b[0;34m(\u001b[0m\u001b[0mmshape\u001b[0m\u001b[0;34m)\u001b[0m\u001b[0;34m:\u001b[0m\u001b[0;34m\u001b[0m\u001b[0;34m\u001b[0m\u001b[0m\n\u001b[0m\u001b[1;32m    708\u001b[0m             \u001b[0mself\u001b[0m\u001b[0;34m.\u001b[0m\u001b[0mid\u001b[0m\u001b[0;34m.\u001b[0m\u001b[0mwrite\u001b[0m\u001b[0;34m(\u001b[0m\u001b[0mmspace\u001b[0m\u001b[0;34m,\u001b[0m \u001b[0mfspace\u001b[0m\u001b[0;34m,\u001b[0m \u001b[0mval\u001b[0m\u001b[0;34m,\u001b[0m \u001b[0mmtype\u001b[0m\u001b[0;34m,\u001b[0m \u001b[0mdxpl\u001b[0m\u001b[0;34m=\u001b[0m\u001b[0mself\u001b[0m\u001b[0;34m.\u001b[0m\u001b[0m_dxpl\u001b[0m\u001b[0;34m)\u001b[0m\u001b[0;34m\u001b[0m\u001b[0;34m\u001b[0m\u001b[0m\n\u001b[1;32m    709\u001b[0m \u001b[0;34m\u001b[0m\u001b[0m\n",
      "\u001b[0;32m//anaconda3/lib/python3.7/site-packages/h5py/_hl/selections.py\u001b[0m in \u001b[0;36mbroadcast\u001b[0;34m(self, target_shape)\u001b[0m\n\u001b[1;32m    297\u001b[0m                     \u001b[0mtshape\u001b[0m\u001b[0;34m.\u001b[0m\u001b[0mappend\u001b[0m\u001b[0;34m(\u001b[0m\u001b[0mt\u001b[0m\u001b[0;34m)\u001b[0m\u001b[0;34m\u001b[0m\u001b[0;34m\u001b[0m\u001b[0m\n\u001b[1;32m    298\u001b[0m                 \u001b[0;32melse\u001b[0m\u001b[0;34m:\u001b[0m\u001b[0;34m\u001b[0m\u001b[0;34m\u001b[0m\u001b[0m\n\u001b[0;32m--> 299\u001b[0;31m                     \u001b[0;32mraise\u001b[0m \u001b[0mTypeError\u001b[0m\u001b[0;34m(\u001b[0m\u001b[0;34m\"Can't broadcast %s -> %s\"\u001b[0m \u001b[0;34m%\u001b[0m \u001b[0;34m(\u001b[0m\u001b[0mtarget_shape\u001b[0m\u001b[0;34m,\u001b[0m \u001b[0mself\u001b[0m\u001b[0;34m.\u001b[0m\u001b[0mmshape\u001b[0m\u001b[0;34m)\u001b[0m\u001b[0;34m)\u001b[0m\u001b[0;34m\u001b[0m\u001b[0;34m\u001b[0m\u001b[0m\n\u001b[0m\u001b[1;32m    300\u001b[0m \u001b[0;34m\u001b[0m\u001b[0m\n\u001b[1;32m    301\u001b[0m         \u001b[0;32mif\u001b[0m \u001b[0many\u001b[0m\u001b[0;34m(\u001b[0m\u001b[0;34m[\u001b[0m\u001b[0mn\u001b[0m \u001b[0;34m>\u001b[0m \u001b[0;36m1\u001b[0m \u001b[0;32mfor\u001b[0m \u001b[0mn\u001b[0m \u001b[0;32min\u001b[0m \u001b[0mtarget\u001b[0m\u001b[0;34m]\u001b[0m\u001b[0;34m)\u001b[0m\u001b[0;34m:\u001b[0m\u001b[0;34m\u001b[0m\u001b[0;34m\u001b[0m\u001b[0m\n",
      "\u001b[0;31mTypeError\u001b[0m: Can't broadcast (220,) -> (440,)"
     ]
    }
   ],
   "source": [
    "global option, save_figure \n",
    "# Option 1: only show curves from maximum to minimum write voltage\n",
    "# Option 2: Show all curves from the whole write voltage waveform\n",
    "option = 1 \n",
    "save_figure = False # Save the figure after being generated if True\n",
    "\n",
    "h5_sho_spec_inds = h5_sho_fit.h5_spec_inds\n",
    "h5_sho_spec_vals = h5_sho_fit.h5_spec_vals\n",
    "\n",
    "sho_spec_labels = h5_sho_fit.spec_dim_labels\n",
    "pos_labels = h5_sho_fit.pos_dim_labels\n",
    "\n",
    "if is_ckpfm:\n",
    "    # It turns out that the read voltage index starts from 1 instead of 0\n",
    "    # Also the VDC indices are NOT repeating. They are just rising monotonically\n",
    "    write_volt_index = sho_spec_labels.index('write_bias')\n",
    "    read_volt_index = sho_spec_labels.index('read_bias')\n",
    "    h5_sho_spec_inds[read_volt_index, :] -= np.min(h5_sho_spec_inds[read_volt_index, :])\n",
    "    h5_sho_spec_inds[write_volt_index, :] = np.tile(np.repeat(np.arange(num_write_steps), num_fields), num_read_steps)\n",
    "\n",
    "# Get the bias matrix:\n",
    "bias_mat, _ = px.io.hdf_utils.reshape_to_Ndims(h5_sho_spec_vals, h5_spec=h5_sho_spec_inds)\n",
    "bias_vec_r_all = bias_mat[read_volt_index]*high_voltage_amplf\n",
    "bias_vec_w_all = bias_mat[write_volt_index]*high_voltage_amplf\n",
    "bias_vec_w = bias_vec_w_all.reshape(h5_sho_fit.spec_dim_sizes)[1, :, 1]\n",
    "bias_vec_r = bias_vec_r_all.reshape(h5_sho_fit.spec_dim_sizes)[1, :, :]\n",
    "\n",
    "# Option 1: only show curves from maximum to minimum write voltage:\n",
    "if option == 1:\n",
    "    write_step_start = np.argmax(bias_vec_w)\n",
    "    write_step_end = np.argmin(bias_vec_w)\n",
    "\n",
    "# ption 2: show all curves from the whole write voltage waveform\n",
    "if option == 2:\n",
    "    write_step_start = 0\n",
    "    write_step_end = num_write_steps-1\n",
    "\n",
    "bias_vec_r_display = np.transpose(bias_vec_r[write_step_start:write_step_end+1,:])\n",
    "\n",
    "print('These are the labels', sho_spec_labels)\n",
    "\n",
    "nd_labels = h5_sho_fit.n_dim_labels\n",
    "\n",
    "num_read_steps = Nd_mat.shape[nd_labels.index('read_bias')]\n",
    "num_write_steps = Nd_mat.shape[nd_labels.index('write_bias')]\n",
    "num_row = Nd_mat.shape[nd_labels.index('Y')]\n",
    "num_col = Nd_mat.shape[nd_labels.index('X')]\n",
    "\n",
    "# Indices of initial data points to plot\n",
    "row = 0\n",
    "col = 0\n",
    "field = 1\n",
    "dc_step_read = 0\n",
    "dc_step_write = 0\n",
    "\n",
    "# Select color scale range for map here\n",
    "cmin = -0.0001\n",
    "cmax = 0.0001\n",
    "\n",
    "# Get the read and write data to plot\n",
    "resp_vec_w = Nd_mat[row,col,field,:,dc_step_read]['Amplitude [V]'] * np.cos(Nd_mat[row,col,field,:,dc_step_read]['Phase [rad]'])*1000\n",
    "\n",
    "resp_mat_r = Nd_mat[:,:,1,dc_step_write,dc_step_read]['Amplitude [V]'] * np.cos(Nd_mat[:,:,1,dc_step_write,dc_step_read]['Phase [rad]'])*1000\n",
    "\n",
    "resp_vec_r = np.squeeze(Nd_mat[:,:,1,write_step_start:write_step_end+1,:]['Amplitude [V]'] \n",
    "                          * np.cos(Nd_mat[:,:,1,write_step_start:write_step_end+1,:]['Phase [rad]'])*1000)\n",
    "\n",
    "\n",
    "def make_figure(resp_mat_r, resp_vec_r, resp_vec_w, dc_step_read, dc_step_write, col, row):\n",
    "    global save_figure\n",
    "    plt.clf();\n",
    "    fig = plt.figure(figsize=(13, 9))\n",
    "    fig.set_facecolor('white')\n",
    "    \n",
    "    ax_bias_w = plt.subplot2grid((20, 2), (0, 0), colspan=1, rowspan=3)\n",
    "    ax_bias_r = plt.subplot2grid((20, 2), (5, 0), colspan=1, rowspan=3)\n",
    "    ax_loop_w = plt.subplot2grid((20, 2), (0, 1), colspan=1, rowspan=7)\n",
    "    ax_loop_r = plt.subplot2grid((20, 2), (9, 1), colspan=1, rowspan=8)\n",
    "    ax_colorbar = plt.subplot2grid((20, 2), (19, 1), colspan=1, rowspan=1)\n",
    "    ax_map = plt.subplot2grid((20, 2), (10, 0), colspan=1, rowspan=11)\n",
    "    \n",
    "    \n",
    "    \n",
    "    ax_bias_w.set_xlabel('Step', fontsize = 12)\n",
    "    ax_bias_w.set_ylabel('Write voltage [V]', fontsize = 12)\n",
    "    ax_bias_r.set_xlabel('Step', fontsize = 12)\n",
    "    ax_bias_r.set_ylabel('Read voltage [V]', fontsize = 12)\n",
    "    ax_loop_w.set_ylabel('Response [a.u.]', fontsize = 12)\n",
    "    ax_loop_w.set_xlabel('Write voltage [V]', fontsize = 12)\n",
    "    ax_loop_r.set_ylabel('Response [a.u.]', fontsize = 12)\n",
    "    ax_loop_r.set_xlabel('Read voltage [V]', fontsize = 12)\n",
    "\n",
    "    # Title saying read and write voltages\n",
    "    fig.suptitle('Read voltage = '+str(bias_vec_r[1,dc_step_read])+' V, Write voltage = ' +str(bias_vec_w[dc_step_write])+' V'\n",
    "                ', x = '+str(col)+', y = '+str(row), fontsize = 14);\n",
    "    \n",
    "    co_b = ax_map.imshow(resp_mat_r, cmap=px.plot_utils.cmap_jet_white_center(), origin='upper', \n",
    "                         interpolation='none');\n",
    "    cb = fig.colorbar(co_b)\n",
    "    \n",
    "    #Graph of DC write voltage\n",
    "    ax_bias_w.plot(bias_vec_w,'b.');\n",
    "    ax_bias_w.plot(dc_step_write,bias_vec_w[dc_step_write],'r.');\n",
    "    ax_bias_w.set_ylim([np.min(bias_vec_w)-0.5, np.max(bias_vec_w)+0.5])\n",
    "    \n",
    "    #Graph of DC read voltage\n",
    "    ax_bias_r.plot(np.transpose(bias_vec_r[1]),'b.');\n",
    "    ax_bias_r.plot(dc_step_read,np.transpose(bias_vec_r[1,dc_step_read]),'r.');\n",
    "    ax_bias_r.set_ylim([np.min(bias_vec_r)-0.5, np.max(bias_vec_r)+0.5])\n",
    "        \n",
    "    #Graph of response loop (amplitude * cos(phase)) vs write voltage at selected x, y and read step\n",
    "    ax_loop_w.plot(bias_vec_w, resp_vec_w,'.-');\n",
    "    \n",
    "    #Response loops (amplitude * cos(phase)) of all write voltage steps (color coded) vs read voltage at selected x, y\n",
    "    px.plot_utils.plot_line_family(ax_loop_r, bias_vec_r_display[:, :], \n",
    "                                   resp_vec_r, line_names='None',\n",
    "                                   label_prefix='Line', label_suffix='', cmap=plt.cm.jet)\n",
    "    \n",
    "    if option == 1:\n",
    "        colorbar_mat = np.column_stack((range(write_step_start,write_step_end+1),range(write_step_start,write_step_end+1)))\n",
    "        ax_colorbar.imshow(np.transpose(colorbar_mat[:,:]), cmap=plt.cm.jet, origin='lower', interpolation='none')\n",
    "        ax_colorbar.set_yticklabels('')\n",
    "        ax_colorbar.tick_params(axis = 'y', left = 'off', right = 'off')\n",
    "        plt.sca(ax_colorbar)\n",
    "        plt.xticks([0,write_step_end-write_step_start],[bias_vec_w[write_step_start],bias_vec_w[write_step_end]])\n",
    "        ax_colorbar.set_xlabel('Write voltage [V]', fontsize = 12)\n",
    "                \n",
    "    if option == 2:\n",
    "        colorbar_mat = np.column_stack((range(0,num_write_steps-1),range(0,num_write_steps-1)))\n",
    "        ax_colorbar.imshow(np.transpose(colorbar_mat[:,:]), cmap=plt.cm.jet, origin='lower', interpolation='none')\n",
    "        ax_colorbar.set_yticklabels('')\n",
    "        ax_colorbar.tick_params(axis = 'y', left = 'off', right = 'off')\n",
    "        ax_colorbar.set_xlabel('Write voltage step', fontsize = 12)\n",
    "        \n",
    "    \n",
    "    if save_figure == True:\n",
    "        fig.savefig(output_file_path+'\\cb_cKPFM_Vr'+str(dc_step_read)+'_Vw'+str(dc_step_write)+'_x='+str(col)+'_y='+str(row)+'.png', format='png')\n",
    "        fig.savefig(output_file_path+'\\cb_cKPFM_Vr'+str(dc_step_read)+'_Vw'+str(dc_step_write)+'_x='+str(col)+'_y='+str(row)+'.eps', format='eps')\n",
    "        fig.savefig(output_file_path+'\\cb_cKPFM_Vr'+str(dc_step_read)+'_Vw'+str(dc_step_write)+'_x='+str(col)+'_y='+str(row)+'.tif', format='tiff')\n",
    "        save_figure = False\n",
    "\n",
    "        \n",
    "def update_sho_plots(dc_step_read, dc_step_write, col, row, **kwargs):\n",
    "    resp_vec_w = Nd_mat[row,col,field,:,dc_step_read]['Amplitude [V]'] * np.cos(Nd_mat[row,col,field,:,dc_step_read]['Phase [rad]'])*1000\n",
    "    resp_vec_w = Nd_mat[row,col,field,:,dc_step_read]['Amplitude [V]'] * np.cos(Nd_mat[row,col,field,:,dc_step_read]['Phase [rad]'])*1000\n",
    "    resp_mat_r = Nd_mat[:,:,1,dc_step_write,dc_step_read]['Amplitude [V]'] * np.cos(Nd_mat[:,:,1,dc_step_write,dc_step_read]['Phase [rad]'])*1000\n",
    "    resp_vec_r = (Nd_mat[row,col,field,write_step_start:write_step_end+1,:]['Amplitude [V]'] \n",
    "                           * np.cos(Nd_mat[row,col,field,write_step_start:write_step_end+1,:]['Phase [rad]'])*1000)\n",
    "\n",
    "    make_figure(resp_mat_r, resp_vec_r, resp_vec_w, dc_step_read, dc_step_write, col, row)\n",
    "    \n",
    "    \n",
    "def on_save_button_clicked(b):\n",
    "    global save_figure \n",
    "    save_figure = True\n",
    "    dc_step_read =  dc_step_read_slider.value\n",
    "    dc_step_write = dc_step_write_slider.value\n",
    "    col = x_slider.value\n",
    "    row = y_slider.value\n",
    "    \n",
    "    update_sho_plots(dc_step_read,dc_step_write, col, row)\n",
    "    \n",
    "\n",
    "slider_dict = dict()   \n",
    "\n",
    "dc_step_read_slider = widgets.IntSlider(min = 0, max = num_read_steps-1, step = 1,value = 4,\n",
    "                                        description = 'Read step',continuous_update = False);\n",
    "dc_step_write_slider = widgets.IntSlider(min = 0, max = num_write_steps-1, step = 1,value = 0,\n",
    "                                         description = 'Write step', continuous_update = False);\n",
    "x_slider = widgets.IntSlider(min = 0, max = num_col-1,step = 1,value = 0,\n",
    "                             description='x',continuous_update = False);\n",
    "y_slider = widgets.IntSlider(min = 0,max = num_row-1,step = 1,value = 0,\n",
    "                             description = 'y',continuous_update = False);\n",
    "\n",
    "widgets.interact(update_sho_plots,dc_step_read=dc_step_read_slider,dc_step_write=dc_step_write_slider, col = x_slider, row = y_slider, **slider_dict); \n",
    "\n",
    "button = widgets.Button(description = 'Save figure')\n",
    "display(button)\n",
    "button.on_click(on_save_button_clicked)\n",
    "\n"
   ]
  },
  {
   "cell_type": "code",
   "execution_count": null,
   "metadata": {},
   "outputs": [],
   "source": [
    "usid.hdf_utils.reshape_to_n_dims"
   ]
  },
  {
   "cell_type": "markdown",
   "metadata": {},
   "source": [
    "## Display averaged cKPFM data\n",
    "\n",
    "Figures show response at each write step (x-axis) after each write pulse (color coded) averaged over the whole map (left) and averaged over the area selected with x- and y-range sliders (right).\n",
    "\n",
    "#### Select display option by setting 'option = 1' or 'option = 2' in the first line of the code\n",
    "- Option 1: display response curves from the maximum write step to the minimum write step\n",
    "- Option 2: display response curves from all write voltages"
   ]
  },
  {
   "cell_type": "code",
   "execution_count": null,
   "metadata": {
    "scrolled": false
   },
   "outputs": [],
   "source": [
    "option = 1\n",
    "\n",
    "# Option 1: only show curves from maximum to minimum write voltage:\n",
    "if option == 1:\n",
    "    write_step_start = np.argmax(bias_vec_w)\n",
    "    write_step_end = np.argmin(bias_vec_w)\n",
    "\n",
    "# Option 2: show all curves from the whole write voltage waveform\n",
    "if option == 2:\n",
    "    write_step_start = 0\n",
    "    write_step_end = num_write_steps-1\n",
    "\n",
    "    \n",
    "bias_vec_r_display = np.transpose(bias_vec_r[write_step_start:write_step_end+1,:])\n",
    "\n",
    "num_display_steps = bias_vec_r_display.shape[1]\n",
    "\n",
    "\n",
    "global save_figure_vsr\n",
    "\n",
    "save_figure_vsr = False\n",
    "\n",
    "\n",
    "resp_mat_vsr = np.squeeze(Nd_mat[:,:,1,write_step_start:write_step_end+1,:]['Amplitude [V]'] \n",
    "                          * np.cos(Nd_mat[:,:,1,write_step_start:write_step_end+1,:]['Phase [rad]'])*1000)\n",
    "\n",
    "# Calculate response at 0 V read voltage averaged over all pixels\n",
    "resp_vsr_mean1 = np.nanmean(resp_mat_vsr,axis = 0)\n",
    "resp_vsr_std1 = np.nanstd(resp_mat_vsr,axis = 0)\n",
    "resp_vsr_mean = np.nanmean(resp_vsr_mean1,axis = 0)\n",
    "resp_vsr_std = np.nanstd(resp_vsr_std1,axis = 0)\n",
    "\n",
    "\n",
    "def make_figure_respvsr(resp_vsr_mean_range, resp_vsr_std_range, x_range, y_range):\n",
    "    global save_figure_vsr\n",
    "    \n",
    "    fig_vsr = plt.figure(figsize=(12,5))  \n",
    "    fig_vsr.clf()\n",
    "    fig_vsr.set_facecolor('white')\n",
    "    ax_plot = plt.subplot2grid((5, 2), (0, 0), colspan=1, rowspan=4)\n",
    "    ax_plot_range = plt.subplot2grid((5, 2), (0, 1), colspan=1, rowspan=4)\n",
    "    ax_colorbar = plt.subplot2grid((5, 2), (4, 0), colspan=1, rowspan=1)\n",
    "    ax_colorbar2 = plt.subplot2grid((5, 2), (4, 1), colspan=1, rowspan=1)\n",
    "\n",
    "    px.plot_utils.plot_line_family(ax_plot, bias_vec_r_display[:, :], \n",
    "                                   resp_vsr_mean[:, :], line_names='None',label_prefix='Line', \n",
    "                                   label_suffix='', cmap=plt.cm.jet)\n",
    "    px.plot_utils.plot_line_family(ax_plot_range, bias_vec_r_display[:, :], \n",
    "                                   resp_vsr_mean_range[:, :], line_names='None',\n",
    "                                   label_prefix='Line', label_suffix='', cmap=plt.cm.jet)\n",
    "         \n",
    "    ax_plot.set_xlabel('Read voltage [V]', fontsize = 12)\n",
    "    ax_plot.set_ylabel('Response [a.u.]', fontsize = 12)\n",
    "    ax_plot.set_title('Averaged over whole map', fontsize = 12)\n",
    "    \n",
    "    ax_plot_range.set_xlabel('Read voltage [V]', fontsize = 12)\n",
    "    ax_plot_range.set_ylabel('Response [a.u.]', fontsize = 12)\n",
    "    ax_plot_range.set_title('Averaged x = '+str(x_range[0])+' - '+str(x_range[1])\n",
    "                            +', y = '+str(y_range[0])+' - '+str(y_range[1]), fontsize = 12)\n",
    "    if option == 1:\n",
    "        colorbar_mat = np.column_stack((range(write_step_start,write_step_end+1),range(write_step_start,write_step_end+1)))\n",
    "        ax_colorbar.imshow(np.transpose(colorbar_mat[:,:]), cmap=plt.cm.jet, origin='lower', interpolation='none')\n",
    "        ax_colorbar.set_yticklabels('')\n",
    "        ax_colorbar.tick_params(axis = 'y', left = 'off', right = 'off')\n",
    "        plt.sca(ax_colorbar)\n",
    "        plt.xticks([0,write_step_end-write_step_start],[bias_vec_w[write_step_start],bias_vec_w[write_step_end]])\n",
    "        ax_colorbar.set_xlabel('Write voltage [V]', fontsize = 12)\n",
    "        \n",
    "        ax_colorbar2.imshow(np.transpose(colorbar_mat[:,:]), cmap=plt.cm.jet, origin='lower', interpolation='none')\n",
    "        ax_colorbar2.set_yticklabels('')\n",
    "        ax_colorbar2.tick_params(axis = 'y', left = 'off', right = 'off')\n",
    "        plt.sca(ax_colorbar2)\n",
    "        plt.xticks([0,write_step_end-write_step_start],[bias_vec_w[write_step_start],bias_vec_w[write_step_end]])\n",
    "        ax_colorbar2.set_xlabel('Write voltage [V]', fontsize = 12)\n",
    "\n",
    "        \n",
    "    \n",
    "    if option == 2:\n",
    "        colorbar_mat = np.column_stack((range(0,num_write_steps-1),range(0,num_write_steps-1)))\n",
    "        ax_colorbar.imshow(np.transpose(colorbar_mat[:,:]), cmap=plt.cm.jet, origin='lower', interpolation='none')\n",
    "        ax_colorbar.set_yticklabels('')\n",
    "        ax_colorbar.tick_params(axis = 'y', left = 'off', right = 'off')\n",
    "        ax_colorbar.set_xlabel('Write voltage step', fontsize = 12)\n",
    "        \n",
    "        ax_colorbar2.imshow(np.transpose(colorbar_mat[:,:]), cmap=plt.cm.jet, origin='lower', interpolation='none')\n",
    "        ax_colorbar2.set_yticklabels('')\n",
    "        ax_colorbar2.tick_params(axis = 'y', left = 'off', right = 'off')\n",
    "        ax_colorbar2.set_xlabel('Write voltage step', fontsize = 12)\n",
    "        \n",
    "     \n",
    "        \n",
    "    fig_vsr.tight_layout();\n",
    "   \n",
    "    if save_figure_vsr == True:\n",
    "        fig_vsr.savefig(output_file_path+'\\cbColor_Response_vsReadVoltage_x'+str(x_range)+'_y'+str(y_range)+'.png', format='png')\n",
    "        fig_vsr.savefig(output_file_path+'\\cbColor_Response_vsReadVoltage_x'+str(x_range)+'_y'+str(y_range)+'.eps', format='eps')\n",
    "        fig_vsr.savefig(output_file_path+'\\cbColor_Response_vsReadVoltage_x'+str(x_range)+'_y'+str(y_range)+'.tif', format='tiff')\n",
    "        save_figure_vsr = False\n",
    "        \n",
    "        \n",
    "            \n",
    "\n",
    "def update_xyrange(x_range, y_range):\n",
    "\n",
    "# Calculate response averaged over selected pixels\n",
    "    \n",
    "    resp_mat_vsr_range = np.squeeze(Nd_mat[y_range[0]:y_range[1], x_range[0]:x_range[1],1,write_step_start:write_step_end+1,:]['Amplitude [V]']\n",
    "                                    *np.cos(Nd_mat[y_range[0]:y_range[1], x_range[0]:x_range[1],1,write_step_start:write_step_end+1,:]['Phase [rad]'])*1000)\n",
    "    \n",
    "    resp_vsr_mean1_range = np.nanmean(resp_mat_vsr_range,axis = 0)\n",
    "    resp_vsr_std1_range = np.nanstd(resp_mat_vsr_range,axis = 0)\n",
    "    resp_vsr_mean_range = np.nanmean(resp_vsr_mean1_range,axis = 0)\n",
    "    resp_vsr_std_range = np.nanstd(resp_vsr_std1_range,axis = 0)\n",
    "\n",
    "    make_figure_respvsr(resp_vsr_mean_range, resp_vsr_std_range, x_range, y_range)\n",
    "                                        \n",
    "                                          \n",
    "x_range = widgets.IntRangeSlider(min = 0,max = num_col-1,step = 1,value = 0,\n",
    "                             description = 'x-range',continuous_update = False)\n",
    "\n",
    "y_range = widgets.IntRangeSlider(min = 0,max = num_col-1,step = 1,value = 0,\n",
    "                             description = 'y-range',continuous_update = False)\n",
    "\n",
    "widgets.interact(update_xyrange,x_range = x_range, y_range = y_range);\n",
    "\n",
    "\n",
    "\n",
    "def on_save_button_clicked_vsr(b):\n",
    "    global save_figure_vsr \n",
    "    save_figure_vsr = True\n",
    "  \n",
    "    update_xyrange(x_range.value, y_range.value)\n",
    "\n",
    "button_vsr = widgets.Button(description = 'Save figure')\n",
    "display(button_vsr)\n",
    "button_vsr.on_click(on_save_button_clicked_vsr)\n",
    "\n",
    "\n"
   ]
  },
  {
   "cell_type": "markdown",
   "metadata": {},
   "source": [
    "## Export response after all write steps for all pixels\n",
    "\n",
    "Response data (\\= amplitude * cos(phase)) is exported into separate tab delimited text files for each read voltage (see file names). The columns in the text file represent write voltage steps, the rows represent individual pixels. "
   ]
  },
  {
   "cell_type": "code",
   "execution_count": null,
   "metadata": {},
   "outputs": [],
   "source": [
    "#Export response of all write steps (columns) for all pixels (rows) to one delimited text file for each read step\n",
    "\n",
    "for dc_step_read in range(0,num_read_steps-1):\n",
    "    resp_mat = np.squeeze(Nd_mat[:,:,1,:,dc_step_read]['Amplitude [V]'] \n",
    "                          * np.cos(Nd_mat[:,:,1,:,dc_step_read]['Phase [rad]'])*1000)\n",
    "\n",
    "    resp_vec = np.reshape(resp_mat, (num_row*num_col, num_write_steps))\n",
    "    np.savetxt(os.path.join(output_file_path,'Response_at_Vread_'+str(bias_vec_r[0,dc_step_read])+'V.txt'),resp_vec, fmt='%f', delimiter='\\t')\n",
    "\n",
    "np.savetxt(os.path.join(output_file_path,'Read_voltage_vec.txt'), np.squeeze(bias_vec_r[0,:]), fmt='%f', delimiter='\\t')\n",
    "np.savetxt(os.path.join(output_file_path,'Write_voltage_vec.txt'), np.squeeze(bias_vec_w[:]), fmt='%f', delimiter='\\t')"
   ]
  },
  {
   "cell_type": "markdown",
   "metadata": {},
   "source": [
    "## Display averaged response at 0 V read voltage\n",
    "\n",
    "The left figure shows response at 0 V read voltage averaged over the whole grid, the right figure shows response at 0 V read voltage averaged over the x- and y- range specified with sliders."
   ]
  },
  {
   "cell_type": "code",
   "execution_count": null,
   "metadata": {
    "scrolled": false
   },
   "outputs": [],
   "source": [
    "# Plot response at 0 V read voltage averaged over all pixels\n",
    "global save_figure_0V\n",
    "\n",
    "save_figure_0V = False\n",
    "dc_step_read = np.argwhere(np.isclose(bias_vec_r[0,:], 0)).squeeze()\n",
    "\n",
    "resp_mat_0Vr = np.squeeze(Nd_mat[:,:,1,:,dc_step_read]['Amplitude [V]'] \n",
    "                          * np.cos(Nd_mat[:,:,1,:,dc_step_read]['Phase [rad]'])*1000)\n",
    "\n",
    "# Calculate response at 0 V read voltage averaged over all pixels\n",
    "resp_0V_mean1 = np.nanmean(resp_mat_0Vr,axis = 0)\n",
    "resp_0V_std1 = np.nanstd(resp_mat_0Vr,axis = 0)\n",
    "resp_0V_mean = np.nanmean(resp_0V_mean1,axis = 0)\n",
    "resp_0V_std = np.nanstd(resp_0V_std1,axis = 0)\n",
    "\n",
    "\n",
    "def make_figure_resp0V(resp_0V_mean_range, resp_0V_std_range, x_range, y_range):\n",
    "    global save_figure_0V\n",
    "    \n",
    "    fig_r0V = plt.figure(figsize=(10,4))  \n",
    "    fig_r0V.clf()\n",
    "    fig_r0V.set_facecolor('white')\n",
    "    ax_plot = plt.subplot2grid((1, 2), (0, 0), colspan=1, rowspan=1)\n",
    "    ax_plot_range = plt.subplot2grid((1, 2), (0, 1), colspan=1, rowspan=1)\n",
    "    \n",
    "    ax_plot.plot(bias_vec_w[:], resp_0V_mean\n",
    "                 , '.-')\n",
    "    ax_plot.errorbar(bias_vec_w[:], resp_0V_mean, yerr = resp_0V_std, fmt = '.-')\n",
    "    \n",
    "    ax_plot.set_xlabel('Write voltage [V]', fontsize = 12)\n",
    "    ax_plot.set_ylabel('Response [a.u.]', fontsize = 12)\n",
    "    ax_plot.set_title('Averaged over whole map', fontsize = 12)\n",
    "    \n",
    "    ax_plot_range.errorbar(bias_vec_w[:], resp_0V_mean_range, yerr = resp_0V_std_range, fmt = '.-')\n",
    "    ax_plot_range.set_xlabel('Write voltage [V]', fontsize = 12)\n",
    "    ax_plot_range.set_ylabel('Response [a.u.]', fontsize = 12)\n",
    "    ax_plot_range.set_title('Averaged from x = '+str(x_range[0])+'-'+str(x_range[1])\n",
    "                            +', y = '+str(y_range[0])+'-'+str(y_range[1]), fontsize = 12)\n",
    "    \n",
    "    fig_r0V.tight_layout();\n",
    "    fig_r0V.suptitle('Spatially averaged response at read voltage = 0 V', y = 1.05, x=0.55, fontsize = 12)\n",
    "    \n",
    "    #save_figure_0V = True   \n",
    "    if save_figure_0V == True:\n",
    "        fig_r0V.savefig(output_file_path+'\\Response_0V_x'+str(x_range)+'_y'+str(y_range)+'.png', format='png')\n",
    "        fig_r0V.savefig(output_file_path+'\\Response_0V_x'+str(x_range)+'_y'+str(y_range)+'.eps', format='eps')\n",
    "        fig_r0V.savefig(output_file_path+'\\Response_0V_x'+str(x_range)+'_y'+str(y_range)+'.tif', format='tiff')\n",
    "        save_figure_0V = False\n",
    "        \n",
    "        \n",
    "        \n",
    "\n",
    "def update_xyrange(x_range, y_range):\n",
    "\n",
    "# Calculate response at 0 V read voltage averaged over selected pixels\n",
    "#     a=Nd_mat[x_range[0]:x_range[1], y_range[0]:y_range[1],1,:,dc_step_read]['Amplitude [V]']\n",
    "    \n",
    "    resp_mat_0Vr_range = np.squeeze(Nd_mat[y_range[0]:y_range[1], x_range[0]:x_range[1],1,:,dc_step_read]['Amplitude [V]']\n",
    "                                    *np.cos(Nd_mat[y_range[0]:y_range[1], x_range[0]:x_range[1],1,:,dc_step_read]['Phase [rad]'])*1000)\n",
    "    \n",
    "    resp_0V_mean1_range = np.nanmean(resp_mat_0Vr_range,axis = 0)\n",
    "    resp_0V_std1_range = np.nanstd(resp_mat_0Vr_range,axis = 0)\n",
    "    resp_0V_mean_range = np.nanmean(resp_0V_mean1_range,axis = 0)\n",
    "    resp_0V_std_range = np.nanstd(resp_0V_std1_range,axis = 0)\n",
    "    \n",
    "    print(resp_0V_mean_range, resp_0V_std_range, x_range, y_range)\n",
    "    \n",
    "    make_figure_resp0V(resp_0V_mean_range, resp_0V_std_range, x_range, y_range)\n",
    "                                          \n",
    "                                          \n",
    "x_range = widgets.IntRangeSlider(min = 0,max = num_col-1,step = 0.1,value = 0,\n",
    "                             description = 'x-range',continuous_update = False)\n",
    "\n",
    "y_range = widgets.IntRangeSlider(min = 0,max = num_col-1,step = 0.1,value = 0,\n",
    "                             description = 'y-range',continuous_update = False)\n",
    "\n",
    "widgets.interact(update_xyrange,x_range = x_range, y_range = y_range);\n",
    "\n",
    "\n",
    "\n",
    "def on_save_button_clicked_0V(b):\n",
    "    global save_figure_0V \n",
    "    save_figure_0V = True\n",
    "\n",
    "   \n",
    "    update_xyrange(x_range.value, y_range.value)\n",
    "\n",
    "button_0V = widgets.Button(description = 'Save figure')\n",
    "display(button_0V)\n",
    "button_0V.on_click(on_save_button_clicked_0V)"
   ]
  },
  {
   "cell_type": "markdown",
   "metadata": {},
   "source": [
    "## Display response, amplitude and phase data at 0 V read voltage for a single pixel\n",
    "\n",
    "Select the pixel of interest below by setting x_select and y_select to the desired coordinates."
   ]
  },
  {
   "cell_type": "code",
   "execution_count": null,
   "metadata": {},
   "outputs": [],
   "source": [
    "x_select = 3\n",
    "y_select = 2\n",
    "\n",
    "resp_mat_0Vr = np.squeeze(Nd_mat[:,:,1,:,dc_step_read]['Amplitude [V]'] \n",
    "                          * np.cos(Nd_mat[:,:,1,:,dc_step_read]['Phase [rad]'])*1000)\n",
    "amp_mat_0Vr = np.squeeze(Nd_mat[:,:,1,:,dc_step_read]['Amplitude [V]'])*1000\n",
    "phase_mat_0Vr = np.squeeze(Nd_mat[:,:,1,:,dc_step_read]['Phase [rad]'])\n",
    "\n",
    "\n",
    "fig_r0V = plt.figure(figsize=(12,4))  \n",
    "fig_r0V.clf()\n",
    "fig_r0V.set_facecolor('white')\n",
    "ax_resp = plt.subplot2grid((1, 3), (0, 0), colspan=1, rowspan=1)\n",
    "ax_amp = plt.subplot2grid((1, 3), (0, 1), colspan=1, rowspan=1)\n",
    "ax_phase = plt.subplot2grid((1, 3), (0, 2), colspan=1, rowspan=1)\n",
    "\n",
    "ax_resp.plot(bias_vec_w[:], resp_mat_0Vr[y_select, x_select, :],'.-')\n",
    "ax_resp.set_xlabel('Write voltage [V]', fontsize = 12)\n",
    "ax_resp.set_ylabel('Response [a.u.]', fontsize = 12)\n",
    "\n",
    "ax_amp.plot(bias_vec_w[:], amp_mat_0Vr[y_select, x_select, :],'.-')\n",
    "ax_amp.set_xlabel('Write voltage [V]', fontsize = 12)\n",
    "ax_amp.set_ylabel('Amplitude [a.u.]', fontsize = 12)\n",
    "\n",
    "ax_phase.plot(bias_vec_w[:], phase_mat_0Vr[y_select, x_select, :],'.-')\n",
    "ax_phase.set_xlabel('Write voltage [V]', fontsize = 12)\n",
    "ax_phase.set_ylabel('Phase [rad]', fontsize = 12)\n",
    "ax_phase.set_ylim([-4, 4])\n",
    "\n",
    "fig_r0V.tight_layout()"
   ]
  },
  {
   "cell_type": "markdown",
   "metadata": {},
   "source": [
    "## Display on-field loops for all read steps\n",
    "\n",
    "The figure shows on-field response vs. write voltage for all read voltages (color coded) averaged over the whole map."
   ]
  },
  {
   "cell_type": "code",
   "execution_count": null,
   "metadata": {},
   "outputs": [],
   "source": [
    "resp_mat_IF = np.squeeze(Nd_mat[:,:,0,:,:]['Amplitude [V]'] \n",
    "                          * np.cos(Nd_mat[:,:,0,:,:]['Phase [rad]'])*1000)\n",
    "\n",
    "# Calculate response at 0 V read voltage averaged over all pixels\n",
    "resp_IF_mean1 = np.nanmean(resp_mat_IF,axis = 0)\n",
    "resp_IF_std1 = np.nanstd(resp_mat_IF,axis = 0)\n",
    "resp_IF_mean = np.nanmean(resp_IF_mean1,axis = 0)\n",
    "resp_IF_std = np.nanstd(resp_IF_std1,axis = 0)\n",
    "\n",
    "bias_vec_w_graph = np.matlib.repmat(bias_vec_w,num_read_steps, 1)\n",
    "# print(resp_IF_mean.shape, resp_IF_std.shape, bias_vec_w_graph.shape)\n",
    "\n",
    "fig_IF = plt.figure(figsize=(6,6))  \n",
    "fig_IF.clf()\n",
    "fig_IF.set_facecolor('white')\n",
    "ax_plot = plt.subplot2grid((15, 5), (0, 0), colspan=5, rowspan=12)\n",
    "ax_colorbar = plt.subplot2grid((15, 5), (14, 0), colspan=5, rowspan=1)\n",
    "\n",
    "px.plot_utils.plot_line_family(ax_plot, np.transpose(bias_vec_w_graph), np.transpose(resp_IF_mean), line_names='None',label_prefix='Line', label_suffix='', cmap=plt.cm.jet)\n",
    "# ax_plot.plot(bias_vec_w[:], resp_IF_mean, '.-')\n",
    "# ax_plot.errorbar(bias_vec_w[:], resp_IF_mean, yerr = resp_IF_std, fmt = '.-')\n",
    "colorbar_mat = np.column_stack((range(0,num_read_steps),range(0,num_read_steps)))\n",
    "ax_colorbar.imshow(np.transpose(colorbar_mat[:,:]), cmap=plt.cm.jet, origin='lower', interpolation='none', aspect = 0.25)\n",
    "ax_colorbar.set_yticklabels('')\n",
    "\n",
    "\n",
    "ax_colorbar.tick_params(axis = 'y', left = 'off', right = 'off')\n",
    "\n",
    "\n",
    "# ax_colorbar.set_xlabel('Read step')\n",
    "    \n",
    "\n",
    "ax_plot.set_xlabel('Write voltage [V]', fontsize = 12)\n",
    "ax_plot.set_ylabel('In field response [a.u.]', fontsize = 12)\n",
    "ax_plot.set_title('Averaged over whole map', fontsize = 12)\n",
    "\n",
    "labels = list(range(num_read_steps))\n",
    "\n",
    "for i in range(0, num_read_steps-0, 1):\n",
    "    labels[i] = str(bias_vec_r[0,i])\n",
    "\n",
    "ax_colorbar.set_xticks(np.arange(num_read_steps))\n",
    "ax_colorbar.set_xticklabels(labels, fontsize = 10)\n",
    "\n",
    "ax_colorbar.set_xlabel('Read voltage [V]', fontsize = 12)\n",
    "# fig_IF.tight_layout();\n",
    "\n",
    "def on_save_button4_clicked(b):\n",
    "    \n",
    "    fig_IF.savefig(output_file_path+'\\IFresponse.png', format='png')\n",
    "    fig_IF.savefig(output_file_path+'\\IFresponse.eps', format='eps')\n",
    "    fig_IF.savefig(output_file_path+'\\IFresponse.tif', format='tiff')\n",
    "\n",
    "    \n",
    "    \n",
    "button4 = widgets.Button(description = 'Save figure')\n",
    "display(button4)\n",
    "button4.on_click(on_save_button4_clicked)"
   ]
  },
  {
   "cell_type": "markdown",
   "metadata": {},
   "source": [
    "## Calculate the jCPD\n",
    "\n",
    "The junction contact potential difference (jCPD) is extracted for each dc write voltage step by linear fitting of the response vs. read bias and calculating the x-intercept.\n",
    "\n",
    "If only a certain (linear) regime of the cKPFM curves should be fitted, set v_read_start_index and v_read_end_index to the first and last index of the data that should be considered for the fit."
   ]
  },
  {
   "cell_type": "code",
   "execution_count": null,
   "metadata": {},
   "outputs": [],
   "source": [
    "#Calculate x intercept -> jCPD\n",
    "\n",
    "v_read_start_index = 0\n",
    "v_read_end_index = num_read_steps-1\n",
    "\n",
    "print('v_read_start_index = ', v_read_start_index, ', v_read_end_index = ', v_read_end_index)\n",
    "# resp_mat_r_all_all = Nd_mat[:,:,1,:,:]['Amplitude [V]'] * np.cos(Nd_mat[:,:,1,:,:]['Phase [rad]'])*1000\n",
    "resp_mat_r_all = Nd_mat[:,:,1,:,v_read_start_index : v_read_end_index+1]['Amplitude [V]'] * np.cos(Nd_mat[:,:,1,:,v_read_start_index : v_read_end_index+1]['Phase [rad]'])*1000\n",
    "\n",
    "\n",
    "# print(num_read_steps)\n",
    "# print(resp_mat_r_all.shape)\n",
    "# print('resp_mat_r_all', resp_mat_r_all[0,0,0,:])\n",
    "# print('resp_mat_r_all_all', resp_mat_r_all_all[0,0,0,:])\n",
    "\n",
    "fit_slope = np.zeros((num_col, num_row, num_write_steps))\n",
    "fit_yintercept = np.zeros((num_col, num_row, num_write_steps))\n",
    "jCPD_mat = np.zeros((num_col, num_row, num_write_steps))\n",
    "   \n",
    "print(bias_vec_r[1,v_read_start_index : v_read_end_index+1])\n",
    "# print(bias_vec_r[1,:])\n",
    "\n",
    "for row in range(num_row):\n",
    "    for col in range(num_col):\n",
    "        for vw in range(0,num_write_steps-1):\n",
    "            fit_coeff = np.polyfit(bias_vec_r[1,v_read_start_index : v_read_end_index+1], resp_mat_r_all[col, row, vw,:],1)\n",
    "            fit_slope[col, row, vw] = fit_coeff[0]\n",
    "            fit_yintercept[col, row, vw] = fit_coeff[1]\n",
    "            jCPD_mat[col, row, vw] = -fit_coeff[1]/ fit_coeff[0]\n",
    "            \n",
    "\n",
    "# fit_y = fit_coeff[0] * bias_vec_r[1,:] + fit_coeff[1]\n",
    "\n",
    "# row = 1\n",
    "# col = 1\n",
    "# vw = 10         \n",
    "# print(fit_slope[col, row, vw])\n",
    "# print(fit_yintercept[col, row, vw])\n",
    "# print(jCPD_mat[col ,row, vw])\n",
    "\n",
    "\n",
    "# plt.figure(1)\n",
    "# plt.plot(bias_vec_r[1,:],resp_mat_r_all[col, row, vw,:],'.-')\n",
    "# plt.plot(bias_vec_r[1,:],fit_y)\n",
    "# print(fit_coeff[0],fit_coeff[1],jCPD_mat[col, row, vw])\n",
    "#Filter outliers from jCPD matrix, (-> improve code)\n",
    "# for r in range(1, num_row):\n",
    "#     for c in range(1, num_col):\n",
    "#         for s in range(1, num_write_steps):\n",
    "#             if jCPD_mat[r-1, c-1, s-1] > 20 or jCPD_mat[r-1, c-1, s-1] < -20:\n",
    "# #                 jCPD_mat[r-1, c-1, s-1] = np.nan\n",
    "#                 jCPD_mat[r-1, c-1, s-1] = 0\n",
    "\n"
   ]
  },
  {
   "cell_type": "markdown",
   "metadata": {},
   "source": [
    "## Display jCPD data\n",
    "Figure shows\n",
    "\n",
    "- The jCPD map for the write voltage step selected with the slider\n",
    "- Graphs of jCPD cross sections along the selected x- and y- axes for the selected write voltage step"
   ]
  },
  {
   "cell_type": "code",
   "execution_count": null,
   "metadata": {
    "scrolled": false
   },
   "outputs": [],
   "source": [
    "global save_figure\n",
    "\n",
    "save_figure = False\n",
    "\n",
    "#Color scale minimum and maximum\n",
    "cmin = -0.2\n",
    "cmax = 0.02\n",
    "  \n",
    "def make_jCPD_figure(dc_step_write, x_select, y_select):    \n",
    "    global save_figure \n",
    "\n",
    "    fig2 = plt.figure(figsize=(14,8))  \n",
    "    fig2.set_facecolor('white')    \n",
    "    ax_jCPD_xcross_section = plt.subplot2grid((10, 10), (0, 7), colspan=4, rowspan=3)\n",
    "    plt.title('jCPD cross section at x ='+str(x_select), fontsize = 12)\n",
    "    \n",
    "    ax_jCPD_ycross_section = plt.subplot2grid((10, 10), (4, 7), colspan=4, rowspan=3)\n",
    "    plt.title('jCPD cross section at y ='+str(y_select), fontsize = 12)\n",
    "    \n",
    "    ax_jCPD_plot = plt.subplot2grid((10, 10), (0, 0), colspan=6, rowspan=7)\n",
    "    plt.title('jCPD [V] at write voltage = '+str(bias_vec_w[dc_step_write])+' V', fontsize = 12)\n",
    "    \n",
    "\n",
    "    \n",
    "    ax_jCPD_xcross_section.plot(range(num_col),jCPD_mat[:,x_select,dc_step_write],'.-')\n",
    "    ax_jCPD_xcross_section.set_xlabel('Pixel #', fontsize = 12)\n",
    "    ax_jCPD_xcross_section.set_ylabel('jCPD [V]', fontsize = 12)\n",
    "  \n",
    "    ax_jCPD_ycross_section.plot(range(num_row),jCPD_mat[y_select,:,dc_step_write],'.-')\n",
    "    ax_jCPD_ycross_section.set_xlabel('Pixel #', fontsize = 12)\n",
    "    ax_jCPD_ycross_section.set_ylabel('jCPD [V]', fontsize = 12)\n",
    "    \n",
    "#     co_b2 = ax_jCPD_plot.imshow(jCPD_mat[:,:,dc_step_write], \n",
    "#                                 cmap=px.plot_utils.cmap_jet_white_center(), \n",
    "#                                 origin='lower', interpolation='none', clim=(cmin, cmax));\n",
    "    co_b2 = ax_jCPD_plot.imshow(jCPD_mat[:,:,dc_step_write], \n",
    "                                cmap=px.plot_utils.cmap_jet_white_center(), \n",
    "                                origin='upper', interpolation='none');\n",
    "    cb2 = fig2.colorbar(co_b2)\n",
    "   \n",
    "    \n",
    "    if save_figure == True:\n",
    "        fig2.savefig(output_file_path+'jCPD_map_WriteStep'+str(dc_step_write)+'y'+str(row)+'.png', format='png')\n",
    "        fig2.savefig(output_file_path+'jCPD_map_WriteStep'+str(dc_step_write)+'y'+str(row)+'.eps', format='eps')\n",
    "        save_figure = False;\n",
    "\n",
    "    \n",
    "\n",
    "slider_dict = dict()      \n",
    "dc_step_write_slider = widgets.IntSlider(min = 0, max = num_write_steps-1, step = 1,value = 0,description='Write Step');\n",
    "x_slider = widgets.IntSlider(min = 0, max = num_col, step = 1, value = 0, description = 'x')\n",
    "y_slider = widgets.IntSlider(min = 0, max = num_row, step = 1, value = 0, description = 'y')\n",
    "\n",
    "widgets.interact(make_jCPD_figure, dc_step_write = dc_step_write_slider, x_select = x_slider, y_select = y_slider, **slider_dict); \n",
    "\n",
    "\n",
    "def on_save_button2_clicked(b):\n",
    "    global save_figure\n",
    "    save_figure = True \n",
    "    \n",
    "    dc_step_write = dc_step_write_slider.value\n",
    "    x_select = x_slider.value\n",
    "    y_select = y_slider.value\n",
    "     \n",
    "    make_jCPD_figure(dc_step_write, x_select, y_select)\n",
    "    \n",
    "    \n",
    "button2 = widgets.Button(description = 'Save figure')\n",
    "display(button2)\n",
    "button2.on_click(on_save_button2_clicked)"
   ]
  },
  {
   "cell_type": "markdown",
   "metadata": {},
   "source": [
    "## Display jCPD and fitting parameters\n",
    "\n",
    "Figure shows maps of\n",
    "- jCPD\n",
    "- slope\n",
    "- y-intercept\n",
    "\n",
    "for the write voltage step selected with slider."
   ]
  },
  {
   "cell_type": "code",
   "execution_count": null,
   "metadata": {},
   "outputs": [],
   "source": [
    "global save_figure\n",
    "\n",
    "save_figure = False\n",
    "   \n",
    "cmin = -3\n",
    "cmax = 3\n",
    "  \n",
    "def make_fitting_figure(dc_step_write):    \n",
    "    global save_figure \n",
    "    fig3 = plt.figure(figsize=(10,3))  \n",
    "    fig3.set_facecolor('white')    \n",
    "    ax_jCPD_plot = plt.subplot(131)\n",
    "    ax_slope_plot = plt.subplot(132)\n",
    "    ax_yintercept_plot = plt.subplot(133)\n",
    "    ax_slope_plot.set_title('Slope [a.u.]', fontsize = 12)\n",
    "    \n",
    "    im3 = ax_jCPD_plot.imshow(jCPD_mat[:,:,dc_step_write], \n",
    "                                cmap=px.plot_utils.cmap_jet_white_center(), \n",
    "                                origin='upper', interpolation='none');\n",
    "    \n",
    "#     im3 = ax_jCPD_plot.imshow(jCPD_mat[:,:,dc_step_write], \n",
    "#                                 cmap=px.plot_utils.cmap_jet_white_center(), \n",
    "#                                 origin='upper', interpolation='none', clim=(cmin, cmax)); \n",
    "    \n",
    "    fig3.colorbar(im3, ax = ax_jCPD_plot)\n",
    "    ax_jCPD_plot.set_title('jCPD [V]', fontsize = 12)\n",
    "    \n",
    "    im = ax_slope_plot.imshow(fit_slope[:,:,dc_step_write], \n",
    "                                cmap=px.plot_utils.cmap_jet_white_center(), \n",
    "                                origin='upper', interpolation='none');\n",
    "       \n",
    "    fig3.colorbar(im, ax = ax_slope_plot)\n",
    "    \n",
    "    im2 = ax_yintercept_plot.imshow(fit_yintercept[:,:,dc_step_write], \n",
    "                                cmap=px.plot_utils.cmap_jet_white_center(), \n",
    "                                origin='upper', interpolation='none');\n",
    "    ax_yintercept_plot.set_title('y-intercept [a.u.]', fontsize = 12)\n",
    "    \n",
    "    fig3.colorbar(im2, ax = ax_yintercept_plot)\n",
    "    \n",
    "    #fig3.suptitle('Write voltage = '+str(bias_vec_w[dc_step_write])+' V', fontsize = 14, y = 1.06)\n",
    "    \n",
    "    fig3.suptitle('Write voltage = '+str(bias_vec_w[dc_step_write])+' V', fontsize = 14)\n",
    "    \n",
    "    \n",
    "#     fig3.add_subplot(132).text(2,11,'Write voltage = '+str(bias_vec_w[dc_step_write])+' V', fontsize = 14, orientation='vertical')\n",
    "    plt.tight_layout()\n",
    "    plt.subplots_adjust(top=0.8)\n",
    "    if save_figure == True:\n",
    "        fig3.savefig(output_file_path+'\\jCPD_map_WriteStep'+str(dc_step_write)+'.png', format='png')\n",
    "        fig3.savefig(output_file_path+'\\jCPD_map_WriteStep'+str(dc_step_write)+'.eps', format='eps')\n",
    "        fig3.savefig(output_file_path+'\\jCPD_map_WriteStep'+str(dc_step_write)+'.tif', format='tif')\n",
    "        save_figure = False;\n",
    "\n",
    "    \n",
    "slider_dict = dict()      \n",
    "dc_step_write_slider = widgets.IntSlider(min = 0, max = num_write_steps-1, step = 1, value = 0, description='Write Step');\n",
    "\n",
    "widgets.interact(make_fitting_figure, dc_step_write = dc_step_write_slider, **slider_dict); \n",
    "\n",
    "\n",
    "def on_save_button3_clicked(b):\n",
    "    global save_figure\n",
    "    save_figure = True \n",
    "    \n",
    "    dc_step_write = dc_step_write_slider.value\n",
    "#     x_select = x_slider.value\n",
    "#     y_select = y_slider.value\n",
    "     \n",
    "    make_fitting_figure(dc_step_write)\n",
    "    \n",
    "    \n",
    "button3 = widgets.Button(description = 'Save figure')\n",
    "display(button3)\n",
    "button3.on_click(on_save_button3_clicked)"
   ]
  },
  {
   "cell_type": "markdown",
   "metadata": {},
   "source": [
    "## jCPD plots\n",
    "\n",
    "- Left graph depicts the jCPD averaged over all pixels as a function of write voltage\n",
    "- Specify a pixel that jCPD data should be displayed from in graph on the right by setting x_select and y_select."
   ]
  },
  {
   "cell_type": "code",
   "execution_count": null,
   "metadata": {},
   "outputs": [],
   "source": [
    "# specify x select and y select\n",
    "\n",
    "x_select = 3\n",
    "y_select = 2\n",
    "\n",
    "x_range2 = [0, num_col-1]\n",
    "y_range2 = [0, num_row-1]\n",
    "# x_range2[0] = 0\n",
    "# x_range2[1] = num_col-1\n",
    "# y_range2[0] = 0\n",
    "# y_range2[1] = num_row-1\n",
    "\n",
    "jCPD_mean1 = np.nanmean(jCPD_mat[y_range2[0]:y_range2[1], x_range2[0]:x_range2[1],:],axis = 0)\n",
    "jCPD_std1 = np.nanstd(jCPD_mat[y_range2[0]:y_range2[1], x_range2[0]:x_range2[1],:],axis = 0)\n",
    "jCPD_mean_w = np.nanmean(jCPD_mean1,axis = 0)\n",
    "jCPD_std_w = np.nanstd(jCPD_mean1,axis = 0)\n",
    "\n",
    "\n",
    "\n",
    "#jCPD_mean_w[2] = np.nan\n",
    "\n",
    "\n",
    "jCPD_mean_all = np.nanmean(jCPD_mean_w,axis = 0)\n",
    "jCPD_std_all = np.nanstd(jCPD_std_w,axis = 0)\n",
    "\n",
    "\n",
    "fig3 = plt.figure(figsize=(12,7))  \n",
    "fig3.set_facecolor('white')\n",
    "ax_jCPD_mean = plt.subplot2grid((10, 10), (0, 0), colspan=4, rowspan=5)\n",
    "ax_jCPD_xy = plt.subplot2grid((10, 10), (0, 5), colspan=4, rowspan=5)\n",
    "\n",
    "plt.title('Mean jCPD vs write voltage', fontsize = 12)\n",
    "# ax_jCPD_mean.errorbar(bias_vec_w, jCPD_mean_w, yerr = jCPD_std_w, fmt = '.-')\n",
    "ax_jCPD_mean.plot(bias_vec_w, jCPD_mean_w, '.-')\n",
    "ax_jCPD_mean.set_xlabel('Write voltage [V]', fontsize = 12)\n",
    "ax_jCPD_mean.set_ylabel('Mean jCPD [V]', fontsize = 12)\n",
    "# ax_jCPD_mean.set_ylim([-10,10])\n",
    "\n",
    "ax_jCPD_xy.plot(bias_vec_w, jCPD_mat[y_select,x_select, : ], '.-')\n",
    "ax_jCPD_xy.set_xlabel('Write voltage [V]', fontsize = 12)\n",
    "ax_jCPD_xy.set_ylabel('jCPD [V]', fontsize = 12)\n",
    "# ax_jCPD_xy.set_ylim([-10,15])\n",
    "plt.title('jCPD at x = '+str(x_select)+' y = '+str(y_select))\n",
    "\n",
    "print('jCPD averaged over all pixels and write voltage steps = '+ str(jCPD_mean_all)+' +/- '+str(jCPD_std_all)+' V')"
   ]
  },
  {
   "cell_type": "markdown",
   "metadata": {},
   "source": [
    "## PCA analysis\n",
    "\n",
    "### Singular value decomposition performed on raw data:"
   ]
  },
  {
   "cell_type": "code",
   "execution_count": null,
   "metadata": {},
   "outputs": [],
   "source": [
    "# Do SVD on raw data\n",
    "print(h5_main.shape)\n",
    "do_svd = px.svd_utils.SVD(h5_main, num_components=40)\n",
    "SVD_data = do_svd.compute()\n"
   ]
  },
  {
   "cell_type": "markdown",
   "metadata": {},
   "source": [
    "### SVD on jCPD, slope, y-intercept data and response at 0 V read voltage:"
   ]
  },
  {
   "cell_type": "code",
   "execution_count": null,
   "metadata": {},
   "outputs": [],
   "source": [
    "# Do SVD on jCPD, slope and y-intercept data\n",
    "\n",
    "from sklearn.utils.extmath import randomized_svd\n",
    "\n",
    "num_components = 20;\n",
    "\n",
    "# # #Filter outliers from jCPD matrix, (-> improve code)\n",
    "# # for r in range(1, num_row):\n",
    "# #     for c in range(1, num_col):\n",
    "# #         for s in range(1, num_write_steps):\n",
    "# #             if jCPD_mat[r-1, c-1, s-1] > 5 or jCPD_mat[r-1, c-1, s-1] < -5:\n",
    "# #                 jCPD_mat[r-1, c-1, s-1] = np.nan\n",
    "# # #                 jCPD_mat[r-1, c-1, s-1] = 0\n",
    "\n",
    "\n",
    "x_delete = np.array([])\n",
    "y_delete = np.array([])\n",
    "\n",
    "\n",
    "index_delete = (num_col)*y_delete+x_delete\n",
    "\n",
    "\n",
    "jCPD_mat_SVD = np.reshape(jCPD_mat,(num_row*num_col, num_write_steps))\n",
    "\n",
    "nan_pos = np.squeeze((np.argwhere(np.isnan(jCPD_mat_SVD).any(axis=1))))\n",
    "index_delete = np.insert(index_delete, index_delete.shape[0], nan_pos, axis = 0)\n",
    "\n",
    "index_delete = -np.sort(-index_delete)\n",
    "\n",
    "\n",
    "jCPD_mat_SVD_clean = jCPD_mat_SVD\n",
    "\n",
    "for i in range(0,index_delete.shape[0]):\n",
    "    jCPD_mat_SVD_clean = np.delete(jCPD_mat_SVD_clean, index_delete[i], axis = 0)\n",
    "\n",
    "U_SVD_jCPD, S_SVD_jCPD, V_SVD_jCPD = randomized_svd(jCPD_mat_SVD_clean, n_components = num_components)\n",
    "\n",
    "\n",
    "index_delete = np.sort(index_delete)\n",
    "\n",
    "for i in range(0,index_delete.shape[0]):\n",
    "    U_SVD_jCPD = np.insert(U_SVD_jCPD, index_delete[i], np.nan ,axis = 0)\n",
    "    print(i,index_delete[i])\n",
    "    \n",
    "print(U_SVD_jCPD.shape)\n",
    "\n",
    "\n",
    "slope_mat_SVD = np.reshape(fit_slope,(num_row*num_col, num_write_steps))\n",
    "U_SVD_slope, S_SVD_slope, V_SVD_slope = randomized_svd(slope_mat_SVD, n_components = num_components)\n",
    "\n",
    "yintercept_mat_SVD = np.reshape(fit_yintercept,(num_row*num_col, num_write_steps))\n",
    "U_SVD_yintercept, S_SVD_yintercept, V_SVD_yintercept = randomized_svd(yintercept_mat_SVD, n_components = num_components)\n",
    "\n",
    "\n",
    "# Do SVD on cKPFM signal at 0 V read voltage (= PFM)\n",
    "dc_step_read = np.argwhere(np.isclose(bias_vec_r[0,:], 0)).squeeze()\n",
    "\n",
    "resp_mat_0Vr = np.squeeze(Nd_mat[:,:,1,:,dc_step_read]['Amplitude [V]'] * \n",
    "                          np.cos(Nd_mat[:,:,1,:,dc_step_read]['Phase [rad]'])*1000)\n",
    "\n",
    "resp_mat_0Vr = np.reshape(resp_mat_0Vr,(num_row*num_col, num_write_steps))\n",
    "U_SVD_resp0Vr, S_SVD_resp0Vr, V_SVD_resp0Vr = randomized_svd(resp_mat_0Vr, n_components = num_components)\n"
   ]
  },
  {
   "cell_type": "markdown",
   "metadata": {},
   "source": [
    "### Display SVD score maps and eigenvectors of jCPD data:"
   ]
  },
  {
   "cell_type": "code",
   "execution_count": null,
   "metadata": {
    "scrolled": false
   },
   "outputs": [],
   "source": [
    "# Visualize PCA of jCPD data\n",
    "\n",
    "U_SVD_jCPD = np.reshape(U_SVD_jCPD,(num_row, num_col, num_components))\n",
    "\n",
    "fig5 = plt.figure(figsize=(12,12))\n",
    "fig5.clf()\n",
    "fig5.set_facecolor('white')    \n",
    "\n",
    "n_components = 20\n",
    "\n",
    "for component in range(1, n_components+1):\n",
    "    \n",
    "\n",
    "    ax_SVD_plot = plt.subplot(5, 4, component)\n",
    "    image = ax_SVD_plot.imshow(U_SVD_jCPD[:,:,component-1], cmap=px.plot_utils.cmap_jet_white_center(), \n",
    "                               origin='upper', interpolation='none');\n",
    "    ax_SVD_plot.set_title('#'+str(component), fontsize = 10)\n",
    "    \n",
    "    fig5.colorbar(image, ax = ax_SVD_plot)\n",
    "    \n",
    "fig5.suptitle('PCA scores of jCPD data', weight = 'bold', fontsize = 12, y=1)\n",
    "fig5.tight_layout()\n",
    "\n",
    "\n",
    "\n",
    "fig55 = plt.figure(figsize=(12,12))\n",
    "fig55.clf()\n",
    "fig55.set_facecolor('white')\n",
    "\n",
    "for component in range(1, n_components+1):\n",
    "    ax_SVD_plot = plt.subplot(5, 4, component)\n",
    "    image = ax_SVD_plot.plot(bias_vec_w, V_SVD_jCPD[component-1,:],'.-');\n",
    "    ax_SVD_plot.set_title('#'+str(component), fontsize = 10)\n",
    "    ax_SVD_plot.set_xlabel('Write voltage [V]')\n",
    "\n",
    "\n",
    "fig55.suptitle('PCA eigenvectors of jCPD data', weight = 'bold', fontsize = 12, y=1);\n",
    "\n",
    "fig55.tight_layout()\n",
    "\n",
    "\n",
    "def on_save_button4_clicked(b):\n",
    "   \n",
    "    fig5.savefig(output_file_path+'\\PCA_jCPD_scores.png', format='png')\n",
    "    fig5.savefig(output_file_path+'\\PCA_jCPD_scores.eps', format='eps')\n",
    "    fig5.savefig(output_file_path+'\\PCA_jCPD_scores.tif', format='tif')\n",
    "    fig55.savefig(output_file_path+'\\PCA_jCPD_ev.png', format='png')\n",
    "    fig55.savefig(output_file_path+'\\PCA_jCPD_ev.eps', format='eps')\n",
    "    fig55.savefig(output_file_path+'\\PCA_jCPD_ev.tif', format='tif')\n",
    "\n",
    "    \n",
    "button4 = widgets.Button(description = 'Save figure')\n",
    "display(button4)\n",
    "button4.on_click(on_save_button4_clicked)\n",
    "\n",
    "\n"
   ]
  },
  {
   "cell_type": "markdown",
   "metadata": {},
   "source": [
    "### Display SVD score maps and eigenvectors of slope data:"
   ]
  },
  {
   "cell_type": "code",
   "execution_count": null,
   "metadata": {
    "scrolled": false
   },
   "outputs": [],
   "source": [
    "# Visualize PCA of slope data\n",
    "U_SVD_slope = np.reshape(U_SVD_slope,(num_row, num_col, num_components))\n",
    "\n",
    "fig6 = plt.figure(figsize=(12,12))\n",
    "fig6.clf()\n",
    "fig6.set_facecolor('white')    \n",
    "\n",
    "n_components = 20\n",
    "\n",
    "for component in range(1, n_components+1):\n",
    "    \n",
    "\n",
    "    ax_SVD_plot = plt.subplot(5, 4, component)\n",
    "    image = ax_SVD_plot.imshow(U_SVD_slope[:,:,component-1], cmap=px.plot_utils.cmap_jet_white_center(), \n",
    "                               origin='upper', interpolation='none');\n",
    "    ax_SVD_plot.set_title('#'+str(component), fontsize = 10)\n",
    "    fig6.colorbar(image, ax = ax_SVD_plot)\n",
    "    \n",
    "fig6.tight_layout()\n",
    "fig6.suptitle('PCA scores of slope data', weight = 'bold', fontsize = 12, y = 1);\n",
    "\n",
    "\n",
    "fig66 = plt.figure(figsize=(12,12))\n",
    "fig66.clf()\n",
    "fig66.set_facecolor('white')\n",
    "\n",
    "for component in range(1, n_components+1):\n",
    "    ax_SVD_plot = plt.subplot(5, 4, component)\n",
    "    image = ax_SVD_plot.plot(bias_vec_w, V_SVD_slope[component-1,:],'.-');\n",
    "    ax_SVD_plot.set_title('#'+str(component), fontsize = 10)\n",
    "    ax_SVD_plot.set_xlabel('Write voltage [V]')\n",
    "fig66.tight_layout()\n",
    "\n",
    "fig66.suptitle('PCA eigenvectors of slope data', weight = 'bold', fontsize = 12, y = 1);\n",
    "\n",
    "def on_save_button5_clicked(b):\n",
    "   \n",
    "    fig6.savefig(output_file_path+'\\PCA_slope_scores.png', format='png')\n",
    "    fig6.savefig(output_file_path+'\\PCA_slope_scores.eps', format='eps')\n",
    "    fig6.savefig(output_file_path+'\\PCA_slope_scores.tif', format='tif')\n",
    "    fig66.savefig(output_file_path+'\\PCA_slope_ev.png', format='png')\n",
    "    fig66.savefig(output_file_path+'\\PCA_slope_ev.eps', format='eps')\n",
    "    fig66.savefig(output_file_path+'\\PCA_slope_ev.tif', format='tif')\n",
    "\n",
    "    \n",
    "button5 = widgets.Button(description = 'Save figure')\n",
    "display(button5)\n",
    "button5.on_click(on_save_button5_clicked)"
   ]
  },
  {
   "cell_type": "markdown",
   "metadata": {},
   "source": [
    "### Display SVD score maps and eigenvectors of y-intercept data:"
   ]
  },
  {
   "cell_type": "code",
   "execution_count": null,
   "metadata": {
    "scrolled": false
   },
   "outputs": [],
   "source": [
    "# Visualize PCA of y-intercept data\n",
    "U_SVD_yintercept = np.reshape(U_SVD_yintercept,(num_row, num_col, num_components))\n",
    "\n",
    "fig7 = plt.figure(figsize=(12,12))\n",
    "fig7.clf()\n",
    "fig7.set_facecolor('white')    \n",
    "\n",
    "n_components = 20\n",
    "\n",
    "for component in range(1, n_components+1):\n",
    "    \n",
    "\n",
    "    ax_SVD_plot = plt.subplot(5, 4, component)\n",
    "    image = ax_SVD_plot.imshow(U_SVD_yintercept[:,:,component-1], cmap=px.plot_utils.cmap_jet_white_center(), \n",
    "                               origin='upper', interpolation='none');\n",
    "    ax_SVD_plot.set_title('#'+str(component), fontsize = 10)\n",
    "    \n",
    "    fig7.colorbar(image, ax = ax_SVD_plot)\n",
    "    \n",
    "\n",
    "fig7.tight_layout()\n",
    "\n",
    "fig7.suptitle('PCA scores of y-intercept data', weight = 'bold', fontsize = 12, y = 1);\n",
    "\n",
    "fig77 = plt.figure(figsize=(12,12))\n",
    "fig77.clf()\n",
    "fig77.set_facecolor('white')\n",
    "\n",
    "for component in range(1, n_components+1):\n",
    "    ax_SVD_plot = plt.subplot(5, 4, component)\n",
    "    image = ax_SVD_plot.plot(bias_vec_w, V_SVD_yintercept[component-1,:],'.-');\n",
    "    ax_SVD_plot.set_title('#'+str(component), fontsize = 10)\n",
    "    ax_SVD_plot.set_xlabel('Write voltage [V]')\n",
    "fig77.tight_layout()\n",
    "\n",
    "fig77.suptitle('PCA eigenvectors of y-intercept data', weight = 'bold', fontsize = 12, y = 1);\n",
    "\n",
    "def on_save_button6_clicked(b):\n",
    "   \n",
    "    fig7.savefig(output_file_path+'\\PCA_yintercept_scores.png', format='png')\n",
    "    fig7.savefig(output_file_path+'\\PCA_yintercept_scores.eps', format='eps')\n",
    "    fig7.savefig(output_file_path+'\\PCA_yintercept_scores.tif', format='tif')\n",
    "    fig77.savefig(output_file_path+'\\PCA_yintercept_ev.png', format='png')\n",
    "    fig77.savefig(output_file_path+'\\PCA_yintercept_ev.eps', format='eps')\n",
    "    fig77.savefig(output_file_path+'\\PCA_yintercept_ev.tif', format='tif')\n",
    "\n",
    "    \n",
    "button6 = widgets.Button(description = 'Save figure')\n",
    "display(button6)\n",
    "button6.on_click(on_save_button6_clicked)"
   ]
  },
  {
   "cell_type": "markdown",
   "metadata": {},
   "source": [
    "### Display SVD score maps and eigenvectors of response at 0 V read voltage:"
   ]
  },
  {
   "cell_type": "code",
   "execution_count": null,
   "metadata": {
    "scrolled": false
   },
   "outputs": [],
   "source": [
    "# Visualize PCA of response at 0 V read voltage\n",
    "U_SVD_resp0Vr = np.reshape(U_SVD_resp0Vr,(num_row, num_col, num_components))\n",
    "\n",
    "fig8 = plt.figure(figsize=(12,12))\n",
    "fig8.clf()\n",
    "fig8.set_facecolor('white')    \n",
    "\n",
    "n_components = 20\n",
    "\n",
    "\n",
    "for component in range(1, n_components+1):\n",
    "    \n",
    "\n",
    "    ax_SVD_plot = plt.subplot(5, 4, component)\n",
    "    image = ax_SVD_plot.imshow(U_SVD_resp0Vr[:,:,component-1], cmap=px.plot_utils.cmap_jet_white_center(), \n",
    "                               origin='upper', interpolation='none');\n",
    "    ax_SVD_plot.set_title('#'+str(component), fontsize = 10)\n",
    "    fig8.colorbar(image, ax = ax_SVD_plot)\n",
    "    \n",
    "\n",
    "fig8.tight_layout()\n",
    "\n",
    "fig8.suptitle('PCA scores of response at V$_{read}$ = 0 V', weight = 'bold', fontsize = 12, y = 1);\n",
    "\n",
    "fig88 = plt.figure(figsize=(12,12))\n",
    "fig88.clf()\n",
    "fig88.set_facecolor('white')\n",
    "\n",
    "for component in range(1, n_components+1):\n",
    "    ax_SVD_plot = plt.subplot(5, 4, component)\n",
    "    image = ax_SVD_plot.plot(bias_vec_w, V_SVD_resp0Vr[component-1,:],'.-');\n",
    "    ax_SVD_plot.set_xlabel('Write voltage [V]')\n",
    "    ax_SVD_plot.set_title('#'+str(component), fontsize = 10)\n",
    "fig88.tight_layout()\n",
    "\n",
    "fig88.suptitle('PCA eigenvectors of response at V$_{read}$ = 0 V', weight = 'bold', fontsize = 12, y = 1);\n",
    "\n",
    "def on_save_button7_clicked(b):\n",
    "   \n",
    "    fig8.savefig(output_file_path+'\\PCA_resp0V_scores.png', format='png')\n",
    "    fig8.savefig(output_file_path+'\\PCA_resp0V_scores.eps', format='eps')\n",
    "    fig8.savefig(output_file_path+'\\PCA_resp0V_scores.tif', format='tif')\n",
    "    fig88.savefig(output_file_path+'\\PCA_resp0V_ev.png', format='png')\n",
    "    fig88.savefig(output_file_path+'\\PCA_resp0V_ev.eps', format='eps')\n",
    "    fig88.savefig(output_file_path+'\\PCA_resp0V_ev.tif', format='tif')\n",
    "\n",
    "    \n",
    "button7 = widgets.Button(description = 'Save figure')\n",
    "display(button7)\n",
    "button7.on_click(on_save_button7_clicked)"
   ]
  },
  {
   "cell_type": "markdown",
   "metadata": {},
   "source": [
    "### Display SVD score maps and eigenvectors of raw data:"
   ]
  },
  {
   "cell_type": "code",
   "execution_count": null,
   "metadata": {
    "scrolled": false
   },
   "outputs": [],
   "source": [
    "# Visualize PCA of raw data\n",
    "S_mat = SVD_data['S'][:]\n",
    "U_mat = SVD_data['U'][:]\n",
    "V_mat = SVD_data['V'][:]\n",
    "\n",
    "n_components = min(40, S_mat.size)\n",
    "\n",
    "U_mat = np.reshape(U_mat,(num_row, num_col, n_components))\n",
    "\n",
    "fig4 = plt.figure(figsize=(12,20))\n",
    "fig4.clf()\n",
    "fig4.set_facecolor('white')    \n",
    "\n",
    "for component in range(1, n_components+1):\n",
    "    ax_SVD_plot = plt.subplot(10, 4, component)\n",
    "    \n",
    "    image = ax_SVD_plot.imshow(U_mat[:,:,component-1], \n",
    "                            cmap=px.plot_utils.cmap_jet_white_center(), \n",
    "                            origin='upper', interpolation='none');\n",
    "    ax_SVD_plot.set_title('#'+str(component), fontsize = 10)\n",
    "    fig4.colorbar(image, ax = ax_SVD_plot)\n",
    "    \n",
    "fig4.tight_layout()\n",
    "\n",
    "\n",
    "fig4.suptitle('PCA scores of raw data', weight = 'bold', fontsize = 12, y = 1);\n",
    "\n",
    "\n",
    "fig44 = plt.figure(figsize=(12,20))\n",
    "fig44.clf()\n",
    "fig44.set_facecolor('white')\n",
    "\n",
    "for component in range(1, n_components+1):\n",
    "    ax_SVD_plot = plt.subplot(10, 4, component)\n",
    "    image = ax_SVD_plot.plot(V_mat[component-1,:],'.-');\n",
    "    ax_SVD_plot.set_title('#'+str(component), fontsize = 10)\n",
    "fig44.tight_layout()\n",
    "\n",
    "fig44.suptitle('PCA eigenvectors of of raw data', weight = 'bold', fontsize = 12, y = 1);\n",
    "\n",
    "def on_save_button8_clicked(b):\n",
    "   \n",
    "    fig4.savefig(output_file_path+'\\PCA_rawdata_scores.png', format='png')\n",
    "    fig4.savefig(output_file_path+'\\PCA_rawdata_scores.eps', format='eps')\n",
    "    fig4.savefig(output_file_path+'\\PCA_rawdata_scores.tif', format='tif')\n",
    "    fig44.savefig(output_file_path+'\\PCA_rawdata_ev.png', format='png')\n",
    "    fig44.savefig(output_file_path+'\\PCA_rawdata_ev.eps', format='eps')\n",
    "    fig44.savefig(output_file_path+'\\PCA_rawdata_ev.tif', format='tif')\n",
    "\n",
    "    \n",
    "button8 = widgets.Button(description = 'Save figure')\n",
    "display(button8)\n",
    "button8.on_click(on_save_button8_clicked)"
   ]
  },
  {
   "cell_type": "markdown",
   "metadata": {},
   "source": [
    "# BEPS/ FORC viewer"
   ]
  },
  {
   "cell_type": "code",
   "execution_count": null,
   "metadata": {
    "scrolled": false
   },
   "outputs": [],
   "source": [
    "global count\n",
    "count = 0\n",
    "cycle = 0\n",
    "row = 0\n",
    "col = 0\n",
    "dc_step_write = 0\n",
    "step_chan = b'read_bias'\n",
    "\n",
    "guess_3d_data, success = px.hdf_utils.reshape_to_Ndims(h5_sho_fit)\n",
    "h5_sho_spec_inds = px.hdf_utils.getAuxData(h5_sho_fit, auxDataName='Spectroscopic_Indices')[0]\n",
    "h5_sho_spec_vals = px.hdf_utils.getAuxData(h5_sho_fit, auxDataName='Spectroscopic_Values')[0]\n",
    "\n",
    "spec_nd, _ = px.hdf_utils.reshape_to_Ndims(h5_sho_spec_inds, h5_spec=h5_sho_spec_inds)\n",
    "\n",
    "spec_nd, _ = px.hdf_utils.reshape_to_Ndims(h5_sho_spec_inds, h5_spec=h5_sho_spec_inds)\n",
    "# sho_spec_sort = get_sort_order(h5_sho_spec_inds)\n",
    "sho_spec_dims = np.array(spec_nd.shape[1:])\n",
    "sho_spec_labels = h5_sho_spec_inds.attrs['labels']\n",
    "\n",
    "h5_pos_inds = px.hdf_utils.getAuxData(h5_sho_fit, auxDataName='Position_Indices')[-1];\n",
    "pos_nd, _ = px.hdf_utils.reshape_to_Ndims(h5_pos_inds, h5_pos=h5_pos_inds)\n",
    "pos_dims = list(pos_nd.shape[:h5_pos_inds.shape[1]])\n",
    "pos_labels = h5_pos_inds.attrs['labels']\n",
    "\n",
    "# reshape to X, Y, step, all others\n",
    "spec_step_dim_ind = np.where(sho_spec_labels == step_chan)[0]\n",
    "step_dim_ind = len(pos_dims) + spec_step_dim_ind\n",
    "\n",
    "# move the step dimension to be the first after all position dimensions\n",
    "rest_sho_dim_order = list(range(len(pos_dims), len(guess_3d_data.shape)))\n",
    "rest_sho_dim_order.remove(step_dim_ind)\n",
    "new_order = list(range(len(pos_dims))) + step_dim_ind.tolist() + rest_sho_dim_order\n",
    "\n",
    "# Transpose the 3D dataset to this shape:\n",
    "sho_guess_Nd_1 = np.transpose(guess_3d_data, new_order)\n",
    "\n",
    "# Now move the step dimension to the front for the spec labels as well\n",
    "new_spec_order = list(range(len(sho_spec_labels)))\n",
    "new_spec_order.remove(spec_step_dim_ind)\n",
    "new_spec_order = spec_step_dim_ind.tolist() + new_spec_order\n",
    "\n",
    "# new_spec_labels = sho_spec_labels[new_spec_order]\n",
    "new_spec_dims = np.array(sho_spec_dims)[new_spec_order]\n",
    "\n",
    "# Now collapse all additional dimensions\n",
    "final_guess_shape = pos_dims + [new_spec_dims[0]] + [-1]\n",
    "sho_dset_collapsed = np.reshape(sho_guess_Nd_1, final_guess_shape)\n",
    "\n",
    "# Get the bias matrix:\n",
    "bias_mat, _ = px.hdf_utils.reshape_to_Ndims(h5_sho_spec_vals, h5_spec=h5_sho_spec_inds)\n",
    "bias_mat = np.transpose(bias_mat[spec_step_dim_ind].squeeze(), new_spec_order).reshape(sho_dset_collapsed.\n",
    "                                                                             shape[len(pos_dims):])\n",
    "bias_mat = bias_mat*high_voltage_amplf\n",
    "\n",
    "num_read_steps = sho_dset_collapsed.shape[1]\n",
    "num_write_steps = sho_dset_collapsed.shape[2]\n",
    "num_row = sho_dset_collapsed.shape[1]\n",
    "num_col = sho_dset_collapsed.shape[0]\n",
    "\n",
    "print(sho_dset_collapsed.shape)\n",
    "print('bias mat shape', bias_mat.shape)\n",
    "\n",
    "num_loops = bias_mat.shape[1]\n",
    "num_loops_h = int(num_loops/2)\n",
    "# plt.figure()\n",
    "# plt.plot(bias_mat[:,:]);\n",
    "\n",
    "\n",
    "\n",
    "# print(sho_dset_collapsed.attrs)\n",
    "# print(getattr(obj))\n",
    "\n",
    "amp_map = sho_dset_collapsed[:, :, dc_step_write, cycle]['Amplitude [V]']*1000\n",
    "phase_map = sho_dset_collapsed[:, :, dc_step_write, cycle]['Phase [rad]']\n",
    "frequency_map = sho_dset_collapsed[:, :, dc_step_write, cycle]['Frequency [Hz]']/1000\n",
    "Q_map = sho_dset_collapsed[:, :, dc_step_write, cycle]['Quality Factor']\n",
    "\n",
    "mixed_map = amp_map*np.cos(phase_map)\n",
    "mixed_mat_h = sho_dset_collapsed[:, :, :, :]['Amplitude [V]'] * np.cos(sho_dset_collapsed[:, :, :, :]['Phase [rad]'])*1000\n",
    "\n",
    "print('mixed shape = ', mixed_mat_h.shape)\n",
    "\n",
    "def make_figure_beps_forc(amp_map, phase_map, mixed_map, Q_map, frequency_map, mixed_mat_h, col, row, cycle, dc_step_write):\n",
    "    global fig_bf\n",
    "    fig_bf = plt.figure(figsize=(12,6))\n",
    "    fig_bf.clf()\n",
    "    fig_bf.set_facecolor('white')  \n",
    "    \n",
    "    \n",
    "    \n",
    "    ax_amp = plt.subplot(2, 3, 1)\n",
    "    img_a = ax_amp.imshow(amp_map, cmap=px.plot_utils.cmap_jet_white_center(), \n",
    "                          origin='upper', interpolation='none');\n",
    "    ax_amp.set_title('Amplitude [a.u.]', fontsize = 10)\n",
    "    fig_bf.colorbar(img_a, ax = ax_amp)\n",
    "\n",
    "    ax_phase = plt.subplot(2, 3, 2)\n",
    "    img_p = ax_phase.imshow(phase_map, cmap=px.plot_utils.cmap_jet_white_center(), \n",
    "                          origin='upper', interpolation='none', clim = [-3.5, 3.5]);\n",
    "    ax_phase.set_title('Phase [rad]', fontsize = 10)\n",
    "    fig_bf.colorbar(img_p, ax = ax_phase)\n",
    "\n",
    "    ax_m = plt.subplot(2, 3, 3)\n",
    "    img_m = ax_m.imshow(mixed_map, cmap=px.plot_utils.cmap_jet_white_center(), \n",
    "                          origin='upper', interpolation='none');\n",
    "    ax_m.set_title('Real component [a.u.]', fontsize = 10)\n",
    "    fig_bf.colorbar(img_m, ax = ax_m)\n",
    "\n",
    "    ax_q = plt.subplot(2, 3, 4)\n",
    "    img_q = ax_q.imshow(Q_map, cmap=px.plot_utils.cmap_jet_white_center(), \n",
    "                          origin='upper', interpolation='none');\n",
    "    ax_q.set_title('Quality factor', fontsize = 10)\n",
    "    fig_bf.colorbar(img_q, ax = ax_q)   \n",
    "\n",
    "    ax_f = plt.subplot(2, 3, 5)\n",
    "    img_f = ax_f.imshow(frequency_map, cmap=px.plot_utils.cmap_jet_white_center(), \n",
    "                          origin='upper', interpolation='none');\n",
    "    ax_f.set_title('Resonance frequency [kHz]', fontsize = 10)\n",
    "    fig_bf.colorbar(img_f, ax = ax_f) \n",
    "\n",
    "    ax_h = plt.subplot(2, 3, 6)\n",
    "    ax_h.plot(bias_mat[:,0:num_loops//2], mixed_mat_h[row, col, :, 0:num_loops//2],'-.', marker ='*')\n",
    "    ax_h.plot(bias_mat[:,num_loops_h:num_loops], mixed_mat_h[row, col, :, num_loops_h:num_loops],'.-')\n",
    "    ax_h.set_ylabel('Response [a.u.]')\n",
    "    ax_h.set_xlabel('Write voltage [V]')\n",
    "    ax_h.set_title('x = '+str(col)+' y = '+str(row), fontsize = 10)\n",
    "    \n",
    "    \n",
    "    fig_bf.suptitle('Step# = '+str(dc_step_write)+', cycle# = '+str(cycle)\n",
    "                    +', V$_{write}$ = '+str(bias_mat[dc_step_write, 0]) +' V'\n",
    "                   , fontsize = 12);\n",
    "    \n",
    "\n",
    "    fig_bf.tight_layout()\n",
    "    \n",
    "    plt.subplots_adjust(top = 0.9)\n",
    "\n",
    "make_figure_beps_forc(amp_map, phase_map, mixed_map, Q_map, frequency_map, mixed_mat_h, col, row, cycle, dc_step_write)\n",
    "    \n",
    "def update_beps_forc_plot(dc_step_write, cycle, col, row):\n",
    "       \n",
    "    amp_map = sho_dset_collapsed[:, :, dc_step_write, cycle]['Amplitude [V]']*1000\n",
    "    phase_map = sho_dset_collapsed[:, :, dc_step_write, cycle]['Phase [rad]']\n",
    "    frequency_map = sho_dset_collapsed[:, :, dc_step_write, cycle]['Frequency [Hz]']/1000\n",
    "    Q_map = sho_dset_collapsed[:, :, dc_step_write, cycle]['Quality Factor']\n",
    "    mixed_map = amp_map*np.cos(phase_map)\n",
    "    mixed_mat_h = sho_dset_collapsed[:, :, :, :]['Amplitude [V]'] * np.cos(sho_dset_collapsed[:, :, :, :]['Phase [rad]'])*1000\n",
    "\n",
    "    make_figure_beps_forc(amp_map, phase_map, mixed_map, Q_map, frequency_map, mixed_mat_h, col, row, cycle, dc_step_write)\n",
    "\n",
    "num_loops_h =num_loops//2-1\n",
    "\n",
    "dc_step_write_slider_bf = widgets.IntSlider(min = 0, max = num_write_steps-1, step = 1,value = 0,\n",
    "                                        description = 'Write step',continuous_update = False)\n",
    "cycle_slider = widgets.IntSlider(min = 2, max = num_loops-1, step = 1,value = 2,\n",
    "                                          description = 'Cycle', continuous_update = False)\n",
    "x_slider_bf  = widgets.IntSlider(min = 0, max = num_col-1,step = 1,value = 0,\n",
    "                             description='x',continuous_update = False)\n",
    "y_slider_bf  = widgets.IntSlider(min = 0,max = num_row-1,step = 1,value = 0, description = 'y',continuous_update = False)\n",
    "\n",
    "widgets.interact(update_beps_forc_plot, dc_step_write = dc_step_write_slider_bf, cycle = cycle_slider, \n",
    "                 col = x_slider_bf, row = y_slider_bf, **slider_dict); \n",
    "\n",
    "\n",
    "def on_save_button9_clicked(b):\n",
    "    global count\n",
    "    \n",
    "    fig_bf.savefig(output_file_path+'\\SHO_parms'+str(count)+'.png', format='png')\n",
    "    fig_bf.savefig(output_file_path+'\\SHO_parms'+str(count)+'.eps', format='eps')\n",
    "    fig_bf.savefig(output_file_path+'\\SHO_parms'+str(count)+'.tif', format='tif')\n",
    "    count+=1\n",
    "    \n",
    "button9 = widgets.Button(description = 'Save figure')\n",
    "display(button9)\n",
    "button9.on_click(on_save_button9_clicked)"
   ]
  },
  {
   "cell_type": "code",
   "execution_count": null,
   "metadata": {},
   "outputs": [],
   "source": [
    "amp_data = sho_dset_collapsed[:, :, :, :]['Amplitude [V]']*1000\n",
    "phase_data = sho_dset_collapsed[:, :, :, :]['Phase [rad]']\n",
    "\n",
    "amp_mean1 = np.nanmean(amp_data, axis = 0)\n",
    "amp_mean = np.nanmean(amp_mean1, axis = 0)\n",
    "\n",
    "phase_mean1 = np.nanmean(phase_data, axis = 0)\n",
    "phase_mean = np.nanmean(phase_mean1, axis = 0)\n",
    "\n",
    "mixed_mat_mean1 = np.nanmean(mixed_mat_h, axis = 0)\n",
    "mixed_mat_mean = np.nanmean(mixed_mat_mean1, axis = 0)\n",
    "\n",
    "fig_loops = plt.figure(figsize=(16,4))\n",
    "fig_loops.clf()\n",
    "fig_loops.set_facecolor('white')  \n",
    "\n",
    "ax_mixed = plt.subplot(1, 3, 1)\n",
    "img_a = ax_mixed.plot(bias_mat[:, 2:4], mixed_mat_mean[:, 2:4],'.-');\n",
    "ax_mixed.set_xlabel('DC voltage [V]', fontsize = 12)\n",
    "ax_mixed.set_ylabel('Mixed response [a.u.]', fontsize = 12)\n",
    "\n",
    "ax_phase = plt.subplot(1, 3, 2)\n",
    "img_c = ax_phase.plot(bias_mat[:,2:4], phase_mean[:, 2:4],'.-');\n",
    "ax_phase.set_xlabel('DC voltage [V]', fontsize = 12)\n",
    "ax_phase.set_ylabel('Phase [rad]', fontsize = 12)\n",
    "\n",
    "ax_amp = plt.subplot(1, 3, 3)\n",
    "img_b = ax_amp.plot(bias_mat[:,2:4], amp_mean[:,2:4],'.-');\n",
    "ax_amp.set_xlabel('DC voltage [V]', fontsize = 12)\n",
    "ax_amp.set_ylabel('Amplitude [a.u.]', fontsize = 12)\n",
    "\n",
    "def on_save_button10_clicked(b):\n",
    "    fig_loops.savefig(output_file_path+'\\Loops.png', format='png')\n",
    "    fig_loops.savefig(output_file_path+'\\Loops.eps', format='eps')\n",
    "    fig_loops.savefig(output_file_path+'\\Loops.tif', format='tif')\n",
    "    \n",
    "    \n",
    "button10 = widgets.Button(description = 'Save figure')\n",
    "display(button10)\n",
    "button10.on_click(on_save_button10_clicked)\n"
   ]
  },
  {
   "cell_type": "code",
   "execution_count": null,
   "metadata": {},
   "outputs": [],
   "source": [
    "# PCA on real component\n",
    "\n",
    "from sklearn.utils.extmath import randomized_svd\n",
    "\n",
    "\n",
    "mixed_mat_h[:, :, :, num_loops_h:num_loops]\n",
    "\n",
    "# resp_mat_0Vr = np.reshape(resp_mat_0Vr,(num_row*num_col, num_write_steps))\n",
    "# U_SVD_resp0Vr, S_SVD_resp0Vr, V_SVD_resp0Vr = randomized_svd(resp_mat_0Vr, n_components = num_components)"
   ]
  },
  {
   "cell_type": "code",
   "execution_count": null,
   "metadata": {},
   "outputs": [],
   "source": [
    "from matplotlib.widgets import Cursor\n",
    "import numpy as np\n",
    "import matplotlib.pyplot as plt\n",
    "\n",
    "\n",
    "fig = plt.figure(figsize=(8, 6))\n",
    "ax = fig.add_subplot(111)\n",
    "\n",
    "x, y = 4*(np.random.rand(2, 100) - .5)\n",
    "ax.plot(x, y, 'o')\n",
    "ax.set_xlim(-2, 2)\n",
    "ax.set_ylim(-2, 2)\n",
    "\n",
    "# set useblit = True on gtkagg for enhanced performance\n",
    "cursor = Cursor(ax, useblit=True, color='red', linewidth=2)\n",
    "\n",
    "plt.show()"
   ]
  },
  {
   "cell_type": "markdown",
   "metadata": {},
   "source": [
    "## Visualize the SHO results of BEline, BEPS and FORC data\n",
    "Here, we visualize the parameters for the SHO fits. BE-line (3D) data is visualized via simple spatial maps of the SHO parameters while more complex BEPS datasets (4+ dimensions) can be visualized using a simple interactive visualizer below. \n",
    "\n",
    "You can choose to visualize the guesses for SHO function or the final fit values from the first line of the cell below.\n",
    "\n",
    "Use the sliders below to inspect the BE response at any given location. "
   ]
  },
  {
   "cell_type": "code",
   "execution_count": null,
   "metadata": {
    "scrolled": false
   },
   "outputs": [],
   "source": [
    "use_sho_guess = False\n",
    "use_static_viz_func = False\n",
    "\n",
    "if use_sho_guess:\n",
    "    sho_dset = h5_sho_guess\n",
    "else:\n",
    "    sho_dset = h5_sho_fit\n",
    "\n",
    "if hdf.file.attrs['data_type'] == 'BELineData' or len(pos_dims) != 2:\n",
    "    use_static_viz_func = True\n",
    "    step_chan = None\n",
    "else:\n",
    "    if h5_main.parent.parent.attrs['VS_mode'] not in ['AC modulation mode with time reversal', \n",
    "                                                      'DC modulation mode']:\n",
    "        use_static_viz_func = True\n",
    "    else:\n",
    "        if h5_main.parent.parent.attrs['VS_mode'] == 'DC modulation mode':\n",
    "            step_chan = 'DC_Offset'\n",
    "        else:\n",
    "            step_chan = 'AC_Amplitude'\n",
    "if not use_static_viz_func:\n",
    "    try:\n",
    "        # use interactive visualization\n",
    "        px.be_viz_utils.jupyter_visualize_beps_sho(sho_dset, step_chan)\n",
    "    except:\n",
    "        print('There was a problem with the interactive visualizer')\n",
    "        use_static_viz_func = True\n",
    "if use_static_viz_func:\n",
    "    # show plots of SHO results vs. applied bias\n",
    "    px.be_viz_utils.visualize_sho_results(sho_dset, show_plots=True, \n",
    "                                        save_plots=False)"
   ]
  },
  {
   "cell_type": "code",
   "execution_count": null,
   "metadata": {},
   "outputs": [],
   "source": [
    "h5_sho_dset = sho_dset\n",
    "resp_func = None\n",
    "guess_3d_data, success = px.io.hdf_utils.reshape_to_Ndims(h5_sho_dset)\n",
    "\n",
    "h5_sho_spec_inds = px.io.hdf_utils.getAuxData(h5_sho_dset, 'Spectroscopic_Indices')[0]\n",
    "h5_sho_spec_vals = px.io.hdf_utils.getAuxData(h5_sho_dset, 'Spectroscopic_Values')[0]\n",
    "spec_nd, _ = px.io.hdf_utils.reshape_to_Ndims(h5_sho_spec_inds, h5_spec=h5_sho_spec_inds)\n",
    "# sho_spec_sort = get_sort_order(h5_sho_spec_inds)\n",
    "sho_spec_dims = np.array(spec_nd.shape[1:])\n",
    "sho_spec_labels = h5_sho_spec_inds.attrs['labels']\n",
    "\n",
    "h5_pos_inds = px.io.hdf_utils.getAuxData(h5_sho_dset, auxDataName='Position_Indices')[-1]\n",
    "pos_nd, _ = px.io.hdf_utils.reshape_to_Ndims(h5_pos_inds, h5_pos=h5_pos_inds)\n",
    "print(pos_nd.shape)\n",
    "pos_dims = list(pos_nd.shape[:h5_pos_inds.shape[1]])\n",
    "print(pos_dims)\n",
    "pos_labels = h5_pos_inds.attrs['labels']\n",
    "print(pos_labels)\n",
    "\n",
    "# reshape to X, Y, step, all others\n",
    "spec_step_dim_ind = np.argwhere(sho_spec_labels == step_chan)[0][0]\n",
    "step_dim_ind = len(pos_dims) + spec_step_dim_ind\n",
    "\n",
    "# move the step dimension to be the first after all position dimensions\n",
    "rest_sho_dim_order = list(range(len(pos_dims), len(guess_3d_data.shape)))\n",
    "rest_sho_dim_order.remove(step_dim_ind)\n",
    "new_order = list(range(len(pos_dims))) + [step_dim_ind] + rest_sho_dim_order\n",
    "\n",
    "# Transpose the 3D dataset to this shape:\n",
    "sho_guess_Nd_1 = np.transpose(guess_3d_data, new_order)\n",
    "\n",
    "# Now move the step dimension to the front for the spec labels as well\n",
    "new_spec_order = list(range(len(sho_spec_labels)))\n",
    "new_spec_order.remove(spec_step_dim_ind)\n",
    "new_spec_order = [spec_step_dim_ind] + new_spec_order\n",
    "\n",
    "# new_spec_labels = sho_spec_labels[new_spec_order]\n",
    "new_spec_dims = np.array(sho_spec_dims)[new_spec_order]\n",
    "\n",
    "# Now collapse all additional dimensions\n",
    "final_guess_shape = pos_dims + [new_spec_dims[0]] + [-1]\n",
    "sho_dset_collapsed = np.reshape(sho_guess_Nd_1, final_guess_shape)\n",
    "\n",
    "# Get the bias matrix:\n",
    "bias_mat, _ = px.io.hdf_utils.reshape_to_Ndims(h5_sho_spec_vals, h5_spec=h5_sho_spec_inds)\n",
    "bias_mat = np.transpose(bias_mat[spec_step_dim_ind], new_spec_order).reshape(sho_dset_collapsed.shape[len(pos_dims):])\n",
    "\n",
    "# This is just the visualizer:\n",
    "sho_quantity = 'Amplitude [V]'\n",
    "step_ind = 0\n",
    "row_ind = 1\n",
    "col_ind = 1\n",
    "\n",
    "def dc_spectroscopy_func(resp_vec):\n",
    "    return resp_vec['Amplitude [V]'] * np.cos(resp_vec['Phase [rad]']) * 1E+3\n",
    "\n",
    "def ac_spectroscopy_func(resp_vec):\n",
    "    return resp_vec['Amplitude [V]']\n",
    "\n",
    "if resp_func is None:\n",
    "    if step_chan == 'DC_Offset':\n",
    "        resp_func = dc_spectroscopy_func\n",
    "        resp_label = 'A cos($\\phi$) (a. u.)'\n",
    "    else:\n",
    "        resp_func = ac_spectroscopy_func\n",
    "        resp_label = 'Amplitude (a. u.)'\n",
    "\n",
    "spatial_map = sho_dset_collapsed[:, :, step_ind, 0][sho_quantity]\n",
    "resp_vec = sho_dset_collapsed[row_ind, col_ind, :, :]\n",
    "resp_vec = resp_func(resp_vec)"
   ]
  },
  {
   "cell_type": "markdown",
   "metadata": {},
   "source": [
    "## Fit loops to a function\n",
    "This is applicable only to DC voltage spectroscopy datasets from BEPS. The PFM hysteresis loops in this dataset will be projected to maximize the loop area and then fitted to a function.\n",
    "\n",
    "Note: This computation generally takes a while for reasonably sized datasets."
   ]
  },
  {
   "cell_type": "code",
   "execution_count": null,
   "metadata": {},
   "outputs": [],
   "source": [
    "# Do the Loop Fitting on the SHO Fit dataset\n",
    "loop_success = False\n",
    "h5_loop_group = px.hdf_utils.findH5group(h5_sho_fit, 'Loop_Fit')\n",
    "if len(h5_loop_group) == 0:\n",
    "    try:\n",
    "        loop_fitter = px.BELoopModel(h5_sho_fit, variables=['read_bias'], parallel=True)\n",
    "        print('No loop fits found. Fitting now....')\n",
    "        h5_loop_guess = loop_fitter.do_guess(processors=max_cores, max_mem=max_mem)\n",
    "        h5_loop_fit = loop_fitter.do_fit(processors=max_cores, max_mem=max_mem)\n",
    "        loop_success = True\n",
    "    except ValueError:\n",
    "        print('Loop fitting is applicable only to DC spectroscopy datasets!')\n",
    "        raise\n",
    "else:\n",
    "    loop_success = True\n",
    "    print('Taking previously computed loop fits')\n",
    "    h5_loop_guess = h5_loop_group[-1]['Guess']\n",
    "    h5_loop_fit = h5_loop_group[-1]['Fit']"
   ]
  },
  {
   "cell_type": "markdown",
   "metadata": {},
   "source": [
    "## Prepare datasets for visualization"
   ]
  },
  {
   "cell_type": "code",
   "execution_count": null,
   "metadata": {},
   "outputs": [],
   "source": [
    "# Prepare some variables for plotting loops fits and guesses\n",
    "# Plot the Loop Guess and Fit Results\n",
    "if loop_success:\n",
    "    h5_projected_loops = h5_loop_guess.parent['Projected_Loops']\n",
    "    h5_proj_spec_inds = px.hdf_utils.getAuxData(h5_projected_loops, \n",
    "                                                auxDataName='Spectroscopic_Indices')[-1]\n",
    "    h5_proj_spec_vals = px.hdf_utils.getAuxData(h5_projected_loops, \n",
    "                                                auxDataName='Spectroscopic_Values')[-1]\n",
    "\n",
    "    # reshape the vdc_vec into DC_step by Loop\n",
    "    sort_order = px.hdf_utils.get_sort_order(h5_proj_spec_inds)\n",
    "    dims = px.hdf_utils.get_dimensionality(h5_proj_spec_inds[()], \n",
    "                                           sort_order[::-1])\n",
    "    vdc_vec = np.reshape(h5_proj_spec_vals[h5_proj_spec_vals.attrs['read_bias']], dims).T\n",
    "\n",
    "    #Also reshape the projected loops to Positions-DC_Step-Loop\n",
    "    # Also reshape the projected loops to Positions-DC_Step-Loop\n",
    "    proj_nd, _ = px.hdf_utils.reshape_to_Ndims(h5_projected_loops)\n",
    "    proj_3d = np.reshape(proj_nd, [h5_projected_loops.shape[0], \n",
    "                                   proj_nd.shape[2], -1])"
   ]
  },
  {
   "cell_type": "markdown",
   "metadata": {},
   "source": [
    "## Visualize Loop fits"
   ]
  },
  {
   "cell_type": "code",
   "execution_count": null,
   "metadata": {},
   "outputs": [],
   "source": [
    "use_static_plots = False\n",
    "if loop_success:\n",
    "    if not use_static_plots:\n",
    "        try:\n",
    "            px.be_viz_utils.jupyter_visualize_beps_loops(h5_projected_loops, h5_loop_guess, h5_loop_fit)\n",
    "        except:\n",
    "            print('There was a problem with the interactive visualizer')\n",
    "            use_static_plots = True\n",
    "    if use_static_plots:\n",
    "        for iloop in range(h5_loop_guess.shape[1]):\n",
    "            fig, ax = px.be_viz_utils.plot_loop_guess_fit(vdc_vec[:, iloop], proj_3d[:, :, iloop], \n",
    "                                          h5_loop_guess[:, iloop], h5_loop_fit[:, iloop],\n",
    "                                          title='Loop {} - All Positions'.format(iloop))"
   ]
  },
  {
   "cell_type": "markdown",
   "metadata": {},
   "source": [
    "## Save and close\n",
    "* Save the .h5 file that we are working on by closing it. <br>\n",
    "* Also, consider exporting this notebook as a notebook or an html file. <br> To do this, go to File >> Download as >> HTML\n",
    "* Finally consider saving this notebook if necessary"
   ]
  },
  {
   "cell_type": "code",
   "execution_count": null,
   "metadata": {},
   "outputs": [],
   "source": [
    "hdf.close()"
   ]
  }
 ],
 "metadata": {
  "anaconda-cloud": {},
  "kernelspec": {
   "display_name": "Python 3",
   "language": "python",
   "name": "python3"
  },
  "language_info": {
   "codemirror_mode": {
    "name": "ipython",
    "version": 3
   },
   "file_extension": ".py",
   "mimetype": "text/x-python",
   "name": "python",
   "nbconvert_exporter": "python",
   "pygments_lexer": "ipython3",
   "version": "3.7.3"
  },
  "widgets": {
   "state": {
    "004b75b3c0a9453ca262e88bcffe6320": {
     "views": [
      {
       "cell_index": 32
      }
     ]
    },
    "013ef43338834ac39d1f55e0551f215f": {
     "views": [
      {
       "cell_index": 20
      }
     ]
    },
    "03731bbe4e7d465c87b35c0b214a490b": {
     "views": [
      {
       "cell_index": 20
      }
     ]
    },
    "0c2522aad7044463a20d86643b11210c": {
     "views": [
      {
       "cell_index": 22
      }
     ]
    },
    "0da6103db52140148c92ce3ec3c92ea7": {
     "views": [
      {
       "cell_index": 34
      }
     ]
    },
    "0df0b276e40145aeab5e3202f50e2b9a": {
     "views": [
      {
       "cell_index": 22
      }
     ]
    },
    "0f2d2083cd374bd7b06ffd7cf3dc7c79": {
     "views": [
      {
       "cell_index": 22
      }
     ]
    },
    "0fba4a2efa3f4c0cacd61f7949b828d0": {
     "views": [
      {
       "cell_index": 48
      }
     ]
    },
    "106ba6b9a2894013ad1ff2fa2aa47685": {
     "views": [
      {
       "cell_index": 20
      }
     ]
    },
    "1091c7898b69459f82d77f44c0dbe692": {
     "views": [
      {
       "cell_index": 27
      }
     ]
    },
    "1245a5ae807749d8affe00b6e8a06815": {
     "views": [
      {
       "cell_index": 22
      }
     ]
    },
    "16c05b12e4384404a5bff00c8f070e82": {
     "views": [
      {
       "cell_index": 22
      }
     ]
    },
    "18390a7af99d4e4490908f7f8e2ccb64": {
     "views": [
      {
       "cell_index": 22
      }
     ]
    },
    "1887b799056c41ddb614014b0b6b3052": {
     "views": [
      {
       "cell_index": 20
      }
     ]
    },
    "1b168bdf1dfc4e029a7bcdfaf5287d9e": {
     "views": [
      {
       "cell_index": 26
      }
     ]
    },
    "1c8b17397e97460a912c240618cce55b": {
     "views": [
      {
       "cell_index": 22
      }
     ]
    },
    "1e3a3abddfd44d44b3d8b35f614e4f6d": {
     "views": [
      {
       "cell_index": 22
      }
     ]
    },
    "1eff84f3a0644385a260536c132b5350": {
     "views": [
      {
       "cell_index": 20
      }
     ]
    },
    "1f3b6953cd83422ba4536fda5217fb0f": {
     "views": [
      {
       "cell_index": 22
      }
     ]
    },
    "1f57be14625349f88520479895455a09": {
     "views": [
      {
       "cell_index": 20
      }
     ]
    },
    "1fb9b7b1b1fe435aa6cd66e8ce7fc873": {
     "views": [
      {
       "cell_index": 22
      }
     ]
    },
    "200ee1d6a3604138b8ab81673c6d2437": {
     "views": [
      {
       "cell_index": 20
      }
     ]
    },
    "229081689cac459288eb97c2402e4647": {
     "views": [
      {
       "cell_index": 22
      }
     ]
    },
    "2333ee6e2b3041c1b14c4839f213a35f": {
     "views": [
      {
       "cell_index": 34
      }
     ]
    },
    "24683f19881944aa9e159aa3cd212b26": {
     "views": [
      {
       "cell_index": 22
      }
     ]
    },
    "252296babdb140b9822e152a621d3c6f": {
     "views": [
      {
       "cell_index": 20
      }
     ]
    },
    "253c6da489d24de9b9e9c3f57c834f8e": {
     "views": [
      {
       "cell_index": 22
      }
     ]
    },
    "27cec2a4bcf1481ab5fa76546685d313": {
     "views": [
      {
       "cell_index": 22
      }
     ]
    },
    "27ea4625d1264657abf1335f10309d48": {
     "views": [
      {
       "cell_index": 22
      }
     ]
    },
    "2a5f6a0c370e491f805769f82b16f1f5": {
     "views": [
      {
       "cell_index": 22
      }
     ]
    },
    "2c326a8d9c014475bb08a96f2d48ec6b": {
     "views": [
      {
       "cell_index": 20
      }
     ]
    },
    "2d978ede735d4a008c6d6939e7af0d34": {
     "views": [
      {
       "cell_index": 20
      }
     ]
    },
    "2eba2773d5a3439bab45d7c75633b80a": {
     "views": [
      {
       "cell_index": 22
      }
     ]
    },
    "2f08fd75283d4c9bbbb2f585c18c2b84": {
     "views": [
      {
       "cell_index": 22
      }
     ]
    },
    "2f5edd3f8d164672b6253acd481bab5c": {
     "views": [
      {
       "cell_index": 22
      }
     ]
    },
    "2fd188ee4d81451797c14a58f6d70013": {
     "views": [
      {
       "cell_index": 22
      }
     ]
    },
    "3226cf4e6c214735a3319a94b62452d9": {
     "views": [
      {
       "cell_index": 20
      }
     ]
    },
    "32c72b404c3540c3b9ee8321eb549227": {
     "views": [
      {
       "cell_index": 22
      }
     ]
    },
    "334527a619684c94ac23c0bb3927e7e2": {
     "views": [
      {
       "cell_index": 20
      }
     ]
    },
    "33c2a2056b4a48a2b4caf5416d6c15de": {
     "views": [
      {
       "cell_index": 22
      }
     ]
    },
    "3a11fd566d1243f88c7a1d9f9568346e": {
     "views": [
      {
       "cell_index": 22
      }
     ]
    },
    "3c2e566d0c5047c9bbb376a386566811": {
     "views": [
      {
       "cell_index": 20
      }
     ]
    },
    "3c6531bf8739465b9e278aa147b8bce0": {
     "views": [
      {
       "cell_index": 22
      }
     ]
    },
    "3c6b79158906476ba2ae69eb3626ef29": {
     "views": [
      {
       "cell_index": 20
      }
     ]
    },
    "3cd3856d1bec4cbca42bfdb385eac13b": {
     "views": [
      {
       "cell_index": 22
      }
     ]
    },
    "3ea78f55d0c24b39a8604fc5ae7fc470": {
     "views": [
      {
       "cell_index": 22
      }
     ]
    },
    "3fa3e0756a0a4858a044c50eb96655a4": {
     "views": [
      {
       "cell_index": 22
      }
     ]
    },
    "3fd4c31c30104f54bd0e36b599f1b0d7": {
     "views": [
      {
       "cell_index": 20
      }
     ]
    },
    "426f6d47a8b84e7ca4babb28232f785c": {
     "views": [
      {
       "cell_index": 27
      }
     ]
    },
    "441862466c3542d9b8614d285acc2d89": {
     "views": [
      {
       "cell_index": 33
      }
     ]
    },
    "4440c4795e124ebbbc97d48d20082a4b": {
     "views": [
      {
       "cell_index": 22
      }
     ]
    },
    "45d76a9ccb5341f58a4e940b81d72ad6": {
     "views": [
      {
       "cell_index": 22
      }
     ]
    },
    "466cf44264604b1ca750ddf1212e2ee8": {
     "views": [
      {
       "cell_index": 34
      }
     ]
    },
    "47667b6638864a2387eab723e4872a8b": {
     "views": [
      {
       "cell_index": 50
      }
     ]
    },
    "48db59f08e0e47859b0ee0edebed06b5": {
     "views": [
      {
       "cell_index": 22
      }
     ]
    },
    "49e68a65d3c34a8aa0858798e5116098": {
     "views": [
      {
       "cell_index": 22
      }
     ]
    },
    "4a08b03856224646ae6fc06386762f7d": {
     "views": [
      {
       "cell_index": 20
      }
     ]
    },
    "4b0eeeae2b384f59b72c7ec06f9c471a": {
     "views": [
      {
       "cell_index": 20
      }
     ]
    },
    "4c80135c71cf499fbc2be1eb7b3039ca": {
     "views": [
      {
       "cell_index": 22
      }
     ]
    },
    "4e34b568636f48ca8da39e6023d7b946": {
     "views": [
      {
       "cell_index": 20
      }
     ]
    },
    "50a8632de0c94ca981418a62c43b229d": {
     "views": [
      {
       "cell_index": 22
      }
     ]
    },
    "518ad177ac774c97b1bf788dfa362e87": {
     "views": [
      {
       "cell_index": 22
      }
     ]
    },
    "52e1cd22d4cc46f78b1bdb199b30b32e": {
     "views": [
      {
       "cell_index": 22
      }
     ]
    },
    "55545d47ba384198aad1cd7808448c7f": {
     "views": [
      {
       "cell_index": 22
      }
     ]
    },
    "57516f91b20b4797a77235b67e315d07": {
     "views": [
      {
       "cell_index": 22
      }
     ]
    },
    "5759b7e6994a44219ce213e406eb7982": {
     "views": [
      {
       "cell_index": 22
      }
     ]
    },
    "58548d5bb6e041da91fc1e34d67497c8": {
     "views": [
      {
       "cell_index": 24
      }
     ]
    },
    "59b02714a16e4aea94a8831867dff71e": {
     "views": [
      {
       "cell_index": 22
      }
     ]
    },
    "5a2a9080cd404793a247ef01c74a890a": {
     "views": [
      {
       "cell_index": 22
      }
     ]
    },
    "5a5f2318950d49978dec3511cb4b00dc": {
     "views": [
      {
       "cell_index": 22
      }
     ]
    },
    "5adc30a3eb994a6493a249a223ee3eaa": {
     "views": [
      {
       "cell_index": 28
      }
     ]
    },
    "5da98c3f88a9498d9bb77f208323c6fa": {
     "views": [
      {
       "cell_index": 33
      }
     ]
    },
    "5f140d874f0a4c7f86ccbb9d8f181f87": {
     "views": [
      {
       "cell_index": 22
      }
     ]
    },
    "5fcdc1b98d9a46b3b3698348ff309f76": {
     "views": [
      {
       "cell_index": 20
      }
     ]
    },
    "601a1d573ef54f3da0207940088436fc": {
     "views": [
      {
       "cell_index": 22
      }
     ]
    },
    "61923f2aa2014259ae563b97a8f030ba": {
     "views": [
      {
       "cell_index": 22
      }
     ]
    },
    "6215fec2288b4f8d908226db6f432b9f": {
     "views": [
      {
       "cell_index": 22
      }
     ]
    },
    "62705169cbc74b3eab7f8c50ea8c52fe": {
     "views": [
      {
       "cell_index": 20
      }
     ]
    },
    "640653936f65487988404f6d426da533": {
     "views": [
      {
       "cell_index": 20
      }
     ]
    },
    "6479f5cb4cf04daca716b0df1e643186": {
     "views": [
      {
       "cell_index": 22
      }
     ]
    },
    "6781d0b6a8e84ab691cd021175acefb3": {
     "views": [
      {
       "cell_index": 22
      }
     ]
    },
    "6820c0bb148c4cf9b2b3e2babf9d4876": {
     "views": [
      {
       "cell_index": 22
      }
     ]
    },
    "6a30ab4b402849a19a5ab69a0425d99f": {
     "views": [
      {
       "cell_index": 22
      }
     ]
    },
    "6a829084d30c43a990cf429ef467c5f5": {
     "views": [
      {
       "cell_index": 20
      }
     ]
    },
    "6aedfc25a0194d0ba4aa69bef246298c": {
     "views": [
      {
       "cell_index": 36
      }
     ]
    },
    "6b977337480340bea29cb7393cc86adf": {
     "views": [
      {
       "cell_index": 26
      }
     ]
    },
    "6f1267616b1442808bc8e28eaf990b9a": {
     "views": [
      {
       "cell_index": 22
      }
     ]
    },
    "745d38ec65f444e08b73f49bb4d5f19d": {
     "views": [
      {
       "cell_index": 12
      }
     ]
    },
    "75db983b508b44608fec25c6217f85f8": {
     "views": [
      {
       "cell_index": 22
      }
     ]
    },
    "76f8e33e84b24376891f86fce56e610b": {
     "views": [
      {
       "cell_index": 27
      }
     ]
    },
    "772c140a0c2040b4a21bde7f61617789": {
     "views": [
      {
       "cell_index": 22
      }
     ]
    },
    "78860c1ca5ba4daf8c1f8aa9cdf9886d": {
     "views": [
      {
       "cell_index": 22
      }
     ]
    },
    "78955f0364994a3c971afd1863a05b3a": {
     "views": [
      {
       "cell_index": 22
      }
     ]
    },
    "7cc6aa3950504a1abb7bb1fdaed4e8b4": {
     "views": [
      {
       "cell_index": 20
      }
     ]
    },
    "7dd37cbc0bb34505b9b8997ac8602da9": {
     "views": [
      {
       "cell_index": 34
      }
     ]
    },
    "81ea2b5c960741218ce783af9cc518b9": {
     "views": [
      {
       "cell_index": 22
      }
     ]
    },
    "8285c6714ca041f1a2294d40f8a744b5": {
     "views": [
      {
       "cell_index": 22
      }
     ]
    },
    "83148171a8254f2bba18f2825784d5cb": {
     "views": [
      {
       "cell_index": 30
      }
     ]
    },
    "835480b7080f4c739c41cf4d5ed2fc2c": {
     "views": [
      {
       "cell_index": 22
      }
     ]
    },
    "84f40717e9c649e5bbabaa85cf0ae263": {
     "views": [
      {
       "cell_index": 22
      }
     ]
    },
    "84f62ae372fd4442b5b1f43807e1f31c": {
     "views": [
      {
       "cell_index": 20
      }
     ]
    },
    "870b7b8a3fa24a4ba6d94d618fa3f3e3": {
     "views": [
      {
       "cell_index": 22
      }
     ]
    },
    "8719d35335554d098f37003a3e4d7266": {
     "views": [
      {
       "cell_index": 22
      }
     ]
    },
    "87f7c00bc4e24d46aa9e7d168574f79e": {
     "views": [
      {
       "cell_index": 20
      }
     ]
    },
    "8b0ef9eac4e24702b6f2fd4a94810f56": {
     "views": [
      {
       "cell_index": 27
      }
     ]
    },
    "8c0f848a076a41d89ccb59d04113fde2": {
     "views": [
      {
       "cell_index": 22
      }
     ]
    },
    "8cbe81dbfe0042aab68990f5f727e57f": {
     "views": [
      {
       "cell_index": 32
      }
     ]
    },
    "8ea4ba4cfd1c44c085b929fda24c9b3c": {
     "views": [
      {
       "cell_index": 22
      }
     ]
    },
    "8f637079f4eb44ed93e69a76ad7c8446": {
     "views": [
      {
       "cell_index": 22
      }
     ]
    },
    "8fd6b3062f27485d85b170e5dc493bd1": {
     "views": [
      {
       "cell_index": 20
      }
     ]
    },
    "90fc2cd4bc5a4bc9933eefe6eade6d73": {
     "views": [
      {
       "cell_index": 20
      }
     ]
    },
    "936a08daf35148fb9fd86dad1e54ad70": {
     "views": [
      {
       "cell_index": 20
      }
     ]
    },
    "943beb03286741f4ada739f7d3bfbf8f": {
     "views": [
      {
       "cell_index": 27
      }
     ]
    },
    "96323125acc0426281e0a3d62847dd46": {
     "views": [
      {
       "cell_index": 20
      }
     ]
    },
    "9710a09cec7c42ad89a94d5eb3458949": {
     "views": [
      {
       "cell_index": 22
      }
     ]
    },
    "9985eed09f37449fa1f1c8f245f4085f": {
     "views": [
      {
       "cell_index": 22
      }
     ]
    },
    "9a77a5c0079d42c5b2ccde0034423cad": {
     "views": [
      {
       "cell_index": 22
      }
     ]
    },
    "9abef5c8b2d54b7cbe1f7a6b71949bd9": {
     "views": [
      {
       "cell_index": 22
      }
     ]
    },
    "9b35d7483a93479da1b9f36593b7d564": {
     "views": [
      {
       "cell_index": 34
      }
     ]
    },
    "9f98b4f217ca4e68b9629b09bb30709d": {
     "views": [
      {
       "cell_index": 22
      }
     ]
    },
    "a319db55898f48c98a1a41f056b214aa": {
     "views": [
      {
       "cell_index": 22
      }
     ]
    },
    "a4132c170ec7479c8e19f0001aee322c": {
     "views": [
      {
       "cell_index": 22
      }
     ]
    },
    "a6000ebbbd6f42b2821a8e928102e349": {
     "views": [
      {
       "cell_index": 20
      }
     ]
    },
    "a85c126a09884a349ca65e98fdb6a175": {
     "views": [
      {
       "cell_index": 22
      }
     ]
    },
    "a8b860980e2f4c539fe2ecf6609de434": {
     "views": [
      {
       "cell_index": 20
      }
     ]
    },
    "aa32b3e3313e494899ce0e0d6d64c161": {
     "views": [
      {
       "cell_index": 22
      }
     ]
    },
    "ab22b74afdb246b5bf31c5d0d2c24eae": {
     "views": [
      {
       "cell_index": 22
      }
     ]
    },
    "ad5a9688818140fcb5d11d72e8448197": {
     "views": [
      {
       "cell_index": 20
      }
     ]
    },
    "ad888acb36d849bd9cecf53e7af0b263": {
     "views": [
      {
       "cell_index": 22
      }
     ]
    },
    "afbd23209f284c1e9f47a9925617b1e4": {
     "views": [
      {
       "cell_index": 22
      }
     ]
    },
    "b018aeb25f774f3e84edd16671e7448d": {
     "views": [
      {
       "cell_index": 19
      }
     ]
    },
    "b1dd9ef912ab40e4939dbbc8296d99df": {
     "views": [
      {
       "cell_index": 22
      }
     ]
    },
    "b2e873efb17d456b9e88099444f8c49d": {
     "views": [
      {
       "cell_index": 22
      }
     ]
    },
    "b3a3132aa5904950953e77668be69239": {
     "views": [
      {
       "cell_index": 20
      }
     ]
    },
    "b587b62ed2674093ac7547c28322dade": {
     "views": [
      {
       "cell_index": 22
      }
     ]
    },
    "b7aff4785f1a48919c6202e28194cd8a": {
     "views": [
      {
       "cell_index": 22
      }
     ]
    },
    "b7b4e90ac1c946f0b2a0a1a3944e3a72": {
     "views": [
      {
       "cell_index": 20
      }
     ]
    },
    "bae378b5ee894a82b3d0a01cd6226292": {
     "views": [
      {
       "cell_index": 26
      }
     ]
    },
    "c0818ccd1f224489b76a8e384050e05d": {
     "views": [
      {
       "cell_index": 22
      }
     ]
    },
    "c140980fff33438295f215f4a14bf1a0": {
     "views": [
      {
       "cell_index": 33
      }
     ]
    },
    "c1ae6f91f28a4979adc60164ae3c23a9": {
     "views": [
      {
       "cell_index": 20
      }
     ]
    },
    "c4bf1a0b9f5c4ae385c4f29ca2500930": {
     "views": [
      {
       "cell_index": 20
      }
     ]
    },
    "c53ed2724b494dd49705edd102548e1e": {
     "views": [
      {
       "cell_index": 32
      }
     ]
    },
    "ca651c48b785444db4843482c5c0128f": {
     "views": [
      {
       "cell_index": 20
      }
     ]
    },
    "cc8a22026fe94604ab8edf7bfc9d8ea4": {
     "views": [
      {
       "cell_index": 22
      }
     ]
    },
    "ceabcdc115244af88db6b71fb5541653": {
     "views": [
      {
       "cell_index": 36
      }
     ]
    },
    "cf01b46ee4eb47deab9fe18393b056bb": {
     "views": [
      {
       "cell_index": 22
      }
     ]
    },
    "d5624ebebcee48cdadabb67c904e06bb": {
     "views": [
      {
       "cell_index": 22
      }
     ]
    },
    "da7c461ef7014ae2bbf2027f8e096974": {
     "views": [
      {
       "cell_index": 22
      }
     ]
    },
    "daa28c65a80f43c8a73415376bdb4c0f": {
     "views": [
      {
       "cell_index": 22
      }
     ]
    },
    "db4ec01f773e4aafa9cb6f218273d987": {
     "views": [
      {
       "cell_index": 20
      }
     ]
    },
    "ddab1ab606344b008646a203ae843dad": {
     "views": [
      {
       "cell_index": 22
      }
     ]
    },
    "e13e4e9f39184699bb11f8c1cd3cdae4": {
     "views": [
      {
       "cell_index": 52
      }
     ]
    },
    "e1597335a1d44d8eb26e983ac939deeb": {
     "views": [
      {
       "cell_index": 22
      }
     ]
    },
    "e5e52ee5548c4aaf9ba824c4c82916e8": {
     "views": [
      {
       "cell_index": 34
      }
     ]
    },
    "e655206f0ed04bc9aeafb7fef58a3405": {
     "views": [
      {
       "cell_index": 46
      }
     ]
    },
    "e95b6a5beb194275979b5e71c9982243": {
     "views": [
      {
       "cell_index": 33
      }
     ]
    },
    "e9fb83d24e1b4b24b32022998a54c3d7": {
     "views": [
      {
       "cell_index": 22
      }
     ]
    },
    "ec619dc0e5a64620b425b3c7ec149c40": {
     "views": [
      {
       "cell_index": 27
      }
     ]
    },
    "ed220ad67e454d999b2da008a9df9771": {
     "views": [
      {
       "cell_index": 22
      }
     ]
    },
    "ed2ebc25e05246568c1477da2b97bc7a": {
     "views": [
      {
       "cell_index": 22
      }
     ]
    },
    "f0bd4c54c7a34f8fadf2443e6503e908": {
     "views": [
      {
       "cell_index": 22
      }
     ]
    },
    "f11b353d940642c49c91cc64e7b8b87c": {
     "views": [
      {
       "cell_index": 22
      }
     ]
    },
    "f139fa25257b4f0a8f780339d87b8ab3": {
     "views": [
      {
       "cell_index": 33
      }
     ]
    },
    "f1d46b6184c242eb8776b7848f59a233": {
     "views": [
      {
       "cell_index": 20
      }
     ]
    },
    "f776056026424da39823d5d1a90c6c73": {
     "views": [
      {
       "cell_index": 22
      }
     ]
    },
    "f886e32db5a848c680e24bffebf5a248": {
     "views": [
      {
       "cell_index": 20
      }
     ]
    },
    "f8eb0f63bc52416792d963d341e92cac": {
     "views": [
      {
       "cell_index": 22
      }
     ]
    },
    "f93549d3234d437991e3e8ccee7e2aef": {
     "views": [
      {
       "cell_index": 22
      }
     ]
    },
    "fb128ad83d604626b40e13b454e0cb91": {
     "views": [
      {
       "cell_index": 24
      }
     ]
    },
    "fd5503410927484f8e3a79f91701820e": {
     "views": [
      {
       "cell_index": 20
      }
     ]
    },
    "fd7a314013ae4b67b3051732b774dcf6": {
     "views": [
      {
       "cell_index": 44
      }
     ]
    },
    "fe12f66437d94adc95c058e7ab155a6b": {
     "views": [
      {
       "cell_index": 22
      }
     ]
    }
   },
   "version": "1.2.0"
  }
 },
 "nbformat": 4,
 "nbformat_minor": 1
}
