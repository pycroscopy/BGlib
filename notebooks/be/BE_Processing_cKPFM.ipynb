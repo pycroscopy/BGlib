{
 "cells": [
  {
   "cell_type": "markdown",
   "metadata": {},
   "source": [
    "## Band Excitation data procesing using pycroscopy\n",
    "#### Suhas Somnath, Chris R. Smith, Stephen Jesse\n",
    "The Center for Nanophase Materials Science and The Institute for Functional Imaging for Materials <br>\n",
    "Oak Ridge National Laboratory<br>\n",
    "2/10/2017\n",
    "\n",
    "\n",
    "## cKPFM analysis\n",
    "#### Sabine Neumayer\n",
    "University College Dublin<br> \n",
    "7/4/2017"
   ]
  },
  {
   "cell_type": "markdown",
   "metadata": {},
   "source": [
    "![notebook_rules.png](notebook_rules.png)\n",
    "\n",
    "Image courtesy of Jean Bilheux from the [neutron imaging](https://github.com/neutronimaging/python_notebooks) GitHub repository."
   ]
  },
  {
   "cell_type": "markdown",
   "metadata": {},
   "source": [
    "## Configure the notebook"
   ]
  },
  {
   "cell_type": "code",
   "execution_count": 1,
   "metadata": {},
   "outputs": [],
   "source": [
    "# Make sure needed packages are installed and up-to-date\n",
    "import sys\n",
    "!conda install --yes --prefix {sys.prefix} numpy scipy matplotlib scikit-learn Ipython ipywidgets h5py\n",
    "!{sys.executable} -m pip install -U --no-deps sidpy bglib"
   ]
  },
  {
   "cell_type": "code",
   "execution_count": 2,
   "metadata": {},
   "outputs": [
    {
     "data": {
      "text/html": [
       "\n",
       "<style>\n",
       "    div#notebook-container    { width: 95%; }\n",
       "    div#menubar-container     { width: 65%; }\n",
       "    div#maintoolbar-container { width: 99%; }\n",
       "</style>\n"
      ],
      "text/plain": [
       "<IPython.core.display.HTML object>"
      ]
     },
     "metadata": {},
     "output_type": "display_data"
    }
   ],
   "source": [
    "# Ensure python 3 compatibility\n",
    "from __future__ import division, print_function, absolute_import\n",
    "\n",
    "# Import necessary libraries:\n",
    "# General utilities:\n",
    "import sys\n",
    "import os\n",
    "import math\n",
    "\n",
    "# Computation:\n",
    "import numpy as np\n",
    "import h5py\n",
    "\n",
    "# Visualization:\n",
    "import matplotlib.pyplot as plt\n",
    "import matplotlib.colors as colors\n",
    "import ipywidgets as widgets\n",
    "\n",
    "from IPython.display import display, HTML\n",
    "\n",
    "# Finally, BGlib itself\n",
    "sys.path.append('..')\n",
    "\n",
    "from BGlib import be as belib\n",
    "import pyUSID as usid\n",
    "import sidpy\n",
    "\n",
    "# Make Notebook take up most of page width\n",
    "display(HTML(data=\"\"\"\n",
    "<style>\n",
    "    div#notebook-container    { width: 95%; }\n",
    "    div#menubar-container     { width: 65%; }\n",
    "    div#maintoolbar-container { width: 99%; }\n",
    "</style>\n",
    "\"\"\"))"
   ]
  },
  {
   "cell_type": "code",
   "execution_count": 3,
   "metadata": {},
   "outputs": [],
   "source": [
    "# set up notebook to show plots within the notebook\n",
    "%matplotlib notebook"
   ]
  },
  {
   "cell_type": "markdown",
   "metadata": {},
   "source": [
    "## Set some basic parameters for computation\n",
    "This notebook performs some functional fitting whose duration can be substantially decreased by using more memory and CPU cores. We have provided default values below but you may choose to change them if necessary."
   ]
  },
  {
   "cell_type": "code",
   "execution_count": 4,
   "metadata": {},
   "outputs": [],
   "source": [
    "max_mem         = 1024*8  # Maximum memory to use, in Mbs. Default = 1024\n",
    "max_cores       = None    # Number of logical cores to use in fitting.  None uses all but 2 available cores."
   ]
  },
  {
   "cell_type": "markdown",
   "metadata": {},
   "source": [
    "## Make the data pycroscopy compatible\n",
    "Converting the raw data into a pycroscopy compatible hierarchical data format (HDF or .h5) file gives you access to the fast fitting algorithms and powerful analysis functions within pycroscopy\n",
    "\n",
    "#### H5 files:\n",
    "* are like smart containers that can store matrices with data, folders to organize these datasets, images, metadata like experimental parameters, links or shortcuts to datasets, etc.\n",
    "* are readily compatible with high-performance computing facilities\n",
    "* scale very efficiently from few kilobytes to several terabytes\n",
    "* can be read and modified using any language including Python, Matlab, C/C++, Java, Fortran, Igor Pro, etc.\n",
    "\n",
    "#### You can load either of the following:\n",
    "* Any .mat or .txt parameter file from the original experiment\n",
    "* A .h5 file generated from the raw data using pycroscopy - skips translation\n",
    "\n",
    "You can select desired file type by choosing the second option in the pull down menu on the bottom right of the file window"
   ]
  },
  {
   "cell_type": "code",
   "execution_count": 5,
   "metadata": {},
   "outputs": [
    {
     "name": "stdout",
     "output_type": "stream",
     "text": [
      "File is already Pycroscopy ready.\n",
      "Working on:\n",
      "/Users/rvv/Downloads/BEcKPFM_sfPFM5_0016.h5\n"
     ]
    }
   ],
   "source": [
    "input_file_path = r'/Users/rvv/Downloads/BEcKPFM_sfPFM5_0016.h5'\n",
    "\n",
    "(data_dir, filename) = os.path.split(input_file_path)\n",
    "\n",
    "if input_file_path.endswith('.h5'):\n",
    "    # No translation here\n",
    "    h5_path = input_file_path\n",
    "    force = False # Set this to true to force patching of the datafile.\n",
    "    tl = belib.translators.LabViewH5Patcher()\n",
    "    tl.translate(h5_path, force_patch=force)\n",
    "else:\n",
    "    # Set the data to be translated\n",
    "    data_path = input_file_path\n",
    "\n",
    "    (junk, base_name) = os.path.split(data_dir)\n",
    "\n",
    "    # Check if the data is in the new or old format.  Initialize the correct translator for the format.\n",
    "    if base_name == 'newdataformat':\n",
    "        (junk, base_name) = os.path.split(junk)\n",
    "        translator = belib.translators.BEPSndfTranslator(max_mem_mb=max_mem)\n",
    "    else:\n",
    "        translator = belib.translators.BEodfTranslator(max_mem_mb=max_mem)\n",
    "    if base_name.endswith('_d'):\n",
    "        base_name = base_name[:-2]\n",
    "    # Translate the data\n",
    "    h5_path = translator.translate(data_path, show_plots=True, save_plots=False)\n",
    "\n",
    "h5_file = h5py.File(h5_path, 'r+')\n",
    "print('Working on:\\n' + h5_path)\n",
    "\n",
    "h5_main = usid.hdf_utils.find_dataset(h5_file, 'Raw_Data')[0]"
   ]
  },
  {
   "cell_type": "markdown",
   "metadata": {},
   "source": [
    "##### Inspect the contents of this h5 data file\n",
    "The file contents are stored in a tree structure, just like files on a conventional computer.\n",
    "The data is stored as a 2D matrix (position, spectroscopic value) regardless of the dimensionality of the data. Thus, the positions will be arranged as row0-col0, row0-col1.... row0-colN, row1-col0.... and the data for each position is stored as it was chronologically collected  \n",
    "\n",
    "The main dataset is always accompanied by four ancillary datasets that explain the position and spectroscopic value of any given element in the dataset."
   ]
  },
  {
   "cell_type": "code",
   "execution_count": 6,
   "metadata": {
    "scrolled": false
   },
   "outputs": [
    {
     "name": "stdout",
     "output_type": "stream",
     "text": [
      "Datasets and datagroups within the file:\n",
      "------------------------------------\n",
      "/\n",
      "├ Measurement_000\n",
      "  ---------------\n",
      "  ├ Channel_000\n",
      "    -----------\n",
      "    ├ Bin_FFT\n",
      "    ├ Bin_Frequencies\n",
      "    ├ Bin_Indices\n",
      "    ├ Bin_Step\n",
      "    ├ Excitation_Waveform\n",
      "    ├ Noise_Floor\n",
      "    ├ Position_Indices\n",
      "    ├ Position_Values\n",
      "    ├ Raw_Data\n",
      "    ├ Raw_Data-SHO_Fit_000\n",
      "      --------------------\n",
      "      ├ Guess\n",
      "      ├ Spectroscopic_Indices\n",
      "      ├ Spectroscopic_Values\n",
      "    ├ Raw_Data-SHO_Fit_001\n",
      "      --------------------\n",
      "      ├ Fit\n",
      "      ├ Guess\n",
      "      ├ Spectroscopic_Indices\n",
      "      ├ Spectroscopic_Values\n",
      "      ├ completed_fit_positions\n",
      "      ├ completed_guess_positions\n",
      "      ├ completed_positions\n",
      "    ├ Spatially_Averaged_Plot_Group_000\n",
      "      ---------------------------------\n",
      "      ├ Bin_Frequencies\n",
      "      ├ Mean_Spectrogram\n",
      "      ├ Spectroscopic_Parameter\n",
      "      ├ Step_Averaged_Response\n",
      "    ├ Spectroscopic_Indices\n",
      "    ├ Spectroscopic_Values\n",
      "\n",
      "The main dataset:\n",
      "------------------------------------\n",
      "<HDF5 dataset \"Raw_Data\": shape (900, 26840), type \"<c8\">\n",
      "located at: \n",
      "\t/Measurement_000/Channel_000/Raw_Data \n",
      "Data contains: \n",
      "\tquantity (a.u.) \n",
      "Data dimensions and original shape: \n",
      "Position Dimensions: \n",
      "\tX - size: 30 \n",
      "\tY - size: 30 \n",
      "Spectroscopic Dimensions: \n",
      "\tFrequency - size: 61 \n",
      "\tField - size: 2 \n",
      "\twrite_bias - size: 20 \n",
      "\tread_bias - size: 11\n",
      "Data Type:\n",
      "\tcomplex64\n",
      "\n",
      "The ancillary datasets:\n",
      "------------------------------------\n",
      "<HDF5 dataset \"Position_Indices\": shape (900, 2), type \"<u4\">\n",
      "<HDF5 dataset \"Position_Values\": shape (900, 2), type \"<f4\">\n",
      "<HDF5 dataset \"Spectroscopic_Indices\": shape (4, 26840), type \"<u4\">\n",
      "<HDF5 dataset \"Spectroscopic_Values\": shape (4, 26840), type \"<f4\">\n",
      "\n",
      "Metadata or attributes in a datagroup\n",
      "------------------------------------\n",
      "AFM_InvOLS : 1e-07\n",
      "AFM_XLVDT_sensor : 4.2214e-06\n",
      "AFM_XPiezo_sensitivity : -1.7437e-07\n",
      "AFM_YLVDT_sensor : 4.3626e-06\n",
      "AFM_YPiezo_sensitivity : 1.8489e-07\n",
      "AFM_ZLVDT_sensor : 4.790395e-06\n",
      "AFM_ZPiezo_sensitivity : 2.95923e-08\n",
      "AR_ : 426.0\n",
      "AR_Gain_for_PFM_Dart_mode : 0.0\n",
      "AR_Inverted_Optical_Lever_Sensitivity : 1e-07\n",
      "AR_Lockin_0_ : 5000.0\n",
      "AR_Number_of_frames_when_IMS_scanning : 0.0\n",
      "AR_The_Deflection_Setpoint_in_meters : 0.0\n",
      "AR_The_Integral_Gain_(the_one_that_matters) : 19.665404806186988\n",
      "AR_The_Offset_that_is_applied_to_the_user_channels : 0.0\n",
      "AR_The_Proportional_Gain_(what_is_it_good_for?) : 0.0\n",
      "AR_The_Set_Point_if_we_are_feeding_back_on_amplitude : 0.8\n",
      "AR_The_amount_of_rounding_on_the_scans : 0.04\n",
      "AR_The_amount_of_secret_gain_in_X : 7.53\n",
      "AR_The_amount_of_secret_gain_in_Y : 7.59\n",
      "AR_The_amount_of_secret_gain_in_Z : 0.0\n",
      "AR_The_amount_that_the_X_LVDT_is_not_centered : 0.0\n",
      "AR_The_amount_the_size_of_the_scan_is_reduced_by_the_scan_angle : 0.0\n",
      "AR_The_amplitude_of_the_drive_to_the_tip_piezo : 0.1\n",
      "AR_The_amplitude_set_point_in_meters : 1e-08\n",
      "AR_The_angle_of_the_scan_in_degrees_going_clockwise : 90.0\n",
      "AR_The_current_distance_moved_by_force_curves : 4e-07\n",
      "AR_The_deflection_Setpoint_in_newtons : 5e-09\n",
      "AR_The_displayed_Setpoint : 0.0008\n",
      "AR_The_frequency_of_the_drive_to_the_piezo : 450000.0\n",
      "AR_The_frequency_width_during_a_tune : 5000.0\n",
      "AR_The_gain_on_the_fast_ADC_in_dB : 0.0\n",
      "AR_The_gains_that_are_applied_to_the_user_channels : 1.0\n",
      "AR_The_integral_gain_of_the_X_axis : 4.73\n",
      "AR_The_integral_gain_of_the_Y_axis : 4.84\n",
      "AR_The_maximum_physical_scan_size : 3e-05\n",
      "AR_The_number_of_lines_per_scan : 256.0\n",
      "AR_The_number_of_points_in_cantilever_tune : 480.0\n",
      "AR_The_number_of_points_per_line : 256.0\n",
      "AR_The_offset_of_the_X_LVDT_sensor : 0.58\n",
      "AR_The_offset_of_the_Y_LVDT_sensor : -1.2\n",
      "AR_The_offset_of_the_Z_LVDT_sensor : 0.0\n",
      "AR_The_offset_of_the_scan_in_meters_from_the_center_in_X : -5.3731014e-06\n",
      "AR_The_offset_of_the_scan_in_meters_from_the_center_in_Y : 7.2112676e-06\n",
      "AR_The_offset_required_to_center_the_phase : 0.0\n",
      "AR_The_proportional_gain_of_the_X_axis : -inf\n",
      "AR_The_proportional_gain_of_the_Y_axis : -inf\n",
      "AR_The_rate_of_the_scan_in_hertz : 0.390625\n",
      "AR_The_sensitivity_of_the_X_LVDT_sensor : 4.2214e-06\n",
      "AR_The_sensitivity_of_the_X_piezo : -1.7437e-07\n",
      "AR_The_sensitivity_of_the_Y_LVDT_sensor : 4.3626e-06\n",
      "AR_The_sensitivity_of_the_Y_piezo : 1.8489e-07\n",
      "AR_The_sensitivity_of_the_Z_LVDT_sensor : 4.790395e-06\n",
      "AR_The_sensitivity_of_the_Z_piezo : 2.95923e-08\n",
      "AR_The_setpoint_if_we_are_feeding_back_on_deflection : 1.0\n",
      "AR_The_size_of_the_scan_in_meters : 4e-06\n",
      "AR_The_size_of_the_scan_in_the_fast_direction_in_meters : 4e-06\n",
      "AR_The_size_of_the_scan_in_the_slow_direction_in_meters : 4e-06\n",
      "AR_The_speed_of_the_scan_in_meters_per_second : 7.971938775510205e-06\n",
      "AR_The_spring_constant_of_the_cantilever : 1.0\n",
      "AR_The_suffix_applied_to_saved_images : 3.0\n",
      "AR_The_voltage_bias_on_the_User_0_BNC : 0.0\n",
      "AR_The_voltage_bias_on_the_User_1_BNC : 0.0\n",
      "AR_The_voltage_bias_on_the_sample : 0.0\n",
      "AR_The_voltage_bias_on_the_tip : 0.0\n",
      "AR_This_is_1e-9_of_the_spring_constant,_for_display_versus_nm : 1e-09\n",
      "AR_What_imaging_mode_are_we_in : 3.0\n",
      "AR_What_the_gain_was_before_it_was_changed : 12.0\n",
      "AR_Whether_or_not_the_slow_scan_is_enabled : 1.0\n",
      "AR_Whether_the_image_has_been_changed_during_this_scan : 0.0\n",
      "AR_Whether_the_parameters_have_changed : 0.0\n",
      "AR_Whether_this_is_the_last_scan_or_not : 0.0\n",
      "AR_Whether_to_save_images_or_not : 2.0\n",
      "AR_Which_Way_the_scan_is_heading : 1.0\n",
      "AR_variable_that_attempts_to_line_up_trace_with_retrace : 0.0\n",
      "BE_amplitude_[V] : 4.0\n",
      "BE_auto_smooth_cond : 1.0\n",
      "BE_band_width_[Hz] : 100000.0\n",
      "BE_center_frequency_[Hz] : 320000.0\n",
      "BE_phase_content : b'chirp-sinc hybrid'\n",
      "BE_phase_variation : 1.0\n",
      "BE_pulse_duration_[s] : 0.004\n",
      "BE_repeats : 3.0\n",
      "BE_signal_type_ring : 1.0\n",
      "BE_smoothing : 3208.717049919559\n",
      "BE_window_adjustment : 0.215625\n",
      "File_date_and_time : 06-Sep-2020 17:31:28\n",
      "File_file_name : BEcKPFM_sfPFM5_0016\n",
      "IO_AFM_platform : b'0 Cypher AR14'\n",
      "IO_AI_range : 10.0\n",
      "IO_AO_range : 10.0\n",
      "IO_Analog_output_routing : 0.0\n",
      "IO_Channel_001_type : b'none'\n",
      "IO_Channel_002_type : b'none'\n",
      "IO_Channel_003_type : b'none'\n",
      "IO_analog_output_amplifier_ring : 1.0\n",
      "IO_card : b'6124'\n",
      "IO_deflection_detector_ring : 0\n",
      "IO_rate : 4000000.0\n",
      "IO_sensitivity : 1.0\n",
      "VS_delay_time_after_step_[s] : 0.0\n",
      "VS_max_read_bias_[V] : 3.0\n",
      "VS_max_write_bias_[V] : 20.0\n",
      "VS_min_read_bias_[V] : -3.0\n",
      "VS_min_write_bias_[V] : -10.0\n",
      "VS_mode : b'cKPFM'\n",
      "VS_num_DC_write_steps : 10\n",
      "VS_num_read_steps : 11\n",
      "VS_step_transition_time_[s] : 0.001\n",
      "data_type : b'cKPFMData'\n",
      "grid_current_col : 29\n",
      "grid_current_row : 29\n",
      "grid_num_cols : 30\n",
      "grid_num_rows : 30\n",
      "grid_set_point_[V] : 1.0\n",
      "grid_settle_time_[s] : 1.0\n",
      "grid_transit_time_[s] : 1.0\n",
      "num_UDVS_bins : 26840\n",
      "num_UDVS_steps : 440\n",
      "num_bins : 26840\n",
      "num_pix : 900\n",
      "num_steps : 440\n"
     ]
    }
   ],
   "source": [
    "print('Datasets and datagroups within the file:\\n------------------------------------')\n",
    "usid.hdf_utils.print_tree(h5_file)\n",
    " \n",
    "print('\\nThe main dataset:\\n------------------------------------')\n",
    "print(h5_main)\n",
    "print('\\nThe ancillary datasets:\\n------------------------------------')\n",
    "print(h5_file['/Measurement_000/Channel_000/Position_Indices'])\n",
    "print(h5_file['/Measurement_000/Channel_000/Position_Values'])\n",
    "print(h5_file['/Measurement_000/Channel_000/Spectroscopic_Indices'])\n",
    "print(h5_file['/Measurement_000/Channel_000/Spectroscopic_Values'])\n",
    "\n",
    "print('\\nMetadata or attributes in a datagroup\\n------------------------------------')\n",
    "for key in h5_file['/Measurement_000'].attrs:\n",
    "    print('{} : {}'.format(key, h5_file['/Measurement_000'].attrs[key]))"
   ]
  },
  {
   "cell_type": "markdown",
   "metadata": {},
   "source": [
    "## Get some basic parameters from the H5 file\n",
    "This information will be vital for futher analysis and visualization of the data"
   ]
  },
  {
   "cell_type": "code",
   "execution_count": 7,
   "metadata": {},
   "outputs": [
    {
     "name": "stdout",
     "output_type": "stream",
     "text": [
      "['X', 'Y'] [30, 30]\n"
     ]
    }
   ],
   "source": [
    "h5_pos_inds = h5_main.h5_pos_inds\n",
    "pos_dims = h5_main.pos_dim_sizes\n",
    "pos_labels = h5_main.pos_dim_labels\n",
    "print(pos_labels, pos_dims)\n",
    "\n",
    "parm_dict = h5_file['/Measurement_000'].attrs\n",
    "is_ckpfm = True\n",
    "\n",
    "num_write_steps = parm_dict['VS_num_DC_write_steps']\n",
    "num_read_steps = parm_dict['VS_num_read_steps']\n",
    "num_fields = 2"
   ]
  },
  {
   "cell_type": "markdown",
   "metadata": {},
   "source": [
    "## Visualize the raw data\n",
    "Use the sliders below to visualize spatial maps (2D only for now), and spectrograms.\n",
    "For simplicity, all the spectroscopic dimensions such as frequency, excitation bias, cycle, field, etc. have been collapsed to a single slider."
   ]
  },
  {
   "cell_type": "code",
   "execution_count": 8,
   "metadata": {
    "scrolled": false
   },
   "outputs": [
    {
     "name": "stdout",
     "output_type": "stream",
     "text": [
      "No position datasets found as attributes of /Measurement_000/Channel_000/Spectroscopic_Values\n"
     ]
    },
    {
     "data": {
      "application/javascript": [
       "/* Put everything inside the global mpl namespace */\n",
       "window.mpl = {};\n",
       "\n",
       "\n",
       "mpl.get_websocket_type = function() {\n",
       "    if (typeof(WebSocket) !== 'undefined') {\n",
       "        return WebSocket;\n",
       "    } else if (typeof(MozWebSocket) !== 'undefined') {\n",
       "        return MozWebSocket;\n",
       "    } else {\n",
       "        alert('Your browser does not have WebSocket support. ' +\n",
       "              'Please try Chrome, Safari or Firefox ≥ 6. ' +\n",
       "              'Firefox 4 and 5 are also supported but you ' +\n",
       "              'have to enable WebSockets in about:config.');\n",
       "    };\n",
       "}\n",
       "\n",
       "mpl.figure = function(figure_id, websocket, ondownload, parent_element) {\n",
       "    this.id = figure_id;\n",
       "\n",
       "    this.ws = websocket;\n",
       "\n",
       "    this.supports_binary = (this.ws.binaryType != undefined);\n",
       "\n",
       "    if (!this.supports_binary) {\n",
       "        var warnings = document.getElementById(\"mpl-warnings\");\n",
       "        if (warnings) {\n",
       "            warnings.style.display = 'block';\n",
       "            warnings.textContent = (\n",
       "                \"This browser does not support binary websocket messages. \" +\n",
       "                    \"Performance may be slow.\");\n",
       "        }\n",
       "    }\n",
       "\n",
       "    this.imageObj = new Image();\n",
       "\n",
       "    this.context = undefined;\n",
       "    this.message = undefined;\n",
       "    this.canvas = undefined;\n",
       "    this.rubberband_canvas = undefined;\n",
       "    this.rubberband_context = undefined;\n",
       "    this.format_dropdown = undefined;\n",
       "\n",
       "    this.image_mode = 'full';\n",
       "\n",
       "    this.root = $('<div/>');\n",
       "    this._root_extra_style(this.root)\n",
       "    this.root.attr('style', 'display: inline-block');\n",
       "\n",
       "    $(parent_element).append(this.root);\n",
       "\n",
       "    this._init_header(this);\n",
       "    this._init_canvas(this);\n",
       "    this._init_toolbar(this);\n",
       "\n",
       "    var fig = this;\n",
       "\n",
       "    this.waiting = false;\n",
       "\n",
       "    this.ws.onopen =  function () {\n",
       "            fig.send_message(\"supports_binary\", {value: fig.supports_binary});\n",
       "            fig.send_message(\"send_image_mode\", {});\n",
       "            if (mpl.ratio != 1) {\n",
       "                fig.send_message(\"set_dpi_ratio\", {'dpi_ratio': mpl.ratio});\n",
       "            }\n",
       "            fig.send_message(\"refresh\", {});\n",
       "        }\n",
       "\n",
       "    this.imageObj.onload = function() {\n",
       "            if (fig.image_mode == 'full') {\n",
       "                // Full images could contain transparency (where diff images\n",
       "                // almost always do), so we need to clear the canvas so that\n",
       "                // there is no ghosting.\n",
       "                fig.context.clearRect(0, 0, fig.canvas.width, fig.canvas.height);\n",
       "            }\n",
       "            fig.context.drawImage(fig.imageObj, 0, 0);\n",
       "        };\n",
       "\n",
       "    this.imageObj.onunload = function() {\n",
       "        fig.ws.close();\n",
       "    }\n",
       "\n",
       "    this.ws.onmessage = this._make_on_message_function(this);\n",
       "\n",
       "    this.ondownload = ondownload;\n",
       "}\n",
       "\n",
       "mpl.figure.prototype._init_header = function() {\n",
       "    var titlebar = $(\n",
       "        '<div class=\"ui-dialog-titlebar ui-widget-header ui-corner-all ' +\n",
       "        'ui-helper-clearfix\"/>');\n",
       "    var titletext = $(\n",
       "        '<div class=\"ui-dialog-title\" style=\"width: 100%; ' +\n",
       "        'text-align: center; padding: 3px;\"/>');\n",
       "    titlebar.append(titletext)\n",
       "    this.root.append(titlebar);\n",
       "    this.header = titletext[0];\n",
       "}\n",
       "\n",
       "\n",
       "\n",
       "mpl.figure.prototype._canvas_extra_style = function(canvas_div) {\n",
       "\n",
       "}\n",
       "\n",
       "\n",
       "mpl.figure.prototype._root_extra_style = function(canvas_div) {\n",
       "\n",
       "}\n",
       "\n",
       "mpl.figure.prototype._init_canvas = function() {\n",
       "    var fig = this;\n",
       "\n",
       "    var canvas_div = $('<div/>');\n",
       "\n",
       "    canvas_div.attr('style', 'position: relative; clear: both; outline: 0');\n",
       "\n",
       "    function canvas_keyboard_event(event) {\n",
       "        return fig.key_event(event, event['data']);\n",
       "    }\n",
       "\n",
       "    canvas_div.keydown('key_press', canvas_keyboard_event);\n",
       "    canvas_div.keyup('key_release', canvas_keyboard_event);\n",
       "    this.canvas_div = canvas_div\n",
       "    this._canvas_extra_style(canvas_div)\n",
       "    this.root.append(canvas_div);\n",
       "\n",
       "    var canvas = $('<canvas/>');\n",
       "    canvas.addClass('mpl-canvas');\n",
       "    canvas.attr('style', \"left: 0; top: 0; z-index: 0; outline: 0\")\n",
       "\n",
       "    this.canvas = canvas[0];\n",
       "    this.context = canvas[0].getContext(\"2d\");\n",
       "\n",
       "    var backingStore = this.context.backingStorePixelRatio ||\n",
       "\tthis.context.webkitBackingStorePixelRatio ||\n",
       "\tthis.context.mozBackingStorePixelRatio ||\n",
       "\tthis.context.msBackingStorePixelRatio ||\n",
       "\tthis.context.oBackingStorePixelRatio ||\n",
       "\tthis.context.backingStorePixelRatio || 1;\n",
       "\n",
       "    mpl.ratio = (window.devicePixelRatio || 1) / backingStore;\n",
       "\n",
       "    var rubberband = $('<canvas/>');\n",
       "    rubberband.attr('style', \"position: absolute; left: 0; top: 0; z-index: 1;\")\n",
       "\n",
       "    var pass_mouse_events = true;\n",
       "\n",
       "    canvas_div.resizable({\n",
       "        start: function(event, ui) {\n",
       "            pass_mouse_events = false;\n",
       "        },\n",
       "        resize: function(event, ui) {\n",
       "            fig.request_resize(ui.size.width, ui.size.height);\n",
       "        },\n",
       "        stop: function(event, ui) {\n",
       "            pass_mouse_events = true;\n",
       "            fig.request_resize(ui.size.width, ui.size.height);\n",
       "        },\n",
       "    });\n",
       "\n",
       "    function mouse_event_fn(event) {\n",
       "        if (pass_mouse_events)\n",
       "            return fig.mouse_event(event, event['data']);\n",
       "    }\n",
       "\n",
       "    rubberband.mousedown('button_press', mouse_event_fn);\n",
       "    rubberband.mouseup('button_release', mouse_event_fn);\n",
       "    // Throttle sequential mouse events to 1 every 20ms.\n",
       "    rubberband.mousemove('motion_notify', mouse_event_fn);\n",
       "\n",
       "    rubberband.mouseenter('figure_enter', mouse_event_fn);\n",
       "    rubberband.mouseleave('figure_leave', mouse_event_fn);\n",
       "\n",
       "    canvas_div.on(\"wheel\", function (event) {\n",
       "        event = event.originalEvent;\n",
       "        event['data'] = 'scroll'\n",
       "        if (event.deltaY < 0) {\n",
       "            event.step = 1;\n",
       "        } else {\n",
       "            event.step = -1;\n",
       "        }\n",
       "        mouse_event_fn(event);\n",
       "    });\n",
       "\n",
       "    canvas_div.append(canvas);\n",
       "    canvas_div.append(rubberband);\n",
       "\n",
       "    this.rubberband = rubberband;\n",
       "    this.rubberband_canvas = rubberband[0];\n",
       "    this.rubberband_context = rubberband[0].getContext(\"2d\");\n",
       "    this.rubberband_context.strokeStyle = \"#000000\";\n",
       "\n",
       "    this._resize_canvas = function(width, height) {\n",
       "        // Keep the size of the canvas, canvas container, and rubber band\n",
       "        // canvas in synch.\n",
       "        canvas_div.css('width', width)\n",
       "        canvas_div.css('height', height)\n",
       "\n",
       "        canvas.attr('width', width * mpl.ratio);\n",
       "        canvas.attr('height', height * mpl.ratio);\n",
       "        canvas.attr('style', 'width: ' + width + 'px; height: ' + height + 'px;');\n",
       "\n",
       "        rubberband.attr('width', width);\n",
       "        rubberband.attr('height', height);\n",
       "    }\n",
       "\n",
       "    // Set the figure to an initial 600x600px, this will subsequently be updated\n",
       "    // upon first draw.\n",
       "    this._resize_canvas(600, 600);\n",
       "\n",
       "    // Disable right mouse context menu.\n",
       "    $(this.rubberband_canvas).bind(\"contextmenu\",function(e){\n",
       "        return false;\n",
       "    });\n",
       "\n",
       "    function set_focus () {\n",
       "        canvas.focus();\n",
       "        canvas_div.focus();\n",
       "    }\n",
       "\n",
       "    window.setTimeout(set_focus, 100);\n",
       "}\n",
       "\n",
       "mpl.figure.prototype._init_toolbar = function() {\n",
       "    var fig = this;\n",
       "\n",
       "    var nav_element = $('<div/>');\n",
       "    nav_element.attr('style', 'width: 100%');\n",
       "    this.root.append(nav_element);\n",
       "\n",
       "    // Define a callback function for later on.\n",
       "    function toolbar_event(event) {\n",
       "        return fig.toolbar_button_onclick(event['data']);\n",
       "    }\n",
       "    function toolbar_mouse_event(event) {\n",
       "        return fig.toolbar_button_onmouseover(event['data']);\n",
       "    }\n",
       "\n",
       "    for(var toolbar_ind in mpl.toolbar_items) {\n",
       "        var name = mpl.toolbar_items[toolbar_ind][0];\n",
       "        var tooltip = mpl.toolbar_items[toolbar_ind][1];\n",
       "        var image = mpl.toolbar_items[toolbar_ind][2];\n",
       "        var method_name = mpl.toolbar_items[toolbar_ind][3];\n",
       "\n",
       "        if (!name) {\n",
       "            // put a spacer in here.\n",
       "            continue;\n",
       "        }\n",
       "        var button = $('<button/>');\n",
       "        button.addClass('ui-button ui-widget ui-state-default ui-corner-all ' +\n",
       "                        'ui-button-icon-only');\n",
       "        button.attr('role', 'button');\n",
       "        button.attr('aria-disabled', 'false');\n",
       "        button.click(method_name, toolbar_event);\n",
       "        button.mouseover(tooltip, toolbar_mouse_event);\n",
       "\n",
       "        var icon_img = $('<span/>');\n",
       "        icon_img.addClass('ui-button-icon-primary ui-icon');\n",
       "        icon_img.addClass(image);\n",
       "        icon_img.addClass('ui-corner-all');\n",
       "\n",
       "        var tooltip_span = $('<span/>');\n",
       "        tooltip_span.addClass('ui-button-text');\n",
       "        tooltip_span.html(tooltip);\n",
       "\n",
       "        button.append(icon_img);\n",
       "        button.append(tooltip_span);\n",
       "\n",
       "        nav_element.append(button);\n",
       "    }\n",
       "\n",
       "    var fmt_picker_span = $('<span/>');\n",
       "\n",
       "    var fmt_picker = $('<select/>');\n",
       "    fmt_picker.addClass('mpl-toolbar-option ui-widget ui-widget-content');\n",
       "    fmt_picker_span.append(fmt_picker);\n",
       "    nav_element.append(fmt_picker_span);\n",
       "    this.format_dropdown = fmt_picker[0];\n",
       "\n",
       "    for (var ind in mpl.extensions) {\n",
       "        var fmt = mpl.extensions[ind];\n",
       "        var option = $(\n",
       "            '<option/>', {selected: fmt === mpl.default_extension}).html(fmt);\n",
       "        fmt_picker.append(option);\n",
       "    }\n",
       "\n",
       "    // Add hover states to the ui-buttons\n",
       "    $( \".ui-button\" ).hover(\n",
       "        function() { $(this).addClass(\"ui-state-hover\");},\n",
       "        function() { $(this).removeClass(\"ui-state-hover\");}\n",
       "    );\n",
       "\n",
       "    var status_bar = $('<span class=\"mpl-message\"/>');\n",
       "    nav_element.append(status_bar);\n",
       "    this.message = status_bar[0];\n",
       "}\n",
       "\n",
       "mpl.figure.prototype.request_resize = function(x_pixels, y_pixels) {\n",
       "    // Request matplotlib to resize the figure. Matplotlib will then trigger a resize in the client,\n",
       "    // which will in turn request a refresh of the image.\n",
       "    this.send_message('resize', {'width': x_pixels, 'height': y_pixels});\n",
       "}\n",
       "\n",
       "mpl.figure.prototype.send_message = function(type, properties) {\n",
       "    properties['type'] = type;\n",
       "    properties['figure_id'] = this.id;\n",
       "    this.ws.send(JSON.stringify(properties));\n",
       "}\n",
       "\n",
       "mpl.figure.prototype.send_draw_message = function() {\n",
       "    if (!this.waiting) {\n",
       "        this.waiting = true;\n",
       "        this.ws.send(JSON.stringify({type: \"draw\", figure_id: this.id}));\n",
       "    }\n",
       "}\n",
       "\n",
       "\n",
       "mpl.figure.prototype.handle_save = function(fig, msg) {\n",
       "    var format_dropdown = fig.format_dropdown;\n",
       "    var format = format_dropdown.options[format_dropdown.selectedIndex].value;\n",
       "    fig.ondownload(fig, format);\n",
       "}\n",
       "\n",
       "\n",
       "mpl.figure.prototype.handle_resize = function(fig, msg) {\n",
       "    var size = msg['size'];\n",
       "    if (size[0] != fig.canvas.width || size[1] != fig.canvas.height) {\n",
       "        fig._resize_canvas(size[0], size[1]);\n",
       "        fig.send_message(\"refresh\", {});\n",
       "    };\n",
       "}\n",
       "\n",
       "mpl.figure.prototype.handle_rubberband = function(fig, msg) {\n",
       "    var x0 = msg['x0'] / mpl.ratio;\n",
       "    var y0 = (fig.canvas.height - msg['y0']) / mpl.ratio;\n",
       "    var x1 = msg['x1'] / mpl.ratio;\n",
       "    var y1 = (fig.canvas.height - msg['y1']) / mpl.ratio;\n",
       "    x0 = Math.floor(x0) + 0.5;\n",
       "    y0 = Math.floor(y0) + 0.5;\n",
       "    x1 = Math.floor(x1) + 0.5;\n",
       "    y1 = Math.floor(y1) + 0.5;\n",
       "    var min_x = Math.min(x0, x1);\n",
       "    var min_y = Math.min(y0, y1);\n",
       "    var width = Math.abs(x1 - x0);\n",
       "    var height = Math.abs(y1 - y0);\n",
       "\n",
       "    fig.rubberband_context.clearRect(\n",
       "        0, 0, fig.canvas.width / mpl.ratio, fig.canvas.height / mpl.ratio);\n",
       "\n",
       "    fig.rubberband_context.strokeRect(min_x, min_y, width, height);\n",
       "}\n",
       "\n",
       "mpl.figure.prototype.handle_figure_label = function(fig, msg) {\n",
       "    // Updates the figure title.\n",
       "    fig.header.textContent = msg['label'];\n",
       "}\n",
       "\n",
       "mpl.figure.prototype.handle_cursor = function(fig, msg) {\n",
       "    var cursor = msg['cursor'];\n",
       "    switch(cursor)\n",
       "    {\n",
       "    case 0:\n",
       "        cursor = 'pointer';\n",
       "        break;\n",
       "    case 1:\n",
       "        cursor = 'default';\n",
       "        break;\n",
       "    case 2:\n",
       "        cursor = 'crosshair';\n",
       "        break;\n",
       "    case 3:\n",
       "        cursor = 'move';\n",
       "        break;\n",
       "    }\n",
       "    fig.rubberband_canvas.style.cursor = cursor;\n",
       "}\n",
       "\n",
       "mpl.figure.prototype.handle_message = function(fig, msg) {\n",
       "    fig.message.textContent = msg['message'];\n",
       "}\n",
       "\n",
       "mpl.figure.prototype.handle_draw = function(fig, msg) {\n",
       "    // Request the server to send over a new figure.\n",
       "    fig.send_draw_message();\n",
       "}\n",
       "\n",
       "mpl.figure.prototype.handle_image_mode = function(fig, msg) {\n",
       "    fig.image_mode = msg['mode'];\n",
       "}\n",
       "\n",
       "mpl.figure.prototype.updated_canvas_event = function() {\n",
       "    // Called whenever the canvas gets updated.\n",
       "    this.send_message(\"ack\", {});\n",
       "}\n",
       "\n",
       "// A function to construct a web socket function for onmessage handling.\n",
       "// Called in the figure constructor.\n",
       "mpl.figure.prototype._make_on_message_function = function(fig) {\n",
       "    return function socket_on_message(evt) {\n",
       "        if (evt.data instanceof Blob) {\n",
       "            /* FIXME: We get \"Resource interpreted as Image but\n",
       "             * transferred with MIME type text/plain:\" errors on\n",
       "             * Chrome.  But how to set the MIME type?  It doesn't seem\n",
       "             * to be part of the websocket stream */\n",
       "            evt.data.type = \"image/png\";\n",
       "\n",
       "            /* Free the memory for the previous frames */\n",
       "            if (fig.imageObj.src) {\n",
       "                (window.URL || window.webkitURL).revokeObjectURL(\n",
       "                    fig.imageObj.src);\n",
       "            }\n",
       "\n",
       "            fig.imageObj.src = (window.URL || window.webkitURL).createObjectURL(\n",
       "                evt.data);\n",
       "            fig.updated_canvas_event();\n",
       "            fig.waiting = false;\n",
       "            return;\n",
       "        }\n",
       "        else if (typeof evt.data === 'string' && evt.data.slice(0, 21) == \"data:image/png;base64\") {\n",
       "            fig.imageObj.src = evt.data;\n",
       "            fig.updated_canvas_event();\n",
       "            fig.waiting = false;\n",
       "            return;\n",
       "        }\n",
       "\n",
       "        var msg = JSON.parse(evt.data);\n",
       "        var msg_type = msg['type'];\n",
       "\n",
       "        // Call the  \"handle_{type}\" callback, which takes\n",
       "        // the figure and JSON message as its only arguments.\n",
       "        try {\n",
       "            var callback = fig[\"handle_\" + msg_type];\n",
       "        } catch (e) {\n",
       "            console.log(\"No handler for the '\" + msg_type + \"' message type: \", msg);\n",
       "            return;\n",
       "        }\n",
       "\n",
       "        if (callback) {\n",
       "            try {\n",
       "                // console.log(\"Handling '\" + msg_type + \"' message: \", msg);\n",
       "                callback(fig, msg);\n",
       "            } catch (e) {\n",
       "                console.log(\"Exception inside the 'handler_\" + msg_type + \"' callback:\", e, e.stack, msg);\n",
       "            }\n",
       "        }\n",
       "    };\n",
       "}\n",
       "\n",
       "// from http://stackoverflow.com/questions/1114465/getting-mouse-location-in-canvas\n",
       "mpl.findpos = function(e) {\n",
       "    //this section is from http://www.quirksmode.org/js/events_properties.html\n",
       "    var targ;\n",
       "    if (!e)\n",
       "        e = window.event;\n",
       "    if (e.target)\n",
       "        targ = e.target;\n",
       "    else if (e.srcElement)\n",
       "        targ = e.srcElement;\n",
       "    if (targ.nodeType == 3) // defeat Safari bug\n",
       "        targ = targ.parentNode;\n",
       "\n",
       "    // jQuery normalizes the pageX and pageY\n",
       "    // pageX,Y are the mouse positions relative to the document\n",
       "    // offset() returns the position of the element relative to the document\n",
       "    var x = e.pageX - $(targ).offset().left;\n",
       "    var y = e.pageY - $(targ).offset().top;\n",
       "\n",
       "    return {\"x\": x, \"y\": y};\n",
       "};\n",
       "\n",
       "/*\n",
       " * return a copy of an object with only non-object keys\n",
       " * we need this to avoid circular references\n",
       " * http://stackoverflow.com/a/24161582/3208463\n",
       " */\n",
       "function simpleKeys (original) {\n",
       "  return Object.keys(original).reduce(function (obj, key) {\n",
       "    if (typeof original[key] !== 'object')\n",
       "        obj[key] = original[key]\n",
       "    return obj;\n",
       "  }, {});\n",
       "}\n",
       "\n",
       "mpl.figure.prototype.mouse_event = function(event, name) {\n",
       "    var canvas_pos = mpl.findpos(event)\n",
       "\n",
       "    if (name === 'button_press')\n",
       "    {\n",
       "        this.canvas.focus();\n",
       "        this.canvas_div.focus();\n",
       "    }\n",
       "\n",
       "    var x = canvas_pos.x * mpl.ratio;\n",
       "    var y = canvas_pos.y * mpl.ratio;\n",
       "\n",
       "    this.send_message(name, {x: x, y: y, button: event.button,\n",
       "                             step: event.step,\n",
       "                             guiEvent: simpleKeys(event)});\n",
       "\n",
       "    /* This prevents the web browser from automatically changing to\n",
       "     * the text insertion cursor when the button is pressed.  We want\n",
       "     * to control all of the cursor setting manually through the\n",
       "     * 'cursor' event from matplotlib */\n",
       "    event.preventDefault();\n",
       "    return false;\n",
       "}\n",
       "\n",
       "mpl.figure.prototype._key_event_extra = function(event, name) {\n",
       "    // Handle any extra behaviour associated with a key event\n",
       "}\n",
       "\n",
       "mpl.figure.prototype.key_event = function(event, name) {\n",
       "\n",
       "    // Prevent repeat events\n",
       "    if (name == 'key_press')\n",
       "    {\n",
       "        if (event.which === this._key)\n",
       "            return;\n",
       "        else\n",
       "            this._key = event.which;\n",
       "    }\n",
       "    if (name == 'key_release')\n",
       "        this._key = null;\n",
       "\n",
       "    var value = '';\n",
       "    if (event.ctrlKey && event.which != 17)\n",
       "        value += \"ctrl+\";\n",
       "    if (event.altKey && event.which != 18)\n",
       "        value += \"alt+\";\n",
       "    if (event.shiftKey && event.which != 16)\n",
       "        value += \"shift+\";\n",
       "\n",
       "    value += 'k';\n",
       "    value += event.which.toString();\n",
       "\n",
       "    this._key_event_extra(event, name);\n",
       "\n",
       "    this.send_message(name, {key: value,\n",
       "                             guiEvent: simpleKeys(event)});\n",
       "    return false;\n",
       "}\n",
       "\n",
       "mpl.figure.prototype.toolbar_button_onclick = function(name) {\n",
       "    if (name == 'download') {\n",
       "        this.handle_save(this, null);\n",
       "    } else {\n",
       "        this.send_message(\"toolbar_button\", {name: name});\n",
       "    }\n",
       "};\n",
       "\n",
       "mpl.figure.prototype.toolbar_button_onmouseover = function(tooltip) {\n",
       "    this.message.textContent = tooltip;\n",
       "};\n",
       "mpl.toolbar_items = [[\"Home\", \"Reset original view\", \"fa fa-home icon-home\", \"home\"], [\"Back\", \"Back to previous view\", \"fa fa-arrow-left icon-arrow-left\", \"back\"], [\"Forward\", \"Forward to next view\", \"fa fa-arrow-right icon-arrow-right\", \"forward\"], [\"\", \"\", \"\", \"\"], [\"Pan\", \"Pan axes with left mouse, zoom with right\", \"fa fa-arrows icon-move\", \"pan\"], [\"Zoom\", \"Zoom to rectangle\", \"fa fa-square-o icon-check-empty\", \"zoom\"], [\"\", \"\", \"\", \"\"], [\"Download\", \"Download plot\", \"fa fa-floppy-o icon-save\", \"download\"]];\n",
       "\n",
       "mpl.extensions = [\"eps\", \"jpeg\", \"pdf\", \"png\", \"ps\", \"raw\", \"svg\", \"tif\"];\n",
       "\n",
       "mpl.default_extension = \"png\";var comm_websocket_adapter = function(comm) {\n",
       "    // Create a \"websocket\"-like object which calls the given IPython comm\n",
       "    // object with the appropriate methods. Currently this is a non binary\n",
       "    // socket, so there is still some room for performance tuning.\n",
       "    var ws = {};\n",
       "\n",
       "    ws.close = function() {\n",
       "        comm.close()\n",
       "    };\n",
       "    ws.send = function(m) {\n",
       "        //console.log('sending', m);\n",
       "        comm.send(m);\n",
       "    };\n",
       "    // Register the callback with on_msg.\n",
       "    comm.on_msg(function(msg) {\n",
       "        //console.log('receiving', msg['content']['data'], msg);\n",
       "        // Pass the mpl event to the overridden (by mpl) onmessage function.\n",
       "        ws.onmessage(msg['content']['data'])\n",
       "    });\n",
       "    return ws;\n",
       "}\n",
       "\n",
       "mpl.mpl_figure_comm = function(comm, msg) {\n",
       "    // This is the function which gets called when the mpl process\n",
       "    // starts-up an IPython Comm through the \"matplotlib\" channel.\n",
       "\n",
       "    var id = msg.content.data.id;\n",
       "    // Get hold of the div created by the display call when the Comm\n",
       "    // socket was opened in Python.\n",
       "    var element = $(\"#\" + id);\n",
       "    var ws_proxy = comm_websocket_adapter(comm)\n",
       "\n",
       "    function ondownload(figure, format) {\n",
       "        window.open(figure.imageObj.src);\n",
       "    }\n",
       "\n",
       "    var fig = new mpl.figure(id, ws_proxy,\n",
       "                           ondownload,\n",
       "                           element.get(0));\n",
       "\n",
       "    // Call onopen now - mpl needs it, as it is assuming we've passed it a real\n",
       "    // web socket which is closed, not our websocket->open comm proxy.\n",
       "    ws_proxy.onopen();\n",
       "\n",
       "    fig.parent_element = element.get(0);\n",
       "    fig.cell_info = mpl.find_output_cell(\"<div id='\" + id + \"'></div>\");\n",
       "    if (!fig.cell_info) {\n",
       "        console.error(\"Failed to find cell for figure\", id, fig);\n",
       "        return;\n",
       "    }\n",
       "\n",
       "    var output_index = fig.cell_info[2]\n",
       "    var cell = fig.cell_info[0];\n",
       "\n",
       "};\n",
       "\n",
       "mpl.figure.prototype.handle_close = function(fig, msg) {\n",
       "    var width = fig.canvas.width/mpl.ratio\n",
       "    fig.root.unbind('remove')\n",
       "\n",
       "    // Update the output cell to use the data from the current canvas.\n",
       "    fig.push_to_output();\n",
       "    var dataURL = fig.canvas.toDataURL();\n",
       "    // Re-enable the keyboard manager in IPython - without this line, in FF,\n",
       "    // the notebook keyboard shortcuts fail.\n",
       "    IPython.keyboard_manager.enable()\n",
       "    $(fig.parent_element).html('<img src=\"' + dataURL + '\" width=\"' + width + '\">');\n",
       "    fig.close_ws(fig, msg);\n",
       "}\n",
       "\n",
       "mpl.figure.prototype.close_ws = function(fig, msg){\n",
       "    fig.send_message('closing', msg);\n",
       "    // fig.ws.close()\n",
       "}\n",
       "\n",
       "mpl.figure.prototype.push_to_output = function(remove_interactive) {\n",
       "    // Turn the data on the canvas into data in the output cell.\n",
       "    var width = this.canvas.width/mpl.ratio\n",
       "    var dataURL = this.canvas.toDataURL();\n",
       "    this.cell_info[1]['text/html'] = '<img src=\"' + dataURL + '\" width=\"' + width + '\">';\n",
       "}\n",
       "\n",
       "mpl.figure.prototype.updated_canvas_event = function() {\n",
       "    // Tell IPython that the notebook contents must change.\n",
       "    IPython.notebook.set_dirty(true);\n",
       "    this.send_message(\"ack\", {});\n",
       "    var fig = this;\n",
       "    // Wait a second, then push the new image to the DOM so\n",
       "    // that it is saved nicely (might be nice to debounce this).\n",
       "    setTimeout(function () { fig.push_to_output() }, 1000);\n",
       "}\n",
       "\n",
       "mpl.figure.prototype._init_toolbar = function() {\n",
       "    var fig = this;\n",
       "\n",
       "    var nav_element = $('<div/>');\n",
       "    nav_element.attr('style', 'width: 100%');\n",
       "    this.root.append(nav_element);\n",
       "\n",
       "    // Define a callback function for later on.\n",
       "    function toolbar_event(event) {\n",
       "        return fig.toolbar_button_onclick(event['data']);\n",
       "    }\n",
       "    function toolbar_mouse_event(event) {\n",
       "        return fig.toolbar_button_onmouseover(event['data']);\n",
       "    }\n",
       "\n",
       "    for(var toolbar_ind in mpl.toolbar_items){\n",
       "        var name = mpl.toolbar_items[toolbar_ind][0];\n",
       "        var tooltip = mpl.toolbar_items[toolbar_ind][1];\n",
       "        var image = mpl.toolbar_items[toolbar_ind][2];\n",
       "        var method_name = mpl.toolbar_items[toolbar_ind][3];\n",
       "\n",
       "        if (!name) { continue; };\n",
       "\n",
       "        var button = $('<button class=\"btn btn-default\" href=\"#\" title=\"' + name + '\"><i class=\"fa ' + image + ' fa-lg\"></i></button>');\n",
       "        button.click(method_name, toolbar_event);\n",
       "        button.mouseover(tooltip, toolbar_mouse_event);\n",
       "        nav_element.append(button);\n",
       "    }\n",
       "\n",
       "    // Add the status bar.\n",
       "    var status_bar = $('<span class=\"mpl-message\" style=\"text-align:right; float: right;\"/>');\n",
       "    nav_element.append(status_bar);\n",
       "    this.message = status_bar[0];\n",
       "\n",
       "    // Add the close button to the window.\n",
       "    var buttongrp = $('<div class=\"btn-group inline pull-right\"></div>');\n",
       "    var button = $('<button class=\"btn btn-mini btn-primary\" href=\"#\" title=\"Stop Interaction\"><i class=\"fa fa-power-off icon-remove icon-large\"></i></button>');\n",
       "    button.click(function (evt) { fig.handle_close(fig, {}); } );\n",
       "    button.mouseover('Stop Interaction', toolbar_mouse_event);\n",
       "    buttongrp.append(button);\n",
       "    var titlebar = this.root.find($('.ui-dialog-titlebar'));\n",
       "    titlebar.prepend(buttongrp);\n",
       "}\n",
       "\n",
       "mpl.figure.prototype._root_extra_style = function(el){\n",
       "    var fig = this\n",
       "    el.on(\"remove\", function(){\n",
       "\tfig.close_ws(fig, {});\n",
       "    });\n",
       "}\n",
       "\n",
       "mpl.figure.prototype._canvas_extra_style = function(el){\n",
       "    // this is important to make the div 'focusable\n",
       "    el.attr('tabindex', 0)\n",
       "    // reach out to IPython and tell the keyboard manager to turn it's self\n",
       "    // off when our div gets focus\n",
       "\n",
       "    // location in version 3\n",
       "    if (IPython.notebook.keyboard_manager) {\n",
       "        IPython.notebook.keyboard_manager.register_events(el);\n",
       "    }\n",
       "    else {\n",
       "        // location in version 2\n",
       "        IPython.keyboard_manager.register_events(el);\n",
       "    }\n",
       "\n",
       "}\n",
       "\n",
       "mpl.figure.prototype._key_event_extra = function(event, name) {\n",
       "    var manager = IPython.notebook.keyboard_manager;\n",
       "    if (!manager)\n",
       "        manager = IPython.keyboard_manager;\n",
       "\n",
       "    // Check for shift+enter\n",
       "    if (event.shiftKey && event.which == 13) {\n",
       "        this.canvas_div.blur();\n",
       "        // select the cell after this one\n",
       "        var index = IPython.notebook.find_cell_index(this.cell_info[0]);\n",
       "        IPython.notebook.select(index + 1);\n",
       "    }\n",
       "}\n",
       "\n",
       "mpl.figure.prototype.handle_save = function(fig, msg) {\n",
       "    fig.ondownload(fig, null);\n",
       "}\n",
       "\n",
       "\n",
       "mpl.find_output_cell = function(html_output) {\n",
       "    // Return the cell and output element which can be found *uniquely* in the notebook.\n",
       "    // Note - this is a bit hacky, but it is done because the \"notebook_saving.Notebook\"\n",
       "    // IPython event is triggered only after the cells have been serialised, which for\n",
       "    // our purposes (turning an active figure into a static one), is too late.\n",
       "    var cells = IPython.notebook.get_cells();\n",
       "    var ncells = cells.length;\n",
       "    for (var i=0; i<ncells; i++) {\n",
       "        var cell = cells[i];\n",
       "        if (cell.cell_type === 'code'){\n",
       "            for (var j=0; j<cell.output_area.outputs.length; j++) {\n",
       "                var data = cell.output_area.outputs[j];\n",
       "                if (data.data) {\n",
       "                    // IPython >= 3 moved mimebundle to data attribute of output\n",
       "                    data = data.data;\n",
       "                }\n",
       "                if (data['text/html'] == html_output) {\n",
       "                    return [cell, data, j];\n",
       "                }\n",
       "            }\n",
       "        }\n",
       "    }\n",
       "}\n",
       "\n",
       "// Register the function which deals with the matplotlib target/channel.\n",
       "// The kernel may be null if the page has been refreshed.\n",
       "if (IPython.notebook.kernel != null) {\n",
       "    IPython.notebook.kernel.comm_manager.register_target('matplotlib', mpl.mpl_figure_comm);\n",
       "}\n"
      ],
      "text/plain": [
       "<IPython.core.display.Javascript object>"
      ]
     },
     "metadata": {},
     "output_type": "display_data"
    },
    {
     "data": {
      "text/html": [
       "<img src=\"data:image/png;base64,iVBORw0KGgoAAAANSUhEUgAABLAAAAGQCAYAAAC+tZleAAAAAXNSR0IArs4c6QAAQABJREFUeAHsnQegJjXV93P73cayS+9dBFEBFbAjigVQQUAsqNhQXil2UHwRsSN2xY4NOzZAxILiJwIK2BBfUUSQsix1++6t853fmZy5mXn63Xb3cs7ucyeTnJwk/2QmyZmTpCsTCk6OgCPgCDgCjoAj4Ag4Ao6AI+AIOAKOgCPgCDgCjsAURaB7iubLs+UIOAKOgCPgCDgCjoAj4Ag4Ao6AI+AIOAKOgCPgCCgCrsDyhuAIOAKOgCPgCDgCjoAj4Ag4Ao6AI+AIOAKOgCMwpRFwBdaUrh7PnCPgCDgCjoAj4Ag4Ao6AI+AIOAKOgCPgCDgCjoArsLwNOAKOgCPgCDgCjoAj4Ag4Ao6AI+AIOAKOgCPgCExpBFyBNaWrxzPnCDgCjoAj4Ag4Ao6AI+AIOAKOgCPgCDgCjoAj4AosbwOOgCPgCDgCjoAj4Ag4Ao6AI+AIOAKOgCPgCDgCUxoBV2BN6erxzDkCjoAj4Ag4Ao6AI+AIOAKOgCPgCDgCjoAj4Ai4AsvbgCPgCDgCjoAj4Ag4Ao6AI+AIOAKOgCPgCDgCjsCURsAVWFO6ejxzjoAj4Ag4Ao6AI+AIOAKOgCPgCDgCjoAj4Ag4Aq7A8jbgCDgCjoAj4Ag4Ao6AI+AIOAKOgCPgCDgCjoAjMKURcAXWlK4ez5wj4Ag4Ao6AI+AIOAKOgCPgCDgCjoAj4Ag4Ao6AK7C8DTgCjoAj4Ag4Ao6AI+AIOAKOgCPgCDgCjoAj4AhMaQRcgTWlq8cz5wg4Ao6AI+AIOAKOgCPgCDgCjoAj4Ag4Ao6AI+AKLG8DjoAj4Ag4Ao6AI+AIOAKOgCPgCDgCjoAj4Ag4AlMaAVdgTenq8cw5Ao6AI+AIOAKOgCPgCDgCjoAj4Ag4Ao6AI+AIuALL24Aj4Ag4Ao6AI+AIOAKOgCPgCDgCjoAj4Ag4Ao7AlEbAFVhTuno8c46AI+AIOAKOgCPgCDgCjoAj4Ag4Ao6AI+AIOAKuwPI24Ag4Ao6AI+AIOAKOgCPgCDgCjoAj4Ag4Ao6AIzClEXAF1pSuHs+cI+AIOAKOgCPgCDgCjoAj4Ag4Ao6AI+AIOAKOgCuwvA04Ao6AI+AIOAKOgCPgCDgCjoAj4Ag4Ao6AI+AITGkEXIE1pavHM+cIOAKOgCPgCDgCjoAj4Ag4Ao6AI+AIOAKOgCPgCixvA46AI+AIOAKOgCPgCDgCjoAj4Ag4Ao6AI+AIOAJTGgFXYE3p6vHMOQKOgCPgCDgCjoAj4Ag4Ao6AI+AIOAKOgCPgCLgCy9uAI+AIOAKOgCPgCDgCjoAj4Ag4Ao6AI+AIOAKOwJRGwBVYU7p6PHOOgCPgCDgCjoAjMJUQuPzyy0NXV1fganTccceFHXfc0W7X6vWWW27R9L/yla+s1XRcuCPgCDgCjkBnCPBepn+49tprO4vo3I6AI9A2Aq7AahsqZ3QEHAFHwBFwBByB9YHAueeeq5OC/ffff30k33GaK1asCGeeeWZJydWxEI/gCDgCjoAjMCUQMMUUyil+g4OD4SEPeUg48cQTw8KFC6dEHj0TjsCDBYHeB0tBvZyOgCPgCDgCjoAjsGEi8I1vfCPsKBZOf/jDH8JNN90Udt111ylVkC984QthfHy8yBMKrHe96116f+CBBxb+7nAEHAFHwBHYcBE466yzwk477RRWrVoVrrjiivCZz3wmXHLJJeFvf/tbmDlz5oZbMM+5I7ABIeAWWBtQZXlWHQFHwBFwBByBBxsC//nPf8KVV14ZPvKRj4TNNtssoMyaatTX1xcGBgamWrY8P46AI+AIOAJrEIFnPetZ4dhjjw2vetWrAlZZr3/96wN91I9//OM1mIqLcgQcgWYIuAKrGToe5gg4Ao6AI+AIOALrFQEUVvPmzQuHHnpoOOqoo+oqsGxfqHPOOSd8+tOfDjvvvLN+DX/6058ebrvttpBlWXj3u98dtt122zBjxozw3Oc+N9x///2lcmHhddhhh4Wf//znYe+999YlInvuuWf4wQ9+UOKrd5PugUVeULRBWGHZkhOWFEJYZNWzykplKKP8WbRoUcB/7ty5YeONNw4ve9nL1M/C0+s//vEPxWf+/Pma90c/+tHhwgsvTFnc7Qg4Ao6AI7AGETjooINUGkqslIaGhsIb3/hG7QtmzZoVjjjiiHDPPfekLKr0ol/beuut9QPILrvsov3U2NhYie9f//pXOPLII8OWW26p73b6sRe84AVh8eLFJb7zzz8/POpRj9I+jn4AHvo/J0dguiHgSwinW416eRwBR8ARcAQcgWmEAAqs5z3veaG/vz+88IUv1CUb11xzTXjMYx5TU0p4h4eHw0knnaQKqrPPPjs8//nPD0wy2HT91FNP1SWIn/zkJ8Ob3/zmcN5555VkMFE45phjwmtf+1pVFn35y18ORx99dLj00kvDwQcfXOJtdIPyimUlJ5xwgk5ayDv0iEc8olGUuv4o3VC0sUyF/Oyxxx7hhz/8oearGuGGG24Ij3/848M222wTTjvttMCE6bvf/W44/PDDw/e//33NRzWO3zsCjoAj4AisHgL//ve/VcAmm2xSEkQfxIeXd77znYGPGh/72Md0v6zvfOc7BR8WXLNnz1ZFF9df/epX4YwzzghLliwJH/rQh5SP/uwZz3hGQCGGTJRYd9xxR7j44ov1YwYfN6D3vve94X//93+1v8M6DGUZ/dyTnvSk8Kc//Uk/gCij/3EEpgMCMkBycgQcAUfAEXAEHAFHYMohICc5ZTLWyn7xi19o3mSfqUy+PmennHJKKa/y9Vv5RHmUidVSEfa2t71N/R/5yEdmIyMjhb8owjJRiGWyj0nht8MOOyivKHwKP/nCnW211VbZPvvsU/j9+te/Vj6uRmIZlRHfSCYPyiOTF/Mqrk9+8pMzflWqyvjRj36kMkQJV7COjo5mT3ziE9VflGuF/1Of+tTs4Q9/eKk8YPW4xz0u22233Qo+dzgCjoAj4Ah0jgDvW/qiX/7ylxnvd7Fsyr797W9norjKxKo3u/3221Wo8T3taU/LeAcbveENb8h6enpK/ZPslWjBxfU1r3lNJntpFe9yUT5put/73vcKnqpDFGQqW5RYpaDrr78+6+3tzar+JSa/cQQ2QAR8CeF00EJ6GRwBR8ARcAQcgWmIABZVW2yxRXjKU56ipWM5HhZSMnEI1WUWMGAtZV+kubdTC9mzRAbyeCnhz5dtvmSnxFIOlnoYbbTRRuGlL32pfsG+6667zHudXNkYmDxjyWUkEyD9Cm/3XFkKyZd7LM2WLl0a7r33Xv3dd999+uUeq7JqOdP47nYEHAFHwBFoDwFRTOmywO22206X6GE5hWUs1q8pHX/88bp83Pzkw4P2Wbfeeqt56VI/u7F3N3wcAsKScMj6s5/97Gfqb/zplWXuHCJCH2Dvf65Ya8kHjCAfW1J2dzsCGzwCE6O5Db4oXgBHwBFwBBwBR8ARmC4IoKBCUYXySiysimKhfPrwhz8cLrvsssAeVyltv/326W0x+GeykZJNCh544IHUW083REmWEkelQywDYUKwroiJjlh/6RKTNM3dd989vdUlkfIBVZePsISkHt199901E6x6fO7nCDgCjoAj0BgB9likT+DjAh9XeB93d9fag1T7IpYTQmmfw9Lvd7zjHfoBgmWDKdn+Vpx4yF5aHGLCBx0UXM95znN0I3nrx/hIQR+AsqoecciIkyMwnRBwBdZ0qk0viyPgCDgCjoAjME0QwKpowYIFqsRCkVUlBvNVBRYWSvWokT+D/nVNKMjqpVvPoqydvPHlHWJPL/ZKqUe77rprPW/3cwQcAUfAEegAgf322y9wQEYratXncECHLCUPWPmeddZZgQ3cBwcHwx//+Efdq9He66TDBxsO8+CkQw4ZOfnkk8P73//+cPXVV+vBJPDSr/z0pz8N9dLFSszJEZhOCLgCazrVppfFEXAEHAFHwBGYJgigoNp88831VMFqkVgywbKNz372s6VlGFW+Tu9vuukmVS6lVlj//Oc/VcyOckphu5TGr8bhS/zNN99c9Q7p0hICZU8ttTJbtmxZyQrrxhtvLMXlxEWIr+wsb3FyBBwBR8ARmNoIcKgIy7zpy9ho3Si1NjY/rrLHof6w2Lryyiv10A76v/e85z2q/OKjCNZaZjGcxnW3IzDdEKi1eZxuJfTyOAKOgCPgCDgCjsAGhcDKlSt1YH/YYYeFo446quZ34okn6n5PF1544Rot15133qmKMRPKso6vfe1rYe+99+5o+aBswqsi+MpeJb60s79JeqT6X/7yl/C73/2uxHrIIYcE2bRdTzS0AKy0OFkqJZR8Bx54YPjc5z6nFmtpGO40nWqY3zsCjoAj4AisewTMUiq1xmVfxnPPPbeUGfog+oGUUGaxbJGTCSFOukXeu971rhrrXuSjKHNyBKYTAm6BNZ1q08viCDgCjoAj4AhMAwRQTLGpLXt91KMDDjhAN9LFSotN3dcU8fX6la98Zbjmmmt0f5PzzjsvLFy4MMjJUh0lIadShT333DNwZDoy58+fH/baay/9veIVr9D9TFjuR1rsT8WX9Ic97GF6fLol9OxnP1u/sp922mm6/xby+Fpve6MYH1f2ZXnCE56gX+hf/epXB6yyyPdVV10V5HSsgILMyRFwBBwBR2BqICAnxAasceX0WV0SiNXu17/+9RoFFEvp+WDDASX0JSiz4ENhdeSRR2ph+CiCJZacuqt9xeGHHx7mzJmje0diqcyG8iwxd3IEpgsCboE1XWrSy+EIOAKOgCPgCEwTBFBMsR/IwQcfXLdEfH0+9NBDw6WXXrpGvy6zCS5KJ04ARHE0MjKi9432lqqbuej5xS9+UTdOl+PTwwtf+MJwwQUXaMgee+yhVl0ooticF2UdE5J99923JI4yEvbiF784nH/++eH0009XeV/96ldLfNyg3Lr22msVk6985Svhda97nSrFkHHGGWfU8LuHI+AIOAKOwPpDYJNNNgkXX3yxHtTBssBzzjlH+7uzzz67lKlHPvKRurfhRRddpP3FmWeeqUvK2e+KDzlG9Fff//731TILSywUVvQf7BPZ6EOQxfWrI7ChIdAlpoXrfgfTDQ0lz68j4Ag4Ao6AI+AITGsE2OMKKykmFU6OgCPgCDgCjoAj4Ag4AlMPAbfAmnp14jlyBBwBR8ARcAQcAUfAEXAEHAFHwBFwBBwBR8ARSBBwBVYChjsdAUfAEXAEHAFHwBFwBBwBR8ARcAQcAUfAEXAEph4CrsCaenXiOXIEHAFHwBFwBBwBR8ARcAQcAUfAEXAEHAFHwBFIEPA9sBIw3OkIOAKOgCPgCDgCjoAj4Ag4Ao6AI+AIOAKOgCMw9RBwC6ypVyeeI0fAEXAEHAFHwBFwBBwBR8ARcAQcAUfAEXAEHIEEAVdgJWC40xFwBBwBR8ARcAQcAUfAEXAEHAFHwBFwBBwBR2DqIeAKrKlXJ+slR5dffnno6uoKXDulr3zlKxr3lltuaRmVY8qPO+64lnwPZoYDDzww8FuXRN1R/+ecc07LZM8880zlbcnoDOsFgU6eR8ug1em9995rXg2v/gw3hMYDHAFHwBFwBBwBR8ARcAQcAUdgLSKwVhRYK1asCJ/+9KfD05/+9LDVVluFOXPmhH322Sd85jOfCWNjYzXFWbBgQTj++OPDTjvtFGbMmBF22WWX8MY3vjHcd999Nbyf+tSnwh577BEGBgbCNttso3zLly8v8dlkjAl5vd/vfve7gv8Pf/hD+J//+Z/wqEc9KvT19TWcmK9cuTK88pWvDHvttVeYO3dumD17dnjkIx8ZPv7xj4eRkZFCXiOHKQjq5efb3/52KdoXvvCF8OQnPzlsscUWWk5wefnLXx6QMVlqhslnP/vZyYpd5/He+973huc85zmKDVhSrk5oaGgonHrqqWHrrbfWtrb//vuHX/ziF52IWOe8d955p5bzz3/+8zpPe0NI8MILLwz77rtvGBwcDNtvv3145zvfGUZHR9vK+vj4eDj77LP13UP8RzziEeFb3/pWW3GdaWoi8P/+3//Td8R2222nbWLLLbcMz3zmM0P63m+V8zvuuCM8//nPDxtvvHHYaKONwnOf+9xw8803t4rm4WsIgWc961lh3rx5YeHChTUSFy9erOMK3t08v62I8cVpp50WnvKUp+hYhH6j0YcaPhzU66NpP5Ohu+++O8yfPz8cdNBBNdEZNzz84Q8PO8pHneoYpoa5gcd1112nbZs2yjiLMZf3Ew3Acm9HwBF4UCHg/Uh71e39SHs4OdfUQqB3bWSHgf5JJ50UnvrUp6qCicHVz372M1UUXX311eGrX/1qkeyyZcvCYx/7WB3AoUhi0vGXv/wloKj69a9/HXiwurtzPRuKByabRx11VDjllFPC3//+9/DJT34y3HDDDSrfhD7vec8Lu+66q90W17e//e2B9B7zmMcUfpdcckn44he/qBPXnXfeOfzzn/8swlIHCizSOeSQQ3TASZ6uvPLK8IY3vCH8/ve/D9/85jdT9obuF77whSojZaD8Kf3pT3/SCTWKGgbx//nPfwJKrYsvvlixQfkyWUKJiPItJSYCKA0pY39/fxo05dzveMc7AhNSFKK0qU4J668LLrggvP71rw+77bZbwFqFOqWtPeEJT+hU3Frh//nPf16SiwLrXe96l7a7vffeuxS2Pm6oAyaEU4F++tOfhsMPPzww8eRdcP3114f3vOc9gYkjbb0VnX766eEDH/hAePWrX63vhR//+MfhRS96kU5iX/CCF7SK/qAMv/HGG4t38lQEgHc47+fXvva1+q544IEHwvnnnx+e9KQnhZ/85Cc64W+Wb/oIlB0oSugz+LDx0Y9+VD8qoBzYZJNNmkX3sDWAwLnnnqsfi+hfq30rdYKl4KWXXtpWO6S9fvCDH9T3PQqjq666qmkOt9122/D+97+/xDPZPnfzzTfXtPlAx7jnZS97WSH3wx/+cPjb3/4WLrroojBr1qzCv13HH//4R+2zGDOhtEeZB258/OLD3O67796uKOdzBBwBR2DaIeD9SOsq9X6kNUbOMUURyNYC3XPPPZkMzGokixVRJjBk//rXv4qwb3zjG+onypnCD8cZZ5yh/vJwqb9M4rPe3t7sJS95SYlPJq3KJ1YYJf/qzX//+99MvqxmMlEtBd11112ZWIyp3+te9zqVVWJocXPiiSdqHPnK25RTlFDK96EPfagpX6PAa6+9VuPLwLoRS1N/GeBqfOpmTdOXv/xllU0ZW9EOO+yQySC+FVvDcEuDctCWKFe7JIpGjZPWgSjtMlHeZaJEbFfMWuOTr/B1ZV9zzTWab3BeW7S67XNt5auV3D333DMTS8hMrBkKVlFK6bP+f//3f4VfPcftt9+eiXIi47k3kklg9sQnPjGTSWwmVlzmvVpX2phYnq6WjE4id/I8mty1+X6wNNbnlWdLLFqzZzzjGS2zIcoOfd5ECVDw0pZ6enqyt73tbYWfO9YuAlYP8qGiSIg6EeVk9ta3vrXwa+VYsmRJJtbcyva9731P61Y+WNSNJsqf7GEPe1jdsMl68k6RjyPZpptumoniTcXIR75MrM0z+dg2WbGZfHjJ5ANXIRNBjJPkA9VqyZ10hjyiI+AIOAJTDAHvR5pXiPcjzfHx0KmLgJo2yYRHLQ6w/KnS+973viAD98CSCr56/uMf/wgsEWxGMlALMgisYTniiCPUTyYDRZgMLtXNcrmUWHoIsaQQ4qspy4KqVhF2X12Gp5GSPywLkmoIL37xixPfoEvRLI1SQJs3mP9DixYt0ms7f1guMDw83A5rwTOZdIrIbThYUlFvaQXWZSyfYNnkzJkz9etuO0txwBpLGL5mEw+LBizY6tG///3vwK8dMhza4a3yYHlFW+ZruBHLxlgaSvu67bbbzLutK3WOvE984hMFP88I1h9YaYCB0QknnKDWIHaPxRDLUbEwxDIEjLAsgAjjB1EvZjHIMlJb3oLlmNFk68jiV69Ym4iiUZ89vuZjJZCSLUdN/XiHsEwGiwOW94piqa4FlChigygRAu8InjuWx77iFa9IRQWW/PCeabU0FwtMftSnKLcLGVhygj313YywtiIN+I3Al7oS5VZLSw2Lk17tOeJ9hKUay5ypW3vPtVNXt956q+YJCwowoi0dffTRdZcQ80yBO3w8azxz7SyrSvOcumm/LJ3DapZ0sXRdtWpVyhJ4Bo9L9rG7//77w5vf/GZdDoV1J3Ex3ceStkpYydE3gAnWpY9+9KNrLGyoe/ngUI26Wvekt9lmm7X1nqbd8MzZc0fCD33oQ9Wi+Lvf/e5q5cMjt48A2wiwpJfnkzbI9gNY1fFu4l1JO+Fd0YpYWscyvk6IsQaWeGuCeKewTB+LPp4TiDLxzkr7Dkur3fb/29/+NjztaU8rWQQybuKdjbX2msq/5cuvjoAj4AhsaAh4P9K8xrwfaY6Ph05dBLrJGkvymACJNVRNTvFjMs1EzPafwjx9MiTWThqNyasRk3cm/EyUWF7IxJFlfex1xNIgJg4QexdB5DMlJiYQioBmRDkwtSe91SEUT0zyUHb88Ic/1E2vGVDXW7JYLx2WgjHJQ3HCBKm6XCyNwx5gLIVi0o/yAmJZ5uoQk03ybz+W1zSiX/3qV4oXk2+x0AgoM1HaMGFu1QbEgi787//+r+4TJhZPgeWZ7M9Rb68PyrS65WpUhtQfBe1DHvIQnWCn/vvtt5/edrp3CPvjoIRizx2jK664QpVM4IxyxYhOQix77Fav1C8TfZYFfuxjH1MlX4lBbtjv7ayzzlJvFDVf//rX9WfteHXqqJoW91/72td0UiVWSUGsTVR5RX3X24smjc9yPZtYsjSGZ41JGnvhGdGWaQPs5cYSRJQZKJR57lMiXcqN0rwZmcIdJUhKLPdBmWPhaVjqJpylO6SVkrWHVvHTOFX3u9/9bl2uxoSV54alue3WlVjc6fJklPNMcJm0X3bZZfoeTj8e8D5FMUy7BU+WxVJ/7Ms3WUJ5hbKAJVQsrSX9VOFbTy5Lxn/0ox+Fww47LHzkIx8Jb3nLW3QpJxNplr8asQz65JNPVuUm7Z13IW0fpV5K1MdLX/rS1GtSbt5bvOdQCKDwQBHb6j2D8u+vf/2rKtaqidIuULQvXbq0GuT3awEBFDyf//zndQk9zxPjD5Y78K6h36Kd8K5Y08QSVN4LKL5Yrk4/1kqZ3ioPKG15F/DhgWeA5Y8omxlXVand9s+YqDoeQhZjIsYp1Q8P1XT83hFwBByB6Y6A9yPNa9j7keb4eOgURkAsFZRkb6ZMJn6lpS4s35OsZyxJgWyZSSPze2Vq8EcekozlPmJxUVruA7vsQZWJMkDTIj1+LDNLlwWJgkr9ZSBbSkEGguqP2XwjYjkjMlstO2hnCaFYcqksy6dMnjOZ8DRKuvAXq4pMJu+ZDL4zljvKBC6TDad1OUR1+aRFEkuWIi2xhshkMmlBHV+t7izfdhWlg8qiTvGzumXZg+wRpUtucBux3JI6PPjgg81L2wdx/xOXEIqiIpMJe3booYdmaVyZRGoa1SWE5MHyUQht4ZjMEkKWhogypkayWLFovuQreU1YKw/aDEuTjORrTybKpUwskbSu8Wf5inyFz0SxYGyZTO4bpkkYP6NGSwg7qSOT1ehK3VGHMiHKWFpnJMoF9Ze9aMyreA8UHuKwZbipH8u1RHFZeInCV2VRnmZE+0jbUyNeloLCx/LgKolyODvggAOq3qV72meaPwtkuRlyRSlkXm1f7TlCbopJJ3WVxrOExUJQ8yQKKvPKRGGlftSREc+eWEuqvz2PFtbsau8H2XevxCZKSJUl1lSFP89q+gyLwqvUb8BI2ry/RPlaxJON0NtangX2afsvBHTooP0hix/vo9e85jUZyzmbkb1X0nwbvyhjVZYoxMzLr+sAAZbps9SXPp5xCkT7ol7TdthOVlotIRRr0EwsTLPvf//7Gc8azwPpiGK3HfFNeXiueS8gTw6NabhEmfB22r/s55XJB5mSHMZZjCuQIZaETfPjgY6AI+AIPFgQ8H6kfk17P1IfF/ed+gioBZYMdvSLN1/LZQLGrRJWS3zhO/LII/VeBna6NAeLrE5JXh5qkcJX1HS5D3L4CsnXbb7KY9WEySdppxtFc8oYm42zGSvLlbDiYANnmZToJrtsQN6IkAVVlw824m/mj8UDp9bJQFgtI9jgt55VUVUGp6Ox6TjWFM9+9rPV4gwLD5a1vOlNb6qy6z3lwxoNixbit5NOXUGJpwzMNf+UgZ9hk7CoE6sO2atMN7TGUsgstsgDVgxYHcmkvBpN73/5y1/qF2A28mf5hBEWIvWIuuS3tok2wvK2KmENBzVrQ9U4do9VFdZJbBQMYWmFdRT+uCGssuRVUGOBRV7Msk4ZO/yzOnXUKCmsHlOrAJ5LnjvaYTNKLQFYKkN7kUmYntzGPYTFGsTylmYWDVgpgBdL1ZqR1VejOrXwRjLWRnuwtGRiXbKO6KSuUizBiecPC0/wwwLFiDoRJZ2+O82P98nqvOewvEuJZxhqVv/gjxUtxDIv8ouVKUsg0/ySfyxssTBrRtQ9SzFXl9icHwvXL33pS4oTVimtTqe0NtOoTZEn41nd/Hn89hDAGpvlrLQxljdDvBtoJ7wr1iTRVkSZGzgIRvbbDCwz5oAHlo5WLUU7TRcrTJbiQ/ShLD+vR+22fyxcsRZjCTzWvlhcYbloyyq9ndZD1/0cAUfgwYiA9yP1a937kfq4uO/UR6DYOEYsavRoahQaDK5QTrBvFMeHY0q/OsQSMpaPsAyAZSkpsZ8SS08YHNpSICbR7KPCEhP2x2E/HQjlyzHHHFPsmcMAEGXXb37zm0KBkMrGzWCQU4xY6sV+GqtL7NVl+3Wx9JLlQWCHsoflBp0Q+3KgwGCixcSOZU8poSyDWGZGPVAGJoYoAydLKFfSJZyN5FAeiIl4I0IxwT42VWIPH4hT/lJicl2PP+VZm24UA5jLVsn2+EkVB1WeRve2LBBllS1bY2kIZT3nnHM0GmG0Z9lsvCQGRRGTmsnS6tRRozSrdQYfyy5b7f3Dc8zEj73ExNKgJJ52wsQNhRbKcJ5rJqIownnWOfWvnsKgJKTOjdVXozq18DpR1WtttAdLi729Uuqkrph4soQPRT3LKHmHGZkykHueM5SLVVqd08eq9c/ppCgObmmiYKavYNkiJ/6IZYwqsSxPKB6MOEUW5TZKURRyLCel7h//+McbS9tXlFEs002JZy5VCqQndh577LGBjyDs3dVsbzRrM43aFOkZT5q2u9ceArw7adMoxa3vXXup1UrmAxPjF9ouCuPJEs8IH63ox1mai2Ks3a0H6qXJxzC2MmB8ZSc7M4YSS3PdgoGxgpMj4Ag4Ao5A0DG49yO1LcH7kVpM3GfDQKCwwGLgz2QCJRETeiyxsMhi4L86xBdSJi48JGxqXKXPfe5zOig15ZWFi+m+TtyuvPJK81LLEKxZ+OqIBRBKn7PPPlsHcUyy6xETayZ6q2OVUE+u+aHEYrNUvtROhtgrCKpOxqqymEjus88+DS2mqvyre2/WVQyOzVqret3QBshscGtfp1N8zG8yR6UTB2UF7RHlDcoGOdFQra2YXND2UGA97nGPK6xULO3VnQhPlTpiXyCU3kww2QPpJz/5ibYZWXaoRbV8Yo2H8gCcUMKinEFBLctpJrXhsB30YPVnuHLFr1V9Ep99pFIFkcXl2io+PI2oWreGQTvPE1ZPfC1kPyoUh1gR8eyhDDI5jdJd0/6pBWUj2Sjx+ZCAcvz8889XS1Pyy74/aX7Z2wdLRTa4l1PZtK/hiuKzU6JfoP7SX7NDGFAU06f84Ac/aGpBxUcFlKmN2hT5XJ120Wk5nX/9I9BuH90sp7RN2jkKe55n2mPV2rFZ/EZhvCewAKaPYe82rBvtmWs0Jmoky/0dAUfAEXAE1g4C3o+sHVxd6oMXgcICCwgwP2e52kUXXaTL8/iizYlhkyWUOq961avUHD/dzDmVx+CLZSdVsiVG9ZZ8YCVglgKYzjPZ4Mt6PcKijEkYyrm1QWamn1pGdJIOGyBDYN2KSKueZUCreJMJR2EG8fWbk446IdkjR9mxOpE9P4qosr+Mbr5beKxjBxYZKGbZ3JlyGdkm0qnFhoW1c8UKCwUWiixkYLGItRVWR2zWyzIqrI4mS42UCKtTR43yYpZCaTgKY5bsNCLeF7RL2dtNl7oaX7oc2fy4YsXAj8kX1pEol1Fq8K7ohKy+OOQAqx4jFO8ot1ttPk582X8vcCqqWXkiY3Xbg+UjvXZSVyj5sHzkXWzER4XqSac8Z/Xqy5azWtxOrshLrcduuukmnRA3q3/yi7Uoy69SIr9Va082x8aKlh9WVCzVoh2wGbct5U1lNHLzfKEkS6mVBSzvT5SVbMJeVTCaHKzNZE8IPTjD/OxKu+B9troWySbPrxsGAp300Y1KZFbTWF6hdKXNo6jmvWcnKTeK28ofq2YUwUZYimENbAfgmL9fHQFHwBFwBNYPAt6PrB/cPdXpi0BhgUURWWLHj0kdllgMrNL9qrCw4ESn6hKhevAwoSc+X+VRItkeKVVevhKixLq8sucJyxchrI4aEV8aMZfn1B0svKqEEoy9qhjcsYfU6hBlr1pqIA+soNSCDGUWOKVKLZQ3VcIC5bzzzlPMGdRCKOzqnQzIqX/XX399KZ2qvDV5j1UMk26WwdU7jrteeSx9FF7sDcYpcylm7HFWj7Dg4bcmqV5bxVoOZSknWxmheGGpFkux7AuJhbV7RYHFEqvvfOc7xT5XtHesrrBIoh3aUsN2ZaZ8TPqhqgJjdeoolZ+6OU0uPf2PdsfEnWWsjciWbaV1TdsH15Ro1ykPYaaEShWzKKR5fkyJncpI3Vj4MEmjPlMlOKeUofSjvo3qPZMsy6WdsvTNiPxx5D3LO6m/NUWd1BV4VnHiWUrLSL5Yjs3S6/REUJ7LRvvatVOW6ocG0oVa1X81v7x303aEDPbGSgkrFBSHxE3rmrqXjflT1ho3k3beM+nPFGCcdlklnh36NJ5xOWChCCYd0kuJdoMlC4pRI5SCnCJ59NFHm5df1yMCtBfqrZ6l3GSzxYeN9D2EHNomS8KhyX7MY19PlPucJmt9DPuO8E7AcpF0U2qn/af8qZs+iLbLfpONxlwpv7sdAUfAEXiwIuD9SP2a936kPi7uO7UQKFlgkTWssDjuGaouH2QDdixJsKw48MADlafeH5ZNsVzDJpFMZlIyRRl+fJlkosvG5nyRxKqAPa1QYLG3VLrHyymnnKLLG5n08uLBeoPJG/s/1FNQsWk6k6ZmywfJ69e//nXNnk1YbMBKXtjIFWJpDBNblgDwFZ6v+MjHCoC8y+l2yscfBqzsbUW5zDIMRZsttWIJCgoPlk+yKXp67D3KIga5WCgwQUd5geIKWVj0cKR3StQDeFUnkCnPZNwMflHOMXElH5SHST2TUuofCyYsb+oR1mS0IfbxYX8zJtrs/cGm9FWLDOKz/AwCk1ZEXVFnpkRFUWr1RV2Z9Ve9tkpbYgKKtQeTXPYfoe2QbtV6hAML2mnr5NeUU0xyWU5lhPKWMrMkSU7FM++OrygS2QCb9of1B22CsmApM9k6apQJMEHhe8IJJ+hkDqUjS9dov42IvYxQRvAccKgCbZg9Y1AUpBNMsEZZdMQRR6hylGcIPtpSujce9QMv+yk1s/whPyzJ411DHlCYs5ExdY81F0vWjOo9k1gpMNFDBu8T6ggFHstxUAKZYg4ZLIWuPtMmu51rJ88TzwztnOcdBQ9LLrGqSPeTIk3qBL5nPvOZeigE7QJlHs8Ay4kmQ2AOnsgkXd57WK9W929LZZNfJufgg9KP9xX4pdaX8FNHWEmx5xV7GWH5Rl3JaZAlqybqjf3Sqh810jSbuXlnUbc8I7RBlFS8P7HMY2CWEv1d9f2JcoF2Sb54j6HkRBFNnhsduJHKdPfaR4B+iHaCpSLPZiuyPkJOnFVWnhu2I4BsawMsZeWUQ/3xHsRij/cG2xBgzckeaikxvmnVTnnHnXzyyfohjqsR7wPe57TR008/XT/2WFi77Z++j+eO54p3A8ps2rm9D0we1076szSeux0BR8ARmK4IeD8SdPWI9yPTtYVP83KJ4qNEMuHMZOKmxzOXAuRG9nBgN+FMFBjVoNI94fA1+iEnJfnimMlX70wUN3pctkzAMpk4ZKLcSdkyGZxlMpHKZKKWyUQ+E8VHJl/FSzzpjUxoVZ4osVLvkrtZXmVwWvDKV81MlB96RLUoJDQPMqDNZGKTyeS34MNBPik7VyNRtmWi0MhEuZOJVVsmipxMJvLZddddZyx6lS/AmSjqMlHyZTKxL/CQk4YymVyWeLmRr7iZTApr/KseVndioVEN0nvDoVq3onjKZJlPJgPkjHJTNxwpftlllxVyrLxp/sRaJBMFUCaWZZks18lE0ZaJckHjy6SjiIsDmfzaIeqkUbtK827lTf2QL5MSbVtgRnlEaZHJMr+apGWimskEJZNJdk1YPQ+ZKGu+xJqwCJYJkvqJgqvwMwflEMWg3ZauhPFLSZbjZqLM0LZTbVvt1FEqq56bukOuKHMyWbqmzyL4kPe//OUvpSiGbeopFgbaZsUKJhOlUyanhWZiXagyrV3IBDGTCWLxDIGZKD8yURynojLaB3mxeKXAOjcyycxEqa31KYqLTCakmSxPK3FaG02fSRhop6J01PYnSjitE1HalOJyI5ZImqd6bSVlpr2Rd1Hap96Fu526Eku1TJRB+o6QfeYysfzIeEfyjIBNSqKo0rYC7qJgzuSgjEyUsR3hhzyrU1mSre9i3q9i5ZTJBwZ9ZtI0q/mQ5Y0Zz4s966KgykT5pflK27Eo7PUdaO8SUcxmb3nLWzKxjkvFa97TeKXANm5EKZaJElbx413LO1eUq5lM+Gtikw71VSXZs0hx4B1MHdBOZXlllc3v1xEC1FP6vrT3VfV5aJQd6rjRz+LIEg/t43l/8TyJZbf2r6JoysTa29j0KooplccYoxnRl4uyKpMPbXXZeL4IT9+B5LOd9i/LezNRXmk7510t1qiZfDTKGENUqdP+rBrf7x0BR8AR2NAR8H6ktga9H6nFxH02DAS6yKYMmApi6RXL2c4444waa5+CyR1TAgG+7rLpMFYya2JD2ClRqCmSCfZUkom6LkGdIlnybKxHBNhQHUu9dLneesyOJ+0IOALrEYFLLrlErYtFua97pq3HrLSVtPdnbcHkTI6AI+AIrDMEvB9ZZ1B7QtMQgZolhJjjs9eKLZ2bhmWeNkViCQHL+jiO22nNIcCeJExMWMbm5Aig42c5G8vpnBwBR8AREEtLXbLMhv9Tnbw/m+o15PlzBByBByMC3o88GGvdy7ymECgssNiglhP92GOJE6U4btzJEXAENmwEUEY323Cf0skSKf1t2CX13NdDgP3I6h3CkPKyZ12631ca5m5HwBFwBBwBR8ARcAQcAUfAEXAEpgoChQKLzcCvvPJK3WAXSwMse5wcAUdgw0aAZW9s9t6MZP8j3eS3GY+HbZgI2ObNzXIv+wkF2fenGYuHOQKOgCPgCDgCjoAj4Ag4Ao6AI7DeEei2HLBERjY+1hPmXHllqPjVEdiwEeDUN07KbPbjJDanqY/Apz/9aVU0yQbTenpZq/24OP2V09Y4RQ8FFSexpe3g5z//uZ7Q+tjHPjbIQQvhaU97WpCNyktA3H///crDSZGchCmHSdRYdHEa6wEHHKAnCWLNdeSRR+p+YSVBa/HmAx/4gJ54y4mSRpyGyemdlIs8Pfe5zw2yEb4F61UOotBTEznZk+fk1FNPDaOjoyUev3EEHAFHwBGY/gh4PzL969hL6Ag4AtMHgUKBNX2K5CVxBBwBQwBlB4qJZr+dd97Z2P06RRH4zne+E974xjcGrOXkNMcgp7EGOZ0w3H333XVzjDWtnPgYXvva1+p+bscee2yQU0FVUWNtATkXX3xxkFPWwu9///sgp7uqTDlVsJD54he/ONxwww2q+IKXffeOP/74IhzrLZRDBx10UPjzn/8cUGZxEIicXFrwrE2HnA4b5HTDIKe2lpKR01mDnDgZ5BRRzRP7mMmJbbq/I4zscXfIIYeEZz7zmUFOhgzgKydphtNOO60kx28cAUfAEXAEpjcC3o9M7/r10jkCjsD0Q6BYQjj9iuYlcgQcAUdg7SOAwgfr1U6pv78/oGBsh/bff//wmMc8JnzqU59S9vHx8bDddtuFk046qa7S5ZhjjgnLly9XBZXJx0pq7733VoUVCp2tt946vOlNbwpvfvOblWXx4sVhiy22CBzk8YIXvECVP3vuuWdgcP/oRz9aeS699FJV/Nx+++0a/4ILLlBF2dDQUOjuzr+HXHTRRarUwg/rr7VF7O217777hnPPPVetyygbJ7LWo7/+9a+q9JMjo9Uy6+1vf7sq5SibEfnmtEmUglhlOTkCjoAjsK4QWBf9yLoqy4aUjvcjG1JteV4dAUegFQKT6Us6mY+0Sn9dhdecQriuEl6f6TD5u/POO3WS0tXVtT6z4mk7Ao7AFEMA5c7SpUtVQWNKmUZZpKPYaYfZ4a67xxqxNPRn2RqWQKkSa2BgIPBLCeXYddddF972trcV3uQLS6qrrrqq8Esd+GOxlRIWWz/60Y/UC8upu+66S2UYz9y5c3VpInFRYHFl2aApr+AjTdLGYuuII44IWDpxj7XTcccdp8sLWbYI39pUXpGX173udeHQQw/VtFge2YhQ5JE/9oJD6QehXEtxx4/lhtQnWB944IF4NSXvR5rC44GOwIMagXXZj/A+r77PGoHPUvQPfehD+v7HkveTn/xk2G+//RqxB5aic7jTLbKf5m677RY++MEP6kcMIoyMjIR3vOMd4ZJLLgk333xzoA/h3c9yPD6QGLGE/dZbb7Vbvb7//e+v+/GlxLQObrwfWQcgexKOgCMwKQQ66UdIYLJzEuYjnfQjkyrMGo405RRYdGqcgMh+JUwoHve4x2mHufvuuxdF//e//61WA1dccYVORFgGQieM9UA7hPLKJjLt8DuPI+AIPPgQuO2228K2227btOAol1Be3XrdjmGjOe2vyF6ydDzs8Khbat5Z9TbUZ0kep0lW32/cV/d1ssyinKrHjz9k11Y8m2++uYnUa29vb5g/f34RH6UQe2lhucS+U+STPbWY0KxN+va3v61LKVMLqmp6WGa99a1vVUs0+g/2/+IrE4QyD2utb33rW5p38DjrrLM0bMGCBXqt/kHpxc/ojjvuCFioOTkCjoAj0AiBddGP0A+1o8CypegsG8eql3cg78Ibb7wxVN/1lMeWojMuP+yww8I3v/nNcPjhh+u7d6+99gorVqxQNwoulGEPPPBAOOWUU8JznvOccO2115Yg4f366le/uvCbClau3o8U1eEOR8ARmMIItNOPkP3JzElsPtJuPzJVYJpyCqzf/OY3+mWd5TJsqMtSD/Yu+fvf/657tPA1nXs6y1/96leKI53ns5/97HD11VcXy1iaAWwd597PeUfo6Wu8hGejl9/eTIyG/edP+Rf9Roxb/6b1psAjs1pPfJ/1tt80SqLw/97XDyrcjRz9S7JGQeq/2Qv/2zScwOUfnfiy1oj5nn3XzNKhVVs0x++o/SaWADXKy28X7tIoqPB/4C+bFe5GjtmtoQnDc5pb9I3MbiR9wn/GPc3rCM5Fj2q9ZK1vcGRCaAPX6HCLV8CifMLfILp6Z/3jzYI1rH/+ypY87TA8a+f/a8r2ni3+2jScwEd95VVNecaHVoVbPnxWR8vIZku982uXxkPOS6fEBulGVesr85+qVxQ/TEpe9rKX6VJCLNfOOOOMcNRRR6nCaG1YuIIZkyQUUs0mbezfdfDBBwcUUuecc44qqn73u99pHPoQrBDYI+wlL3mJWr3Rj/z2t79t2IcwiWMfsSrt/PozQvdA434kVB/n9ptJKalskvFKQqoyqnlLmSNvmm4X/C3iKL8yRmGpAJOfhpufXS2PdsVf3LlcY2pwTeJoNpP7+Mjlciy65CNLu1/jj9eMfPZI2j1JofEzvu4sdPWNh+7e8dDTI+9BCevtzcJA30gY6B0NPXI/d3BV2H3OwrDHjDvC5j1LwmY9y8MjKlaWlh273je2PPx65Tbh6iW7hgWr5oTRrCcsG+4Py4cHwqqR3pAJGGNj8hvpCeNy5T4bl0yJO4xKgSy7ZDXFn1e18FEE41E3CRdxYjh+UMLLrRa94MUnp1Sm+bV9TeWl+U0FFBlNPcVdh7+G1eRXoq7ubU06iUD6kZs/tm76kSTZps6PfOQj+r5++ctfrnwosn7yk5+E8847r6411Mc//nHdJ/Atb3mL8r/73e/W9y5L2YmLxRXv4ZQIw6Lrv//9b9h+++2LIDsso/BYz44p14+ceEbo7R8M3TK061uehb4V8m4Rw27eT+N9XfKTq7yLlOQhzLrljz6M4iPtu2tc+Hm+aeuEE5aEd8tQukdkd48Jg/HAjhxILsiXV00pPulnyUoV2Xcmj6+RhBVZRuImD+Rb82L+Irt4TM2tco2hfFWZyKE8RsSTOEqSTrek0T0qZSZ9+SGfsiiPuHNMkCE8eSzlGe+RO3i5xLhFGeSe8hX3uZjIn0vR8iOPuEYqLw/HyzCa8DHG5JqWz9KMMov0Y35UJphK3Wl5xH9kVk9YvFNPWL7rSNhkyyXS14yHpasGwsolg6FreY/wyXscjEbkKlOBLvoGqJoG+cAv+itPgz9FvghvwV/IND6Sl5+1S63bBINCtvGTRsLPLWnWyIWNOPwif6kNizf++sMdeUm/SBN/oaKN5relOIqlxCnix+cglVE8K6QHkVZKMR+FN/mlTXOVH7L02aGuo/yx4VXh/77+7o7mIyTZyZzE5iNpVpu5P/OZzwR+WOVCD3vYw3Tc/6xnPUvv19WfFrPXdZWNiXTYYyUl9mPhyxDLOp70pCcFJiCAxsa7NvH76le/GubNm6cKLcyXW5FNqlBe9TZRYPXOGmglKnS32MOmt6+5AoYEsj57KzdObnB2a4VQT7NJVBTd0188OnUT65vVWmHRDDMT2jPQOr/G2+zaPaM5fgPt4LJs9euRPPa0hib0DPCGakzjTea5FqtVHcHXPaN1m+meYaMdk1x77e5p8QoYal3odhRYPTObt7vanNX3aVXf7VhB9bR4Zi1le0/YfbPrWDYeGBe2S/BDvMPsPdYo7qabbiqT456wcOHCEgv3mP3WI/yb8Vs8eLbaaqtCBPfsJQXBU90kno8KnExo8VmOwiTm7LPPLmScf/75auHKMkP23VrTRF9Avtj/ygjLLzaYZ/KElRR4kS9+LHshH/QRP/zhD1XRRjyWWL7hDW9QBRdh9Css02x0qAFh6bLMJUuWaDm7pD2ZAisdzFjeqoOiKk8pvPnrw0Q2vtIGUxmpu16stM2mbniJK78ifzHjxX2UV7c8abpRrvEV8VOe1B3lpoM/Bnld8quXxTrsmm/mXJqWJWxppFfcooRSqvrjSZgor7q4Eq6/eM+t+Pf0jYkCdDT0CV+P5HGgdyzM7h8Ns/uGQm/3eNhmcFHYf87t4XGDd4Rte/mCMUN+zWmjMCcsHHwg3Nm3IvTKO3horDc8MNwT+oezsEImI4xth0R5NSTKrFG5qgJLCjs+0h2yUckkyiwoFq2oRIpBWP76KYUbTBoHviJujGP3yDXxclU+wohDGJTy5j41fmk8ZbHIdjU5VVmV8CKflo5crY0VYeJRuBM+TcLkVRlMSOSvBpfEWB7tKoEWfV30I7yLUlpXS9HTNM3NXoqUmeXnKbGsEAUYSq0XvehF+u7Fond90VTrR2YMDYquXAaI0h4z+aY1DHy0TXlWUT51j8j7RSa2+I0LbOP98rxH+HQyrgoOCeblIKRKJ2vb6iH6bbmOx3C89JlN2iyyC11VdBT3wm5KMlU+EE/4aec6CUeekOZV8stEHNJJPe9u+Wl5In9+Lzd4x8l67pa/IlvLZAqDJA7xeBY1D1ogYgkJD9LIrz57Mc64pUuYyNN4XIkDmYMrZZIwslM871EOrEqEgTUyhBGctSykE6nIH/IakNWTBlt6kV/Tjn5gTnlWbCYKqz3Hwg673xX22Hih9gn3DM0O96yYFZYPzQzDUtDR7v7Q3dMn/VC35E3eeZIncYYuUdppPVbSIW14rDxpVhXDxEPzZBgRjzDyG/PMbZWUR/8IG1dJq5DL9ER+Bc7kDUwV21yo9LSaUBGHW4KEr6g3cTYkyxtXc8MsblMEqmyRmyppC3nEId9y7ZEBfjeKQNIW4tkbk+lR1iv1D4+QYow73qdpkm/KxnOsZZR72o02fbkqSTyVx7TLZA7ljk76EWR1Miex+YjmoY0/rEzhfc7YmiWO6GA4zAm9DMqsdUXrr/dos4R0hhDLViAmJ1RkaqnAV3j2YWFJYT0FVnXpR7WzV8H+xxFwBByBSSIwLj0Vv3apE16WvbHX1GWXXabLN0iD/Ze4P/HEE+smyTI+wl//+tcX4Xwpxx/aaaedVAkFjymseC+idDrhhBOUB95FixbpxwPSh7B6JW2Wn0AsIeHdmxLKIwi+tUFPfepTw/XXX18SjUXBQx/60HDqqaeq8qoUKDd0svzSJYDw0JfYXi0sJ2RpeaoYS+XUmxQW4YwxGJDEQUfhj6Pip4PdEkOdm2pTSmTkA658UGsxdVCXJh5HhXW8LErLaxE3SbteJOWz/MIrvyJuEsFY1CuVGd2l8CRewV+VK2UsxakJl3xY04x4aF2QnqVZKKYSSTFMeSS8S6yrulBiaTwZxIpSqkfuuXZL+KyB4bDx4MpCYTWndyhs1r80zOtbHga7RsNuA3eFZ85k6Wkb5rdJuQ8Y7Amrsn+Gf/RuJde+cPfwRmHh0EZh8cigTEK7worRfrHKki/uosQal8nLmPiNiHtMLLAIpxJ0cKwKq7xQGdZafInHLykyN3orf0zBhVIMAjqenUZUxIPPmHAk8c07vaLD1xSKSDE0TzZlnXCnvObWtCZYEBqT1vzkVc/zn/CI25oEvsafcChDiccaTYkp3pDnlFluM7EO6ZQm249Ut8RYV0vRq+Vj/xXewZyAm36YOfnkk/W9yjieZYl8DMAyFouw9UVTrR8ZkXNDxuVbK21R31vapiI62sbxyEmbWrV5EU/j4IjNscqj0RM5PIMq2wRHGfGWS7lZT8RVFtKJyhx7+MdEP6+WYvbujfKLdMgeYixcBeGpjiLvpmiKvhPKD8sCaTPEsHgiTxUChPOL/kW6haDcUSqXySBqKtPiWJrcky78GicGyCV9h0yERwGJ/OgjlwmhpsCzeMVV85LzjfHxW+QsXjkYbu/fOAyP9YT7V84MS5YPhpEhscqVd3q2sjf0LukJvStEYSX1MqH8jOUicZFh8rmlvKaY1DLFbJXKAw9lsHLEq/rhbUXhyq/CJz41ZPLsSjyVY7I0RhSUpGf1Y8pDjUfdl+LVJFfyIE2TMxFgmZ7wSapIy5QqHbFm5GfppmFIUMWmDIW1TdLWRXxuBSljB7McjEmZDAYZ4zK2GEcpFp+PMfloNRnqpC/pZD5CXljxltJ73/tetchiFZwrsCIyTICYgD3+8Y8PrLeH+JLOce90ku973/t0YMXR53yBb7R3SaOlHzEZvzgCjoAjsFoIjMtIgbFGu9QZd24txDI9NlRneQZ7l7Cc2paCvPSlLw3bbLNN4F0HscTuyU9+cvjwhz+sG52z1wd7knz+85/XcBQ3vFvZ/JyvKDvttJNu1Isyhz1OoD322EOXj7BEkOUibNiLwowN3k3pwybqH/3oR3X/KCYtLCFk2fcOO+wQ9tlnH5Wzpv+wFMX6A5NNn7DJJpuoP5sJs9cLywQ322yzwImJfC1iT8VDDjnEougSQvZPRAHHvovwfPe7362rACsiNa3UU/YAAEAASURBVHNUB1DV+ySuDVhsAFgENRqrJP6I5cukDHGKaOoQYVW5VfkWbhGr4eZfXNMypO6CITqSsCKNxK/EXvEvSlHxbxanCItxatIUf/WjgFW5JMiv6m/3xVWYUGDJD0VVl8hSiytZKtgrVlaw9YpJBFZW3RLGD+qWkTHuPplB9IkCi99kibiDfPaVl0ufrJmxdFRBFYWyAoiljnxxR6k2Js92HC/L+IjAnLFQ4JBxzSuOhAwTDcc/jyiSa6AymUlsY8+9JN0IR4mluIlpkSdVDFoA/nmyuU8li8ZW4sGzwqeTE2OOYTYhsKIXeMBHPpJ0te3gncpNGSSsuI1MqviLsrgUS3a4aZMm249MhaXo9A/shYiyk+UlKaWWq494xCN0L0L2TKS/Sj9Gp3HWtnuq9SMsEeyKCxe0SVnbi21T21tso+Yu2rm1cYsDeInb2rE+A6l//q1pAmoJK9K2Z8KUF8KlYSgL4uRanxvCUZakZHLEr8hr9fmKPBZOdHXLVd8LDKhiHixPpfwn8tK4uPX9QDlJQz3iH24SmcgzmaRB+opptczIMorxS4LTcPhIR8jKk98lf2P4BF8uoKhPwknHloXKLd3AjAWylHzZ/PD3vnm5YqRP+nz5BfnIQuV0Dcu7X/hYhoos6iW33hMB4ClUKFpiHpQP3hiecyV/yQe8dk2CUqfWER4UJfKSfyuj1gUve8NKeaR3IV1xF/7iTKmQK561+SBipCgDfpYQFhaIpAOOhCfsNXWThKlE5FhexUNxUhmRMXZcus0AEYw/XsGZZa5KFkXKyhLeAmvx1/qI4doWcYsMW9ZX8EZR7V466UtsPlI17mn60TZmBN0LB30wH7EP5O3mcXX5prQFFqeD/O1vf1PLKisoExLAwkrgE5/4hE4+mDjx1bxqCWBxGi39sHC/OgKOgCOwOgiMSWfFr13qhBeZxxxzTLjnnnt0nTn7TmE1xXJr24Sd/UbS9x+HX7DhLidEoVBCScUJhKnixzY4P/7449XS6glPeILKTPeV+sY3vqFKK75WI//II4/U966V86CDDtJ0WELIb+bMmdqJkTcURuuDyD97WaHkY1NhMGL5OV/+042Kf/rTnwa+HGGVxZ6KP/7xj8Nk1vAzEGo0yEgHQGBhg6hkXKSDlSpfaTCXyo+DG9VQlGb+CNf/OeTVphgTLKULZwM+guCtyZcGVCJVmFD0QBVv9Sv+JBmhGFXeYnCJKAuXa1pkFCtGqb/56TUJ0DREsA4SCUSeLLcz/1K8GA7O+RdRRvgxDsos3e8qz88yUWYt6pshSwhFqSXyZ/SPhDn9Q2Gj/lWhVxrGPwa3CneN/ifsO3Bb2Fq+rM7tbu+5+MPQSLhi+Z7htlXzw5CsV3hgeEZ4QJaKLJe9sFBgjYzWWUJIedgDCwsrSCcH4uYqpPth4Y7hJZxhELzVD9yTSqnhgzelNF7qH92l+MiGYhb1an4mJ+eIdRNvuBhf9MrzOqEsK7JcJJgz4l8kV5FBIhX2gjcmU/9SlVOfqyPfyfYj62spuhXOlFecNIiVbmp9ZTzpFQtelqOzbDs9oCnlWd/udd2P9IiRJvok2qopVRSD+EyoksjcuqQQ5UQ+McfiiX2yMpnRaVunbfLK4hfbqS47JDwqrTRMJtjIhYc0dZ+tCk/xThCRoh/P5SKTH3nlwUIRFB+wdBIuIcrHRN7yr378ifx6L7I0n8g0SsOju9TPtopjclKZFieGFXmX/BdU4TH80ndPmtd64YWsqiPJS6q4gC2VWdxb/Um8nqEsDN6fK0XAYXRQrHC37A4rthb7mfmj2veMSyWPiRKLfk3rVfioD36KP4Kl0Gm70GGrlln+lPIHcyTCqfuUpE6szou818SfqETltVuu8Ma8pGJbuQu8YSRfKodrnrjtg6bllnTy8OQdTxwpS0mRhKi0DUg88lvsDyfhVl/FnpJ5crl8Cc/3j8uX9RZlVRkSGAnlou5DxzetIr4wRSIPujSRZ5nnVILG0nwZYxvXTvoSm4+0Y8lrSbMKAoUVVrezZ8/W7TnW9aFGU1aBxZf+iy++WPc1qZ4Expd1TiLkdC7W0LPWnj1ZGu1d0o4W0SrFr46AI+AIdIpAJ+a6yO7UZJc4vBMbLRm8/PLLYSnR0UcfHfg1IqywOBnKTt+rx8eSDxRhzQiLLH7rk9LyYx3WzimIdgjI6uZbBzoTY5CyOPyTsDhmKfNU7vLBT8KJhw1iEu9StCQN9Zd7lVNiqnNDvHREmEaK/qlXURbiFXkRh7lVXp4O8VLRlrrKS/jMP70WumDkRl5NAjdk1/xO/+ZyhSuGNcp34U/mBNdMFFIWJ08ruUdZJZuyq8IqpqvWWDKTQzeGu1/2uZw9OBQGZdN2LKRm9Q6L8mpl2LhvpVph7Th4X9h74PawR//MJLetnfvJPpIj2Y2yhHBrXUJ4x9C8cHvvxmGJKMtGZaS7crRPlVkrh/tUoTUuSqlRUWqNyS9usZdv7C4FzicpcmUSogouKSNkYMRb9YJH/G3Arn5JOPcpaR0TjlIs5UvqSL3TMATE+4RN/apsaVrESdtUzitKSWMqHBPyLciuVmS7F1TkX54LZBfhaUIwFwExZinjJm3iWpoQTXg3da3NfmRtLEWnMKa8+te//hV+/etfqyVs00JK4J///Gf9IJJ+UGgVZ12Er9d+hHeRtCmanVrQYL0hbu5VeSDX/F4c0c+UCjohF2WW7oVXaZfWbJHZGzeGL9q58car8orb4hSPAGkLkY7+TOkFr75DCcx/dm+Tf6xfsAIqKbAsDeJAUQ5Ow4AyGmk+uK/jZ3kknj5zyOSX8Jocvab+8EF2xU0ZK2nh3ZQkvmFndaNKOyyQhAproFSIBJnSJWeaCLT0FWvNS66oVIUlWOoLPddwjM8YE4XxStn3ajws6xsII10DqvxQBZYsF1eLLDZypz1BpMs7PhJp6b199CgCokPzKW67Wni9q/CUqHJvdVXwVMIL/9QR68baZKos1bxH5aiWAXlaF2mFGl4SVkpvgqfAO4YXbVj2Divao+CT9omaxQkRRR1rG0zzH92kgbUWz4XWjeVFrpp+5LNyWn1N1oC7k77E5iOdWPLy4YH3ONs8XXDBBXqQE4fwrUsl1pRTYGF+fNJJJ6k2j85kp512qtMUci82N4aYiLCpL0f3OjkCjoAjsK4RoAMYK/eOTbNgHUZTJg/ccBBIBjKlTEf/YhBEoA1cUsYkvg5m0sFkIqM00E7jr47bRkypjDii0iDS55fmO3UTL8k/tzUiE/6qKIubsKhyCDkNCWYRVJsOnoTlA/6CJxGu6fMHEn++qCYqEPGMMpRBWHTgL7M0MJEgxv4s0lM5ohFiv4ox9qCS37jwDMun2FH5rZQdXkdlFrNiXE4PxDRiEiSqKD1dSssk8cdldIzyCgssW0ZoSxeZJKn1m+ZzogymvFIZEbDqV+RS1iiYIiIO/teb0ClPEgu5YJzgrG7jS/1jNA1K4xivXeFL46XuKKMIT8Msvl2rcmJcYKpH+CtMEat6PGvLb233IyzlW5NL0VFeceLsH//4R/3gzHISLIQhPn6gNLvqqqt0b8WnPOUpepIW9xyeceyxx+rBGmsLyw1NLieE6wE+0v70EU6UDDqhpj3zI5xnMv6snPmyqcjDhfi0cZWXK5FQZuST53wijbWHxdM0UQYgl3hEjWmmjwLu9HUGvyqoJE7Bbx8GVMiEPMt/nidNQv+ojGRplZbXThSMbJqvekvSLJy8mpLG/CK/PdOpdU5kKV2KfICDYRAVdKqEEu4aJQYSwCSx9k2XrOVpR2HkEZJblW/X3Ff8I5/cE05+tA65V0Wg9GuUUfg4kVDxllPA+YDCibejbOTOfljxMA89fESZhJ+15sgRuZpKTEpxVZkaXPNH+ckL8WIcZYp+uK3e1Z9kjC/lSRSd8CNP22JSxhxHldLeH9KxnzYuuRfZmh+TIPfjlD3xJ22leCUfKAet/dD+7ORP3KSRWxFKH0t+I5XKLTxaJmTys/TiVb2kjahllfLiUyZtQ6Qdra8IHYubuJc5W9910pfYfKQdS15LmXf7rrvuqrfskXvNNdcETq393Oc+Zyxr/Tq5UdVazBbLBvniz3IO1qhbZ8hpUrYk5ctf/rLuz8JyQjpD9nuhQ5yqpshrES4X7Qg4AlMAAToA6wTayU4nvO3Ic571jEDtWCTPUPSXMUxOOGxgg9Pi2TWylS4mI+VpJMN4YjrIKQ/mjCEPKNI3PvEo8yNByKLJtSZOzqHlMl6SL1HiUchHJv52TSJYchqe+Bf5iPGKvMh9Ppgkg3mE/F7c8T4VQzwL1z0sjMeuJeb0pr7bFEpMIiDbvwL3mIyAUTxNliy+7IBVKK5Qltkm66lcrLB0M9/iyPSkQIlTrc7IqvjVKLPwF3CqA/Ukeppk7pZy65flvPi5X+qOMUoyquFyX9Rn5Lc60lsiE6caj8BUcOqO/CpXhcEsVE2IewkvWKrheazGf2PENFrqbhyxHLK2+5E1vRT9jjvuCBdeeKEWwg4DsRJhjXXggQfqHlfswXjmmWfqcu2ddtpJx+vpvlgW58F8RRHexY82y2Ra2nHRhvJbbfs0NZ1cR+WT8smkWpUBpojgGZCfTpbFKeoLdY+xz5ZaBcm9TOpZMqgKLHk9MUHP90+KShIqAxm8upAnRNoZVimJH89jkU9limlQjkilcPEjvk7Wo1xV+PDRxuLgJEyvYCJ5oozphx3kRB5NxuLqTcyTMOh7jDB4hUpxcq8iXc2XlK+mTBoxZzZFlcqx+HYlDUlL36l6tYDkWpPP1CNPG24wyxU8ebh+aJE6M6xoA1omsajFCrdHrIGHh0V5JafVdifLCGsssKJszRFpFOmIT55ULlcZ4p/oX63HgoVyk3WuEDKtTZrCx8JpO/WINOSHQXSaD62TJE7eDqIA0pF2m2OS+2mbj22U/Gj5yAO8cmlUBm3XcXmtlQPrJyuSxiNvCWnbsnvko+EzHiJKPqSrlkLlTFoWCxfJVhaUkZo/4ktee1hiaDQFN3G3rKVX9iyvHpKUhq8N95RTYNnmj3R8KaG0Ou6449Trxhtv1FNMOM59xx13DKeffrp2iCl/O+7d/+fvoX8251XWp9/fuUP9gMR3dA49RmNatlVriJfu1Di+hfx84R7mbHhdvnXxZDTkGZltj2N9lhuv3rF+QOI7/uJVyV19Z/9Aa56NfzCrfuTEd3jj5M2V+Jvzqntbg7fi0i2MveF1+OFiX92CFvfFHTab8I1ulL55mjA2CRqPp7g1YQl9Cxq3W4s3tr31HOZTe93i0uZy7t6vNk7Vp/+e+NavBiT3Pf+VI3Za0Pwbmz9LRL9wnwOaSvlxT/NwIj/9kOuayhheNhJufl9TlprATtabE9nWnNcIco8NDgEdILV+9Wq5jK30FsbTAsTZaIBVA0wiJI2jg6+G8pJIJhAv4c9lyKDK/LnKjcojMI7q0rRKvIipeqSyohsroRJfjJN8wNb8lKKSD7oCk5+UT/nIvzqMIY9dYiNIfpY26SGTpbQmV8OsgPDLhCHjS7eOqmN83LFb4gv3uJwGNTLSE1ZwWqHEZS+sxf2DYWbfiLBlYdGg7I8lJgrLs1vC1j1Lw5byupzX03o54V+HV4XfLH94uHXVJnpkOntg3b9qVlgx0ifWXrIHlqbbG0YlbcqpiiuZzGSy/4ntcZW2Ky04OKHckp8Vs8wjgoQ0zMATUEr3OcvEX2RyZ/wTIWVXnfAiDxa/wqNy9U8UVQ2v3BcJWiUXHmVHdSJcDpU7iV9XhGU4BtqtxicvaX5Sd00C9T3WRT+yJpeiM/5udkIlpWR/Wk6ncmqOwLAMkXrkFMKc0kYvz1ccyll70+YnLEUblfdRrojK363dLB2TIa3+4pBUra14b/FOi+JNHmnK6ySI0agcljoRjn+JytnS9o4MzV9s77nCYYKxCJcyFOnVPBsT/Jqe3Goe43uWN4zl2fKjslKZElDDY+E16cGcS2qcJ0upfFV+iZsrAklT8ibYaf9Efi0teKpu7s2vEJuX3ZQfpTjkPyrtCmVHtCobG5B0SU+WBy5dNkP7npEVfaF7mZxCuEzqP+6DhQKLfZfUdLhIM3eQltadpiNKwpi3AkeyBo/xxfC0HzWRGpfwyGOy7F75KtWs6eAX09G0rM5McHq19ImSuFMW3MXG6tyIbNJRrLgXmsAyv7e/WgdyY8rVIo6kpXtmqbIMAQKn1DlKZ54ryMqveOZe8rdBJimvkOZDxhd6FVbNJ3JNSQxT66kpXDXUSV/S6XyEfcXZL3b77bfXg5swOrr88svDz372s5p8rE2P1tqVtZl6HdmtOkOicFoUPydHwBFwBKYCAtLn1hsfNMwa/E7TBAHGKA3GKdUS6iAnDl6qYQ3vG8guDZQSmcXALvFrJFsHkFF+Ea/KrHKisBYySzLgrZf3RGFUTaq4LwnKffnSmpLmPfXAXcmf3lb8JuJJgEwA9L7EM3GT748VJwpRfhGfPArrmOyRNSZ7cQ7J8deMYrvkukSUWZwISFEXDMwJC1fOCX+ZuV3YqG9VmN+3PDxh9j/DwTNk35KuYoYWFowuCzePyibt4wPhztF54Y/Ldgg3Lt4iPLBqhiqshkRxNSzLQ8ZQUkkmMhRR7GfFFZxJnomr3ZNfiLBIOlBmQlR5AYlPLVk85JobrtRtsYynACcGWMSqfyXYxLR9reahem8FqvpbAoQbj/nZlTjyK1kCWJhFahC3QTGL2K0c3o+0Qmj6h+sjE9stbtqUrEIWaylRTsnkliaIn06u4/OFkgNrET1xTp5/wkdnCP/snL+EWpTds6or9C2T002Xy/JCUXJo25V41sSRz0bh8krS9NVf4mq/Y++PmI8iLtGZ5MsPiy7I8qp5z706+msYaCTSI49CKU65D5614fk7L3IkuFqcqB+y27rXCHMlLGak4qvvYcGnlD9hReFRKEQkTiEz5inPfC6MMMNZrYvgiX6q0BK3Ws9JHXE/zjufzkaUVt2i0OrBAot6kHzkFljixsqnDik+0nb0mrKYW8Ra/RbYx/IVZajKlbiadlTOEFySITKNzKJNrexoN2J9SFwIqyjFDewoHxTzg7wcp6gAsjiCCThjYQjBpwpGlZHHCTwrik9eyKIcsczyBGlc/YMYyoOXecvV4vPM1SPNG+WJGPAsLdqtO/Q8cnF42g43htlyasMVd+8Sbr9+yzDvhq4w437ZhETKSF6LtkIZRyzReqk09gOOCEljphjSLp8JYssmTj5fsGBBYHUcJ8uivDr44IONZZ1cp5wCa52U2hNxBBwBR2ANIsD+V53sgdUJ7xrMpotaCwjowM8GT/mYqSYVGyDpII7xiPHFsYmFW0Tls5t2rqlM4281KmFwlMaLeSkGaTGPdXksjQbXopwSXi0bUVS0pVd44DDKEy/hEPNT4mgmo8JPPOSVvCVzmkbJUxiL+3wyOHGfh+XJ5sJ0sKzKqxgm3npyoVz5EjzcOxCWLZkR7hicK4fOjId+2ez9mlk7hB/OuS9sPbBYIoWwZHQw3DM8OywRKyv20Fox0h/uXzEjrFg+KKdKMRoXYVhWyUTFJjB5uyOxiLFkysKsDiW0NOjmVusjxS1x16sr0q7xT+Igs4ZiuC1PVIxh0gxFbuGpkWtBka9ReGTLL9W8SNzUq5CRehLT7i1PdrUwC89T0b8mqyhPEoYTEQVPg4lNJUrp1vuREhwPqpuRuWLN2S+HQizuCrMWyGEQC0ZEwTQaRmb3huVb9smJc2J1OYe9rGSye1cW5v5nJMy4fam8F8bC8NYbhUW7yHtmezHImS0LUWVmNz4oCvSZo6FH3jmQKr3FqZaaovTI7ukPM+4OYaNbR0PfkmFRVPWGFVv0hZWbd4cRWRzB+6V3RQgzJa0+Nn+X52FYrLNWbdIVhjeWvLIcUdp47wpRhAkf1l68C/EfE0uyUfnxnGQo+EUBl6GAQyuMIoE8yT2HY7Dkre+e3jDr9q4w8x5ZKC2TfuSMxZPYUESw9JHVI6OSr0zcPLtdonRThZ1cefDkFRpGNpJ9oGZRfpQa4inJqMWp8HfLXkIz7ukKc24bl3IPS97lI4P8uoYkzWEpiCzfGtlkVnjgIYNh6c5S1nmSEUgf6uiU9+/ggp4wT1YLbHTj4tC9dGXIZg6GkU1nhqF5fZKHblXADDwwGvrvWR66Fy+X+FJv28wPi3eZEZZvLWURXPoXhbDxzaNh1o33hXDfA5JPMigJoaSRjxpd/X1haLctw70PHwxLdhWsZ0q/ISsdNrkhCxv/6d6Q3b4gdG80Jww/ZCvN74otZmjbGZ4vfLssCbtsel+Y3Tuk+yWuGO1XC172x6INjMgV691ROd6O+xVD8mFkRX/IVvXkWElRS8vqwRprLn6CJ3iMD0pdStvqG5TTD6VOOThkbEVv6FoleRcFGh+GxmVvLuo4xPanCNqLU7zTlyXFpl0WfRwKOaGMYy9FVqB/hbjoLw+nfrulf9Qlk6qQkiSXdoWBB+Q5kj3lyO+q+WKhtqMkt/2KMGf2Si37yhUDYXSlPCT0rRDtMrZHzRfPB/khH6Qn1+6V3drWSQue0VnS1jaStjNrhCoLY0v7Qv99PWHgPlEgsgAJPxTPtH1x81wMbTYWZkuZ/rt8XhiUdYIbD6wM43stDMt26w+LpF4G5UCYLWcvDTvPvjds3rdU979cJStCrvsumeyMOulLOp2PfOlLX+osM2uJ2xVYawlYF+sIOAIPHgT4uNXgA1ddEDrhrSvAPacMAqrAiOOgIlMywNGBT/RgDKSEPz+j6C7C8ecm9ajEsTGgiejkapNri5PKKrJVOIxLsmN+lbxYXlO5BS/RhV/vLb6JTMsnfmBYzPzhKQmZCKt6w1pQNW8SUOJPwovko1+JzwRSKAkv1W/0yy238nAdXPfJREgG2Swh7JZrj0zM+HFK4Yz+kbDVnCVhx1n3hXky09u0d1l44sx/ysmExXohSzHcLlZYclp6uGV0brhi2e7hT4u2k2WDM+Xd0qX7nKwc6i8ssNjvalw2680H2ZJRGayzdNAmbCqUgkrcon6ERychqR88RrFIpfbHvhz1COwi5TLlhvjGLmmY0/gmAuGtE14w5g7iF/IsrCq0em988SrJ5GRX7lJ3DC4ummh+V0pb/AtZBIuM0j1e8ORRc2uZ6G734v1Iu0hNP76dfrxcFNxRaSIKDWt7A/eOiNJkWdh0RMJEWVUiZv5C/QslfNFQ2OSvopTokXeCKEPG+2TPPFnilPWi8RGS59iscJDdPbpKlDoyAV8lyhvZv6Zn2VAYEAXPPHijXOKklHWL7F7kylWSVusgUwCJDCjrl32Y5Gc8uSfPRlmW+vNnXBQAlFfKh1JJ0xyT9+mI5EsOBVDljpQpGxAlywz5kTZlQfmUYqLlpvxkLMeFq1nuqIUP/CJXZZM24YXiSBRxdy8Nm9+3PGz2ezCEISFkki75XCXaumHRnEmZu+Tav1xOnL1DNHMx3S7qiV/EpO/2+8ImC3vDJmwPQnqUj/hDw5I+fjEdwoSy0dEwcOOdYZubJIxyQSIvWyEKs5Xyk/AwsEm4/6GDYdXTl4SXPeQPYtGzKtw7MifcOTQ33Dc0KywTDeKwKKr4GLJqVJaai8IKQmllB4BQI3xUCTOHw/hArtCCRw8DwRGJOJDVoGVX5aDkkQbVIwqtkKyMl5xrVWrE+CfCM+El8XLJUbako83EEiJd3OZvMWN+uB0fkINUCn+pFtkxZjnKJ4i4ZFbK2CVL7RctmqXlV+tlwkwxJk6UZ5ko4pSIrg+JMOEWhWgmpz2ObCr5xV8ITHBmguu4FD0MoEjmB36Ew4QDbiGukq+lC+aEP9+xkXqpN8oz0hBaKgLv6Z0b/ta3tSoG8RtfgTbslzg7ok76kg11PuIKrI6ahDM7Ao6AI1CLAB1o0YnWBtf4dMJbE9k9phQCufIlZskGK1bBcWBSDFDr5FzHYsZHOOMZ4iMr8U/GbHB1TiKrmQwNs/wjnbRbpS/hOoir5sbkpGnGgV/KWuSnkpYWPpFhcQp+80jyp17VOKRvvFyTdFQWeYLH5FSuhcVAMsjUr7V2L9duGRxj5dAtCisGrn3yFZUvqYNiacXR5vMGVoSHzlkYHjbzjrBl7yLZA2tZeFj/jDRXhXvbXtb8hLBt76qwKrtZTzC8o29j/ZK+aGhGWNwnExbZsBeF1pgMnEd6e3QPLgbLpT2wKLQVSgIVA4oqA2gG77ZprCbGH2XI72yyUlSXysqhK/grDn0GogwueVxxRT9lN2wtro7w7SZehb9I17xq4pU9qvwViY1v07zBld7HJAzCGiEJr6UPb8qfumviN/DgsbdXRwOWkncnvKWIfjPlEOgalvcHChsm3KIosvbThRsdlL5cbIKN4kUYoyZBrYlQqiwV5YwoR+DN+mR6J+8HVehQWrxRqMTnLhNlSjYg749BUTgJP/G6hyT+KlEooTxKiTjIRJki1kFdfblcfY8kMomiSqixkULvoulSLvJlhLzk+df9pCpylJUyo5ASMoWW7lmIh8TXspocePlFJZDKJAy5ZuGkgnJ5OJU/vQoviiXFyfKbyCzFAV8j8gJmpGNE2sSFRFbXmNRPSmBCvKigqm6fk8kJn2HVkPDk+ddw8UN5lcV02Ctp5oB8IOl7IGykZj9i0CXmc3aoiCmr7J1uV7JBTrknm0ryIiuQwV3cSKg2m8QjNk6Lq7wxPgoelYtQ+Ar5cp+mQbiQBed3OWTmxwegeh2CpUtksyjUtMgikYlH2txLmkp4xRLSZ4ek+qzgVuZUPnEVN8RI/2nKv1LZlAnGvLyaImlLPviwpfmBh/6XHwxRXumjk2RA99wUy7AIcRhfKe1kEiQlbLsvgXdDpLQKN8T8e54dAUfAEVjvCMjwRJYQ0mO1R/A7TR8EbLBRqtXkxsK1xIl/XQQkvO5+IToqkhgW364IsbC6AqNnym981XgyPynlFT4bAFqcypVBobFoXLnJr8IY5Vs4UYswbmKeatJMwnAqXyX/1awXfOqQP1YWBrORSukgT355fiyjuZ+yE0ZcBqD8lF9Ki5+4GaizdKBXlFUD/bJkRKwn8ENxNbNvOMzsHRZjhfGw5eCS8IiZt4X9B28TxZRs6N5VX3kVs6iXga6+sFvffeHm/gd0wDwkO8XKkFYUV5KgEAPqYflazIB7VPYM4X6cL8GSNya2uvyBUbL8Z4CsV+GhPMRRqzLCIPHX+inuhYeodh950luNJ380nobLn8gg4nNnNUL1HsaEVBZ5q/LBY0IlTEohTBORE+eEtCJjE17wFd56k4cVfhOseXrpfSN3OStRYCPm1v7ej7TGaLpy9Ny7SKw2ZR0cChieYVE+6cNKgUXJgcLJFFaYe3ej4Kg+LKJUUWWXKVLU2igiVuHFSqhLl0NNPEt52vKEDYjGDBkodMyaSMR06TI0eT+I5WeqSNJ8IJ+Xi3x9UaVMfFdp6vhTHiPujSReRl7Y6wcZpBsxQJ7tZVRgQdy0LKmbsCi7UNx1xWkufPIrKb24RzlTb6qPHPKhV8E/VYyZQg6ZlibhZi2Fv7605GJ1gZ/641erMgDPqhJL00d/IbK7ugQ/lIdYbCFi7qwwJs1lQPoYUT2GYRk0jMiPE2/zn/QJMQ9kQZUwxJN3H7kzyouX+1j2LCy9Kkfysq3ySuklb3m5cJvSR/siBKmn+HM1SjNifml49Eu9iijmkEDtk+2eOLzULZI4VWmEBVrk0TyRVcuM8Vsc6e+74ocpypRJu9cTfsVKq4hDOowFjJBFXeGFG5l013ItrLZUvv7JY8WxRMb4IiXiGqFsmwR10pdYO5lEMus1iiuw1iv8nrgj4AhMBwR0rJf0Oa3KZGOaVnwevoEgEMckNh6qyXUyZqkJq3pU25HJznUXE9zpIGfCt6GrUd4aiVF+0q7mvZo/GbGVvIS/mpaGp3ISdxGW+OWDwKQohMmvkEumU34JLsKIlvJbAfFjDJveK1+UZfIS2Xw97Zblgd1ysmA+T5F7GXSyPJBBaY/8Zg4Mh7ly6u7svqHQK7OhjftXyt5Wi+Sr+KIwKDvoPrR/QXiULH+R473IWdv0kL5ZYdWsG8M/+rYQS6yBsHBgbritf35YNDKj2NtkydCgnkrIZMFOJhwVxRaDbUiVWvGrL5jmA3kJS5Ra4pvPq4ABEJVPIkdAc7jEsw4VkxjixgmBcebxkkgWkHhpPcf7arBVR8qjeVP+Ce6adCQ8bQtFuESZ8J+Ib2Uo+NL8Wd6KzEwEKv+EQMCbCBRXzaSkFFr/xvuR+rg8GHxHttlElFaD+b5MLFNjuVvROGMDTOeypjgBHBQiWAyhcJJGpJZSan0lU7xowYSswmIqBRQ5EGnRAC1N/CQsE6UJihMl5ZE0UGqJW9NBsYbizNKBMcmnWjOhSItx4os0F5cqhfAhL6kcSUPzTD7wV6uzmF9hLz1jlu/KVRVWmlr8Qxr8IhVLCLknLj+wVGs46TDgFRhtP78CH5Nh10KgxIfSQZ7JzUMm/lpcy3M1XiIj22aLcP++88IDciD9yHzBc3AsbLH5wrD/5rfqhw36iBWywRYfO0ZFiTUmShfd92oitcJF6cklfZgptorA6J/e85pj+BFLpkGWdeNTJU18H+bKKxRyEzjnkSL0vCslTOXhFLcpefKM5VIVFuOLCanyyTIS5afwab4kWZMnLUirUEoqEggQH/p0rKZj+Ul/XJcQJoMsYdfN8dlRXUj7TksXSSif5FekQz+L0jb2vdrZaL3jryK0zJqNgsf845WLlinBjYNaJkE0naT5NJXQLl9TIesh0BVY6wF0T9IRcASmFwIy3OzIAgt+p2mGQKzSOKbSwjFOU7JrHZ7IMXERniKe+BbyUs8J7sJV8BU+7Tmq46WaWJb3moDokTTlQpb4WbQkuJGECWbjIFISsSibYYB8C7crcRO3hscvnCZWWSSgUGLhwfgwkasy5J6BMJsMM0BFaaX34kZ5hWUV/r3ixuIK5dUc2TS3V3Yg3lh2Pt60d2nYRPa6mtk1FLbQM8xRYHVO+VKQiQFst2iJ9CdlEJsAXaLIIJz5YnVCYanlA3qG73EgD0YFTlJLBZA4lSvOVvIaLA2+TSgiCDY5hTuPAxuSUirfKUMaXOMuRFYjSoCmXRMj90iK04BDvCeyqTyFPCIXNxPR63jlgdWANPHUPSGqqcv7kabwTOvAnhXD8m6R9icPc7GEjYePBxjrJQnDulL3kkJhJZaXpT2x4GNZIPNtUQypxZbsF6WKH2TW2/8Ji6FUKYTSCzkTrxzNjwGvaUueMltehwJKXzDCQRrkt6JM07j2EjFe8TSLJsJzt8hKSJcAJvfqVPnR09KSW1XaRWVYESWmVVKsxXyY7CIP+Au/+WuZUMwZUV6Tn872k/Ioa5Rv0UpXeOuFRz+1vkI2Swbxi26wxjprfHZ/WLpdV5j/yLvD47e4WfugmbJz/hxZOojl1SoxvRuS3fuHROGC4gollipm5D1kV/IjkvVe3RqW38PTjAgnrlGVuxoOX8kyKo1QSatQApm/QKCUxoleeQGSAHkHazUkXrCWykP/nXvmUoBXrAgtmdxT8ptaO0kElaGAiRulE78IQhFmzwp5l//slyURc7eOP2IEEiEf+JkXmKpcCbOyWxsxnmofg5w2qJO+ZEOdj7gCq42G4CyOgCPgCDRDoJPOAjkbaofRDIMHaxjjC7U+iQAwhqkhBiNpQNWd3hPZBi9EK9xVJhgnqBQqNzYemuDIXRPyyiEFfyMG2AumJK7wm7fmIWakNLYvypDEi5hYHJORcBTOiQFqLjxGbYgpskxuirulYctf+GCqywBysRrJlFvwZrJsgxMFR3v0E7wOlFWpRTwpN8qj5f1ygtDKQd33CjGzZPngzYObhvn9K8Qiayz8bfC+8IzZNzTc96ooZOJYPL4yXLFqXrhq2cPDglVzZYLSrScULh0Z0A15UWwNjchkRX4jsjktFcCAWpc5sKmu3otA3PFexcuIXTd5l0Fzw2oWcHNrqpghkQU146e9KhcV04jgaRZejVfljfcqI+apGoV7JkPV4FK6Eli6rwipKt5UpuXFrupZiVi5bZZGhbW49X6kgOLB52A2nT9qqqhSxVJEwTYg5zOZTo5VuSGN0Sa78JXcURkjioziXScvUaypssFoTcW9Kq9I1xKODTzO7NmTS/flQoEj8tWaic3H2YcJxQoKsD6Rx35Qtnwu5qVQBpEvlFqWZ9ISZZCeEggv9+SF+JYP8dZ3c5RV+Cfhmh+TiRiymCrUyC/hpE0eLC7X6C7ySDrW6RJGXixO5DdlV7EEEUyMTLll91zxI30j5EHkJ6WYF03PlFdJuNXf6My+sGqrsXDCDteEV879lyirRsOtYm3775HNwl1y6MeQHHO3Sn4sH9S+QN5zulyQ9528jOirIPZPhFQBo678jymRzCvNFn76Xo1xcwm5n/EX8iKP+VubVnmSB4tLbiRnWuyC1xwpE36pTMoRy6LswlvKe4yb5t+UT1alxFdFUkxPratMQRX9cusqu4lXyxe3mm4Sjsx0KaDhjFzIyhCbQe4pf1FqoYnRBhzxsDgwoRCbBHXSl2yo85EHtQLr09tdHTaaw0i0Ph3wyb3qByS+y59a2ewwCcP5mP/5a8Wn9vZfSzar9az43HTTlhWf2tu5/02frtpwfBbvJZ1PE3rsXjc1Cc2D/vOp3Vvy3L1f7QlL1UhLdmqMvfHOk2Njm9EDt27TLFjDsoPkmNoWtPEv9eyVplxHHv+rpuEEfu3v+zXlGbi29TKSlfvKmcQtSF/ILXhmX9t6r5WjT7+0qZQfvPPgpuEE3nlQ8zqCp//e5GsWHnVo4X6t28PW/6/587Zolzg4qyPfvFje04xWsbdEh5RbSrR+/kws/E7TAwGqshhsT6ZIsSmUmsTqNo90gEeeovDUu5xe/We4xIMcvh6meSNavahgkvJVH+00DnzwI78RmSy7Cp/KTwtUiat1Iuk25CNNBpzkzeQgX38xNxLGV1lOFtRBrwSzWbudMNgtllgz5ZRBlhDOEissJglz+1aFrQYXh03lGOxBOet9z8E7OlJeUYy53TPCkwcXhaVjt+syRCYmS/pWhvuHZ4UVo3Jcu3xxXynXpUMDYWUPk5ZceaXLB2VSapMJnQ/JYLjoL3Cj0OJKQpDMpyaWx8i9BOhcK1ZgblWR+8NelzQOwClMdVlUbhoCpJV7vbWMaT2kDOImTMONye4rfCXBMYqxSOGqIiyo0TVJrWDRJhMxwjO/L4IriSb+TZzejzQB58ESFC2txMQmLzEPoy0pNKWJKmp4OU00dDttr7CeIiwJ14caWVF/0jUu09ZR2VhcFCoocoplh7JBe6E8k/gZ92aNhPIFZRWKrUZxJNdFXsStSjBOF2STc32xiF9VsUMeWLJn/pSP95gptYhnlmJWJvFDqZQfSJE/oeoGNePBTTwj5PAzJRJ89qvhQWYul6ACafIG2RV3mh73pAEZT8Rc/dP85Fx5HYgMtZoDA17cZFsUkAJ2Lodk5YcFbo/wimpS+5se7qVS++RjCT/CTWGlFrXWtyEueV/JrRJ9RQ5LfrWiWBFSPnPb1foZuyeL9gGIjhdZhRzJhxaB/OAmXSIyNYj5wqfgJwxSJv2T39f5m+YjSk1qjuqR+NKHa/5IS/q/cdkovWASpyq0sMBSpphIzFcpScIhEZmfZhg9uKCM4hrLCJvhqfySrqbJFaJYqnDUuzxtyUOXKK34UKbE0ttJUCd9Sb12MYkk13mUB7UCa52j7Qk6Ao7AtESgk68dALChfvGYlpW3JgtVHWfpYKaSQMrDeCaOZfIZsPAWHuV4jImMGrBYsMqo4RcPHQ9PcBVJJl4lJzKaplWvfFGCpa/xybuVs5TCxE2zYB3UJgx18xTDi7CEXwtBhvCzH0kbj0VSnshHMANSHZQyMMXflhNSoJzSr78osPgxqbAJBUosmfUZe0dXJiPIGZPd4u0LOl/YIRugTuREsidpW35yfykgZbPypcyWEzAw/5JbPCUeUdmsvjSxiPySXEHqTu4LbAuOJB1xkpRSGgePIqDiVuYkqxZPrpYPK2ZkbXyxuI056oZYOoAy4a6wWv7tWgluduv9SDN0pnkYCisUMqLs6RpaJT95b4ilkypgmAXzQyGiV1HuoEiKG6MXCqP81SAvB2HjQ5xaUMWJMPAVs2l5jlJZFg+rKlOSwS8KJFWqsLRRSN5u0u7l4dEJuFxxswE7cUy2xMFqqFi6Z8mTV5Qzkq78zfmJYzL0FL84Wcfffsar6XKjsTWeKsLwV+94Td1RxoT1lPConMhr5cYPXiPcscz4qyLNwuRaWGHhR1yTyRVKZeU++V/zNz5TpMl9aQlhGod6Soj3/5jwj+vPNm8XS1z5qPH/2Xv3GMuO+t63uvfe/e7pmfF4xvbYxgaMMccJ5IQAgVxCTrgBEZSAyAPEURKOBNJJQCCuUCCBgMQfhPAQz4CIRB66QeFylZAAEYITQl4QAvYJCWA7BL+NPfZ4Xv3u3bv7fj+/ql/tWqt37+4eX2zPzKqZ3VX1e9dvvap+q6oWv3UtISSgk58PxU2RZwjwZKVJjc8MdPDsiIrKgJBBnCfJikvNaWYpKfK6tRmTAVGv788Y5eI6JxAEprKOfKEreqwedfHXXOnKlJs87HWYaKxdSVZuPC/j0CW4PeMV4LKvHiKTnwWbOC7RPmuqyRfSkuCc224vZb0cyno5t3j5xX5b6FLyGdJRtvh5maTLdJRgmvh1+KJutiggsPcQ0l6eJefqeKQJYD2EE6RhbTzQeKDxAB7Qey/77dYbZ/dOZbfSG7pHzAP0dfgNSzW8dYyg947QMN6EyzxD2LaIEwA+fhlXCqrLcjs9L+2K/bESUml3li+KrCLxGA6ZNbmDRFZoavS87Sz1mDEljcr2FcEazOhQBtx+qgwqQyjj6dwy6yp29NUn1dcGyz2wxrXB+2S7GyZa67YH1r72cjjQXgyXtE9r9tRauKSlT6GfRQBrZbOnAUkcmEi7DTwwiaDWhnq6FihTR5eN5LmfMGj0AQh0llL7cgAKAtruzvY8kVey5Fw7fiVdWS4Y8nEtYGURU8zPCegDj2yzy/UcOsrG6Ex2SFIlZfT9E00+10CVcgbVE3vmKU8mASvtkazoh74xmbwPShJjlvEV6PBK8xwZ7p/zGTuysBxnXXBBMPtoKn2RkLp+eRPz5ITKXlUa/FpgCRwXFgNhzczkvmOXATBoCJh4gApY+UtyPbPgkJYLWrDGAy1s1q4PUmxO6ucziQi4gTcdksmG7QTCHEZbmEkFPW2xGUaFbinMgSgP1pisJAODrP2FDGDIdRuok5wfPW4PcMokdIPzm4MF1FQ1GOBE57zIU9naIrQlp92SJ16IXE7kiHoHwd1++SpaJRnOi20KQBLYsns7dbnZAlW643fVhjX1O5mdu8Jzgs3b9YYKSVEaauNzgyAMZTPBbRqQ52BNvilGIlhtxlQBt9bWZXrdkOJVXpGJnGhGFEzZ2xshkSmVjVY6ncV11ll4RtshTYTgnSeL9YIhkElAzSRqJpXOJT1EcbEl0cStAkSXZNMOCzzpGDiNzerCJ/wcjwx+6XSHlqo9UCDjYUXgypNmW22oD2F4dOmHTqODLfnUyXeb7+VZcq6OR5oA1m7Phoau8UDjgcYD23iAh4x3ELYhqYDP9qFUEdJUHj0esB5KNEfxhW2T9UXouxT9ly3EhazUvzIS7zvm/kyS4fCKnGHyUe86srDYf8pwhKVKQVJRsaWCzNImyq6nIDaxhX0uv9KxLei9mDut4jUZMBZysu3JDgteMQBxmpS7PoTYPiyiycseMAK6JIzPZ/N1vw2bVSDBwvX0VaCuAlpxY3ftj6XOb1d0Y60JC2wtrY9ZMJuBxsTIuoaQvXClAlx7SeyB9bXVi8J/rFwS7lvdZ2/V59fHw+nVSVs6yL1mdb0dltc6YW2N0araoJ+/4bXOsBT6ckEGPpZovMp5/xl8RbM8AgSR1Y06/oGmnpCjVPE5gJI2kgCNCbleJi9pUznL246uhLsM8dLvt2qpgLLgJlP2uuxkemE8dCVjrDs9ckn1eoRG1kG4QTDn2S5vniPbeeYCgPOlP4JOugdZsCrdEG1G1vJqGFleCZtrWvIHXEv6RtsavhEA4f5FYGliXD/lzOTSSNyCQj1yLnid/1oyaMGl4muAeYkecvINVr5W2ZbncV1YEEc5eGZbrSvQtlgcD7NH/CSVkVnODjM+gmbYwQ8y6shzncjwnxFEOQYzDpiSLeTwJZk5+JX4nNxzn33ldZOTZq5lmBdctteJaNB+EjhPZRlY2RanGZSn9m9Bid9mYLF0sJ7EkwN1NFt3UWZfMQsrzrpi4/aOlcktiKXjxlcIRW6Jly/9GbzybU1HnOHECxDsiMhKH1XyDOz3SdHhjcinXGXo/Tlq7kk8rs2+6KsXLuVspA1s1PMzGyRBFjBK9sUtwQo88HQYoq2q6NkVZzQlpoQvb9iDDlflnk97eIigX+WcXJYDwPn54DBy2lqwGcpOcWxLU6nQgXz0sCWBp6JooKTT7fDcyXeb7+VZUjnWu1XwKKBrAliPgoPQmNB4oPFA44HGA+emBwhYWdCq3tlJzfE+X24dHZZ6pyUjtxbK/hRY6iYTGehMsup0db3b4pOMreYLEv+jNqatRFm/ESR8XbezRxp1kqFLtBW7tvOLaI088ZTyBuqCno4thAN4Ir/wjLswIPVws12Jx4JgxId4I5pgG6mja3ziX9YygXmWCqSg1v2dmXDv4r5w89gRC2j968QV4dZ9t4VnTN4aLuOLhSOdMDW69auEx3uL4UvLl4UT6zP2+97SxeHOxQNhYU2zHaTcN21f57PaqtP550tKm/r5OWC5G0rTeNOrz4PnoCpNxSnmGPIU2Clh8OlXSU7vwFTPx67G72T1PNPXEV4vbDdQYnDwFv6EcLjZ7baSA9APsi0yyqCd6x+Wu9xEU9E5gC/7fACuATUe2OIBCyzFuRAjumZtoMx9SSPjGBCaVnkqsjFaztNFImhkdS2MsMG6j9YZaHvZlRHoYumhEntbbYy3w8aYbnBaLjeypq+rnlZw6vRC2FxajvrZoJ3A2KT2tE22RObaxSAggSQLFqWgWh7RY2v6OY3ZwKysun0mHONS+8hJLsMCckkPvHx1saOcxKwvfOh7adF+m+GU8NAQQHIa6uAJZpF7+9ymYgkhpJXk9lSARYVjgy4PWIneAlSQFEEx36C94NyxaEsIdQPnTGGWTT35rKu9vlB1VyPPAxolzLzoNz3RlIEV6O2XgjbIKPHUCTLpKamcWtSxwZI7nlHci/nPc1a4zCuYzX42jvgn41wGvMgp7ud2CN1WbAOHXh4CwDnc7DFFlbpyeyGlAJsl0VlwTVXzhUiiDBFiIIk9tfjJZj91HAdPttN0IEc/a6+U02aSy/IcMEsO2QcrBbk8N/rmT8UDTQCr4o6m0nig8UDjgb17YC/rzZF+rq4537tnLiAO74R4npqeuirZEd6vcgB9qpzKcgamgssVTZYBvcNr9JmmhBe0pqqur16HvuDJoup0GRELw9AsffExglEn4tIPW2zfgw2lHBxVqdfspOMae7ERYbTqX/bViaBojAW86GQT1AKOoRpErdPZpCzYisrz7clwjI1YBbtt/GC45dTh8KWZJ4bZ9moY11LD/e2lcHjsTNjfWtKb9NFw59pF4ZaFI+Hu+f1hrae9TPR1qaWVsdBd0YDTAlbSZZ1wKcA4VKWO+2gc88ZzQjDMKBqQy9YM40NWNDf7xpCCk+BXMjmxuPVvZoyoTJt4tzIUkN3QZHIZFv9HSI13oN69tiXr2kOhsAMbsjsG6N6DVHsu7OXZsBfavdjR0D78HrDNzjfSRueMdplhRFKAheWEG9PjFmwiSLQ+rSVjM6NhfVyDcwVa1vaNhOXDm2H1kG4G4xoAz7fD1N2jYe72Xpg4rsVmolk63AkLR0fD6kHJ1nk6/uBI2H9rL8z85+kwekYfDnKdBIA0u8u+MDg5EXVrZhdBnvXpTlg9oFmf+vhVT7GtzvJmmHhwPUzctxhG5hX00vLCxavnwsknaHboES2N6uheqfvg5ph0juts5d7JjBvt+TOyqn390jd5uK/mlwm6mMZOj4TJ+0bC9P290FrRnoIrvTB2ciW0TsTgmgV+pibDBksZx7VMknsEASzf7L4M7qUozObUeFh4zEw4fVU7rFwcfTB5bCQc+I9umPzP4yHMqw0K1m3snwnr+ydCb7wlmdK9vB5aC8yA0+w3ybIgGUEwvsRInYcZm9wTBPPZOQTnCBZ6nePoDz1yBbZG2PMLOQS5khzbbwxaEvufCR2Pi3y3jm4dx42xMK/2rchhLB9kFhbPEH4klreP6aHg+12NaXmaBWGEI6hlzxcdg3U9Z+SFGKhRYUMwC0KJxgJL/txBqEzmgeBNsGAOQRgPxOi42qwigjmUhWLZ+qh0x5nKckdn3T54Mtnpmm3MEFuVDWt61hEs6qq8tKBA6ZmOfC1m6dvQebMxIV9NxHOHj6eMT+h46cMpHcmGZ1HPyZVlnQfFTC7aZUaQxYpyGhETNo7qvOQjLOjuSWdbH5rivON5qtWYOv76TcRnPedxb07X0v6VMDO5ajHIpZXxsLqkD6gs6EJAB+LdD5SXNQP7vlaYvkfXyElm0em013WzcnBE165YdMqsT2+E3oH1MH1g2dqEL1ZWdUz13N9YFYHSxvLZhWl4NvDbTdot3W5kPZw0Z+eZh9PCRlfjgcYDjQce5R4oOxC7MVX9oiadJx6gY0JnhE5MHlAPaVvRjxpCNQBV9kX8/PFcOOu/Ok3dFqdzsU7nucMH5KlfbJh6+6wt28lAJzj9zrrN28lIhmyRW9pSlCt0dTj1AmYNTX+MT53S7APRxaWJqV3eYU1vTZHT0h5ZE+pkT6jD3lIHmS8UPnHuWPihqbvDxe0z9mXCw62FcKTVDQdb4xqA9MJ3uneFuda1YbJ1NCxqCeJCdzwcb0+H+dGJsN6NAw3e3m4wqCBwJb/Ym2sGSIwqMBRfYU8a91qddqTGmyvhg0XnK/UtyYHkZRlCr1PeciIIhF2ekkkVumRHJnEdLhd253MiQI4vYG5LeVwy2uVmgIktairWZRamVwjrdI7UYfBUIalUnGL3efMc2b2vzjfK+/+PS0JrjH2vdAlzfSro5Pd0cv/Z9aDzzHP8oDiGNoIeCeMahBMEGV3VQFzxj7VpBSU025NLb0MzlToLCsiIjvqoJmutzCmQ8V/2a9C+32AWmDddxQVRntMC22UMvw30FTg7pCVs++dU3yddukdpVDl+cjOMzUOLnBRUt8/NpaOGTJeLTLV3o00wLuK18lp2ao8n2T/Cx7R1w1q8jHbsSwKKDBWkmk+Y7YUPRgn8cE8UXW9MPjq1KT/EOjSLl7TD4pFL+vcZtwuZlpgtm2a+qeRyyf3eFH0S/Rp5Bv91escaHzKxHXmyk9wSMPnY9zZbkJ0Q/q97rw13Lx/QssF2uHdpX7h/fiYsE8DR/XdjRUG3pZYCfvIbbUaUyU5lZdyno9w+nslIyfW5Tfn4iCynwtcZpoK1K+nKcI4r98nEQ6xrXr8z1PWLbVVuQbpIpjmGRYKQhGU6wUkJtKx8CRnSySNvijaif0AyH/v1k3jMN+bryOC2eJtZ8a+tLNWApFD5qBowotnRYWPG4pRMSuxMyuc6PSCzc00xztZqOt/EzrHjnF4+pOtQNJShi9eG8tM6TvcgYEz7mcEgmGiYJOmqe6scyL2nvTxLztXxSBPA2vt50XA0Hmg80Hig4gG9I7Lp0RXgkIrexwzBNqhzzgPl4Ux9nrNuQynLhdRl0hkaAHNyOkKGd1kFLR29zFvAvXOYZXjBZahuHVKHkxe4DHY/TMhZAABAAElEQVTdCYC+snNpugXINhR0LqOOy3W3t6bD+So5tNA5MNWp9uUVwSkQ0JBSbnQ2uwoeGiKcB62sc86bXG2knn7MuJocXwv7J1fCgfElexN+dPJUeNbsd8MzJ46Fwy3voqv3G/jpr5YUPk3Flc1b7Y366d5kONWdtLfUvEVnnyvenK/r7SzBLPuKk0yxjWdZQogdaqX6ymQ2QAFiDbd6KpNR10//YzK8GgWAX639iarPkBkjBlkkY8cvnoqigzS886IY0mBP+rKMrLugE0c+VnCnyhaevuR+GwTLdIgsxbquki/RZ311GvG7PGfLtA4oeLZcK04zJG+eI0Occ56jehoMBwVYOKfs3LHrOjbazzMbaOs8HNV3Idqa/USQh3NyQ8EuAkfayzvfD+C0WSSapVVe1wSHOE0ZXPcUL+uBp86AXsEEAlM2wAfIOZ8CK1RJW64B2UkArTcWDTbbEenXi8koZJqU6h820GaGUV4Rl3gw1OWRe9mu5UK+SUs683Wu4BmTcvCL24wfaVuLaAH0SuZb9KR65hfO+WJbpDAlAhE+uyrTOFK5yyxAAtr/vswCaZKxzXgJ+CVd2OWGQi8wz4KuHLGmKCczkHrMnFJwxWYgEWQhQEXMg+OJGHJgSWSsA0Pg1uR+cHcYhXiN32XUc4hg8F/Cmw4v0xYdD5/FZT4120yD/dnOb6XtTs3jxm11F1Xq3gDRWcCO8x5bqLte94HTeg6dJ8qCE2ANHjFREV3I0Xda+knt600IoWQ6uJ66KTAp2IYajw9sW6xIFp/bxpH+AMfGZIP5sMTvsryXZ8m5Oh7xw7FLl5xfZD/85f8eRjVFdrt0maau7pQO/EuKDG9D+IWTT9kG0wfPfk9n9A7ptjf//g4UIVx/8ct3pBn5viLIQ9K//+V1Q7ARNXLpjiThom/u7LsHnqE7yg7pkv9231CKE4v9NyPbES795/7tUBmumdE7ps9//0k70nRPbH8+wXzwXr9jbi+q9+2d2zT3E8e2F5Awp/bx6mp4+sL9w4/30sU7n5tz30534iGqVg8OQSbUxhM0jX2H9OB/8QHgYMKxMzufd5/4xE8PZk7Qnj5hHcIXhtLUkXuZrgvvuTplt97uph47Gt7ZqHSgcI53QlK+Hb7ix50vp0i+Ex34ATTeN67opLLTpZNk5TbAI5i3nSqpgqdeBjYcn24r0HqnssJX2J3hBQw99bZVzIdWP+MtDSxkGE52mH2J3uT6H/ixHVzaj4Lg1Qj7XaXlgSOaYdXp9MK4ZluNaeYVM65mx1bD0anT4cj4mTClkdLjx4+Fn5p8IMyNDr93PX28q6Uhd4QH1veFE9pHi8SGvCwJoW0rXc100CbP7IHFUo8NvTbtyZ68xBAiDVR8jxHrBFOn/cpJFCGz5IUSKLnmrpIO4sie+bxaOZdcXqSq8ggGrck2fF9BRYbzprxPX0XYsduGpsRRzjLcaPhSuaQF7E3IPAA9icfxBqpUnOih5c1z5KH575zmTueTnXsq5+tYjdItIF+XtNGCTwp6M6uKREDFZjARwBIIGTZot2BUEpxgo+mCs4F0mvVEOd4vxEcXFVrRxUF4CogghmsgqlQl1iu5KjZ7jJmh3nVkkK97lc+0MTaDqZRkklP0hD20iZTbk+wiAGNJKspAgNmcgm+03+30QJPzGLxog9MlqdHPVNymRBtnk+GXRJlyP17mK/nM6MRT0VPSuqKkgyz6Wvdq2ixavvjHDdOOY2ovOOoreqFxam3KlgIu2kc80nIzgld6ocFMvBG2QiNoJV4/nlGuy4+5/ppMcPYDMCDlNqZ2GEnJg4+yn6oyjXeATNe3LX4Qj2D5eElfUplhZgZtdtuU5/MYPyb77fzi/BSDHy87l9I56wGvloJP5flWOf+NN8rQ3yw7t8d0C+72qNhmqhMzuzwhg2uX447xzuO5QD0Fqc8m7eVZcq6ORy7oANbZnBQNT+OBxgONB+oe2Mt0XXj5gkyTzg8PWF+Tzgc/kude1qHOnS4/7J4bwwAegTKP06S87CBlVKmz5HXiUliNNsug4PQVoCrwJ1wpCrJ6vcIqNsMP0TkIb+6Bp+Abqgel2Of6qDMIMhkRDsiSyzRa4VKn1XAEqvSzfTwEsL0yqEs2PzaUJWDF8sC29uBoCTbdWdMyweUw3V4LbY0WLp84Ga6fvDtcM3Z/mNV0h6stGLXzywRmYj1/cinc3zsevt8b05LCpTDTWg0nutPaK6QdFvQVwjOrE2FFXx+0t/CakcXG7r6puwW1LIBFw2S8Gp83r00BLKvjDurQQJbyWFdFfLjS8ZHI/tofcMbjdH1UteRyHVqvA6/D/NgkHkOXNGlQZ+gEL9ElPInYosLh9dzanIB23tQJasCaqf1zzWV40LMuZ0i9eY4Mcc55jlrXLWJTQSkb0BKI4kfAnECEzVCKtzjcwKDbgk5+70qBCr9uLSfgYYPneKYyE8lmafkgXTibbeUzU5ALLp3Y0pwH1xZYAcXFVuiyS0L0ngtr/JU6sPq1Ixl+YSLTgixJLuR2H5ct2R5oXLdyl5/x8CQ5Jou6ktPF2oC/yFQy2bFocry4bb7l4k9tcOc5o9OZbRjuiCKHRobasUp+MXtKmEiYKcd5sLg0Hu5t7bO9oyj3To+FUe0ZxQc7WBba1vo6ZgWZH0xvUUY/sJSbFVYHkFIqVnwCqiBx0goN+AE0Tkte0VsiDGluEFEdUdQl32WQ2/FNvAVVtQjPgHMrB42S0X67dvl2bRB4TW3KuqrS+7Vktwc6QTB7ETnuF6/7MlGCzixr7SkQbedyX1ouMWPybNJeniXn6nikCWCdzZnR8DQeaDzQeKDwQJyuO+zJWxCrCH2TzhMPcCh9IEFnJ3V4cuvKQ+3lOk0m7he849SH1ErIQo7LLNCZt+h1FcVIKaItsEJGpegC0VXoG8YPy7b4QgZ6zB0lTOVBvG6G4Zh9BE/J534tYa6gpHV8zsVoePL0QzQDSNXtS0jK2USWzWMJXnU0LYIZV5PaMIPg1Wx7JYxrg4uD7cVwkfa4uljlqVFere4+tbTzbUuD04563C39/NPn5Jp3Zfp8RhYBq3VtABwDV9JBcMdPRDUhBpkEZ80GbRMs9sbpLFNRsqYKycDJaQxR+wMuJRNDWQX8j7ty8jL0BY/hVTebnFi0mFZJzl8CnQYcMshSuSSrlAfJKQgqNie4nUupbPgSAFxAB4HH21uSE4Aoy1sIBwOa58hgv1wIUJb72apizvH8PInnGPVNrRLI562f31y3JHgIeKnIaQedBb3SwB1YDvZEkZGHMrpEZ0EqlW1gL5An05n0mR1+S4M3wQfReBsMl+xwmXbpuEyA2Od2ZaJ+weVbnsCZvsbn8ApP0rXlkhWc4EblvrSDLX2r+qWKLoHdBqcwPIFI7OBXsxlYpCFXJdU5hl624yM4y8hZVs6Li542+h7Rhvjsa8YxJCeIZUsk8TlylNv9HbWSTd1gwm1J2OXwlJtdECLLcc5Y1E1ust3Q9TY6T5GXwZ5BPL581ewVgflVcuv+LUTGYqHb21vKwJcjvsecOCKNfEN7vJ3kLJ9NbYy6C8E1peCRa8dJZQ9W5T3YCvo8K1CyWWLIvljeNq4/2/8uqXK7C/ZdFffyLDlXxyNNAGtXp0JD1Hig8UDjge09oKGmlgV6r3N7Osecq2vO3f4m73vA346XndJKByt1gODwzlCfO3VcKgAIS8CAciHTOpxO7/kAFnS7XWaHd6idVrxxkFMIdwanIS8aUVeXyROiIO1LKMQ7MAcyEh9yMsyJCj7D6U8BMiq3x+CqWHuKyzLbBzXEtgm6qF0ZMPgw3HL1/Qn2+OtZlVdYQsisLAWv+MLS8c60ZmTNaQmhNm0X3y0TR8JNU5eGy8ZPKaDVDddoCeHPaklhh53Th6SFjZXwdyv7w4Prh8JxLSO8ZelIuH3+Im3oPmYzrphtxZ4n7IXFOIGvRvU0iLGN3WmYYLZUkAGLN5RmFLOtjAa6hLfjY/VomNcrPBFl/rBiojdaxwHbY8r8w3gLXKZHD/ZXAIVy4UqUu8KAubKVXRK3pkI/DqjQVHCJtSA4m4FH8xzZegguFAiBBz5k5/edst2cz3Y+cc5RLvNEaKe2zr98inMupvMRXgbJHtRCht8bya2MHMGZMYIM0+F83FNAQ6vbGDO5kI1cZoiYbJXhc7wN5I2r+OM80mF7cdEOJbfB7fD2gbOyEfFHKfFsgaO7bEuk3vZv1iF5WVaizj5UvY7bVmCyC7xMqSSTga+4cW+TzJf4mZ+S1bGtqNO+tmYAT2mfxS5fv9WzgK8lsg+W0aGY+33it3MFvchAtRpmcg1W2FIUjbeoY7L7apD57h873oXjHI48T4auO8eRA/OCGJtS1dWgw9vj5wU0W/R4GyQCXD5PXLzhQSQjHC5h0KODc5wlhebLJKfUFeWmmVSIon+inICU8yC94hezH5kxUIZdOpI6hELQN6nTG2R3f/byLDlXxyNNAGt350JD1Xig8UDjgW09sJfpugg5V6fsbuuACxhhnaHhsYnsHTo0u050pkr6slwXIpzJ9t7RDooibV0I+rwH18c5yOUPEu005IYvxdTtpl6HCVSRy0AEEwbQAQbu9lg9/SnVGo3kZFonzMYmHAEq10MOHj6ScCMEr8gF90+Ds4wwfh5cn8jWcsLpsTWbicXsqIvHFyx4deXY8TChUem1nfsVvNp5X8MZfXGwXEI4pZ2amYl1fG3a9sLiy4QLa+O290lPgxSCWav65LbGLnm/nLhEUB1ndwSb+zKgSYManGrBKXWYSUaXHG/HDiCDHQjLA+I+A6WEjMgb6/jPXOh6rZJwnjku5Yg3sYNonafAGVuW4QUnLHIJBVszORIUQB3NCmxLc83ACkmsmHAVC9siovZ3J3yNnOrD8Rz58Ic/HN71rneF++67Lzz5yU8OH/zgB8PTnva0AdZE0Kc+9anwlre8Jdx+++3hmmuuCe985zvDC17wAkN2u93w5je/Ofz1X/91uPXWW8Pc3Fx47nOfG373d383XHbZZVnmiRMnwmte85rwmc98RtfNaHjJS14S3v/+94eZmeF7smYBF0Chs8gAWQ3VeWPnYspt8MwsDQJcKbjEl89YUsbm6SQCU8y68Q2jkRGXDOo61f3BTnudtxbA4sKlTBBDfHmJEzw8x7ifqOypuGQyn/FzHShFObqaEIsMLYfSCmjbk8uuEcEqAQOCAcwSGrC/UJSov26f3Ysi1H1CLZcLO+2iT3yRI+p1GwzmeOUk7MrtRRb40icQkWhD0pV9mWSAdpzpAqCUbVTZfIS/ue/CZ/L0J8mEfoTlakajMjQ6TuTAkLU+qTm4ehbNTK+Ey2dPhZVeR1+r64VTIuqO6UQQXU+zsTba+tCHNvlnSaHJQabJQ2aUF+tFoN/x2EGZlPJ6PSL119oQaxX5zp8JY6H0h7Xb26o8+4RzT+egHReBsz+gKZPrKPwH2nV47izIsbY7H7rTdWB8ChZV9EKnn/NBw7Fb13PP/eE6PDc5/iKMSk7wRMXenhykNDCOzMRRflE3+X30rkt7eZacq+ORJoC169OhIWw80Hig8cBgD/C2g99u07n6xmO37bug6YrOx679UHbESn7KJc4FAivpIKNe9HaKYrVT5DLpNyHHe2QqbknClXJy2W2SrIpel+V4F1ivOzzlWS71krZoYwWMXgPoT4GoyhFR4neSjHeA5zV7nM9zgldZj4TYl58YYAi+rgE5wSSCV+xNtajR28nulGZfzYUJTTNgOeF1mp+5m8QSwtnRdpjaWLfg16h6vCwd3DHRjjoZjeVH8MpxnkPvibbZ/wgkSAeZd7qtIjl+aJ3N/OFy4DemvpsqOp0OZi9DT/KcsuMokxyXZEeg/jqd4zOij6PplkRjtmdAgu8i29JmeFzuLvj3SvKDfo588pOfDK9//evDRz/60fD0pz89vO997wvPe97zwi233BIOHz68xdyvfOUr4WUve1l4xzveEV74wheGT3ziE+FFL3pRuPHGG8P1118flpaWrEyAi2DYyZMnw2tf+9rwcz/3c+Eb3/hGlvfyl7883HvvveGLX/xiIOj1ile8IrzqVa8yeZnoAi8QwLDlRgRQCFbpq3w2gNb5xoCeLw1y7nFOamu80Co+MmXBKgWN1vmSId0QznkG6fwIiin5kqbK4NmvH7GRbCYVMH6CmV6NEskZ4C8qJtm6bj4896pbwmP1YYpvLxwNf3/740L4rmahPqB7hPRhN/Z3liRE/+O1R47QmGzpGPL1A28zUJK9UACPAQUFFlS2lOjt+oMnBZosKJRIXG6qyiGJtdCdcSo4vevItqYZMdBa23nY4Fclo6HQb46CgDHYlGFuM3Qk7LV2xmr8GwXUfRBpk/CUmTiV8cnUWDdcpC/crira2NWPmbmkDX3wg5cZGxa4opACYPJTPBeiUXwcwNtpjJILflgyfmxJ9vi54X4bxBt1FjycQzIBf5LcHxxHS0m2wVPZz7vMk84R43FbYC78bTZRd5jozMcCGQ4+gmSZINpUCWBJD9cCqTxvrd20gR9f/rRAbaTLf5Nd3j6uN3tpJAJrR/KD05vvB/JEoLoWZ5X28iw5V8cjTQDrrE6NhqnxQOOBxgN9D/T0ROO327QX2t3KbOgeQQ+kDggWWOcwmTLolNiC99PG83ozXLbnpgRFNcISPwidOo4VA0sRydjSPtBlGzSc6HcCE2/sXBbKKRbVLXYmvoGZt4lOnxN4QXkWC4y646CtG+78bk/iMTCwkrekNcEJgA4CVY4vdLD3lM3KEozgFXtWkbORO3tWaaGfcsH7VruUobm+IxXGFPjqqJdue18l+SZb8uO9QwFzDVCYBdYTXpbEAJIk21gNx7izhM+NdV94jiWFE40U3zu+wHkx44yXPzFlH9UBWxBOEE0s0a7DKTLOC26XEwzKoXH6Em+Gl4BqeQtagOLIV4lVy/ToIw3SGTG7/vuDfo68973vDa985SstgIRRBLI+97nPhY9//OPhjW984xY7mSX1/Oc/P7zhDW8w3Nvf/nYLQn3oQx8yXmZcEZQqEzhmdN15553hyiuvDDfddFP4/Oc/H77+9a+Hpz71qUbKrC9mcb373e+uzNQq5Vxo5U1t6MzspU0Nijc1Mc32yeGc0vnlg1zLcUztXKsM9Aue6kBffRRwzpuupfp5bHU/p2u6pu4V+z2z4Z82nhq+Ihqu1xn9TH+Si93s59XzD3LbAF73KlMeeaK9Ykg8+R6U9HoQzJZsARPdBkuy3B7V0W0TS4ubRm4LdEqGMh32J6sxvRIGffatykav5ySba2+XsKGiBz61uQJz3UmI4dBVBNIseFYowQ7/qZRsQ3gkwmfIWVNEY3F9TDOw2mG52wlrfMhD+2KZMzQDa6QrXgVfOPbQ20wsyc6BS8pKfi65ba4nYiHIpb5dyRbDlGVo9cNGx3lbyP04eO7+t3MbOYUssyeJ8cz4VMm4gr7khd7MTvYYv2gtyEle8LlMaDh+BPbMfhMQbWZfuSQx8hYyCDh35oVNfva2eECV42uBZU2Oc7/YzEPNlLTZh5IM3jZx55qXDaaN5zpBvWTrZgqkGXIPf/byLDlXxyNNAGsPJ0RD2nig8UDjgUEeYP+rveyB1fOn0yBhDezc8wB9j6Jz5A0oO0wOK3PwmS0VduKpdLykt0Lvwur2lHSlgNKYbcql/BQq6Q8E4HGdKpa0Ls7QBY3Bsa9IuVqno56QmJ3p4C3rhkgDHJfr+ILJml7WGRTEqVxZeN7gHDoNujb1s32mkEvAiOWE+pl+5V0NHlY1kGAPLAJapzqT4Ux3Ihwbm41LACdnFYj6Tni2D+jcvgH5TWtL4VhvJty3fiR8e+louHPxQDi9Nhl6ervO1wdt8169ZrcN3KWXgcumPp0eR3ISiL/slxqJmYzy0qAFOhu4AIcOcvcHudFHoOETDXQ5QUOljnM5Ced6Ml+9UOcXHrfumLLB/TZkW2RDPMaFIAHMFhdcoBzE7IpCbPZNluuEg3i3ww2jdZ5afrbPkTNnzlQkjY+PB35lWltbCzfccEN405velMEs52PJ31e/+tUMKwvAmbFVJmZsffrTny5BlfLp06ftmtq/f7/BkUHZg1cA0Ynur33ta+HFL35xhf9CrawpaNVKh4zzNZ+zOqeZhWGDYAIEOq/82jK68jyjzE88DI4JhnmC1veqyuc110smUCFdP34t2KwUdAtO4p5gAZE0aAeOXdDFm4JyaBDqgqn7fUfgbFspt2bbhr7MFvmT4sRHZnqS/LL9ZiNssKSf2+e2WbCh8G1Ja7L1x2BeQZS3JbXH6o4HVpjoYMsTPeW+DAJTEVEGsAwmxWXgIvqRBkWpPc2uY29GngEPrMyEVT0PTi1NhtWlTthcbttxaa2MhNbSSGjrh07zD8dKbfZngMNdbtRTGBvV9f8iJ8nKPJjFj/NRqYJPooBF2ZEWP9m5Ao/KZUJWlsHxSTLsWHB+QQ8NONqTzj9kOK6UVylLls2QwwfIlZxoB/5MdVPel4Ueu1Z8Zh1k6DYZ0bhsb7LV5CbZIjc9mkit5zP6UAS/+g6y3ZL4KLfWgAmPQGCmRzB0KbEs+GzSXp4l5+p4pAlgnc2Z0fA0Hmg80Hig8MCGnoj8dps2ijdxu+Vp6B6dHrAOB52Ss+lnpH5LpUOHnEGyYh8odu4SPoG2OmYQIsGs07aVI3caK7prcqjS8a6Bq9IcmXLvjGYix2fA1sIgG2FzWbHjOchJUVbmN6a+/MhXGKBips1kfbx1dG0PrEKu9Vz79W5bQSzRLEIn3Kg2eb+/MxPYJ4vY2LcnLgk3zV0S/nbmvnBIr2yntbfVFZ0HwzWd0+GIRqzsP3GTOrlfWbom3LR0qQW/CIDdvzgTTi1MKkjVtllVBNI2tWm7BatoOoPCdf0Ed7/YsSvcYnDqqZH9erSfv1vuWjTDOup9mso5UYAHFbMtIGvOreAGMZcwb4fnJa5Wdrmoi0evfwxrpNFXdZm0WYRursur8w7Fu8yU54FKXciQ+tk+R6644oqK1Le+9a3hbW97WwV2/PhxLX3thSNHjlTg1G+++eYKzCvskzWIHvigtLKyEn7zN3/Tlh3u27fPSKCtL09st9vh4MGDtg/XIDkXIozgRQ5gcD6mAWxrJYTJBzfC1P1roX1mVcGi0bB6aCIsHmmHtf1xlof5SydwpQtSXAKcz+yR1VrWzFDlJPbPWp8Qv4Jm7H3FgB1dbdEwU4SgFEsSu7PCi8auLWwUjvE4M1ZIyGbGjyebdULwjKAWiesBGnKK8BK8Ag9QAK4V6t5mpyMvk8soYZVyoQe43b/xAz9w6JCufG1ii+NhoFxLxP+BGx1Ftdt/Ruo6lXuy41DyQIO/4JUgl+X0ghreZvxkv6YgRpKLX0kbMojgFTOx+BIhLzBs1hXPAc2+8i8R+rnk7fXAmfkh65BA5GNfyt0HbiPw3F5oICeolH7QO950FX1bD9LhQlIM1MVyXw8CEqzMzCb9SfoNJTqzy+mF06Rku276M5+wrS+zpMfm3B4Fp3JCLu1JL7OQhf9iuzQTV/K05ViwICJLeUnJLjuuqlqQjOuDpb+Ilh/00WI9sxMxGSnpwC7ocJfloODzlNQM9I3TDMn38iw5V8cjF3QA61d+6J/DxIzOym3SH48/fRtMHzzzN9P9yoDSgW/7WTgAmUCnnlietYPprn//rw9G7BHaevLSUI5ffvY/D8WD/PPf/6kdadZ38bZ53007n363jl88VNf+G9IrqyFUc4pw75SWtLZ/pzSuN+w7pdte9LGhJNee/J9D8SB/+mdu3JHmn/7v/7ojTfdpyzvS/Me3Lh9O84zU2xlC1f5+8ZpvG7rcmdkGD3jz7p03On7cC783REIIt/+/jxuKB7l4rTaQGJI2lofjB7Hu5W0H/OfqG49Bbb/QYd55ww/e6St9UumUlAjoa/WB1W0eIaXcrNdpk+BBNE5iuiqVAdoHGFjKNI6SxuV5PkDkwEbX6GvVLX41fOoIDlJR5y87gdlXMKoxlXpdmARZZ1idW0/qnnpR/OD1K4Ncmkakj0NZUAvCxfZkOH5yNvz7xKWapaU7hXrc09rHZP/Ecphpr2pMMxJOrU6GBxanw8LShH1dkEHKhj6RHhic8HYWH1tHPQ50zADBbHaV+z/lhXXGZx3sgsaOX73R5UEVrqy6Lsv9T0WJgIV8J6nnO8qEoS4XmMumPCgVeGPfiwynTTIqNhZyXa2Te71i7wD6TLfLwtk+R+66667gASNU1Wdf7VL9QyJjb6tf+qVf0oBsM3zkIx95SLIuROZL/2FeM7B6YfmSiXDqca2w8BjtTDOjWZ0LWiJ216iWHXUUoNA+e2OtsHRxO8xfpUDGJYomKYA+Ot8O4w+MhokTGjQrCEUghODT+qRuGxrisA/WxPHNsP+7i6F9x/0aVGukfXAurF4+F5YOdyyQxX3MglpTCrDo1kOgaupYL8x+bTG07j0hHtmiWXNhfCxsdqSAsgb2mx3NAtWPutl2iT42cVSzUg/IDu6LpOJ+Y89LdaUJpNnMLJnS1n5ZnQXtm7XMiF/0utBg8Zkr7ZWNMP7gWug8sBBGltRA6e8eke2XTYTVOemVOWv75I9DepmwXwI7Wsr9YCfM/UcIF31Lbb5H9k+Oh6XHHwwnr+nIx1Ii+eMPjoTZOzfCzN0robWY+robskH/CbZsTHbC0tGpMH+0HVYPRrvGToSw7871MHn3Yhhd0dcAD82Ek0+YCPOP1e16v5aPL0vm7aPSuxLGv3e/DgSNlX+0ufqmfgQwRnpS0BVc18wmZVu/JpsUOLGyZk92n3A0PPAjms37ePUWp3phYm41PPPoXeGFF30zPHHsvrCig3zn+sFwx9qhcP/aPtt/cVUHkD0YV7W8cF0HdE35vD7+sbg2Ftb0UGKGsMV2LMfR6otqdu+6ZvWyjIyZvTx77OuG9nUQwTCPWb8201cMorGXJmmpIjLsGdjRs1TnYr4n4kN/dulUCfu0d9fBhXDFvpNhrNULZ9Y0S3lhJpyZnwo9ZOt48PKnpagPS+MJ7GDHxpr8pqWRnBcjCtjh39aqbNDLG/StT+s4zeoLwBO8MNJyfr04GtOHVSb1jCU9eGombN4zGaa/P6JzTDOotUy3q9j62pzKE9Kjc3RzTE/1qfXQHltPuuWHNNMZO7BpcnItHJjSM3tsNSyvd8Lt910UOrdOhKnvy26p6s7I35LbncUP5iYhVFa7aBvBvbFTo2Hygc0wfooAmb5orHN3+chIWDms63pCDmMKss7d1ph8IB+RNjjf/x8r7unPXp4l5+p4RG5uUuOBxgONBxoPPBQP6NGzpz2woG/S+eEB67zRQSOpo2IdllizQAAdoDwIpzND8pwy+DKlug+mrer05ACUl3pKditDB80WRA2wEwFyUsr6ClilHdC5PM+BJVsolinLc6A32Ov1vM4g+gGgzJWPix8bbCrtgjL2i6vHI7XPZKNDYw5kWcLGoj223JBBmjqcfK2QpYVtdXY76giPqxNNh3r/5Eq4bu5YuH767nCJZl1NjWgGVvt0eHxnXEsMJVzpzvWF8OWlq8I3F68MZzTqPK0ZWPct7gsntURkbU0zsAhoaaCxoU47HWtLDA74pZsJb/atLFrMtCRcDGAVMHB2UqZmO63nclLmR4jDPTfB1T9GXz8YkBSCKuyJNvIlWfhVycVkXIVRBIkuEtvfUk3mj5jd/c1mosvlK3dbSimZtgRShq+01eXU6YbUz/Y5QvCqDGANUnHo0CENxFrh2LFjFTT1Sy65pALzCvDd0Hvw6o477ghf+tKXKrYg4/77NZAv0roG9XyZcDu9BekFUxxh83NN15i6Z0mBqHbo/ZsG7oo2jK51Q0czr0ZPLYaRRb2UVKBo4rZOOPQvCiSNaQhHIN+DLuRc24JttnWfEC2bTXtABrpNBa5I4DunVsK+RQVRUlBldFX3rBWNxjVTz2e0mGwFXkYIvpg8yUUniSVR8OhHGpW9s6dXwuz3pBf9JJZhIa+rATkBGiIoyAHvcqBL9ySKlNljyHQbQH+gJQi0L04aaJ+R7fpZKnmdnsCQ6Y22jayuhembHwhT35PPaAsJPujwm9eVe9tbepk5M78SpuFJM29G1kUrWSMEoMQ7pgDDkXta4fA/QqM2IVMBQsNTJnhFEr3BYi3qxO9mi9qFDbLXbjq6Pjo33x2O3toJR5PfF64/Ev7pZ58QnvwTd4WfnLxLAayufvPhxOhMWGhN2Ibuy9pVnIDVyVUFhQhMpR/BK4JTwGSRJeokD1qRuxt5bhG0iXjR6Nm2oeASzH2+ftkI9exjz0bug3ZYVaZuy+3Ro+fSydPT4cTJePxMDsYkvfBsKJDFTGO/BwMbVUCHoA4J+zZm1Q4LjEEn+WTSbZvXq0zQbm2lHRZG4iwKm7l8oBvOzHJsJEQ0yBvRj4AZVU/2jKWZstX4eNaiUztZdhc74UwoJqyIZvVwL6xdFCWwvNOEuUDq9A1Sv0ClsCza5atEIN5oi5RBX/DSFmunjhUJm84m4bHd7m0VvXs2Wh5ZHl1xTWo80Hig8UDjgYfiAT0K9ZDb/YNmL7QPxa6G92H2QOrDVLRaB6UCqVbAlynV6fB4Sn3NWK3TO1EJxw4ElEKENzlOB87LLmOnHPpBPDU9JU3UWRJIRtkgM7QKGmiGOnaVJDtKMeAqFLHvGe3F5gpSdfiRWZcDbUoWuFIH1GYSOByexEdOJ3hUNC3NrqIzPcHsKr2pPaAvRbHx+mWTp8MzZr4XnqlBx9HWlMZB3Ceqs02vbM+EZ0zeEbp6dXu6NxWOd2fiYECUy52OBh56a6wlIwSz7M2w4HSwN7QHVlBQi7bZ4IOxkgpWVpE34HTGGZBZ82muFYRUMjo5sXKuFPhINeBvjQY5NuirwSuc+A9T9fOlJG4ndNmudFCNzhD8GZw8sGhqEZB469RZtiNKO0s2bNwhuYotMsXn9iCiLO8gMqN/kM+RsbGx8KM/+qPhb/7mb+xLgijd0KCZ+qtf/epsQ1n48R//ccO/7nWvy2A2bQfuyYNX3/3ud8Pf/u3fhosuushRlkN76tQp238L/SSCXOjmS4hNih5Yn9NM9va4ZpbonrKs2SAKLhH8sW6Fbiwbs7pnzOmn0ebomoInCqKMMjuDREBoTHsh2cyoCLKgFbOmUpWAETOlNiZiP4XZXKNLCsRoFpEFcCwSoPsFQRglyyWXoMwmudIIQZYyOGNALmjXomKIM1+MgT9c5Mz4gpcfAR3Zqgi/2W10hhMd+XYJG+L0oUhR3jyAEBzzwFuJg88vVsknkBX2MMkeeuMp7XL5yVeml+ATCTtIThNr1b/ezmE0Onabq1oyKhr2aewsXBRGtP8VS8M6qivsWJWpGgELvoTrPygoE5AicRSNhkBWNpPAFT9M7h9Hxxtj8cdk+SG3tyMJiQwOn8lRLhvZeN8VIZnZxxbUgUX0BGc28VdFr+yVELPJ6PiTkunV9aEZU54IXFnQS885g6KI5Mcc2cAsAEc58trzk7WzA5K1nSATP8jhh4/cE2U9/6M0lQmG6UVWi5x20j79LBCGDRBarjJySZlZdeRDr6Nk+hNug1mJZ5H28iyB9lxMTQDrXDxqjc2NBxoPPKo80FOngt9u015odyuzoXuEPEBfhJ93RjzHHMHpswxL3s8qaXbiiR2qkmOAntKOKmms7WDXIBazSwYPsy+3B6JU2UJPAKhMyZYK3U72CV+RAn0pB93QJJirc/sMrkvWcgdCa7DIa/LSW1TaQn98RG+miUHRkefHkgVmW3UUwGqp47pPSwwunlwIR8bPhHFtLPO4ifvDf5u6OxxuaZfmIekJnemwNHFHuJ9N3NtxlgQdYJZacL/gi1NLrY4Fsujcs//JOsG1FKSiIQSrbFYWjtHPbknqDftghCU7DDJs6SG2GF3shLsLjE+yynrFbHjwQwUYYVuBdSLxwT8gSWVMBYGpKukTkZN4boy0HxkJSNnxOlK5nLT0s6y3D0pqooBUqSzFFGmmcTaX4/WzyH/QzxE2ZP/VX/1V21CdLwW+733vC4uLi/mrhL/yK78Sjh49Gt7xjneY9a997WvDT/7kT4b3vOc94Wd/9mfDn/3Zn4VvfOMb4WMf+5jhCV79wi/8QrjxxhvDZz/7WY3je3lfK/a4Imh23XXX2ZcM+fohXz2Eh4DZS1/60uYLhMU50j6tPa60vGn5Ms1SeeJkWLhawSctIQzznTB9eysc+K6WRd23YjOTNjUtdGRTAasUWGJJ3cbUmJZEabamZgoxS6i13NXyQ8nQDC5LCraMEDzyoItuZpuqb85qnWGZuMl54sbB/cJvIMDhI1BWwpw+4e1GWQab4CnkxgA2stPgHBwBthFtRo5cZispcLS5okgTgSHZOaJ902zmlLcZutIGZAgXlx2qXOgrzauUxR8D75JFcnnkHoiiHWVCbl029MzkKlNJ43K9vU5Xpyn16kZN8Aof2XFWkft2V8d+RXD29l5TmZceXQViVrWOcl35umA8HzyYRdlmFikXi+Fcveeogc4Tz7XSzVrgpjsowaY+DTxbboKggZPxrLFC5GFm0Yh86c9N08cNWj4AVuFzW8RqM5uTWrMTuUyqgwY7WUKrZ/BomjFmy+8tMBaZzGZ49JzMSpJd8cknMWYbtui/frFt5FQgVlLZ4KmMbn3Rxa4Pw7MfmWjWpceW2kKPvzgtkENCFrB6QhZJz3ObGcbsMIJggtsSwojd09+9PEvO1fFIE8Da0ynREDceaDzQeGCrB3i889tt2gvtbmU2dI+MBwgSqM+4ffIOEBQDTpHcKdpOgni8/7MdiXWmhHQ6+kNWLgBe3FZGQnhfqkJf2l2WBwijuZE3NRx62lCjdTEG94rnNVqT54aBS3RbbBQ8w6DXsXFa2PI0fyrIgMbyVCYwpY4we3CQ6DyzlIJf7NRv2tcGJwhYqYNJwGq2s2qzrWbbK3oz3gtXTJwIT5m4M1zbORNmR9thZpSlDMXSA5M8+M9T7MtxXQWx7ggXtRfClDaKuX9t1gYlC/p0+hl9kZDPp9NRZh+ORb2R5wuI1rEXrKcOtQ0cVKYF9pZZHWt/k2wdcvWLLXcTrJ9cds5BiDu6IAa7VC5fticKl2C0OSjWh+ZjYYcuyXO5BZkV0yGNYKdVrbw+fCBdoLMOl1fqKs+FzEMhV5yrnxs/VTF7m5Cz0/uJUm9f2t5KP+jnyC//8i+HBx54IPzO7/yOBZqe8pSnhM9//vN5o/Y777xT5z4XTUzPfOYzwyc+8Ynw5je/OfzWb/1WuOaaa+wLhNdff70R3HPPPeGv/uqvrIysMjEb6znPeY6B/vRP/9SCVj/90z9t8l/ykpeED3zgAyX5BV9mdhOBp6m7FrS/kk443yw6aMaQZmLZ7KfiYiCoMaKAlyXxjp5cCC1mOkEjnM3IGiewFfeJNX7kxJuF7gnSZ7NftrkYPLjigSj4oGeWE8GawpZ88JxHue9fZREB1Uc8cIYMdJcyoCfA5vySjf0E5nLygFIGDChYmxIcWUmu2ZDaXdELaaLL0ryd3j411ZIHsjK88JvDyF2e+w1mb6vwPqPK6HScLMluS/DavVf15OtN/C34qGbMsVn+fE/7bSlAs6TA1fyGlpv3tE+Wlp13dYNa1k7jbO7eFZ7lgnEmFiYxrweR+AQbuN/Hc8fzaED8G/H9Q7wpWXaj9SZH15qsZHFilFyVzAWU8s20Lx286cQGO40kwZjg0/lJECeaJjqIOV0cQB3bYy4OtUlBHlMYO2EmQ+ZaUCqR2XOfABx8A5Lt8cUEuhKfVGbyEgfQgk0KtBYv42K7EgdtSW7LgvE5Rrgs6hx6g8OnY0OwDRLBzARwZ5F0tux6TALtuZiKu8O5aH5jc+OBxgONBx55D+zlbQfWnqtvPB55Tz/6LLC+h57/A/pq0dha32BLf6TGa3gJI88yVcnlmgtcnuegc7nG5FXDY5d+Tmu4om9laqDZITm/kTm95wJaX62ouzjvw3ndCAGK1oIFGOR8W4iT3fTKU4ptKgjBIcsb7bI8h48yHVBy/fxNLJ1oEnt4EMzygBZLAtmIfUIf9OjoM0VsRjujANbBzmLYpwDWhHZzvaJzwoJXl2pZ4Nmk7qb21VAPVu/RNYOrGyZbXb1Z1+bOIxrQKdGxZYNeW56QnA/MOs8Jb9Y7DJrCLbGtAjhMAy1706+67aNlSvijhIzkG+OL0D6v0UT32XJMI3aifg4YMcOSmYMNEDkxQC+raDTgy1TgBxIIX5qVyUthGVjQ6hiY+pIOvaUwt0PnCeASZRsaO36X+cPxHGH203ZLBr/85S9vsfQXf/EXA79B6aqrrornziBkAWM2FoGwJg3xAMsFdcaNaFRvwSYCGIxkST6ij7X41wMqDmM2FTOsisS+U7b3FDCX5zKBlWULAugkJq/LhtaT01FX2TYmJzhVBmPQVQZl4PGE7FHZ6vtQAfcAjwWgdC0N0G+wUk5pu8uu505f0gKrw91W+Evasm7HJylwfuykrfWEDAIT/nyyeppRJXC83xY+gp+ZZtAR1VEyGgqSb89D4QioM9OK4BWbuC9qz6sVbdxus69EtKYZWNxDLFAFb0r+bKBalqkT8NFfy1FPsueJB40iKNIVp1dxRCOFbn7JdGuGrZQXxukQbTOSCh12g/WbpuC0U1IMbEKB2Y01qvC/5n5/rgM0GVGwvBSPiR1n+JMM0aeQkJQIKDLaHuUrp72FLf7Sx4yhEfxyX0GyHEZOQj26mJU1KJlO8RVoO8bMDLMglpiQpTIb129AT3X17MI0e3mWnKvjkbPzjLm1+dN4oPFA44HGA3hgL1/8cPrGc+eHB5iZwhdmSNbniP2OBIhZ5a93eBIw9VMyCWjbVDdDktyibv2sJCfy0wEtCCiWdlAv8UW5KELVVyYl9fZYR1pA7+cZuTH1/9Tbk2m3KOrzYFumEzjO9hHQebwt5MCcPuV9nc6Q5KnDWS5dyfISmemkU0oCpt+Gd1JV7UkwH0iyjitoBbbmNb2f/a58VhbLB28b03IpBbMIcH1z4vLwv6cfE64cfzBMj67qi1H3hh/Vl7t2SgSu/mZ5Kty/PhtOaBnhrcsXhzsXD4ZFzbxiM16WEC5rxhVfjKLTzRLCHpvz2tIFSacxdIR94EGzEswCU1aPePNXarYgse3kgpnvJaPv0wgHvW1KspJbq2Sux2WX2DoDtE5fx8GHDMcnOXYMS9oBNIY2wsR0Flldb7YTe9LFVzGDvcn2mJrnyB4ddj6R231GDdIeWHnDbwI7nFsW9BFBOs/i1+x0H/CgkdjyTJB+FEL3gnSxACM4xAwtZHpCLjLTz5YGKrBkG79Dg3qCOy7TAkvSm+wwPqfHFuhYQuXTNak7resclPvsLOGSxVUq2uFt8DZVKWLN7aQmvdYO7PJAk7VF7SkDVok2CtBf6PPsN9W9/a639Jnx0ubCR95mszdJLe1KoErmssm9nAh85hoBPG5hzPLtyL89/Ruzsup6mcJeUDx/dHTsxYtv4I25vMThmcELGfxrQZvCAA/k9A/V1mc8PBI1PEGAAjLlcOQXSILlc5QyhJKZA3XA4JeNVT1JoFCUbIaSBZughccU7Xia5QCVyY+GZk3I4aVVenFlpnlAy9WbcukErv/si4kU95mRcYBIOh1yIxLIDp6dJgKAJ0Gvcn4+q+r7cuYHHV9gPIu0l2cJtOdiagJY5+JRa2xuPNB44FHlgThV259UO5tWf0O2M0dD8aj2QDr0FuApDfVOTwGjv1Um6/P4qeO5CLwvBH2NpWQfWM4yS2UusOQo8SWcsnB1liy3TlvUKzxqz448RZtdTG6v4zx3AuUeTANU15Hrrh8i2oocl2W4Gix1Yq2jLfo4I4sxjfUybSZWh890MwOLpYWCz3T0ee2JpTCt5X7jrfVw+fjJ8OSpO8ITO8f1xcEQdjsTiy8SXtt5MOwfXdISwiXb64Q36yfXpuyN+kJr3AYoLBFhMMGXpbpackQgiyUe+KzSuReN7fuhgY2/GccNjCx8PJU7zu5w5QyUWGbkNMZjfLkUg1ySn0+f5FMXk09YAMIZWn/suPTFDC+J1+RnoVGWyUBgCS/LoExhEp/LBVFRhCrqyYSJ0RHKJdBl1tucz6c+VywNEFcnqdeb50jdIxdQ3QItuo5ZFsh+UCEu/YsDXJ2w5QVJWUETC0jhIoJI8DADa9BYNA2YfQmueRUZ/Eqc1ZkBlvxeC6ZYIEjBJg+cmTw2dV9NywrFZpu/Y4cHpcCzDxebpyOfET94ZmD56N/zpNZkgJdP7GWOv2RAvtuN3PQlwCzXg0vIER2XoNETdFDKywe9XdDj91J/8oHJNC79gR44Cd+UAS54keMztFyWw40p6rC9kcrgWZJpzzKW6dFOv9G4POOXia5eeO4T7IUV98BiyaBm7Ki1vOggL1M0PfKU8DjzimYRROLXx1qwKolxuKFF54bELw5GJp4jdsqAJ0FmPx2DZPggPUZTHFu7z+pYRV1Rjskr/wjpQSvAyEW55Vbnj2DRNEj6SWDDuTMdg07OEXicz+vQwKe9tkZsg/ZIYPSi6bFEv0zI1qlrenAKM6xcZknnZbGzkX0O9qGLfoj7RXrPJu3lWXKujkeaANbZnBkNT+OBxgONBwoP8N5rL28xoG/SeeQB+hh0PDyvNc37S9avgo7foFT0VUoS7xd659E6RyW/K0iwPr0DlIumRlZKyGXnHUQLrDAx81QKbrjnIIvyjvxOX/CY/BpjtEVEbij4Go+1xfHg6CyW9ZLe4SKj024dSsv7ir1T3lLnkk50i5+CWG2N+AhejWnT9qnWqva+WglzGtTMju4888ralv7MsyxkU8tCtEFzV8ErEgMFOpi2nFFlcn+7boOCFLyycwJT7VcdkJgg/0ObcIw3q+CBROKTDGfo54brV/NpaANe5BY4iqUK6vivklwXQMd5LpAdPxcCidMXMOMreGL7EZhSSStQboMJ7wPszXdi2UKT4GTOVoD6MkvgWZSb58hZOO08YRmdX1IspWdL6+L+VR7A0TlnwSkCVDG4bF8qXCOAk6b+KihiywWXY5DI9rZiSZrNuFLOhTcxHjanJvQVwnhfQYbxs2F6mully/TKgA43Qv/hZ9RJVr7chDNe9EAHmpmHug/mi50gFPtZSXeGuUwPJGE/NqTgjs36IjiFPPs74A9y2SNrLFG4LS4bFpNb3AD8BkRwjOS0SW8E6i90TgvQumuFJeWMK2dCFom85HWYjsdmXY8xpD+8ZcAfhU+wfxNdJIIccvMyywZtCWFH+ZgtH1xl8/b86+9/5UGjKECmIYYgFwGb2o3MTXaX+EsR4y1pU7ke9MD8LBNFFoBJwSg3QLnryaBStm684N3TiPEbbt+9woJIfAYvZcCDnNTFNjzBKH4pxQ3dvabcFBV1bNdM67gfV0L22QvCVIQEfLIfqF4BqZ6Y3D4eLEYXaY0+BavoTwxUwbV1Fmkvz5K9jEf4wMef//mfh5tvvjlMTk4G9kl85zvfGa699tqzsPKhsVzQAawvvfVZ+uoHG6wOTgdfc2IwooD2fn65qG0trn7h4q3AGqR3eOdvuj7lJ75X49paveELT9oKrEE636l+vruGDn/5v36qDtpSX7l04GVWoVt5Qvq8bwVarcz9y/a+d8qnP+E2Lw7Mv3XzEwfCS2DLN7osgbVyb5w70PB0z4n4ZahhVNf8yf8chg69/elhNITqxvdVN0MdRLrycwuDwBXYyHZrsQuq0UPDz71Df73zMTqx82kXZq/b+Vpa/Wr189uFmbn4b/9+VS4PKrQv2/k4Tn4vvdkcJECw3urOMuqsfNqY327TXmh3K7OhewQ9sN0tMcG9/+I9lFzfxmT6OQNTnRFCYDW48RsuSanhDSr8ILDr3RY3qK2DYBJkMtwHLjjlzrJdU61T6UQ1XvwYZYu7RjPQbmhKurJOZ9XqynUJ2+wr63zHcnzbGzvWzMTqaKkgywXHNQuLwNVUey1Mt1c1A2vVvjp4sLUQjup3aIevDtabRJ1BgX1VSgMU3qSX9wlwBK7YnLfHACQJMPsEt8Bc7v3TGe7TVHSpjXnZBk0Xr70+T+dL5Kxw5Aqk1i83iJgNoApwJbcp1mp/IS9AiSXygnCk5wVtpZhsMFgWUlAAK2kKFDrcZAYPpJTlPJNnwgzZtlAhTQLLgNi2jDVE8xypOeQCqm7MaqalZlna8jxm+Oha5rzidBpRsEpTPVROFwe5ZuhYnTLXPQGd8SIwk4JXFhjCj9BoFtQoM6HsPqE6M7cIbHnXJcFt1pPkWoBLs6dMBnr4EWDxssuxmU9JCDgSOXiScpu15Xp0/7Iglc9kkh22EbfjI1f1r7rOub1gkF8GklwvuIreZANgD5KVQQFozX7lLsODRsiqJ2iZXQYfP3g8gEeAigBgPZkObVLv8KQn34c9aJWmyjrc8gSj7ZwLq/qIh7/kWE37X63ZFwj1VVodSIJIPCti7gpjjn6eF5hYj6V58Cmaqpcm9gRK/JUbHE2OLZE5/STGbZ44mcaeVblWLZgss1vyq6iKq5Hh+itkzqRntwWe/Bkuojy7KjH4zGpzaMJXaLx9zF5Wq/AJAbnIJ0XgVUdl9AQ+UYXnsn6VhB3Jlty/4ECSaC8ztLRPQTolItxwsbixfHZhmr08S8p+Rt+AwaW/+7u/C7/xG78RfuzHfkyzv9ft4x4/8zM/E77zne+E6endfaxmsOS9Q8/OM3vX03A0Hmg80HjgvPWA3oXq5WTtwTWktXuhHSKmQT0aPZD6Jtm08rQAV/RnMk0qWL8Jev1SH8r6WD7DxchKeeU5V+o1GeocVWhr2oT0flQNs/sqnUl0oNt1eQ4otRcaB2edyV7rHCaN2V6I+SWalEWqBDc5BbPxCpjli878ljQzSOPnb2ZNmOnhD/6WFqMhjxojD3W+kKWZT3opwBvsdS3jW261NY7ZtAHFir7+dFKBrDHNoCDta63ofnAszIpnt0sI71xfCDesPF77X02H0+tT4djqvvDAyox9bZCByZL2wFpa1X5YaQ8sbDF7WMKAuXJAXNYQywZjoEgHuXxvEptm9Nia/ZXhyW/5YEDVT0Zv+kTXBycbSsDuy1tsKFlLJUlvRqueeTOwVtimHSXVjjJK4lSui80y0gDG/D6AbxioeY4M8855jiOioBuWne5acVcJVvnolkCHAigsFSRYtZGW6THjii8YahpO5IOeQIvuGxYQ4z5JsKqjH9EL/fd7QqknytBZ6NENZipp9tTGZJpJaibqjweOpCcHhdxGybclgOjxJHkjvoTQYWXO/RVd3MOwFVZyv7+jRx+ysL3BiuCSzRgr5VB2HhXzjLJEY7LlE9vvCBg2l79El5c/et3bRt3tKvRk+rLN+H+viYeTXpLw3JJlUoU/Cj8meb5BN/eLGKiIunxWVDlLd68mRHck2+s3uSTMA1HeQgsoqeK8jnfd0NEefjlxrGkn90v06AZKgGiUvaXkA2AWiNPzi/29tqT0jI6YQnJSxN6QA5P0oBNby0NogTF/omELvyTAA2YEm1yunRLY7ao9F5+1B141wzodSY4FvRR1sfMP4ehQO9xf6DH5zGJENsnzWNv13708S6DdbeKrtWX6oz/6o3D48OFwww03hGc/+9kl6gdebgJYP3AXNwoaDzQeON89sJe3HfhiL288znffnevto78SAyWpJd6RobqbfkFBjyxL4tuW1WkSac5KuJjp92QZuZCpq4WCN9tQpYj9KJfjuZR4sSSv97m20GyjxOkyfwJY5sikKNOkekTrr9Mpz80qwEaQaHzDVGTZJ9zhAef2UVY/mOCWyVK5p30wVjsd63ii65T2wuqMrdum7iwpvHtyf7hz9kD4l4lTWk64Fq4cOx6eM3V7uLL2VcKltI6BvAAAQABJREFUjbVwrLemZSCj4Zbu4fDVhaeE785fHJa0aTtv2RdWx23T9hg0U4Cc4BlvapWbMXT8U3DKZlG52d5o5Xy1ik50Pj+T07x52UHQJj8azGUkWKZ3mjIvactySaPyUBlOWz+oDk/5tjKG6K2J2L46QMa2+iQFf5Xm1mnr9e0V9zHNc6TviwutNLKqGVa2h1W6EtPo2gJOLCEk+JRmLNlyQe07NdrVDPr6SBzHCRY3bGfmFjcADYzHdc8iH0sDe8ncsKWJ0ic4wavWsmZbsaQwzVCyS4IBt0WUotwyeGW6CXax3M+DXmrDiIL8eSYS9qXZYNlWAj20jx8JGn5KBrFgmxS7PwjcaQme2ZXoDAfe99qinRuyg6WT0APXS4bKXlvetnIGFnRuj8s2S/TH7fKAHXBo4XHbgTldyS9zcpJvbPkgdqUZVRnnBZNBG7C9FUYPzIXewX1hff942OiMhjOP0bLyw92wv7OkW7qOHT89Ozx58Ircy44blFvAJt3AcoBGqj1Z83QTsyaJzmn6+II4AY2GJuooiiMdTOq1lPRabM5ulDGQwwzntp6v/tXfbjcujcxBLsSkG2vpfoeZFrNVpaTDYPzJRugMS89Fsxd5BM3Y40rPck+V9jrvIJmO07N4hKCZgk8WgFRxc0zyWIoo2eZHntddeYYvC8Lnp3/KXbe1JwXo/GVaxu2ysJdniZ9HZ86cqUgfHx8P/Ial06dPG5ovzT7cSV5sUuOBxgONBxoPPBQPMO9iL28xoG/SeeIB+jz9fk+1Ud65KTsoDqtSVmu7oEn9uGo/zfWI3/EVwQXe4KUecI53pgI/UB50BY3xSwZi6OtVeJxOcHsTDi+EA5KBnR48gDptiXca5fU+JqiqIQaJdPSCk1zjS3rogFtKmVeNRgMYGzcIR31dHc0uG61CqwafGpsO35+YC2PjCmqpQz41vhb+fOpHw5XTJ8K+9optvntibTo8uDoVFrvjtuxjXsGqM4sTYW2lE5cU0MHmLSydYsoknWPM6sGn2a/4oGiwwQ1mHJGWcxMYKeWZ32BJvhHs/Keuwzh2EjFI786qzo7C2+rcyTbclNtdp3HaPeZZnvOVcre7JzjtgLx5jgxwygUC+u7/uCi0xidCe3EkjD84EiZObIa2tjMY0VLB9pKC5AvrClhpHyXdszamxsLGfgUwFNjQXt5h6eJ2OHP1SFi9QrNAp9fC2smJsO+Wdjj0b1rWfOdJBa/GwsI1c+HEEzVz9HLJ0IB97Hgr7Ls1hLnbVkP7zGpYu2gyHH/KVDjzOC0fO9QNmyutMHNrO1z8r2th8qb7dD9aD2uPvzQ88COT4cy1OlNnNU1svhOm72iFuVt7YeJ4VwGxkbB8uBMWLhsNawc0aNc115kfCVP3bYapB/Tl1pVeWNvfDvNXtMLCFVqkNqdgmfRM394Kh/69G6b+44EQ2PBdAaORDeVBP81k2tg/ExavPhjmL2+HVe3kQYBgTGPt8VMbYWxRtIpbtZf1Nb4zWiJ5Rtu6EMQiKWowsqIlk6lMoG2zK5noIAh1cH9YOzoXlg91Qk97abVXNsPk8bXQuX8hjCyk7WGg0yw0m1UWJcmAdFNR3j2sr8Y+aSKcfrzUHlQAcKkVZr+n9sj3E989pibQDrEQ+FLAMCcP+GWACtCQFMBbP7I/zF89HRYv0XFWDGHl0GY4cPF8OKAAFolZWCS1PgesPHBF8IU4GIlAFTOFy+Q4h0HvARtkQM1MYxIvTrp6cdJbUbhAwRd7ziko0x7XUvpxtVcgPiRiz65lnYwEacS6KZrRMQVZBaonXgjZyxgde44/W6ZxHncV8OE3It6cZI+5m5utfuXyP2ZEbciukZXRMLomvXpWtnXYOgvKcZNY1rWqbeWizbB+UTe0JnXu0zj9clBMMtuyc3yiGyb0RWGe2fxsmwDta8mXHRfWxsP9ZzQb+uSkHV97kHQkhOAUttJkXVOjfIm4CMDRBp9dxb5jq6s6zxYVSMaPNJG2YU9q7uaYKrquZuaWw+xE3N5lfXE13I2gPaa9PEvS1RKuuOKKipa3vvWt4W1ve1sFVlY2dA6/7nWvC8961rPC9ddfX6IelrLOyCY1Hmg80Hig8cBD8cBe3nagx994PBSdDe+jwwOpXzXQGPVPqonOSj3VacAPgjlfklERNYze+cidKdEXL3D7VC4L2lS2Tlafolpy+gQt22zlGr7KPKDm9Mrhz7rd9pLFaQWLuuKgqSTxNhgsycx4+JMME5/quQ12cDO1Ba42eZuqzqpPSgh8mSi9veWNMrOxZqe0ifvEin3efP/Ycrh25li4bvKecLg1b1+Oum99LtzbPaClgpO2Ce+9K3PhztaBcLI1qcGAZlqos8vXjTb0Btpe2GMQAwN6murs+ltxNvW1DZsxMRutctEmBgapCpXo7H8sW12DgtK3lMu6qiXe1JS6kqSSxkCDZJQwGTVATNaVcaXxiX+LrmQDWf2cdto8C62g3VOxtMMUoayQAD6O+SKwLBdkw4rNc2SYd85v3KF/VUxFK/Xiea8TS+fT+oSCCQrgrChYtdlux3NbqFHiL/qNduMJyH1g5k4Fie5ToEUfjphWhALcwtGxsHjpYXMccqaOKUDzQDwxuU560vfgddrndIRfvHam75HO78dZFwQWTj2uE05fdUW+LtvLm+Hg/0bGuAWSRrUZPMGfpSNjZp8FghQ8GCUAr//Yiq5VtYGZWZTHT25aYGtzVJu7k3SRnnlMW3oujfX0169dfOLLBQlcAUfvhva3XZuRQNXX9ilX8GxkUxEL3JLag778wgS5gnuq32PWkDcrX1yln5LplyxbopmCDCbXZaBD0ZVRxcj236Ky2gMPG+QvXtpRMO/yaEuWhWFJLoVYjTw6ZhxHYLasU/omTq7reHF/3jT/nlg5GP5k6WnhCweu00c+RsPpxcmwfEa2KoDDiw420CeQg89ddpRHPRrNfdDuhUm3MAJktNliPKm9xL44G/xYGL3+uO8Qw/sbfZy3L1fy+AYJzx5+llyvKtmviacvWwerSKYjmm36Ml2yPcvBVoepzLnhbcQXnXmh79TJTjulgvNe24dl26DlOatTO9qGDGxLx4Mg2OolG2Hy8oVw6dVnwup6O9z7wFxo3zERJo/hb/UJFLw1uX4NJ13oQy/26Z2WBevy8UGfdLmt3VkFo6/UcT80Hx4ze1KxW70c0yzubxQ+2W1xL88SH4/cddddYd++fVnFTrOv2AvrW9/6VvjHf/zHzPNwFpoA1sPp7UZX44HGA+elB3xPgt02zt+e7Za+oXv0eoBOlnfmrKNSmkrHpUxeT52tLfSizbJKPpVz581leF7SITfB63Iyf6I3fF0G/G6byxVNXZajLC/pXZ7niXAoPzQ14zI9upOMfgH69FOWaQEl4gwr6YS3N8Olbc6QYN7ZzBtwA7cBkAS7LAJWvHmlZy9Yq6030XqD629uD0wthytnToajLCHUyOaysZPh6RO3h+vG/AMqG+H0xl3hprVj4c71g2FFPel97cNxA16pW1PnmH2uVta0ZESBsvimWB1uBbRsw1cCWSQaqfImnWwS5tB+fiSva2BTwqwdicYkgXaeyBnb6mXhwFdlRwZg7mvPjS3TmwYHucSheZQcSfzwZAbEFToznAKMrs5zaAGXOGj//0jocD0qVto/oL4blc1zZDdeOj9pxk9o9obuI+tTuvbnNOtlVrNLNMhmEK0t9Wx2kA18i+Yz44lEgGVM3/WxgTvnvA3SR8L6uO4PfKVP/zk/gXsgaFQzu5CXeRCV6Py8Jvigj9vZzCr0GI+CNS0CZ1xTSsjDDn04NfJLB3iCX8jBfitDTBKf6eQ+hk5A5Pr5NcT1Ggf2SYnTQOw81hYF+dRGT3adJxaXgb68z5cIFdpwcm03JaThM6jiI6Dwmtw+idngfoS/tab2pmCHkfVVRHtRI5hCTIbWXb1/T0o4m2akZwr+6o2PhlOPbYXFH14Jz3jcbeHSidNhoTceji3vC8eXp8Oy9kNc04uO7pqG8JrNM6IZUtZe+dyCIQRFJBelMadsqpNf+3WDYlayObc10UeuaL+Xd5ObHcisyYE3+kIFjqFotjx/IErJ7fHcwMlWRJsK/XE85+x6ui5cRiUXrQWnxIxuktXxHcdwQOL6Gzul63JkJtyqWVi8RGrNtzTLC8WSw9JewdpLOn6LEpAMs+tC9vT7FbFMoIvk14bZLh59ByZM3NcKJ5YvCv88GZfkbSzv/EG0KK36dy/PEh+PELwqA1hVidXaq1/96vDZz342/P3f/324/PLLq8iHqdYEsB4mRzdqGg80Hmg88FA88OEPfzi8613vCvfdd1948pOfHD74wQ+Gpz3taduK/NSnPhXe8pa3hNtvvz1cc8019qnbF7zgBZmeL9wwRfgP/uAPwqlTp2wa8Ec+8hGjdaITJ06E17zmNeEzn/mMZrePhpe85CXh/e9/f5iZmXESdT42w3ve857wsY99LNxxxx3h0KFD4dd//dfDb//2b2ea87qgTlhl5kWtsd5JqoBTx8k7XZVOHjj/wURniCzxxFrtr2hMVqIx2poM61OVsoSPHas+MNtjCms6BlWTji22VQQNsD3ZmUUmE2Arbd8i1xmKtiXW2JEEX5edeAhKWXs5Xg4raVFOh5rZVQ4nSMUv6WOPjFEFr9oKWrUoCzemrxFOaukBXyXsqCd8dOp0eMrsXeFJE3eH2dGVcIV6pfWN3OdGJ8Mz9OL84u49+qJUO0wr0LWkz6Ov662674G1KB3LCmLlPbC0LwqzsmyTV5lEr98GUf4lL50oDATykkOVeavMQAK4JfCUU51lI2U9UWW81dV2lnC4CCskOVluZkwF6M3Pmcs6+KaroM3HuoD1FQlYsJck+WIYKDC1EQaOm5Lp2U4WBInOcuj0Gyja6eAhucwS7mXPI2Xzt/HAUA+sHtCysTGNdpVYysbPks4jBsIEs7pp4Mt5ate+n2Ncx8zg8WA1eHCWc43HgNKoBsgEoThvuT75MVPGzntoE4xZRRa4IfhEkAseJZeZg0boIJmeeM3YoFxBrsyjABdyM0/k6P+FlyCZ7mN5tg4iTSVIVfRDHrItMALIdSMpldFDAle9fiOB2x+pkCW47o85+KRqnQaAyYoucNZ+jmj5i60JhyULoiUZtmehyt4W5PN8MriOhwUmkSf7Fta1vFwzdeeVz2vJ+ZKeCavdtj0XemtagqfgFbOukGG+1/FiJla2Gbh+fq8yOrXZ69nm6CKDY5fZBp8nx6te+sjKicbK2I1OZHC8XDewVCZ3GX7MTITTJHnZBvg8Sb7zGqjECWB6S5jsJghr5xZtQIfsYgYjx55k53oqm19EF6+F2GgCsOMP6ndCz19NszYfcm0UM738GvBrCbngg3g9ud02I9B16HivM+Ev2cZsMYJl2EjiGD+aEv19xgR/8Rd/Eb785S+Hq6+++hEzrwlgPWKubxQ3Hmg8cL54QF0PPQvjw243bYJ+L+mTn/xkeP3rXx8++tGPhqc//enhfe97X3je854XbrnlFvsCSF3WV77ylfCyl70svOMd7wgvfOELwyc+8Ynwohe9KNx44415rfrv/d7vhQ984APhj//4j+0hRLALmXwOd2IiTqF/+ctfHu69997wxS9+UfsgdMMrXvGK8KpXvcrkuc7Xvva14Qtf+EJ497vfHX7oh34oEPTid6EkOiXeMRnY5lpnKtPAlytDCrs5VWqyoj016QJWINabTLajXvUSn9AVw0xuCUGvd9y3s7MUanrQVQrplyHN5NvQGDV6wbuRXgeZ+Mwu8EYX4falwYR3utgbTXwKXo0ww4rBhOjYv2I0BapsLxGVp7Wn1fSY9knRqId9Mi4aXwyXjp/W3iSLNuPqKRN3hGdNuFOYlsBvcHpcJwaCf1jrYi5p3xi+0rnGvkDI2/bjqzPh1JqWGGpDdwJbvHUnoNVliaEaz54aBLd8hha5/ZjZgHOSM21vk8KxvuF7dLQQjksH11zqMJlN3QJVCU9LDEYBOk9l2WEpN5cz8ChoTE9BZ+IhNGLlSa8NYpwu4ew4QuryPDemqlnOWuaZrwTWyllkCa/5INsKjTPU85J/h/IP+jmyg/oG/Qh6YPnQqPbA0kWic5wBt89OwSQ7Xzmv+KVrxGgMKZAFCxS0SAEDTlO7/3HNcStK522Wgxh4NLjOwZsky09xBtmbWjvGwN/v8XUeCzzp9mbLsUyP24LceLHCa3S0SaAsg0BLCho4jevxtnsdu0eZaSR7nQdZZmtUY7Irddojvsq1jv+GJacfQOdy3D/DxGQ/F3Kc3/iSHmtLorElgPhDdfOXRuebCkQ9sDQd1vTV2yVFL08uTYalRW3qTlBD/mW/LfZMa62ojEyOvwVWopy6HUZj5wpKiha4Dx2ELMfXyk5iufNB63TOVz8+4NGdaF1O1iOALYd3OYhERgqAOj15yePtsAChE7kNXq/lHvzdcr44nduqPZ7c3kouOg+KEXi1a1KwfG4AUlsJYBH8Yh87OhScz87nqiwfYm9Ps/vOJu3lWQLtbhPLBhlP/OVf/mWYnZ21F+rwzs3NhclJzU57GFMTwHoYnd2oajzQeOD89MBepuviAZ+yu1tvvPe97w2vfOUrLYAED4Gsz33uc+HjH/94eOMb37hFDLOknv/854c3vOENhnv7299uQagPfehDxstbFIJgb37zm8PP//zPG82f/MmfhCNHjoRPf/rT4aUvfWm46aabAp/M/frXvx6e+tSnGg2zvpjFRbDqsssuMxpmbbEO/tprrzWaq6++2vIL7g/9DPoB9b5AvY5joHV66mUa1F9JMnIHqaTfTblgpCNm1QSzjpn9GS7IyAe1z9kG2e24ej6g7RX2pKcwW36tUGz1c01HbidwZ63bD5HDVI4bxKrTyawrJT7nTeDKf+xJQbmt3inBq7ZGCwohGS37SHQ18uhqRpW6qQbby5+Dmq0111rO++MttsbDwog2eZeuDXV+0VtPmI79hlFO0C0e2wjf0m4RWvAHBughppwcbSqsDk7wMjnAD0qiMxKJyX4EIJyTZxuAM8glCe92Op3ldZ3QIjslV+31YbnLrdMgoy5nEO1ONHV8bH+/ATaTr658h/oP+jmyg/oG/Qh6QDFrTfHQuck1wjnq10o6/7ecb3Vbi+vErj8LVCQil1HnYUaX8/VP3SqV8KXufK1A73JdBrQEXqg7THQWuEi3RHAsNyRIk2VVNVrNcIkn08knbgv+QYb5ynV57vKSbq/umCd+1wF9th1ZtFmpxEdI9a/T5Xuf8cUgk1G6LOBJpu+zhT7fPwpF6wperax39NOLDF5eaBZu3A9Rey8RgFRgj1ly6PTglQX6XDZwf3NAOZ0X2UZMoN3uO6OPdGar/0FekUp+A9fwBnOZquTgVDqmjs+6k147d5Ms2DdZ5pmS6YTOYUVQyO3P7XMaeHkwKrku+r858FTRm3QVMGP0PxJjMlIdf7fS7ERAFZ9kGeozIFY63Ta3NYnpZ9AYbR800i0d1ofvVNrLs2Qv4xH6+6TnPOc5lvufP/zDPwy/9mu/5tWHJb+gA1jLh9raNHF7F0ypg7pTOjitHQWHpO/91PbynW30u/u9uG3+7X950rY4R3Sflb6a4YAB+fhE+iLHAByg0Tv6G7htQxLmfkJf1tghrX374h0oQli8nCt1ePrm948OJZh9tr5askPirfVOaeQ7+rTJDql3e3/Z1HakvenhN5v/66f+ejvWDP/9S56dy9sVJjQTYKc094faEXCHdObK4een9ozcMa3v0GYE/Mjhe3aU83/+2hd2pPn08R8ZSnNwTLuH7pD+4ZP/dTiFptnvNe3208Uu178Ws5vP1q6trYUbbrghvOlNb3J2W8733Oc+N3z1q1/NsLIAnBlbZWJ2FcEp0m233WZvTpDhiTcozO6ClwAW+f79+3PwCjroWUr4ta99Lbz4xS+2pYWPfexjbS08ATM6BtAwu+uR+Kyut+XhzOnE8LNOSa2DU9pR79wYLvarKp2izJNw1sFNt0oHZZqhBVGXDKlcdsCcPS87A1Delgfw08MqZZQksFfaCaCWMm+NMfUxjdppMokVcq0qMYHN7JIk8bgsM4wOr9OQ69evS4LGBhuahcXKkkgfaXKjhFvoTIQHmZWVZmZ1tNRvRl8MIqA1pukMN05dGb42c294/PgxLSFcDld1ToUndLQL7DZpdbMbvqW3rP+w9KTwzfkrwuL6WFjpdcK8vny0oK8Tsh9WT0Z2tWxkXZu6b+jNu82qYsYVsxzSTAczWk3gS4X5GFKnMeacZACwsi58pQ6uxKuKO3IqcUW5IgPiAme89XoWWBRKRQPoSzRcplO+2aIbJPx1hhJUyh9E5/iUZx2F3HzuoI9UnMR2HCJ013/P9jmyawUN4aPWAwRjLKijZ4kt2/MZSjo3LVhDwEY/kuXUOW/B13LOfQbLpHiNbC1HyA5/k2xO6y3nOqzp2lCcP5f9moPeddszUjT5GtpBbYku5bg+8C4z0+IDpdLOrC/ZaX6h7HVvF7yJHxmVhN1naXuWI30eoMowCm6HiqYj+ZHDTBCKL9Gu6L7P/oo93adZtt7W1/I2xvSBDwWy9Aol3u9lu83gEg/nhiYtZd9LSnYK/ohBlBhMMZyjvf3QYJfnTjQgd19v8TO0SV6m0XOJ2X5+XhpcNHZu1+wt5UXfY5CZZLkLt1mCum4s4Jeujdg+9KTngrVDf1J70MueVTYTKvEkoWKKRvdlCKQ+LWkjzQSDH/tsdpWuUVtGiPgkN7fHmFLQiuMKXvpsRhmBVyXjsYMV6wA4T3xWJHpshnVC7yXby7PExyO7kU8f/9GSho9eHy1WNnY0Hmg80HjgUewB5mHw221y2t18tvb48eNaKtSz2VGlfGZL3XzzzSUol9knC3yZqAMneb4TzeHDh0sR2vunbYEp57/11ltt36v/j703AbYsK+s915nvkHlzrKqsKqqgqqhCZBSQJ8grfIEjSAQhImgrKN1q+MQAIhwR0FA7aAIxUDQMMTS0G2ns12KHQzSvHxDgQ/EJCIGAVUBRRY1ZOWfevMO5595z+//71vrWWXvfc4eTUFBZdVbmvmutb17f3mfvtb+9BtbbYgQXdr7+9a8PP/iDPxg+9KEPVXgfqRV78fAn6Zhne+6MlQ6I/SSD0Inxzl4mQY7LclrPISrx1MfJAF4k01PUzS7XAVwybJ2oQk/d9izDaRJ/SZdpCl2VYrK1QufyPBdDaVqFn4rTeQ69l92YVB/BaZ8I0+gq95lPR/O64aGBX0dcrD3W2Sq7rfWuOtpyie21mzrmu9r2utsPc21tYa+e59UzF8INvRPhm7vHFcAahse0d/7w0Wt0wjM18mKm8e9SGMJZbXnEuicP9rVgb2vephBuaArhaqdtUwjtK7zMGRLYYgqhBawIaolZnXbLabTX1SHOAUpgOsjcYXTQIw/AmNyFVoNe8uowxyWWnbOk12SYcpGn81NhdBzAbfAVO4yOqa8FcZ0gXwBRU0YXLJkEpFcKvIEje/7rZA7Icss2OHKP+aU+R/Yofkr2MPbA3PFNfVDXtaxnCTv5aUk8vTTLYF1PBGtsIfR0bdmLMAGv1OWwkTgKgmvDshgggAday/ngoPsCL/pM90svzxZMYASPDl6a/cXa8Fz7Ouwln/W3Eo+92BPMYT2qZAswu6Gkuv0Uxeu/D7cj2iLalBxvVbXD9dr6QAAFg8ZMkQ52ejNb08cicNZ+CEi0FduwhyS42Y/ticZw0LitRhj/VOwpZSa51kZIhcu6E3+WN0ausSS7LIiVaEyf60Es55i26WaMvFmtwnDk88Dj82N4RKN7b1abblwJRw9etEXc+Zgy0K6TGytaC4v7vAJeXAOsiZX9XbcfXR7cwThS3e5U93bV/Va33WU4vdURW7QPWIk3HOc4nWfH5/OHDdjOIXvHJWRY/yvJMRl+DWRe8cuvdgiWbYI3ifVrH1mWRGfnonat+LXJM5MPFPF6jEL8N5nXlEt2u17kmj7Ik17T5TpEH68tIQufbHAuLyFN8izx95FLUPMNZfFu9zfUiKnyqQemHph64HL2wCRfO2inf/GYdNvah5uPhlojoN/vW/DqlltuMfP+5E/+JDzzmc+09bl8WuHDze6vpT2xgxUleoeolA+s7LiVuFym80LyvornERr/Oo3DoEmdHge5/nH6xsGcL+cSYHT8ScIqfOgUwE2p4IRy/bkdWXCtIAElb34RccGoGecDFzMyzyGjPBuBkhGYkulUxzOTsNYVX1ZBoNt9CgF14QnuuC2UWXuKY129zKbo1jb0G9A6VaQ1BawWtSLrg4OD4WBzOSxoWiCjsFi0fbe0Xz1mFn0faLH2gd68murJEzgieMUILL7Ab0nYKBx25Uapnk+QwJU1rxJd6ftMm9rOC4S9MEA7LtXg2aoafKzvTf84odvAajIrdjsL7fWUCCogb2ACWjZWUBICrhTgsskLe3YSUbJMUr7U58gkOqa0D08PELBqMKVP1xi72rEjmV1vXN464nUbba8HFMrr0uj0AqxBnLYYuO2Qhgj9rpnZbCNK0nUcf+u6B9pvXkC96Od3eHQyUqVNcCvaYEEWAl4EsJAHjQUP4j2V34QFUsAlHfHFPgbBTI5QzkeRBB/BgJgSI+32JHngbdSLbKSNtrC9brsedMAe2/0wTaeDZhTciMIMltqCfWYvwQ2CP6W93PAjy9ZbAbbSPvFZMjn6Y3kCJV6TkeDRx84jYJGi36IdJif5L/tStNAQ3JzRCKzDs8v5wwajcm3tQ/RoOqGs0zlJ5wc1wNOzw9oo2WVQpTAjFuFRMn2p7HVD+J8C56Ccywy7DgG4LygXPNkWwexaAs21pOvWeTMN/lAq61YGCD9yE41dW+kiNnXg9cw3/6tssrHPrwOXUfjFrhPslhx5EgoJiVm0LVUiaOxfbDKd/lsRlf8WLJcIp8m/yzGS/Poeg9oRNMmzxN9HdhT4MEROA1gPw5MyNWnqgakHLi8PaCyGnkE8EfeWnHYv29ayq19LL7UPPlidukv92LFjYxUC34ne+aC5+uqrswzqT3/6060OzYkTJzKOwvr6ui3Q7vzwMirLg1fQPPGJTyQLd999d14XywCPlj/0bTis9xRz75Dt6gJ4xvWNxsEQVoPnTl1S5Hor8EKHdeISbc4gdsYMLArCVeSpsoXc2w6b2+h5iSvxhQorlnTitarLSHxb9LoMDIQH+pJH1S08RhqJ4vB4lXk5sUaqbKjSGMkwITGQR+ePIBNTDCgTfNoQE7/xNfWAhxZdcsO2z4/qS/rB1nJcR6vVDrPaJqmjaYlrBLOQy0uJbIprYUV7620zJ2FqYS7BOQtiJZYSN9Ya0dE8J99CAyLpcBpT5xWhc7FiR4JnZJJTKihxwMVvp6GkqZV5WSsT9MZDIzxloAOKXHRZh4sqWAvKUcOcDqSXt+OpCNi5cqnPkZ2lTrGXhQe4jjh0HdnIK+WM+CCIwWgQG+3hL+mpQX6J26itnu5DCoBxTzd6BXJaff32U6DFaAkQpOsUuvU56It+y07XsGzDFl6ofZc7ZNnLOAED5xUw/v6SkWT+G6EMXTrgN1q1K45mgWAk0wJQ0Dg991i7KRDA0qH22o594jHbNFrMg4DoMNtoHvxkKUjh9oBnlJYpgIY2yl8e7DCe0nYASu5Dkyu8vGztcNIK3hgkE6SOOCUtGQQuJdOpQBM5KQavaESs27lVlY8nfDDpsyYWI3A1lZDzQRCEkVdMP231R3KM3/RGOdRtdBFyk+yEsWxk54geOoM7CPPlO2unymYzvuUoZZZleOFTyufdKgayP5wPaLL/gCaeSKAqOjhH6csSdficzPSbLTXliQC8HaLx5O0w/QK6LMfn9ide4NDakb5u2agsZCaa3AYJy2XhGEloSZnpA89HNB0Ehglc87v1gO6600euPf+d5Fni7yN7Fv4wIZwGsB4mJ2JqxtQDUw9cvh6wERL5KbV7O6Dfa+p2uzai6YMf/KDtJAgfI5+ov+Y1rxkr5jnPeY7hX/e612U8OwkCJ91www0W/EKGB6xYj4u1rX7mZ37GaKA9d+6crb/FiCoS0wLRzVpZpG//9m+3oNYdd9wRbrrpJoN94QtfsPyxj32s5Y/0P5xK7/hYW+mfpD7KpbTdOoOlDL9UPK8JrVxKTpP0e9VYyorjyUu4qnTGPVU6o5AmPseTe+e9hFUIx/AYn6sRnqLLzu1xfBKc+olWMxrhgeUmuB4DpBEB3smGKymoiJWArA8SOpKaJhgNAqeyjdiKXJznYVsjomynwihzTQHclU4nTylc0YK76yI8sbYQ5jSf436thfV98/fvOgrrs/p6fvvq1ZpCOKdt02fCAysHwumVubhlut5oeVkZsAYWb7cy2tbC0hbqrJOSG1H4wIJWdORlPy83JPdxeX3uONoKpiQz+426DpNV4lIZlui/kVkGSnyG54/LyIAxBbUz2zwGbaBsWCTYQm924aPtBAiODD8g247W4aXOsux4ZFxCeiifI5dgzpTl6+iB9TndbxSE4n5kzxO/d3GPoqxAi8GxSddZeZ3bCz0v9fZir5+7aAnwDPZFedYM5BYyWGNJMXILeNj9QXhbS0h8fk9ER/k84p5i9eLl32Vb7n9qvwl4jC/hTT72JLpsl9ppid+R61bR7EiBpczk/FmG7omyPesBn30YxWbZRXXL7959iw0plb42UIFzmi15sivTJx6X5dPRnC8GrEb2+33Z22PXh4L1jLha1NqI7EbbX+2GhqYPtpbVUPmY4FV7RUGsNJXUdKFXh+s1eZyP4sPKFlvAFTy5DW6scpfnOOSabPT5uQHpfkCe6TUOk2/oZIfZ4HzOAwHy6snx4o16Y+5kFdsE9OvM7cpTBtP1ZgFfHymV7PdF3uFFnp0fvwYFi78x/b7oL5CUIQe60ubSlo2OrlEbGSl65KZz1mKh9sRPgCsGntUmwVoDCb2ENMmzZJL3kUsw5SFjmQawHjLXTgVPPTD1wKPFA5MM18Unkw7ZZUH2V73qVbag+rOf/WzbQXBpaSnvSvjKV74yXHvtteEtb3mLufy1r31teP7znx/e/va3hxe96EXhve99b/jEJz4R3vWudxm+oU4xwa3f+q3fCjfffLMFtN70pjfZzoIveclLjIaRVCzMzu6H7Ho4GAwsYMYC7+xASGLB9mc84xnh1a9+tdlEcIttdr/ru76rMirLiB+hf6wDtV0fQx2QsgNTdqS2dYd4Kok6HbY6PBGV8ut8jjO9yNDhNjiuwhNJ6qAd64jdmrZCXa/TbqWIGIPviHQJo7aMIKmUGpfbbWAJLeTW7TGc8NWONCdQMH+xsjJTNKJuAlyKK4U+nVgLfG2G8935cPz8/jCjtbFaeuE4MHNz+OjCifBEBbGOtc+bJYzQ8sSuhXf2rwifuXBtuO/iAVu0d8DOU6sKhPXbcdcpzj3TQOyQSRhP55epEVx7210bTu/KoEu0lfNf8pflxFehBSb9W2CJdtusLlf1uowt52RbYSMEnizllDIyvK575P4oqI4fiR9fku8tlXxmyIg86x6Bdi091M+RXQ2YEnzDPDDQUkdDrYVnievKry3dX4YdbSxRm1rFc4d7ANcZz3P2nLIXaOUEctjVEHnwkux34deoQIzWsRfoFOyAxgYzMpVPdNzjGPWzoVFaG1qby/BM49PonnI0mN0LRWsJPoJn0kluCfv8PiWA/S4QF0Uaybjfit1zsZeEDNpLnvhoT0mT8f7bhA8al0G1kAM6y0sy/bbsVaOp6SntLstul/EgGr2uO+mNNBGY7aIKHh9xPnM7U1AmGcP5pwF8wGBhd9ZC3FjTNPY06oproeUjsPycml79IU9yTD56Ul1SlSqVqu0FusJTsLjdFuRJ8Hh+3AHoU3t0bZoM0cQ8BmlMvQAEjSyIqg9J9WQBN/jcdtcv0uxLMcXfAKMWIwHBqjzdlOvUZMRRjVGvQIJHuqjVdIg/BqQiLJ/PZBr2my8j2sroNBiqRZeDXOn3Qfs7S647tt10EfRSwgbWvxvMa0R3+v1srF1amGaSZ8mk7yNm7MPgz6V55mFg+NSEqQemHph64OHigU09AYfWm9qbRdBPkl7+8peHkydPhje/+c22ADujpt7//vfnhdqZrsfugJ6e+9znhve85z3hjW98Y3jDG95gQSp2IHzyk5/sJOEXf/EXA0Gwn/qpn7KRVs973vNM5szMTKb5i7/4CwtaveAFLzD5L33pS8Pv/d7vZTw6//Zv/zb83M/9XLj11lvD/Px8+L7v+z4LnGWiR3ghdkD21kg6PdYRiv0VY7KO3G7szpfo9sRTyDT6JGNr17Ag3EuxFFC0Y1tW6HVUbN4L3ziBzpdk5heERDvSEUce6L1ulMpygpYdXwMlASM4hifilHuAy+HQ2s8ZXsrqeK60u2FZa8eQTnaG4a7ZI+EjszeFbpu3Q9GMFFh5VTvl9lc6YVNf0+0CoZNuL33xpQae2DEe1a0jjorkk1HbR7ARTTQ+0yQe5Dq/lff4x+SUMpwv+cirW/JxPAVRtq+AWXEXvpIcE0o5hasjGQR1eam+I1+pZFwZGaVcncNJ00P9HJnUnin9188Dj/s/vhLarZmweWBf6B/bF1aOdhSEYkrYZuguDkP3vALiK4OwMdMOF26YDedu0Zp71w5CQ6NBN5fboXOuFTrn4yLeBJ7WDmi0zkGFyufWFeDyC1y/DV3/m7o2N072wsypZjhwlzalWFzXfUvr+s22dMQXfl7eO4sbolkNzQva4Vwfp4y5pX6GnvvcB2NQQbK1DiBps6fRqNfuDxce2w6rR3UPJpA2sxkGBzbC5qxs4Z54vhP239kMB7+0HmYflFwlRrVu2iEevcQvHeuEC49rSpbulzNaYvpsJyx8qalFzVdD9359BLARQgQLJE/lzXYrrNx0JJx6SidcvGk9tPZrp74z3bDwxVY4fNta6B2/aHqw36ZMqgmbasfqVbNm6/LV+hDR21R7m2Hf3frocGc/dE5pR2u6VLQV21JQpaG2NjQqprGuNmMH+I7WoeKQD4E3l/qhcWFJ50Xtw9kdjZTq6aRoI454AsS3TqRROG18Q7Lp69ae6EsD8qeBvzVt8MnXha9c3QkvuPm28ENH/kVTzdvhtBZ4f3BwIJzfmLWp6yfX9of7lg+EMxq5O9CXFUxmB0MOv+3ZmooKgkXXaQ1HTUXs62PJBqN5/WbJ9QID6lOZzUxcBjsgbip4FpTbM0bX2NGji+EJhx8MV3QvagTxbPjShaPhvtMHwuCi2o1cfeBpavOThnLkoG9zSTssLmmKvE7zUEHSjYPrYf+RpXB4bkXtaYYHHjwYenfOhLkHGJUUDTITY1GBHl0r12ljlRsuhusPn7Xp9nc/eDh0viye+6VS0/EI/G3MKDCkbi1BIa7Jwbx07dfvphd9TztsWqyNZpZxNF+nwUfBYV9nsRG656SLU6pmrx3UDpFHuLYlh+u6Owy9/f2wML8aZvScX1zthXOn9oXOiU7oXNDvWKrauqQ6izqdK6JXWj3UDEvXSs4x/Ub5ncrHLe1q3O1u2Dlryvcby2rEu418oj+TPEsmfR+ZyJCHkFincpqmHph6YOqBqQe+Gg/osWzr3uxVBvSTJqYLbjdl8MMf/vAWcS972csCx3aJr7a/8Ru/Ycd2NIcPH7ZA2HZ44IzG+qu/+qudSB7RODpU3u/bc0P99Ksf47z0E7282+WR6bZT6PLH4ek77YYv+XaiHYPLtjku5Q6nnfaiT+7JaamXZceXtA4Tncv0iAUDjizV8wTO9NTH0JgadU5JmVadylxGp422Ai9qZAgf6MDSwVe9pc7nzOxamO+t2bRCFtx94sLx8C1zX7ERWPz2eflYU6SLfKD8y/0rw2cXrwl3Lx7SovCC6+v6Sr8TBozAYp0TDFNAK4/CwkA62Opw2xRB8LXkfo6dcBEkGoc7eaVeoZE+QyZf0FaSaACb3AjJf7OfMiQWkphYQUeSVdJX7HD+ZI9XLXc7KsCiIp6SLcstgQV5KbO0p05i9XEysGccfKyAnYFfj+fIH/zBH4S3ve1t9iHkaU97WnjnO98ZGNW7XWKHWUbn3nXXXfYh5K1vfWt44QtfmMnf97732QjdT37yk7Y+4qc+9ak8Ld2JvuM7viN85CMf8arlP/3TP218FeCjuLK5sE/3ll4YKkDFWjhdBY+Gq4x20kvtigIQKWBCEOvQbRvh4O267AgmKTU2FMgiIsEIkBTcsZsG9wi7eYiWIAxBFg/EbOqtXDIbBFGg0c2ro2CMblr5ftfQ1KbmmuhMiS506YuBGkUCREpspqEAjOmQ/kZ/Pcx9+WyYu0u03Ax1DLvtMJxTgGQmBniaA90XLw5C8+Kq6DXnTalJOxSE2tRan6Sulvs8/OniR+Vtoo0kZFuK9YaCQbNfPhMec68+AqiNFngarkXbPNAUIzYj/4h//txymFdgLAfk8IVkNQZEVFROPNGXqpPwEcltUM7Uc29vROpvt6P1uBg2Jxs5kIVcyiTkl8l0Cea0cu4mgUECXNLR7Cvf7NraiGz2sarVzo+vHwinNHSPHWsHiqosr3dtfSyCToz+5UMJgaw1PU/8ownTxSh7nTW12gosNVvRHjcvXwTJRqfH800FTQlIbW5ikwACnjk/Hz52/kaZGvVaK6WnqQAkCXeBs4CY6k192Nkk0Di3ETcoASeZSxdnwvJyHIrY1HN17aaV0L9RzBLIszBoqn2DYBvmKtuUnI2lbviSRjFDQ3Ctr4BQ/4rIY88paGWLVOj6l32MSrRntuAk2kIuFm/PEOJ0qkGtHZVtRd2EgfAkuTyv2UW4oYAhI+Voz+DIehgo2JVTUdTJjfqwS8E8mahHvPoE4nPdw5VLC9NM8iyB9nJMl+aZy7GlU5unHph6YOqBh8gD9D0mGYYL/TQ9QjzAs798/pflcU0sz31BS+fFkuclb8lTwstynW8vPOLPepHlMsjH8Tse2t0S/AU9/UFPNmLJK56XBA5LudlYyDJwkmedUnA6KnKd3nOXlXLL6AAbrwvzeiQyeeqYemfSFgyn7h1MKacz39LBC0BTuFkFro7OLYdDM8v2snHtzLlw677bwvNmlsKcFmqPaSNcHK6GZb0ArOqNgcXbl7UiMQu2Xxz08kuIljMJG+qQc2/ZVACLzrkFsTBXLx5mO+981DlIVhZORRu1hYNSZM98ZXijtNND1ZIXlFP0F9+EHcmXTeDz2h+ZAKZUcVlFFd1msNNAXqOrGAQdunaiT/JzhryCHrjx1/VkhljYYkcNn6vIHierptPox8GyoPGFh/o58pd/+ZeB6ehMCWcdw3e84x3he77ne2zH2CuvvHKLUf/0T/8UfviHf9impn//93+/fcxgivm//uu/5tG8jOJl9O4P/dAP2XTzLUISgKnofDDxNDenuWnTlD2wfkBDRNo6CIgo6NJZjBeaTcvyUT8KUClqoBd4BX4UDLFACxIYBaQAEEEg+BkJZIGmMmCli8tGB63FgAIBFAuKMRKIqIVkNAgi8eJNtAE9Cl41VjUfzQMv2AYuBcHMeO/MIAPdM12NbNFBIAlaHU3p5LCktjUls7G8qqgAi3BJn0Ym2YguDw4hi+ANQR7KShago5DqFMtyQ7KyP8ChW8kCdpTrckBuKKCkHR/BRWqARaKdBD/gd9tAE3BL8k0usrG3tK0QY8VxuDrM5EQ/efBqM43QiteBzNUcOz56rGpoEUdfdQ7WXQQ3rh/qwSfHxQBWNNDLFVN43qQbr3nf6qKPp0Jtj81nxJAn95/zWZ0bqyNglxwCZiTcR4CnydzXlMwWTjvPORft/EavoJcYbcRTgefZuKkPP5aAw8MzWmlTz2VGKdrIL9nL9HtbP9I/CEEEnmmy6EgPA1drMpIv4oNvhDGfJRztMfslht8QO0PaA45AGSzIlU2xzSorwW+2Q+s6DPPV/5nkWeI/4a9e69dXwqM6gMVWte3Kr7bq/OMfi+u8VKHV2leuTF8nquBcu+Kf048qQ7YW5l5xYiuwBtn47NbORY0kdL44WwdtqS9fs/Mp37yeX9rOaeWBQzsTCKvn567p2mdpjOcu6UkHj+9I8bE/fsaOeJBPepU+Ve2S/u3jB3eh0LSQa0c32u2IZ47vfL7/8p5nbcea4f4AyIAxhcHHdz8H99/Kk3fndNPT796R4HxfHapd0lMP7X79fuhT37yLlBD+4cDjd6XpfG7nTu++e+ODYSdBS8/Y2S9Dfe2cNDF9cJIphJPQTmrLlP7r7AHrnGyvs94v2XJrLC9ZIY2+lCl8nD5W01ETVNFTwxlnqQfAOBpXAe0YfEWH026XO786bjvyQZdonS71IbeTXPHR2F9rkmny6sLcLkm3AFWpG1r1nbEnj7ACT0c95Q198SVgxVdWAlYdfb2e6azb9MCW+I/OXgw3zJ8Oj5s5rYBVP9zcOx5utduoB69is/Y1Z4KWvbF0oHkunNu41xZvX+zMhCV9SWf6AF/R7eu5qFjzZF0de+scq+4BLXahih1rgBhOHjvq3kH2YBT18lqqP2tKV23pGiE3JVyRdTqswPv5TCjLDF0TWqvm6yDzYW8hl9fMsm42ZOJUwAVm4AgxlqeUyzknwQc84ZyvIq8mG7Zxya6tcYgdYA/1c+R3fud3LMj0Ez/xE2YFgay///u/D3/6p38afvmXf3mLZb/7u79r6yD+wi/8guF+8zd/M7AZyO///u/n0VM/9mM/ZjhGaO2UCFj57rU70T1acU1NS2sONdWOoAkjnehK8rLO9aa8oQCKVgmiYnULqPgIH4InjIRaVkBIP6oYZBJ9CmiZT/mxEbRKb6s2egu8B4/gX9HUN4JK2m0YnYwiIhgV5jS1kXotxZFX0u1BMPDYyqgnTKVKEAp80u0jwDaxncOIUpugI0GbeNSx0v1XeNpfbw9t9bfv1D6jp4y98qOtF+i2A/cjapIuwTyBkx82sdnh0m3+dBkeyCqDWNAaT2o0I8lKvAe3oEGHUtzxNik2frWdYFXS29DmIEHLOdjoNMnr7+/YNDuuAl0pcq82E0kHgSk/kkTLLBgjHDn3ep4p6wRXzFy/6SVXecBHODMx2WkBH6SJ358XPPeaPP8IDsnNUZ7wyHYDoE/ucJBfun4Txx4vmwrxR4Gq2SUBPnNLUSxbJvljk4FFkWiNH1vkWgsqJbidTrXZmqkAkk2JtDaOkYpM+gAKRlWCdsDTQ8Jka1rlBoExdOBeTStsaZqiBekk2z5GrWntMhbdV2IEta0pp1Fl9nsReCgdTKe0IB1Eq5GW4iRpkmfJ5fo+snM0YxJvTWmnHph6YOqBR6kH9BjX84en2d7SJLR7kzil+kZ5gH4Uh53+dAlYHZB3otw41QE53Oi8f7LN5cOL8LiXYZeB6Ki/rsyV7i13mye4jGOba+KjLTXgNm0rqUrrx9pSEMTAkzp5+G472YJX/GJ+lBDonYdOqdVTrrqt9UEOmXjofNJhp8PbUod9Vouzz3e1rkpLa62oE7/QXQ1Hu0thQYtjsOvgE2fuD8+ffSAcbc2XzduxfKA5G16x/2y4pvPxcHJ9QcGsOVvY/b7Vg2FRI7LWNTKLoNbFNY3SStNBWOjdFvIlqKWG4h460bmTDowvu3ydNiQEqqeyvdhR4SXDYLRYbXZaq435I3ymMQdHmvJ6NHmAkZWSSS/qDq/kY/AGgtkKOg8lTVmuCCoqooGswlegrVi0I18bQlgQE4KE30mGkRQEm5r6NWl6KJ8ja2trtqPsr/zKr2SzWMOQjTg+9rGPZVhZAM6IrTIxYov1FCdNf6H1FN/97ndbEOvFL36xTUucjsIaebGp4JMFK/ixesCDMoEbAkmaWmijmlKwpEkwpBgZpZuT8MUrnQdcRipUEo3X63j0zGrqFofdMESYA2Oa7gefeCyIVAZngHtQhzJJ/Ba4SmUP5lhQzmWTc2AHR5JpI7HUNtOD/l2SB8QkJI9AyyyuQ4BqoCt7IZNaATvkawtYVTHVGnQ7JfRiu9NRrwevOI9EeMCR7LwSUJHvFDQcfNN14eS3aEfamxVQ0zS73kI/fMvVd9lmIDb6SlMIGYnFs4HRVwSmCGL5Glc8E0yF8ljexeZoxeiv3dAwTwEwoOnZaATIRh8Bq2S+X1hGX9wHjb5QbfRJtk1n5BmVkgWHVG0STEsywPqoKGTbyF9y9OoAZrqTzPz8c7mSA4pnuQXy1Bo+/uQp+ehGSaHT5MHP4e3z9ivPyWyAOSXHOYkCUxta33IjKFBLe+ivSE9jNg18kWG2PldFj2igdbFcN5eQJnmWXK7vI8Xd7hI8NGWZemDqgakHph7Q0hN6EKUH6F7cMQntXuRNab6BHqCjQceElDouqe8VYeVfaHV436pEleVt+UuiVN72sqsjxgitk5hI73yN0WUg71gV+IqcMXj3i3fKdlQhfgtMqTOI3Gx2yQQNejhIKa/YQWcy0eRAhJ8n43G85yIXvQWw6Mwq8ZW5pXJbC6vS+W2r3tMCrTPtQegqsNXV6q7zCloRvDpAAEv7lx9pXZwoeGWK0p+WokktDZHimNGe6Mif0YvpuvQyvbCjfEMvi7wb8fUa+4aMTqA3b1+vJUhwdZFVSO2izTQH5xgdOKoCQmL8ACBKmWhBb5cMJTE+sgs5UWfkiBpUppDkjBOX6VxRQW8gZ/IccdA4o+DZzoLGeF1WyivXBiJK+krFlRQ5AkVTlwH4a5ku9Tly4cKFihm9Xi9wlOnUqVMaHbCRN/5w3FVXXRVuu+02r1by48ePj6UHPkn6kR/5kfDYxz7W1kv8zGc+E37pl37Jpi2yftY0JQ/w+7PfJxe1LloPftjoI9EIx9pYlqvMYuRM+UtRCr2Q6x6lBd9NhngJZllAy6dDmGwuY9GQyA2WfrkOj9j4l6CSNqRgdzhLuu8Yv/MCxE7HU3c5HnxyWoc7T9lGcGn0VdIE1SglGSygnuUTcKsH0qCrvfDnwJVLQy/3RKI7ntw2t8lz8C7T6TkfCU/wzOSbfchNDxjwzhtLEZdsA2vPOO7ZfEFw/dB6oEs+1axyBS71PNAC37O9gZ4FMfCh5fzTGoo8MQhUccQAFiII6owLXtFiCwKlG5mrdXPhJVlzROMewt7UoojnfplkOG+mTfdSg9fuq6UM04NcucDtMOH6YyO3kmDkekDR6FCddDt9HBWVLPDnGciCzqbq0QpgcrkFsBxPX4FT4QEoFW3DAeWVZO2uQESY9NI4bEaGyzVUwhdsBNkgtWAbcEicxwYhIiwl1vu6hDTJs+RyfR+ZBrAu4cKYskw9MPXA1AOlByYZrgvf5Tpkt2zztBw9wJQstke2tLWvImTCFZmDvM8yjsbJvX/k9ZwnXSaLP6nDV8fnel2J8YywO5Ws3+ZG1wlB1nClzbmNBV+NvMovpPHU21PwW7EQYq6gnmBRpyrZEMpRQLaHug5b1yrh6MQOPfAl9IbKA+r0ISWLjvKiphCe6a7rXSUGkHoKbs13j+YRWZ+Ze0z43P67w5N69wUW2328phgywmqndO/6xfCB5RvDvyzeGC4MZsLqhhaD7c+FxX5Pgyw05UBGM9pqoC21bQ0RmUTn1xa1pTNOomGUyc0hMplIqcGMwnA+hTC7BtrsFGtm5k9cMXMfGb25rkqXdDpPlu8Ax5MjK8krVI9OFzxJD8UtsgB6KgU4LOXb8rktTu9t87rnFToRVepONMpLfZvsaDVhutTnyHXXXVfR9Gu/9mvh13/91yuwb2SFnW49PeUpTwlXX311YGfbO+64I9x0002OelTnjYvLur/oQWIvwbp2ymCIgjuNvm5CBGzKZLQCaMqerf+k6X9Mf2P6mQWaRG+77onEpvWxblYKFDHCydaq0uLqFoBiAXiCYEz/ixFyBYigYWSXaLIMAiHU7vwAAEAASURBVGWykwiJggUmX8EWC6gRYcAWmwqXbkyCVQJPsjkHnvwej80enEIGcKdDscsguAMdePzDQRCPBM7XBUu2uRzLI9XoL4GOnMqygG5XxtcK6BKN3UsdBY/z0YYyUYenDjcbZL8Fx+RTu3fHc9xg8X5tQNdc1v1fspb0sYJnQ1/rXrH5h98r6sEHgllloo41HvTBhBjEinmcXlhyxLKNeqrJcio0xA8gI10xiOQUcoWKTLN3lzjG5MKPXe6mpMds9a97jjPayO1tyPdhKbEPTnoWuyV8vsGPUTZl/Wfxd3Qgk4PERyrK3LRhRoYLSTCzFRikzq/quGTtZ3RVeghY+wg+8Ryot0mg1OSom3Wy3DAruiECp49p43TuBPPrYycax12u7yPTAJafwWk+9cDUA1MPXKIH9JhWh6J46OwiB/ppemR4wPo1sc8ZG7TbqaWDUqaS3nGel3R7KFcuQXXIJkkV3hpjRVJpb43Oq5neaT0Xgekp6uN+CsZf0rjgAhblZE3WEdypDejxkV2uMwevXC6dRTqhmipIss6x6r5WB6Oxulrvak4LtTMaiimE+7v9cKS3FPa3V0NPI6aeNHefphB+OdzQYYWr6rpXJnTMn8e094XrOqfDVxQIY9TVykbHdLb1hsTIK6aFrAy0aK/sIpBF53yoTvmGXjpZA2vUWaeRQuIWOWOTFyM6z8psyqBw8ct/fKnBFOtvOw9sDgM5LiXZFhhzvPvP68oRWQHDt1MSnvOX+v+ROQkwVuf33GVtd50jTzSxfXFEWb4+tuNBZiYa2V+AXKvl2dYE9fcUqsOdl0dNHNXsUp8j99xzT1hYWMjC6qOvQBw9elSjCVvhwQe1xVuRqG+3NhXwSegLsTsWWUCe9KUvfWkawHJP2W9QVywjpzSNbziraYMKQNk1puCHBZagIRE/KQMiBKMI5szEUXdDyRju64b1eU1f6kqG7gOdi+uhfW4lTjvUm3r/ukPh1FN74cItCsZrN7jN892w785WOHS7RvscX1agSPc9FnE/r8AaUxVNb9LvdkhO3oEvUsQAE3iCWCTWcsI+1rsiQpDaaYE0lxMpI140Flxj2qSCZ84TA2u6N9NuT8jzpMCWBcEI0EGjaz3ubCi/lHRO7/k2NhhauLgWl9rDumAk/Iw8l5naYzi3Dd3gPUhmASpRlOcMBvcRMuxenfwrVHN1EHrnNBL3Qd3nZxthTQHMB/YthFParfKqznlbwD1u/KEdbVnEXc+IgZ4VSEBUDBAV/kGfUjQdKkYBjfQZUn/cHdaf3eHGh2QCVHaBis7p4UeHBbhsVHChQ/pGQSiCTKPnkD2vINUxonGrilyyc7DMm1fIoU2NNO0fLmQNeU5Ck0yxkU+6WZfrkNnpLP2BHdZpQIj+c3O39a2SUq2D2dIaV+Ui9IWVotd5g88XlweJfA76GSSX6etmIZqD51NSA9mlpEmeJdBejmkawLocz9rU5qkHph54WHmAB90kDwF7MD6sWjA15qvyQOqPjJWxW99gHG+dp14fqyj2jUCprzY+lQh1pMqqMZR84+yCqIRDr6Mup+wHGj08HKKFxegpeHKZToNMx3le0juslqO3bksmgR8Cl2N1YInCcPplps5j/vqaBYhUNG11jns6OhwaMTHXXrPg1YICWEz7O6wphFe19ha4ctH9zUFYHO6znQgJXvkLCfcU64CrURvq7G4QtCrWvIo+5W4SG6EzGhtEld46zrCya0o5bSWVzooiBIuonNfojBUaHVk0dedP7MaWyoYq8eN0QCsaC7A5MzqgdXrg9QTOZRd03kQjV6Vyzy3bXZeHOJeTcsRnFpC5UjALnPmQUbxnF1Q7FrHxUp4jBK/KANY4Jd1uNzzzmc8MH/zgBwM7CZKGeqGm/prXvGYcS3jOc55j+Ne97nUZzyLuwL+a9OlPf9rYGYk1TdEDwyMHNFUvTfvkbZrYgM6PjaTKo5rSBelv4u48Rlr1FPgicEJ8RW/OrcV+aJ1Z4iRHKgIv0M3H0aC9By+Ga/8bR0RvNhTcEkmKcBjQ1qMioAYvCX52Niz05NFfrietyx4Z9Fe2EliyxeEzsFqI62rJdsm3BA+7Cq5qCBIJf2CDB+oiNPqm9IWXyTnQC6+OvFYWdU+isaCX2w7c8eRJhgWvVLb1qaCh/SQLUCV5zgdPjCDZaLRIqL+uo6Sz+XNbbxQN/VbPfvNCWP6B8+FdT3t3eJYWAj8/XAt3aR3EuwZHtUbivI3Esl0INVqX4BUfOfwjKpt/RDOwhUBKDFbxLOEZhis9eAOM5DllTGR6ut/nHCdpllKLI0/iN5hk5+aJEnrjzToS0KToTxIED/bCEOkTgeD2HKaaaBPGMtdV3nhNDL4gKKRkOw76SCjs4CbdkQ+6G7rcoObU6PrguarDEqy0pQgkmY2gzVBy3asld1iOtE3tNBn+RyO2WQKLZB/EJJPTTjLbbNh3apzMaWA3ga0kq7GSrrXIsue/0rLnZwm0l2OaBrAux7M2tXnqgakHHlYeoOPgnYe9GDYJ7V7kTWkePh7wF1frf9AvoI80Sf9gJ9qarHH9peyJHZHYpc5s7L9FFiplPQsaFUxk6nwBHaciy3Rb1Z4KnfhNDe3kSDqt2fYng1ARk+AmIwsX2GEFTQkrSSFx223UFQB02SEDvEzbxOjBKzqcttsSnU7RsIh7xw6CWNp5MK2BtU9zPfa3VvMaWHPNyQJYG+oUdxpa70oBsNlW7Jax3pa61Fhqo7HobNu0Remnk88XYda/iv1p0dFADt6HrKzcOsI0iQYqkaWiiRYz/DbVMKoyMiMXnfkwwev+hLBgqVVMzNY/FQahi2spCyve58bpzPa7dGQWcjMPjcgVkch/pAxynxi0+iejkq/gyXz4NMErXHVYvV4hHl95qJ8jLMj+qle9KjzrWc8Kz372s8M73vGOsLS0FHxXwle+8pXh2muvDW95y1vMwNe+9rXh+c9/fnj7298eXvSiF4X3vve94ROf+ER417velRtw5syZcPfdd4f777/fYLfffrvljN7iYJrge97znvDCF74wHDlyJLAG1utf//pw6623hqc+9alZzqO90NCImwYBHIJEijA02unHoR+oTckrpv9lX/kbvDYObKwKGm8GqhQXn8oWvFHwZ9hLo5oQoCCLBZZsmIgucNNDTuAi/laQY8EqphAiE7jQzY00Gok60xt91BNyjSbxUycR6HGbyE2u2ucyxWOjvPrpx1/iE03Er+l3mGTLRzYVkWgMSXACYezW6PVoS5Rp0/yR5Qcs3D+Tz+Gx9awINKGDqYqeGEWmlEebuX3APFgFj9sGMWUPWlH35DTGl3Q5rpZzn7edBjfXteaVprNr0XYLWmka4aqmEfY18ooRuoy84t7hC7jzsYNkwaAxMjGhxJVl3COsDvkm3Vh5HkZ4bBajiyzok54v3A/9mVlT56Iy2IM3Doi2xBo4tHoyV7mtI3CUKSIDmb0xMGd8ZotK6Ybd1KWrlSLjbyDdu3mu2/MzybT208YyVgR/pV3C7xIxsbW7kJkeINF+CXE9Ck5Z0R8wqrMTYUOLvdNvBMzug7YDYXpe2Y6Y1rDJ/kzyLLlc30d2OR2TOWxKPfXA1ANTDzwaPTDJfHP8c7nOOX80nttJ2+x9E+NLHRfvwKQ+VUVkhR5M4oE249SxsUTuMlXM8uj4OE2kHOGoFzwJHbOCR90zE1jKyfITk9WLL47+ddR5Mn0BoGhqXJc6at4Zdluc3Ot1/Mh+FyJKlwuTyiZDBhQUUZwDyCHi/aaESZlNdwBGB9PWc4kOa2ioP3X118Wj7cv5OqpEh48RWC3BVjViilFT+ztxCmFPQahrWl9IUwiNfMc/F4er4fODVrh99Zpw98ph220QmYtrvbCkXQdZAwt95OuiYxQWKU+DSC8r5iPKvHeZM8hlNjbTHL8GhBudp0QDDynxGd7pDW5Y+xM9MKqPLTmv5yLaIjMJclMzvuCpyx7Zvb0VmQZmF47+JCyDnFCArDvRWOYMDivtolzWnabkGYd3um3yh/o58vKXvzycPHkyvPnNbw4sxP70pz89vP/9788LtROIYmdCT8997nMt+PTGN74xvOENbwg333yz7UD45Cc/2UnC3/zN3+QAGMBXvOIVhvN1uBj59YEPfCAHy1iv66UvfWlA5jQVHvA3eQJCvM0qKGWJgBajnua6FmyJ16ruc6xVlXiszIilvpgImhDcUbAqaDe7TQ+EKVDVXF3TYkrpx85NluCN3f/4DeiChZdgFGXxLl+/EM7foGDJlUIxffp8I+y7fxjmjmsZ8RVNPWRkGDoVPFP83ZIFy8obeKHHbvzezjJABKcHjqIYCwxx7/WE3AY3b/hJrsPryiujqcDrsNFdlBOdBZyihKiD4FpKFR3+M4CPg4ATR/rhW9DOGcfl6Cx+S9Y+6NwW9NqDJZ3HUgZt0RHVKlhkN3VdEqx9JR8QyBooeOVBCs+jeJ3n1CSFbSRj1L5SRVn25zgw6O3Qs6TkpeXQOcxGExWisRXXgPdgFk0tF0Yv78fCSODIVqqIgMZkJQDPOXvWUSfV2yMZFpBKd3hRmxyuFiOXULOH4FSaupfbC4nbbc9OAagDN+NRZ1Z51WwWNqa6LQ6HBxwHPzdkm0zB+ckxuo2kn6i1L6owGvOrglfkltSfuJQ0ybPkcn0feVQHsP7nX/l/wuy+7V3wW5960a7XTUMdyp3SYH57+c63+oGrvLhtvvoEv8K3JQlXfSLNOd+eJAy/7fQO2BCOzx7YEW/IxfoY4a0sm1elob9bURlybnnnhW0h/OC5WzL9uMLqc/RA3iV97sSxXShCuOLTu98k/vOP/1+7yvn1//1/2pHmnjuu2BEP8gnfdN+uNOEFZ3eluePj1+9K81+f+Hc70tzwdz+5Ix4k68Dslp7whN3bdP6Pr9tNjL6i7Kyrtbb77+Q1L/hvO+pZ1VoRb9qRYiuy7EBsxW6FQD9NjwwP8GU3L+I+rkm7nOrUP6pyJp6M02Vtl0y6vDO84Kqo8Z+B5yB1bLnsHB/R9rciJ/EVaiSkrEXqCk+JllLrr29PYNRj0UUjsdv6kyVhaYfg1jaISprCFiOHznv34NBhvImJ9yM6ji5DdV7cnM4WdV/phOV2Tx1MgcXf1iLtrIvV08G98O6lw+HuA0fCE2fv1yLuK+HK1mJ4YnetspD7iY2l8N9Xrg7/rqDV8kY3PNhfEN+hcHppLk4HUZBqQLBKh3Xe1Tjb+ru2ICwjq8xNNM6Oat1w6jyXNNY0aMtUrxe4KCO6oABXiub7CqRGnwhMVkEH2F0NuI4vSGPR21kiSgHA6/Va27KOcUaXchPfiL5E7l72kZi7U44ovh7PEaYLbjdl8MMf/vDImFR62cteFji2Sz/+4z8eOLZLBKw+8pGPbIeewpMHlm84pOWvZkJzoLV1CA7piIuh65JW8KkxUF/XAihi4B5m97p0sVNmzSjWmSIRASBA1F+THL3QQ08whYAVUwLtZio6VeONlduHaBgRknAEjzrL2mX1RDO0VxUQQ4WCXzNn1kPnQl9T/BSxkgqzMUccVC+CPGYKusF7MMcDcjMapUqAisCaZG0Gja5irS34CdgxWoyRX/BZoEztZ+QXATaSRluFpt6v3A/SEdsleD15ew2eftjYpMN2diyDadDip3ry54afA/jHJYfXR18J7tP2jA055Wg3lQ0vPsvNPEZgcTD6KtjOg4zAIoDVTyOwYqCCoE+cBRDzaFgJo7xdKnFuPrQ50GMV+QoREEgWo7BsxJGBhBDY4OR2TlSwZ2nUa8+xejBKpH7TN9m62fLRyMrgxN/SWlPQAGPdR6bdDZnql4JCkW9kq7VFLNu1CbGSRpYTwaKm6Ymmmw9opvusbJvDxJ3tVNl4sMloZR8PDjKmECZ18Rkuv62l6wsacHaozH/k4ydwStZWK032Z5JnyeX6PrJ7dGUyn02ppx6YemDqgUedB/QdUn259JTaQ+snod2DuCnJN9AD1geJfY0tVlhfp4ZL/ZLxtFugCSAZW66uEgC+pqciSjhsKVkqeK+UBDvJK+mcl7wG9/bXwDvbmuTllywXi5C6oESbs9LmRGs2ZAJkjIhMxxaZCaDMeNXXzDKAqbPLOk3AOPoa8r/KLkJ01nU82D0Qbp+9Utuef7PegzRqob0e9nW0TlZXa2Rp2iFTPk6u7AtnFKxa7eslTWwbjLLq68WLtTowTwcjp+xIdWL3eVdBmkGbEo4iyZoGzBNy6FQXqWh+AVWx5KtiqrVEV5eTfZSo6/iqkFirWOb6Pd+VIRHsRD9OhsNK5dvI2K4N9ba6SHLnuaQAls7qJM+GSWhLG6flh58HHnjFIDTnNAVOF5C9UCtwQzBp5cxs2H9bJ1z5KY3wvPOULjBdIwfmw9qR2TDYr0CPAiudCwqgn1gKzRNnw+aqhkNddUU494wrwukna/HvqxT00b2kc6YV5h5ohNnTGsMjUHt5GLrn1kL7wqpGUa2H4cJsWHrMXLh4TSusaT8A7nFDxZg2ZjaVxx9Ie7kReme64uuEluJJ7f6mFhrXVOrTK9otby0MFZRavHl/OPNNzbB6rT4KS0b3wXY4+IUQDnxxObTPa50t3fAay33ZoEAUNz+1Z1NBNUZ8Dfelj9rQELSy3Q4V3BJ+49B82JjrhGFbAR3tnLh0dStcvE733yv4giQ9p1ph/1dC2HevAmwKvK0e7mr0mGgeJ/xBLVKvtYTmvtIJh2/bCPu+vBgDcEzL1Ki0zYFsZQdGpgoyag17POAGnMAaQS7sJcBEcMoDUFxKwNOC7I0DC2HpycfCyafqQ8d14lOava9tehduOxcaF7QumehNp3YazHI8MJbOO3wEM1Y3OwpWDZXro0bQFELVLYil54gnppuzDhabjXD9EGtzcU5Tzz04xYheCwzZaLCCym9kAkW5nCrkmwtUieeO50ZTQaeWduNt62CaO9MLt8gVXKQmAy1trUE1P9cPh+eXbTo+0x8vaNTxxdVeWNNuu0YjeXwY4sCGlbVOWFrRzryyGZfzvGUtq5mZgT1n8Vd/oGmVeq5usGunTlNOftPWb6GpgGxrRfmarj3JGCxI2JF+WNi/oriofC0ZK8vaSGFJPhY9ehozWvNyRteWPlgNZWt/ST+O8x1tjoBD9F+x4405XRuzqhAM0/U2+0A7zN+3GWa0GD/qB3NN/ba0o/Cczi2PesTb7yvWGWzVlrzuBeUKPJM21obh3tyIvRd4Nuz1+bBXur1r//pQxqvk66NrqmXqgakHph54RHpgkq8dOOBy/eLxiDx5X2Wj6Jh432iLKOHqaQtt7KdkMus31mBbePYg1+Rkqakwhq9CMg5f2gJ+HE1FyKiCDdn2gi/DnLTUAaygNZJ6PfFtkVPSSbnhK7DEWPLX8GZKgtHJpPNquYqWs0ZFMSorqN5Qh9WH/s/OroWj+5bCVXOLWs9KHWu9LR7srITD7SXtUjjQiKteuLNzNNzVPBzOtWf1XhQ73f1GV1/alQg44TfTjdJ00JFmvRreIEgOJ1cCap16SBIMoK/9ZERO4xVyp1XR+JJTs4wajZ+bHX0vmYiN8iggRLCUU67INwAEIKikhP1FPfMUNlfoCz4vlu3LsHqh0FHKK9VskVNBjgS6vZ6PMLuXps+R3X30SKU48l9nQqszY7/7jY5erPV2xj1gTjeF9uowrBzV5g4Hjun3oOBAT1OKtTMdASaus+aRbmhc11VQ6JB+V5thXbiVo3pRnh+9wSNLt54wmCcwrtE88y3RzCrAHYNGxENMnnLtR2G/xeY5DUZSuaU1ekiataZdDSVfMgb79VPVvWrliHZMvb6jspHYS/nsCb20n0qjwaS3fzCEB//DvBjmbaohL+ccuj2a/cglMEVOQpb2x7DRUfzmaSOBOl74Y5m6AkMnCKhFJniGuhdffIzqch54bF/4IkE+BQYlh2mOK0cUXDtwIN+b7J6Sfss2jRI66g6TXEaVGQwwriDoFl2SaIWHTjzAhzp/+xS4mHtQBis1FagCduGJcsTmwSzf9UFjI7ktKCb+rvx6hexc7IU/vu/54W9mL4Tzg9lw/8UD4fTFOQvQECQarrQVDGyFVh8HSYgObLBzkepN1ljiwUI9JW8LVSyMViZkoitpvK2JwuhLvLWd8yUfEMwh9sfaU34Nw2c08j/nFVs4P+vN+fBg67CQUMSELs6otUO0G7pGVokDwiOZmpGsUc8QRFi8TkSHbtFoffZg8VblZiM55w/7VEa+XUca/Wft0rnkOgpfmhW7gsISg+3aBDRej65nXde57EAOfMQ4CVp5HLGtjTtbJ1saQalrjTYqMbqPa3rlsBqbUmuVaz/KWL1Cz34FmI9df0b9hYv6sDUf7r/3cBje3dVIRwxVu4pptC5jL/kkz5LL9X2E62Saph6YemDqgakHvgoPTPKwQM3l+sD4Klz0qGEtO3bqf6gXU2t6qtMJMlrqRhjprFNFseQr8EZV4kpapxPei0bPnzogycj6MmEqjPpc0ZaSvyw7X2lTWXZ8Ld9Wb43OqnLUWPq6nlo98yS41UsalSsBHqsnAxxHR1xBLDsfnDCmODDiSmWCVi19ke31NApBI60YcXV0bincsnAi3DRzUou698O8joOt5XCwuRxm9AZ1YbMXDqi321SP/r7WQX1N1iiBQTdcEO+qglh8RWZqBlMHbFck65gLRqCMIJa95OilhHOAGeApWj3CrWzAaPaWc28cMMWCyfJqYk4opxzl6OQg0FZL+NdkgdKR7XA6FwoOGpLn4BxviCgr2+Y80Jc8iTZn2FbKctpMUOhOMNdh+t0Gz52vLqf8fThNme+GL2lTefocGeOURwmoqeUPWvrBbCh4YcEm5bz88tLMdem/c4In0GzM6OV2Jr6E22gopuIpUMILfVPzzdrLmwqiIIspgxIhWVpaz4JbuJRgTlsv09AaDzSMAEkv10aje0uToDn6daCnoxd1A/AXHl3ntm5g8fvgdun3VfttSU79N0kQjoAasm1EmEZzNWQzdEO9tHtQy+4jSQ8juvy+QZCgLduzX8RHMj2xKGLkJYTDlBME9OCR21XhK2nRyZAmb5/ElbRmj/7gh5xEg2/rN0CjRQ4y5BNZp3/QCQbcdXiu+/2KAidL672wrB0IV9fbNrXcdq/TKCSb8ik/mA+QgVyrRwFuJ7Z5OY9Kgt6T6/M6eYGvr9xBOyrtpe2uP8kyfQR83C9JHgGfbIvYcrDH+XmeuW5k6dAse8v115IFwbySaM0e50uycpXgp9vhfMqxI58T2lTaLju43rMtFCUjyxFvU3i+ZZH4PbGECTDOB8GtwX6NgFSgl1FW6GqtNvS7JBeD6rS9e6odHtTOksc7hzUSsqnAr0ZundTI7UUR6D8jsC4lTfIsuVzfR6YBrEu5MqY8Uw9MPTD1QOGBSR4WsF2uD4yiydOie4COkXeO6HOkTpChy7LTpzx34sSzJdX4rNPksESf+UtmpylhqZw7Xo6r06pesV10FR1Oj34ve+4ylddlFKgs0GhKXsksdWV8QVOR63DPk5Jxrsz6rfM5Gk3lLwxZLgYkmnw+eRPjIGiFLpVZ84qDHQmZ1rBvph8O9FY1TbCv0VYb4eb5E+F5+24Pz+guhn3NnnYXVI/dEnksP67977Y+1m0drYGlYQ+n+vvCA+2FcLY1a1NBmKJga2AxVUIvMRbUImftD4JY6tnae5lMsx0GlVsqg1sA1Pc1v44JNoE2nHiRVXMlaNTY4XRWB+R+gqaWzBT7k+SDT042OQV99j2wmgHQlrIKtoTYyuM0xufy6nmyzWnJK3YYoMRuLed21GW5rq0se4JMnyN7ctMjkmjxOo3e0NQ47j285NvoFV1PvAw3NQJqoFE2vPAS9Fm6fiM85gknwn869gXb+fR/nH1c+PSXr9cUQ91vLso9ui49qOG/XctNVrxowfM7tkASIOmy3wG/7XQdx9+5AKnOSBYbhUJgQjzgbRSKRhflwETSHdfCoi0Rx6gX5NiLvoJVjPIi4EYwCTmDOeXcZPkv27wNVsYmdOmN1YJJ0gFvDNaIFnLw6IAWGbRJcgi0WxkawaGLSRUvQUvKtsMfbTO/JJmRaOtfkw9vKYebqjuyxpLpaacUULdRQtynVY7tFEp4AlgXB9rQQx85mELHuog23VzPgYamwDENrqHAY5Spsge0EG1yHQcglU1vrNf/RlsExXfiJ1kzRu6y82PnxeVgNtcsh/sX3fAnOTnAwxAn4PBAS47slFeChQIDr6Rkk8HQwegqt9VxwFPZzrnbNiZwiRyjdV7VaQcj5vw8IJ/pfQR78a8l2W6/Uw9uuj6uUWTIbn27Cj3RW5uApfaup5my2rw47L+ToLHOo5YRAD/UEDICdoyUJG3o/F5KmuRZcrm+j0wDWJdyZUx5ph6YemDqgcIDkzwsYLtcHxhFk6fF5AHrINEx2S4VHSMj8f4IueM8dxlOU9Stk5fqdLjqLE7qeUnvMMuNua5AGMG38KCkBFpPbyStREXZCVcTX6FznOeJpWyPlWv4kVaVhDOZ2JPoYr2ggobgEwmadFRghksywNvoKgWm+Kwq2YCaBKokh/U/WONjvrcWFrr90NOIqxnNgblm9ny4efbBcG3nbJhr9MN/mLmQFmzXQhfbpOvb+8IrF06Fz8zcGxYVwLprcEX43Oy14a7ZI9rVkK3R2/GFZaAFe1mjRAGtNXVwB1obpLILoczMOzTx8sNBoAu9/LFmCGbRrgTzFzp4Ex1utHKqk+Ukx4IfEWTMqJCZRyB8l8Gl/hFJLpl8ryWmEa8jds4rMnYmHWGLC7Pkzy9hDnQfJE5si9dbtnIkM5WGjFyZME2fIxM67BFGzuXGT8VeyPXCnC9PftYKXBle5dkHWuH08avDf2lebR7gpXpeh21YxmUnGnv55mWaHyIg4CY7ASg7jHwvScIIWPkPO/PrWtfyfjFJvAWlLOIfaT3A4LZY0EwjyMzQZA41x0MfbY02GtzkQhUTAYYGMtx2x/uzmPYR2Eiy4PIAgsuLkqp/M4/d/WGq4retbaEbNcxHe8FrPiPHLuyDD1tlVNTNtDPdw3XuGvpgYWslauSVrf+0qCmmF9sKjGh9NPE2FdS04EcKCpksZCJbqay73kp7TK/+WC6GMk8yTNB2f0S/JaVm+7l0N3KNEvy0EX2JqX4eYgBzJNSDU26XBXiY+kdAauTe7NMttghgZCng6s9Bk4saVyUi5HmgifMFjesdJ3cEcyFRhsFRKjBttQ0Y8KVgtn4b0w517ZK8/Uz5zUl8dh3IX6RNRoFdQprkWXK5vo9MA1iXcGFMWaYemHpg6oHSAzzCJlkIcfTIK6VMy5e9B3Y7sUU/JXeeaHQJVzl2bJIwVeh8eqfUfFTQG23dcam3WuJyB9b0jTe0pIHX+EtgoddtLnXUbaublXnMhi3YEWCc7j3wID/bg901eytTAcFxFEGuhoJVTAvE4YZSnaAVo62od1lUtqVDwSvWtmLE1ZzmDMzoEzgH0wVnGnvvVj1W0wIXh8ta++p0eLBzIJzrzoUVzfPhoFPJyKuWFhRhgVvrkLI4rJKNyJJBvgsUjba2cVp5gSPHYOBUqCvZtD+1reTDTRZfSjTGB29KdOTjS3UBdNpMpEId5jjPhUeXJ5kWbVRmZRDgk5qSFtTYVMgDX8p0OVvscjuy0ii5Vo22EhAsm12UjavOJKDbPW6KZdS0/V+aM32ObO+fRzLGpkkxVcpTca3p51+5DrmmLYBB0MivZ90a8vUvXhtFohd9H03qgbEcnEUkF5zzUyx0ct27PIebTkaiEBCQPuyyYAJBBco61vdpUewD2jePxbuUGlrMunOuqYXmNcqEQIuS2UCbtklmlttCjo3Sx0HZkuDmFyqJ1u01vLfLhBkk0zm901VyVfw3nLhGOh3nNpCjW4f7CB73K+Vob/UjgOFpDydF/50+tk++ZAQQ506JDxYDfbxYZ4SOAlqNtKYV08l9NJwHLksfjWQSjJGgZLPDTXgNZjgQhU1Gl/xr5YxPzBkoNg9aFjAvxqCQ2ootKSG29FvTHkSO3ZrDazQpuFOhwJxkZ5apuvmE4FmaCms8W+giwHf+K+UgC7+YnBTUcr2lv/I1kGS7Dz0QBp7zBdxyp3Nh9Ty5t6FRX5eS4Nrrs+TSNFyKVV9bnr33tL62eqfSph6YemDqgUeMByb52kGjL9cvHo+YE/Y1bIh3bioi6RGM66CM6SnkzlYhIHaMxglIRIUco01171DlqRguoqAv1IyKTjeCjDUfdN3eMayxxzeO2OW7oaW8UpDKpmeHDrGLyjk8VFyOeCu2SmeenpBoog53nni1euvQAlhJqspr1HnZEj/BrbPaFpudiJpaGISRWV/oXhH+R+9xYV47DRLUumH+dPi2fXeEZ/Tu1zTBRjjUnNVu8Vvf1v6lPwj/tnqDphD2wr1rh8KdS0fC8aWFsKY1sQhY9Rlxpd2QNpgyKEN5keEFxrbixjzgNuoK0/SCBIympOaQWxDFXpRAKhk+NV5VOw0ljxFV/2S5Dk7yi1NY0WlkIxXOFfPESwWSioxIkc9ZxlVOYiIqskyHPB11csOPa6PbWNhUiB0VHS/6rEuwLNcpXV6qly9qTrJbPn2O7OahRy6e6ylfXzTTX/S5rnT7sABRusYq15ZgXKLcYvxShZ0RL4qzj5LLT0QmAxh6gImfUVscdr8r6LNdBb39ztCNXkbEwM+6PweHYd+1F8LjDp0NbRlx59kj4VxjQev+aMFx2YQsW8NIwaxSLoZSR67JdFtAFCnzEMxII48Mnfi4Cfg9INMW/BUnAfd2ljQ7lZ1eeU6uU3mWZ/fdgsj5YPIyaC+r6OfVT/2mnjX7ZvthX68flvTxhGfBQCN2NzoKZHH/10l3HsTSXnycZVo9jexCFwm7mHbndUDYnZLJwADwTgO+oDFSO1FWGuFKGmt/IQMBJT6xkiHK7En6StsKsnheRcv1YUn0tJ/ryQJFAvKMt+AfdDrA2dQ/VTKNydAf/Xc55K6XwCijpFgzLv8WzG8wRjpGVpleAmMk9TfilELKBkl/RhVss2t7BKq2WzparEnH4XIHAl5CmuRZcrm+j0wDWJdwYUxZph6YemDqgakHph6oe4AOkyXPVfFOUcJUsnH0mcBlpP5RhnuhxFOu01F3GHinB1yUs4F08Oo8dVrVK0kMJsvlJX25zY6HyWkqAkbwik28FJU8qtTZK/hEG21xI4p2wqwj411YLbfdBS1glWTIDhuRJZhtIa6phb2eRlt1B6GjUVktBbHmOoOwv7Oq6YTa7lvHldoD+6bOyXBDZx9WbZue3euEm9tfDosaDvXFwYHwsdbNeuEb2mK9a+oJX9SW4ivabmldgasNGc4XeKYQsvsUzmHq4KZwccqgAPRzaaB3tCHjROBLa3g0xb76J6tsVIZ1/qPMbKyqnuyjOPXkEvxoVa87YcFjtHW86PJ1AY/wZtYYOkOjJ+HIiyaAzilPCQUiIucp7bVzz7ksdXnZ7fbc5GTxo4LTJ4jZI5k5CV+RnxHTwtQDu3uAhZubPV1EuqbsRVijmrhu+we0C9vN/fCsx98VvvXgXeH8+lz4wP1PCKc+fzTsu7upHejE49eeci/b6Jz0ks21atOXNMKLYJP/Hlh83QJW4PWyLtHaYVBT2NjGjZdpLTrduahRoFqvyn+DOcCFGN07WMuKndVsVIlg2BQ+eTA8EA7ab7al6iEPRkkP9tXXr3KbhbVkI5CMJ77wE6SIRxpNlAljIf/uoMMHSv779ICBw5FjSXRZrtphCT8QjEsBOWBOk23MfEmRaDwwEW+MJinbEWsQ5ZJwqrgc4FaObcNOzlX/kIzRCN0j2hTkytlFWwero9G/Z9tzYV3rYPFBY72r50En7ULoPlJgy9qITGQnONqtbnDJBkfinCiZv5Q7jdnkNAUeWqOhUOAzH3BPSbZV0YvvCx4nyzlmFTwu0/UZrqABbkFRXec+4tXOdxoROGqbmJJcO58K7BIosmAfJuka9QNb7Hz6NQBfst10MQpLCX1WxyjwgJ1O53ddmxSsHdBxkF1BI7691AjqHoT2UrqOxarvVaYP+9h4Yfb0Rpi9ezE0z4pwONSamJc4h9CsfGT/eVQHsH7n898ZWnM2EXvsWT7w/22/hoUznP0ubdmxQ1q+Jl7sO5DsCbXw5d3J7n8ev7Sd0+YdV+xM4DfyHagOfV6/9l1SnyfWLqn53KVdKIK9KOxEtKmdeXdLg89o69pd0nf+bx/ahSKEX/rvL9uV5qC2Hd4pbfR0t9olLWuxxt3SynuP7UYSWo/b/Xr4lv/1P+8o55YfuHtHPMj7/9/rd6d5klYr3CU9/n+5bxeKEO770HU70rCDzm7pT97zvTuSbPTVIwu7Xw+lkEm+dsB3uX7xKNs8LUcPWP9l95/aWHfR6bFOWfmYcFklzLnBOZzcy8B1mKyS1sueJ3rrbGU9XkhEqZplGbELqOaZpgrOtYyvqcgEFNymAsgUNxt85e1z3C5yoqkicjrP4bfAlNSx6KrLLdsGrdHrj+WqqyNKoIiqupz6O7TF1bFtXft2E8AiaVyUftN6odBxSvvL363t7I+2TmjnwbYWct++j9HTdMOB/mlyiMnhD8P+uT8QtNqQbnLWwLIRWCrbmlcitxz1sNoho1wMppISPDfT8SnP8Eg9+ut0DinqLnrko0QUXeEcldz0IKOQk/mzwIjfYpMAavYoVSrwlMiimsAuz/MsqMqWwVYAV9oKcCd6Yyp0w74H+sSWs+lzJLviUVfw64Wce5QHlrQXRJj552648yO3hK+s3yKc7j16IZ7TIs8DxcjXtNMZwSP6PgSzeKlGBqNHGgqEeJceeYwqsQCWvGsv8nrxb7Nrmq51eLrn3e3x4rXfjEWwI9x40j0n/55qv5M8DQy4xLCIO0GUOA+ZXPdLGRWDAVHulr+iUaxGC5RH4dGOZHMEyX4V9N/twC/osuCTVAK3xc39HikYNH6gk/bYzo1pahf2asZ2tFnlSBN9Ci0p8yNPD4I4NS4G8LItiTdyxL/eBofFemyM2Sr53iZ2Vzzy+Y1wxWc0om39WLgvHAsrV3TCuZubYfXx/bD/4LJ92GCjQ3YkxCiTQfCKnSitPfKFlGE3pxA8dfNZaovbUuaZxumFtLYbIvJzrZj9zqh6OfoIfE5eFj9y3I/4Gjr8Sco+4IJNuixzfoiQwbWDHJXh1YA0C/hlOVw3THNFDu0UnV2T8MJjOvW7UIDJeSxgSiCpeD2rtA9et90bJxgp0yUasxGcjs5F7SaoOBRlS+qDeJtNd7LFfbF2sBGWrtFHq/94SO2K763DVb2PvCHxT5BN8iy5XN9Hdo8yTOCwKenUA1MPTD3waPTAJA8L/HO5PjAejed24jbXOlx0WHInZ4ww71RllHd2MqAobIerw7EBWM2WQlLGe3+sbuMWuyrMsZJ5FGixlAGjqsl3+0p7vOw4z8UKqqgmYVUgQSR7t6rLidT21+Q4voBvV2QqnrqYseMLH+2i0+nts+DX7gI1udD6zoO82NR4jXPNrtaNbyjQtRL2aZjDrBaFJwhG6ig4tip/os1Gf+Fb82+h34vkyWH2JdqdJ7vthcHrCFaqnSbrVPu1YrgaPaNCPPnLkOlzOjMSwTqA6Rgrx+11YWWeeXYgQuhY46OgOqoUv2MZm0nk26nfDm6Mic/lOGzCfPocmdBhjyDy/mGNdNJLNS/o9gJuU+ziBUVAa10fa7mX2jWul2lGcfiOg1yz3DYYuRN4q0v1/JKc6vyO7X4sEoIcjLDKo6EEc5y5VTyVoJfq9rtOQQFo7Odoo18iDlj88jCSZTTioU313yf2sYD1hZuG4dg3s6viF7Vr60b46Kmbwh3/fk3Y/8VW6C5GH5gcihyyZaOrIJ+CdBYgA6SAFm0y/2GjEu1hMXQvW4F2cChZ+wiwaYH8Skp4YH4/3WJ7ovHF12mLj271KfzuT+OV3Y4f6UpCwOEjGz1FA1VXmdGlDTYUUaKt6OD+a2si6qMGI3BZE6upgweOyTAfqI5MWBMcGbkNjgMIDSnl0NgzAz6VrQ2YmUx1Wn+ulDR2vRlBpPf2AzLddVvQiT41KvtMbXRd6MiLoEOa7HBadjYkyKmBatFm0VhKcq0seT6isbTH9BLkUrIdEq0zEesu39pTtLvCH0nNJvMZNqQRj/bwR6+uvY0ZnUcCY4bnd6DrFL2qR3+p7VyDSthBwKur9eJUM9iGFuy/lDTJs+RyfR+ZBrAu5cqY8kw9MPXA1AOFByZ5WMB2uT4wiiZPi8kD1slSR8sSfQ46Tyl5h8dz68SBL2jopxjcmfaSi8dlQr6Fn85RzZaKWHDjUmmX8EaWFGV9pbIMTMJUz2hkIcB1gSjkO2umTyLIwNkILOct+DIZNLmS2usA113yEcwR3vWaoQJYPfHRoeQFyAiBQc/ILcfrpWKgg9FQTC1syvhVbW1+sd2zBd4ZkbWaFmA/sb4QFhSYurF7IjBdcFy6c3AxLKt3+4XBsXDX6tHwwMqCbZvOOlgXV3uhz5RB6WIKIF/aeWHxEVi+46C9oHijuA5pc6rna9P9ILj52+sYVZRTM4FW4GU98xd8hi+ZhcvnFVtyxSgn+lNh9XaWEup21Otul+clvii7ngxyetflv3Gv1/HAM7MTTZZPnyOT+euRRM1LdoMXXb2VMZUvjgbRRaZrKr7IC5euL+5T9tKb3m0rQS9dp/xM4OcFmnsXwY/+FdpB9drFtDbVMNxz4UA4c9/B0HuwbaO3nIeAj0/LJYiCbPSbbuSi2/ViGzTCG43IjA54stXsp+y/H8mw+2qRz5zUbnv/dCz83+2rkGBBmTkG7UsPI8xKWUagP7TPD4Pp/u4ju9xPWY8zKTdZblsBt2LZPuxLdDvyiCa33+9PRduQa/zJR7ktpnD0x2SYr2GOMi24mHxvO9Xh9zWNwlrpxufBckuBzKbtRIitBPAs+KncbK+1E912nsyWGhKlSt5WzyPQ/vpjpWhvhG/5G5tQebZiT0XmFqZoj9GAU5Vpfi0FqGwNK9lMgNbWptIUV5vmJz1+DfD7IZkfKaTm4Q+m5kVfJqA/96FTinYpWIivSchV0NhOJ2Ud6LbflPRAb785grecM8TqsF0Hk4z4e2IkJbaaVMmRoCJZ0BV+jeZGhvGgF/pEujFdA6vwWLU4DWBV/TGtTT0w9cDUAxN7wHYFs6fd3ljLNWn2xjGleth6IHVezD6VrTPjxlb7Kwat4AWB3ZLTZoAjxud1OSNB0QYX59x2edaBqldApe6E8Mva6fjiXKZa1VBuG7hMXe+8lUIyUQTWqiXltuUtdsgI018KU3lEVyKSWMPrj6OsXqhkNFZLE/70VZxO5oZ0DJSv8JU8BbpO9faHO+cOh4/O3KjF2zfDwZmV8Pj9J8M3zT4QrmgvhtXNTrh/cDDcs3o4nBvMhjW9ZZ5dnQvHF/eH5eWerXHFQu2bCNai7f7iZyMBBEeNnWvl/vKYLUznz82HzjrlCW50GZm4wBV4P3dZJoWR0zK4QleTYf4r9cDvOjwv8VlqUXA6gbboKsgmLo7Tu50uF57wbkd2xzhZiSe/DLmMPeTT58genPQIJSHI1NAx1DpYtg7VrN5sGVrC6M+BfvcKXPCyTL2laX82eorVDrg2RcI1uc5sZa5JwexaJdcLtb3EX2iGpbA/fO7snAXfub8wemd93zBsaBQU95kYAEFXfIkedjQ1mmAaL+HIVfLfAGV7oe+JsasXcO2QSnC9saSAmHS1l2Ngi/skQbEh90jJwB7uW9jk9wR/wbd7HIIxh6lhxP1pn5LxUeYQ3uwhl3xLgmvJIEvedh+RBa/Ri5Y1h/KI0iTbdURm/U3yXQ7zMAWyhBzTSbtUhqYS5Et0ZWZqoDPmhHGBVMHhl2JaJHVGl9loHZFsMP0THv2xjxnsSIgfsU0BK+gpW5tTHdEm20cXSY8H+exaMoL0p7DHzHS/Ok2BBxTtVYHGCWe2OQ0wwLW8tMVHOUFnvE4vnnKkmgWt5AeXxRA01l2zoWjSZ9NGORfJXgJPZo/bL3nAuJZR5OfUc/QjK7fHABKh4FROtE/BNBvtl9oY6ZE5amem36FgdiYZBKFt99F0dWGTySUwhno/dpC3HWqSZ8nl+j4yDWBtd/an8KkHph6YemCPHrB1a3IXZ3cm6KfpkeEB63TQ0RiTrBNSh9do/UoAnOlrNPXLpY5GReat60t1wydG7zBaB6mgr8uAzuzjT+It5YA0fCGjLBpbnaCsl+WSEV31Ro6jLWBFMUnaCsntLnXVy3U21TOflwnG5XLCq26wVjssdboalaUFagS7TxGnz/euCX/XfbLtXIiwDb18DLUQr+0kSDv1ItLQCyovdbzkVIJUbh8vOKVfVM7nKxtYwOArfViUM5/LLnBjT2iJd54yH4PfoqOkT+XC7AjBh/U0RraT7EUHtBU9krcXvpKnTp/rpW1lWTq3vCC60Tvk0+fIDs55hKP6V62H5ixDaHQh6WW7qZ1O2VlweKYbDmrd2Ss+eTG0vny/Ile6bxw+EAZX7gv9gx0FkVJgg/sRL+9K5bXrbiM4Yi/HNmRFYvraTXVxLbSW1xQAGYa1I3Ph7C3dcOHxCmgdGcTRqkxNS0F0gkuds82w754Q9t+3rgDVhum/cL3ud9eL56Bs132stdwMvXNarPq89AnU0xTA2RPaofXExdBYVeSNYAqRpnVFW8hnZ0L/sQrm36RNK65UW9S8psg6WiKXkTP8jtpa7Gnm9CD0Tq0oQKboBSNoZjphyNGLr7G0obUiu9ewQ3I35D/p22QNoXXB5LfG3FzY3D8XhrPymxY/X756Npy/Ufk1BPHkj3OtsHCH3HvbSmifuBA2Z7th5br94fwNnaABsubXmdMhLNy9HubuWQpN6bP2oI92WSAk5l53/5tDvQK9bNrEB2maeaOtdnButQjXpkbsLt98NJx6aics3TgIzfn1MDu3Fm45cjp8y8F7wtWdc/YhhPUWT67tC+f1IYTRm4z+XVnXMVD7pAsY0w0JUFhsTHlfETw2BLHdbUXDTrotNiTRQWJ0MZuF8IzKI341ja25yvOJiyze21oKcnJ+qW/M6EPOgoKcC1rPUcHMIR9fLrRD96xGiC2bWAswEbyxkYMSs6bdKruPWQpPufr+cN3sWWvH504dC2ceOBDa54h4io/LmUNJpttvw6ZSEtiVLJs+udKwYCnXDLDBfgWAD+taWejnNnmAhry/0gmtB3ph/t5GmDmjO65E2egqH/kkMQRPGfG2oYCwj+zKQUvpINlHLH571GXb+pxkHVoLBw8uhXlt8tJfb4fFZV3bS11dgzqvJJQZvfLUrthG1ZVavY1wYP9yuG7hfDjS0/Ul+rWLa+GT/8XQE/2Z5FkC7eWYpgGsy/GsTW2eemDqgYeVB6ZTP75+p+Mtb3lLeN/73hduu+22MDs7G5773OeGt771reEJT3hCNuKOO+4IP//zPx8++tGPhn6/H773e783vPOd7wxXXRWnKNx1113hN3/zN8OHPvShcPz48XDNNdeEH/3RHw2/+qu/Grpd9V4mSHSsrHMFT70fEPsl+YXZ6Oo0RT3LSXwTmDGywe1IcpE59oV7jPCKfW4DOYfLSx24MezbgnK7Soqi3S47o113BqRCyVPDbdGhRlvnsqTbhj/zqm2lD2JZxnjblfOCZS+ZRisc/mB0gY0w0Lo0M+thYX41HJhdDV197t7fXQ2PnTsTbpw9GY60LoalYS/cu3Y43LVyJJzuzwemCy5qx8FzS7OhvxqnhjDKwkZg6YWQjrx9uadDzwiH+J5h58TOq/lKf2RsfEEVncFGeT7/AlUSdDp4OYUm+6FkQG6iq/CO8yV0KWVZ1B3uuRMVeanSwRUZAmaaJKeOdz4/X7leK/CumW2iHaktyKvoqOnJONjr7S950VfHA9slTZ8juzjoa4h+uD1HbnifgkLtdRv5QTCmqSMGQRRgYjQI9asURSHpAu6cXNKhogIeK9fvD6efpKnMN62H1v5BGJ7r2vpRR/+tH3r3amV2LviOpiPPtC1wgwhbW2igII8O8L0HLoRj922GYx8SLfQE6cVDoIeDVL/m55YGCgQI8Y+iJ4kP23MQCTlF2tSWhEyXsmiKAkybKjeWV0LvyyfDlff3FLjRK2ltpK6xIxcfIK8tWwjG9dXWVQVMXIfRuM+SXvTNp8247KOD2rSmgBCBI6X9Z5fD/tt1AycgpqNBQA37CH6h4+JqmLu9H+a+GGncFrMj6bX2II8gmdvibWBFeBJyhdsETySJpIBJgy0a9QABvgk/wTb0yuaVK9qh+Zyz4f986rvDM7VG1/nharhXQZG71o+ECxZZgbQRFgcz4Vx/VjK0452iLTxPBjo8aIM6L3swy8xMJ5PRXExTZ0AcCVqn5zlnu/BqdF3YpxFICc+9cyCeCEg3Pj3/oLVF5blRHhiEtYX1wCaZltCXy4KounqhFz5+4Ybw8XBDpBEsdLTz3hVEo5ScR88nSwR3k03ows7hgk6py4WFgKsCr/3T2ukAOC7GniLfONYPFx+zGZYEh2S4Jn8pyNRIATpsY9ShPedRDRG2yAE2StDwqqRAs93rZeNQus+cWAhn3F5zGMRRRkM+Qwcj50gWBGM6ZNK1ocDfmcU4tdcI9Ge4wnCzydMkzxJoL8c0DWBdjmdtavPUA1MPPKw8UHno78Gy3EHYA+2UpOqBj3zkI+Fnf/Znw7d+67eqz7ge3vCGN4Tv/u7vDp///OfD/Px8WFpasvrTnvY0C1DB/aY3vSm8+MUvDv/8z/+sL45NC34N1an8oz/6o/D4xz8+fPaznw0/+ZM/aby//du/XVU4SY2OyphU6R/spa8Ajctyes8d7nldn9MlePnSPdFLtcvxvK4HEx3n+Ria3A7HOW3KRzKKBmWgM6W8aIyRuCzQZVnVLKIG30KXRBtctL7mlcuPX15lG3LAe7CKzrTqjJRo6Wirk8/X7P0KXF2773y4ZvZ86Gk+x5ValfUpM/eGJ3dPhytavbCobbE/Pzge/rX9uHBP53BY0efeUwpkkdjEli/gQ3WAN/SiRmecaTn2wkGn1wJaGCFCHTZlh04yCSJ10suXE3MXdJEiFyQhJhAc9jKQYJ45kQSazATPpyA72BmUOw/FrDTC6+Rum3PX8Q4fGS9TXb7yivxSV2aMhZLHIKI1MfyBz2VG8vF/E02WVVIV/KUZFugs6fZQnj5H9uCkrxHJw+05ct9/nAntng6NPJo5rRFHZzUqZlUBHkUgWmu6t/QVVCE4xEVGTvBJz7CGgi1zd50Pc1+JQRh7UQ/akpAgio7hXE88Ci5oZFLrzEW2tdN1r9/0rAJG+2bD+kEFP1j8XQGi5hoBrSgzvqyrvNzPAR8CUBbUaitHPlOdFBBqIDMFhbQ1q+4num+l0WBGxzlL9hBwsyCU9JPsJyj+xpJGV52XHFJHI4hm9CGpq1x8FliCRroswIQs7o/Cmz2JxkY04RMPEiGrvHmpmgNojkt4m7YGn/gJJm1SJsiEvYyMQqe3CRgJGPzpICBnPOCchzL02KVi+VHF6MGTkh0Es6DDMew+qzFyYbC5pkPrLWou5qqGIC3rIwhT0QfpJsNIHXarJRGMYPda72N67kGKptZp7CjwssmUTzM90vLMsQRQeqU232Orm4hEu3hO2ggt7FXZDoJYUUp5204QRySKdAMv6W3qvJ5/ts4j5KJhEXtkk6wtFNVGaCPMstEfaJl66hYYvaq0Dx/pFG0yAo011lw5PBr9FGwKrtoFrR/wc7rlN1tQP9nt+OFqCqMAN7pos8kgYGUj1ZIi4TfxvaYJW5ItNoqsL3wCRYT+JpaGRr5dSprkWeLXyF71/MM//EN429veFj75yU+GBx54IPz1X/91eMlLXrJ6A7W0AABAAElEQVRX9q8Z3TSA9TVz5VTQ1ANTDzxaPTDJ1w585J2JR6u/vpp2v//976+w/9mf/Vm48sor7WF66623hn/8x38MjLD61Kc+FRYW9HlO6c///M/DoUOHLKD1nd/5nTYii1FZnm688cZw++23hz/8wz8MEwew6GikzobJK8uuIOWpj5mh3heqdF4Sf9nRzQwUEj7zFsi6fKct5Y/jQ8S2vIX8LUXZYnzbCR0nWLSRZ4u0AqDeXNmhq/vU9cLhuBJWSMpFx5e2OizJycGq1Ge0YBadW+rwqTPd1BfiVltBK8rq1PY6mt6hKQMzGj3R1hCox8yfC89Y+Ep4Uu8+213wKu0seDXTCQOH+smtTrhVLwfHWp8L/9a5WiOyuuHu3lHjZedBm+KhL+irg3ZY80XcxcfXXUZlWcfdfSNHepGCfR0moGVvJnr5Akkn2YnIcT40JBVHAgxif5ycCiRGk4BkUV5BVRQhJ2FC1htBlb+YYddBgmbaEljhiBWn26ISgBk7hqlGnFWMoQdnOhznucRmvjEq6qBJaJ13+hxxTzz0+cPtOXLDX51STCYGdaz1BEdIyjcVMOKwQAgwlYedeJOya1UBrWZfgaQ+o7XSj9vuAenCt+ALMnTjIehDUuCreXYxNI9rmh1BCGgIukBDGb0esGIklnQua6TXmSe2w8UbNd1x3yBsanrjgdtb4ehnVkL3Hs2tI8FHoAcZqR4L6W9pF2UlG5nFAmDJtqwXGTSTHxO0BJVkdwwI6f6moNYo4KM2EERToMjooBftptdR5AGpMgBlOpKt2N3USBx84Ek+MXucx+xIQbJkv7VVdA38R0Kmtz9Cks0xiAUIu3Mqdqu185AQkBCkGmgRLkZIEbTyo69AVl/rJzLqaqBjXUEnH3lVBi/Ke0qEo1vnKN2gCE7xHGszCkjJPp4oMGmbhxgk0luAy03GXbhKz0KSNUU4mzqIXMkk2MO0RAtsqR75pRd646KgAGuuJKCet9hkydyoMvqU+EBksmM1yqEtMiMHvQw3EmpwpjQq4MXzcRPZss3Wl0MeiWCV8FkG+kTToH3Qo0OjumwqYGyyjDHOiDf79AdHeIbsGV2Ps+rvQCo4vmjpaMjfpKGe8xt9XTNaPsCIkAOfzoUH7YZMU72EVJ733dgnfR/hIzEfiF/96leHH/iBH9hN/EOGnwawHjLXTgVPPTD1wKPFA2WHYC9t9s7DXminNDt74Px5TZFQOnz4sOVMGaQT2OuNXgZmZmbU+WnalEICWOMSclzGOPy2MDodHEr03bxsAAPm0gjn9HV8QbpFTolT2TpFBcx0F3XvAwIqg2GZLxGUfBWeZGPFjsycFKX2ljLAVOUUTGNkZqzjTECSX8+cWLTR1wmQ6wVDho1o6HT6CCujxFD02qGy8CxGHDvddJgJVsX1QehUd1obYV9P61xoYfauRlfNtNbD0d7FcH3vTDjcvhjmmv3wbTP3hestYIUGrsHRdQjE0y2d+XBLR3tmK905uCv8U++x4TNz14VFrcS8orVMzq/N6Ji1lxK+rhPQ6mttk3UCWarTV978/9l7E2jbjqreu84+fXe7JDc3PTfNRyBBEvDRK51PFHgw/BARHQI2MAZDOmEgjdIoCKLSCshAQfEpgowPAeUbiIIM3pPAIyDCJ4QkkD43N7e/p9/n7HO+/29Wzdq11+7OuYHkXrLr3nVWNXPOmlVr7VW1/mvWrOTfxF8gss8S5sfQcNbk3ICt1A0qiO0lnY5cTlHOp1MiiUWKP02aZmakbqaJIaolVDMKJm9D6cDXeCs8lqzktdRRSZiulbwot6i8QtTp+ZxJutUtcXZPprrK31yn6jvlDcaRTr1y9+Td4+MI4MuGDpb6yQfSxriAE7f4oQvSfWfWVAZYySJJZwsa72ypH7ud6hm2NjuuJVLyw3eOLHi2Y8E1FCbv0IYS3xfQfovGSyymBLZgnbUxtt3qsSVzstJiaZ6BQAKTls6dDccvwP+T5Os9m8fV7E3r4cz/w/I9LMLkpwcfWksyZ0EmoI1AL8bf6OuIH4VexgHV7IGVGkEaYMmDLVXU6yggkYNfkkFbDVSAlzLRGcAmPgOVqI/AmTonpKTnqQ4ALrMOoy7P5+z96uiJg35OE6XGv+vIUNR5yEUXaJ2eMn786EnwtpZtpC1eTr3rgG06O3iluJUb4CZAUiAS1rgAViuiWZZ84ixBX2xoh1pZY0UAa8TGCEAIaufsAJA/xzzNGasuVYqWOZDnqgI0AV6Zo3japAAf/tha5gJWUvyhOwBfXLai6I8DfIJdRwAkwCKCyUxATcoyfaFx9WiTx41HbIBigEuJx7K5HFZ37M48Dro6nEWfx3740zgPv9EDcrluZCpY1V4P7Zd/r5ZQ6kYcqzDkKFiRALAhlhmqPtqBRfVaAtOMANkqw/rL2qM+qQm8Yt7h7VnfODEAaytjid8npvgm/vzsz/5s4Linw0kHYPUzTdu/f394xSteET772c+Go0ePBr6449vkkksu2XJf7vmLcaHOnSeXCJt87Y19ZW78z/v0pPml3/rnnuUUfvB/Ni0BuhGP/N93divK+VMr/X23rH91R6bvFBnexHJbnBn2C6taL90v1L7YX9D40d5y6j+BHWjv4Naavag+9sHH9Sq2sh1pWXYvwoXze+ubxoNeIsL8J/b0LLfC7rdt5q3v7X8xt1/fW9Ct/3p+ltctsvbfZJbeJ5wxI5P2PmHpvWf3odDE7Om961qa7/8bmPp+f5q+ilQIGAC28hVjqwNGpbpBMvUAywBf8pKXhEc+8pHh8ssvt9yHPexhtpSQceJNb3qTTQpf+cpXajLVMHPnTp13/fXX2zjSy/oKYIzDw/HjEXzgN93zZdUnQM7ImceE5/vZy/0RwlyJMh323NDkpmtIDxYnMZ2qcmF2giQosWWxHdvRSY5zuG6erpyj3sqsyOjYEs90meha8nm511GUWT2aN+YJapXGZEpAnFvGfoCfSS95qsveR9LkmAkkASurEVlbAVwxiR9TfGq0HqZG6mFSllWAWNtHlgy8OmPkeJitLYezhuV7Y4tBG0xpxYaAMh0j8lo8MiTnt9JhlC2jFGp6wWhIt1W9aNX0ssRk2L5oSye6Ra8szYk+GR5oI21nkkxQs7I/rZhjf63fUtqfTRlIEqv53UJEumHydS1kxBm7C4HWqi4pWuPopoDYFLV0i5ykfyxIf9sYWkpjvdCkkFSOlaR8bq2WkImK3AoRJE6WizyjYLsr0cE4cld678R5T4Zx5MiDz5AD7IkwuqTnzNG1MHps2ZYNtrTKnlVaIjY1JkfVE3I0rQzdlzU5GhqdF6iEE3MtLRxeXA1Td8i5tZY3rY2zU51kHtdz7KjGLwdrNB4OyRE7SwQt2ANQwjizPA+rr+SkmnGBW53H0eiinktHlkJtbsmWIa7umpJD7h3m9JrnxNhcI4wdUvlxLQk0UE4/NtARr5fKsOzSZhfxrV2ysXgCFCLfQ0JUVK34JUN6GZ2X6yGYrc2UZ2AfAIS3wxEZA54KuSUQhSxDFpKOBqCJFhrkeDlndCBQhuyynLL4UI40/FU6A1bN3GbM+JNM8WfwyuQgDxG61ur8uvKwxKpjjeWHWV1pxOjyDHLQiguHHH+uI75TaMunC7o8xDNtKYvuSl3WJt/p9OA0IMwJKvTozL1m2fDoiABmYuDBq0LrOuLWrkTn/QAAxn2gS9R8YCsOPQHh3A6cOQiUMUYmmXb2MpcLHSKSGJItweoUk9PAL7AKXRoJXGuWQSQC8qkTnaHXIbzUwFkbc1UGmHgiYStjid8bJ1LPPclz0gFYvUzT+IGzznJU66M/+clP2vKQt73tbYEv6u7/5J7szEHdgx4Y9MC9swdszOLPJsMWSDcp8d5Jhi8s/FfhrN3DGWecET72sY+F5z//+eFd73qX5sW18MxnPjM86EEPsrjT+fm2226zJYVPf/rTzQ+W51fPOP39vd/7vWq2vdznHcc0AfGJiE90mJ/0C+UcqYXWbizNa5jc5NlWQVHILuuBvE1mBxmWVYijiipfKTeTUm9izvROmDPQWxNS6CoVOanJ8zI/KzPyFBlGWPlTKbau8JeKVFaoIh1EofwM0hGHLuVTtp4ALZtwKr1KmSa29jVUab6kHh6ZlqN/LRcUwATQNSuLrG9NnB22y1k7gNbXp/eFx01fE35ML6O9wpdlwfDNlfPkz2Qs7KvvCDcsnBbuXJzVcpC4FCQvIWRya1/IBZL711sEo3w5SSeP9yom0tYZpLG+gjY2E5I4iRZNEVquR5Efaa3bEl+zsCOP19sqPjJR5uVNMS23RpbZcuEK4k1ETUZRT5sqRVlvcW2cLbr25uU69KNoL7cu2rR+HbuzXeggp28PnAzjyNH/Szv4jdW0e58WG98m0En+qEYEPOEDakPLBc3CSuAJ/qrq2+QLaYfAjBndo/o/dlzPKIEgI8eXDZAaXpLnpLnlMLFPfOLPYDTACyARz0nFzToJyynyZXG1MTMVGrLeWpf117oArNUZgKzmM4Tfr4FZgFuyhoJ2/ryJMHe+QJYdshyRpdf07bWwQ3qPq36hJlG2gCxzUi4dzXH5sHZmA7TyJXdVUMmvGMCQB0dNOOswcEy6m1zRmK8qliBKJmCW+cGiXchwXtrth8lVuXS19ns9nEsaeEsZ0Lu8kqeMqzwCUqItQ7WdpPVsN39TLHcsaTvENeJIFR266FoA2oECfE1SVGQARkViN7Uj2CVdLDDeUZOusdeQnseZXwUZ9FCc8TF2GefMZTQ5pa5uAaOQjRxu4EQEr1seWbF4rIz6oTE9skRVjADXO9EaI39SgAbDPAeLPF9n08fPWE9ZfTojku41HgjS4WOrlStTNC4XK66gn5JZYemUx2Ecw3vguvjHJO8n9Ld2QMRYH4ljs6I1nLNv5Wwq82cTwcn8o6yzsIqhXMng+SfL+aQDsHqZpl133XXmhJcXlssuu8z6EJ8le/bsCX/3d38XfuM3fuNk6deBHoMeGPTAvagHmFDwb7MB+kG4az3wghe8IPzTP/1TwGr33HPPbRGGU3d2Ijx4UH5FtD31Dn0hZpzA11UZbr/99vDYxz7WdjJ8//vfXxa1xV/1qleFl770pTmfwf68886LE3pNTAjMQ2xe4jOCmJ3/lnOtnNnpVij5KdfRxusTIARRWPJk4UWkWt6h3rY6kugsJdVZ0lXVsEmfMxR1lDxtt3+pm/NUm+T5yKaMNJWn/JiOZS194bKZPDIh1WSWYL4w0nXLcqw8TaIlF8AKf1ejbGmvugCtpgRYzcgKC6usCVlh7ZmYCxdMHgxnjMyZBdZ/m7i9WEIY6+r098zhpbBjeMGsruZl+jw7op2RRsfNn8mq6iHQNL6wY21lW58rY52t7RXiV2bFeaug8dZOTYBpA3EdfO22CTFZorFrZWX8id3HOb+YWCLREaeqVIX3M9kt/Vumo1gjafuDrB4B3ZrsKZEyrKwLf2xTszDfB16XEXiiOBthkVa0G2krVZcUujYb0IWod/ZgHOndPz+M0pNlHNn74f3RBxYADEvqWEIooKguS6ujF42G4xfJGuN0+Z1aqYXJm0fC6f+l5ctXC+2S3ytC6bg8Lz0EMHLQBAsoQCsHY+y5oRs2WR01ztgeDj1gNhy5v8jOXIn13FQLp/2Xlk1/8VhcWggPMpI11cgdR8OuWw+FXe5rCkWQn5bH2c+B+jUGm28ntcfqS/pqkRwcYWhZb/5y0G5O2HlguZmO6w6R6Z3e7ikHrBqXNf20LF6FnrgFE+1z/chvseqCrrDysqcGcjcb/EFJez0u3uy3ivoIOltMFmydgn1EWVO9kkO7XHfStjOj+g9rN5bgza1PhkU9q+b0oYPdB481JsOxtUn5vhoJC40x+UzUEkI+cIiGZzw7DVpXdXq+SR3GEugK9a2bOulp4woPxfRg9OZBKwlNFuTZ7eUDarMox5I+Xq+BXhpfOQO6OSBWSM2seeyBVjw1s4iO41ZDlmi2BBAAisCJMZBo0t0dwVNEPXwI4nfUsmQQHsm2h7iKWpYqSg461rDQTtUgn+DtwVKK62UbryBGskbH13R7aidQ+cmk3gWtklpaHA8N7Xho3UdbcFGQljMyptt1LP1xxaZYXVv5s5WxBFoC89kyvO51rwuvf/3ry6yTKn7SAVi9eseXb+DPxANf10EI+QLfDcDqtvTDZQzOgx4Y9MCgB+5KD8QJQWVk6yHQB+seJIOiLj3AZO+FL3yh7XzyhS98Iezdu7cLZQinnx6XKX/+858Pd955Z3jKU56SabG8Arx68IMfHP7yL/+yo3VWJlak39co5kplSPO1OKEqC4iXtGU80ZWyvLjMMzKfSTlB4s2nyu2YLY+coE2gF/Q4p0a1sBYJi0qf3HZ0Q4+KLi3tp7oKTVuTKuXGAlGuSHEmoKkey3aeMg9GfwdS/2naLD6XE2u1bhVPnvyqUXGSGgWZWOXZhNbOLP3TZFVmeMMyu9Fr1abCopaCzOllxHaUSg55efnAGS8HO0mRtkmxVGNy65Pl3G6UQW3r+KifpZVnSwVjk9r0MfK23C4ZyCjkpFpa8spypJh85+GcmShNwdXVOevjPE6TzuVlJivTV+gs2aGw5M/FRMoCMZfJTNepjm55ndrZjbZD/t0xjrznPe+xHaTuuOMOc8SLC46HPOQhHbSJWVizsovrjTfeaK463vKWt4QnPvGJmf7jH/94eN/73mebaBw+fNg2z7jiiityOZHl5eXwspe9LHzkIx+xZdhPeMITwnvf+95w5plnttDdnYmTbRxZ3zkd1ofTu43/0HUeO7AU9tw2F/Z8Dp9XEfAxgIoHFQcAFJZG8HBWMOsPPQ/Nyik972KBniEOqjh/AnTWZrUscVov0FONMD65Kr/S4q+NhuEVWeMcWwgbi7LuwmpKYFR29G5C9cfqVv0CnIYEKtkOglhXAUBJP4C4dQPKRCt9zCIMHuNTHmCUDoAndF68aFc4+ED5e7qkHsZm6qF+ZCJs++6IwLR6mFBfwCfuZr3EPbhctS/7yfK2QoNOpBUMLCJOngNZxK3QamjGTdfUmeLJoBUUtK1XSNcn7zroZjYAceqmIaWtNgAtrz/Jw/+hHXqIYhfFksI1gTbkdVs+6Kp0mmfauCYCmk15Mx3bG31kqSwLSf2hNF1gQWeTTZqHJg9LTgYAkaf/gDlm1ZT4E00eC+AVIeOoWTFxTTXe2Tinsa4lMLYruK5GpzS5Rk89HGQYa+Q3LrLFn3UTCWEo+bOyNlEf/PJRFQuli02YdF1MlPrax9+YYfexAWCuKzrK5xWAFLcDcldXRsKRRd3bVR5TTDWpTjZnWS/7xvvD6kXRqNJW/25lLPH75JZbbskbH1HfyWx9hX6nFIB16aWXhvPPPz/wJZztz9ky/e1vf3u49dZbu/o2oZHdln5QNgiDHhj0wKAH7moPMJGwF8ZNCuo38dikmHslGcs9PvzhD9sy8tnZ2cCLGGH79u1hcjL6HwKQut/97hdYTnjVVVeFF7/4xeG3fuu3wn3ve1+jBbx6zGMeEy644ALbdfDAgQOWzx8stU4k+BzFeMtJRxlXYUnHvMWCn0koXtLk8lKO4plG8SzHiOMfK+9UUND0i0YZJVWpaJlfxJOeWb+iyKLeDj+TidhSNGVens5d5cFPO0Vnc84qvfcB+X4oapZKpJl0O02KR/CKd4m4kxK+r8jjPDm6KgusFXPgjh+sPWPHw8Xjd8jq6ogssHzHQcntEyTRloFw5nlQE/g1LMsr2SrYy0F8z9LE23STojrbexcvlkll30o8V+W0yjALM+h8gq0ym6zTkbSboHIOSxInQJcJmqR+fZysICmIYtRo7EUVeSbV/pTX0FSN1TUJqjF4c4WpUHmlHCt3YSIpollaW16LgEjWRpO5FSl1IF60qSRroWsp2Fzihz2OfPSjHzUrUgCnhz70oeEd73hHAExiB1Z2cq2GL33pS7b8mjn0k5/8ZHvu4sbj61//evY5iNuPRz3qUeEXfuEXui7B5tn76U9/2pZ285zG6ondq9gx9p4KJ904wo8zHThnzw7aAT8EXBl4RRzwREBGdpJOByarrdyXeoM2/1WASABWkjvE0jfkApIQoBmNVl4AYiNz9bDni4vhrM+pPAFlIcQNUjYAmLAKE1tp6WVybCmgHLcDAPHQok5oOadg7cFBPYE2RhOhmOYvIJrqWE/g2tTNx8P53xe9dEXuRk2gFfJUly2JhIc+kdVW1tX7L4FF1k/w8NB0UMhBKvgJqtdAPlm+WjDd6HvVTRxeydjA0gsd4Ucnll1St9MYnco9YKFGP1NeBFs+qbQBBmuSYWZLPJejXAO4yKMOXS8shbDAOibH7UfXp8LhtZlwdHVKx2RY02C3uCYLrDUt5RTww7MDubFrpXcKaBDBjJhh3aFxxsEgACuqd+AKKnb7G+qxBtothXgQm+5RtP1FPnWak/TmLRApVEZ5GWwubOCTZKnpBnwVY5bTRrnQmHQJUomi6GIBAIlA0vS3lLXN9CwBLtEYaAY5tFhAYQ2VLJ9ju1RXFNH5L21HX50JPmew9jGYkI9ugGLUbUTKJ5qS5NcWtVhzRb9pZKm/GpMCzSaUwAE8dN4+E7D5P1sZS+waSDS7dvvO3Zuv6Z6jPKUALHxf8bXn13/91223qGE9WPB/xbLD6o+o7NJuSz9KmkF80AODHhj0wIn2ABOAylylp6it0PYUdC8sZNk4AQCqDIBWz3nOcyyLFzKe+1gE3Oc+9wm/8zu/YwCW0//Lv/xLwHE7R3X5Ya+xxPnLM3MVf/lNcxndDAVFGVe2TUqKYouWND65KWkoL2mUbCGrlLUWloJSPCvaoazIsilcRXZHVlem0NOzsrgyo4xngiJCudP4uSi2aJmvTrWvrEwCUz6neF1ihuVrLmlnFQDsRH8URhmJydOE1oAw8eP/hckdVlBct7peAFcVX9JugCwnnBhZNeBpanjFvo5PDa2E7bWj4fTh6aq2Len59eVwTf3McPPKabbjIC8lh1emw/EVOWbWCwV1sOPg6qp80fAlG1002eVrrU1oLUMKeX97o9X+DFilMksTJ+hsfVKZFPv96zTl2XrP67GC9McKUtzle5Gn/VzNT+mWk2hb9KDQ29VC2Jpo42kt3lwKPSu69mSs0npf+Lknc/fCH/Y4gs/Y5z73ueFXf/VXTQmALIClD37wg4GNLqrhne98p/kHfPnLX25Fb3jDGwLPzne/+91mdUXmr/zKr1gZFlqdArv7feADHzDw63GPe5yR+AeGL3/5y4FNN+6JcNKNI6t6YdXSMUAldhHEDxUgFEBGbUVLyuQTa0g0hCFAGuW7byuzcBrX7oVjegMGBIJH9DXtKDhUjzwAP8K9JDO99ulmw+H70EqxyxnPUb1XGViULorXYRMcgJ1VLVnUskWzXgK8wuIKgIe4B2QD4JSB+gmcE1BlaW56QIk1OaAnDomBFIp4Wu2xEuTCTz6HyVKjypB4rIxyHXlJpeiy7MRjaTxnl0HgXhkAtDbU55kXuYB6ZSDPA3H60XXhehE8HVPtfwHaKt2GzytdJbO84iwtWvj4yFKGCFbFcYsSB68caEGFaF1UcrWqZhuE6NnrPCVlS22qGzjVQqGH55W0dAkgjwNnLTKpC34j4pxEcrb8yJv1QXASDosNE4nHOJHnBIgA3Cr0y1ZeJoO6RaSfQSPRGKglQIsz/cscgPE3W5VRCbyMo0kPmzMkIMx0Yi5RlMNiFSV6S4t9XWDVxliSwwkd4FvR7x8WlhueQIjXeXOM/W7LqpT5+XmbO3v+DTfcEL7xjW8YLoOR0d0VTikAi05huQcdxaBYr9ftCztfkn78x3+8a5/1W/rRlXFQMOiBQQ8MemATPRAnCRp0NhnyQLxJ+gFZswc2AzD94R/+YeDoFgC6OH4gwWYZUZLNf8rboCjLdZXlObMS6UcjuTbpEluacymjkAG/HYWgsjyROq/LsuyCJQop5CaxOaeFNue261IWdeJxRRJdJxIXkXWFqCCMy2qcqv2cm288+qP/GaxyOeQRd31qWqqhba3dqTtfdhe1c/ExlgqIBp8YBxamw41Tp4WdE4vmxP2qqYPhodPfCw8cOySLrBF9QV8L+xuj4Y7GtnB8XQ6PtWzwmqWzwnfnzgx3LszY1/OVNe0wVdeOYauyXODaMvn1L7e8+6CU8of4kutp1LR4bKupDE05aSZNsc45lHFlelPbygu6dhqTmlk80kbnBeUZuZ3Zo55FvW10ZVkpsxIv9cj3S0Fj5aWsFCc/06NjNz2RVfJ3SOeNHSjbZDjRcWQzzneZL3/ta18zYN/VwQUHH4GxUu0UyC/9/kGDxdYnPvGJTuQd86hzdXXV6nECX02B/HsKwDrZxpHa4eOyAJElkICgmiyYDBBKQIqDT95/Zk1lIBYPAN2mAr1renAYwJUALAAks+JK/qoMHCpAGCyPsKyKy/2KG523b4LJA7BSHVgcpTz8cw0JnIHKnrmKm2UU9YrUgCvRmx8qHmZqgy3lc1DIraG8nvi2H+kd6Im1tfw1eQ5sUQIt8j0PudIlLxt0bmiK4B8nyMqAVElDvEyjn474rE1l9Cn1u77etqKeXCZZdq+5RZbrW1hf1XbtCMcfdHY4cKV8nt1nJYxok5DdOw6EnzvjxnDm6NGwIAsslpqvsNRcPq/qtgNhXGru1jOMRywrJHgecX+mdJtzxuZqvKGb8sMv8sFPyD3YUh7LmgSx7iK3GVVR7FLV08xtebzCzXgaNN76rcHHG1u6x3ho45qfReyCjNET5FOZztATSOpwt2qWRVE5SGhcN3At4ZaxLyRCFnDSKAYJsXzAMARqLB5iUxX5pLRxQ3rHcv1mlG2gmbg1SxB9qZ8LbJ4RZ8H15pwzU9kWT37dN8PW7d7oxnv11Veb+w0v9zHi2c9+dvirv/orz/6hn085AMt7BDNkAo7d6Uy+DA3CoAcGPTDogXuiB7YyWKDfVgeMe6JNgzo31wO8qNrLqiYhHeccPjlBnE1MWuWW86jWkpjKMl1Omgsxj2oJZVq0Tt5CUyRMbiIyHUr+gq4l2k8oxH3k+OS0VUFNDgvZbfqkMmgKskqiRdOYaCHudH0Q2FQ490lSkpedZl4U6UsPwZI4Do9PhsNj27QMQXJ0Ua4auTB8bOJKOW5d1aoTJrVywK6JOJZVxJmQ11dGQ2NJL35MgMUGMOXgFOrE9qeXJqolL529f3MfqcwD4FXRHM9uPxc8JrtMt1N3zaFvcn3IOEE5uQJrZE61yct1lSRVnqKMaL7fynzp2UlW7mfRWlOK9nSkL2USL+nzm0+VqHv6RMeRzTjfZUOLhl6iq36nSF9zzTUdlWJ5did6X7bdkamSCe3Y2JhtpFEWIXcrckreH8X4d1+7O9QmJsPw/rGw/boQdn53OYwcWRJwIpsbWTyZpRTLzuSDan3XbFg5YybUtwvw1iNkZEm7/h3RzoPH5KdqQaYk3PQsjwNYwXG67kUDlgBcAFKUv3baTDh+4WSYP1cWPlp5vz66EdamZG0yLeBL/oHsnRsQXbuo8aIOgDN2rBambt8I0/u1Q+LSeljZPhyOXzAcFs6XzB3RkmuDZxr08Om5NrG/FnZ9txFmv3M4DB3VUkDpvzEu6yXAM3Qj6CwvgjHOX+kXl0DGcsCr2vyKdlhcluzUPiy/pibMYg0WA/UAztLyv8Zps2HuQrXxgrhD4vCydki8dUP9uhhGbzoQNlgCyLJAADj6CQAMcImGc1TBKX+QcIZ2JOkLnWSZA3pZ0HUM+hBCPbZTIgSSv0E7kuXX+sHDYfr/vTNM/yNO3GU5NzUVFv77ZeHjT94Vdj5kMVw5dWOoa33ZcvKVWBeIxRJC/GEBVjlgBQgzIsshlroTyLcxx5oknRXcAsqby9LB1YY+1GDpi17Gk+h4wMNjf4lIkIItO9RYY0vYRYPD85rGP5yrx+WHNDcuiWdZPDKpo17HolggYxRjj0vv1hE5Oj9t20LYu+1wOGsiLl09XJ8O+5dnzTIZR/V1fehZXB7X+Kl7SPemgVp2f6pvBSSh7sa4fi9Ta+ZAHV3Qg7F4QvKHpf9CfTQcPTYdNg6PhZEFXXfpwvytZmOwNS80JvRbmFZf8FvQxyrTF0CMAR/dVRFL/0bntXPoktqvW0A+9sPqtK7JlK6JfkvWaSwD5GOXronhlQvyKTc3rN+OiiWvMU49ki+/c8wfrB4awThOXQp+tsQW/mxlLIF2K+Exj3mMdE0XcSuMP2Dakw7A6meahkNJ/Jpgpvatb33LfJuwJp9dpwZh0AODHhj0wD3RA0wUBj6w7omePwnqZOxP47/N77Y4rm967lCR28bXaQ7ieYk3zT+bnVaR2SxotsnbZmVO72eX38JYSVRplG7TvcJi5R34Wsiq5S2FRR2p0blO50vnrvnIY34LCKWz9YN4DMDS+0jexZAJ6rgcuOulgQnzuL6e75zSDoPjS3ova5jD3QX5KlnUkkB8lTAJB8SynZAwbECmzYqJahJOvfqDdYC+C8d3Bmg0SfbJfiKBtRnEY7ohgEaV7YbQBKfs3OiYtqJU3hRYxHqUZVHNKpuMzpcUzbSiyPei0zS5usZK/kyUZOc0kVJmGW8h6pDoJKsDGVmmC/QcXofOuV1bkIU8womOI6ea893Y2sHfsgem/mtCljfjQW707CY6vnciDJ2vpYRaxrw6wxFfkrnXanpu1LSSD1rutyHtaLd4hsCvunj0nDBfOlqWpE3qbBk09dhSRJ43KicIC9GLerxJayvCYxaHwuR+vZAL6DEdRGP3cnlPpxsd4IpDhkBhdGEjzH5f8bSEMN//4iMMS8+lXXru/fjpAglOs98KO+yhj9Mih3aiN36wFs4eCkuXLof7X7AvnDV5PNw4vyt898Yzw9T3xsL4YfGpDSPCskaWBVDIyTwBwKtBm0fVJv333+fEwY0wcdAojO/YRVNh6MLzjcd/t64HcmvqSw5ADZ77Jlcy0Y0AjfUlGBFtLOqiTpflso2HPjRwjBRx/WnLo87YJ+ujtbBwpizx5mvh/7nhivCvk5cKeBkLx+Ynwuq8LmpdAKEqG6rrWumwj2ipv8t6Yx1pDCnKrX4USXnWbtJlUFtycDo/c//p3uM+RIZdN91PgDjW7zGblazNFZGKqzgHA42QwcESUfX1/Phs+Mb4nvAf6mu/fta/jL8KpqfqlJuo2IdkSi759Ds8tpxWy2Q3hG6QBgdaFJlub0tT75TuHW0CrLpjfyMmo2qKmjwx1gQUevvWtL9CY1LjdsIth6QH9za/Pepe1z3Cb6ihZby0BRnco8O6R+33hC7j+pg1pTMdofTo3JCAZ11nuQrw3yX5ZWhoKeGJhK2MJdCeiuGkA7D6mabt27fPTJr3798fzjrrrPCsZz3Ldkg5kc4/9pvzYXhKv54u4Y5/3tulpJk9dEYz3in25NlvdcpuyXv3uf+9Jd0pMfEPfSoSk4DnvmH+CfoC0iOsgjL3CTs+09u/B+y7n3NjHyl6oLzx7L40P/HWL/ek+eurHtmznEK+KvULv/WMT/YjCX/+x0/tS7Nxvp6KPcLM/9bTq084fnH/Czmxt/d1pIqNw9Ghda/qju/tfb0veMxNvdit7Iarzu9Lc/SiviQhPL133yFh9D81i+sRxh9ytEdpLGrcVA6j7eQ+UWkv6Z7Dx4itfJDYCm33WgclJ0MP2KSp+BnlCWxSrpwbdCxzXj93elx1ynN674RqWvnUbXWmsr73XSGj1LtHFV4Uz/Dr6MSbCb0OP6eCkqdjP0FXFJT0JqIizyeCveisDL7E69ZVzmPPAr6e6jAa6teXUpy+2pdmTVTHxlfD9ETdnLuP6gv0aRP6ijx9KOwdPxAmNHNlyeDNK7vC/pXZML+qr8fa/vzQ6FQ4JrBrha/4Emm+NfiCbF94ozLRIotCa50mxPFFxdJJQeuOVE4+nPEap0zn5extJF7cCIkkVgKZZ3gnlHmZqog4vbJyNNVlVKZUO72BgkV2WzQJy/qIIF8vJxZNSx94flm/57ly3g9VGi93+rJcZdTtumQ9nIZz4vdu87OL28yZy1Jcmr4sTrsZ57vsyIrfWObOZSDdbeMK8rdCX8r1ODJYvnj06NEWK6xe9Trvve3MPbOmaVt9W3xR5jdS03NhRG/gY8cBa2KP2L2lsvwb4r7Re+5aAqS83wxg0As2wM7COXpx3rscztt92Pz33XJoR2jcMBNmbhmSJUm8eav3rKU73Nv5WSIdCAZGEJEYA6cAgRzgUR4v8+jXwOxHIT7mYpzfFOUROIqgwvbvb4QdAquOhAt0xHbuNnCKZ3H8HQJ6GUCH9RQ0EmfAgf2IRKM85NpzMTYvPz+8nSyB1OPYZMaHp3ikHHzGazL0vC/SyDO+qL4olE51W0J/vE35x2z1Q5QoRECfIYelnSvbhsORS2th7IFHwqPOucGWoh+To/b9S7PhmPwi8vGDZeYNHTgFt7EBWX54xUpHXZNyKW0WeNB2Cinfn22ZRPm0y/KR4/zpDEAkY6oYOrVf7aONzmcgJcMdlwu5nHVwPR1AsfoSH4LhtevAdSTQrFSXX0NLR5zJSOgTAKMhgUsE6vNrzAcg0ynVYb8P0fj1tbqMK/3xNkNDnPtAvATS1haAV6UNENYKYN43aZMBc/rtyvDLgFZkTxzWLsXzsl5clhClG5OySpsdDqtmtRX7Yk0gGc8AdCaAoZ1IsJ9BoX8vGT6O9KI5GctOsGt+eE3pZ5r2ohe9KHAMwqAHBj0w6IGTpQfiYMHourlwqg4Ym2vdvZiKyVWn2yBNJGzC06l7KOfoxEteJb9jHZBVJixl2ngqcsTSPaR6W+pyPb0el+dnSWuhVzrrUPBEXTyjncf6As0glIBIjzAyEz3xsl4rKf5Uywtao0KuT6KNVvo4j86lhRWAFWX4tRgZbYRRHexYBGB1+tRiOH/mSDhjbC6Ma0Z87tjhcNn4beHC0eUwNTQcDmuZyHUT28P35LT9yNq0fJmMhZsndoWbR3eGo0sTthyD5RU4bOcFxZ4lAqtsKY4mwN6h7L6UX1zoIHWKTbhTN9LP9lyxzor9YH1PvneLIjSxmdEaNxleXjykMj9lClGuSUoCU17KilTF32YzcqbJULe2hJI/xfO1byFsJnJzCyVNdpMkxkrZqSzzVmjb+F2XCl1Lsiq/mm4h7pywa99NqQ4sxSXqUNqaxTI+fMh+7nOfC6xaIKxr+RNpdgXsFB7+8Idb+Ute8pJcjBN38jcbqJMNmKjnaU97mrGxycbNN9+8JTmbre9UpWNZETj54h6BP/edD4+7z3Xh4sk7w/VLu8MXb7kozF23LUwciiD2MNZHi1p0txJv+tXpobB8upYm79ASQC1fYjkV1iAjC8lKRL+zmVv0Uv09gSFrZ+v3uxG2yWIpvthrGZOsS7jn7eWeR136XfqtmMctaIpy+horFHtWKs6LOyDaqgC4hl7mCViqAMBhLVU+r/wZRAsAM7C8Kn93Xrc9sGIzW+vW78sAu83+zgrdvX2mX9kel6WzAwjSzv5Da6GQ41mc3QE98aQuuSRjgM8L1LimFRrXgTp0HfT8P1qfDOPDa+HIypQtnZvXkjmz3GX5naxxWJqJ1RXLzABgDKzR9TbZyE91NOtK9Xrdro/OzlO9ptW+t3JAn3RfYE1W5SnE2pDlFnXcEwT05F7J+tHvsrzKQCdNEiJhfIzLCpSZlVQCjbgPsXQyKyjF0QFLxGH9DrQhcKpXNPpGDR3tYGPBUQBV9ZXXbfdzqo8+QEdrW+oj0oC+ZsWVdMm/jQ7AGLrCz+9t7JgEe18ritUVhwXl469O616t75Fp/SJLMPRD5wjKxjZAtL6Vh3ysJVZFu/KFLAo6RE+wig6S7t6skw7AunubP6ht0AODHhj0wF3vga2sN6e2zQ4sd12zgYQfdg8w2fFJWjlfzfX6ZMYz0lzGkmXcyzdxrs5LfLLadSLi86et1OdCpY/XZ03pJKPaRm+DaJ3HZVhRJxkVnshXCEZWyYd+ZbrQ0/KhF+CUaTqk8Vllb42cFWwrbb1FmkNXyQesmhhbDZM68J8xPrIWto8thZ06JjUb36Y1Aj82dXN4xMRt4dyR0jqUWXu0VJ7RfPV8LS98/OTtWlKxLkfuy+E/6zPhK9MXhe8vnW4WWXOyzDqmF5d5LRPhZQWfWSty6L4qx+72dVoNZwlhyxbjlqZRHKqOphIvlqrQJgup4+ySxqYmepVi2ZX4vShxJd6WlCVUi0JBnfhNjpWlPwVJvg4diiyrg4ykdimxZ9zrt2oLZs935qLIs2IfpJS6pC1UZZTNbyNWRn7p71TYJe+HPY7gbBdHu2x69JCHPCS84x3vCAsLC3lXQlY0nHPOOeHNb36zafjiF784PPrRjw5vfetbw5Oe9KTwkY98xHzOvv/9788tYKdXwKjbb7/d8gCnCFheceCv9te1czh179q1y7Zpf+ELX2jg1T3lwN0UPMn+LO3WS7h873BfrV87E/71uivDv+o+NKBAAAWWHAaq6NHCCzyWGrZhg9rBvcY9PSKfPL7OmDTLlTgI8dnA2VIGVgEo8AKNNYiBA1h+uJUMZATJsSA+eAGkypf9VBpPooUfa5syMD7yck49yDPgTG+f/huxNhYAiT3LROvL7rBUMjBBcpzH2gy4kPRrk6Eio6GcQ7pH0EjJBIiQn58FiSb/zuknyunbdCgnXg90cxlkpr4haoE0NMgg+DmmIr2VUwHXUie1jef9vsVtZiE3t6IxYWEy1Je1HA7/VFo2WFuQ/6QFAVf4fYJf18Lb5HVYnUV90LXopzLvV1cn60kG5fD7oWhOU67gaeejD30eRJx8QCVAGas/9aNdd65honHdvC7uRQArv6bU5bKtXrUFf29D80kHMhWMhntBwfqDpXuAu/pPmviIlppyzbiWgGQGcHFdky7GLHrCsHRg6d+wLKVY3gi42pjQ7qAsITSwMfLF+0MCCKjtwF6SY9mp2Gj8T5lX0NL2iSOaZ0QXYEbdqBcEzr+J81bGklP1fWQAYG3iRhiQDHpg0AODHujVAwwxWxlmtkLbq95B2UnWA9ULy0SlnKy4up5XpafcyxItEywLPltMyfKkKV2cVDqtCo2vB0/J7/Fcl2cU8jyrqp/lF3QtMor8zF+NiMa6oUpLJgf50AhkYvLpodo0K0syTAdAKSaoCZzKejsjtIBVtjxQtErXbGmgnM8mEGtEwBMOcUf1GRdntKOaDU+NAFwBYK2G7TIt2FZbDtPlFkeuYIfzsOh2Dk+FM4fnw059rt0m0GtFs3p2j1qUnyzqITChxPnsuvThJRVgcp06mPGDrihtO5NBzIsUbRGPOVZVPPvjE13sQxiMxP54F3g/OfBp+caDwBic1tOcnd5kk0GdOmC14BE/e37l3El25LdGROrimucKCrlR56a+8Ycg1kI4v49+wfqiJCr4yW4rV0aFpOiAUtDm4zSraFpfxq3QIuwZz3hGOHDgQHjta19rDtSvuOKK8JnPfCY7ageIYmdCD494xCPChz/84fC7v/u74dWvfnW45JJLbAfCyy+/3EnCpz71qQyAkfmLv/iLVva6170uvP71r7f429/+dpOLBdbKyortZPje977XygZ/Ug+kG0zGGXpR1rNukjdvXWGBVw5cDK+kH5myoSsD9yKARhnKe7btXhWhgU3+FijRBjxRRboFIijRfO6ynBF/WQY0JDDAwCmBEvzErD7xxjwUkkzh+o0pOaqe0LOL9mBBJCAGB9hmSQSZivwo9Y9Co2yT37w1I5l4/QdjwAR6FMH6JD5SLZf22aPa20yudOwYkO1tKmiox3Qt64LWBdGepFdLn6c8o9QDNLdX+RssQxMxvhGX10bsYwkfMNZklbuOfyTWXNL3yecV/W9tA8AC9GEMIOR6iaSgaNbD44kOCivz/ILHo628MKZQRM2pvedLVdMtX9NIGNtLO52w/Ww0DC5JtgGXar7fj5T7UlOnyd3ucnWG3sZHxY0eZ1z6H4E7ja0CmsjPvACkic+1WpcF1jo7bubBLgFbApmQHe9xzqTjNRgW2FTTYfWYvEjnY7UBXLpWUQ/VJD2jxZmIoTce9I9pdOm2L4Dr2e1MF3JsJmyWbjOy7k6a8md8d9Y7qGvQA4MeGPTAj0wPbOVrB40+Vb94/MhcsB9gQ2yy5jMAP5fyNRfJwcv9nAtSpKQtsyw/FvaaAJbiIm7TFNjC59l+9ro66VWhaZkVpbJSNlk+6bX8lChpSj2Jm5h+9TBprNK4IKs0TdgyTYqkk/GWIJjyDdzipYi49OQ9gWPVQS9NTud1sMsSNPi9uml8p3Y1WtNuT+thTEsIr5q6MHxm+kjYPToXpuSk5pLxO8JDxw+F04ebviLvbCyE6+TT5FBjJsytT4Zrly8L35nbEw4szZjF1ZJ8nCxpdyR2adqQBRbPh3Upwk5L1t9cF4CrBF7ZZJwG2WRYZ8p1MMGnk7z/lYplFmnGxdES/LJbvsvyzERp/ad4ll0pNx0KqZmuyGuJusCU2UZPOQrRpiK00xWFFq22LpV7dmpflSvehCnX2uYMFX5nrLZf+aVuZdxZ+p3vjnGE5YLdlgx+4QtfaFPx6U9/euDoFp7znOcEjl5hYmIivOc977GjF929uSwuB2MJkV6Ip9fC9K6lMDVeD/NL42FpQ2ZUAn1sCVaHTsKyxKxxzOIl3ZjpxH1oPzXdzv5iTNpe8vUGaCBVutUjgBArMBrJtd0AeUYqUL8tB8QKRnXBG5dIxbj9hvLvQs8v8a2cpl3xzlwMl5+1L+yemA+3L24P1+zfHVZvnw6jx6W3nmn4KzJwAmuwQm+rNP2xNhQZ9vsSrf/OvE320aL46Xq5sSK74PG8FppUR7W+/Hxw/iQr5xd1WhuMDiKFgifrzZDCdVMZ49CwwKlVPf+XNQ6wPJ2PGlgAG7viDVlgNTQmsASNa2L9xXVhiEjApcsuB8rctqQK8so8A1XQxcYOSlvjsBmARD18paDcMimwpDIiTbyXGH9UoP/xfkodk3hy3bA6v6LkWz12IcmIabfaghx5Bh5JFwOByKwE09Gr1NmsrdRfQVZuDkaZXkV77bdA+wCOCDrZ9fekaA0IE3gFWEgZVlno5hZZNMDuZSygGbv5bdiSwGi1RfsAuGy5I9ZhCrEtUU5L3dIlhzKeM/tHtjKWnKrvIwMAq/99MKAY9MCgBwY90LsHGI/imNSbzku3Qus8g/PJ2QNMhDiY7PjEJ2maJ2t+vdOEyGgTTaeTTZ46FXheJzleR6KpJKN+lDmvotV6iiKTUi23zCpRbqSVmkyru0oXi1vqJ6tjHU7r56ospdvqSDRZHnoVfJbPJJU8LyONVYAHgCs7YoZtD84ug3qhYO4et+ResyWFWEtNjKyG08YXwznjcjc8djBMDK2GS0cPCrwqlxNqUxOBWbs1oV1cPxqOrd8Zdgwv6AVFTns1G67LLADn7sdGJsJ8TbuOSUG2NOfre0N62lbhytvgXQbdbeKtND1AGvVTE+xjsb08UBCb6WVGnmh9wlq5dNmyirYWH55Nlsux/kN2zG3+rWSYSkkvIyrjZLRVrjwJ92yrh/YXcinTa4KJ8z+tqZhb8jhdPovB68h5ZQQ9XWipcxkv6Yu4vYCldE8dCp6WKHVsop7MsxXazDSInIw90MD587iWOmkXwPHrxgQUjcknkpYT6cc4znMqP7ukve7PnCYpAMNejBMQ1LF9ulcMrEg/bHsBZ7kfb4EmL750GwihuuwnAE95jynOfc1SKgsmMy7r8ueL6cLSROkeZWkHwnOH9ZxcCBdMHArHV7WTnpbKjR+shck79Wu25xW6SWJRl9Wb0tZWPT8jQBKrNhACAEh8VR0jhf4mNXO6U4Q2FPXGdjQzSkCkIzt16Gi5HuiUDnhoo7fP25WBI1Ul94lher9orpaD9vVZW942d85IWLhkPYyfN2+bhPCBY1Hjw9qQAK5kiYdFnIYcgSoooIp0uHyrt9SjLKeQtELr0lJl5PwU97ale9DkS65Zfemcg9+fsOme5Vq5RR805fUq9SyBqAywSlamsTZEpZAZdNBcSTSZcdkh+kQaRkYC92kiM7CJ68Mgbs9lCnTkZzRxyhXQHZ1s+SP3l8RRtoYfK/dlBSEyFFxGBKMArdghkrZHZ+xrUwKo9DsDrBzT0sDpBVlyH1+1Otam5CZgWh+u8Bkniy9rM3Uz1sdmCLhMFVltW/gDf5LRl2uzdH0F3b0EAwDr7u3vQW2DHhj0wI9iD2gU85fCTTXPR71NEQ+ITpke0ETAJnjVOUc1XTTohG4Fn3D4uZDnUdMjJawOp/WzdCppjLSHni637VxpQJ5AJsK2OqoCqnWSTnkV0TkfEUaS2uJNcj6rAmYKkgJ2snTiplgTU8v3+ijnYGJu7DUzegqaKSWSgMP1Yb2crcv6inBEvqvuGNlu8Sl5lGVJ4fkCtkblwH2zAdCKw6qWRYJ/PbVnCvmul7+oIFh55gOHMoLRxEl9zEh5OVHQuDzKkFPSeNwzE22+jqQJfnY6P8fSpI8n2s/xejSZqvLjdVF72lnb6uZSE1yGvSzGrPi3kxDXH4oy3o/Py8Xj9XlWKaetLBP1iNi17qRsFx5veJfiQfap0wNP/akvh9r0RLj60Pnhpu/uCbPXyd+RHLs3BGrVZ+SgfbucfGtpIRs5jB0dCpMHBW4dBRiJuwwCKuHMnZd8XpajtUcEkugFwIHo3yrSLO4R/X0Xw49fcHM4b/KIVoHJKbwYOQgH6rPh8zddEsJ/bgvbvi8QX9lz59fC4gOWwiMv/l64aOpg+M78nvDV718Qxq+dDBMH9IPw34RuYXu26jk6c5v0u3MyfPWLV4SvWv5QmNVzFz1X1S5+J1RpB9Yr+m+h+BnwewaoYBdGgApue9pDHXYobTQqMzmIMZpIZ89y0qrTLHrER3C51mT0SMCFLzuzPtOzvyEAAqsn41Ed1reyxoHPZKrMLNUiiQQZafMPsmkXQJadY93UZ88qyiWXtnHGyoqyDe14OzO5EnZNLoa5ETlz14eNZR2NETVAfbLOskItydQ+IZIdq7W2qCzWk8YDyqiX4OeYsvrRwfVI2ZkOPitXWwF1CPStgVPqFwJxfJRZHn0LD/Tpuhq9aNdlSBgBU9oo3STPd31EjveN6ag66Fu7vvSv0malKHAUS0Dre7oh6eAAEj7fVmd1z7EMV+Usu8VvGA7WHewam5OvqaPaDXCxYXLXptkNUB+N9BvCGg692HRgRJZS1IPOdTmzXJ0V0JQ2J+BeND9Z0gV90WNF93NDmxhAT595ffI6YAEw6+jF8ms5LAKF3K+qI7dZy0nXUpug8Z07iW8pqMM2/U5C556CIfbiKaj4QOVBDwx6YNADJ0sP2EfEysSgl272QtqLoEMZSzD++I//2HyXPPCBDwx/+qd/ao54O5Ba1sc+9rHwmte8Jtx4443mu+Qtb3lLeOITn5jJ8ZeDn5I///M/ty3OH/nIR4Y/+7M/M1onwkEvDnf/8R//Mfsweec73xlmZlotTKC//vrrw5VXXmlbtbNl+r0mMPaX438Z73RPqLxtvlDyVDuukwyncb4ONEze+gbnLwjbdCvKWqJpRtyPvmt5WXeKQ1tOtHNc+Z3a06HZLSpawhXQxNQmw94vCCeObOLowEGweGfpTAp5zzJn6+IziykJWtWsddXeHrTrURfwaqo2FjjOaRwLuzSjPiAfWKPiW9MLy7JmrXWBYlQNTmXLRfhi7EpRgHUYywg9EEXNUtWi2MjKMmVYn3qezpnc83KGccc/yvNiGExGUdymQ1nm8Ypc5NE6D36ZLN2ScIriXJHVpk+lvOBsRp0mKhLzPa6yqgot/Qa10zSb0JStWJW/pbBL4u4YR7pUPci+h3vg49+5ItQmSyz6jwAAQABJREFUtSvp4oicsetlWi/i+EZiV7JVgVer2/WWO6FDD4d6GJWj6QhOAABAw8txQ7sJ8vK8NqOb8tyl8IBzbwuXzu4Px+Ul/Ko7LghHr98Vpm6XM3CBQTIaDRNfmgrX/q/7hmtFzv3tL9T2s9T9PSUAAfBm+bT40GT3w9mvToZvfvXy8E36SzzbdHA2QAl6dBAPgA6AxvIZ62HmwmPhkefcEM6lUoVhVeRA2f7VbeGzN18aFr6zM8zcGF/6jaj447qRlccBfn9Sy9LEVRd+i+x3p/TyLvkVvLgeLrvotvBj228L+1e2hS/dsjdsfGcm7siYlitamwGSaAfyaYN050mMLGuH+jTXq0ysZeCz4HqID3rTVZfJLHgYKIqwkXwlmkWWaAzESSRNAIv+U99hkaP/DT3vVxoaW/ThhDHBBgcDnCJ4hTWWOXVHTgKism4tdUfdLKtQy0AmATYlOJWXYao6uxeg90PR8nogz+4Olbs1HXmxXxWBT3K4L1luaoCTxjV7fnL9FKVv0WNYgO3oQlxmhwzblU+AkTlchwVZ1sZ4vSKvrpP6HnmUjwqoGhVgZRn8hV4fnKx9pmPUZWmXdnTcCWMKKuP+tjaQJRG2yyVRyRjVrp/jc/ikjDqjE1ZZsT0iUj7A2JCmvgZMUhf3gQGSnXnQ3/ohn2Nb7F5OqknECYWtjCUn8j5yQkr9gJkGANYPuEMH4gY9MOiBe18PuMXEZlu+6S8jSeBHP/pR28Xpfe97X3joQx9qu0c94QlPCOz4tHv37rZqv/SlL4VnPvOZtpvUk5/8ZHPEy9bpX//614M74P2jP/qj8K53vSt86EMfCnv37jWwC5nf/va3Az5LCL/8y78c9u3bF9g6fXV11Zz1Pu95zzN5ZaWUUd9P/MRPBOq+VwdNXFoCk5NKsIkYeVVa8kRvExviXULm16QJekIbTyfZEJb6VGmUzsU5AlOnEAmYi5ahTY+ysE/cROXGRWKTh17oWqmrJU2ZDidpaRqZCFJ/scNgJIovKMaTGhF9YikfoIgCJth6UWzUNJuET+m1MS37G5EVlpYesrSwrheLBS0BvHVshy0JPDIzHeob14YHjR+VpYHeLBUamiHKJbteija0hLARblzbE/bVt4dDK6LVzH6uriWES9rifnlMvq+SDyx9XTcfWABWqMMXa15guOakCWpT7q6cF1W1cnjI90Ps1UBRSzbyyXN5JMp4SreUk1eGLjdByZNJPLNTW0qZP6h4tS1VuZTroE8K1apUzTSESabRezz1Y5Owf+yHPY7012BAcU/1wKXn7g/DU+Ph0NJUODA7G5aOjIchgRP85nmxnrplRC/hICm6L3mO6VgVaEXghRcLGMp4UcdCa+PYVLjmvy4J1wxdYjSUYTwC2MVLN/wyGBW96lBcj7GwLoJczn2c6uLsceQDgJFe03espXMaYfrsubBn25wej7LiEgg/oQ0uRvRsBNy/ZW5H2L9/R/js9VeYNYzJUZt4uadelztGe/y7GM9dDvsRRhq35gH0Id/aTLsTDbJMJnKlGxYyM98ZkzXb3nDj0F7L054YBpSsChwkQBd1iP3Ijx6gxWSrfguJJv+2lUYXG0v0XMfyx8aJpIe1RzSco3I6pzLTlaQ9y4ulYlaHgCjrE6x7NeZwsRTwieXnVS0rxQE+oBX6cObesOshItPRqPUHmRzIRF/FCQ4ytdDGovzXr0vOIKI2oL/xIZf+1kHwa+Dti7lNWtIySjZwCnDHgmTRTgcgY2b8C9BFsDKR286EStMOLKOiBVb8IAWYmIExaHV/mjN11YeuBujKKor+BIwEzBpd1G9kXhuzLMcGNLRG13y5CZQCiLUgXgez0MOuCZ1AcSqz3QqTdRXxkSXJ1FFraNMCyWmMC3Q0i6wok3aMY9WVECP8Z5n+agNgL2CX7ZhobYy6rWlufSJhK2PJVt9HTkSfHwbPvRrAGvqnXWFoLL6oderc9fM65bbm1XekX3Brdk49/9delOPdIkNPSj+YbgTKn7lNv8o+4ehF8UHXi6xxg48QnamG92p/0j5h7vz++h6++oI+UjRQ/lL/Nm389sN7ytkhc8x+Ye4+etr0CW/+wpP7UMgH4Dn92z15dRoZu0iznS+6lHn29M0+cnpO+7lxIC5ZaS9p5pz32H3NRJfYndt63w/f/e45XTib2Y987HeaiS6xcfv80aUwZX/l9v73zBt/7a97CnnTH/xKz3IK12WW3Suc6La1vWTe1bK3ve1t4bnPfW7e7Qkg69Of/nT44Ac/GF75yle2icdK6md+5mfCy1/+cit7wxveYCDUu9/97gAv1ldsoc7uUk996lON5q//+q9tN6pPfOITtpPUd77zHduh6qtf/aptuw4RVl9Ycf3Jn/xJOPvss42PP8i59NJLw+Mf//h7H4DF7aSj04TQJnSUl4+ODrdfyWuTRDq15CFN6MBreaI1Gc7TiQ5+yilLR1kvxXkC6nLI7BcqtFWZxl6hKUXmOnNmK3ELQFYWVdtYlmVZzYjVI+XshYNs6HXE/ESnylrEusx0BtjakPn/msAr/KvDv6i3ogOj283R+5DK/2Pi3PCvs/cNp2nZx5ieeyzNGdFMn3NN52WZNOC8/dDCVFheEmAlBdZX9eonB77s0MXLjSmhs94BLW59ykuP0hZP6tqpVFjxXE5+Szo1IhNQHvPKrFJ0jpd1eGYS19JhFbpecp3dOtFlVvhbZDtNkzHmVNNO102W0/sZOh2lrvmeSDT+olbVp+Sxaos67aXRdRmcBz3Qpwe+/b2zzQILMGSI3VB36M1YN1hjRRs7HJPfI1suJiG6Jw1kAohiLqO0gT2AOXouEbfnRHpeRKBFeYnf70temBvbogznwZIHUAuwIQf/nZCRfitGT9V6Ho0cr4X5oZlw/ZEp7fCnl3NtbjGM/jrzYlxflO5HR7WEK1p+mdz0O7Hfj+IAMLY8UC/4BLe82VAbAZNog73zJz7qpw9YJuYWMKb3ogAdwBqek+hN3+jkZ/L4bfuYghwDrHS2AA/BzzEV+5dshOmQeC6TopHQnxfVs0g6hg30S0sgHdBBNvkoSJvRi7C2NhxW1Zer7EYI2KjXJq4hfW9gouI2vRa/61c+r+KyRAlCd4K3jTN5BR/FFpzGk6ZXkp/yWk6ipy9NtvOWsktiL4ecfnC9lPb+c3LuC9cfOrNssvYqAZ9kmeWWnKMDTllwOsp1aDGmgUIGfHJ/Wr/F34lZuUEWL6bVZTooz/vSZJK2jvJUOlNHCgBRaxP6rZ7WfCeNy0HRW/eqQLljF+n3ddnx8MjzbgjTIyvhG4fODbddvzvMfm9E/rE2ZOk4FObvsx52X3QoXLxrv80b6vP1cNU/ey2Dc9kDzZ4ucwfxQQ8MemDQA4Me2HwPMOr5yLcZrkR7/Li24SnC+Ph44ChDvV4PX/va18KrXvWqnM1W5z/1Uz8VrrrqqpxXRsh/6UtfWmbZ1uWAU4QbbrjBliIiw8P27dvNugtetkLnvGPHjgxeQQc9dX/lK18JP/dzP2esn//85wPLFb/xjW+Ej3/84y6u7fy5z30usJ06wBjhfve7X3jJS15iMtuIT6EMm4QxwesQyslZLi4mcORVb53qxMn4Kjw2ecsCFanefmli1VZ/MeHK7C5bZS30Kb96W7fQuBCX24XH5n5O4zx+9vpJl3Ev73V2mSWfxynz8ixahV6OXMWr7SO7LWQevtCKRxNhk2P8yiAPJqVX9VK5b3Qq3J5eLlvqgwZWXiblnNX8fyhtmDqTeb+PTJjS6QwbiramLTdVHOMt5am4/ZQbE4u8Dj+TW5J00qVdaNcc+rebXmXfZ5pSj6ouSleLrT+LzFKmsRdlpiTpap4VNP9kXZpZ7bGyj7y0zCvjXt7vjPLVBvTi2QptLzmnUNmP6jiy66taFjiuZcTys7O8W0sGd62FoXG9rS8Nh4k7a2H2Zm0acYi3d1nl7BgOS6dHnzw8j2TsqY/csoS6ZTEML9TDxuiwrKPkBH5m1F6cATxGF7Rz6vGVUJuXaZLC6hnaEfUCWX3u0XJFfcdn6RUyZm+UjIOalyQrkXxraNxf3ntaOPhj42HuYgmcTSiXA+66Fzf0XAvzY2FDYNWGgDBAt+2HtczwZu2qeOOxMLSwbCCE1sIJjNHBeWQkbGybVnunTF/qG16Rf6L5VVkbSVfRbcgybWX3VFgSOIDVGYANy7nGD8vS69iKZAosk18o2r2OfyghVCu7RsOx+4yExbNl+bpdfSkgcOrm4bDzOnTRh/o1PWzNAkj08CjYzylZ4OQPHQBN/JYBSHhGi294SU6461JCljZBdQ/V1Rc6NmjTdvXrA3aHQ5frGp2nfB7u5TNHwkYPjYQdmgbt+ubxMLzvYKyb/k7WSUPTk+HgT54T1q5YCr93xT+GB03cGg5rbea19TPDDSu7tSRUjvCFch3VzrbH5YNxScvPpYVujdYH25pujmVZ7S2vyu+SlqnbxxLVjy+taKGD+mqfyjzt4B4PbZpNPr62NvSRJXlP180iSyHdmyPajZedeUdHdN9MrIQdE0v20WZNumFVPL8yrvpZ+lgLS3MToXZoNIweE5CprsOf2+p29d+2tTAsq2ZCtI5ObVC9q4Cfx7WkVsAkfY81E9dybPuK5smrJndlRff4kqAM9BNrHlv5GGRS9Yfr5l3DWbLNz5jijOVr2kChMduQDzrdJ0qzWcvY2FqYsN2Gdf+Jvq52sNTf+lF9VtdGBA0t9+W+ot4NmRCOzKyGqSnpJr7FlbGwcGgqjB5kSXDUBB3WrpsN/3bDj5lCBr6Or4e5y+oG/G6on8JKLRy45vRwaPUM0359WSZ2JxKk86bHEmhPwTAAsE7BizZQedADgx44uXqAuUd1vtdLQ6c977zzWsjwSfX617++Je/gwYMaqBtmHVUWnHnmmeGaa64ps3L8jjvu6EhPPsHPyCgDaS/jXF2eOKLJ5q5duzLNoUOHbAv1v/mbvwnbtulzbpfw3ve+N7z4xS8OP//zP29nyL785S+bNReg1m/+5m924Tz5syOg8YPTk7lEOZ2wuUWZQVW63/KEjGS1XHllubFA04GOMgv9yhNZS13SI/OmaK6jUhfvOYSOesWi3voZsxO2n7NeXkHOSLTKt6yKXllfkXEtSVuzEl3MSw2ljPkqOxcSB8girslrjfUpypuYrIfTZhbD7qk5W1LolldoMSwdlpIF1oH56WyB1cACSxPhISbhEmPXlw4jrmBN8kl4yoslzb+iNr6ofOJBbVTl7KHaL8pvLVdGwdPSJ1mGRyq8zeyWWFl9S0GR8GdikdUeTYJcX2+KnzODdUZMtZVloiJStNdzq3xeZ8fyor5czr20xXCi48gWqzllyX+Ux5G5Ry+GIb3Urx2Vn7xbBXBcM6KlTlqqvCKg5tBiGD0wH4bmtfZJQNLU1IRe5CdDQzuYAbSwZGmorkPn9TG91uneq9XlkF27242kRRVYgxA2JsQjGSunj0Wn7Bdqw4nZlbB0VP63NL6Pzk+EyRUBL/nZk/hUz/ByI2y7CblacqXVKyNLG2HycCNM7l8Ow8fjizayDewRPbrFJWuSofo3Jsbj44nfhsos6KYfWpXMO46FsVUhGwobY9JxUtap06I34GgjjB1eDmNyFO/yAJIyCCaeGuCPP0R0HrutFma+rYq03Js+szLJH6IOgCYCOgyrTOW+dMwsolwObRgVwKbDQS50DSsCHKyPeCindgzr+a3+C5K/7T/3h9lvK45sL481Rj1U/5BkbCwuC/SKbdYkTyqqDQLEZKpry+BYTi5YRV0n4EaDy7JM0hbXx8K81sOtyYRucW3MwCsDsETDlcI3IweBLnHgijKAGNvhVubDgFYEQKNhAVAAUQYgJTorTH82ZF2EavB7cFoAsGWBSEvLo2H/evc5IFaF66etCnyVDJShawQUDWE1iO5q9rpAIQAcQCgCXbcxpk0MJlRIEBhYm9A1lM60w7LQfVrlyEjHupaobrDcnoDO1OcTEMvjTwqQSYfaaLMP6PclWUcvLcaPydZ2G49jP2RWwMnRCOQihnF87thk0M/OwpB2MF7dUw+RgvaqHg4zrZZKWNUJBAOkw7LO5pKSua724vCesJ7AvZja/N94vTZHD+2pGHS3DMKgBwY9MOiBQQ/cpR5gANjKIJBob7nllhbgp2p9dZd0uhuYWdb4S7/0S+Enf/Ine9b2pje9yayvXvCCF2S6F73oRQHH8ZQ5gPXGN77RliNmolMtkuZMABltwe8PP7cRNDOYc3WU4SQqNxrSqa6cJkt12KTE64Ke+V6ihY37tfpSbtmJplNZWU4805T1wO8HRAQvJxrnnZa9lT9l+zrySZlMY22ggarP4onD4+lcqJV1ztZVYrEJJfoCVBEUN/BKk1DL42utwKsxfQ0e0UQavy87p5bChbOHwt7Jg3KCvKJdv9nda82cFuO8+GhjKlw/dqbeUXaHg0PT9nKyqi/kdclcT19zmWxv2ISZPk6TZr2NmA+spIr1PXFvoMVJx6YYWZGH+hY6zFaNNpdTp8S4XM+vnP3aV3kzWUuBculz73+IvNzP3cqhTcHb3KJaKRM6l+fnajk0HfJMpvNA4yHRttTpZeW5yltNl7Td4vBshW8rtN3qPIXyNzuOnEJNyqrufYcspOTcZ2h1KQwtyfJIAAeghr3FA4wAxIzLugkLIf2Gh2VJVVvUq3H5PE3v+QgF8hCaot+ynosCgdYFXK1t00528svDvTwy3wjnfLEeap8VjYFb8xEsArSRJZgNIOQLsMHCCTkjRxbDLIdVICEAMVgfLa9E6yOhEOnnYvxDkjU0ORnWZZW0LoswrKMA1oaPqY3H5sKGrEuG5O9r/oqzw50PHgkre5XWc3D41omw61sbYee3jobhw4IDQDJoN2cOhQ36w8Ely5CugD9YRfGM02FgFX1JmuD8AEsEEB7ArA2BIqQBupApAM36Gz4BUjWAQ6NLcqjHAzwcDlbBo+tmdRPnEL1ZZ8n/oYcN6q4G0180lMX/Nj5ABpBFiFZUsgRq9rS6JsqijADA0+n5TT7WRRweAKAc1PKxpBuv8xhQRMIfipILKDMiEMjrRq75c0x01vUCdLT/QA7QclhQ8/Bxvw4NYx9l3AsaV/E3Cd2agLc1gVwrx2Qy6E1QmYFhaYw24AoADBkETpRBR7xeC6OHZdV4UJZw8zGvvk0Wezslf1bXSXQ10QwvC0Rc0v0rYEmYoVmLbexYDWNTEY5aXdZ9sjAiGiktMQ2BaKM7l8MZO+bDzGg9lNZva3Iwx7XBagu+hqyz7DkPIDe9GoZlicaSW7sWsvTCP0EG4ABqTyRIp02PJdCegmEAYJ2CF22g8qAHBj1wcvWADeg+mG9CNZ8gYLXUy3IJUaeffroG8GE5Qt3fIpn0nj17WvI8QX4veueD5qyzznI247niiissDc2dd96Zy4is6WshOxM6P8sHP/WpT5lPLMr5griuSRiWWu9///vDr/3ar5Ftuxzik6sMv/3bvx2OHDkSDhw4EIjD+xd/8RfBl1XiZP6UCEyK0lwp69trQlClzUxFZBM0nW43nwsiqS9QpDpMhtdV0dnKyjyncz6rJOnciQ4dCh5DRRJ5v1Pmg7CUUWFsoStpU9zUKviNvuyksi3ENReNwFSsyMCqYvJryws0wa7J0QpfrHkRmBJ4xTbn06Mrcl68Fi6ZuTP85Mw14UFjc2FbTVYNmkVqaqoXkdhJh9fr4eqxg2FcDj6+N3KGnLgPh/nkxH15VJYHTPylKBPYdSayKA1r+qrsPrJMWvOPTdh9OatVJT5rqmiMLDapkkjdWxJk+pjpMlqFSFjBY/3q8tO57GbLqhD5ZcnXF5FkOmOhfxLZvJ88g3PSA7bIXxZuIp4V6UEr2bkfnKzKp3TZRCz1thpOdBzZaj2nKj2721bHEdry0z/90+EVr3jFqdos0/va50xnH1jamtT8YPG8WZ8f1dK3EVk+rYfJgwJaBCrVtMRueFlxlrHxfutL4eSMmnvQfAXpxdeshTQe81zA6APwaASLJgUDraABJAMwAYCR9dY6fnxYNqdjfUzLvyTTfQWZg2ktRbQldLxYuyw9cIbM+RS6SA4WTQVIVFtYCrU5rVFUMIummcmwdvpZBqZhPTa5bzHs/VtZoAEU8fACqMNaS6Bb44wdpuPQksA9wCgsloSGDFGeLKNsuR9AG4DasoA/ZICYAEZNCyxwXUyD4o+DXdZH4iEQFyBnfUIa4AyAClDLgz1gU0L0gFsbcvUQAUdZEFEfoKPXK2unIc3hcsDaCkCMttD/CmZ95XIBAqUOY8GqvPOv6GHCkkGOCGAJdNKFxgoLoGRV8smP1ld88IgHcm0sMfnpuqfnKylaDMjIWGbjTC4jrUIP3FQKJpczYxTWwlg5USY+olq1Z3FozR8aYyd5hNSe/JBUWQ0AR+cMYhkh93CsnDFwtT4mDDUJIRtgKhYn2eJHRgLlNhjEufYE0Q3h100fhvCnZf7fVIx/sYVzAauUp8uHpeLkAQFa39N1Unplp3awPEfl5y/ZkkDrV1mYrQl8qh8ReEZAR4FdLD2kjVhbUe2SnO5Dz5LDJQFVK0sa0wWIAbKNyHpsx86FsE3LLWkzfjDnDup3f/uELbkFwKvpNmuMqz1Yd1HNcnHfWM7m/pT3QD8Ou/b9iE7C8gGAdRJelIFKgx4Y9MAp2AM+qP6AVR8bGwsPfvCDA74/2EmQAEhEurRoKqt9+MMfbuX4mPLAToLkE/bu3WsgFDIcsAI4wrfV85//fKOBlhcG/G9RPwHAirrZCZGAnyyWN3r45Cc/Gd7ylreYI/dzzjnHs8NTnvKU8A//8A/ZqTwFf//3fx927twZrrzyynDZZZcZLcCXxzPzyR5hrqQjzfGituSVwdOd7pFqntP6uZRTxMv60nwvz+ucrKSJb+Be0v9svK6Dnyu6VpImNANnztO/qlaKxGeyXYbOUZ9ONSZ25yt48uRZJGZZpQminWGBjgm28qxvUpqvvjYhVhqgakwm/GMjemkTLWe+rs6OLRtYNandtrC0euDUTeG8Ee06qM+1e0d9Y4y4BiBOP5kpU6l2E9POhOdqXc99R/93+F9TF9uSkIOrs+G25R3hwPKMbZcOqLWgiTu+S/g6zgSTr8/rfMktJvNmpeUXWRNvS/sEP3UVFlz5xiBP5Xa/lF1ZxNvLCvqSzlrT/Y+RFvTlGxF1lEUtUnKBXqJSn+VyynT4/Z7zY3Yz6YyJ0JIuK8lvk+E8SUpLOV2Y9WpW49fUcjqVF6Sbjv6g5Gy6wlOHsNM4gvaMO+y2eyqH6LunFkbmhsLUHSNher/AJu1oBtA0LEulYVlbDa3qR+6BZ5l8PvHWjL+r5dNGw8p2lvbpvVr4y+QR7QZ4oB6G55IPHX+pTyIM9DFrrPgauI7/KIFXa5M6azc2XvZHFpEh8GkRcCYxuiUUevCjAOwS4GRbHCawx/xRmWWSaMSGBZfREhcPy+9GFle0Iizd7AkgWt+9M7YOGrUbAG5I1lEWAMUmWdKlw8rVNwLGho4nvSByecagP9RrAJ3ACC1JXDp3Nhy/QD6h5Cyb3+74Ibmsumk1TN40F4a0nC/zu3UU8gDq1oV+KA7IBOCjLxfW714N12BIHx8CB8H41uQ3KrbPeOCjnX4dWDOnw4CrpCfLCbHMGpZVGxs+sQvtoraGXNgYDQs6r8hp0pLMgVaEwABcMU6sakzgiNUKrFE1kqpq0FdpFQB2OUjkYAWaEcfqx8aWtKSw/aErQsmSWAucGR9r8oFVykQWzbYHu4iMBj7Rks+SRRuamC6KlsB4hWVZlm1WXCwRtGJdOvTTddfZ5DP2sdRegBBAE3MNq1LjtPOYbMY40DTqSSBTQ2e3mq4JbHLLLmqinoWiHmsXOoh/YUHgEvrrWlhlyKFS8Zge4Fdk6Z6oa8lvfVT3J/MKGitLMPtdozdZR0fC8fWJcDy1f13LI4N8YDXOrGsXQl018eTNXNIySjOkRMkTCRL/oxwGANaP8tUdtG3QA4MeuFt6IA7ejHibC9BvJeCQ/dnPfrY5VH/IQx5iOwguLCzkXQmf9axnBQCjN7/5zSYWf1OPfvSjw1vf+tbwpCc9KXzkIx8JV199tVlFQcCECnDrjVqyd8kll4S9e/eG17zmNbazoINkOFnnazfLBNm5cFXb+QKY4eDddyCEpgzUgZP3yy+/vMwO97///cMf/MEfhC984QsZRIP33/7t38LFF18crr/++nDGGWdoorBh7WxhPskTXMoM2qArkwafOPhl9nSntjiNnzvRFHn51mHWlELO84xNnLvxFGKjlFKvMt6vDtQr6ct44s0toKxDuVfRpqtoLa/gsWvgyns+s3cF+6JLHgeTSwJnlTPBthmoytw/BXlMYke1JGJyTI5Z5eeC9KS25zp9Yj6cMaZlAtpFaEZ7mD9ADnYfOn4k7BxOTiui9L5/F/VlPX5Nj1/PTSXVMaxJfE2N4YzPLAA3JtAso9AMF8Ut7feYZcHMDJ72EThzwMIfirwTkakMJ4W8DKKulBX0BRN0XYPUNNKSiIzET3tMrbK8jCPYadO5yIK1d1Abq4EXnhxSX0Dm3WL3QCZAvaJi8ivJKj2CrNr2qgupvaM/7HGkd+0nf2mncQRfiv/+7/8eXvayl4V3vetduREsUT+VwmnfEHgl4AjQavyIHFUfk8URFlb8WPg9cbYfjlql37oBUDzfFMcaa+yY7j8BG757XUOyFs7Wy/TQhIFBo1oyOH5Yyw6PL0meBGoJHgCYg2D4z+Klf1gIiG0uAXAmSy+z4iqXz/GD4VmjgIXU6s7JUN8hQEWWWlh+4RdrdF6AP8sbFRqzopnV0qlpPef0xokV18RhLamWT6uanLpbAHUhePv8t+ppyqDRDrAEALK12YlQ3y6rmCk9D1U0Oo+vMAF9RxakcxP0Mgb9oR20f5u6cepAHBhGFuhrWcM4Pe2iTtfH9QCwUn7SMoosdUv94XXRvxGYkiwFewbTr4nHyognoKy2a2eYe7CWUV4pC58LtOxcH01O33kwPPmMm8Mufew4KodILD0/1pDDdvlQXG6ovwGvdABO8dxoYm4x7bowxpgO6VyNk8YKym4yaBgfdDbNSx4IK6GcxzI+Rjl0VeSP4FOTiW7CUsmCaMxXlVkZp1tKJkg29ury0D3+QcbOKMShcXBjEn9hitM0dKc+ACaySE8IVZI/OQu0gSiAEkFn2/VX9Gs8sNFJZ7N+YoyNVytaQBvwlPhUwsctW4oIlcqw0DbdlLYAezRDM7nI3pDDexy859AUl2hUjixdSzdjYwkjSxctmLzMvemIXQPavolQXsdNkJ80JAMA66S5FANFBj0w6IFTtgfiuLd59aHfQnjGM55hS+1e+9rXmgN1rKY+85nPZEftN998swFHLvIRj3hE+PCHP2z+pF796lcbSMUOhCWwxLI9QLDnPe95Zmn1qEc9ymROTCQTaQn727/9WwOtHv/4x5v8pz3taS0vCV5fv/MHPvABs7b69re/HTg8sHwRKy+AtlF9vUSfUy3wYmym6ShenS9s8jrbPCPRMqfqFHwukquoTppLJsmoyjH+zNyuamZ3PZzWz5mgcyTrp4pzXS6raFMukxgTrT9lXpZe8DRVaMZa+hoZMNoMOUqIMpVrLJogcvZD0Vwe571W1tDklzmrg1wrmqAusCU85vxqF34+bh7bqV2G5PhYX0zH9OX3K1N7w+emD4Wzxo7ZssBLx28PDx/X0gNZWnlY1LLB6/Ul/0BjOsytT4bvLp8V/mv+rLB/cZt9RWenqPnlcfORwYTYgC0m9kzKmfuirJ9Tv9hSQu69NDG3601ZVDVWbekErJCTePNZWTTXgpd52s+lPPKczs/kpX61PiVJGbqVNNB1Cs6kstwG6CSTIl4uclBGC00uOPFIU3zuic7CCjUiQTt9U9Ym216tiTra6qkSFemt0BZsp2q02zjCbrmUeeADzakGYJ3+xVvlQw/rjcp9pbaYvydAFF+S5g3lrDd5LKTG5+thYl+8Ida2TWiJ1ESYP0cWIfKrzfKpSe1kiFXPODv78fbPsxKLICybWIKoNPdvTc+puDuqEqIDLNJ2bPH3jDWTwB6W6mGRtTEuYErg1Nw5Al62S6SyJw5thBnpwTJHAJvVGZWfK4fje2RtMyFwSw7gZ26thW0CyEbNwirqTF1D0s8C+hEclaFP0NN0llry0bWyS07oJZflXjwnxo8Mh21qx5SWSWoLuMjPX5clnYcPzYepg+5iO5KY03andlpPUy/IBvWWwen8jHUafZPSJXjVytbeLgPWdV1t2abGG5bC4Q+JjxeEuHRQ/awPHgBWHL50MH4AaepWghYOXCEDCn+OJg2kapPPaJTU1dYf9ScZnDOxFZLbMVgX8eEF3TWGui+nhqyIbGc9cRmwpPKhdH+bbKqjDupK41sGq6gJHa2chIIuRbm81trLgM1YCdDDf1mGjU3Kqk5L+2lzXWPrCsv/8C/JeEoAMOJsf3Qim74H/BKP6cC4ypFobE4AjbIIAHE13c9xQBIpOmjHULPKot2aM2zIuqo2KTDXNniJAF+5ZHJNywzX5Mh9vS7drP0SLF2MN6m6rt/JCQXYNsu6WboTUuSHx3SvBrB2/+LNYZT10V3C9/9lb5eSZjZO3nqFWx/bXb7zvf1/fMijXc8vX3h21zIvGLn/MY92PZ/5d768oTPJPg1E/cIFX5Y5cZ9w+NL+7T42k36hPWTt+3V9LeoRZqe03W+fcPaf7+hDoV3ZHqYHSJ+wOtP/V66dbnuGnddqkOsTVjfRL/Xp3vcdVRz6wll9atKgL5cDvcL6Wf3b/LV/vn8vEVa2cmH60taDcvv/6dN54v2djaf2kKDB/tKexVbYr0Xr/VXtUAnXo/81aTJuhTZyYf3Ubckglk3V8PSnPz1wdAtM8n//93/fjm407DgIELbZ8JznPCdwVMMNN9xQzWpL40uLr+mnXCguPfOtttug3w1XabDJqOS1JbvdPtSVdOioSymoqpf4WupOE+iSxeMtdJ7p57IPkp7VqpyUc0dZ3oaSkHiSV80mnS2wvE7OTAadh/akPKMnzRDk+VamCaomm3EiqzmtJtxj47JuKJYQzo5pu3ABVCwfnJbT5ftN3x4eNvm9cKFopuTAYnyIZSSt4x9g1q7avHaRWtYXc+0iVtMLZ007b9nSB010peSatt42vRRn2WBDegGo+YTezkzWaZBUt3ZJf7cs8hcCKzNBCezhJVD/LXAWI032kPAvT8Yyo4tZTNh5ucg8SQW/z4yqkOe68VKTX4BcekknOTE0M5sxlSiR67TGJmr4Mm+iccaUX5BHpsrfLNfznd/TnKt5RZ0lWY5X6XPBViKVxvVl7adUXwGnFMFmxpFTqkGlsgbS6Hryg9PhPqQ2prR0bPd0WDxTlkwz+u3qtzi6ICDqmJYYLggk0guu+bzCgorlbvrR1WSRte06+eD7rtJkTY6Gub3TYd/DxsPy2fILpRfx8TuHw/brtYTu+sUwckyTHqyyBPIYOEWcADDDj9jTgGg4TwdM0rk2vxxmvrkQZv5DdO5KIIFiDsRNH5IPr1vGw7p0oE1m6SVwq8YufgBhHtoeFirwPJFZG10P5c/ceiBMX4WMZKoyPi6H8VruxTJDfGN5e7Cuoh0OgqE/B0G6ruPHC50JgHfsMFj42rLlgqnNkSj9RTd7OKYzMpJ+/Cr15Naf1I+wODhHnGey+mvDQS8twTx60XB4wKOvDX98/ifCLvXzful84+qOcPvaznDH6nZZX02F42uTZn3F0sHo7yrpjUwFsyRKDzdKHNDCSovgaVQnTjBn6xoEfFdCFcUgObrbPCXhzShL67FOHgGwEp354wKMEYhjjtslG/lxHE19YN2hfPtCJFka21jKx0ch78a8XFDjHw9/ysfG1vTBiGWFUTPa7ToyTta1A6INi/jkog6BQSscIb1PQGxgFCJTPxhQ1WzPkBy215YF8Op2ohosBRuTAmhZ4qffSh6IAL68HxRviN4D84bRbfUwKn0BqRjbt0/KqfvkfJiVtTbLPm9b2B72HdkWVuakG0q7XikO4DUmR/Bn7zpmfPTt6kI93OKVbOmMoq5sP8bN0vWTc/eW90cr7l59BrUNemDQA4MeOPV6gEGSY7NhK7SblXkK0NXl6JSXkIsuusgcvZcqszQSHyenWmBCkyc1neYBZV6n6+7lnL3cz2VnOJ3nVdPke57z+9l5yrPTprzchpKmQ7ykS3PKFqqOVVbqgqGUk/VukVRJlDIUN35XIJVlmQUtJNX85pJCFTJBTe8Bvq03E29E2JdwTbCZqLOkb1QHjtoBrwzA0sR0x/Bi2CFAaudw749Dt+rl4+a1XWFOy0D2yVzhSH3SnLevaUJelw8TnL4yIeeFgsm/fUGnM+3wBns69U0uL9MFQEV5n+AAWCYreHI3Un0mSBGvW0m/DO1EVaYi3SYwlmVZidSvc87PFzMSxPJCbodo5qWsS70t9yA03nin19nltKgAndMg/64E5GxF1lZo74peJxlvr3HkJFN10+pc89I9suiYCBP7R8KOa9fD9u/MaTmcrIXkvHz8ILuiNcypOgJtJz934q63/8XzZsPh+8mK80K9PM+mt+ri3mB307F9QwKrNsJZXxZNXc+zZfm20nJC/EhtyD3AEACMHJXbDnx4kiZEpCPGVb60d2c4+IDRMH+xfFipnsaR8TB77XA4/VsrYfzWo5EOayIDutJDNeYaqGZRyXSgLRVF0AwwB6CJAKJBSNY6pOOug/owQJ4AIJyic6C7h40lAXEcCkM4Uac9ArTQJy/BpA4Oa5v6IsdTh1k5iFnSgTP1J13MYqvsF/tAIF4H11wZo09AGTSGJBYXxen8rKJlLQ9clGfxUe1WOCdfV4cbM+HA2qz5vprT1/Hja+NhcU2+vNbULj2EGDsciGp2lYCf9KAC7FkTOAIwxLhSDc5LvgNEgC++UyFyGIdWVrRkUccGIJFCY0iWYIhTuXWTeGz5PR9kFKdvIyAmIm8y3ci4im4ckguYtSY/jzZAI4tyVeEbAvDRZnlB7ZX/L2jMOk2gFjv+oif6D2lMxth5AysnVEp6WUJ/kIEl8wZWUfQB+mnMr/GhSmfy1pe09FZn3+XXraeGZ7CeEtCoMvNFiRzAJtqkuu2MTJLK44OThJpu7Dh4fG4q3LR2mnjSb8HbqDawGyPtpa/dco22bnxvOhz7t+lQPyxZErq2ekJf1KNu6LmZsFm6zci6G2kGANbd2NmDqgY9MOiBH9EeYADYyiCwFdofgS5bXFwML3zhC8OHPvQha821114bLrzwQsvDd9crX/lK20nqm9/85qndWq5rnM/Edmz2OjsPZ5fhvF7mPaM0c6dqYE6YQ6Xc6EVQ8hm9Mlr4sgBFIK7wWNsK2Uza2u57yguaUmQZL+stVc80pYwks9S/qriVFe9MLbQuVHKa4JUyk1xk2XuKJrQ+oSQ9qi+/+MCaMAss7ZYlH1injS+EM8ePy//VStg+shguGbsjXJQdt3tF7edlOeIFvMIpL8tCRjTxHhcYNpy+/jeYSEtpLCPtS7ReevQ60C6IHMtWr+mtxXds4jpEh+1M7BMbk3LFPR3BKjIKuUU0V5b4XUzup6LqtuuemXtEyrqS8PI+KDlLFcn3tFpckrXGnag1N/J6RaKxaFVMNe26ck5lJr5K52nRmRVgqruMV9TpnkSWy+tO1SzZCm2T65SNbWYcOVUbd993HxZQjs8q3Uiy+GHp3voOgeJYBc0vhbH9h2VdotUPKjdwBoAGyyClp69ZDtPXKQ4f5fzg5Qh8SIeBNYBKM1NhbfuEHL7jNwr58ncl66OalgFixbVu9YpO9QLW8BvB2fqQluP5zn5T31oM5/9//sNQTyPXdgwcDevTyeKFC+DPYb2nmyN2rJpcF+qBL+kOucVJE7wc/1wsX6Q99AG7ELI7oORszOol/8ozw6EHDIdl+YwCCBi9dTyc9q2NsONbR8LQ0bRMEIsyWVPxTLWHIP3igFVRlxCHWK/nQe8BHpZN1nUmmOWUGiaQCSDNALWadKfPCr4ybs8CLLAM7IJXz2gD7PDlpLFH4JcMcs0Z+7LGhomNhhy3j5nj9nkBV4vyzL+kA4DL/F4BSOlhhOUTIJWJtYcTzYxlqIrGDlJFwCemyaNZBCu3dGoz6lk7uA/ickB7gFKcriv9bRZUfPwpApuMEEy2ikx2Euv+JQFrIo3GOT7YUJ6UMb3UD7oY/LFgoFaqhzjg1YjAJyy3AJXYpbCxqN+C+4qSv6nhKVlNJ0sogCn7MCRabzeAFqCuVS49h5S2sVHtQxUcr48ck0wd4FX2Y6DtYrG2Kxp3KFaEvkjq2jJCGsR/5WONNfb/s/cmUJYlZ33nl/m2fLlnZe3VVV3V6k0ttVYQ2hACNJhtjGewDfLhYGMO3s122MR+gLFZbGNsDMaAjpDnCINm7DNmGZYBsRwJgdRqtZZe1Ht17VWZlZXr23P+v+/euBnv5st8L6ubVlbrxcmb90bEF198Efe+GxH/+31fTEiDTDK3VP/ausb+5bJMfsWI/pGZYXNMz7bMHn1HRoCtM+u29rJN24CvQpvNBf6HX+7tH8UTFv3LDUrXn9OLSjEEsF7U7h5WNuyBYQ+8JHuAyUM6gRiofXuhHYjh/iZ617veZQ899JA7cY+3QX/HO95hP/qjP+oAlvuN2N/N6CkdE59Mi4WJjCYD3N6wXs4X2nbr+0008pMLxX1+GT1yO9UVJjBJvibYsTBppEueHoy6kvKyBH6BiYh3Igmk285BqHAOBPRruOYii6SJ0WKBFKIuRipwFvfMhADp3AeH0yJpylSXxHCkusliRpNHvhS3NbFl8tvQYopdCOtaNBZ1s/kyvV7UblDyS/Jccd5OFi7YseLOGliPNNbtM4077XxjzmraSepyfcqubkzaSr2iBYi2CmcnKX2Jpr5kkq3JffAfwnyfhiGgz/Z1Jvhzp3TyQxBd2vy0QWqhNywhcH9Zimc0oVz+TJk4pN3kSSm/mG9Mml3neGyrMzwzWQFdRETR5RZF3L6t1K6rjC0M0ojz4jonU1fB0MZAE/crhCE/nFO6IKdHQ1no42vigwSXMVQwQIGssQPQvgRIBhlHbtVmLr3uoBVKY9as6n0wrUOvk44cQBfXBVCd37TpZ2pWWpCPSK2wNwXCZKZ+etG1Dk3bymlpdJ7Q+6qqdbY8b4xf2bSJCw13Bi9E3EEgTAWL8AgBtZ30PdqRO5WN4+JxVO+iKQFbsryrSAtk8mLTytqJ0IEotIwAxjDLAzVR4BpZgoZSYJ2d0ZISyNWZRDDVh8mjwBt3Dg+YlA8gCKkpY3B67jIK4OrMTOjdrHekZJ58dk39omuBYfTJaHPVATfKbo4H87HuH6FrT0keD9RD4Ey70vZ4PMlJ/tM/UT8BEmIGmZVLeTB/iecwDmBR1vmndQF+RfX6tep1fmLJzoI1jSk1AViME3z04Jz4wdoCpqiSMQiurtGk9wBnB4yUltYGmQenSa70P+RKNg+qPwWIQnmSAX44PE28izIZDFpO5KP55OeUDXWkj1LSZI2brrXEmKUq3WG7wDbSAh3ve4C1LfmcZfbPx0Ji6XsOTaimNMEawXWP0l2rSnwsQjPataJtsFthaCI8oFFweo2zIFOucUWaZNgc75jEy+gy9wJeSIxormtfpUzR4BLgFPxjQhbk9Gv9Q7uMA08t/hi4maNk1u+a4CAYfZ+yRLuLeYCDcfSbQie01WN7+Eefpf3Wt9SgdH0ZvbgE0S1/cSse1jbsgWEPDHvgpdIDDE5hXjJIm/ZCOwi//U6DA/nf+I3fsDe+8Y2aVKSjtYR+xSteYU8++aSLH6fv9/Z0ycdcJJmPJGc1z+dKIa2LOJurJKlbXZGjUpS8PI9cvKt4HNF1rzlJOofzukJ+V7GQmErjX45jgjR9x5MmXT3Jc4ld1UgosrvSFN9VVgro2FbG6/F/WUdnXRby0mwvy8SVeHowkWXi6hNapXUUb2pzgQ0mqxKIr8hLY1U7X55xv1g4cX9y4pA9MnncbisvWinz5i+eabgs/yWPrR+xp1YOymSwrPVVQVZBckIsx7IAVtxjNzEQYBW+CJMG2OTAaNrIDCilQVHD437y54X8NNCsrmcIvl4+UGzld/GJsv0yqo/4NtqozqyoKo+LZWV60caFsmtdpLRZ2TQv8M2ne7Y3mqvsIi3VfeoqG2QK53xRpXfRi5XLENF5fihP7a5J0F1nv9hwHNm9hwYZR3bnsH9zi+syjcI8Sv54pOApPzx6uPRXrMls+ap861ySj9tlgTSMn671JNM4aU+FVfrYdWlxSMuHcoWmtD9W8JElcEmO0n1yEh4uwJhEZQeVnwyMKSh/DEfvzbI1tbMf7xuXSTw8CHzSG1CLdpmSIUM6iQkmdWhxZfUEgIeCMuNzjSu0lHzs1/se2hSkSpjrf8rP41wHGbnmowIaWhy6Vu3bg5fRezqUgyIGpojTdnghR9SGDLyChhDLQhx5XfY0L62LLA/Kw5zRA3USRLMZrpMUr58REgDSZQPQQl7R0d98yHDQarPl57rAK3wnNdID5+1oXnGolGtfOchD3F9IdFt37zBuhbwgRjiHZiY8QqpEF5KzU5lAlfeZ5SBU7iXp2lOMqS4ffCWb2um8le6PhIAw6IIs8aBBG70MLEK7PJH2ppLQ3c6Xe6pErukd3WtxdaJw64j4bXfQSLkOTCpR8VEBdAB5lHbgjo9JjMnUG+pyBopAxGMkuWl36GO0oV1eZQNGucmlQKsAlFHMy/pFek2aQmgPZpIue6hTYObNBPgFnv3KD0rXj8+LnT8EsF7sHh/WN+yBYQ+89HqAwSYMOIO0bi+0g/Db5zRXr161w4cPb5OSXQdvWeAqbQ1zJo4sMKHaS0gnM2F+1sUr8In5k6YygT6QdD1/yJRlRPJFfOJJXUTadZlfhHudMWOoI55eeIf8nu1KC2xri6fn/uX55uMi7+LTI985BnnJVyd0l9EE1NPTunUdQDwvpnitMCb1fuXrgPaZ8hH7YOlOmfWkjEND4aPgPjP4GiwTh+Bjg351MwWKhGLhuQlxz0uZiCywDfTw3ha2yJOslH9WNhRI6/BokFPnjC7OD2V2O6f0WfkcbdbHsXy71QFdj/zAv4tNHFGxXLRLklDeE2P++ULhXnSV7mbuvGIe8TWkO/HI84zj8MjxibO3Xe+FdlvhWy/hpTyOVBYaMo3SohnTwbKOFMBqVUfl32rMam+tWmtCC20tqisLZlPn2wKc6r5rYEG7EJYuLVl1ZTXRkJqatPbxeVs/UbUGmk8KDoDz3gEwSeOjaEMJn0LTqT5dsJXbZeZ0e8tKszVpjsjM+YJ8XD1VVF0CofQ8bxzUjoKn5JfomICXqnb1uy5/XY+NyHRvzYrPXRMjvU+l/dSZ0qGdCwEIaAsmi7RD+IsVZIpXWpUT8OWmNMVkDqj2NmfkXH6+ZL45kX6L5VWBadek+bUozS+ZMbZnqramtqwdk6/AKb161Y7y0qZ2FJTT66UEYNs4JBNtyb9xRJo07Ha4OGpzj27a3ENLNnL+srdZHWwjAGoAYcgKGAcYWEmBMQA9TCZltuV+wRgkOQI45YCHXvxogaH5pbzmkWlbeIX8U90l8HBeJptr6q8nCnbowZpVHruQmH3S50H7KoBaAHGSB5QhMadMRPTdBmVGGM6ZqWD6EkXzioPQ0TkBUJKy/j972Uo8JeC7ERpERwxAMna/A7QAFHIzPsAWaUaRRnN9IOBMECCUADEavwB09IcG0YjM9Era4AQNqrbKYz7oWsMASMgArdKzMU/xQiPR7OMdpyYmztLFyzWRqNvLck7yioc37FW3n7M3zz1lM/I1+ejGMfvQlTN24eKc7hFAqgoBRjH2Yn6XyusgFq7RGLwBx6DhdgWgDNL04xGyjMikb1TO4JPfguI0QfTISF9k1+wsKB4EdhtEYxuwy3mIJ2M8imnI72V0eztyBO/1Q+ZyqDxnxd0MM/XFxT3NnNijqaW+84Cp480ExExE7V96ULr+nF5UiiGA9aJ297CyYQ8Me+Al2QMM2NHEoW8b90Lbl9n+J/i8z/s8+53f+R33eYW0AbT6lV/5FXvTm960/xtwsxKmc5Cu4rtMFpiPZSFcwyPHJ//4dJVLGThNWs6v4Rf45M+UCfWl5UO8F2/nE+gDrxCP64FXLEPg3esc+PTK65GW74NQT3buUcaTYnnUuIyP0pl0BmAq0PqElTzKcWYSy4TZ45rIa+egQlnaDnzBFb9gekEBXyCwiGMRAGP4q6j7mNEk1kEO+ku0DmpxTfA0zhB7ip+67gVlAl1CslUuxNOzyx6lIXoIWR5tSxPjfE8KGaFQOJPu/ZAkZLxCfq/zTrwCbag8nEO6zs4/X74HXdYQlenqs4jXtuck8O3RnoxHTBPkSXluE2NbQlz5Dtc0cKBOTMvvhXaHKm+l5JfyONJ513WzybJNl2p22/iSnRxbtKnRmi/a//i5u6z++KxAHf3mtTjGTHDpTi1s7xz326c9JKQtNWtFmQ6ihVU7MGo37mnbqXsv21vmz8oJdtkevn7Uzl48YCOLZQci2HGtIG0vufLzd09TwFBD/qTuOXXJ7p25bDeaVfuriVO22p7Wwrsox+/JkzJxEdPE9EVJkh7ZhVfItO+VE/7+bFfkc0jyyV2T58G/KKtFdk4EMGtOjFp9RmDWaQAu0eg3BSCFPJgtAqZRll0XAaX47QF8wXdU4FcFX/FK433ZHFdd0pBFBkwvR1VXWcCVrPBc3tqBEbv2+XNWfFWyE7mDCkIn/Cyea8cFxt1ds/tOXbQjYyv22NJhu/CZQzbzWMHGr4JC6B3Nb576kEOg4vLtAvleWbPX3XHWjldv2GM3jtj1J4/ZxJMlG3tEfatio9KAWz8in1Xzt0flxQBeCtAku0dyvSlQToCVuvD8lVn72eL/4jvYLdWqdn1Nuw6uC2ADXAIQQptHwImPFfBQmvdZADskpL8SROrvN+QGRBJtqDsb30SLz8QSz4HuLf0PDaCN3G3JfDW5dll1X6iHYysAIIm/ymj403Mk/5Hps+T9C3ijYxPNvVSecN7iwZUy03r1mKZ1i5dyRhcm7JFP3G2PNe/2erwdassMbVcZ+GtvFAd2KQsff95kdluQ66ikn2mfnj3aqOcP7UEHz6gAuTjx/Hn7xEAheT40bjtNQt8u61nDl7zqJPg9UDnO8Kkd1LOt3dbvP3nBTk0s2meWD9tjj56wAw8VbOosRPp9CSSuzQn0lIkudSCfP/dp33NvaFPoe8q0ZTJ5U4HO9g4foPSgdAOwejFJbrJnXkwRh3UNe2DYA8Me2N89wGDKMWjYC+2gPPcz3b/6V//KvuIrvsIefvhhff1r2c/93M/59Yc+9CH70z/9Uxe9EL5y7ueG9JDNJztMxAk8A+mkyOM9/sXZ2bwhTcziu/GJGaT8s3I96suSKBeXpY74mY3zKJTGwVCyENPE1xDk41mh5GJXGUPZcM6V7RXt4tfjB+X5Mb/0OitHXEfWPK65j3yl5UwcGr64Ku5fe0mXw9UCTlf1qbUgEKpaafh22VNlzd4V2BkKR7t86ebrea2l3cE2KlbfkKNjvvryxVaLChYk4es0QoRFiTNROZ+sk+4J+qfr+F6w0GOX9nzTQ/uy9JCQ8iFdf1shRMJZObkikRBbxeKrrK44cafrrEE9CCIZeuQmSb3K59NCXPyytgTeIS+cQ3o496gYHt7GUEY0Gd+Uvl+8B9ttSdSxl77cC+22ym7BhEHGkVuwWS7ylxx+zApyhP6hhTvstz76Wu3uV5T/KoE5Y/JxNafn7UDH1s4kC2HX9JA2i2t1Rg1OHmE0XQQynS3Y6ieO2Qc3jibPlPXnZxMAAEAASURBVDKPQqADTRCAmPZrV+xv3vWQvWL8vH16/YT9zrMy6f/IKTt/7XZ/BzZntCifb1v7TEPvuo5NT9Ts9plFu3vyijawEFqWC9fkuOtPL95pC4/Nu38qNFpY8GvTVavPs2hPf0CJoJlcvPsCgMUPKwAPAA7+bkzldroIRGkJ1DKBCiGUpLlVkhJaHHiXA275b4t6BPBpE1nnO/Pkpk09W7Ero6ftSiqacAjPbKnfefEBMIV3MTmT5zsC8Mp2buROO0eCwhGVGeFl7Gcl6Oyye67+iZW4+Nnf25KJtoQXustGcQFV9bb8JknousaNpnayc2fjAFQ6RuvajbIumbxsUo+bmrvMimtsQQMIbTl40nYOH7+oE/m8D7imfUkAqHGwJiTo7IAW/ZRe+/2hXgXnqzIAQbCRqy6BLgJmYjeQ1IVcHJyoQ88CZ4KDN4BGAbxRGnzRWALA8SAGrpWlehn7YuCJegP/8jJCpDwBc2sJYOV16BlycEqgYtL3+j3pudnU/c3qgTd9hWy6pi0tuVEDNPW0tKu8L5XPrfS2AJpRdZo/crliD63ebg8VT0pzsCBNSf3GBHytH6HhyTNR0W967DpMEv4NgVnu704kWUj5EWevgJsJfq+TavoW937sS7X/COIu23/SDSUa9sCwB4Y9cCv0AAPFgIOFN2cvtLdC+/vI+Na3vtU+/vGP20/+5E/a/fffb3/wB39gr3vd6+wv/uIvPE7xBx98sA+XfZrNZIODexpNPFzafDwl87zwr9ezwKRzkBDK9qhnt+I+4aKOuFzgFc6BQaDJn0N+j3OY0PXI8qR4wpTRRomeFurbkcnWxDFhqv9pmawJgUdIB4wK15zTI6lPeUzIUe8PdDqPZCr+ytZuQpPjNZut1nxHwjGthPgKf1f1ih0vXZeP4o4ta9cotj9n9yic715vjtsza/N2aXXKfV+hjdWUeU5bhwNaVO6LF84IJLE4+0IkWXh5IqKTpnMST/OIp2lJ6STuSem/qGuTNVNKnzDq/p/RZjdG9fagj7KT+vM0mTAR/zwNWXGayvSqK+LQ87JLlpiilwxpflZPoAnnUD4nVxwNJNvOMVGe3zbiHgmUj3n0IOlK2gttWvA//af/ZD/zMz9jly5dsle/+tX2H//jf7Q3vOENXWzjyPvf/377oR/6IXvmmWfsrrvusp/6qZ+yr/zKr8xIcET9Iz/yI/bLv/zLtrS0ZG95y1vsF3/xF502EJ0+fdqeffbZEPXzv/7X/9o37+hK7BMZZBzpw2LfZv/6+7/ECmNjvmAuaxFfO6ydyI5okTvZtonjK/a2Y8/ZvROXtJPpmP3lwml74pkjVrpcEgCghbjo2zKb62hHM95dLYEdzUmBINJAGnUfPCzqpQW1Imfc4E56bsYvi/6PJu3//bO32u+m4w2/iUneMWkoreghPscyUYcu12cm7WNH5+yhg7dZZaxpG2vSONKivXpp1MrLAA8C7A/q1XW8ac03yqxQ78sx7eQ6W92wmfKG77z6zI0DduXJeZv+jLScrqgy8XXtlqD1g/0WYIKqbIkf+bz3AMMAn3gvtgRIrZzp2OGXX7W3HX1Sr+2O98lTnzlqk08XBWIBfIhe4AhHMJt0k0ZpUQXgIgFz0AxTE/kgIG2hIAvARcIjAQSDfzGAv8b96/a2O56w26rX7aGl2+yhR0/Z9CMlbw/vIo62TCd9fBFrB8FUh7dDmcSRBU0trtHsou83pV21XKvIwlFgZU2+yOSMHCBE29Em2lYOWqpNAFoElfGQnv2dpuvwbqN9fpCfowlxyqfcnBVl43LeHp4PHfom44E+pY+Tvk3S4AdAREDLiT5Gk4s+pQL4cOkgkGiowzWjuD+6Jp0yHQE+DqZRjPuuvMAbXq6hxCOp/MAX3gGkQyaeEe4X5QnwBoyiAGluxiqfc16v2lSblWbUwRFpSAFYoUkmzTRtZMnvBbDTZRMdz2QsP8AYPOJ+H8ETvIgc0JNWHZqNqzOqV3RSqrTJC22rXJPpr8xVO+y0qeekLRNWngeeudYYcTQLkVdyC4y+qUCxQYsOSndTgvz1FeIx+JwN5373dn1JjbZ+zfXEya86m0vZHm3kYescSdnfjLnEXPTb/ugbcinbo4Xx/k/YxP83vb1gLuXCF6e/6Fx6iB6cy32+CBnR+el39q/n7S//ZFSi9+WnfumVvTOi1FEtBHYLy2f0dugTbrypf9+VbiQvi91YMWj1C1N/LH3WXcLZ/7W/LKPbP2xt43jkw/35jFzeVmxbwvqR3ds9di/62ruH8m8n6tm7UXWK0WeyHQjrB3bIiJJHPqpPebsErSv7hrXju/edf3HpyyVH4KP87n3ZVcJH3K6Ul3zkZS97mS9yXmoNZUKTPTM8WunjFSaR+fZ23fqdHple6eGxjfLgtVM9cb1ZnbsQb9FEJVVnXCSjCSRBlnAO6dE5KxPTxNcxbbhWvk8U48pDHmfy4aG+D2GrnnADknzXnIIIWoCpAE6pPA5TcdzqigGqiwVXSaaAJTlnxxywqsXXdKVm0+WalTVbnS1t2H3jF+y+sfM2rxf1jMb327btPsgYek1+fzu2sdmwC/J98pGpU/YxfZm92piUhlbBlptjhokIX9m1fnFtrYa+tuObhIb512YtUoJfEn+mHNSi4TRGQefgMyTEKeuT9kDjGVv/vDvjPOhDPDrTtVsVbZXPrjSNiHmFvg/nOM/LpLyzujJGWxeh7FZKWgcJZO5UuFfBiElWLLQvaVzACrfYhvyo7PO5DAudPfGgLX3a08VvL7QqyEYa3/md32n/+T//Z/uCL/gC+/f//t/b3/gbf8Mee+yxnj4K0ZB95zvfaYBNX/3VX23ve9/77G/9rb9lH/vYx+yVr0zmbz/90z9t/+E//Af7tV/7NTtz5oyDXfBE23ZMgEwIP/ZjP2bf8i3fEqI2NdV/7pYRRxcv1XGE3y0Hfq4ah1o2cXDdJsfq1tA7YU0anH/yyN32J817/f1VmmzYiROLdvTuZfeHdHZ5zi5fnLXSlZL8SiWLZRbXmIYFAIAuBAAIWjL+6PC4Re9Q3qsphu497r+d8FtXCmZYY1cFvq/It1ahau5vWvW0ZMnoAAG/Lf2OKpekbXpFzscV5ZBP+izwzhL25XKsyC8WwcdQynIQxCMGBxhfAS7amH9Bo2Jot1z/yGH7H6XEtyagw6Sm6EExDJ6YfLnZ14gABV0z9yvevmp3HFrwfntm8YCtn5u06kX5+2LuqHrDfeAaeTBRo99CPyFX5aFx+/AnXyUCiSJgYkZlMaFD0ytJVBku0yhtdgAOMEahMT1qq7cJuLqtZpOT8reltLbuc0kausurVXcE3qnJL9Nq0Qoyh+MeAlqNqN+oL7zju2SFSRrCO8/pdP+CJptnS6ZYtlAmO4c+gF96eJ1eL5mUT/rD7xugDmkMXd5PyAsIpGdFfsoKjY7nA9IBDgJSQQ9PgCQO5PT7JdAmAb0SmoRnylcVFza0K+Z1bWogf3GjGy2BXfKJNqvdgGflZy3te+8r3SMPqie0wUFE2qPg/ZPKTLyyLF9qbPAJiEQZEbC0J0574VkU2Jj1vUhCH/oZJvDT0VEfeFBdZQFgALvhfpDvYNlcYvrbBWymoKYDdOoH71v4qW9uKlBZJlwfDoPS9WHzYmd/TgNYL3ZnD+sb9sCwB16iPZAO9AO3Lh1IB6a/xQkxD7x48eK2RdLCwoKntbXIv3btmr373e92rSy0AwhHjx61N7/5zfYP/sE/sEOHDu3PXuBexpOMMH9Jz7sK3YsmPEucQz7ncB0xjCdGUbJfhrwsPU1grpLlRRMXTZl80pSvJyJJWPWQI9TRRRvodO77uEMb6HXpfBAySgt1cPZ8LVCy+gJtoNc5M/kLBQN4xZpJ9HzoD7skUYxtwTGTKRdbOmQiKJqqHIRMluo2VaxbRSuXudK6HSqu2NHCmh3S5HZ6NJmIhiric0GLpsmRMTuj2e+l0oJdqMzqQ7om2ulHL0wNqaOtRjBPDrsscWYnI2h5sMKuRllfhM6EjnancTcJQYuAYhFNWOwgm/cX7Q75uvCP5sqgD0Lw7EBDYpxJPK6DOCGiD/V4OmVDXjh7Ro9/IT+cA0kmcJLg/HWZS94WhzqRRe1M2+Bl0gjXIX1bG5Oqsv/5ujwjLyeJoa/COeMwwAX8evHcqeheaMXj3/27f+cg0jd90zc5R4AsfBPy3v2+7/u+bbVg6v3lX/7l9t3f/d2e9+M//uP2h3/4h/bzP//zDoKhfQUI9oM/+IP2NV/zNU7z3ve+144cOWLsGPj1X//1GU8AK97nzycMMo48H/6fzbLuh0i/q+Iqv+uirW9M2VpJKhw8R2iF6hgpJwNNU+bI5zfm7LzJtjANAPGt43Vj7b6JqTLmZut6x8hUmWfcTbOqKo+za3imDzTvQQLaP6OrAlFWMFMjwZO3/onOwbU5mVDPNOXzr+Umbq0bZSstqYyAM8q4Vg7Amd5h1Au41ZjVe2xKDr/1cQCTuNFlzCPlyymxut76DaZ1umjIBUsdgBrNKbVvSnzkc9BN5Wq0D19HenfRJIEMTsu3Ui4oHrUBYAC/SI0r4/YImmPw3lB71UcAJQBdyO8AiHj5mA4b6NSdKUunAcQK/RPqALhgPCH4Lo2JCB53oCLlAz0AT2VJYKK06dbKAnlVrlPRO0ptG9H98XeyNOdGpXGF43NkSrSK0v4lrgCgQjr84xBk8vZ4/lYu7Qj3fCtVVymLRD546nBBtvKcHvkhBpRLy3jfSJakjxJAKmhAZf2mwglgo3L0jco6aCVQy+tO+yerQ/loPyW+whIQCI21woYEo7ic/8NotNmRfzX6SWnwDSG9pjz3K2i7UZfLrbZxBqTSbbBmRWMzZqP6gx5Akh1A6QfaUtiQn8t1PcMNNVT1dtINFzYFzCUaZ0pDm0rtAcgL4FRWr/iilZf5F3MeKqO6eTbhSV3uwwsTSLQN9ddS+24qqKz36yCFob0FwxDAugVv2lDkYQ8Me2Cf9cBeBgtEv0UHjJvtdRY6vUK9XrdyuWwf+chHXBNgfHzc3vGOd9jdd9/t5JcvX/av+5ge/v7v/77hxHe/BZ/o7TbHSCdSNyV36LZwDkxyPIl2Td4CXXpOyOP/OQKPphPLOCtXT5wVruN6A3nXxBbCkKDLmD7w2HaGkSZ0hC76UAEZut7qFkXII41zCKHeNM3BnXANrRYOyeJEnBRvKr6Og3adqR7zQcwGizqz2xLg1p9V77T5sTUbLzZsUsfd45fsNWNn7Y6StCFU77oEWNFn5hXNTBtaGV1qHbRPb9xmjy0fsRuNMd/6fK0hB8X1su/05Y7etRjosPNQtDOSLxBYJIRni8aKtzfJryVfeg6NzuKh/cr35kK3U0jzQlc5WR/6blqvYSfuW+ldhZQc2rJFobQ4kl73SBuwRmcAbezvhcT4GQm8eojn5cO/fH5I3+mc3bedCHql09Ye7e1F6mkp7fJyrOMijYJKxY+4XKPRsAceeMDe9a53Zcmj2gmN9y2m3L0C6WhsxQHtKsApwtNPP+2miPAIYWZmxrW7KBsDWLzDAcBOnTplf+/v/T37ju/4Dv2u9rYE6TeOBBluxTO76xUEogBWlGURMLbAb59FNQCQwBvtcMdmEb4hxGpJoJG0hgR28Zw15KuqfbRuhw8t21SlbhvNkjsA31jR+0aaPIBfpam6HZtdtaMTy27Kh3++hvwtYUXC9cL6hF27JOuKlXICYKkT/d2IJop+JByYKZYO1OzOI9fsQGXdzq3O2rP1gwKG5O8HZX09j4BBLMg580JsyXpk7MSqvebYeTssR+nPrM7bp84dt876mMzQYJzcrfj3FeplsU9oV9V+ee4uzm/IhLvuGqurS1VpNUnjTJpXXq/q8rrTMg5EAVwApqlPpVTroFFpTe3F36aKeaC4ygJgOR3yqFz4/bpcqYxpiaycXyjPQRLxD23hxUx/hQAvP0QDPwCS8koCjkADcLJ+dNTWTwnYmm1o7NGukMWSfGGRqx1sKadjU2AWsjpwpbxNpTmYpnEiDl4sJHjdXSliprIAJszL9OeyQZJExTQtrEZ4O9I+CteBddcZPoGHymNCx3PAu5dyfm8wERTgk/W9C9LFJYk4L/WhACw04xLNJxJ5FgQCjQmAlOyAT3wPgqc/byod0ugnAgBgeU3juDTBALu8vbRbwBbyAkC1qjLXnByxuhysUw4QqXwjqXe0rfuERllN84AbNd+hksnBaLVi7YmydUbVSOrSByvAq+a4tP1Iksac++LCTFTlvYxuqINV6hDV5GaCmC1iZtjRboyAsWX9jhKH+AinP5W/qUCxQYsOSndTgvz1FVI3D8OwB4Y9MOyBYQ88rx7Yy2BBRbfogLHXPsK0hMCug+w4ODm5ZRKM1tWf/dmf2b333uu7E/6dv/N3/Kt+2KEw1MWi5Z/8k3/iNDsttALtZ+WsSZVPyHa6p3E6tFHwCWEU73Xpk8Je5eK0uI7AJM4PafFZ+fn6va6IJp8fZSWXaYGYzieFUd1xXlY+yve0HrJ4n4YCOfptzSU/zwNB4jSufaKZlta17zAY0uAhkIoygFchcA14xaKCI2xhHvLlvcLGtf3VuAhLmsQekvZEZUQzdf+E37EbnedsvriqvLZdrM1YXTPYxfq4LRbGbV1AFltnt+W8tzWqhZWAMtfE0oKErctZoIR+SEAYTdpDxZqL+1bbLFCYkCv4Kd/hWQEI0gNiBW9m2lYnC7ThDE2ujPepl07znCBNiE55MTKyKCO6TEpG/R6x8susPLFIvtA/GX2clyZ6PaQH/uEcCikvowlp0bmr7jTd6WM+uXq3tS3it+MlPHJ8dqQlI6U9efJkFxk+qX70R3+0Kw0NV965aEfFgfijjz4aJ2XXaML2og8asuG8Gw3MvvVbv9V9Hh44cMA+JLNEQDQ0ctEIGyQMOo4Mwmu/0tzz9idtZLxqz16fs5Wz0zZ+XtpBskbGIomFbXu9IEBDEb0jJo+s2stevmCnJxfc/9MDC6fs7ONHbP2hw9aSyRLPBV5HOHh2AYI2tKvf+ZMVu3FozAGsFUzVrgjolCle0LiSglMCZvBuUblEC0VnmXkRGpe0yL84aU9NT9gTesWhITQpGd23loAGzO1WTpsdeuUV++Kjj7ujd/wA+pFqno4KLQGsr0hrBvMqAv5+2EXOzcv0PkbbCjPKMYFlY+WmLctksfjcmE1+akIOsMetKMCneUZl7l6ze45fsrFiU5tl6KOADneCrnfq4qrerzIPHD+nuuSvqaUdC9duk9+se6/aW488ZeNS2WGzjXVV3NA7GU3YJ5YP2VNPyI/Wk0Ubk2x0NzK5X6Z0tRy0czL/T2oCfexaUElzvE3Zu4ZYmh7eIwBGaNgELRvFBMBIi2i6YWcOLvj9WdgYt4XKhNXHhKyxA6EAkVG0znDiLgBsW8jVgfAuq+5LEbNS0DDaA9ijtiQAj9K55xpnOFxO9T+3ygEh0ZMGH9ckgkYBHt4vDHPQEHSmvwjwDoCV79irOorSlgMUct9ZAnS459wTN9FEnqisA0IaA9Gqakv2gjSSXKMPvilv13JLqsv+Mw4m90fySoMK2aGvy2RzQztzuqzIIn4cPNfOT1k8i5if+j3XswigtXGIvlKmyhQ0Vo82xtUPqk5Jye6HnBMePAS0eRO7WrWFDVr4fYyicShXAX7PVbagOvz35LIpX2n0i5srKo2y7CJan006pN0Q05sJ8OIYJAxKNwivF5Em/Um+iDUOqxr2wLAHhj3wUusBRr0wAg/Str3QDsJvn9L87M/+rEsGCIW5SrzTIJpXp0+f9vS3v/3t9p73vMeBrnxTALT4Wv/a1742n7U/4vFEIZlzDCxXmNAOXCAmfL6TDpXvV7/n59rU9egqAk0g6cpLmYc6uvJi2UPhuG1cxzS5PD0SW9mhfL49IqJOQCcXEH4cFOYypde0M0kjOaVhQykvI9qOtFTaKYDVHNGCR9oNRZkG1rTXO8fl0rQ915y3sl0VSNURkCWTQ332nxota56rhZRAgzU5YAG40rdc32GKhRO+bfB5hUZFRwBWRxPezOcVX9RTWZA1MQ/cko+0+H3j7YQ+DaHPnQdpcV4gCueonpAUn513nBCuVS6+p1mdaT7xkJ/lhYTAo8c5o+2R50lRW3rG8+Vieq6T299DtlzBlI7UwGKbbCEDttE1ZfJx0voG+meAPsr4pLTPPfecTU9v+SZFA2s/hViL61WvepVr3f7jf/yP3bfWILIOOo7spzbvVZaT40s2qg0i8I23XJxKFrwCHQAWWFhXr2ghq/ePh82Kne3M2NnNO3zhi7P3wl3rdt/XnrXbxxddowo6NKsIy1ptP3D5Nqs9PWedv5qV5qfZhPiyeAaY4AFnIe9aMwBJOtw0Te8kMtEgYYGNo+v6q9ftK+7+tPsCXNd7bbE1YYvNCdvQu/C6gPmHLxy1xY8ett+7cNjbsHFYQMAddbvj5FU7VF21axuTes/pnQdIIACD88bRjlVOr9jLBN6g2Toh5OKAnBIdFIIH8H+jXbWzdx6wc2uzttoo25jMvW8TrzMTC3a0ckMgXu7HJ6nP12ft47O32dnDB2x1TUiLnN1XrhWs/v8ctg8tHpJsahM/N7WLd0L42R1zVgwACrr237EGhPB7DmXoLwLpAFEOAvkXBHh180wIt+pYP1ywpVe07M57LtqrZs9npuWMEexACJiGiXmtqjHDxwf5HZOJJzvXWmoyCU+XWUke0jPiu6z659pIWuW7dhnAFfdY/Z2YsXlDdf8TEAWwyLtRfDK+8BRZ0hsa68PjR9t1eD3Kp+2Ana7tFrpOtA7oiM5N7PRKashdrjbFdLkc4NHz5/2mMq5lxTMZab+pO1wDETAJmXhei+7nTHXpmSTfd/HTqw8gyYGlcX0E0sYHpXH5ydK4XZe5aGGhZJVFTDJVt8rocZU5qtoljULkKOu5mDynD1FXZbiv30NjUv2NKaBo0DqkDzYFuI2kWnpqvYNrY1eTM3E0r/Dj6+ayMvUFuEO7C/ATR5f+nAjQKihOnztwqHZnACIgYdqPmLr6M6V6WzetgRVuJNL1CX7D+9Dksve6GUiu+AsS1a0chmEPDHtg2APDHng+PcDg5IP5gEz2Qjsgy31JhokJ4Yu/+Ivtv//3/25zc3M95cQ3yl/91V+5NlYvAvLyX/l70X1W05jsDRAGnSvs9ozk8zKesQx6JrtCnEdGPt5FHEUCH9F7PbnKNTWLiOGbFMhkinNzpF1ZaT1d5QJ9eg6ieLmQF5jk4s5HE9iMH/k6tuLixkQ8Tc94Ir+nq2UAV1osjepgTVJQHgegWFEzTw4WWBNoYGnmPab0KWlhzUm7KoQjhbLNF1ZdG2FDKwctQ2SmWLaKfMiwSEEDiw/qLDYBesXC1xHuTRnZFNQKiYnwSbzrf6DhrPywMHOatLHwTOIigSaN+qkrEmWEMlFS12VaX0jL+jUkRHw9j3rzPOOEbQwka+DhnZJE/H+eT6iz1znwCGXSc1y1Fwt0RKAJ9J6pf8p3eaCL8gOfTNaUPh8PbHY7wyvw240u5AVawKsYwAr58fngQZl6yXQKs+w4EN/JNxXpu9GHctAcO3YsY0v8Na95TRbPX+BAvtVq+c6G99xzTz57W3zQcWRbwVso4XceepUArIr7uRo7tGHlkzKvl/nyukyNV5al2rQkc7ngr0kL9OKMQPJJdvbbtKPlhh0eX7GDAn14p7BZxCMLR+3alWkbWSk6KFCUxtOkTBPDDn2gEolpljpJzx1gQ0sXDuiQpOdc2JS1HDxglzRhJ4ek/SUTvpaIF1uT9qmV4/bhJ87Y+CNjNn5JWjUCRwrHBHKdkeyvvyHNqJYdKQmMkrkhgBR+BFebQgEEyqBdNraoMor6jonadQ8Nqoa2unto4YQ1n5m0iXOiW0+Aira0rjCnRE4W/Usy83p64y4HTrjNpGfaRZIdsKR2um4vP33R7p6+4ppqaM8iA7vF8hHhEzdO2CPnjtrIxTFp+dAfaMygoaM6AFL4PaIpBcgjcMF/9/F7gIo9JAALl/6bzP+Oc3HazBjDWIB22oWNGXvg8dM2/VDZZp9SxaJfOyLn/berb47J79KY0iQbYAuAD/JwPxKQRGfGK4LKcYT3gskszf07eWb0DzoF6Og3NH0Bg+hX+Mvlo/cr106ndOfLWQHwyOXQmdDSrnn1GQFuclOKZpbTIqeOwIM0+hhtsBC8DansgFMVOX2vLgh8WmVEBHjTRx4BQw4miQ4/Y8gJCKVHJbvf8Ab44pnlN8LHoJb8m+EjknhZPtrKy6JJNQkx09vUhynM/gBnx5Y6NnGxbqVrQseaGsenq1aWhuKGfLXRf8hJva4hqP7yttBHrsVFvyG3QNiHmla6vmEjDTmYHy9b7ci47mNRGoU8NDxXMsGVOSNn4rQL5/OuhUbb1Ka6dixsSQOR3xJjTkd9Zv+Xjj0G7m32HPQpOyhdYLPXzUBCuRf6rFty84GtdVFV3smO/ezZs/bN3/zN7vTx5msZlhz2wLAHhj2wz3tAgwUD0sBhL7QDM92/hB/4wAe6hMOU5ZOf/KTdfvvtDmp913d9l/2jf/SP3EfLl37pl2ZgFQuhP/qjP/LdC//Nv/k3XTz2XaTXPd2aqyXiimbbZCFPExoGvzQvvxjO8wjxXiIEdjs+n6H+XQsnXKgHKCUfQv2engobU3XJ30Wc55Q0uYsekpRZzDOkke30ITOm1UQ2hEDjZoMkCpFyEz3/Aq+GQUqaFoTJtSaP+urNVtet1CxgVOY79aYcLJdLvrgsy7EKWlUc58sLArNabi54srgkJ+8txUe0C2HBnmkcskv1GbtSn3S/M2hZrGq79Hq9KCftgFiqV/6v0Ezw+4QGlo4RvriniwYa6V2X3icWG9BiWuGB9FT0JGErOcRDeS8bEnud0zp6ZYW0rtu47YYFqu5zVxmyVC4ums/P4ikRJ79Mm7yVn9aTyp2lJ1Vk9zOl6j7RZz3aG8vlBQLvcD+6uWQ8tpXL0e0apY4esuxYZg+0aLy+/vWv9/cpOwkSOtriivfrv/gX/6JnFW9605s8/9u//duzfJy4k044c+aMg1/wCIAV/rj+8i//0v7pP/2nWZn8xcc//nGBwqPbNvXI0+Xj/caRPP2tFJ94UiZK8u2D0/P6fMmac0UrlQW26N1zcH7FpuSgvSpTOUzknluYteaFCas9Mu5Ay6oWuxekgdLGEbj8XW2WBbpMNm3qwJpNHGtYS++gpeVxW71esaKctPs7xQEBPW6i533n4AVAjWsTkQCYpXwAg/T3hvla/ROz9oGPvS6h129hAi0uabagJQMwgwbK7IFVe/mBy75zK2Z5f/HkGRu5XNGCX+8wveOkaObPOT6HCJXrMqN6oGqXR056XaNayLPz+vqJpD28B9FCc/MrAQfIVJ+TpszLtFvsZMs/KHTWi/JRpEN+tQAzAKCqT1TsmSdP2zMjp1XLVqA9/OahmZDsrjmkOH7I1k9qt9kTy3ZselnaXhU7f3XWCufGZGqpQqKpH5A54om6HTl8wyYFHF5bnbClC9NWPa/7tZLw9fewaP23rGKAEfQN2k/0KaDO+LNFu/iZU3apfcrTS/Obtvxq3au3bSSaQxobWjpM/sU60iAbQXtH/cdB++BdpCGhHpqnKEe4X/5e0z0K73tvM6CSygO6EEfjyH0usRug4oCAAFIuL0AbNDEQpaQW2lwAX6n2mvt+kncITD+5Nzj0n7y8abNPCMg8L/s4hc7MuJ5r+YWcxlQ+kYlnLWivBX4t+bhqyrcU/dScABiTPAJSeU5H9fwBfALC6qegIOHo87QtlHHZ8ZMl2ekHzGMrN+S/Uj7HfEdEyYzPMXbNpK3ePsnRLgnMmh6TPMkLfuyKzFevUId4TpZs9URZO0eO6vlWnforLctPnfqxsAaYlxyYgbYFXI1qztCeEBirtjZkCshzxT1Hy61yo21jlwVyqZ7GAc0Dbkv8bwFihftTloP/MK63tRnDTQXJiJwDhUHpUmZ73QxkIBlugkiP0c0Hts397d/+bfuv//W/ZlvqBm6/9Eu/5DuXvOUtbwlJw/OwB4Y9MOyBYQ98DvYAC6D777/fP2gAXr3tbW9zx8E4bWcM+ef//J8bGgKYivzCL/yC+2qhm9AYYNGFeeHf/bt/d3/2XG6iwCQkH7omlGQGGiacPUKgD3ROFmhD2Vw5n/xEaRmPKM0v4bMDjzypT4jjRJX14pwDj3AOdBBEATm6kzQ5y5XJyxroocvnZawDUZYQXaR5XjatbItPmslJB5NegKsQXLQQJZ/rwEO0NZkGbLij9yT9XOWAfWzsNitphy1MFsakWTUpR8pT5bo0tKRB0SrbovyZrMhpcaupr8JiiDmIyTcGizm/FywydO1f+RFENL6gRJjQV+FMvoKLRLk4fauRWzR+tcu/uDxkabyLL8mhT3ZglaffgWxbcsY2L8c2SrU1pAXaLCFkbD8PJFfgFxWPHomefeL9EdcvHtQVkjZZZO6zgCnf3//7f983w3jDG97gOwiura1Z2JXwG7/xG+3EiRNu2ofo3/Zt32Zf9EVfZP/23/5b+6qv+ir7b//tv9lHP/pR+y//5b94yzDv5t3+Ez/xE3bXXXfZmTNnjA/bx48ftwCS4bcQQAstXHYiJI5J+Dd8wzfsqJG7U7f1G0cwRb9Vw9odTWlgFawgROjgzJrdNrXkO6B29ILCrAzNJL/Wi2GiWrel+aJtjAnY0HtjU8D6iHaww8l7spuqFux6D41XGlbBe7mCm1IDRGjhz+IYp9Fo6GwCeqFpyvsHMNzBDS/goIH7Q+J9pyx8+hiAVUrDb8A1fARewAMQgvfW9Qsz9ifXZAbJx4A0bB5sOm6Gb79ROVJHIwxAghD/RuGJ4/fWnD4AyCdUWSCe+wkUwN+QqbWD/CqDuTW+oTYFXLlWqd6pDtQo2cEQWOtI3u+pHGLudSlKPZsCygBcTOABgZ0a8TO1dHnKbiyN+0eFkVX5L1KbAV0Ibv61ULZLNdmLCVQZ0Xu8pB0V0SAiUB/1u6aQruMAUEZwQEh9SBlkDvIWhIhMC91DU2xF9mqrDVXKhwzdGw7ezc4fvroGFAmHM9a/uC+dRvz9TCdRhiNNI869DEfwpYhfcj6q+MtMNNw4yni5rKL0QmSAUEUBaxSgLbSL52b9MICs+kmhNSZgCm2qVKMJEM01vfRMJU7OJR5NhE0aaBvacC6H3jXwdVNFnj+BRm4iqXuYOIxPCnpfqu4QXG7RAl4VtKsg/AFiKcu194fApAIO3hVnd8HQD5j+EQDIXHtKWlwUgic+s9C6Ki9JQw5ZGDD01x4X8Cg/mO0xffgSSJbVkbByfuEfDuKL2lWRHTkTmRKg08E3fnMK7fQcyny2zzezGchfl8zpT/Lm2H/qU5/yLzfsDIUm1vd+7/fauXPn7B/+w3/ou0rxxZyv6sMw7IFhDwx74KXcAxq3uicOfRoL/edSeP/73+8LFtr8W7/1W246guNgPn78wA/8gH3wgx+0r/u6r/Oj2WwaDocJgFqlkmYo+zj4BChMTsI5J2/XpDLOG5SeByZPm4/HfHXd8xnrU2ZboUAfzmkdPXnn6g9Rp80X2AO/rqJdkVBDdM7xTXLSQrmyTCwHDz14pEnOR4sN5vua19qKFm3LLGLSxYs/Hyw0ROBzUcmodVJyP3Pyxs/J3uTr3ZKMX66e3tRpaq9+UfmuZEVi+W6qHqrrYhpJtZO8KX1WN3LlafPxiO0Leen1xvLn683HB6gcdtvas0u5uPpdyLIs3rFXr161H/7hH/bdA9Ga+r3f+71M4xWrCTSjQnjzm99s73vf++wHf/AH7fu///sdpGIHwle+8pWBxL7ne77HAMGY6y8tLdlb3/pW5zk2ppWqAj6uAL5wKs+us2fOnHEAK/aLlTHrczHIONKHxb7NnnpEJoICpDalfrQhE+TPFA75bwyApTUhQGdCi29AJ/0V1mQSJU0qtJII60dHbP62JfubJz9pd1Yua+fTGfvojdMyIzxsC0uTDpyPXi3blByaj11D66WTmS+1BSyw6AdQwFyvqIPFPsGBFrRb9P7ifVablQ/AY/jCkiN2+QZCjupladucl/mUNEtY6I+q7GhdYL7MqDaliXL9ngm7+qa2fcH9T9g9k5ftLxdO2xMPnrT5T2za9FNSp1HoSPulUxa4Lw0WjvqstFwPy8egNNFaelk2J2X6d3zNXnPynPu9ulKfsg8+fYeVPjlh08+gWaN6BUAU19oCKRI5GnNlu3F7ydZOqfwML2BVVJJsAvlGAZ74oekopNfEOwKMOlJnA2AbvS7TSwEm1Ssj6re22ilVHrXP+QisCKaWhVrdCteWrXNNvsfW1uUnSmWnJ6XNM2Wb2qnOP460VL8+3I1wBkgScEF80+MCHyflQ+zOQ3b97nFbOjwu7SDJfKBlh3RP77/7optfYmrYEirkvhT1AgTkqkqlp1qQ2ZpukO8kKedOlzembbEmHqKhyUWZv5cEYmKuSHCN4fQF2hQouoCz+4VxK0h7DSCL+wy4uam+wswRcLQgLbfpqXWbqYImybxRfsjWNirWqOt5FZlvPAJ78aV5aCpvygfV+MSGQNSayzAmOSfk3wx5CdfqE3Z2ec6u6PkMjsop6wH5uDcVaSuNNR2Ipb1rmNNqZ81NgYqjaEcrH1PaIweWs901y2oEuwNXU7TwuY05e3zhkF1eEMrKRyMGagGftDWAgjzf7FbIb8BBPeK63ZiTJr62Ei0wtCO5N3RsbV6+5e5QB41IW0zxoPnoTusBbsWjKO0w7d/ivCS+aylev1OalmeSOS0msbLElaZZ0t+dMYFZczU7fuCGHZFJMPesudawp/6PtF/2cJJIA48l0BIG2c32ZjYDSbi/8P+fF4CFzf173/te+9qv/VrDISN2kdiq82XnE5/4hJuHvPAiv3AcUeeLgNptjBfed3JbWj5h7WS49fmcJM4PoF849FZ5gusTWr91sA+F1F+/DHh49zCyLh3WXUL9D2TE3CfMpXbEu5F9/IH7d8v2vNV7w9tqZ9LK4u79y+4N/ULpXD8KJgD9aY795u59B4fxbz27K6PFc/K22Se86f7H+1CYffoz9/WlYTLRL/A1ZLfQlrp4vzAhFdp+4fO/9NF+JPaZX3p5X5qlPiRzjycTr90YFTXp2i20069ku9Fsy/MRbPdntasM9J9DYWFBzlblT4Xwu7/7u8aOg3fffbd/7Pi5n/u5rp4AsIr9qZCJk2I+krz73e/uot1vkQBa9JOLycxuYaDHI/cI5Xn25LH7o7+bSHvL26l9sczhOqblOqRTY3ytaM82QUeANkfv6dG/rvJph3WndfPgfnp+2m9ByyCY3fgEXxP9EU2kRzmreFGaWFXtnIWPq4IWDzVMDmUu2KhpcSQtAke6pIUwgiNXTaSZMLsomlhn9zBLS/NCG3J95fRdDQiEyTnJ13VULqsjJd2luFNkPFL6JDGJUJZ8Zx/VEZNm133ujdMFHuG8U5mQr0ID/eYi+iDPTv2QTw/0fc95WfPxvgxEQIf2uyExn73QpuUwF9zJZPBP/uRPYu5+zbuaY6eAFtaP/diP+dGL5nWve519+MMf7pW157S9jCN7Zv5ZLrDySjmdls+f8uWizT2yaXOfXhaIgn2UQIGiViolLdcELqLpsVkVsCOzppa0PAB8xi8WbPXqIXv30bfb5piAEi3uy9e1+57mz1MCpPiN4Idn45A0e07rx+CaUTrzu9AzxDOPNhSmS5jzlbRjHKZl5RUBCJfWbHRBawuhC9Xb5kU7Ie0aaYWx6Bbf9eMdW3WeijifomuToK2Fpgr8Tv6efFb98jH7yLrKC+C5s7rmmirN6bJr0hRXG1a8smwjq+uqRvWojbM6aK8DQDLZ7kyP2/WZU3atcsZ/IifoB1cnow3I3LLigszvlla0gyugzohNPKQ+o+/gBX1FgEtZGlsC1gCg2uMy1ZyUj6JJgSEic/M5aWO15ZcoaFxh/nfjTMFunJZGlsTBnA0zyc60TBcF1Ixem7DZhyft4McnZWp4VWnir10am3Pj0j5KltiAIA7qoeUjs92Rpu7Ret1G1jYkK7zG7eprKnb0K56zHzj9OzY7umFLnapdaU+5r7GmUEx2S7wiW7Q1CYQZKaEuoddalWxnXOJFoY7TAo0AtAB9/PAbrao1QuEjjfJtnQlT0uYrHpZPsAOJdjBAXnLQZQL1NC6x2cjyisC16xOuVVeV3eWxWZlZji+7T7FnVg/Y0xcOWvFCWWaU6leBm+uHBNQc1b0sNb0udlV0s3lAQsY63RLMY8eqDe2+yYOo+nQgbwhsdNKQGeWGHLFnu/OiiaYvQR2NrQCSyLihMZbNAZpq0+WFGRs5n5h8AkByv+rzojugZ0ygWqsmoPhKWb8Znnc9w7rvbDSwfkoai4fW3DWAO9CXnG3V7xu6SCCvPxUMLcDRG3IMfy3xrQXwBSAGCAaYCiCGmSK7GNYOypH8EQF6/OYAS+XgneeG9uNbEzPhKfm645o6ABUvLU3bhcUZr62zXgvdsbczYwPHICGlG2Q320HYvVg0ya/gedb2xje+0c1DsIOfmJjwrzX4NhmGYQ8Me2DYA58TPcCYuzXu9m/yXmj7c9v3FDhgf/jhhx2Y4ov/L/7iL7rM6+vrbibYrwGLi4uGyfp+BLD2Mk8I7Rx0XhHoe57juYmepx15xnQwysd7Mn+eiX3q6JIV2jx9Go/ponmtCxfnBeTH0/K8QlPyPInr8J9iKEPc05MfKAsWJrhMPAkOXGnyPOJfp7U4UHpVTo3nxjd80YBT93Kh5V+a2UmLLeOXmlU7r92zrspXSiOdvLdlStjR12D8XrkAYu9fhjUnRwDayiSYL8RbX6Vd3ITehUkuM3MH0giJqPlLj5NHPfm+TDJTktAXITHiF5KCzMSz+5CshxKSXJnd6st4chHqDueuzCjSK586e6VHxbJL0XWJSCRN2PUZyhikF11MujOzfulO3j0WybE7YZq7S/0Dlb/FiJ7vOLKfm3vbb0ujSjudbeJXT755btyjrdVGph1IwReQ+5gSmIJWVFk+fcavSuvpelMguLSTFvUOekSgiIARXhiNg9oZ8L6K3Xh52yqH1x0EKD1ZtSMf6djUwws2Iq0hOcayzYZW+NKKAzQaPTBrtTsPC6wpu0aXm8rp+WKRvtnQVz053S9eWrJZfRgdvzLmZlsNAT/rR0Zt44g0xCb18tLvqq1d4NrSKgmhpkX86m0CVl4jYEHi4Sdq+mzbJp+4YaNXlxIygT4AdJvSXCJkj3V4+QnAagu0w6k35mIQuNmaNL1GAIWI1wQo1SWnygCqSnVbu9FV3Zl2R6CVXsZeHo2zdiUxEyvIfGvsWs0mnhJIoP5wDSn1yWZNcWlJjcxM2fJrj9nV18p8UQ7hAUsKAkcOPjii/q7b6LJU4ByQEnoh59+OSqBptbymdq47iJY0kEZJyNAeldn0I22p5MWB90x5w04Wl21GssoLuZ1vzdk1bZe3LtCKnSTPrs/Z1fUJd+wP0FMUAFSWo3w2FiFsaIfcjYZ8LzUAXgRgSnvp4OSaHZ+4YbPiDXC1IM2n5fqYazMBcrVkitlkPBJwEsSj+7JBQjQuusYNQke0689N2QUBRVI8S7S2lDWlcZLxkmfANZukHrIubbAnqsk99TSAH3UTAYCwIbNX4+MPGlu8MFXHJvXQHJ0wqawK4Jock5ab2kib0SYr6UfANab5l8/NWU2aeCbNQp4vKa4lGnnSMqRbGhP6XemjdX1VWtJl+WHz2gW8arvJteNJxE1w9UFp/bL6VvX6OMKYz0G9Gu8npzbskPqSe8Tuw09cPmjN2oT8cSVgXEu/0Q3pf7SlpQUYyrwBDbFN2iiNNsxpi5Wt9lDNsj5srcpUFWfxo/J15T6y5Gtt+qrA41Xk1+9KP9GnUpn3dKIPOQYJKd0gu9nezGYgg4hwMzTPG8D69V//df+agyryI488Yr/6q79qX/ZlX2b/7J/9M7ejD2rENyPcsMywB4Y9MOyBW6IH9jJY0KBBB5ZbovH9hcTHCj6s0KxicvmOd7zDC+Eb5d5777X/+T//565MnnrqpobwXXm+YJlhwgNDrvMhf6970MSLXSZdHsI5zy8t37NMRBvnR8nJZZAhnAMBdYZ647z4OuRTJk5PeexUL+3K8rJGpoVyJ6eLees6nT9vUcb5W6lbV8p3UQMdca6pO1yDH/FlNNDk43wpBbAKX0w1ea4wCZWGFRNpdtk6Pblor5i8YLeXr2nBIvBKatcTIzKf0OdfLQm0CJm2BydP2yfHT9iitpln96uVesVWZILRBNCSUEzaYyfuPolXmk/6Nf/1gJhhck8CcR3eyLRju7o1zQtNSzpD5OkqZRutV5L+ywpBn9ahU3eZiCguG1hE5VLxelBFSSm73Wi32rtVLpNpl/K7SypeEOjYVncoSFtyIas3Tg/0pMWAXkyz23XUZ7uRZXk95MryXoIX/caRW7nJ575Mjwy+mPye6p2T3ls0NXFeXtQGaVhFsTheOyGNpnsEelS1hOOZEy3anP6+4FoLedeguiaTqUtTcqaucjLFu/hWbTbxJbJ94llncY5Nc/puM2mUTD8xavMP163yQSETQYMfMGU+0cTvSCNqtKF34DUJpHG8In9BkxekjZVqgnW0q9r6vIALmTTi7NrrkHjU3cT8UYHdAddOCEB6o3Yk3tRBQGay0zPaYJhHcgRfRw4IqLmAJNCi3ZWA/ElaUzhJ/eCUteU7CzNBZxvel/phb2pXusmnizb/KTm3//Q1AV8pkuKUyb9NnOgfmZHJYVkgF4DXqK0eU/vkIB+tG0Chsnw9oZlWWJCm1w31k0Li/yj6wWMimNjWJYz5L2Ar9Km/gwVguRmhXrCj6zPu6+lGo2pX21VrbMrHmTSwakK12o4KCR/TGc0gHPKjPdVRJzB2cJsKrlGn/lAaYxOHV6n2L66L58qEA0T4aCQPH404qSesNwWOCUipCfhCMwoaNKMwPYQf6RvXxq0izUAsXhAHR/a10zLTO7iS7KYrmRw4k7YU/soYM3xMU5/5wE2cHf/oFj033D/XAhQwVBJIhdYydQJUzVfXbbpUc9+Rj1w6Yo2HZ6z+nNoozLUhh+4AT+1jekarAhppuzYr2Li7Y+sv44egwEkVOAjnCUk8u9RzX9YYPq668FdJH7Ixy4bMEwHyXO6lslXlZH/yfLJrIIByc3zMFiZl8ohje9XBb4q+wKyQADBXFjhbkEEVzyXvfzQV0Z6EjrEFAK1ZmbAFgZXMO3Dqb5gGTwi0npGm2gaQTOIbE7Nafg/BvFIZewv0MccgIaUbZDfbm9kMZBARboaG3rrpgOng7//+7ztQ9S//5b90Pj/90z/tzhsZaDAVec973pPtWHLTFQ0LDntg2APDHhj2wC3bA/g/wW8KX3gwR8EvCgEn7d/3fd/nYwbAVlhc92qof1XtlfFZTvPJiRYVuwYmCOn8yunCdY8JBhOdLtpdGSeZsPFyKa1PEKNyWV6UkaVFdNvqzcvXQ7aefALPiD6w8qa7wEHYVHbPUFp63sY3kt1Lii6joUwch4BJvU8c05p17YF0pweY0qGJs+bWStNCQpP2ohZ0TKaZvFek2j89VrOpksws9NWX86nqop2pXLXZgraGL6za23qaYfNAJA/FK7Rg+LLxx+3PJh63x+tHZQpSsXONOXt2/YC2gq/6AqXe0gRaX8/rMllgAeBmG5pMt3FaHC3CSPdJqfefrlkgpM3jPEKHhDiNZZEXyhB3Gi7SENNmaekCI86Lr0WnWhSixOgyn+Xx9F/+FsZ5264Dz/RM2ex+R8Se3SsjTxPFuQyy7FQ05HuxpMFdHJJ6o6QcDe+FYXhhe6DfOPLC1vbicrvjN2XiJNO2jlbGrar8HQnMwjwwCTz8/sT5c4vjZ/f3tJGAMPh7Wj0uEEGmUJhv4SAdv1TTT29Y8VriZ2qzInABH1uYz2lBXp+Vf6gjRZk4JWXcobqqW9GuaLX5eQfK0PryXeBYpCuvLIWpqfNtGz9fk/8rIQrlMWlgVWztqDSUtNNa8l6VqHr2S5LBzR0FGODHC+AN4QHZAOJwWs1CH62TqjROJs/JYfuVNZFIg+zQhO/OhnYXQBLg3fhlOa+/2LDSUmJS5aBRr9+Y3nke1HfsILup/kSejsCSxnRbu8kV5ZfriIQ0G1uQH65nalZ+bsE2Zc5n8llVU3tunCmqf1I+OjmY9pzQhvRlsfBK+Y6677hkPZ7IdqUj+ZryeSRzOCFKI/L/NVKTdhwgGfcNQEtmjZg2gjj5XQUYVOD/ZrWc9I+ua/IsX9L2uEsdaRc1Z+yCdq/dkMZPQypLgC0VfTRhbAohNrkD2EKjCv9XaDRBB/+yxrEQMMtbTFGXLS5qY0qDuWBtQwAeWlyMLwSNifUTDasfV1yFRuTovnRZPsqenpdWl+KMM2qqMCW/xgl5XaZzzUNNG5uW9pTGU8zpMatn515kJs6umuPyVwVYxiYFAHiXV6fsbCvp/PEx3e/XbFjp9Yn8LYFMm2vygbWisXJZzzIArLScSqqYTVRoc10mgp1VbW6wngBmLj9ip01B1nZTz21tytKfTyAx8KTwDGuYtqW7FHezXZXXM+SALPMHBY/z/HEvyKvqdzG7YfMzKzZRatiagMErK5Pa+VM7hQo8dZ9Ykql0Q/dQP0nG5YaULNtSHivJJLMqbbnONL/Lon6D0kaUmwFCZ0Od+n/65b75128zkBdL0OcFYF26dMkefPBBd+wYC4zjR7bJZWHCDiZ4rR+GYQ8Me2DYAy/VHmAM4xg07IV2UJ77ne5v/+2/vU1EdsQioJnF7oNf8zVfs42GBMYTdiO85UI6aWKyQ/D7znMSJtlpvmc6QXIVJltZenpB+Z3yYlrXKkoT+tLHMsTXMcNwrfw8v/hZ9rzAIz37zyKkiU8+7qx78A1V+lmTRued9iNpXXIgBJPIAE7FhUPdKY0DW0pDpR/NKgeruFY+4BUmGUz4iaNhhcnATFmOaDXzPVBes5fJSfKrKuftiJzRHigAxOpz6h4CZoVapjo/Ju48C2ERwgQ8Xaf6w+Iy0jfcd54ZOo+G0ybvyLTi+DpN8hNlU/IQB88KgS5JeKbPpmcosatzlRjKpPXE1XkW/wIv55H7l5YPvwPPVXuy+nPkXdFQNk30Mul1Jib3PR+ipLgMbYvj4TrjFXjHPHNlsqpS2bL487xAliDPIKz2QjsIv1uBZrdx5FaQfycZNwScFEtyIC6TwNG63j2LegfJdxJaQCxqHUiSbyYW4IBDFWk7lVwNRGZGVYE0WiOTh+lftlvbukAU+ZXSy0zvGflK0mK8La0QwIaStIi0draKdpwAXAJ4KcjvFZpbAEtuOi1kH1MvgHF+H+zExu+8I1M+lfS0inZhK8jnVhvTPgXf3c3fxYooiZ3YAMLATADkkBH+iRPt5AxPN+2b1vvUfwNq/4KACflX3WqX+kKaXh05OXf/VamGFD6qKIMDekwqizdk2pc6kBfaI7nUBvpJsrCD3fhVAR3XFOFPba4fEDg0cxTRva6OZJy4CCCV8PU+1X3gTKAf/D3GBzd4qr8CmAg/l21GHyYOy1eY3x/JtqodFRfl4B3/XDLF7Jw6Ylc+b9Ku3y8t3kMbws0a9or5R+0L5x7XWCC/iUL80L6q6wxwxVFryV+XbhRADyBVPrgJnhIBuQgB5FLXOKDlibl/yXgjAFP8+DjCOIMpYVvm7caujtLq8zGV6jQ2Zqb0421ryuF4cy6tS3QAoO73jGdHz0xLpqQEtIybelF1BMgsCxTLProIUCyOSxNKJvgAW8jSlgyAcKEtfNBZE5iGTAQfG3k+BBaZDkCgTcnZkpYZ/vC5IbwTGVbDuxFWF2d/AABAAElEQVSa8Mz5vEtt4XlvTkvzKWGrhJRetAQ0Bt2XnOrAvBHZTaBYURsnsHEBXcymCh1pThUmpPGnCsNYvbgmX2GjY9bgo5Rkp72bEmZEzxVl2vKN5XIgLjuAqg/4eXJPAQ/x0YW2IH7sCCOuleWXe/pH+0Mf9Cs4KF3g028zkED3131+XgDWn//5n/sLsZeQ1WrVcM6LltYwDHtg2APDHnhJ94AGCyZRA4e90A7M9NYlBJx64IEHdgSw+mlnfTZb7hOFZK62JQb3N5kL+WQnvdw+oejxHDA5CvSBYTzByOdBQxkP4ZwlbOeVUu6SkVFsvwj8czmhOs+WsCEOWZKWK7BTdEf+aUbIT89b3aeEkBd4K54BeVyTrzlhV5riTYCKtGxd2gJrOpiMcrNGdH2+OONfd5lkVuSQ9mPjJ+3Q2Gri50r7gN83fsHeMPa0ndGEXNNOW+m07KoWHItyhtHQDJkdwT65ftIeWznivkcwA8HpLCYLLUwWJBiLhw6Tey0E/D2CsIjAhDo0Mo1nz4LH1Sby0w7P8uiDqBxRgrh1By+bJMVlU3ae4emBV3fprViaH/MIMmVEXZlZaiY7KTuRZNSRvE4fMuKG9ZM1lMmdub/dYVvCVp+KMJOV+nqQhgVvN88+sVz7+lB3ydOXdkiwr3tg+XTBCtqJr7Sa+LfCKXlBR6dYtoYAoLUT0tiYA9SSCdsNLXavFGxMTtd5zpoCtlqp43EAJxbmACnbghAANJwAw4sCt3CeTuBZBlzqyCRwE8BH1679JRaYfmG+xTuBDeQAb5pTRTne1m57AtuKK9KyObchrZxGUmdFgIP8VSW7Csq/0rQckB+SUJLHwaZUKJdRciKvm5mNCOiQvyLa43ylZVZalHwCjwDMGjN6Z8rRONo9yICj9aZAMTTOkL+8NGoTAgfkikj+sKStpDLBQXtbYB9gYHlNHygEuBXX1BCF+gG0x6RJhBaasIbSmjS9pE01cVFaQ8vSpgIxwZcSmlSY/BF4UQgE9HMa36TfcDivPzR26J+NeQFPcpxPqCwXbFxadWX54gJca6Qmij4eqQrXnNK4wE6DHTVOruGlsAMzWApU5FDHAE4lQE+S5/nZiwiRdD8EpoRbHwChBBRKRIaGDyYctKilMaYtX4wcidmfeANe4YRfz5rPvdCio9NpjsZGHJGX5JuqUpGZvPig1VWvyQQPTSP8OhIYQ2kbYBj3VDsHVrSxAD7QADABNBvSAlyek7aUtKgcAFI9rq0ljS3GxCYmiWtyBi+NL3hsAiwJPEPjCrNDfEq21/WbWRRfgboEnid2CpQimw+B+IwDWEPrT6J6fmdaYOiUeljgEQFNsw6goM6EEZmgjo3L1FIO7vmghfN5wLcRAVlFPSM8uzx/o9WWzc3g+F33VIDVunZlXJWGmIOBkt+1qOhD7huVC9Qrii8mjMFpu4/9uvdoXrvGdU3+4lb0LkDRUOXatP1mgqrzDhikLLR7DLttBrJHVjdNzqvjpkO83e5OTN72trftlDVMH/bAsAeGPfDS6IG9DBa0+CYGjJdGR/VuxXd/93f7Vuy9c83uvPNO+8AHPrBT9v5LT+ZBPumPhWMRsC2EtHDu8Wz0LJdnFMornblmv8B8qlfYVldMmM9UXj6pi2eQKZyV6fRRPF78ZyKF/HDuYpryIC2WLaINdXg/MJEmqE+6NLRIB6zS4XxUvqCvrewKFJsQTpTlz0omASwMZsvrdvfEFXv52AWbl/nguPxd3SETiIMFdBmSIL/G8ue7Kl8m8texWXGTQbY+d/8lmqSGNuJrZFQT9eRrs9JVt5vFOGglKibAoU2ISLpKu0khVREN+XDlDzodWeA6Y8J1ekDAtco7cKPrmIxsz+fUVY/ndNeRJPn/jIfz5l936JJNWQnvhI68rHwoliZk5STLIM92KJ6VIyGIk/VZoErPIT+X3BWNym6TtYuwR1ty+T2jyDCIHKHwXmhDmeF5X/bA9DNtX5QDttRm5XvpeNUXymiLJKCNwAmZILEQr17etNnHGzb23A0BDdht6V0BqMKOewTM1EiPgJdAV5CjdwAXHL0v3544bG+xC5yKU9emfFXxG0OTqyKH0lPPyfH7ucRZfFOeumtz2vFQpmQ4HQfYqsh31th1aY+towKTPvcpgsJvBCCtuCF5BEA4f+pRWZyxAwSgLVa5kZjgla8n5oHrJye0K1/Z1m6XrIAMAlRG5V0b8MDBCJWpymn37OMCGuSEfQSQCbM9dvYTkIZvKYCkCqBSCjZtyofR2pkZ8R2T03mhYJKtIk2smafbduBTqwJY1BjRZrsUCgDbVD+O8lJlZ7ngM4u+dsHpJDHB2TsO4L31dMCmTcjZ/YQcymMyOCJn8s07jtrCK6q28sU4oxe/+bq96WUP2zcd+XP7PNmTNYUoXhaAgr9EPnjw4eOyzguNSVvRLoMNOV9XLW5yVxYiwzWB0SQAUsQDwOXXoiHOAYDlZ13j04qDjydeVmMQzt7x6UgcIAVACm0gQB0HY6QFNLomwFJaVryf0J4bbVRkiked6kodVd1fgCmuub8NgUTNGY1paEupWGeqZbLaM7/DogHoQpuJXTdHpV3G8+G7+YknoBPP4OacwLEjLRs7ueIO6ykGyBMOQCCbbfgukg3AJx44PbcjcojOc0K8KdBoc7JtZZnpYWaIfAXAKrUPfg7aCZjCzA+gjHy0AWs+3goYxaxXfKpzG9qoQGa6uhZn77MZbd4yVca9gIBRdcq4TCKrQnlxMr/akgnhhnaRlKN5/IMRoAtmlMRXAMZW9Ttf1m6ckhuBdBv87P6xlLCbWw147Bi8cTvmdmdAewuG5wVg3YLtHYo87IFhDwx74AXvAQY9jkHDXmgH5Xkr033hF37hruKzuy3m6Ps9MH9K55ZbovZ7LkJ+OG+VTK7gSQjnJOaTnHDp56g8pIksUSJEnujU8aUnhGcynCPSpAD/Q2aaktHEssVVch3npSxiEp9Fwk90ManTBMI4I+XhxBJgS4YUTEtpHejIyUs1WRug80OV6JyYAGwtCPDRUXRH7foSK99XLBympXE1p1UU4NWhgnaa0qwbras4rHZq9kxr0h6tH7fV9pj8jUzYlfqUrWrCj+YVgBVbZSc7PyWAloNSDlx183K+oQ+IkJ1+2c4aTn5MA10c6IOsk9KM3ejTvLjr8sVj9oNeO78co7iO3fjkinWT5pmIOJ+0U//AdxttzH23forpXqBrZNlVnlw9e6HNFR1G91kPrB+S5oW0nwCoyiuAINIQkYYTzyjaUGAmgEFomNQFcF3+fDmEfschzwdQKGzI2bswmARcEI9lmeEtycRpgxWxyqIlJB44pIYPINmagKjaYS3wx0S3Ki2h86M2/ax25lsAsNK7TTv7ja4IIGLXQsCgMwfdP9TKneI5JaRBZlXV82KqtyCuAN3/k7JGtTMg1/zuCnV9FEDrBiBIoS6Nmxuni7Z6u+qdEw89xKPyZTSqd20BsEmh3apbCzNATLd0lK4XbeYx4T6fWLbRc1dl+q336MykNQ9Iy3VWu8upTTVpZ3l7Dkp7Rxo45cWCzT3WsbmHrpudv2Qmf1cTF67YxIfF050eelXb/o0ITPK3sH8N0LtEAJRQDDWEdiZhBJ9WOujH5lHtxveqcbtxr+7Xwbq1pTE0+ZmSHf6YnIQ/etE2tctj8eFn7fAnWnYYH1gK7dffax/+3+61U1+6aHcc+JCpt+XzquJ+r5blvB1NLMaONamFrQsIYbxoCP2rScsHh+MAUgS0qACdOAiMLXwo4cxBumtkaSwDa+OWEPB3xUcamsiHFOgCT86Y/bXcBxZ9pXyc4kvbiA9A9M2m+CUff9RX5OvwXQLTetwPF3KySQn30OWhIEIggQKy6FBRP3cEnLbk+N81o1QXFfFxpSiCYIboccle1kcm5EDWmkAnzAh5TjxRH4JG5rQDsMAqQkcy2JpkWZAje7FlXsDz0WF3QHxoEXQCuG2nZUblGP7I/LLdNXtVbgPW7VJt2j5x8bi1L1a142fyO1o/KHD1uHaOrMiHmn50mHmubAgclS9LfJABAq5IG6u5JtU+NNo0vo8IACxoEwD8v3mdeqQKyCI5kIu+wGwTAA8w0EXT++BmgvNKm9evvN+DfkT7MH8IYO3DmzIUadgDwx64xXqAgZlj0LAX2kF5Duk+Kz2w7dbnJw3xY5HmhQlD9hjENLQiz6NXy/JletFkFSSTo5gkyvLkfNwTg6BpQaeh3rjuvKyaiOXDNt45Hl0sAu9wTpl18fDZWZKRpaveLg2rqA5X30cutK1SjatgsuATeCbempzzhRZzAHYnovi0JqdHqit2sCxtK3kbPlZass+vPm2vl5mMZvSJALn/k/J/wS6EJc1AMfvgzAQX57tMbPma6wsN1ccXfp/cw8P7OtdoT08q8MVD+lXYhdPqw9eE4pfdJtgl5FvsQoLSva9URUZPGvQRDddIkSWFi3CGPh+6CiizRzO8brhGfGI5AsuELsS6ZfXUPEE+LqI4KetW6o3kCjScM5pQbZAxog9Z2TnQZAkvwAXCBMEGYbcX2kH4DWk+az3gGicCqvCpBIA0dnHVRuRYvDMrR9B3TAn0kZmWNFIIBWmXAFZVLyUPKOZY9QPyrzOr95bMu9hRcOqJgk3I8Tl8eFG4iRtAGECUwKyRzaqcvgsI0kJ+VH58OtJacZ5X5ExdTs395SLQZrMkmkn5nVJZtKYA2Irym9UWsFJckWYKDtjPq8zVNeuMl+3GneO2eJ8AkBPyRaWFeRsNrUtFp4M/vqoOfrJuJ/5gxUaW17QDmzSTXjFv1+QYvXZKZnsyxeZ36u9nAWuAFi0BAHVpftWOjtvYyGEH19C4Kp9btLI0nQiTArXmtYsgYBOyYjKIBpprTs3OeD3L987a4sulRXObkAwFdtabfVzO7p+Us/tl6QbJTHCkLpAJ7TX5qiJsYjq4rjzsLj1BfP29ncRL1xbt2KdH7ViSm9IoTzTcrUyDBj70PRpcyW1zoGpdYBU7DC60J+W0fdau6eMH/q9WWmO20tRHD2knOagksIYdCAGo0ECiX9iJ0AGkqG5nnaaTzJjTTn1IESfffS76S0/yKR52DiSfsQlNZLSDCdQD2IWGVlFnmg49oJprZ0l29wGlPOGI7pydcm05onc5dQ3PDv609IxhJu8mdRqH2wfUx8cSza+CgKkpmSTOVGs2Ka0mxskb9TFbWtNujPIlxUce/FEhC6AcshB8x0U5QydgMukaZusC/VakZZeQqMGqa0bjrxOpfdL8GluS5peeRzoEDUc04zA9hHZTuxBeWpm3SyPzylcfS+6KANHpa3p+BS4DBBelsbXemrJH1yreX2ixHZxcs+OTN9y9AD4zKxr3q5o3MAdYl0rVEyuH7Klr87ZxXXMHNMZUFyBasssxdas6+lnzENrp4kqr8KaC+i970PoxgPYWDJ/TAFZRL9KCvnDsFApSG+0XUJXcLbzs7c/slu15jz5we1+a0S+SI8Y+YeKPZ/pQaEJ+Lfyie5NeenMK+/bO9tT5B/Ur6xPYQaVfaB/t/8NsnUm+WOzEqyAkvl8o/N/RdiI7ELdeKd3kPuHKq3fvO4rf3udFMH8g2RFmt6o++Rv37Zbteatv0o4p/cKC3sp9wuTTu7+41t6QqHTvxmah2HMbrq4iNy7c1hXvFTn5jc/1Su5Km0AHfZdwx9s18eoTHnzP/btSMJHcc+BV0f91scV2L7RbpW65q9/8zd/0HQbZepdw7tw5O378uCY8SSevr6/bz//8z9v3fM/33HJt21Hg8JNK77HmMTuGdA7Z9exse4XAB57xMxPq2ImzaDPegSZXJp+f1RtnZIkJkzgrsI0rcvIgbyBQvdvKpW0J7PkgnjUvXOgcN5uJtAdPTBcBYuy8lRbAnIhTRu8TZgj8XogYesAgpXU0URzRjLTDzFyBBQGBL9Z1LYrqMt/giziLCnaIWtvUIq0jx+6+572TKh+zDjm11fkJmQI8UDtjj60f1Vd0+ViRCci12oSt1CvJ13M1uqmv05hwdDSJZXLv5oJMaF0m8USE0Dl+LbnIE82Oz5PoyOvym5WI1/0fujgl5R8nxdfb7l2cGa7hQQjnJLb9vqfpfgrti9NyleWiWZ/E6b3YxCyz69DoVMaYR0bT7yLmwXXU3oxf4L/L737Haigb8dyRLmTshTaUuQXPnwvjyOyT+PWRGVMj0XzqjMnPVHHCWlMyIZNvKObUUspxDavyFbO5x2WudPZGArYIUG+Lrl2VxotrceHfai3RnsKUTaBO4+SULb2s7DsVsgAvq+jM0x079iH5MdJOZ+yGtnasYldeJw2gt93m75LKdWktySdUZTHRyMJM8OAnN3QkDxGaSAUcxWO6B1gkrS3MCatXSrY+qvmn3uvj8tM1cQGNMvme0rZvzQlpqpyUedXrD+r6oLensmh28FMyB/xTgRmsyfQuHpWp44gOf7HrfTsCAITmE+/xdDDY1K6BJtPALJCHOR/LAswBtetiZ0L5ArQoN/Xkik1JK8t5QYvMAFbSjMqAJuYmaFvp3U89I/DBNDOds2Au6KaZcRnGjhjgQmzMGDmkwTVy6rit3DOr3eXkw0vi1LRD34GXX7NTanhNN4MxZUWaV2jrYjYIoMW4UdPugwA5HLxufCc/idURyMG4EcCsAEDRLUEjKvSJjy+KhHNIj890Rcj3awFUgFP+LnKeklkvOGToFUY0gLNS28hegioqHvDMugV+BMZ6KiHoxBjI+N+Rv6uGgKela5OKJLRofhXxRyV/W0FTLIBX9AXaaKvr0kQUWAXI5CzRqhII6lpjkcBhXEcmbfConTaVqWtvI+JQZyZjykMgG0Aqux00Dui406tI6mHsxt+XgCw5HZAjefnAWh6z54pzXgaQ0F0S6GMY2mncw6a0shrykwVIi6N73BcAVnHQPto0Lof+k3JbwA6NhKauH/WrPf6jTRyDhEHpBuH1ItKoC4dh2APDHhj2wLAHnk8PMG5HY3dfVnuh7ctsHxO8853vtIsXL9rhw4ddyvvuu893FLzjjjs8vrKyYu9617tuaQArAQ3Sm5CfCIQJVDgPcK8coIj5hLLhHOdxHdJ1Zj5G2On5CvkJFYTZVVQmShR/5xXV08XDSbfoc9Et5tFVVl6Mt0puye6kIUPncEl6VlbXSXqay0mHd02GdKVpKQkNcXA6mecm2lq67jBBTdPa+sLbYMHBxFXlVjdk1iGzgAuVGZ9cTpWO2FMTh+xjVZkWyIywyW5RArUw9wDgAui6XJ+2Z1YP2LVVLT7Tr+WAVRxMkH3uzsSXL9GAVgT6WXlZX4c0GuSNIkFBHeA0SSz5H/LhQUoKnGR0eR4iyfJ0HfcpxUOIafL1DlYm5RTkC4x3O7NgjPN7lO2SC9quAt1tc1Y9eHSl58p7Xq80z9jlX76fd6p3Fxa0bVv7+tDvkv2SyfpcGEcAlThcywnfQ3q3uI8fvTAwBRR8Ya2relUJnCFekpNxB2sEnqAlBNgzKrAFAAhgycEfABQAHf2uiisNgVFyDo1pmF4/7PCHpldxReCTQBzAp3Gh9gX8I8kZuv/G9TtoyKlfXeAYwZ9NntEU7Ocjf3mlLMfoklUgGGaK7Mg3/eyoNK5UWH/FGiaEklfO3t200OWjnMAc+fvCXKp8QxqqVzascEMfkgGqJK/79OIlzOGV68xXhfCDB8wC5EplSYi2/uOYe0TvWTRanAcvXvoCX1aAUAFEoT4F+siD0vFdFcKIgCucd2dykEG/KnRtLgO/WJYAeI0LmHrtnK3+7yv2K695r32+dk/c2GzIRyKbfVQEXGns0BiyojEELZ0NgVYAWDV9OAnmgIAf4t4VguZV0kXJeAVBAHq4dgAJsXzcSdtHRi6ErogHAwduoKNu8djEb1QE8Hj9SnKSdEDI+HhiUn+X4BpX/fbRGB93uVCAf1qP04dk3b+W0nEwTznXkpbSAn6k2noWgtmjA0JpmYxv2txR1ZmYp+osgAitsBbmjThH1xictVnl/eMP4jgvADg9C71eyLSXx4bxO227LmS2iD+xhmtPOVCm/uJjVT3tN/i6tpqc0RNG0CTTnAOTTsSlPdeuT9klHN/zzCl0NvorEThh7t9expJeTcyx25fRIYC1L2/LUKhhDwx74JbqAcajZEwaTOy90A7GcV9SZV/aUuny8X0p9B6FknZ45q+gqygzkvQ+hzlOz4nCC/EsUBchPfeqBxkCWUKs+C51B5mzQiltLw2gwCcrEyqIz9tky0sTE9/ENex07CiDZvoOYAVhs4Zt1bU5ooljmJSLF3P25ZFJ06Zf3lksMD9ROq2FmjqDyTh94sdWW/BhgUNWP6f59Jk+sia0sNKE1sUgP4QtFiFlW1sy0QNFqD/Ede6iCfzDOdDFdeXzAk2eV5Sev9yxzyGkrrSOLtlyTJxHLBf5KrdbGUi8yC5tgGZbiOuhbL688vNtcjkCXVw+MA95abzX7ySQ7njuJcuOxMrI1bkb6a2clx838vFbuW1B9uXbS9qFUCYd6bMVnj80NWRN5iZOOHYmHW0pk0P1clWqJAqNq+M2+WTBZp9qCdhqy5eQQPX7x239mHzxTKcADYAOY5WiHOwINyK/PUX5B8KxO4BX+dKKlc8rk4V7VU7U75i263dJs+QYGiNaoEvLhd3e8LcFkMZOafiBKkh7BgAMkGe0Lo2ZRQFUemluyqaMXf6uvloaOqe0uJdD7dpC2WYeLtqhBzesfFY2WYA+rOwBhTgTxAc/V2hROXDk724anuRtSqtq+a4pu36PzAFPSBBlYQ4488SmjnUrCJRrHJ5QftmW75T2y7wAKf2At3xtyVxMoMjms+N26ONyBv+g5Fha9qq7QCiXZUsmJ0hQiERexAGokubc/8/em0BZklV1vzvzjnlzzsrKmqu7mh5oaKBBBkEEfLg+B+SJi+VTPxVk+YnoEnW5nqg8UJe6PsRZ1KXA+1RUeDgu3xPXQxFwQPmgmbvpme7qrrkq5+nON9/vvyNOZNzIm1Pja6q676mKjIhz9tlnnx3nRpz4x977JLKKSACi6GJauSjaX4/aD3z8jW6BVZ/s2MgNS/ZfTt5rz6icAcAq4j44bvONYVtqsoodF1nWV7L+reOqJzBE4IYHVxe46dZNqI7nSLB0UrN5gB2BO+VitDqg3AdlpaQV8tyiCpoArIg+qFuDSvlRnnhSRjsqR/VR0g0w3IxpVzIk9x+pSPWp50l1AHPk8jfAuHEwcaHoMdaGLmNphJtsfZxFTvC7rB8mzhourNK72hwAvAkBzTVeB/U8pVhtgfNZHTe/apmG9PxlTOdY2KBAgH+51Sq1AYdk5dYRSARIpuElfYqFxPcwA1wury8QzTNVGHWBoyhRpIDwXiAQjJUSC6weqDADSophqdhcIcbXIJZiRVwgK2wKQ1BD7ysEaG+uEqBd1mHIWlhlBVEsEuWGqGZlBbaOl9HRE3N2qLJis9URO7c2YflLgMJLcX/4PT2mJPm17SXtlW4vvB5Hmj6A9Tgqu99UXwN9DTxBNcADIDzb99TDa/SBsae+PdmI4jlOz27H17lrbGQmSj5NyY6HaO7Sk+V2mfH804vTx2n6tByi2Y4uXWcvk6A0n3Qb4pMuc77qW7q/e+lrTLOFlzNM/cnyypy7bDET35HhoJZYQBvlRcfK0vkGk1cBV16uY4FXTMx9AiwifV3VHFN9okIyQfbzuJydp9BvJs7hMKoX3z9cgM17SSRvqJzhkcnWaU96L4iJY33EzUT0cV5M0bXrkrGrZA8noXLYUyW0q9ou617YIF+WNs3HWagP2mhrWx3s1FYPHWTbTNrZjk/MI8iWjKvt6HvlB/l7lfXKS+m2V3E/79rRwPP/6+dsAGuduxcO2YUHD9rwaQAqArHXh3nJvbluX3PLl+wlk/e7lecD1UP2xcUjdnllxIGNgZl1W9fqgLfzoqz7EejSIKujKo5OiU3gRaNGbCjAKl9pjftVcwS+BI6nUQAo3vip1vEYWegM1ELRGkSj31RxEb78D/cqhU7RVju4YUsvaNipo7N2ZGTBYzbdc/mQ1U+PWvkyYATtKD5XWyvBAUzU9EUAYGPp6U2CnmvluaMwojlACl9dUPdRzvMAEkXwJAWzHwTsaFYAdA6yEaC9PQwoAhiQX2EFu0UWobuL11hkbBBBZfbZG3bl5fQRy642wbIHFzccqMtdxL0S8K92uG1Dx1fsKVNRqImHhqbsYmWMwPQzWIpFVuIaMclvGNaNUdqfQP6KhEMNy3krXyEmEu6VigcmHVUPQzPD6nOsdKfKbjGFziM3dbJquIZiXOarMcKmPEvcqAcn7d+WXmAfrz3f71mK2aW+euwu9N/EbbQ+BvAHfz1/VHeENmU1l8MV01MA9jiR6+j6IVaWvH7Qlg8pkD16kl6xNCIMUwxeSs/wAs8TAKl+CuxpjgD0EANKz7oc9MXlSP+5enyDYZcA8hzLak6yiofuk1psIFfFkqgGEMpxcySPHICHNyDXTN314IZwutYxrwquqXJhza/hxgng5wsUAE61AadkhaixWB/HEm1aICyyMd6UPAg6+lTS+FJAdAGpWs1SMubBCmVdKH25XFpEAGvF3BJuqFgatqdGbP7pgJ+30vcjyAaQWX6kaAe+SAyu+1jVkwULNkaGrD7NNoU1IhZz0n8bcLnDuNIiCjofGEUAxoWNoAT01sGyscpqjVVcQZMB5J3lVHHpNB60kiP6L2g1Ta63+tmcy9uFIrHZKsNWJ+B74WzRRk8T22sOXYIgtmQx+FiS9My2p7RXuj0xe/yI+gDW46frfkt9DfQ18ETVgB4A+3kI7If2iaqzHv366Ec/al/3dV/Xo8Tsne98p/3gD/5gz7KvZKYmgWHCKznCpMHzKNst9aTrVa/HmFFbSdu96oS8uG4Xi1CmfVdBSuJAk8raljam2dOLe8y3S/ZsW2mZsvRpecIxykj4KS/LL8uDc6fnnSqpJ2CJyamfS7k6Flgl0Ap6BVst4MJQJmCrYnHoq7XcPHzJcU1QIWsT56LDBNtX0FI18v0lLd67aORrQhvGipc7rQpoM9px4Kf+J6F1grgzm8XOK0UelSgjm5mqmvQ7S5Pi64epOjrvkiVLu8fzpO2d6NUuWyJecpCqFPLifXTtonqhYlbePbedaibwSmel+e6JZ7pyr2P1IfSnV3k2bz+02br986tKA/9+7gYbJKbT+tKQA0YKeK4XdAEluc+V7LP3P80+k3+a35+aI1HA9sIwbnkAVHJDGhmq2zDxchRHR9Y6stxRQGvdn+TqJmuYNuCRLFJ0T2pw3hI4dowfGGiV8gQCOBBAu7oPCnxqYsHVGeIeyGDP4ypYIXD8EOBDvoYlzPSgLQwXrHC8bdcPzVmzzMp/xaqdmZzwANy6P+o+OVyIYvrkQT4ur4/aucsTNnCxjCUKbat5Wc0AXjQrEo42J4mbfiI61rkBAJRH63Z4dM0X1lgGcDt3dgpgghf+1ciapYFFz8Z0w26//owdHVq2ZWJIXVhnhUBcuaUHWcsMXMYV8t8n7PwsaBfsc4BDJeJ01wHGqsggkGr60LI9c/q8HR9i9ULSKnwUy1CrzMmiKZ0U20jBuhWoe4QLVqB/Vxqj9j8vXGdLD03a0CWhfoBgrK7XOVqz6YNLVik07RLA49KjYzb8aM5KS/QdIKNBqN76Aa7RCMonDWLllmf1RoEdskBqAeKtC9QZLQJ+FB1AbIxxTmD/lvRGUx0BJWViLmEtpNX72oAq7oqKO9ogoJ90qYDlTh93RSBXnrZkHSSd6J6m9vz640qqJGBI+V7OABpgbAq8knuog5RDgHhHsfQaF8gTjaEi/TrycZ6XqwIyBSbhqkp8N8U2U+qUIvp14q5hbOagmPjlV+UeS4P0pwRwOnwRizP0I4CrNjloq8fZHwWgZaXADqtgjnyJ4P13Ew/uzAoyE1j9umFivWE1eJRxiyyF5YJVzhdthBUE5d6qfow9UreJByU7NKWcLV8H8PnsQTv/ymHcAIesM1uysQcHPc7cyHwNAJNQAjdg1XgSXR8EgWJRgcrpgp34UNuG78F6jzhzrRPTLF4AgPiU6DczCLBWxMpR1oi6ht5nEBeN8/oE/eFa1g5wjY7X7GnHL9qxyiIAcNkePTxpszcP23wVpTDeOlpF9ANR/X39ja/XnuqI9hpMfQDrGrxofZH7Guhr4CrTwH4eFhL9Gn1gPBat/8M//IONj0cLTHSIN/HhD3/Y7rrrLme1uMgn1FT6xm/8RvvRH/1R++///b9jqh19cpudnbXXve519rGPfeyqBLB8gh1PBtUVn+PqPFzjsA/9VFmKPmQn+yy9CrapI9JkTp3lmeaTLUsaiw92Kw/0e6XbhT6ROaHLgE/Kz7YVn2+pG2gpT7osWp37Ps5NzlNlDlhRHtPrS6riaQzwUqg8BVctu1sAL4bMfId4+ThYXrWZ8oq/sOhL+zLRlfWyJJcPvSwuNYZsYX3I1oifpS/wcrXQCkzuasC5C0k9j38VzeVdUL0IhJcECb55rA5GIvqBdyfpqWclf9QVFWWLU+denlSID1xR2czN82ydhF1ysEnb82gnOuk+pJ3oRJOmjetkZVP2lu7sxtcrxQzTu3R76eOYfks7yg900btrmtvux5JzL7IGTvuhDXWu0f1+niPXYhebvBQP5nglY0C3sIjBgMTdogQ2NKebNjGzYjMjqwApxNlbGrUqboOGC9yGwAYsllo8Smu8+MvaRjGs5J6kF+QErICfhqR+Lxq3HayiCkcJyD625gCTVkmdKK7bQVZcHcnXbaFZsTuunLSLpw+wkiHgD/enBhYna8+r2tTBBRsv1nB5wk3v0oQ99MmTdmb5OrdOqU9zzzy6Zscml7hndmy9WbQLK6NWwwKsA6imGECloaaVbmblP+6zWjlO98o21icmVyuNaT4YDLACYZ6PBTnuybJMaT00YsuX4INVlmJnFY9sWO1pVZt4qdrZwMKMe/DKkH327lP2OcCaDe7jOUCO0eGaTYzgVghNYQYLrNtx8ZIJEamMKdIwChumvwq6rfhTC42KncWN60vL08hesPmlYetcAWzDKkmpiTVQfqZqh6eWPdD27DqrLl4cx/0y7yCQAKLasaaduPWS3f7is74C3XxzGDANSy+tqlcdYkVadPSUeRu8UZ0F1MDdrLY8ZBvzJStgkSPAyF3nABRdH6hlECujoXnAsssK0M9FjpOuZ/D18/sRQI/AHiVZVwkYIy68u9bp45KsiKQ/uaYq+XOHMeQqgZes/kbP1q10eo7V+GQGxzxsDEu/yWEs6aI5mWKZDTYAg1gJUm03D1SwGCsx1tAPY1eAmCzoCsu4NF4EvQGsqR4HtDtFcH+um6zh3LK5wHOf66RBKTe78uU8Af9zxHgjjyTLu8aorNHoD7IXsag7dAdueg8tsIIlC2LJKmqcWJPjrFR4ZCSy4qItrYwpQE56UH+GLzSsdHbRV/XcGBvGbQ+A9foyFlbIAV8lWUaVHubioYM8a6bJ+s8tpACvhPpOPNgA0IpoN7hAHeYC0uXSsw8hP13EWm3sEWjuBVxDP+0K1lgHccOdIUg/rpLSs8CssdN8ALuCNVjstjtQY5EFfvtn2+O4uk5Y5zbA3afivnkI3cJX1nuPKfm42GNN0V6DqQ9gXYMXrS9yXwN9DVxdGtAkwicSexRrP7R7ZHnVkr32ta/tki1rRZUET4VKFlivec1r7EMf+pC9733vs4cffti+//u/32655RYP/t7F6Go50VxREw3tlcJex5lx4TQxvYq3TekJRcwv4R8qhUEUF4TTUBwmZuFc+zTNdvzS+T3p0/1LMw/HmfI0PyeJ+590MdCzD7TpdlXH85UZ00bnFHSdUx5PRv16KL6FNtFo49iDs8fglALC6mVK1gvhuELskNESlgy438ha4EBpzW4YmrXrirNWxjThYG7Znlao2WSOmXoqXW6vEZQXdwc+W3+pedA+t3adPbh2kGW2Wc6bl7ZVXuLW67yEAWa51RZuC7LaUmwQjz0ioEtfyLUhcqIIP44aCpZcocx1pHKleK8XH5UH/SV6c6JUWainfD/ezJCqkhSyw56CwDuh0UGqvCs/fbINTeDnsqbpOY762CVRhmL/TYf2tsicbqaXrOnylBSSu4tnXLdXf1LVeh6KT8KrJ0V35n5ou2tee2f7eY5ce73jZX2pzEs0L8vcj+wAJi5HWGmOe9SGFn9YIcj3/ZO2XmOFM+4Vsn6Rt5r2So0xQjg9s2VD0+s2TBBpxd9ZXyu5hYpcyDx+1WTDjk4v2snRBcCajj2weNAuPnLA5r8wasu4XTVxiaqdaNj1J6/YzeOXo1XwsFzy+07UDIAEvADnz51m0++BTS+RGvKNcQ1eZCJuUO3CsD14mXtkTOODOr43tynfIIC7YX3VEg5DNbzdTGGNZImqe3hd1kiHyR+t2TCrsjXLdauNFqx6glVguUd2uH8OrAIYnS7b0hflsgVoN4yuiC01MI6LHTrMARKVAMC0qlsZcE5JHxyqLUAUYk7peJV7suIUaQU5g6c/LwBUFIw7BDFXFwRYbRzi+cFJhY8a4inAq8VDVljRIFZPzTGsnWQ0I2tdWM2uDNunN064Ndzl2TErPFKy4XPwAojSipK1KcAZ5JXrnlvgohfFcfJ7AHrQKpEj5wisf6GOi1zLLXYU2F5xxdpYvbWLPG+mAEmwgmsCUCnJfU6ATVFWaVg9CaiSC6I2lw25BLC1abMjOdGBYprJFTPnLne6/wDkAbw0xg9hiQU4EyeP6RUfbwygL/od5hgCigrrxB97iGtAGwqsrwD/nRIyHouEE03lEteEGFAbKNJBOq6lj2HkkEvdIC5+eSyOBI5J2UUs+hTsv1UWU1mjdZC1AfgTD3zaGahxvbG8GiDOl9MwrsosJiALJ9iiL/TDtandftDdYiVXaaFlhz8GgLgMUkUMM7kV1g4O0WeuYQovkgunLmYHnQtEazkQSDMCo+YA+s4xvs6tOxgledWWtg5bbr1lY3ev2fgdXBQstBASgGrMGgeHbRUrMelJoGEOqzOtPKr+65pKvrEvAbqdjQSRFd3ZcBH2sfdxxCXeS7pWnyNc8X7qa6Cvgb4G+hroa+A/XwOyuNpPetGLXuRA1Rve8AZ7znOeg/VKx37xF3/RVylMA1374fn/N61Pkpgo9UyaQKULAl1XZpogcxzTq42ulJ5x6BiCHWniyltouphGJ4G1aH2Cqj1byO/qUFzmLyqqnu0X5T7RjVhHf5WXTXFe3BXahVEvOuolfaB88xh6JoRd9VQ/bGpPxwKxNCelIV/mmq/7WgFIX+cdzALQktWAXvC8POm0GDCBZuY6ouXhM2kmN2x8aPV0G2DXxOC6jfM2scSbitxPLtdHba4wbFW+6EtFVV4MFVzXQSwyFIjXA/I6gMW1FJGO43Mx5tXAXYH0NTg6993mH2W7hReUEYmXdXfBuXSrVnpRiuskVXVAmRfrTygP9KqTTknFdObmcbcccT51kmu4SRodpfiFultoQwE1VJacpgmTzJit90XEm/RbyJ0mK1Dv84S95E3J3Ju6n/tYNLDf58hjaeMrXkePSo0f7kmyUJrEakjAy3KtbHO4pemFPwSqlnuXLIH8ZZux2paLH25juocIvFKAacX2cUAInnIT6ywW7czatJ0pTDkQ4/GZuB9WjwMGqG3dF6F95PwBe/QipilxGhhr4LamHwTFWIoMVLGiAhTTS/wGFjSKbzVAEG5Zqyp1FOdKbfu9iwyBTVjXKAC8+qBnilwGa8RpkhWOJ7GPmohOsb4qg9CVCUiu1e5yyClrrQ0AKa0ipya4ZcIvcntUJfGVC+DkxJrpQ4Tn+V/cEbnvKrX4mNBSfX7w+nBQxyqsRdwiBQ73OIYCPfTsgVz3f9How0IHnXp/yGuhZyW5ahbiG0eeAN6N0RZlCKEEi+pi2arLiiaOnIo9Bh9ZKEUgl2SnGdzrOrhiil7XVlZAAnSkWwX6zhG/STfzCIxBQbqxU+ZjgUjr5XmCilfpDy52uqhyxRNoVZvUfEB9YUN0F1NyUF1tyPpXPNWuXEa1F510qsDlAlHkRqgYUt6m+pROqMtlEnpHEl0B97wc4JPc8jzRvlKsIi4CgJSukfL538Z1rzGqFS7RgfRNe4pdpTLwIk8CjtRXl4McgXIC0gTkeZD/PIIU8ozDCDiSrKLJVXFXlKsiddusoLmRA5Bz8Ek6AeRTAxJTq1Gi0MHFNRuCvoT1m3jLrbA1TJB2NsW8UvsYJjpAqPoCnoqrfPxa54D2/BoRyF/AYgvQTbpxueXuiUXfIAsc6Fo0AWEb47hOAoaJj9MQ60zglY51HQT+FdYB6mhPqYU1Vz/11gCXpp/6GuhroK+Bvga+LA3w4NHDZ89pP7R7ZvrEILz//vvtU5/6lB0/ftzOnz9v9913n62v82V5WEsvXX1JEw+ffOwkmiZk213zeLK2W/V0uU8C0xm9juMJZK+iJK+XTLE8vuOPJqBxllfTJDidkglqOjMcp4h3pEvotxxEGbEcXYJ0kTIhlJCxoNExgoZ6otUxL0zCeHSsfZOXFWL9ch7RuuuKLLL0YkWewK1S8ZQNaVUnXlgUv+T4MFYMQ/M2nqs6oDXKfiq3amP4eDB9tzPNGbunetTOVSd8KXRZYc1XK7aCm4xeLCWoXsLcpdBf8iQMMiCQWztETft4CeeURueUJeMIPq7e1PxWXelKot8phbZSPJw8yyjQ7cDLdR6XJ5c9lZnkZXnsJGNGji08/GLCUPJl+Sbn25cEkizFlnZiwlR3QtX/3L10sZM+sq3thzZbt39+VWlAoIIDCwwyBV8fIW7UcAFLLNJKpcSLPvcOrZJKUqDrDbYBgSkMXo+3h6tRY3kYi08nMW5XFMT3CMbJIJYpeYFPEbbjgbEbuCmNHFp1Kyfdn9ZnK1a4VMJFLbLYqeNyN3p82W46cMVjWZ1fHbfzc7g6zZV4MYeGeD65saZNTazaZLnqFkkrdWJGwatBzCl3ocbiyFil0IEZQApfIW6MdqfWbWyo5r/bAhG+5danvZJW31ttFOMV9CJrKQeuuG+Kp3AcJYFNAjmUZFlUIk7W9RPzWM6uuzvgfL1iipcl4Eq4fwJgiQ+60UqEBrinzQE5+GnVvBIxDrWanyxm11dLNrCe89Xu1E5rBNCF54OssPThQwCbnhNtrLA6spDSPQlAbJA60pHfm2i7A9hXJ7aX31t0XfyeD3BFrCTd/+X6GQUjj8AMnQv0aA1Ld8qLN4FKfNhTEPX8Ck8cVqkb0AqOWBJp5cWV44wVrLvkpqckoMQ/7tCMUpivqL/h3Fe6JI6VZJUrnNoWUOQrS4pIQJjqCxTzPaR6lIm3sgFgPFD67AoAJ2NWoNIwlm1jZcZpNGa1OmVupUm5OgYQOI3V0xSufwTnx8PSgbUSK++Jr1z3JKeurZ8LbCMpvwNQpNU6fSVSWTWVWQlwiPhkgE66yA76Sf4YWNIAaw1FAfHbWL5J3wOO1g2ziifImfopdz4sufIrWEupnbEKICvuufRPgKB0pZhveQLVK0i9rqGuhwLNNycBKUltwMtWhQ09+ph0mohO9NKbeGmcyvVQ5xEfNRj1z4FAjMJkzeYB/ZFt47ECWLS552eJaK/B9KQGsOaeC/I6FP+Ke1w8X/qyR346awMf653SPWewg90lha8qO5Edfv/Wr75Z+jPfyq92l/RrL/2jHSne+Nnv2rFchfPt2F51B8qxL0U/yB1IWJFh9+E38rGd+/3iN9yxUxNe9vGB5+1K01TAvF3Se172f+5CYfZjv/HDO9KEh8pORCMX9WTbJX2aO/EuSQ+F3ZKCHO6U2piu75ZG3ZZ8Z6rVvJbs2DmdWcEOfpf0sv/1MztSfOr3nr1juQq//00f2JGmutqyn/ofO5JsKfQH0T4eAqJ/MqW5uTk7cIBoqaQzZ87Yu9/9blZsqdorX/lKe8lLXpKo4pd/+Zft537u5+z1r3+9/eqv/qo9+OCD9r3f+732zGc+0/7sz/7MXvjCFya0V82BbnXhdpe9ruT7hE/CpunSwlNny3hI84l5J3zSdbc7DvKky9OykL+lTdH2qJemkwwuRzoz3QbHiZzile5HoAtthL3ys3ShHZUFOuXpPKSQr/NAL7ni/EjOqEwk/mWdCWlipSU60WsSHu8HsSLIscmtUC8mRV5MtCS5gCt9kR8nQPFMacVOla7YwfyylQdYAju3YidwGRgZjCayZwsPOaB1T/6YrfC2ttwq29nchF0aJG4Nlld6cdJy6E3i3YTl0N2VkEC72gcF+sus5FKnqeOHfsw5yb9E6zwNVOpcKezVx3DsBZBnyr2Yub/4Jyl9HGcm1zUh2jxQ3a76FEX6TzFKHSY1ReQCJTlb+GyW9OIZVe5qu1c7aSbhOLQb6MOe8p36Gqpv2Qd+Wwr2ntFLjzvV7ur3ToRPkLK9Pkeuxe4OszreIJZXqwsVa9w1bpcvTPiLrAJ1t64jEPqpFTs5GQUWV1ypZWI+yYpTwE4dK60yMZgqF3nJ5gW4jgXO8o1tO3LzZbtt6gJATM7OEdD8/PIYroWACkwxBdKXudfpPqf7koNmM2vWYdU33aN0vxsFSBOQc3FtzM+Vd4L4V3msp5RkrVrB3bpCLKkSCBV3TVsplWyljPURrnpKI8W6HSGo+nRp1SqY/yxghvTQ6rSdQ5aF1QpWqLh4Mf8eWMk7SCTgQqsQlnBrkztcCaAmuMK1mNNqDq1QYQ2CyzeO48o3ApCEnKOAX3I3XGtG8QgFXF1ZGrHGIgCU4ggBTgn0yxH4vogl1wANgQ/gEwh+AGgl4EmA4DBui9MjuH4R46sGkHY5R+wmyFp5gR0cwKdVy9tsC6s49NHho4Ss0nJrg+aeitwHZLUjK7NWHJDdP0TQr+SDhECT1LmDSYBE2juQ6YKJXmASWgXEoCmYUg8LJz+OaUAWAXlolPPixRWbJnaVycWO8zYBwReeNkZgcQWJpx78tYpfHrdBAZmyJFIQ/BIxp0pLjAXAGXdRxFRKoM8GFkjRfTy+J9KM5C4CnJUv1Qnqz2BzKyZkoz3JyxcfaxOXavnmUVu8CRdCVn4UQDd0oYyLIdfpkXUC1PNBaK1hE1/URl1VB5hqjjOmJ7BQwipLui7g1lhcxLoPdzzxdosyrK3qh3gHdVnkdsjzeokA+oBQnWLeVm5klcFbAcauY2xgGbeB5eHwmZyNPopVE3KrX4pLtXALH5TGGHeAl5ULAzZ5P+6Ap5eJ69W0FlZbK8cVtF1WU4CFgF7luUHijzEu4SHZ/FpGokey8t5QeYSRcmUBN1vcCsu8u04C9k6OAELSDvoZZPXIwXVAPFwK3VJNHgpcqw3a1I9ygN9NZ2rUY4q1KtK9gC46+hiSxoiPkz3U3SvdHlg9riS7IwiPqzj9xvoa6Gugr4FrVAM8MPqpWwN33nmng1QCrW666SZ7//vfbwrUvra2xgfDQfvN3/xN+6u/+it71ate5RV/+7d/2/72b//WvumbvsnPb7vtNvvkJz9pb37zm+1lL3uZ1evRF+nuVr7CZ7ru4dr3mGukJweBLEiclGULRJDhJdo9v1iLX6a+T7qy7aTPY/rd2nCZY6KENulI6Fm8F890G8oO52GflTNUpdz5Bzr22blcKPK+iY9P+CIGermQDoKMvB5wrK+n7BMhINCk2xmTK8so5s4tVYr75Hxgqa/temFbAZCaVzAMUmWQeFkDDTu4UbPwWYcpqdPJ3VBxs6oDBX/5i8SjjSAQdMxpI32EvGRPfq8kUVVHyetGwNbmuXfZT3f8I2EyKbBN+KfLs/RBjiCvaDMVM6dpbtsee50gSA8qL08PgiytK3nzmotFF880ffp4u7bi/KSbaT1k62fPe/DcU9Z/Fp89NXZtEO33OXJt9KpbyjVWHxxsEAcLUGnjxqbVb227hahcmycB0ougIwKuZBW0Ani1tk7gc9zf3HIT8FvB2tePcD8AuxBQMfoQcX/uOmSfbRzCagUPrhniP50ggPQBLEcBpRRIfIR4fwJqirkIpDp7gZX9zhSJv4QVCUDR8smW3XLzOXv5zL0OPp3DhOj+1Rk7hyWWVvaTbOVCyQF+3RubAGVa9W+FvugDtd9riSd139AhK5QUkJ2YT8jfBqhXQHfd/5R3cGbZbrx51q6vAL6QHq1O2X3zMza7SAB1ufcBGikulWi16qLcFDuASAPErmrOs8IgfGr8SFm0L7kNCUDq4FKYGwEAmZQZmO63Aue4v8vFkuMWvOXel1+PXSIHiR02V7RHiqOAQqkfIu3LtdOTbij6D/CmHC34MThJG1irST7xj1w4kTv+IOFWWQAlvqdc4McG5+4aJyaSC/KwAWU4qCZLng6AjcInCMBRcHB3dfQHRyRO5JKn5wDPFnjga+nHEiQ3v2oH/mfVDnxKOuTBBmAyQJwpxWQSaDIA2LT2jKN2+bm4tj2VlSIrdVudHbaR+6OV/UpXsCoGfFk5AaBzApdLVkkUgDV0uQAYxUcbQCOBUQFkCRZZkSudrI2QSbG29FCUaMR7ys2vuZVW88QBm31WxRZvhSfx2TprBRs+nbfJ+9o2cS/+c94fdAywJRfBDjpQLLD8Feovr9mG4kpNE4z9GQds7raK1Y8w8GmnTBD4iQcAyv6Jj04ARgNtAqZjXSVgysE29DNWKbPaIzHiilIYqiHm1qBo4thahbk1O0Cg/Km7aVvAonRPP2U95jTIssGKoe1hrAOx/nIa5G1NVmwAqzPNKcLKhSs30CyLMGjlwuGHh+zg5/kg9sULBGevW+fkTAQwnhJQpuvHmAVk1aqbA9wHlDr0wT7oh/v/o7H1BE59AOsJfHH7XetroK+Bx0kDPgnZR1tP8AdL0MSb3vQme8YznmHvfe977U//9E/tW77lW+wVr3iFW2CJ5o1vfKPJ6ioAWHpRmZ6eDtV9r9UIZY2luldl6vHSvFc5mbdGE+70izGVld+VsuddhfFJlma3MSb6TJ2t7W5l4jSJ4LGsgU+aPH0c5A10Ok8fc7ql7VCnB63qOnvxiPl4fUcrorzoPFWulxDVCzTiq8S83i+C8wLgolwBfLVXcHfFXinxdd9dCLE2GCUK7zTWVzOscS4A6zixrqb5Sh/SyTyuERtzhMbA/aRTsiu5MavyNihXQqbXHn8lgGIDCuSOWALNNEF3mdUxDjY0f5VsEptNVhMOtMUvA1G+ADHylajjdF4/ygq6ic8iXk6b5EQHaT3G9cWrK2XPVZgictnjCqnsTRZpgs3crUfx9UwXdFVNM4/7nKbVcZrEB0pW9h5tZHl4m5l6enlT6pInyor+7oFvmnzLsdrLtLmFJp2xH9q43u/93u/5/fTixYv2rGc9y37nd37Hnv/856e5dh3/5V/+pb31rW+106dP+0eIt7/97fbN3/zNCY1ceWQ1K6tarSr7NV/zNfb7v//7ThuI5ufn/V7/d3/3d/7h4tWvfrXpY8XIyObvJtD22u/3OdKLx9WeNwAYJDBEIEdzHVBGpkYcCzhZBbwRgDPIfcgBIF72c8sEuMZSSWCIgnK3AFEGrqtjXcTLOLxkOTVcbLhrnt/L+FHkyY9gF4H0WD4BIq1gsdQBOFOaPrhsNSxgZNUlMOb64XU7Vlkijl/Zt3tXDtmdZ4/Zxrkhjwckd8D5A00bO7Bmk5Wq3yOPjC3bU6ZmAcWiF/BV+MsaSgHT2wKv6FJbLn0cuOUpQNACK/19vla0ewszft+NgKYBxgfAE0NkDasxu1iy0oVBt8oSsNNgYWMBKu1R2kFHg1hPlSu4XRLEXq6IsipbJkC7vAg6uCP6vV9gCta1oud2GwVqxwWyowD0JP+4gD4D0OSZXpAc+T3ZA7zHzwjRtgHT2quxhZZIdd+mjeRGpPsGdLKuxqh4MQAAQABJREFU8t83534vUZ7IVEciRGJEGSLVc4G+uqzcdPxYLnmqI1BFwEud6y6/UeepP1QUWJVOikulTc+YEnKW9SyiChZLbQKkC/SUntYAQnNLOYKcY5U1h4XVlWUAp0GbulICVEKPMeDj91faV8BygThKUR5tkLRK4vSneC7+B6APFlobuBTWTk7Yws0lu/T8GQdUS/Oyemrb4Y8AWs5FloUMOq4JsmtTP3DJVN4GoJPOO4BOteNjxPiaitzxGBZVLAabWOMJ5Ix0LKAM8G6ZOFiARI3jk1hkMQZvxCJtHBB1KW/j9w/Y9GdXrXDvGY+l1bzhsM1+1aStHaMNgE9ZqJVncROd47kPLwVZLyhO1TofUAWEkQRk5ddrgE6xrJ7pV9LLcys1O3QpbzOfxtIaPfn4yzHWAOOqt0aeWbJ4G3uYlTQB3Nzl0WvyRw/1+MHeajfsTMjfz15jSdte0l7p9sLrcaTpA1iPo7L7TfU10NfAE1MDPgnZx0PAH/ZPTFV09eqOO+6wj3zkI+4CqJeld73rXfbDP/zD/hIjQgFYX/3VX53UyYJXSQEHL33pS9OnV91xz2uaHROb85tN+bM0lHTxoo6ThLo96J1ZJt95hDzxUP3AQxWiuWbSlso1Z+yiIdPriZ7UJVdckGYZUcVthZN0xSAPeWm+TpKmz2bQSEKvBuHjsoofm3Yuh2eqclSeuAsqg5cFJ+KLqid1hnllAgyRrRcqBfn1FxTKW3FA5Cogql4CV7A2EBB1oTbGUvO8LOXq9tShC3Z7+VG7Djcapt92kXeJh1oH7GJrwuqYPsxirbXYIJg7K4xV4acXULn+NIkR4zFYJL9kUzwWveAokecvO7pGdNz1rk5qI/m5DjwvqpOl2UIX0yd0Ot9Lkixxuwl5cjGSnK00m0XJ0RY+SUnqINsWRV4vUU18EPJVtUcdZYf8rj6rekwfupGWK+R5/W3+JPTpdmO+e6m/DVvvZ8J7O6JU/n5oVe3P//zP7Sd+4ifsD/7gD+wFL3iB/dZv/ZZ9wzd8g8cZnJmZSXGODv/jP/7Dvuu7vsve9ra3+QcErQyrjw2f+cxnTNaxSr/yK79i73jHO+w973mPnTp1ysEu8bz77rutjEuM0nd/93fbhQsXfHXZZrNpr3vd69xNXPz2kvb7HNkLz6uNJn8W6yv01QKM2iBGVHFcYBTgBBc5LDKhYOZy4ysewHoK17wyL8RKik11+cqYdc5WrIm7U7sM6AWw1D6AS1kFN684aeW96EaJlRAg0hoWXXVWb2tz/xG41ARQl3WS7lFqdxZ65V+qRSEgBESVhxpWPSo36Oh3qL+yuNKmVV6LWFqNVlg9EPBMsioI/dLKkINyHm+KWFAFgKYJgq0rtqBkkjWXNq0IKBCprRUGF/K4j0WubhgK4V5Gn54C0qIlC+ErQE+B4+UGGZKC2K+sR2NOVl5+X6W9jRhM0/0+3NtdD/r9sjlwJSZSj2IgCpyKmfpPHJkcTwi0tJNYYOmaCDRE5wIhdb9Wnxyc031dx7TrLoziCQ9ZVImfdOzlytaziDdyfbjQM8mtscKzSvUAjHJyJdTGsc79WPGbYsshkQn0cVDFT/gj2pDUKAHF3X2N44EaH2TubtjIQ7i2A2YhKgnLprjd1iFQwrgdub4JlJFFVO3IiC1fz2qOhyLARxZ7o2ewejq9brkFxluQW7GwiFelVD63bEcekZvi5vVCAZGsuNp50rme4dRXO/XDI+7KVyVOlqwIXXd6JsZJKzqOnNuwmc/we1mSW570gvue9tInbnyFBdz+78BK+rPoBb4Drbq78Q0CPhnurpIhP4ulGkDgxAM0gjum6AQ0uQWcrOAA0FoVxvdMNLY0dyouEzNL1mSL2P2hy86hKcbnGPIq+DsgGuG0KpeJZXcOIHAOKzBoPPA9gJzaULtKnqd+K+4X10Z6dtncrZA6ncfmdaChpW0vaa90e+H1eNL0AazHU9v9tvoa6GvgiakBPSj2+LBwBeyH9hrWmL68Hz4cfW3S13YFYp+cJJJpnHS8siLD/2s4aUIVT6p6TQSiSWHcP677rjRBFZrfxONKHxfTqYtnumC7Y+onPMQrmjvFE9aoUpyVlAVW8TwrOs3IEWiy+4SXCvykK6eL3Pui4jSJ2km3FcrCXhzS5TqnLOIVFUQ6IjNdJz7uKgt54qFJL4ryFw5OtW9oBSPlc+FW2F8pjNsDRSwFOJZFxD+Wn2pTWCrIFUdJcVNqxH+p+YshgXV5KaxqtSs2D7Ys8XixUeyNAFj5tWEMBQsfdUTHPlZCP9lnz9Ve13iKOqbsPaeu+qqVai9hktZhTLOlXkIcHwQ+2fzdztNt9eDRNR4Dryxd9jzQaZ8qS5pKDjL6DPVSdULWln1ME1jJjWvfSTz20lZgvB9a6vzGb/yG/cAP/IADSGIhIOvv//7v7Q//8A/tp3/6pwPXZC8rKbl8/+RP/qTnaUXYD33oQ/a7v/u7XlfWVwLB3vKWt9i3fuu3Os2f/Mmf2KFDh9wV/Du/8zvtnnvusQ9+8IMmEOq5z32u08jqS1Zcv/Zrv2ZHjx5N2tvu4MnwHGkOA4QIvHL3oeiBIkAmDyg0Wq7bTGXFRgnqLgsqAUOKOaXVUpXKuABqxcI5gk/LfU0vdvqdrONqeAbLJyWBJQ7MxD9cgVSKP9WWFSjlAnsclNF9ScAL7TawwmoTlDpPO3kCJgmkGQKob4zIchSwHx4NgDBf2Y9j8RFfgUhLgFFK4uuAGICTBBOApPNVXCDXsbpSH/3eqKDn8UqFOclC3QYrLSrJKqY9hhsloF65hMsaeVrBVWBbrRr1TzdCWZ5FfUR85M+hF61cGJK7HkpORHHQij543EH1V0x1I0ZOv8fEetK92OlFExJlvpqtzkWn/07nDwrhGRH/uFy0AqcCmKQ2geaYNrCXZY/kQUwHTqQj7h1aYTJyKdxsN6onpnGCr8fAwvUxmYMorpIECElgUgCx4punA1wxjcAvB8Dicy+TBVRs9eS83IIL8El7rLRKuG2OAuwUVgE7tWc1vqErAFxLctcDcKEdWV15MHeOBd4o1tPAWtVd51yheVxAAZDkxuhtAnS1JoYIQF+0JsHQw/M8Txys0TNxf9hJ3fGw90DnpcWmFeaIq7UKuCbga7hMYHUCyCt+F+duPUV8qtxqvDKhZEEfbtWVj2MJA/oN4p7olmzSkeQXkCXrqlh/Ag09qL3qs3ngd7lj0o8AuEWAV7hu7HXpUNlAfE3kUuvXKYwl8QnlkApEbB1ABwBhLSzjlFpN5hV/7Yf7+4OYPqb3Uku012BC8/3U10BfA30N9DXw5WjAH6r7eAiI/smS9LUxnbLn6bJr8bjr2ve4rnu51l00QV1pXuljlNRFH5QW6oVz9j6BStMHPtpDLz7b0ohPoNexUo82ttBsR+cMtv4RyyBDKE36F9qP203TJTShUrLvJeTWNhLy9IGqZsZrutjbZ17pIJfT4sLAi8bZwQk7E803o2ujSWmQnb0mqbyXJkJ4WZomNBLq6DzVZ6dXWao84R/qbrNP60wkCa9t6Ldk91JnSo4t9CEjK7/y91Iv1A/7dPt7qZ+mDzzS++14pOttR5Pms8txeMnahayrWNdmr9dVFfdD22g07NOf/rT9zM/8TNKm4hB+/dd/vX384x9P8tIHypfFVjrJukpxCpUefvhhkyuieIQ0Pj7u1l2qKwBL+4mJiQS8Ep3o1fYnPvEJ+7Zv+7ZQdcd99rmRPd+x8jVQWD62CoDVska94BZILWIxdZrErap0rHqw4MDReKGGO3PLpgprdrw4b1P5VSuCdjRAOtYP4F6FmQowE+/nWFORB+RAXCqsPTmewyzkfHXclrAGldXV2UuTNnRP2Q4Sc0iBsrWKWmOMlQxHZcHFyzv3s3axaAvlEZsDQNK5ABUFKN+QVRNgzyDyyd1KG8aoPh6LDfIx4pFxmO49NVy81k4QQPvomlVw75OlVXWZQPLLMPIlYMEANO79/kgd2mlOtW36+KLdfvCcHSyueEysz186amvnsATD3dBlA0zrDAEBleklQNswKxDeiOviU0cv2TjmLw+uz9gnLpy01UfHrLCERZnaQB66kCQFNEeVWMsAJMjyicJ2if5jmKNjJbnX+QqKAqSpTwx6j1ekmGMe34ls9TPcMvRhQu2V5sFvCJCujyKrJ6h666q95LoH7XBp2e6Yv87uveuETd01YMOY7AqwWTk54BZmwwTSlyXXMm6THQKQ51ew60UGWeQq8LrkdF3RpoNcGA11AOskm/Si9vyez7noWGeEQPAipkyJQ6dVucTjWinwv9zuRKNrL/dMgYcCDnWNC8tRUP3CGn2mnlY5rB7CQnkKF0EBkx4ovWxjjxI/bRmXQWTQSnttgsF7QHvAoMY4dQ7Cl2DyG6ojWbVYii4+Y0nAZgGwscT11uIpwtxW0EFzsQz4xPWTdTJ5SuqCklYB7JT5MDQ0YgOsGiiQNgImVaoLyjgGcBsAyM2tY0FFs7kqQdsvbWAZxQrD84BaWD0poPzAEnG3VlcBNJEJUG1wmFUIiZW1IYspuUpW+G0RZN77xBhZOUbA+FMwPEoMOeQeH67a0yZP2+2jZ3yBl7uqx+3/OX2bLXxxwirnAcoku/Si3w8spUfFmVPsq9YwOvEfgWggZDxHFxkaxcB6DACWj/dYX9LGTkm012JClf3U10BfA30N9DXwZWlAD4D9PAT2Q/tlCfaVr/x93/d9WGozIyTVajV7wxve4JZYOr8qg7JLsP2k7LUPs6sUD59Qps6zh7tOIHrwDDwS3qIJdJnx5TTkJcXhIOypmvAJjLXP8PGiVJ00aXJMeZZXtn/Z8qRufNCrWS9KtS0eXXyyjWSYOq3qZ3gk5zE/D94beOtlwCeUETMvA4nKEW/Fv/brxYmXMsV/0QqFSloFawlXm3Ve1IKVQ5Nl5BV0OArqiwiajOsrPPNU6ViiJy6DZLmIQQnxvqt7IU/1lboUEWWFv131RKq6gXcgSu2z9Kmi7sMdeHQT7ihelrT7PNuGXnpcOSmyLI2KAo3K2Lr6FMpSLPwwzQeatEq76sf1kvEU+KTrk+cvk6Fsr/tY3r2Sh+u4vLzcVUX323DPDQWzs7PEHmq7dVTI017WUvfee286KzkWOKXydNK58pXCfjearHtiHquFqamppH6a/3bHT/TnSOtLo+5C6JadAojYFARbqTU3ZA/MHbP7B44ylhmcgCSDgBJaRU5JQIbABllv+dhnl6sSzwiARgCE/wYEfLB5HcrHAS3KC9zLCKztdXSvEx8AkbBatsa9gKkcbomiaasM4AYvaxLABiap48Tvmbxr0QbOXgJEIMj8dTO2fEOFoPFYOsUv6pVzHF8YlXOar9Q3gVGJYgsJ5JLsiqXVHI6AI7WT4365cvmA/UuelYvVNHJLBjwPHUySCoKFzAZLEuq8XirbF8rj9tmhUw4UaBX5wgoAEeALoQr9HuC/WYkeEvWUWpX4gGPROEgkfdH/5FhuaSQ8I3FXE50rAYJIb6GvSR1ZVMVv2JXzHF8atU8MPtvpfYXww4BU/8u6dYaxHKLRDSzZCg0symSpi4VOhwD9Wv0ugFdBjhzth+cGqoOx/kTy+30qElOZ0X1Pl9ethhIyZA/0AFTIqWs8SCR88e3UuS60W0RvsigKSeOiDgilvcCr0g3L9rzD522C597dC4cJfI9VMh2W22fQiepHYBbPxWMdO3DLnH3d0QcAXtfsoeq0fX72mF26NM4KlDBlPA8ssJDBHNUB/uRlN8yYEJjWHGFso24BeHkAqBzjR3ILaKxPAtYy7gcFhiGsGzspwH4MeA3wOyjN5qwMoKgx5wpjt85KhOszgFRU8jFfOuB7MVE7opWLovQuUHf1evp847LdcGDOrQ4vXDxog6eHrPLxiutu6cCYfeS6Kfvi8cM2M7xqV9ZZzICA+EMxSCu+/jsVgKWN8/oUlo0n1+y5R8/b0aElX53zzgeP28i9RV9RVFZfbUINnA0XYT/7uKt7qpIaM3uiv0qI4p/XVSJNX4y+Bvoa6GvgWtTAfh4W6t9jeGBcjcF3//mf/9lXEtRKgXqJ0kqDcjdRzBOl1772tb4Pf77ne74nHCb717zmNcnxtXigidWeX1aZtPRKmsx0pfT4yJaJsFdemkGvcvLSbJ08m5Gtlz1Pt8HxFrlVHupoH/PvSZem1XGcElqfjYfc3vuENl2cat/L0+eiS5/rOLTDsb+E8CXUQSuVCbziXLFdRJfjy3G53LQRXHrksqNgwYeGWN5+aN5mihGIsMBa7+drEzZXZ4l4GCrOzAJff1eJn9WOV7+Sq45eQn2SLREc0NI+EsfVpj90IIiXBZ4knlxbvNwLyQjJGUQnqcNQmuyjupttqCDLKiHudeBCxAW9GlK50k5lEUVCE/obsrfs98IrVFL7bNv2Kc0ryJquGx8n4yxNk64rOpVl8+L6e96p/n54xLQnTpzoakJB1X/+53++K+9aPnkyPEcq53kxx2rFrWr04i/wh9uEQAW9UEfWN9ybeLOv81Jfn2bVvyne4rlHDS4UbORRVjkDKCms4/YHH4EN9QlZU8VXnrEifu69xDG3KathBSfgSPedFq6CLDLogdG1ep8n6BQk3sckxwLNZMFSJLC35JKMC08bsNnnjPPyP0aGADPJqr0ajH4wAXART1mdtOS5Fd/bnERNCI2JyP3+630XC2XrPheAFvZKbtkD7uHufdTTPVTtSj7xEfgjoKm0JCACvZEnQEXgXGgraTsAOgAGLj9teP/Ql/Qn3bRHYEBSvltkiSbuovPh2CniPJl6deR+pjqAX9KH6ilJDtVVvLDxIVb6w61xsYrFFcK1ZdKLzgdqAJD0QZuDWOKvNvWMQAYpxvWCzH5OlpfF5eE+6rKp0Th5fnxDFHCzfAog8xmL9orrvmhHUNi/Lz7FPnHnjTZxZ96tlNydTt1gC7yGwa87d43ZA4NjPqZqxKiyGxt29BWP2A2jc3axOmpfOHPcCg8M2RDWTgLIJu5Fh/dO2z8Zi/RAXmVVzMZTq/a1T33Anj5ywc7Upuxfz91gKw+OW/kKLn3qK5sCyg9djoRXneotNXvODY/azSOX3TLvk49cZ6UHKjb0BeJUSs/Uia4heol1NEjcrUhvGyxSkLPFp7KS4q2L9pzDZ62Oy/9dVw7b2kPjVmGRALcexIpQ4JUs87RSZIFvU+UFfpt3jtlFFmWR7g+Qn/NrqosBP4C3sUeweiwetPO5gw56DVzHfOF5c24ZqNiZ95w9bKV7hqADOAaI3HiY8fX5EXs4f7M9xFjTuByXBSBjbvV4pPQ2QOxjSsjoP569VBbtNZie1ADW0Jk8X1K3V8GzX3n3rpd0nVgXO6XP3n1qp2Ive+93/O6uNN819YZdaUosf7tb+rMrL9qRZOr9PNV2SfO37P6DqnGP2jUNxQ/JHQir09tfH1X7t/M37FA7KvqJ/+MvdqV555tevSvNG+/84V1pSt90ZUea6qd3V8xz/+und+Shwn/6v5+3K83GM3ePLVT70s6rAPnyu7u05F+TdqHpWpJ4G9rSnG7YO6cP/wNfsHZIz3v9PTuURkW//pFv3pGmU+XJZf+2I0220B+U+3gIhMlFls9251dr8N3/IMjvM5/5TPupn/op/1L/gQ98wARIyY1Eqwb+0R/90XZdeuLkR/OMqD8ch0le6OB+r7XXE88wnjI/i4R/Oj+mVVs9y4Mw6b3qBB5hr/L0cZAh1EuXxXlJe4Emve9BHyEuKTnT9OFY9dh25S2aUEf7dHsqEwAV54lX9OIS5ylfeeEC6VxAlWKgsJc7Qo6vunJrkEuDLK6GWNnr6MiSnRhasMnCui8tf0v5vD2rOMtqhNG99NHWqt3ZmLYH6odtnU/Ect15uHjALvCCt048GgX4VfwWX2qdly7/+i5Ai5cvj3ESOq2OBeRFIutFUi9y0Xw56je0QXyooY83P0m6HuXHeb4THSnaRRP9KCf+G5d35YUTyrzNIKf0FlIQJpSFfPahqPuCqSAmivfpphM2qhz6KoI0Uagfs+kq62YdKLr3qfpJe90UfpbIH8pS9UJWGsj2sRYK9rhXG1va2aFuoD1z5oyNjfFiFaes9ZWytUBGDneYS5cuBTLf6zzEKewq4ET5O9GHeqI5cuRIUl3nt99+u5+L5vLl+A00pmi1WpaOa5VU3ObgyfAcKc9ijYElSROwpAHwpHmVu3ABGnHbAZiJgBi9UE88QMyrS8T9WWCOB4DRwfpj/cSIrR0m3t5BYgsxtc7xEj50JXoBF+jVrHCLGePeI28mbjeafQvECj/AAqy0KtzYAys2eGXR4xc1j7Ay24khqx4QoMbGmPcxrrEfj39ZxCjWUJLCGE7vw31LeQ7mSD6ABo7Fs0MAa1nTuMWPWOm3ngZmVJ9+y3pM+XIdE/CmvmgFRiUBV6VZQAdcAgViaM7pFjoAeTXkD/cF/81EVfx54C5deqWBRCCYgm/7ynMAcd5HaAWIJPUlC3JI9iRP/GKeHEX1lKW+kEKbfi5RaE8uY0U+ggwXGh5Qv0bMqAYXWqszCsByKyyuoUCmAfTrYFXgJxnUPPtBPoRwFLXDuZLT8uxwS6u4PfVFlkQrN7bt1K0X7CUHH3TX0o9dfoo9+sAh+7t/f7H3XawmdY3Y6uNSjBhGu9AfXS8BkZJNeQKaxr9QtMufPmlX2iddNhbF9KDzfi2gUZ0WwIxcC9X/At97CncM2ec+fZt9zm7zOrq+WlRS11hyqB8OZKlfnAsMKy6V7YHP3Wz35W72OnqN1PVQ0hjFGS86jsekj1eOBQyrH6IpATY1PzVpHy9MOg9ZdI0x/t2VlLbUL+lKweN1H1f/5GYpF8ocFmpK6k+d8ad92qLNC/kj99EDnwOA/OSknW2BDNP2NLSyqhTv9LUJv6kmU4jqyaZdd/0Vu2Xiki/e0GBFxwd+PXDd+17jw8fdHqrslW4PrB5Xkp3RgcdVlH5jfQ30NdDXwDWqAT3Toufa3jqwH1o4Xq3Bd9/85jd39ffHfuzH7B//8R/tb/7mbxzA6ip8gp5ogiOT8J6J6xwmfVvKmdCElKbpNZlIl4c6vs8Qp4fVljqp9rp46CRdMRQGevZdvEJ+XC8jwiZtoEvzVp74qW4o13EmRRM6qFI0W2QQH5UHAXQcz7cdlNKxygIPdwUErBFIpSLOtVS8QKoQ4FirYmn1rDKBirXk/BgxZ46Ul7CuWiFoctNOFObta1l1cCaX/dCz+SHgJEDWSX2+rZy2pU7VzvPidcfwSfvM2vU2Wx+xBjNpLS2vVQkV6F0AlgK9N1iZUEGJPYYH8rllgToocdn7i038ciP5PTHZdmBLJ04XZYeL4KqJuhuVU9yV5/WCguIyz+NPqKfzVBJ1hKtBIJrN6pvHEDjQluKROtykEy/qh0vY1YdUm34IURePuDypG+jFMJMSkDLkQxPqJeQhI0UTDrVP2hZdUimiSKqKKCGMyvb1d7/147YEXqUBrF5tFnHv+qqv+ir78Ic/7CsJiqaDv43Of+RHfqRXFXvhC1/o5T/+4z+elCuIu/KVTp065SCXeATASpa4im31Qz/0Q04j2sXFRY+/pfaVtDKt2tZKiP0UaaDJS62/3DN88+vcmwBSlGQ9VLkCYHVRK7yteXDs5uFRW3j6GMDMRPSCzQt8sPBRXQcwlAcI4cOVcaIXd1kfaZVD3SflVhfFr+KYe5TGbX1i0K58FS5dG5h4kXQf9nsxZQKetFJaB6ApWDEJ2NHLf2EFwEMgj+roeahNAIL+CwyhLLKAifipXADdBhZgAitkoSNLqVyDGxptCVSSFVkEDsAUPpIDLzuOOSHJ+qUMEOH3H+qoDy4P+eq/fqLiG8VtkiDwDbKJj6oCTAggES//3TpNBLAkfJHd9RNV2fxLFSXpN+pbpGvx8ftB2IsmBuMcmPFaAI2yrIJwhMD8jUHOMYZY51nUZlNg+0jXgD66V+k6ik8M1gSruK7zWBZn77KpBsmPo0Nd9/LFnJ1dPGbvLRzzTLdy4uOJgzZhHhPr2AnifqitwEu00aZCyUV9dJ24tapNFcmSjGuhlIwl7wgZenZpjAJkuouj09Bvro27HiJL9SBj7mTVrpuZ9xhw55fHbPE8FlrnWaUSoDLIwxFM4nP24uHnyqLPAjzTeRoXekQraZx438H/Fa9N9Ipv1p5sWGWyamXmBGvVkq1drNjw2RwWYZIPl8ij0J2q2fWH5zwu3ZnFCVs/PQaNXFcjvbj1XhyQPmpt86/abajNI8Sgm1m34aE6cwxWVCxg4c0Ko1dqI75YQ7OOgh5Liq/BnqqK9hpMYbheg6L3Re5roK+BvgauEg3s52EhkffxwLjWgu8uLS3ZrbfeepVcmMdBjPS11yRqt9SDxie8qXqa3GxJWaItBDtkpPmlj0OVkJcel3FelyyBLtRjr/IgmtOKJk0XH6dZe3nID7SBiXiTl/CKz7XrliXFkUmnW3mmLK6iNqARfzYBVloiXaCVBNZqVTrOC8QCrNIS9SOluk2W1v2losDMe6q4ZteXZ+1YYcHKRMO9qTAHeLUJVkmm7ZLAq1liDs13iAfDW58vYQ+xVhDTpqR9O+6UXma0KflfXiKYTvNPHVA/1AkOY5pI8ZSoz55NoQ79NMrzuqqmU9Vl7yUhj6woU4UcRTsnjf54dlwpOhZ45e83gWdM0kUPH70IePIGA1HvvdoN3eriI/JYJq/Zg1eQOSmHUcLLM7f+kc6yrHark5THDabbTeRPy7q12d1zJFRWsJ1q7YcWPgrILnc8rQb4/Oc/31cQXFtbS1YllPXssWPH7G1ve5u3qg8SL33pS+3Xf/3X7RWveIW9//3vt0996lP2rne9y8sVSF3g1i/90i+5+/ipU6fsrW99q68s+KpXvcpp9CzQSoZa/VCrHjabTQfMFOB9LysQOpMnwR+BL240wjXdHGvkAcwIDGqNcg8p8srGcbMSvbrJGkS/MwesBBREtzYfQ+IR8nVfkcWTrKXI9ToO9vASH2IfeZvxePLxDC+BZ2rDAR5qtgj07pZPxIzSS7wDEIA/HpdJAAdJQcOjMbz94EzuDSKlP7I0a7AfwPos6buYxbqI+sJJfO5FuudTJ/wOBdYFAEt0AixachmUhUwMWHl9+iXQSsn1I3BIuqOO0qDf4DiNf8vehrcVlYvWgcG4TiSbeEXyOQ/xpI0EsIp5h75JTgV7V4xEPRcUdF97NR2TRo3pHur3KoSJCyRX4DtAvwQeufxRjYQu0IfssJcM+fW4c8oUa21BR2TpPH3fdf4acpIhpu0Qo01jQOf6KKRrOoiuReO6JzB5e4SPQwTZlzXZwFrOigtRXDKNmzYApgLFt8Y5UVB3rJBzaypX7DZ4wK+DtVKxQLB1rbJJwLSDwwC4R7AiGytbneDsElS8PbakXw8snmIessST3LLC80DpyKK4cgOAdXmCwiswfQCxBGDpI2RHgdSlcyX4V1dLVi8Qy1JtoZ/6JPJqgQOOm5OsvDjUsAJmY/rYpU1WddKJgFcl9UFbokvY+xiI9ai29CzSXIShTJ/yNs8iBW1igg340sfwco8QZ7e/P2pD217SXun2wutxpNHw66e+Bvoa6Gugr4EvQwM+idnHQyBMZJ5owXf/4i/+wpdLf+c73/llaPPaqqpJkn+dlNjRvGXnDmTHSa86vfJ2Yt6D3kGGnSXZsdQnsdkuhYGbrRkT60Up1HOSlFw7yeN1tiOIeWTVlgA6sSzBXTBpX/XYknO9CHDeZO9JE0sdyyKLfAFcC4Vhu1gcY2VsYmbQlwpfX79QOkZciqoVmahOl1btGZWzdnv5UTukt7Y4ae6spA/5X2pO2mer1/sqWGvEvVDsi9nqsC2zElKTCapeUrR0fTsJNEvjYiDrKglIubbwlT06J76LaDyffa9EXb88cf2EBJaeVFcHvXioTkiBPpxrn+VJ1nZDwaslSvezPf/pxTOwSsoysoby0Eiig5CR3av/2bzM+RYeVMi2E4ZRumqWJl22l2O1m/RzDxX2Qyt23/Ed32FXrlyxn/3Zn/UA6rKa+uAHP5gEan/00Ud5mdIPI0ovetGL7H3ve5+95S1vMVnbKsahViC87bbbAom96U1vMoFgr3/9693S6sUvfrHzLJfxF4rTe9/7XgetXv7ylzv/V7/61faOd7wjFPf3aEDWQQ5IxM+TAIjoBbg+xgqBo1GIEI0xWajIhctfkLlv6uU7vCir3MeR7hcCDrjhyF0p0OhZ5RvlqqNV9/wZprEnKyYHXjimXABWaaHFSnjRva41wupsxAxSAPMBXvpDEkjgCR4OIkEeQC/1y+XV2ybt+W9EP0BtSuwFCjiIAK2S88BKRm6QAZTzGFcAQ+R4HfGUJZj2SgoIj6GNJ+lOIILAtiaxq6QrVXS3RWQLFmfeb3QE267fXfI7hp90JFBCQJaSA4qATw5CSbfK9PoijvioDra08T2d8phP6LMDPxRrRca52rC7EOr5UKviYl6TwrgmgCaDAI6yaorkhI3AGo0P6nrDcXsSwc/ZBVrP059I7OhU9Fx/l13jg+SAi+uRk0CL/C4z596W2ozpVUdtMQLIi56pkTxxZXYCJNsAU1OHl+zY2LIHPX/4ygHiew0T5D26DnJfbU1j1Xxizg4PL9tyo2yPzE1Z/VLFV3F0vROLrUK8ybFizUbzfFwiYPz1xNgKqcXgWmlp0RRW1mRc1jHRuzI/xsqbrFyo4OnI6QAWYJNWd1TsSi2usjJH4wxgXVOXXQzpn+KNKXkcrHrOOktcC3Thl54bvtxVtWKgL2U52rQSLp+ymG4BRGoTKBmNfxomJeNIJ9KLLME0luLfq4OGEhPCNte2xgqkndkSsbiw9FqEh+QHyDqj+vtM6lfSt13q7pVuFzaPe7FuKf3U10BfA30N9DXw5WhAzytte00x7RMp+O5HP/pR/5L/7ne/257+9KfvVRPXPp3mPNG8p6svXZOXdEkP2i31e9Gkeew21qi/bftpPvucufTkKVkzfLalC21LvnDcax/6H++dn9oI+dRJ2gg0mnQLVUjOOfaJeNySjgGrBFRJXnchxCIrzxde/wIKQiTAarxUIy5J3b+ozgBY3TB0hSXr52wYn5uDuRW7ja+4lUG9EWmL0kJ73VgN3erMSFc6Q7aC74Am1jXcQmp64YNMYimOliarHfayXhEI569AmiGLKHyCh0ZubwmIJSrJD01wMXSVex3ySf6i6uebk/JERxFJ3Aa7WEchO3MasqO9eKYT52pbom6bdiyMarn8aQbe53RG6hhitBFX3MwXjywf71uPDiV0cZnokjyxTPXHeaTOvcU0T8qy9b2OCNN0XnEff9Rmtt2dqu+HNuYjd8HtXAa1KEc2ffu3f7tp2y5pHP/CL/yCb9vRaMVBAWH9tIMG/P4VAQotITHcE3yM8b4s0CSy6GF4QKdV8xQvRy/UAu4dhCizL0Gs8ac6vPj6KnYxYCHXp5GzBJWebwFiYPE0nveVAmtT3I+wdHGASEHa5QomCyXGVrs8aHWAs1wTixB4CtAqLhK36WwTgKVtrbGSrZzAHfoY8mBNIxnLc8QYOk87c9AAcLQqOWIpAdgLpAJsUl/c7VABspvcD+mPQDTF/nJQjvGkeoqHFMAat+hRIHXowku/A2NuORP9CAJ4oEDuDuJQX/KW5wTKSU8ADcQsagnU8hhEqErqgs736d9S+liXLPWbVj82E21R363UpDfJrLqAZ21AHCW5bq4TfHztJJZER9ZtqNTwoO0lWV8BWpybJwA+yzo21wo2uIprnIAX5MpxLeTm6dZtnPs1FX/JjH4kk/QpMES6UFL7Pk60j58lSd9Cn6jn96p4PyBQhWsQQBXFaGqN0shoywaLbWsD5OTmCh5YvYibp/gpdd07yZOOg2Wa+HeI6dUpHLCzWkmSVNF4Rk61JbBSMaVG7i/a3JeO2NzAEa4LY/JI066/5aLdSvynIoOwgHK1lYLJHHyaMAnWzBdYzeDe2RlbOz1OXCsBSKxcKJdW4k/lWcxAMmoxgw1cNNcGK1YbZizzcerw0QU7ccui6fm+Bgp6x/mT1rwf979HZZVFJanX9eyiR7HDTsH7KYv21OnLAHJ5e2B22pa+NGl1VsvUNRKAOkFd1dfvyxN6UBKArN9ocypawbGlAGHMPcj2eUiDFYq1dQghoDxZjAmAlfztGFSLOO3jr0SIxdi11l7pdmX0+BL0AazHV9/91voa6Gugr4FEA0+U4Lv/8i//Yq985St9RcJrfVXB5OLs8UCTNZ8Q7kAfJnsJXTyx2bbKXiYUWR7b1VHjScOZFrfLF1kQOq6SkKrd0HZoM57Uen4oi+slu0AbZ3SRpU4SslSei4IAmzIwSYRPch4aCZVTdROZeNFz8Ep7GPpy9XIfZJMrX54VBYtsWllQ+zwzWMW9qvAWMTZY8z3fx219o2WVFHh1lqDtdzcm7UzzgNU2CnaOpbweWp+2S+ssG88X4SZbDcurBsth60XFASxeXDoK3C6rKyV9WZfsoUMch6/tXh6X+ctD3MdIJ14a/aGu5+ksTZM6jwg3L5+fO+9Q0nuf8A3FMf9wmuy3y08INg/U1S6+Ogn93ySLjtJ9y5ZlzrNsutpI0XblB7nDXpclvjSpKpuHKttO3MBjk7p/1NfArhpofMOSDRIHp4oVTnuxiBVKzq1vCqtgCWc2bOzBVctdWrSNctGqN0zZ/FOLgFAMQ7lFYfmRXwXwWCCAu8AEXqYFNoQV+BRPavXYoF16MYDOoZoVeInXyndaSELWoIq31xFQwWqGJVZbGwBcENjgweR5mW4TE0i/hwEBXMiXw1pIwI0AEwERChavFRAjcM1s6YZBm78VsyzqyJpFNAqQLaBH4IWCY68AJMlSRz95tSWXNLlgKeVYgc/jcxEHTKCEAywx+KFj/XbVT/EdjO+hzocytelACW+3dUAvv6U4KBbRa1U7yaIkWWT9JVDK21Bd6nl98VI7IqWt5H4Rtx3K/J4sUvWB+uLZADSpA1bIWmeD54sRabw80rDx4ap/GKnyPNB1FmglVzWBh/n1qM8eEyq0xz7cZwRshL77vQk5BJa4NRXXQcllQI7E0s1zyaeu6gj4XD/Kdbh+1U4cWHT3tybol55RTQFqEI4QA/JIZYmVdRdsFKTxkdoB++jpm6y1Ngr4CRva8nZcT5F+tXpl7fqG3XDysp0cWbDza+N2/0NHbPQeVsc8p05wLSa47pPEe5wkxhd1E716HxlXjJORu4u29q9H7Qsrh2mDMXJi0FZuatnBE8iCe79S5GqpDsEDJodG+V08c9mf4bLCeuTylA0+MhSvKKiLB3h2cYCVDNE1Vle6PovDI3Zl7KB1AH11beVSqHEvAE46VlIfQxI4N3qa8Xpu0u7N0VkS+JPhlejjULqtTW9Y84aaPePEeTs5PG+n1w7YXY8ctfL9ZdrmNwqtxh4RCTiWAqgDeLx2HCDrKPOLSt1azA9qxCps4rbYAohV6lTji+tn/T9pDaDFfuproK+Bvgb6GvhyNKCHcTLB2QOjQPtECL6rr/ZacfDtb3+7u5HsoftPbJJo3hH1MZo/db+Xp8vTxztpJebjJNSJJqSpTGVsx8uJqRkG3U7tZMpC1SQ720Y4D3sII9mSGtFBqjxTovn5puwxXVe7abnT5Uw03W0w1Ne5aEXjG8dyD4wnpAO8SChWh6ytNPEd5LzICoNl3AAEWhWwihrD+uogX2UnWGFQMS1OslzR08rn7Kb8KgBWzgr4DlQGcT9IJd7JbL49Ypea41hg5W2Zz/yyvNILYphsB6upVDX/0pr0E5n87Sd5W4n6wqskB6lacf+Vo+zk1E+YfJOTVldSUzoIfMI+FLquwkm8F02WLk2iOr3KE4HSxPFxir5LRikhZIR9tjo0ia4oC2TpvFBFZaE85KXpusokU7r/O8kfmO20T9dPH+9UJ1XWS/ZU8ZbDrr5sKe1nXEsa6HxywgZKvOzyohtAiQCOVA8Qj4eVBlkrzbskCxyBF2MP6VTWWAJMWDVumnhDrGQ4WMVKJYcFFuCPeMhCR0HhFcC7CRDR4H4j1zSBRGVAIIESCv5euYLL1jlWN1wS4pSz1iRWKwdLWKBwLwNQ0Mu/rKB8BTp46iVfgairBznmbVJylwA5xk5vWnq1iZvVIpC1xw7CCseBLwABj8MkqxzuTXLzivjGN4n4B+uuiUW6qN80/dCWMsYhg77Fb7EOQOkZEN/vRaeVFWWNI1dE5UsG6UqrEnoT5Ln1Enx0LisaxU5K6tA/rwPYpoDcSlqlUOUKDu+Ah8sAP+mD/sitUbGSck9ZtafNXOZjSMvdyNeaAI9YsumjRoPFO+RCrrhPinXk15k+Ko6jgBvJ6n2N1eG/c7WD/jekD0ezIn1L5wJYlKRb9cGDvpPlbpbSrVb+Qz7pq7iIJdoDI/bwIyNRe1NNO3p4wZ42ecmGcdO7f3nGPnb/jVZ6uOwrBYpvHnlUtw4AJX1XCTx+4NSCveDQI/6svGsJ0Onh43b+X4/b3OJxVbEJrpXAIYE0StJNUSsPAhaJl+TWao8OwiF/nRUyl24C4HnZnD195oxbXbUQWgBbC4UoVuQ9c4dt4b4pG7+fcQsYpATulSTpbRKQrgEvWSi6i6DGNtfMV5bkuA1YqNUQJYMDpvwWWmMMlhua6DZabXgYK7lDlVU7CpA3jEniI+tT9plHT1j+gQpgFFUBunw8ws+vHbzkrtoQEAmqO8RFkAWZj1to1FfRST5dB11HtR/GrhZo0SIujTrW2nMlG5olRhfAtZIs4B5L2s+z5Fp9jvQBrMcyMvp1+hroa6CvgbQG9CyNnqfp3O2P90MLl6s1+K7cBgVeKdiv4ppcvHjR+6wVr+Q28mRIWyYKmWsbz8UTVfiEJzlj2DCR0WRmSwp5GX6iU5sCK7IpTESybTpdNjMQp5lkaJwkReeiqNkeMgU2KXLvl7MU/VZxvUpXtvcLUmXGBUk/xThuV0WyGnArpUCneTFbUk/zPjUucIjdhs8esQDQF3EyBC55O5zpy6de6gRs5XkLaEKrIO5lZp7zhRFbHFxn2XlmomxLnWjKnKPyCi+S9zan7aH6jJ3lM7S+AC81y7ZITI4VrBQ06Vag3hYvKrK+UpuSaYMJ6wZWE4kFlvLVHy+X3NG26UIYztkriS6TXO+xftJ6CsdOHvQX6MjMsuq6fpk20jy6+GboIlm2yrgFWVK90GBWkAzPcBrI01VD2Xb7dJ2EJuggu3fGCVV0sAe9OWHgpZP0ccRl97+qs596+6HdvfU+xVdQA0Wt5MetRav8aYU+uVTpZVcvv0UCTheJiaMXcSW9+AowCuCLXPJkZbJxiQoKpMW40JhXAPNqDCAIyBegI9CKUl7o4etADIAXAIKAk8bIoK0/a5QX7FF/4VaQ6+KqwCjuffBrjLFanoNA8MZ6SkHhZX1VudIB7MA1kXtYfr1pueUaVlxUlqwTI1Y7TGDqIqAaMvtvEXa52A1ONHJbdHc4QA4lBZZX27LYkpWXQKSarHew4pHbpALFSyflWazMlvkwQbviLaDGwZoAFHDuYJXiZCG/A3rgCgLzQmwwbzC+VQmY8DhZ7JW8P7GVkx4fSpJH+lI/wi3LASTu6WpEQJ+sxpQEXil2YgdAQzGS9CHD91yXBgH5GzwX9BFGgci16uAGcg5w/V1WtYP7mK7/tknd4nL7CrUQSaao6ahDAtNaADlNxpKs3Tz5BRBxdLoB2Hnu0QN27jzzNcpypbZNTq3aoZMXfTGThXrFHr50wAbODAFORgBkaS5nC40p+/uzXBA9X7Gcy5W5/lhCdbDuq9WwIJodsjLjsbhEv9Bd7UDkIjg2vWZa7VcLp8jSWfrR8ToA3/rSqM2eG7d/un/KdT+omFL8JuQWquejZC7Aa/0wG8HclSf96Lpq8xR3U0Ck6JujZis38oHqYNVX+ssj72i80p8CwyuAvmJVrtRLHh9Lz+vLc2N2+b6Ddt88AeUZmwIGR+TOqfFIe/rtrR/it3WyaWMzqx4Lq7Neto2Fsn3+4zfZnY2bfDxujKGLp1et8xzFyuL3UyXu1lrecljbafC0h/l4NklogskVdN1gdWJcKovDVh0qo8OIplNVxx9Dkh5iXexae690uzJ6fAm4DP3U10BfA30N9DXwZWlgPw8LNbTPB8bVGnz3Pe95j62vr/uqVWHlKnVPK1fJMutJkcK13+aaMofaMXWVh5Owj2uGibJONan2fbq9mD7Q6TTMUyPqXn8zjQSSwJdi5yeUJybdpkao2XMfZEoKdxcsIQ0HzkNf67MCpM85drAr5Olcx2ovPtZkPx3svcYXb21Ow3xxnnhY5wrjVmCvbt9ZOmKfGLrepliZUF9WlcKKUTpu8AapILzza1gqEIBVk9QOX9i1apEDVME1kL3cRHwSTj0BU7qOiSqkc4TtPs+Uq0FSliadt0U/XqP7T1I/znbQrJskakMyKUmH2RTKsvnhfNvybmZZWUL1XfeBfze77mqBRrnp426q6KwXn3ReqB/21NJ7myftU7ThGuilZ99JvALfvVTeD+1e+PVpvmIa0Iu6An/7bYb7g2Ig6X6lcaQyHQcroOi+FovKGPDYQ9CFe4qALVlJuVVTDBoJsFJgaL2E63cnwEfAUGMEYu59ujfJUkkATiF2sRM/AUudYRFwjOWIAr0XcFfMCWyhXIDR2gzWXlNFPy+sF6y4UgLIkgkMdYpYz2C15eARoJVkF6Ah6xi/L3MMtu95HmxdDXHz7biVi3QQ1ZHbn+6bDvLQ1zwWUKUVYhjGsY6knxxAR0cxpPjvFmNaFQ5gKAB9EfDHuSxgIBIYEfosqzYPdi89y2IJHk6l+zRbAEg8/hT9ckALIukyssiRXjcML1AbvsR1/LeSzbWvp61BW74ubwu3dWz6hnmbGlp3i1/hd+vcRGSJpQ8bbWIgtbGac4ss8QeQcV0JEONcupQcyTOEc/VHanRZ0GGrIisp3BZHAJPwcduAN19mbBAwxIEX6ZlxISs9gU5i7FbJ6FjxGaOGAHzWiOHIpqTnWRvQZRAXTwGIfn+Cj55nOVlTKQs5FGy8WiKGk64X7apcIKcsk3Q9dO3korpSG7Nl3TxxqxyZqNrhsRWsnJpusVzAGromV1JtkDhfAD3XOe2Ip8DBEOdM4zYAveF66TopGLv6K1mVP1jlAxXgUmOVMcqKh8OjNSvlWw7QSaGy8GpxnfQBS5bTjQZ9prqPD66nxpaAsBqWhon1lHS2TszLs2MGLowC6B9t6hrpeuiaFZb5RbMhkifU5DK5DnWMXM1ckfiZ4x6bS+68nXV0zYqNAi+VBjSeH0ui/aSd3eqL9hpMrs9rUO7/FJGnXnzR8sOCu3un/3boX3sXpHJ/9if+W+ps62HlNYKBd07/tn7zzgSUDig44y5p4oHdaT42dNuOXG75kdM7lqvwyseu35Wm+PSlXWlK+N/vlkbOcbfdIdU+Mr1DaVT023/9v+1KM0Asgd1S82uwf90lLeuLxA6pfGtsF7oDzb+cvXGH0qhI8QJ2S3Vu2LulwnWYiu+Q/ss3fHaH0qjo7/6vF+9KsxeC7/yhD+1K9obJL+xI860/+KM7lqvwoXe/c0eaZSZFk//7jiRbCvWI2c9jZj+0obGrMfjuH//xH5u2J3PSC8ZjellNKy0MiG1u4QJTsilM2HxyGxemjz0rU69XnWSSA62XhzrI0vWSLoahLG4v2YXbUY/y0GZCuy2TTQodZfuylU83/Ra2sSx6KQkpzTPpa0KniScdYfLp4SfI5x3SWPnbHlT+JpvAzieIPqlGVz4OKGFe6+8GThQL7e2mrm1ajk1muxxJx9r+E1K6/e30mqZ5rE1uxzvweyxtpHn6C52Y7aaXXtcuCKF96tok2dk6O7WRKgt9SmRLGO5+oCazze5Uaz+0O/Hpl33lNaCXXy0A2cAFqi5rlQMAEFjDDJbbdnBqxW6cmLVjQ4tuwSOXpocXp2xlpeLWN51VYlddznt8HblkOTDFVFRgRqeChRI3NLeG4U17aA5wAxCqiTVVC8ChTWBzWeoIONvAoko/JgdykEWAmQCIKLh6dE/WuPaxzZjXy7wCo7tLIW+TugcqlpPcxPLVKB6XXuYdOAKI8cHt9QNQJ9AFS9an4K799PP2jYfv9qDd/3j5Vrv/7uM2dh8WPI4OCGhCRi3zStJvTDK0AMbahfg9AvZ+b8j8KGQd5eAN7UuWNjLLNVG0svIKwJpkJ4Shl0kmBypoQ+3K/Ux79WP1BFY5ty3Zy6+7304QFOoTC6fs01+8wSbuzNswK3k0AfsWb8Fd8+mL9rXHHvI4iqs0OFcfthVW2gsxp9QPX9RD4oPg0TzXJQJekg8c0pW6HPdX4E2if7I9P1KJ3wJbxHQanK7b8YMLVsGiZ75asctXxrCGU9wygYE0JT3Rz7CYySBAlz7YCDyS6qpYTzUXy5ZfJCaagCAEyFHPQVFd41gWBZgfFECm9sWTwatg6TqWjAKZpHeXGRpZRFUuxnWo0hhjEYHDRXvocMlKQ1hCAXA1iROpe7EALPFlJEJJkmAcun4A4zxAPQrz8UfA+YHxhhWxABPoVV8DpFouuKWhrqmsuGQ5NsjvQ+e69tVp2j1UspGRmlt/aTXBMoDWZBlrKQZGlZUKZagYgWGAWoyzFpZ/jYP8HkdwNRSQtlDkNzXoiwSIbxO3xeohflesrJgDnGtj2VaYLVjl0gBAloSHBvdVAWEOutGlIhZelXsHrHIZ10PoW0NYQM7k3LpLgdy936j4sSSpTNte0l7p9sLr8aRhtPRTXwN9DfQ10NfAl6UBnjXhWbsnPqLvpyeGBlIzheTlWnnxNfYJaKanCR35XeXbzCTS9IFVV70kMxxs3TuPWFZN9PaSQrvenSBbzGPb+lnecb2EVygPe8pDWXrGleSFhgK9zkOdWAldtHF7Xi117DQ6j/PEThN6oXShzL/268t0mDTytXaQl8iwUqHzTP3xSbfiVjD51LLnfs2ZiGtCG17yRO5ieoNRZRchfa7j8LISkSR/JVtUH77QhHGVEOxw0HOM9GAR9JfImaWJdZY0lT2X/NnUKy9TL7TbVTVTL92HhD7m4+eiz/Dt4rfLifNX/XS7nCdthfp7aCMt62OSSTKk5Qhtb7ffD+12PPr5V4UGrjyfl2NefH3ccN+RJYtABsXsawJwzOPKpZdrShwIkeVNsaQXf6xHoK3zkbuOJZQAdQfihaQDBHjsP1zI2jOAK8+v47oGqkC6cGXcig/mbexhVhbko119HEuhU7xgE4j6AC5kGu4CUgaxwNmgDZ3L1csXu8BNTMCGrFXqit2D5cgAx7of1vgwvV7jxqr7IUkv/FOTa3bd+LxV8g1bbgzZmeVxW1gcdmsTZ8w999FLU/Y/Zl/kdXTDk8tXbQYLWXLkft1m62AZ0xNshmYAHlo1L49s+mYhWWTRIsugKL4gNNKpYiHG9/eawBL4CpDw3506ib4jcCcSRXXl4pf8LjkcWCnbB774DCfwMuos3taypVvFQDdyun9uzP7+/LPoCvdtgTkASAJ0FHReFnWKcVSJ43NFgI9AMvrQQD4u3UArcu3USo2RORJ5bcpkuhUe4Opo6gNNRIf87QriVkzhxicGQJpM22ZyAGjzND6S7LDGrW+jUAOsQ0kCHdNJz590iuUYbOAGuILb6GrVNhoNrgXPxAoudcNlwE2umayn4y3hiYWd6g3Qv4EOVlATZVu4qWxL2HN0jtT8uhTOFG3y3g0bf2ANayetaokALeqwcYGtPT1ms7i8zj+TRQWORb+F/GXCV9xFv+9b9Tp6lm8Acm5g3SY53FquAVhX42K04aMkhC6PvHlM2ADiJk8yNp82aKtPbVgFK7H15bJV7i/Zof8X67pH0CXXBvs5rtPmtQ0v8u8AAEAASURBVHAAT+3Ix1E/zg5tbEAbaLhO0kW7zGIuWCUKTK1PsDriYX53T1E+wKhccgG8Ju9j5cUF1aepVsNOS8b9JuomY3a3uqK9BlMfwLoGL1pf5L4G+hq4ujTgE459PARE309PDA3oRXfLy+4u1zdc/6Ruep7Yq266XGqDpqtNlafkcP5ZPmke6eP0ZUjX0cQvzTeUhX1cL/RFp4E+YZluR8fUTeQOfNJthIow3cJLZSl+SXkqL1R31uRrkuizQHbRcbwXIS8dAqwcrFInoJV7QY6XIK1MKHcCfZkeKdd9ZaYcbxkhGDulkdsHL23LxLpaK5WsxcuVyqP4VjDTS5ESrPXlWC+W4eXLdSYhY2UEYMrzQx0v10kgk7zReZQZdw0eSb1UsQ7FIpviJpPspC7EXWWhcg/9JpVTNAmfUJitF2i3K98mP1ttS6ey7WTPxWALE/JiOu+zykO9sA/y7LTP8PUxFtOnj3dikS6TDrfoMU2QOd4PbaZq//Qq00BlZt1yFYKoE0B6urJmR4aWPRj0cqtkZ1Yn7dGFSbu/NuPA0ehIFUBowY5CI9fmi7hlPbI8afPLw6xehvsR9zYBObp/aTEKd1HjXrVWLdnK6lD0c2Cc1wGrLl/PgX4EmMo4FsLx3Dzuf2QJuC8BkilmkXAT1V9eHCHGFW1wT5NVTnsYEADgLafg8bQ1VGG1vemqx/TRPVQLWqw1inbvlUMOKkk20Y2P01+CnSsJFNMiGgLIdA8V/TIubA0sh9wVW0SSMQugKD9OqtcGaFLwev8twzoCnqinpC5ibaQ+SS9KWoURfIB7Nh0R/9SNQrIr6XccjkXjeAR9N/QZEYhIzNnp44eqsbllrvLZPGA+AJbcOB2sok236sKdM3I7Y6/jOjp0AAsG9NXBKhTvQIn22gSexMCRt58GsCgbECgjgCemQYLuJPqwqQQgKABCfpELACyAT5hwOfCjvEHxbcJTAJLkUhtNxsv/x96bB1uaVGW/ec4+81Cn5q6hh+qmmp6YR0E+A5DPiT+uwsXhehEEUQxpBwgUrwM4gAGooIaoEXJRUTSCMNRQuIIICChIo7ZA09B0N91VXfN0qs483+e3Mlfu3O/Z++x9SuiurtpZ9Z43h7VWrlzvlPnslZlFPcarOnu0gx7yexYFOAE2MS1SMowXegeNALmGB7WrpuoRgNQ3OR92/6vW3vpnGcfllm1DV20ssMahnTgBjHrml8Puz5wNuz+N0RVo88pMvT2WlsLL8s7SYeXoogU016Q/acC2nh3bwtKOUU2RlFyBdv3TK+HaD06F3jMX9OPUXGzTyHBYHRPINaj24fXHdZBN7NpIz4V9Y7Yz6NQNet7GZZvpvjD+NYFhX9Hzc1SAsOjZHKF/biGsLXDTrQpi1KLzjqYqjq3CoHQYUB1qJ6G20gg+WmYHf7h9O/0+dErXQbUPK0kXwHpYzd2trGuBrgUuSwvw/eToNGyGtlOZXbpH3gLreou6LZrkNSiq8pKmo85EE5mlDIs7jZ+ptIxX70HSZXlJn8qi3AQuQa78dWJKGWUceWVwRmh0NOgMnZcTTzQ5G3rGDxoMeSjbb/IoB6Ay2fFs9OSjuM78Yl/Dm0ByAK2GNFDbIsBqVNMv2EVoh9a+un74dLhu8HQY1ZyJec1ZuLA6HGY1Z2ZBcdKH5raHQzPbwuTcsA2g2JJ8QV5ZKxocGeDFL/ga8Nh6JK4u6tiv+inD0+oTE+weULkBWzFr/V94jE/XY31pPWfDQtmxKLd64ZQxczwm6/KaxKA1OS6L6+WhjHtes7Pz+rkZDXmStxnd7N6BbSO5riM0HqeuFBrurZRn8prQOk8zObmsVYT6N9KzyrcZ2ipvN31JWWDgY+OaLjgchFWFU9dsDSc0IN4+MidgZyXsHbkQbtt6XIDWot47fbZT3JeO7wn/df6AAeU9w1rPZ2IuXL1jMgz3LQV2vDujdfmmLwiswhuKZwZv0gKcN68mc0+JoAyLd2+fmAkH5Cm1Wzuxzmmu3VfP7wpHTm0N05OaY6h305rWNOrRlMbeqxf0vtQ7UxbUUDsHgB6O2YUB22kPrGBWAP/8+cHQqwE9nkiAPKtDEoYcAUroZoCbQCWALTAL3iXkDQgM8xCBr/oNj0eWrx8FDY+i1V98EzLwlIRYm+WVtaT3M8HKqV9tz1gJbUhl9oOEHkhbZJ33NWVSwbTgO0IgwXvbf7BQ1MAr+9GCcr1Lmfon7MZoodfBu90OW+uLuDI5VA0ayFIiVPA09amc6Z3oh5EMzAKIAVjywDxUDg8Y017OKQM+eXJZnmSZZxSAiQF/XB95B2mBefOcwgNL7V7Fo0j5gDV4MDG33sArB5pUnwE7kgOwtDIhb6rHDofzmkq5dJWuoWwzdGgg7LhrJWy5+5wt8L94zQ55T4nmZl33bfE6szGLfzNL9S0uPfpP9su7ai1sv1Myjp+KJAK/eso2YwvpuVa22ewqm6gZPcMCiLZoU4EJfa+H1U6tkTa7WyDrfhb8F5/u66HTfWHrvf2awipTavoh9DPXT4QLB/q0q6LyZPKR42th6z1zYeCBUwZIDZ0+F/bfpfsK4ImbKR3m+UUc22V7Ke0AKF5hlCus7lQ/4vFbw7mb5dl4FTeNnpU5oZ4/FZu6qb/cPukWasvXKV1bQesJ3vzmN4cPfOAD4c4779SuzwNhcnJyPdFF5nQBrIs0XJeta4GuBboWaLDAN/Aj0FBPN3FJWQCvmOwZE/sh6nhsoGL1Pkm0PkiuFm8gKRfRqS6DyVKmyyzL1sWruhbpZvxlXWW1mVb9xJzvsnT28pIfXTzfRgZkOC28iT/TWLmkpzKbKpN4MjiVBjA2XUQDJKaDQN4rgGpgQLv+6Nf+GoMjrXkxPrBgC7Sz7TUHa5ocHDwR9vedC0MadRzUFJyx3upagueoMYe7F2fDJ+cOhvvkHcHg8vzScFrvRLsQqpPKtumsqcE22WzhTYPxiDBPLQZFCjZAoiyVW6b64RHkslT8g2GTMcyOmEJ064JfANE22Nvz1zEUGUYTbVbkxmjJX8Rdl3X0sXnSOZX4maSXOZPKopxKQUMDInEpxu3hYhobnHOzCuvo6yQWy9U1VJKICtWaFZeiLsYDy/jbCS4r6cYvHwv8bw3KR+ShoXdGrw6AHzye0thW53hjcB4Q6L5jy0wY2h7Xml1Y7gszAo2OTW6xqXa8TwB4bGoc70PuW/HZibMi5omk9yFxZAIcTGkntTsvXG1x8vpVvn3rTBjcGevJ7zKtVWTgkfS0KXoL+gjyHgI7GdWPAFu049vAonlUoeuM1hhaGO+3qYA8fzbNUe86mxIoNliXtXi1BfQRiODTAQGu0I324ERjz690A0AbHFoyjzT4eNfiUQWd0zDN0d7/OhOI1wQIslRTQ5D8VsHfzZzzuwNxUWTM83dwmY9AE0tmId/5KPdQFCM3T00D9EjAljWBNMAMhwLeQlo9KadjpsrgIQA8UbffRPABoqziCRWV7rHpbrKx7EfokSdYr3Z2rJm3lehVviavrMDhwBhlkoknFPrhFUV5nKrHdMmlsOPzHCbSLnDPKp5R4pMOa/Iy6j89HfZ+VJ6GH5McyVoZl3fggWGBRAJvtP4b9wjT6bbevxxGH5AHk6b9LW8dDjNXD4ejz9+htdN2aL017Q54dCWM33sh9J44q/td8q3NqBeNmoGsiI4Z2NSj5Yz75CHWR5sUhh9YCzuIJLsa0CQvqbUFeUshU9MiR5UePqZpvIO0UwvWax2t008YCYvfcp31/waEy4w/tGK69k5peiHXQN5mPXhb4XU2NBgWDuwMkwe126F2ULR1jHkWuFSqgsAuoyPaAGD/JxZC/1lNyZQ+y/LAeigWb/4vsh/hsCjbveQlLwnPetazwrvf/e6vqzbx6n1dRXaFdS3QtUDXAleWBfgIpT5SRw3fDG1HAq8gok984hPh7W9/e/iP//iPcOzYsfA3f/M34bu/+7ubWuDVr351+KM/+qPwjne8I/z0T/90Aw2/Cv3qr/5q+PznPx+GhoZs58S//du/baD5hiTUr6r2l/3+acj3m6Qhs9DIy5XlJH4uqBqjsU8nhphtIlLceL28kUs3d8oQbUMdnu9nkSVxVQk53cBPrjU+FueyNAaxXG+n18FZh+8mmGnofxeDNeL0YRnEUAcDIQZlHGVQV1n9x3isCHVQlzMfS2vqeLYJtwyMhBMrx6NHlrZNGmGBEwUNH22XwoWV2M2i1l5+qVYjWZ9lVVMHALIw6Jo6u/KPML5sQGtjzLK/CIhNiUk6vQkAy+UWqV8uGNTi+rtJMglu52wKN4mfoTHK+CexlYLrMpwWhoLJZBdpk5QFRbnVv+glazRkr9e13h4vqzdQrDmzQUxjIje8Tl9mGXEbXaHxqjJvqXoZN4Ht/yAny2pPvinaDsRdcSSX0rdkUSBUTQdjaPNCKa6Gv7fSmDys6MabFsA12xM3OfIpgvBB2ysvJ1u3b6TxJkzjc5OMLKbsGcgjHgAgAu8mG1Arz+sjHzo/8FZdVSGAUK9+EAhaQNuCaACW0G9KgBqBNboMVFK8Bw8r01FPucCXrE9S09uNZ5ZPgaQ9yFjTu5kd8ZxmVe9MQLSGh0Cy0RFx/p43AMqfZZXD32gVtEzByj0ez14ftjDJosmBOMLS2X5woLBagdS0H7owMSx6dwNw22FeTpLswAtGSYAGopoGU6ZaSaKkDJllcEMDqhAciCIOfTWQZ15NqaBKQzrRrMneFgSMsUaVAUfUR9rAstQYvn3Jywtepsmx7tXiln7b9ZGdHxcmoi4sOM8UVXaerM1J5pzW1QJwEt+I7NSnqaUsrM60y8GzC6FnRmtmGbqJWvreMo0xeUKxFhf1LE1QD/eLzMvOmiJjp0p28BycXAlDxzSl9bSAWp9qqEYxvRB8EPBpZduYdiGUHO3a6bfA8BlNmT0Tm9+v3TAHzklPplrSPnl6LcsTjWmJLM5OwFTwjJyONlsa6Q3z2/Qj1xbpEh8X83CrzQtknY3rZ/U8yqcQ/sqv/Iq1/Rux2ROXphu6FuhaoGuBrgX+JxbgexS/SZ1J2QxtZxKvGKqZmZnwxCc+MbziFa8IL3rRi1q2G2DrM5/5TNi3b986mr/+678Or3rVq8Jb3vKW8PznP199luXwxS9q5c+LCD4VwFhj/2tjKbr2rcjoExJiB6mRyvuJTcsTqfObkCwndpw8r3r2zhjyyzqqdKSNVkQlT05A4GWNqlPSPBidOnupY+9E+fFI5ZZfyHQ93JAxLSrR5DLJXNEAix/kCUvSTRsYqWMepfMr/wnWvJKHAAMyAK7B/iV5Dtxq03Dw1LpqaCrcPHYs3CivrBEthjukVXi36DyiOQRDkjelRWC+urQrfHHu6nB4fpuWxaiFc1qk+PTcWDg/pwVspYx5DiTPAPOIkAosHGzeVj5QQWns74AUKlKmfFUTA2doGtKpvMgrzGT0zd5LyQRJcAcnl59IzevLDN0Br/MgoyLHr59LaSZSY96WoW6L1OpmdTTjXvegFHYVfdbDjSm5ua5CnhcXWTnajD4Xtop0qr/zV+3p+d1zRxa4lL4ly2masYHbAmpWzRtT950e1poAHbyhmGJHcFAIWrACm86XpkA72IWXqQNU8DC1eYlFzXVzA8oA9OAdBQ085AFi8d4zYF080LCu1Jy8RwnUSxn0hm+IF36XQxl1sLD7woKmk6X70x83O4uXgoZnR3wEdDD9pXsfIFbSzRyvhABhE3t3Qiw5vC6ht6ReqZE3vsu9bh5m9y4yQlhTBE4DuPy96wR+TvrXXwgqMP2TBKsbJWiT6sm6KM4/gS1kGW6k6Zc2/U+XkOYC0DAVDQKbcqh81spiujnX3LYlRA8HnYh78MY1ezfKyNRDKL21shyAJCuvuqEl4fDbQuROF/NNViKRoeOUw6xHMlTy6rLry9RGDnkf4QUFsBW1QjHVIYBndrfWOrtO65BpybUcJIodDH3apZk0AV89Wj9qYHY+DBxJ1NQvkGxtKW5MYLmaUmjTGVlLSgDV0vaRMHXtYJjWFMHlBOimy2TkvdpsAE+v2sKQprlqvSt2DSAAKNJOhbXR4bCwXR6Re7RhASCb7A4QNXZESw2c0Gr8tNNtgn1VNx5lM/uHVG9NPCoWydhDa1oTaybU7lUDBMiFq/eEC7eq3zDCIu4Sq8fMdhAV2KZKdYCnXSRMwyXh6CQkugsX5JpWhEGt7clxqYaLtMyl2pyuXl0LdC3QtcDDbwE+iOVHsZ0Gm6FtJ+tKK//O7/zOwLFROHLkSLj99tvDhz70ofDCF76wgRSw6qd+6qfMi+uVr3xlLrv11ltzfDMR/yW1KU/usRWlrToVzWhLtgTEeBad4DKU91QuS5mWzpmJS2XVLFQr5ZTyia+jR4cqg+VVOetpk1GhMZOU7VG8oS7qSOU5P8mopxON0wmgMh4GA+TpzCK+eCegM4MzBoUMvvo0+GMgxrSXiQEWIJYLv1Caa4fPhpsGj4XbBk6GcXVox3q0LXYvHbp6p+5g/7mwtXc23NO/x9bGOqmfUx+oLYfBvrE4aNSgjymEDOoAs2ygqPOqvAcM0KIBdMQZnCXdrePJgIzBDqbjjx3QkqGgs03f8PyYWy9PNEbnZensIizZkEgErgdJqyeeU2nUs3rdvbA4O4k10fORneq08txoJ2g8tyluvP0wT+U5iXU0ymyWWldPaQPklunCZshvKEvCm+U1q7fMQ5bpW2ZuEN8M7QZirtiiS+lbcrWmA/aOLITZpf4wJfB7fm5A7wjADDmU6D01PrwQhgWw895inSveUUx71lskvsuYGmfx1TCjhd+PzE6Ek9NjYU6eUBFw0vtO4NSg3nceyDewSjfrst5J80x11vRA3k2UAZwNDPKOZKph9KyinIXiAX7IQ785gCa9Xw3PkCyXST2Abkzf9o0xeP8tSz47BBL3dzE0/IhA4D25MN8f5uSWQj14ZDH9e3RCAIb0R77tfqh3qukCE/XyDmXAjxhEJ/3soaIuyBLoY3Xz7Kqu7PEECd8J9CDOYbL4QzLKYG1Fa6vlqgwAzDNUD467gFJCC+O7QVgR7dDS4en5FljIjoTyugFM0qWzd32vgCPbJU8y0J2Fwn2KX1QgfiNMC+qT6nYdrFB/mNonECkDV6CM8kRiap8ERh3FZ+tYpWmA5Nu6V9AqGC+eVNTtNMpnbasciHLhkUlAJp5HeFyhF0cl2FQ8pi4mQK7noRNh4ujpMAHIhxwO1tDSYd5T0Jke8KhdpB1USrqYRxf0NS2HTju0dtfMNWNh8jF9YXaPbK8lAAbP9IaJ+1fDNf94IdQmBTYhC9ALTyum9qkdPcigbqZBamH5HgFSa7PaUVGH5qWq3l6t4VXT80abdaAzXl6AZGlqJXoDWvm6WoBnXNeRk1pbU+toYfOhs3pG57S4vXhZuN7WGpM3WPwBT7uNjmtjBa3DdfYpepL7kgejPNDCZyvG7CDJ7cPRSXC6a665poH8jW98Y3jTm97UkHcpJboA1qV0Nbq6dC3QtcCj0wJ8KDr8WFgDN0P76LTII6b1qjooL33pS8PrX//6cNttt63T4z//8z8DABfTuZ785CeH48ePhyc96UkGaD3ucY9bR+8ZC1oPgcOD/1pV7SikfnIk4zqnPp7zNaSL+8DAipK2jEPntOSXZUlwWa93SJqOrBEFP53kLDQJqZxKmZWijpNZRlXnsj2ltJLOG6K8LAdaaEq6kh+5lHH2gQjliZ6+NS333p0NclQPZwaH/OoPeDUoEKpfK++y+6BNK4yMSGoIgwK1dtVmwmTfhTCzqnUutLC7DywbCKsJ9PNGES8D6tmgSJle5rQlXSXu5srZ3uacoYi1P2W4bJLEE32u08nIT2VWB/EKb7Vu1G2qcsFn5YnRTonBZTXlR5VCRoMedTUVK0Kpb2pHUZrb1pDnCa8rncu60W+djs3ku6x2Z+rw+trRUr4Z2k7kdWkaLPCN+Ja0+o4cGDsT+kaHbPH0yWEt5r44GJYEfuM5NS+g5tzUSDgN2ELQTecLXvPeGtJi51dvPR8es0WbTQjUYi0+pkMbyJMWLIdNw3ELES/Q+06gEVP1SDvmQDroAExiU4uJ4XmB+tEt5fTcaDgNwMXC8ADwgD1ajL2mHwXY2Q9d7P0pfsAyAlMj0R/gy0Ac6c7aV2vyfDEvVMlY0yL0AGXswMg7GL0B01jTigDQPz89KEBLbirlPc+zlh5IPGoB3GoGtoFTAGgx7RBbqS5sZs8XjTWx8bkXP7POspz0zcg2Ea2DXXCZDMApfz+bDomfOMKpQlXadwZ+ACyZw3+QoIw8FhAHMDJRNBV+QBoWSicZTxa3P8o3UMkvFpnISi9nQSaRCU8oGqC+UM+cwEdAG/KQDXAC6AIYQ5AswCcmznvaQDAHoyQHoMgWSneeJeSJp/C4yrxRSvxLPToAqAxsUt0GTiUa9xSjmaYjOxfOawo+4BIBUAlwqV8/GNEeAUt4Ya3N6E6GhvawiyBT/dSfUyqMaefAsTuNO/6BRmXUb2t1yfjmDYY85YfhoTD1hN3h5JMFht44a0Dp/NHRsP3zvWHnfwn0On4urO7aGk4/eSKcfYLu8/0zAk37Qt99Q2HXnath/IunbVF61rrqlXdYny/iTu3Yi7ZTl4Jfh7UxAW6ye++F2bDt01Nh2ydle64R7dWUx9XRwbiIvviWl5cubg0sjFq9f0yLJn8S3eHDh7V+neYzptDK++oNb3hDeOtb3+pkTc933313uPnmm5uWfb0yeWwfdWFqair80i/9kq19cvLkSRuE/M7v/E54+tOfvqm2nDi7RYvNVRdorYv4mb9/dT3RIrbzJw+3KInZPR++ZsNyCt914bltaQaOpAmyG1DiftgupOU5WpJ99ZMHWpZ5wf5/iWt8eLrZ+fjC1mbZDXkDMw3JpokzT9BDvUGYuGeDwlR07Su/2pbokLYg9rB0djqc+uB/hV3f9eTQv73u2/rOm9qvj/Pzb/8RF9P0vDguiL1NGNIifu3C3Ppx+TqWnfviwpvrCoqM0T+Qb+sG4R9ufs4GpbFofnd7fQcm08dyA2mnl+q2bkX2Pa+4vVWR5S/8zNkNyym8a9G7cc1Jp7WN8WYDHY11nY0NhGyGdgMx3aImFuDD2qcOzU/+5E82KQ3h/vvvt3x+Wfrt3/7tcODAgfBbv/Vb4bnPfW645557wvbt25vy/cZv/Ebw+fwlAQNYDg9+bcs8L7Nzi8fF6F2On52xmvZ8nb2+IqtBnzK/Xbylzs7oevi52paU3yDHaV0GZ6fzPNI6Gvi8jDPPF6fEZ1nGkwrIKMoszivHjkjDr+q2ODBnGY20r4vFoIkDsKqPI3kz9GuOh35XtemCQ/rldYSfzJuEcdEzxZD6WANrtI+dDLVTl8CwJU0rxGPAPA9Up60xIxkM5uJoiOYRV6ZfTOjR0/Opk1+gSwOQ5yHxNS1Wpotd16EtbAZvTqILx0YhE0eihrpb8GY9Wslt0Q7TzWU2VCRBFT1aic50LqckbCWjpE001eqzGKf1cy7oPELz29qoELcZ2oKtG+3QAt+Ib0mr78gnv3ZQHlhD5m21ZUSg0eB82CoQXRCEaWteTUlv3lEDKuNMuLA0FE7PjoaPP3jQvJt4rwEojQxqyrNkEeL7Lb7nSM8LWJrFM1RT/QB6qu9E3ld4b83OD4Sja7Gf6ICQ7e6avK568XRViO+19J4TYDRvqBA4B4uvM/1PAILoaM3g6KIBZ+hUBoAuwpLOSwK8bIF4vSftvV1M97Z3KdOyBYLZ7q7iQRI+aOhheIFk4/3VL3ANe8DDmlnmBauzBd6xfsSchr/IMQ0xs0X0hxcAbbY0+WqzA1pOB40VpXc47USWBFqJtbt4Lxu1ypNasFsbUn4+UZ5kW54DWg4kAdYQOCNAZwNPsAlgTQp4GAU5FhFs7S2vjDPgmANknh9J1/8t6AwccvCGfOmUd90Tp3kLA5KZ11PUrwfvMO1uiK54ePVoDUnM2uNAmeQYoAWoRaBdgGLykjJwKHlzwZMDQBVt9XXAsBF1OiCnslWtTbUyIu8p1sRSOYvEP+a/Z8LalDy0AMYMaBMwhhwOgUt98wJnp+X5NynMQPfMyp7l8NC3q9Zv0/Lvuu5DJ/rCti+vhq1f0BjkzKSp455lJgdbSncAOaYYWt9EdZtegIFqC8DiqvRaGVavY1D1KvDsXEywW67BMK2l2O2oYsCrEsBqxfG6170uvPzlL29VbPk33HDDhuVfj8L4tvh6SHoYZfzIj/yIrVfy3ve+19Y3+fM///Pwghe8IHzpS18K+/fvfxg16VZ1OVoAAOvY+z4Vtn7TjQ0A1uXY1m6bvk4W4EPR4cfCatwM7ddJxStBDAu782MGXlbWeWjSaH5VJ/zCL/xCePGLX2zx97znPeHqq68O73//+8OP/diPWV71z8///M+H1772tTkbDyxcrlt1FMi3vmZxrb2jkO8V9Wk8NNAWPF7ecKb/V9KkeM5DbiHbeIt07gMTyUyKAqq0CtDxH5Ki7oI9ljWKXK8H7Kmaam05TUQH3X8LKe1JdLZtyVMH2+Q5TZJv5XTg1dkkxF+91XlNAy4GLkw/WajpF17JY5AzPTAYzg8OhSH9io8nwaR2FMSj6uyK1sDqXQh7+s6HJ6rviddVGealgCbAWNaSflpnCs95rYXF7mDLaQqhrT/DIE7q2GLEeDAw8EE97G5HlMpCx3SKycv2hS42JeYp3uClRfurAZrE47yQ5LyC3vKSDL8+62hdFgVlPMlpJjcVib5RwUzrchqLMxuRDYoa6LJOLrOxtDFVCm1FD42X+dmlUFbK8Pwqned3coZ3M/yboe2k/i5NtsA36lvS6jvC+lI8IwA3k6tat0fTCAGVCH4mDhBj3kWi5+zvk1XAHLyaeG/ovlwQcDMjjyQDaJQGzDEPJXldEeDl/WcLpFtWupmLe9per64DYhXvHxRMNKz3r+Lp9ZviESRiwO1AEfVAE2kjD3nsxrqyHN+htMfaxBpgej8S0BmQoDYQdYXfpxgSJ5Am5u93yyx0x5betlXxeD3GlGR4G5zN5GFTHRsGI4w02N/eA8gkS/XGaXKpXBVGDyTK4mHec8IlzOlA9OjBguKASbZuFmRqOqIwoHIViXHyTDIVc8voT+7rkGc3BOdou8zngI5lVP74hSQ7xfle2k56ZAGQcQj0MsALUAcwhil06EefCoAIDynosgxrgFVGfp5mSA48ri91wANwBECFfIL11dSW1Gdz2xogJXq8leb3jYfpqwdsAXjwXFub6rCWADhxwRZ+tzpMluQQVGePPLh6AbU8UDeeXKNxKqK1lTpFw1TD3lOTYfunpsO2O3TPohv0gGmKZ+8qQKgFGYi1rVx/znaIliCZeGrZzoSkZZM17dIHzxr6qP29k/2hxvTEBOItr9a9/mHpONDc1OS2PJ3SJUG7du0KHI90eNQBWHNzc4EFeP/u7/4ufMu3fIvZj1/S//7v/z78wR/8Qfj1X//1R9qm3fq7Fuha4EqzwGY+Fthmkx+MK82cF9veT37ykwGv3GuvvTaLWFHHgF+M3vnOd4YHHngg7N2718rKNa9wleYXo0OHDmW+aqTlgpZ+7dM1TX1jY6fbYp3QQlhZXmTnvm9mTH0eS3dyvxT0Vof6X61CJrVITq3TNfaUXYropAdji2rwNmZJOVKlTOlU7nwtqAxoMRo1yH6dznJzxFgjjaLKrqunhJORT9zlwEWe+pfLNMjimrqi9AX90s8v/tA+OLA9fGF4bxgfUodYU2JYe2b/yPlw9dC5MF6bD4BVeI6eWFAnemkwLCt9QYvBnp0dDnOzmgaQBkM2sGRwiXKIZoCk69PrAyXLU1lK+/VD5dygqBI5jQGZHpymMKzJKso92nC2ihpyGhNlHZRgr4LH6nAaPzdKaEhlnaq0hcySgboyT1lAvCqjWt5K1ypfi7obxDmN8/rZibxc6eQc4yWdnZFXlbkR52ZoN5LTLVtngW/Ut6TVd2R8XINqAUNMn1uYk1fUnIZnvA+48QXk1AQcsY4UAbDdAKnknMEyPayX5aA3L2nW++vXtDyf2sc6VkP9mqqXpvbNLGoBbU3JW9YUQxYO55nmvddDHcR1sMEF/D4d0I3k3mDmuQowhj7Sk3z8221dKgPnJcSm9cU1rNzjym7z9AIBWGJNrOUeeeNIDmkDltBFshywMlxG9mA3QgJp5DEVz4PT+ssCO9EOA4jEy7pbq+J3oIzdXylv+KiZcmRWgr+Ast6pPKVNWXihQ6jFSevwuLVPScCqDGDRDtLxG2fixGN62R+YxUMeUT4jagtiDYyJhiGl6x9pzTgxx2ga0uSb3EQAoAPohBwCugDOcMY7ikCZl8ecWO5yOBdx4xcYE6cqmqa6KVQHUwQBdAp5DpKZWOqlDDCHQHvKep0vPgY2nXDgTH8YF9nwGRlU5/6Z5VCbFijkoBeeTfMCgZYWdd31bUdPQDIAKweaJNdoHPRjXSy8yaDxdkk381xLaWubpoDql66oKyoDRM3MGijVMyIwbPdEWNw9qp0L9YxBRvMkx69l/wU9k8fk9XX8VFjVroO942Nhbc+OMLt/TIBcvLFXluRBeShWsam/skXH3xJov0GBPvXZs2etb01f/M4777SaDh48GMbG2s+62UgtXcVHV2ABXozAtudlGNac8U996lNlVo63mnOeCbqRK94CeF1xEGbvPd5wJlFOJbTC7p+uBQoLWJ9lEx8B7wsVIrrRr4MFWPsKb9wyfPu3f7utifXDP/zDlv3Upz7Vdlb5yle+Ep7znDhFdkkjAMCt6667rmTtKM5AtWGwWrkPNnOtO6ZVR+jrFlxfZLaQ20qvsu/eUp9mMlOdDUUNibouMVt/Xc9WFUHSQkZm8c5oyrABk+fBazLUcfS4Op3TfcNhir6kBh/k3913tUZ2ipNGJwaZdkShtqMUiy/rgAQau0fo4JJWMHsWyrayrxEnHpPjcStI7UVXAvVQXtJ4mRGkP1Uasku6kr/gK3W0DnhRZtE2Mkp+Zy1MEEUwMPH6Jc/LXfS69sHlhSah+Z+mJF6PyyjTSUyuv0lZrokyr6Cga3gnZOKNI7SvmZ1acW2GtpWMbn5zCzzc35KZL20LvRrXcE3ZZ8KfZwa+eOqwILXNfFNZbV7vFk1nklOohV7GgbsEcG1f0LdtKSxqWuDyeXnHPCQQfU43p3gAlogSkLk4IeBp32y48ZoTYdvQbDg6PREOH94Rhu4dDoPnYp0sDzG7fzFs2zFlINXpM+Nh4IHBMHYYoEC7um7rDZM3roYdN54Jj9120mQvStnZ5YGwqLW7CCN94tfGGFv7Z82rFY9UvFrnVgTS6cERnGRrBm7pmwsjtUVbu+vc8kg4Pr8lnJsfCQsrffKIXQo7h2bC3qHzYUJ0xxcmwieO3BDmv7xVuuhdK5BiYVtPmL1a62hdNWNrd83MaT3CM8Nh4HQt9M32gKMFzcoM/bPy7Ep2w64rg2qrgAhsomrD3B4BdlfNhS2j87b5xsyJ0TByqC8Mn+KiBO0sJy+5m2bDU649HHYPTtt080Gmmsvll+Mh7Ub7yQdv0IdiPIwdErCnGWm9y5p+tqD4ksAi6TG3oxbOH1wLi7fMhZ1bp7VOWC2cnR4OK5MDoTYj0EQ0xrcg+wiczO8Sf89ID95N6GwAHmdLC4jhXlGad5LJEZZju/rp+2PvM2jTYe8bydeyadoBEaGx3tqidIVPU9zwMHKwDT54sF//jKbVaYFx6qCcKW8rA/J6i5ddedGmVhe6ma1VLucir9/lAspxLw+fXAtjR7UBypk47ZXF51cGBToCFPl3Wmo6qEUduV7JNTtp6mqvlgHpFUC7ph+jmJK3tHUoLGzV9DzkGH9sB3Lg6ZsVwHp+UcCXlFB6Yd9YOPfYgTB1QOtfjrPwuhZwP9Ybxg+tCijDywzQDxvJ6wpgTmHuwHiYPLgrTB+Q19aYQDSBzuNjc+Gq8RO6T2btXj8xOx5OTWljhVnpJoCXH7Z65rdqKaNt1l9Y04O/MiqbjsgDXBvKEFa1rlZ4v0U39ceubbxl2/JB+40Kv/zLvxz+9E//NItn3VnCxz72sfDc5z7X4hf7R7fUoyuMaw2hZz3rWeHXfu3Xwi233BKuuuqq8Jd/+Zfh05/+dADRaxZazTlvRtvNuzItwJpXTBssw4O/+//l5N7/SwPdZ+VkN9K1QKMF+ABs5iOwGdrGmq741PT0dLj33nuzHb72ta/ZrzqsXYXn1Y4dWpOgCP1yx96zZ0+46aabLJc5/q9+9asDO6wwBRDQ6u1vf7uVveQlLyk4Nx+1DmLqI3XE3Slteb84j5/Likq6Mt/jJY/T+rksc3rOyneSMtvj69qc5JCfO0YbCXBBrepXeayDzrQTV87Kp1OMrnak4oZqU5lPObFONJ1twCj4URYZjHT49V95tYGVMKqdwUa1uHC/PA1G+hfD7uEpeWBNhjH14hfUKz+1OB6OasevKXlgsQ39lNaNmZqRZ4N20cpTBBl5SqxNDUQpdV6tE0zfNzXKOt+FwqhrwfN0Nnt6msIyrmQsz5zGvtGfLC/JzvZFhItJdZQ/hFdlmpwy03mLPFfV61jHI9qmdRSyXEYWS0Y10+k5e5mfM6MiTkdeGXeagsd19qKGs/P6ORXa/dhA2EGCOot623JshratsCuP4FL6lgyd7JGXVbqJinsJkEWb8YUV/WZPnMD0aAMCElhA3sBZTSm8MByWeoZt97OhpTr4wbulR0CK8CEDUaAfOiX6Q2PhqHZLPcp7TzQTKq8JaEE+IEXfg7odH9JuiD07DaPfyqBdZZQvJ10HzvWG0w9sD586PW6eTT0ztdB/oTf0zagRuj/9PWtAiz/0/s5L92/1+TJ9qcfej1HGA7LB6oC+AbRZ+QA7fQLylkeVlgAAn7EHZKAHJoJwnyDsAsc109XkRLKwNCIACh6C6vd3IG3q07q8Yw/Ic+iwQAahgvBtkVzAHGwP7dBpyT0/Eu7+z5vC3dgttcHP8AwnO2Ir+Gb39obZa+TBu2fG1iUDsOrRVNEgb7uTp7ZEu83KbtO9oZYAR/SJ4Fejnlnniv4k+WiZLf3+oX3IAXCRXoSqrWNu/a9fIu6vDPikYpch7DGsbBX4MoEBYqjKdTmUWlx27JMe/q51Pe3+kN7miSVxM3v6wtyu6JmTabw93FJFHH2ineI9Sz3LwwLS9mgnwd068KxKwBdlAHMAbCu6d7l/aR/H7D5VfP1CuHnvpAGuD5xfDpOHtofhh/pC/0MqQ23VNb9d4OtWELh0bQD+aBPlOkaPaSfjoyjYb+Du+ZsGw8Qt8+GabedsWYGvnN4d5u/bEsYFuvZKlzXtQAiAuqJ7G7vw41f/A72hX7+YAXgSlvUcf81im/wDexTRnrFTuvaS1lH8yZ/8SeD4RgQ9QY++wNpXr3jFK2y9q5rcFJ/ylKeEH/iBHwjMWW8WWs05b0bbzbsyLcCC7ax5RcADC/Dqup/8zjBycI/lRQ+sj1i8+6drgaoF+FDa9sPVghbpzdC2EHHFZn/uc58Lz3ve83L7fV2ql73sZR1/KAGsWOidX9mZlv7MZz4zfPSjHw3bttU3c8gVdBgpO1YdskQy75A5U7UzQbmOLJ9kq85JISvTe146k+/81iEt8r1z6aqsO7usVJDrKAkl3PNRk+lyxmaJ1I6CxlhLuWVchS5rnW4FnZmMtI46vfSgf53oLI5LFP1RDEA+4BXuDkqz7kqvRj3swtUnEIspOls0dfDa8XPhmpFztjg70wavHjgTru07q+2/F8LUWn/46uKecFfffv3yvlWzJGphsn/YvBWmJYMFg1m8mDVh+LU1A1rquAJixRkLqh8VSi8usnTQGFS1kPJSc3JeQyfVaCFMPH6qpF1mtpXoGkjKgoYKo0DndyYjbxDgFRfnipymPBWagjtHc93KsWuaS5pEJM/oK3LL5sFlNFX9KzxNpMcs+JzWz5SU8UjZ9m/3O9LWRF9XgkvpW7KofY9qGswClvQLSOmTpxAABvc4A9xVvFvSiC2+y1TGPaYjnjUoTu87ygF7AHdW9X7jPV8TqlOTJ1JtEQbACR0MnofSexIwIAEC9s7mvk5H/fmIvOUzCJA0fMR+CcjXBn1cNzIBGexb4w+Fl1OmOqzeVL/Re73KI9AeaPAksrbHbAOzhAXlUOqF7lYn5yQvExaRBh7ykw2wPYF2LA8TU4S/qRyAr0Gu1UNFkYYzYIl5GXHW92BA35ZBTeVc0bvevguzgFj8mMG1EXjF9XG5tBe76bC2IB8girxYDVXE4Glo0E9Hx4FrIfva9YKJZpKHzjpTl8kr5OY8rzfxldecrIaQ5HqePq8GpmJnW0PLC4pzWQ/vRpt+x70tzyvTU/Xj3eYH3ljnbtSunU+YC8848EDYPjAb7jyzPxz96q6w5Z5aGJyM/XTqHJL3mHmYaUrf8GmBmveOhsNDN5gtALp2y2Wxb140kj+Hp+Gta+Hqxx8Pz9l9XxjSTY/noG3yogvCUgJ3TB4In7vvujCo3QkHLkSbbf1yT5j+wt7w0ZW9Zkc++9bDTBdwDd31/NRSe8xTj3qlGzpYYMfHiwib+ZY8Wscjj0oA6zGPeUz4l3/5lzAzMxNYSJc1Tb7v+77P1jBpdp1bzTlvRtvNuzItAEBVnSYIeOUA1pVplW6rO7YA35ryY96OcTO07WRdYeW4Ha/Z6L6zhjM1sBrwyvrN3/xNO6plm01b50+dKgt00tqE3FFsRdeJDK+vlFHeU8go5OQ6veNEmfVOSwExqzEHOaXgxtLcYS3qgiLXR0LAUGsJiTbp25LOy70e6WQDmZwu6nR9bfCQJJKHzfCs0hov/CgLYMWaMn1a48XXlMHTit2/xrSD4IBGDwBXTx55MNw6eCyMy4Vhq0aI22qaZxIkPHAO4ca+w2FUYNZE394wK1cJPLJYAP6M1ppZ0jSaZQFYbCW/yNbx8tDKCxbjlaWBixlHBrN7Oqur/DToa7jVCwNZMwEHi/5tUWy6IdtMVCloSDYk/HKnzEpZFBpV9ng+N6H1S1GnMW1ycqNIA28hu+HeQkBRluUV1VBcylp3z4rA8qpyChlN68iVFZGCZ52eBVnLKDpU9WhJvEnajeRcoWWX0rcEzx4ALDwy2MR7Zp9uBcAnTUVmChygFuAG7z28sQBVAJ/sAQdc0PuiN71PeCewY5qBA+Tpv3+nHATjmeibFVg2FW9au18l26aAFfcxtwZl0CMXTy4G3fZMpXs1x70e3r2SZTJTnulQyPUovDaIB7jRgJ70qkb6BrAxQpUcngmrUzSEXJ/yLa4819/ORqUy9NWRg+gJDTyWYdlWjwFEmpJofOhu+usPehBMZtQTvUyW8gCb/Nl1/QAGAFuYoocLm68d1rBWlwAU+GwNLLV3VdfL+QGRsv6isetbtMnpvF7Uiy98i5lc874qdFtHk0irJ2+/t4+0xUVoNpGupa2r/KZHsh9lzuu6GrCXpvTZQvBcm3Q4rd1D+V7CLhBEOmgWtwggesxyOHjjsfD07Q9qampf+MSxg2H+7h3h7n+7RVNtIz37Stu1EGhrUyIBdtmtMNkXsKhvbi0MXvApkREsXh4CMI33Ip6Gh758VfiLIztCr8DIYe2kuXdC+IPWxKxJmXvP7gy144Nh9MhaGJqUsVCTZ4Drq/85pCaQNhtwr+s5x5ZmY9bsSnViD79nMn+nEeop6tqQrVO6DYU8/IWPSgDLzTQ6Oho4zp07Fz70oQ+Ft73tbV7UPXct0LVA1wIPmwX4mPpHt5NKN0PbibwuzSNnATohrO/QMlQ7B0WnriVPtaDJDbOu81h2kqr8TdMFsLQBb0M90BW01ablaqo0ZdpkFJxK5zqcLp3r+TxgSTpnHTYV0OKpDG8qgVK2g5Xy2d4dLyp2qyLgVcVCxvwKzgCCnQYnBubDjsEZW4NlWPNrrh08G24cPB72abfBUY3UHtMfpzLo91qT0ewPgNZ3j06H+wb+K0xp1PXA8o7wxcGrw32Du2ydl3nttjWjNWFml/oN0OLX92UBW+WuhABbtuC7DUABs1ST4rYbFnFCNkZM0jktvbZi5x+DKD/zKJHiOc8o6vnILcuc1fmcvDwbfSYsSxrjDSSWqOfkOutZDcw5O0dScWxiTFTLnKSSb0m3X664qC6VbVBUEMdopvW6Sr0gqabXSVifgcwsd33xupzN0K5jbpPBwru33367bZDUK+CWHVvZ4XWjhXfn5+dtw4y/+qu/Cqw9y/qD73rXu2ypD6+ORX1//Md/PLAGCrLwnGWZDzxiCR//+McbPGyd79ixYzYV3NOX25kBNtOotMSTHbF9egeAtmsgDLDk4FNNNP1TCWTRPeNgAOUMmgFTWFOI6YCAJ+ThxbU8rMFymq5koJEG+HIqtYGzDbbFvyJQwQb23Ivu8SN5fq8ZsJHueXhseqO8w+SMau8aQDOAA/cUioN0dFc7eCaQayAMiqdWWjrmk8NaUSza1fDIOl/ioYz6/Tkz/bER3ixkmz2TzKIeq7+QEb8lxhJ1o0yHtzfGnSHSGZCSsqCL7YFP7fZ0sh1T1Ba30EmQp9rAUhgb0GLdIloY1Dpl2gUSMVzj1QE8dbneXNf0TsYuRhB1Yl3ynEYVbBCbS8r0iKClEvCpbFWyjaaga+ARXXlNkeM2JVry5jhy1SSvH53qNkj5ujaZ3gTpupq3FUILmnQN4bd1t5h+yfVXiB5s8X4kLctEXhIK0I/d1xeOHrom/E1f2hFadQzrno8AqGw/oal/+5bDlj1TYdvInH37+YGppgrtOmiNtcOntmna6IhNq0Wm6QKYyn2f7s2hMwK4JnW9enVgy97hcLw2EY73XmO60KZh0S5t0TEer3f0oON6RhL+Gm89aTG7poqt6N4FlMMz0uxL3gKG3nywaxLN2JbZ629LeIkRbNTtvsRUrasDWMWvlaxpwloor3/968PNN98cfJHeOmU31rXA5i2AJxZrXlU9sjYvqctxxViAD0WHHwuzyWZorxgjPjobSoeEo1knwDordHZahcRU7dSsk1UlkLxM4xHdUw1kG9Ur/tz5dzq/J/3cSmfKEw+nBnKXBW8Rb9CLsmahSu/tIj8deeqfpVWzl5XyrDLKBGAJvMLLijEgO2kBXrELV00d2MGaFvzVAsPDGuEBXrGm1URtJuypXQj7RDPeq17kJgI/JverpzrUsxQGNTpErod5dZJR1XbNQhkFQLT4S7zSFtcZb7Wous5KY1yOMnjaz16G2GQzK+KPZFiW4m4WJ0chK9Mf6szBCFWWMxQxWfUMI08Ema6UUSdtH8sCWpB6ucv3cyvyJuXWpGSbdGrkTpmp6clYjSRNU03qakrXaSbyNiNzM7Sd6pDofvAHfzAAGv3TP/1TYJML+tc/+qM/Gt73vve1lPQzP/Mz4QMf+EB4//vfHyYmJsJrXvOa8KIXvSj867/+q/GwAdMLX/hCA6L+7d/+zeT/0A/9kHa66w9vectbGuSyyQbrFXrYvXu3Ry/LM8BREBDErWgD3jToBdQCbBLengfCDgpxtiAePEjMO4h7gkMBWfaeJ67BeJ+ApTUN0AFMAAnw6ML7hPqgAwDDwyrLRYhk+DNjNEw9TCCRvyTg12vPaKH3b0tSw+quCdAhmCxk0r5EQNzXEopEyCiAF9GZJxH1wFcJPLdRf3md6YcL0m7Hhnp40VF3qjc/74U8L3PdKHKdnSzTkCGZBlTgtSUbE7hmFlcZ6x726AcLznx3+P4sreL1y48rWrQbAEeV4W3HQv36Wulf0tNtlHS2HyzQPekPZxmsTtpuMlMJttHREIq0iUryoTHaJjxlm7E194jfJyaDa0PEEqm2Ik6Vdn8VeVBl3bj/8JDirOfAQqL1uo2WelP7nJd2p9+pTJ6BVwC1Cquyae98b7hwZjRMaY04M60AQvN+5qyjNqN1p1izTcHaJPkruv/WtccI9EekeEAuTuj6ja1KH9WhLYzxemTtN/MWlO5cPq0UFtsomXLODotbEw8/uBGohKo5BGDWprUWGjKStyEkFxUQn6poy98pXVtBDy/BoxLAOn/+fGBdq4ceeiiwcC+/DL35zW+2j+BmzFf76ohcdlv/sjp8usmbslLB/V/YX8lpTO481v7OGHuIny42DsyNbRde+aa/bUeiDra+ThuEfzj9xA1KY9EdV93QlmZo21RbmqnJ1rZ35oHjG9+iQ+faXyOXtdH5zFfKhZ93hMGnXxcunBIHRwo/fvb/9mjLc+26lkVWsKwdLdqFm/6P+9qRhJU/u7Etzdp9ZZuak5+5Nb60m5eGsOOu+iCsFc1De70X1YpC7+Xb5P/eJtzxS09rQ6Et7m/Y+H6YvH9nWxmveN9rN6RZWWQHlF/YkKZaaN+g9o9oZvMPcs7oRh61FrBfu8vXqt8HerR4uryT1dBAf+xSoSczTTXDZUJQlhEvKiiLsqxGEvFHYc0GAiWPxQvZlhbvuqwqkyvh50q58TM4KfITppPbFuuQgHUPShKqk3Wi6cg6jcUxhySrHGemFXUsAYVI2xbx8sKKW6urw6ke77GBLfarOL/IsjbJ3cN7wheGrwm7tYjFkL6VNw0eDc8emgpjveu/VUtrK+H86nz478Ut4dMzN4b7ZnfZjlnTy4Ph7NxImNFi7itqCOtgLWuhFrZwZ80rgClbCwsF6UBjCBqssjxAoVkq86Y1GMvtRrOMN2VIRmNa5RSVNKQtk0gRoEmhQYZncnY+p/VzyVfSpzhNy+1oUt40C6YUmvF6cUtdndllVNKW9CrKdhD3fIg87jR+NgGVPyorde3o+aqIgL+UUSlel9wM7TrmDTLuvvvu8I//+I/hjjvuCE97Wvwu/97v/V74ru/6Lpt2vW/fvnXc9Mvf/e53G8D1/Oc/38rf85732GZLn/nMZ8I3fdM3hQ9/+MPhS1/6UvjIRz5iXllPetKTbEOmn/u5nwtvetObwsBAGnWKG8Bq61bNpbtCAjvgrZWYebr3WB8pemUJDFF3jHufATreVEw35B6N3lQRjGLqsd23upf8OXET+j3J25eyuIC0Ium+tvuJezDJYDDPznLuYWzy9J51AMHlOn9O5wdHsnivSZ7VneqxYlWbg737RJPKrR7U0neCEEE8De7NOyYSmWeaFRqJ6WReK3wHFKBCjoE5Xm+hlxFV/nj9lp14yKP+ahszrSrBHvQDmFm+ONYbzj9WPru3TYZv3v81TUVf1gYfQ+HUwli4sDBk34bZRe3COKtNP7QGVs+imNX+Xq1NxsEQzWRLbmkzy8NO6JV0q6gfgTT4sXdBY/Z0Ykwazdp4f6Q8TmY3p3M5OiPTyrgHpIs+gfWQyi3D4xV9y/ZAl3UUvYeW7ZM+phsyIbY/UR88FHMblW/xVD4gUAhAaO1EfLcgHy8ru5eKcbV51UksvOxuyDPG88G1RW/3DmMsjlfd8rDO++bDtVeds10yj13YEi4cG9ezqF0QZRf7UUj3A594+JG3uE3P8LUz4cZdZ8OwdtYkAFj6NMEz6jecODkRVo4NCsCK3/NsI6Pu/A98nfJ2Std57Q8P5cajwYdHh03X8r3f+72Boxu6FuhaoGuBS8ICfICLj3BbnTZD21ZYl+CRtIB1eFJnyfTwuJ83Uk40NhgoexASaEm/R5ADXSfyqnUVcjvhL8hjfYA/hA3qznJb0Fg5ZUV55jHhlT8oIdrMRzHpBEQZtXVYRadzDvyimQArADFb60p5/NJNmsXZB/uXDbBS0gCrbdre2qcQ4oH12KFj4alDh8P1fTUt2u6D6fXgFXVOr2oRdw1sZuTvP6/e6ZJGT2Vn1Dys1IgMzmVFpZv0NA8rN7g6uLGNiQiz0wOm90sgTbD8mAerdZJTGR1wi6Z07Ik7j4k3ES4mSc55HjG7uwzPLM9iNLVKCxmeAABAAElEQVQrAhpYPJHOG17vJNtNYckisRHvurKUUbCXmud4A1+lHRCt429CU97PJlht9WaTbqjDCDr4g4BSSDuWRMtasGX4n677yq7egEcOXiH7BS94gZ6l3vDv//7v4Xu+53vK6izOJkp4akHngZkR7AyLPAAszo9//OMbphQyzZAphXfddVfwLdbhB9xiGuLjHvc4A7e++Zu/2cVelufxhwSuD2rhdQFZC9s0lWicgbLuRQ2GWYy9ph33HJiws4AK1sUi8A2xdbFGI5jCFEN+gB85saQdARfl2aOFrXdqGvPumk1Rcs+ZyJ3+6l5ioG2ydUZmnB7I4JtCygBZ9JoFJOGdRXa6B/0cgfiUT1l6duw7Bwty1S5AMctzfgB7ZDYLepiocxlgxt+JkmvPWDpb/YU+WUySb+9XaPlmJJ3q7RVRA10igBRvKnSjnKNepISC8rCZrz9moKLy5uYGwn0XdprnL8DV5NxQmFfeqqaLrwi06pnpk8dOb7YlC9QDRHLkQH0pZPt6HvVypOvg+jsQY3pRbjaTkMRn7ZcN7IzslO/ysSn3ByBOwzvM253qBMhBtgfkuUzTS9cLJ2SmoRJMPrwkOagHmUlurFdgDnVzjSiCvrjPsj6uC0TIUoDWZKCH6R/T9gOj2ZXrCKHTKeJyqIePKf8Fms7u1ff9loXw1IMPhseOnQz3zuwKn7v3QBi9azCMaY0r7omhc7qP7xkKs717gxy4wvIe3SPacfCJ33ZvODh6Ktw/szN89oEDof8rw2HkOLaiYj2XQ0vhwPgZ8/j+/OR+zSLbE0a/1q/nVDJYsWC/vPQeeyHsnzhvHtrLMwvhnt+mhZsMqstt05YT2kdheFQCWI9CO3dV7lqga4HL2AL2od3ER8A+4pexPa7opnmnqEMjWKcq96TE5Pz0dzzeTlYHN1QHJM1rSTq01KWqYzXtUv35UDm6ZHkklGdp5/W08zZT3mmhMRmSI2DIAKMkkyl70eNKnWl5XAFgsfZVn4zOL6DbBubCroHpwO6CYzqu7T8brtNaLXXwyhVoPN+1OBeOLE8IwBoO9y5cFY5oB8LT86PyuOoNc1rril/YWbidda3skBeW/WLN4EsNtbWtrGNOWrLtUJw8Baab5HwyUrmZIdFEulRGgiA+o4mpBhmIIEhyvsUsw+u3RPoDURmcOeXZtSrLFW+ol7LEsy6/5KsK2pC4zghbJq20mbJSrNFV9K82zyRXaOq1tYg1o28quAV/k2x0ze1qUl7NctprrrmmoeiNb3yjgT4NmZtIHD9+3DygShbWqGLGA2XNAvl4UFW9pq666qrMAw3pMnja5bIp0x/+4R8aeAaA9cd//MeBxdYBzthx/HIN56/XLnSDEagBxBg+qWdZAIEBAwzIE+Aj/COsClNfFdhla2LpnjMPLC303ifncaYeMYCfulaeQAcHRTNg9xSLwRtAIpkGPHCv6V1i3x/F4TGPLICzNDKErpdpTWnnQtJ4rhjIknjiYvLSRyAX96MBMdLBPJKgAVDgkPzyPU+eMehhBZwKgGKi573RwAOZ9ISfek1fyJR2OuSimx28H5HDs6jDaChPsr29Ko3vCeQwJTLxlDKhye9UyhXgNxnUo8B6RXLC1dpHq7ou+hFBP5r0jGh6+uByODdv2xeGWXnjzs0IvJoRcge/dqRlYX6bbkbbJdtAQWxAedZVsqgn1W1tolIPrpOXw5sOI1GzuJYGGCYb4OFlICTAUsnvMjAF10tns6vAGnRjXTKb5qlsprvimYcnEnRca1tvTdNRAbbsXlIZ5b5joN23ZuukvNeDlx11qX4DC7mOtJks6eG6R11Uhi7YSfSsF3Xh4GrYc/PJ8NSdh20R988euy5M3bMtjB3Wfcsi7tV2qT5ksibcGuuyqZy29Qkgtp3/pP/4oTXx94cjHz4YjvQcND2269nk+ZjbiXHidNz+GfFNc43WwrAArbUviyfcKJ4bTf89kOoHNGzEfcFztKD1tj4xor0IVQbQvP1cXPS9trga5rbXwqw2vt81Ph2evuNBzZha0VppS+FjJm1zf7CP3UcdsHVK14Goh5WkC2A9rObuVta1QNcCl6UF9LHIH8pOGgh9N1w+FqAD5qGMe95mzsW9YR2LJM86lBvIKcuNTxneMbEyJeJ5AyHVomZtIa/IL9Stcsd0os/6uVKljFKm4q6vCfCyRG9TBNX5c28r00VlPUwPZPAg+RxMEWThdvPAEjkL6G7RArrjWridHQbH++fDvsHz4brB02FrbVY7DM6Gp8kjq9l0wdiQ+Jepg0eWt4QHlnbZroOnl8ZskXbAq2X10t0e5h2VGMmLa1qpw+8EpdAibuCVp1ObY1KMGMbzXE6Z9mucjO1FLo6zsXmBEh7Nimeikqse98tXz4mxfH2VNJn8SSq77JK34RonYWV5yor3gid0hibTSUg9Holy2nnQQ0epnxc1nE3pek6DHDNaKiNeobWSkqYuZnMxZGxGTqI9fPhww3pReGA1C294wxvCW9/61mZFOY/pg49kYG1bDg/Pfvazw3333Rfe8Y53hPe+972efdmdHXjgPgV0MMBH19cBFUvz3tPgnrWrBs8BWEGA91VP0GvI1uSBF1k1TUGCDpCEe9nkF+AAni7mYcWt4s+HzgBQNo1NtANaCWTorDxCpuVbqvTSSG9YmFBd4xEE4CIg1zzB/AFDlvS06Xyp3IAn6eLPlLfJfm2QbhEgUXny1kGuTR90vchIcokSHLCKqeKv6Oz5lFxsZUCaFyc75GfMZRY86JLLodcLmzZ6ntlRactT9oJAGsCrvmtmwo4t0SVuRd+BJaaO6yDODrSr85ouqHWSDHyRNw42JmA2qscmtrktOqG7Qv4W5HTMN12gg5EzvKZrOqOvh8RL0qK67njrxVr1Fw8zvy+SDGuj5dFnUPtYOmpM3y7xEnK9/FqEDuTpvjBdOGF31lhjyqfkWDl0iZYzwBZAEgdgzpK8DBeuXQy3XX80PHXboTArhOnjR28M5+/aEbbcr/tYO2bmkNo0cH4t7LpDMj67O9yxFtfIo2nDZsBIBNhmXo1b67sOximEarc2OUAXwKz57dKH6bJKc414dnpZHw790VsH68atJfCMewvZtMO9t+z+TrrxnFy4cS1su+lseMLOo2FGlXzuwWvD4BdHwrZ7tDan6nagb1ng2NKwvCP1XK0NCPCSEnMr/WGhp0/LEnBxLyKgR9KlLXendG0FPbwEXQDr4bV3t7auBboWuEwt4J2zy7R53WZ1agHvPNLpIfg5pjrrVJQ8qXOx7v5qoFGiTKe6rKPp9aJK6tRU8wuSltF19UNJnX6QbtYRKsuhSZ1e0yEJtVOpv/EUGYo6vbqLsU79kmrTCk2myjUoWBFglXchFAMdwRodTFUwJ68ozosaWbHm1ax2BmT7a37lnOkbDDPaw/6q2nS4xWcOIrdJuGdpMdy/eG04tLDDfvE9sbAlnFsYCdOLWvOKgYvWulrQOhi2w1TSga3Rbd0rn/7CmfvEGsVZTfI86rTrRMeYRAqWJzrPa0ZT0hIXjVkx8XpxluEZxdlV8qxM6/XmghRJ+UZX0MS01e4cDecstyF3faJKV003vecQU6m6ga9ij1xrhcfyizZlumZ5ufB/FmnQs0NRLHZeLnjeiu11r3tdePnLX96q2PJvuOEGW2T95MmTDXTLy8uBnQn37JGLQJNA/uLiYpicnGzwwjpx4kTmgeazn/1sAzflhFZyKXvGM54RPvWpTxG9bMPgpAbIevdkQAEAQfcZgBQAFYNw4vFdEct4VrllGQwzKB+UF0g9pB8sPEOEed0o5dXkadIvUMAG6NzPlANq6SjXnlrStMRlDa4JViavFXhs0WzxOaDjz6Hpr3ebAzzQctiUM9EDttjAHw+YBLwAMhnIpTOB/FUWNadaGugBPRXsGUl1eD2xQLwlvWU2/mn7fKU2NXLVU7QPfb1ewL0th2jfsPKGtAZWLUzd0BtmH7sQ9u89Z1MIz2sNxQtayH1FOrMLLd5w2Jj2mX1olxTPtqS61L4qAFfXRDGumWxl94HJSPLEWwZvs9kGHmyU7URGnRodDGQDqEEOxUlXu16k4bX8xIfNUv3k2H0kMAhQNddT8EFjbeW6c81VlxyNwsCFwfDg3deHB3qvh8RohlW2LFSKw+3DNbBg9Ua7WRtUB/eoeYbpWSn1LHVf07OE9xV56G1eXTbNUPqkdpgcrTNHOXJokx3YW8eK1sBawluRrQfF1DtbCwNne+0Z5HkkjD0gwPeIphL27TS9wo7VMH/rXBh/zpT9sHZyciysHh4No0fxxov3e+9cbzh6douWJDhgpmMK4cUGv+4Xy3+p8/E67IauBboW6Fqga4H/iQX4xcd/NutEzmZoO5HXpXnELGAdoEqH0ZSJfZimelnHqmlJk8yKnNwpKfPVwbLeDmdCWRZzVO6FkdSzW54TeTtd61IlKSvXXGqWBZMxqhOZ456ns+vPOZXHLCU8TU9Tbcr8yl/TGj1ezgLu9uOlXSDJ0YBoun8oemkJwMI76+jwlvDVoV22I+GQFuz49+Ebwo3DJ8NV/ZP6MXwtzGtveNa4mpWrwqp6rXhbsR7GkemJMD0/aGouLgJWabqgBiUoY0AVcQApVERBzn6PKG1mUrrMk4Z189FY4yU3hWra86tneAnpbHWZkWJ2vZKUhlQqeiDacBldX5frhJwhbpZf0pTxCm1DPYiyyguGZvSVPNOhYMlR6Ip25XwiLqOkadIWt0tVT5PlMlxwJc3AdNPhG/wd2bVrV+BoF571rGcZEMW6Vk996lON/KMf/aimw66GZz7zmU3ZoWM3wX/+53+2jZUgYifBQ4cOBeQROLPhEuCY7yrILoeAb7feeqvRNPtz5513BqYWXs7BpmjpRotgjwAieXtwnzJYNk8qgU0MoC0o3+5Jv+eK+5x71sv0msv3egQMJJ/3Tup/lIAWclmU2xY9lwC799Ng3TzC/IcH5VlAB8ly8Mw8l1Q3+vqRKEWo1yHAV9I38uXSCG45mIFuvNeRQ7s4Ngj+jGaSRG9tU7yUkW3gdstMKULVHGa3OpHbEyqPuw1nrqqFc49fDY+99Uh4yrbDYUkX6eziqC3aPrM0IE8sfUlQwgQjQAdtS4CIxalK7Y71eh2yl2xi1zypYnWL1N5fZduIp/we7pG66uRmnS3h6ZRw+7gdqQPb9yKHbxiyFbd7QPke3A6eznWKH9qlLQJ4tq6EnmFuKoRKkILdesS1M2D/eYE+56OnIGUOJGVZ1A1bqpd4tAeZKRBNyVRFQ5ppfwBNy1ukh/oAtAlPuNpcnLoKz4q8v1ZH5Pkk7yd0ZX2ywTO9YeiM7m+8HFW/gbf6MQzbUB+eiqxLtzogzy6l7bkVCIZ3m++iaPcbIoVBcV0GJvUDl0DOk+cHJEegl8CqAe1caDrIC4tpwphqWX2KC1ozjR/cVi4Wv8LQZmw31AbnTuk2EPFIFHUBrEfC6t06uxboWqBrga4FLg8L0NmN/Z7m7VE/IofU0fIOV85XhI7L/yi47BZCSvnVjl5mkQ5O5zRtxGbWGOmA2kn8XJFA0utuUhSzjLcQkKKZT42wOPllWW+/9Y0pY/OnM31j4bT90k/DQ/gPxXv65cUlcIsQ16pSx5KOPIGFWJliozVM6LCarWBVvmYvxqo4w66zd8TdpohAMefzcsv3P6kqT+YzcguZOX8zEZNdVIA8gssm6sV+LsqMNv3JdCldtrGhDDleTymgSRzSUk4TkvWyxFTWl/lb1ZnalXlatI+6E2lTNdplZj3aEV6C5bfcckv4ju/4jvCqV73K1qNicfbXvOY14fu///uD70B45MiR8K3f+q3hz/7sz8xDamJiIrzyla8Mr33ta22tLECp22+/3UArFnAnfNu3fZsBVS996UvD2972Nlsb6xd/8RfDT/zETwSf9vjOd74zXH/99eG2224L8/PztgYW4Bk7GF7OYVleVmsaxHLf8G5hwXLCsjygZvfFKWq7J6bDvNbWO3ViIgw9OBCGT2gQLA+VFfEtjkOr9x6DYA2k2XmtX1MAGYAzVXBmn+humA/X7D5rgD1Tnhcka4lpz3oYzs8Mh4Wj8gY5okH1ZHp4Ks8WHjULOwQGbF8KPUx10i56gyf6woh2W+9LXid4VzHIN8BDA/7ZvdLxpunwnGvvD1dr5eu7pvaGO76qBbG/PKhF5iVLA/6p63vC+C1nw3P23R9Yt/COU9eGE1/eHcbvE8ihNYbmd/SE6RuXwk03Hg1P3HYknNaOfv966PrQc9d4GDukqWpM7XLQC4CBgO6KO+Bg7zjZtFfeRPZ+jlTr/ub3ggTEayH9edfHT0LxKlM7VceQ1jDa93HZ96NXh0+uXW27Q7L+2MwNmrK+ezrUhCLOy/t3VdMI+X7YYt46x10HpQ8/dhDSCZl+Dxigw33A5fBLks6wePusjUqbnrof/NtkbUk2yO2qpOHBew8e6kAW0/q4LsRpt02pY301aCCTjgbAqdzsTFr3nemjOOuzLU2shOFds2Hn+IzZwEA841a5BJybHdYPSkKONE0OMMnqwQtKuhgYSj0AZ0wz1JlgugrQYa0q9KXcvBMBjURndlP7AXyZvkiwabJjWvNy92zYMjJvuwNPnxkJPbP9Nr0WGcujWh9T5dduP2ebuzx0fiKcG5iQPC20zw6G1KNnCK8r7mt07Z/qEcC1Jq+xCDxGm8kLXM8x+tIG1sjqn9GzyzMoAJf1s2Z1n+IhxnRRADBteByGTrMG16psrimm6l/MaSfjmTEaJP3nZPhuaGqBLoDV1CzdzK4FuhboWqBzC9iHs+hYtOOEvhsuLwvkDmK1WeqEdBLW8XfIV3Z8N6ynk3tOdTpZgz6d6oICTWgbZEHilSiey4rMnOfy0Mvl+pkyQkpTbh35JMfidNadXgjTGr/AmueW+ARS9Q2uhAHNXehjvazaStgytBB2DM3Y4u6IZh2K2WUO/WIqQXOKn9cvo3PzGpDwy7o6sqvLqkSAloFbqAPYpUGJDXhUnanDr7602Q7+JLVj1PJzuZUWf5ymyIq0hcyibF3U2+8FTeTZwMXLm9BXWaz+RO/23YjGr5FXwdn5yjyLl4KIl2kISv2Il2nInd7P8FRDhc9IN6Kv8nu65KnqweBukwG7lrZtx74Z2nayquV/8Rd/YaAVIBW7D774xS8Ov/u7v5vJALXwsJqdrS9OwzpVTssC7Oww+K53vSvz1Gq18A//8A+26yDeWKOjo+FlL3tZ+NVf/dVMwzREpjoCkI2MjIQnPOEJ4SMf+Uh43vOel2kux8j8M6ZDrxb/ZtMJNpzg8NtUw3x7DNjJjrztuy6E/j16Z5mLlcB4vYuWtFD42gIbRwhc142xrF1XecetiAYejfEtnJ3R/CkFQAQ2mOC95uDC0P7psHq1ACOVk7eEd+mCRtq83wh6f9aG2Mk16rkyvCTPllqYvE7vQsB9gvTXGD2+Zznx3tU78pMP3mBto07eu3OPmwuzt4pQ/6GZnh0MH77/ZuNd4Z26YyGcn9BZejAtvDawEh48sz08NLnVnnHT78a5cEaL39efeQkrn0ni4s/B3/3+4FBmNImujDtTKU959n4nLwFatkMh73vAqcTfo+mZQw9pZ9oHt2ldRHneyKCjAjoGBGiwzheLodcWVmydKGgJNvWShiBX5zgVM9LXG2ik8U+idU+wBho3iGRZuTwnc+DiAPbZRUrl0Js8nbUDL7tWrg7oXNO9pHxbm4xyX6OM2yHJMbmS36OG9iyBKomOoHeG1dFbrMdXqDHKvds7o2+yhCFL/L0LAkZnZawloT8E6aIHQTQ6J31jQfprOlO36mV+JsH0LPQQf+jvU5sEd0inrbpfp67vC+ev14Lq27Gzpvp9TfkfGQ69h5fl/bQcJq4dD8u39YWpxy6H/omFsHRhIIzd1x92/5fu/UNTsoc8y6SrOgJhTe8rPUzSU7bSRhdy7Y66Kr02oB/MdOhBFfiljV3GRzStUtd+76y8VVfC/OHxMHhWt/p/yNXrxOkQtk1o6ulOye8XaKt2635dlafaxQTuRb/N2/F3StdOzsNd3gWwHm6Ld+vrWqBrgcvPAnyz03e7o8ZthrYjgV2iR8wC9C+8j9HuuhZ9adPX6f1MJjRVOiOu/yn75PXcemyjDkkDb1lPGUdUqVNddINuDbKg2ajiJMPHDGUbI/BUVlLEpZepgn5JR6uXuihL+RGwinlws+uPgVVcG9H2MPiSd1VNAzsGeAMahAFY7RyeCSN9i2FYUwj3Dp0PB4dOhH19cTGZUytbwkOL28OxxQmtnSW3/qWhcKy2JZztGbF1rhiMraiDvJIGaShq3lryPDBAi7QOX8/EbYrqlp8MaGlTmj8KKk9NtXjOQ5aCnSTAZCht/JnBSJr+gc5CqteJcr4ycpFnFjo6fdTdUzp73X5WPV6VU7k4T+ez86SMXD8CVNbAt05oZMo8JJO8Br5ItvHfih7riKm7rB/6Zjye5+d1gjbIqNaxAakVlfq0o91kOTsOvu9972vJdeDAAd1/jQoMDQ2F3//937ejFeN1110XPvjBD7YqDj/7sz9rR0uCy7Rg58RM6Btdth1Mp2eGwuycBr545+jdUtNCQMPDi2FAO6gSAG9YZ89nF7FRxZjeZbWRObsluSpMXfNFxI2p8scAoCW9u7RmH+8sA4kA8jWwjju36h0pcL9f70kP8HDJlwGYUuBdCrhEndzyvF8ZnDu4BlBGGcAaAdm8e1l/EF5ksvnFsvSwHVvBIZAp8A1gixD/qk0C1OR8E/MEGAGM+Q8H2KnHDgnwZ89pVYcH6vRA3Vm4Z1bPBS9F1SniEchCfmwLnkE16eY7QgKQ4IEDeIU3DmAQB7vO9eoA/MggEUAT6vtzxdnjnu/pqp6kBfJE0CjGe/iFRWBQD4CQywJsAXByUAuAB4AIwAnvNOi1O179CotVYAzlco+LtSLD5ZGjuK1LVeYJULI6qAdeA8YEOVAfcmQn/vSww6VFRY+eBkZZoYoxZq1Ogx5KRzAKGaoX+vmFsCZA3QJAFzycOZDBkTyZaqKVs6IWhR8WoARAh6eUfsiaWjLgDp7hh6bCNV/V0wVAJfk91AswBRCmuLVVuq7Z9cIWaqOqWNPF1t0c6+W0sJhvRUkIO7+2FnZ8CPtLb8lZekx/OPnUkXD37VtD38SIgcV9p/rC0KlgXo3otpI8yWLjNvFXvG3vbRcH7aMwXNEA1qrcWoN+8WgZvhJ/qWhZToHu243Cqae1IRCz/Sq8kRCV7bquYXXGptT/74PPbppfZh69f2eZXBe//Vs+si6vmvH5rfuqWevSYx9k9b6Nw/wz9MS3CWOHNya4oF9+2oWz//TYdiT6Raj9E/ytN7ffneefDz15w7qGj7XX9wuTN24og8Keq/VibhP+13f8dxuKED7x4SdsSPP//O6fbFhO4Vt+6uVtaY5+M78hbhzO3tS+TebVsIGYvf/SXga/vGwUVrR7z2YDerXTrZS5GdqSrxu/9CxgfWDdMtYvrt46TV4r1h/ugC63tEqbC1pHDMwpiit98KJkg2i13tTxb6p/Kabgy/UWeUZapM1EpIu8UlysT4MDeoAcCrZ4u16lBlKRgW4uI8VtV0KBVgzuKGdQNaSdCIf7l21wNaYdCQ+Mng0HR06E7Vq8fVRzF24eOBFuG4hbnyNWkwzD3YuHw1eXdoap1eFwdnks3N2/NzxQ2x4uLAyp/9xj00OYImKLtouDwSADKxvo0DgawGDL1IiNpJ9vfQdrfFQ/DlyUn0Iqiqkkx94bzkNJipu8xJcuU0rF6usJ5ymkK0rK+fI1c6ZU4BxOV0e6nLA4N7mWzu9UWY5nVM9JRgOfJ/xc5SnS69pRlJV1ZzrXuZDtdEaT7r0sJtE5TTXfr03O7yDS/Y50YKTLlGRJ847w6sQbdLvArJ6tenfp5mLzCQCt6VOjtnYP78A1rSs0OLYQRoYW5fghLw3diwBaDhYBzKywA54Ofzcwlgc8svehbAhNDXCspoG4+CkH3KkCPNABLBHcO6y/P9IBSlk9vO8U55EAiAIUK+XwckE+gbpWNd/K3pMAZ5SZHgJ0pB/pDGSpbmRiBwA2L0eO0ah9tNkCtBD7QTSXRRK+ETkvZa377hh/kgVNVQa28DyXkc5SM4pLOliaOMNAygAu4ufI0iU7InsAesRk7YDOCcjgulO3DNkAcEFjDPFs4ErJ50AVecjXjysGSPkFUbmBQIvyfoKGfIAa834SvYNVyEkeWBmsgp5A/RzQegCkYiEtTREkmDw8ktzjCvAJsAzgCdnwC/AxIAogizAsj0N0GdT8PeRhP3gEQlldVofuuzGN1b09kdNuA6IGikEvj9A15AqU6lV67NRQ1Am+ZL9sO2+P9O3Bg4p2Sc+1OSF7AsOslSwW58CW9DDvK+m5NsT6VtFzzcDDEpBDn8JG/Q+eCvvvXwn7U/32gwDldBZS3vLqxSFYm/mWWL8i2e3RdLqiAaxH04Xq6tq1QNcCl7AF+KLZV61DHTdD26HILtkjaAH6QOrPEJr1benINgvNaJvRWV4rIRWGLDPpk4urOqCzjnovOVPWI5RvELJIp8syVeJ54s86Icvz/ezl3j7ypfsaaeJOpwGMeVQpi1/be9Mv9EYikIrBWJ9+/Weww7ojwwKrxvrlWdWnKYJaPGOif948rK7qvxAGteXV/v6z4dny399WK3+oKsErKgralXBEB9OkOM6EzwzfHz4z8hh5ZW21XQjPLo6EswujgQV7GRyxRg2DTnYjZJBlA0AbSCpu/VJpTL5ALVskV1Ktr8rgxAOGpfmeZ2kGP6IhTvBzTGUAqiFf+phZE62dKnzGXlRt9TaRn6rxfnV9EOW0pVzklTIzs0dSmyEr+JreJ3WWGCvoS95M1iAk5zZEChEN+dWE0+V6PAPC1D5/7tfxbvDbaJU2p5Ff1pELWkQ2Q9tCRDf70rDAntGp0D+6EOZX+sKs3iW8RxbSe2NwaMk8knifGOCje4/zomgIgFJ4NA0k71LzzpJ31dKMBt9M/4N+SKDX6GIYFIAPL+8lPJ8AoeJ4vQC9rJ4kV+9ZwH+C07kHFnKou0+yXSZyS+As8tVfBuAFvKcreIPJd1pk8NHgTJ2rEIOfQKA6c4Bug4BO/pyWZK3rVrX2YwP1lxxN4og2PVVGnHezdLQfInTOAEKOi8jieo8D3kRjxjPADMAF+Q44UU5AZiXk6X+e7w0yHvE5r5+hK2gMsCp4zaMJkIggHsp7BGjZtDxAIngFyvjulPGsvBQyoFVeGy8saACQenRPOxhFkQFb6SXag+eUNk1pmA6IFxMAFCHpYUBcArSElkpXbJsMJRkGLBkYmHQHCOOQiNXx4TBz/ZZw4To9X9vidWItuYn7F8PQocnYbtWTpy1SJzYRoNejTSqsHvI48CoDxCIY8CQ6TYG0a4u9BH5Rn4F2IunRtFHsaqCaXxuAQmRRThtk+zXt+Cok2PIu+g+3T7qF2srolK6toIeXoAtgPbz27tbWtUDXApehBayftImPwAbf+cvQOpd3k+h7tRrEestzPztd+Jx2guLc7N5YRx/7O3Wu6r1HOXmJzviJV/nqEmKsKM8iizzrqDfjSTSxHnGW6ZLeZflZZVUeeA28Sv1CY3fwKuXxazw/gPov8wxUWDOGaSsMqOjb+hSV3vTzIrRlUNdTdIUiZeEG8SdouszxldPqr/aGeVZuVVhOq8ziDWCDpsRvHhHKW1bdqwxGVZ+GjhG8Im6AFA0WA23EGMTtKOJJTfM4o4xAXTkeWY0v0cYyahNd5IhspV2VU8pwMsS2NI3r4nU7U0MlKbOgsXpKmvUk+b5xkU3PhQwXn9sAQ0OiqYSYia2LUGUriz3uHJ42dhhTRlVGIb6jKPybkbEZ2o4U6BI9Yha4sDgokGrIFlUHAAecArAiOJBTvlvId0DLQCjdDO6NxHMxMChPUwFPBgYpDS8eTEwtLAP5POuMnS1OIdWmm4txttcT9YigUpQb33fM0CoD8vz9Ab+N1fWMwGNt4N2t97TFxUg+dUSZkd7i6IYydkZm/QHB4ys6q6CslxEhblnr/6Q2NRSkZ7chz+gKIRi0DJTrI4PHDPrFPkCKi45Fv22xb9mFz48tcG6eT2qnys0+aq9Nc+OlzQfL6tAfCjGYn3lfw6SQPa9ImFGLM3kYhOC8nBXytDdLNfmDrOIiGkCF9xTgCgE5fpCG3g/SHshzHTyvPFs7oVGm8+ucvZI8z3kAhzhSOzw7n7ENXmHcvPAS/BxTdVuk/J55eWEfm9MaZENheUQCxNY/tRwGzmntLWjKdhbyskdakuugnYFR5CU+oyMtQHBpmzZG2KGz6uE+GLggL/DT8gA7Pxu93qiPA/3dbnhvAZRxKPToPr+YUDwqbdmbPRZtmS4Bgi6AdQlchK4KXQt0LfAot4B/iDptBvTdcFlYwH5prXTgGxoW+5AxK3WWyyw63HY4k98anBNhq/6bs3Cu9sPLTomVKWMjmlJWg7wGZRup1hUpw34dpqAo9CY1cBfldP6quvkAynRRPzquaeVyNU1F7cGJyetZkAdW3ApQHWLyNVhjDRUblImWwZxNIZRnFuDWiLyz3j9yPlw7fDZM9M2GrbXZ8PShBytTCKm9HlbkQvVZdXz/e/ba8ND8NnlgaQFjeWBNzutXXQ06GXQxQFzUWi22toxUsqkyKMp6LXTcCTRWcfsF39Lk+YHyKqMcejeeeKR2PZTxem49VpRHiSpSHjI2lFPwmbDMXBftcjwnXzun9TpyQaIsK66UlUUu185VfcrCVOa8JtJ18LPTl3JcP5VlnpKecrs+zpzoUrIkFaXlug5+vWxXrzp7Z7Hud6QzO12GVKemxrR20qC9u/AgZb0rB3gMkFceAZAKD6v5hX57x5AHHWtP9clbijhgPfxMR0QW76XolaVF2eUZaje9aHhPAmoR4q0HqFJ/UKhrVXV5dwV6yo0GOpUrZfLh4knoUX3oUcrt0a8NjNGzIEXx0vJg8pFl8jw3nZM+ppXK4wOrk4pNH977HgrdPcvpPY2OZbAfS5DrQVHkAv3XQ1mu/Eigs+hkP2bJGdZIkfoCsTug9oD/KI9vIjsKstB7L4d2TURVW8A9gZRk9AByKR9h7qEVvxN8u1VGvW42p0FJv0DuDQSd51MmcMSm3cdcVVy0x8p13wCgEKce5ODBxI3noeRhwXTRZh74yDMgJt6nzpbPMgbSAPMsuDyrL9bT4BmWyExXaBO9e4FZGh24/vyAhA4EPJ8c9IKHfOhS+wCc+o6dC31HpCegHTR4bQHWJV5ojd4unvhFE0E92STrEeWCXkJr5ZRhN4VVLdq+sHMgTO3Tum0Tytb1Hz3KjoMqPHdBGy4kr7LSxvv3hJPftD2cedpK2HnNpD27KzOS93+ayM39Se3uiMlt1xHxpUPkt9Klo1FXk64FuhboWuBRZgHrjKTvZyeqN+tndcLXpXmUWUD9Geu1udqkuU/8XiFNIO3xytn61rphvI9t944Sfg95Phk5nkQi2gP0zkMetO08x4zX9XFBxqw/8FPmRyq3pjXjoTzlR75kBOVlOUmG05G0MgZZ6sc1nVYIkQ0i6MyqI07/UQ21qS0aSNluXkoPaoA3NqgFXLX2VZ9GGRPaGgrw6qahY7YG1o7azIbgFdXUJPx/aReumbX7BXrtEYClRVi1f/2xvgkBWcPqw/faToXTNU0BSoAWngV4X61KF/MqUFPWGLxpILNGp5pAI9WfjlNSYh6Dn4Z+pZVDmw6d8vVMYpCT84pr4MV+35VyjcwJdM78nqd61gW/ZusKUgblRLOwJoQqK4vtOovMz7nMM1xELiiIN9I183lEdXAvpWQpLlNgFG+DZ8KQmVImdCl4UU5fxAwQdGmqjwutnDdDW2HtJi8xCyxrqt+awCUHftxj1EBxPQO2blS6ycgzoEo7p1pQGsDcQPMW7UJeL16qeg8RIhAVz85CHuC+BwOqEi15eHrFaYd6dyUdGLNHWZHPpyTy3iOYTKtXz7tkmwyB+QBp5oFqNHUZxiW6hBOYDN5X8JmXlsvlnQ9x0jfWZuT5T70lenRJSOfy3WeEYvS6XB7vh0Z5Yk7CDETyGiyvkdLeG8oCMFpjMw+Z297lvHMMoCJfcdiUlysSkIE4+waoTegpqIsM5SMwKeB1w5suv2fZWY3IQFdhKytDBtMDWQvKEEXlQi/Ax0AfFwSdwJ0eAW0ZuHFQCxqLiy+BNcbmQAxGZAF3Tf0rF1c3ryL4CGboGM1/vX18E9ENGn1vbXojOwh6SOBZNBA6iAxjQo8M8RoQ5u1zPk+jMwcyWd+qDOK3HRfLPOLIXJJOmtZnC7dbnupKa1UpJpkC6ADBkCldbLH4E5Nh/A7xed2Sb+tcYStNafQQPfFEpvXB+OGkd6E3TM8NWh9mhS1BLyLwWKRHoy13p3RtBT3MBMVd8TDX3K2ua4GuBboWuFwswBfMvmIdNmgztB2K7JI9ghZQf2RdaJYHEflFmXVkLX9zN4X12UoWZeSOSIpk2ZJfxqmuo5D0XMfr+vu5EEaW90WL7BhFXwhKPuXV9U5k9HNFk+uFz/q0yiTfAC0YoUvnyBr7tQ0VpILixGCOBdiXNJK4oMXZmWZY07G0thj6e9QJ3SAAYh3QLoXzqwNhRgcyzi6NmtfDquQim4WVGYjGXdrUCecXXTqtdM7RWY2xQUYaYNA2CgzQUnn2zCLbg+QykDH2lIdZlB1lclbAZpYXk3UbKm28iS4Vx0GTC9XZrp3LdKLinGWXcpy/oLNoSVMtU9quL7yJDtlZvpdzrT1Q7jZLeSV9Jiv0aVZueS62oHV+P/v9Z/TQOS286aDM6ZzPzi6/IbNNwuW2IcvFF1NHZu5GLjUL8OytCNxZ0vpV82tpTSLdYA4+2ZheaYCgAU1l5nakzKYqKw6oVAeWeFvEAI0BSXqW8MgiLApAwisLb1Gm4+E5xTqCQWtkOYhVrpEFj8uPcf56DcTrAboyULeHKCNxFs82FM7H658XAXyOS9g7U4COiVa+tUn8DvhhOwPNyrqJp7qjHOyT6tGZqegWEo0Jh0UPt+vi76b8kLv83ETR8slIVRmmIRMb2Iae+qFiVUCTPhVhVU43DoD1AmbxTdBB9aYqldkLOKoFba6GrGLtrEihvwW9e0HlqYbxhomAkzMor1x3Cv7onSSlo3GkqPQAdAG4wTtJoEwEuaI25jnGelYsUO71UxfBz8Q1ja7H19Yi3wGvXGdqbykDkIuDPICwJSE46OI0yC0C31hR5mAL4btHVamLUyCH9gHiEZJs+1aTn0ApALw19yqT3rZIu3YitB0J4RsQfJK8tki6vraLIjJTnsmweD3P6lcbVw7uDyefMhbO36pneavW+sKE2gKS+5/3gFb0DKuLF/FLiNWnP6VhyGsVOqVrxf8I5XcBrEfI8N1quxboWuDysQAdEO8DddKqzdB2Iq9LcwlaoNopSP07NM19YL9vjNY7gPXyslUN90xKuJySrpTf0Put6lNlUvWt5GXSog3N8nIVVTovIN8OZVRpkkDXwc/2YGW+XGtU1jq1FDLg4KQOvxtK8ThYalGRyAGf8KKa///ZexMgy5K6/jer7q17b1X1OtPd092zD8M2IIj4B0SDv6J/8akRojyfa6i4EGEgriFu4B7B330Ft1BDXsjTMOKFET5f4PrwoagPUWBYZoBhYIbZuqfX2qtuVb3v55f5y5vn3LV6GKaXm923MvO35+/kOSfP72TmmdFvVhuv766NDWBhwQ2aUXCmeTF0djrhwvZiWGxshqXGlva60qwC6d3QAHqOAarZwxhZNuTxq8qCZ2e7bxCcTGVIHt8qC+Z4wxnG6IpmRhrh47KTnmjX4bSoqKcktgcWAPM8ZXyyw3EFSYUevqzPibwNCWcyHEfOTzSQZV4vF7wCRQI3QtWiaOj6n0F40+H66wypXvKVZdDG6jbX5dTtHSJ/EBi7yvYPoilhe6Et+ably88D+7SBO9+T6GoJMh+AYKN0AkvMmuq09UGKzkboaFkgwSo2eGeGJ8uVu+ozBLy6BKI29eirgAlLqWdamm3VUjCqWGLHNdIDMwR+2Ex9cZ4H59hpPc+xduni8dl5Ij/XWq6z8brGrK9yZhQf12DWKz9PLpc6vLbJe0Jy+hA8wx4PRjld1NfTbyzJVvzAkjyCQ/WEPvRYq5TnJDjvJ+RZA8W/KpY0YMSSbRaRzxQzJvRbpAHuJNsFpRxx/JgNrFcVilHJFgWs2BcL3eYvAliCI8FokyiTbTcz8ZN7MATlxHWMIxLbbCGjcQMwCcUuDCYlAk2eXDbBmjIlvvpSOCOBx2duCRADXoLV9RTybOYUAR6ngd9loJtO5jgPbBX8hsPXHswqcUXZZi+5HIenNno163GAglS2Ubrv+6X7tQW+/AuJyCOwSO6yOQ4W4JJNJHTw1UT3J3QEzsgV6LLkMpxe7d+1zfE1O62rc+SeT4YTH22EE67D6Ypj09VLtfujtD39tW6aTB3HCO2VmKYBrCvxqE1tnnpg6oHLywPcxOo3zVEW7oV2lJwp7in3gO2V4+NDjV0YjI5LAwcMDCLgVV7BD5BZ+RqdKyv1erkiyAljbnaWAxf0CuUsk7TDx9JOW1drcBOadEsHXd/sd+KqWTb+gy8/QGhw5/JNH/QMfnl7Tq5kM7L0dpp9slznjgbFXfYaoUEi22jM2dcBL2ijZGZIsUfMqbX94cH24TCv4NN+faXw/Pb94eXzGlQ295ncYX8+pQfIR7sHw9L2fHhs60B4fHMxnNtYsCWEPFyusgkzD5Qyhocf3qbu6OdfHbRcZuU6JvLgyTNfbqxg0HgSjr7meMM53nOnTbl5B76Ed98YGmTJ52XluDYnL3suhMtzGtPjlWG5lDufqeaPA+BJ7R4Aqkgs8RVEWSlszX1mEB660ngzLBLaeZ3kFIeklFItuxzPq9jJatP7yGR+ugqpLi5pJuh2/FIa1yz7UIWCQAR1CNbYl03TBuzbuqZYAAc69TdmY7E0cHde1xv1WWDIqAaEdIpZR46dGrwFk4AN6eB2/SpwyPYlghwCC8ynY2HXWZXtesfMkbTHFcEp7MEWp6kHuNCDrG5XhErQxzydgFQKOwwJyAu1PLYzAdVOUhKZbTCgZFobdY2s8Biy+GPMLkc8XCDNHuVcky0Jji7I1BZmZeEvFFNmmyb71of44p5JEddrrOq6n9lsXWOCOSXXoVtImSwAhrMUDLPkCp2oHnCJB8KCQrb8D3o7qMrLQJkfAJdDLjoLXJUwyk5ruiOdgRWsscAZeNdTLv8jGqeAkQW6nEY2zDgNQuoJOt3Xc5ANm5hJpZ8FpERfCTrB78ExtxOYyjMdfe3QEzjHk+MLbKYN5MAUjNttE4Ekiii94LYE39LXGuXn3V3V19cDX1p0nhmWKc5pFhpBOJLkzLDEMC0zjMAItzK6+Ll+UH7sM/GEBZc1CTm0V2C6pgNYMx/dF2Y7vXWo9eN3/hl1SH+9faYfVkJaS2VtcHnlxvGd545DYxRJ9Go3TTkerMagjb8dgRTq9868YjSBsN194+3tnB9/1s2km9UohXqxPTIt3zl+euXi/eO7eWNTF6Ix6YM/+7wxFLq2fcvySJrO341+MIJ5+eaRIgw5+5yLY4n++f9+/liaY3frojsi/fDZ7xqBjajWDeP7Q2NjvH9nXnZurK7G3xwaSdPtjNczN+acnB3T5wYZwLgljZMGoftge6HtY54CLi8P0P2LU4AeyNi27xgXNDb2FV2mKXB5pJ3kILveqzOfaAYlt6Gfs0ddl2mYAlgU+5jcfkdk2pphvhSuBMNrDwAww1i23WHQMGgEX6airiFkD6+iySR3GsaZetDwfb62VN6abYcVZiRgkPLZOb0F1SwEHq54AHzvvpvC3x+4K5xoXwht7bp6RBeLp7VOhZub50NH+2Y9ur0Q3r12R7h76aZwZmMxbOqJ5Jw2cL+42gkb2lSZhzf78el6AlK0TQZxryNAlQejqc3ZL+IrAybe5EQW3WCyIibzOYEzlHmpIznFXJOZS+Ki7LQ12e7XcewmqcZrfdhhbpcR+sEq9BdFugDJdcda9e9E9lRZ4nGpw8p6zSzT4fZDV7Mr4wuafKxLuWPKyNlLe/ZCO0b1FP1Ue4BOrh9BkLL7EdjZWNcMUS0ppHuB45rV0uwqgvDE8FkWyBdY57QnFjkzs1Y2Wxb0YiYXiaDRnPiaad+sFPvXM3XstATF+PIhe1Ntc61CbsEDvS07VGCqy8buGuIzw2hW8tqa7VUPlplS/QHOcj9sRBcBMJs5RlA/Bbmc1nN7nhYtQSW/BjR0fYafH3D8Ej+UgUeUwJFJT074tEgWrKrBjI+JM+ncNd0q9wW0sij06Dgl+qhUSkyAiKDjRYoFsFRBlh5BqNsMKuAadhOEsT2yODxusgIheXaTw+xAiMYV4ncvk/MrZuxYvcCbvDI4JVGVJPl503MQpk9GkfNDloI1JsdnLDmdC4KGwBN7RCXdvq+Tk5gsgj8uFwQBK2YkefLgldsPvLQdfv0sIIQcErCWYASFSILnABd1t8eDeSU+ybBgFG0jKIU+X4LI0kk6fvqi4Obh+EXBWb0sa5/rhvbDeg57/LyCWHpo4GRQsCrHFJCd7LWT1PWjp2xfspls59jhcOYFh8LZz1I/OLFufXlnVUsoXw12b4nu6H16HOekdOPkfKbx45/sP9MWTfVNPTD1wNQDV5oHdLOw0eWkdkM/TVeFByzwkAebsUlpaDW4fQwsSkylom5U1L1YH2CUNC6qTgNvhQ6AC4RpXJ91Ws/hSSmDvB97ngaEFT2Jx23R84xSlmBYw1VBiWtIVtC6XJNZOMHgPCQUtKZWdTeBGVu2n7rGnpsy7JOtRf2OhFn2lxGdbQSvrxey1AYxXRETqNpe09CJFzAI54FCASv/6hzPT8wwywEMlOmXTTPldRjSY8p0DvC84DOQs3he11Pn87ofI6+7XK+Tu0zKCW8gyiUO/CRpkI5hfC4fHv3wh4NgqRzPITLqPuzjKQWa0KinFGc8Tpfsr8t1dMnn5Xz8HTBJnto8CanRJLsmpp8SXt4eUAdra7ng0f0r4fjiRVuafHpjX/joqaNh45GFMHdRFyolZvKs6bdKMF7/m6szoX12JnTOKlC0uRvWD8+Ei3fuhsPPPBuefeLRsLzVDh969HjY+siBsPBI/AreVlNBIPZl0nM/fZ3+ygvjjn6zWpcIbGcu0mwQgJHqjSM7oX3bUvjcm+4PN7Qvhk+uXhfe/9DJsHXf/tA6zxf2xKt9nppr2BFd3Z0X3yEte9SLb+y281nvnWd1/VRMyuzn2slX2vwaqo8xhu15XZuV7/CiQTNdZpdmwpzeD8+qfcgYe05H9fGv6LfbmsWml63dmzbCkeuXQkuBt0OdtXDjwvlwUi8sFhobigPNam9DfT1Oa/1YXk5ippvtRaQc+IfPHQ8PPnAktB9phsYavlTcYmXXbMP3ltKFgWCk+U3HY/X4blh6uhqqlybM0LJ7hgKBM9tyruoNxSk4jjKjd6+I0uJfsaGrwaxiieG4bUjuxmG1ab8ASmz+jU1N/bgvcTyQ21iXD5kYpGPox5TljJZkMnR2nVd5bnk3LJ7aDvOPai+mZTErCLOz2Ak7HQUtNWNqZ04fKjk6F1ZOylfX65jKDl76tjg+SxyrJJauKjM4TgTqtvTufvMQtmqmoI7pjJa7YmdDbTbb8Jl4LPCnMv2xrXfai4/uhPnTm9KhIOmGArbnV0K4oI6gr/jNLMyHnePXh7UTepl0gM4V9eWcZkn3tmy0fq7xQFO+mD+zHRYeVvuQpfth99iBsH5UL6EOqn2in1P/bV1QgPjchulcu3FfeOSlzXD7Sx8I33Hy323bgLfe/+Kw8q9Hw5EPHJbP5EA/9Ck4tbXYDMsnG2H1pALDB9UYJV5k4R/6M33YfW5lVTn2ncd3w43vULB5SWMKOY+A8v0w7zW5/En4ku2TkF5ONN6FLyebprZMPTD1wNQDV5QHuAH5TWgSw/dCO4m8Kc1T5wEGhfwmTsNoGcCVAwkvF4Oyug4Gh96X6i/1Kk/9dUbq6ONXJOTVYQU6Ft0uauPok/woNzJmdgMiIz4smXC3x3MBnaxil8s1JmSkYxCjY5HHYTgIehscqwwNdR6MFKhiNgP7xBCkOrJvJdy2/6zNwJrTqP5wcyWcnDsXjjcvhJYeY05t7w/vX7slfGjpRDirJYNbeiK7uN6xLwZt2lOeBsoKcu36DCzsQ12xPNCOl2AGJyfp4OVloQ6LmPzX+SxP0Owb1R1fkQtdSZT4ep0mDaSNzpGfhnxIGyrHcJAa8eX2cYyUhomK2MEEg85Hd0OWnwXEguNr4FjFFv0qtlQqwtfqI+UNVBLbPsy+QSx7oR3EP4VdPh6Yu3c+NNoKFOip7OH2gfCpuRPxWoWJBDjUvwg4WaCJIIWevQkAMDNmh2CUHtJX9LBsM1fF0j4zE1b+7Uj4j5kj1jeZeEXAaFsytlvp5CKTXPoRPwtwENSSPFLUJb50c2npoXr7oYPhvXMH8z2vJT7v+/R5rYLUL/EnHMGshuwxHULZ+QlJJIs2xGd81MaHfF0zm6tCKcBg9iXbCcBYQrYSuDL5eVeBQyM2gnytC52wMqufQMz5v79kHlA2OYUugkcHFYSYIeCGX/QfP+FXbCPotnpcgaWbNsP+61esiRtaTr61pgPEiw8FbgheeaApyokyKOeU5PrxMbjuYQTiPBHQa66oPhMf5bGDfbHsh2k90ny8CLIRKPFjlo9BQbt2vT4icGif2rfoqiz3vkUfJdBFcCweHwJkMbDmcglKRSb9lRM5lh0tJLKli9KFbTa7ifuyyvgZu42PdqiOrC0ti+3eLKeCN3/Lrp0bomzx0VcJUKV4o2So/0g3s6SMR+cHwVKCdDa7UeANBbu2FhYlp2gfNoimIT7at3ZEWwEck2CScAc/GsLZj90SfmvmlgiSnH1SsH4IX/UHzzgWTfnn0EdYFmks+iMmpTyDDohkl4l2d+c1y3FeHUqJbRAuJZk/J2Q1X1+KkqeYJ/b6p9iIqfqpB6YemHrgivYA04P5TZr2QjupzCndU+MBAlL8hqWyW2iwUh+wwJYHEOVgpqQt4TU9Jg8ddRrqdViNd1zVZGfjEnXZAOEiTSGpbC/gmh099kToNnoulizCYcortuR60kvdA1PwlHWHFwErJiHZBsaabrC/vRHajW5YaG6GZ+w7FV64+InwdC0bnNMr7EOaTnWkMZ82dm+E5Z2zoaXRKG/nH24eCmsaOcPL8piVZisua1EAiyU2Oxo0s5wQw3dV5iGUQBVjcFtaqQEuZfC42PY+sXpqE1nPWSqrDo8ySeolAEpGqrLJiqD415SUAIhTvY+4RjesWtolGsRkmfBgYMVIgEqul3IdX+LAK9XURGDJB4/qpj9iq38LmRUa8bhsgyMT2iTPhJR6qlJjrY73uuv0+iDeYbDpfWSYZ656eHNND8+c33oqY6bGLg/l3FfUUfP5lfoWD+ubmnmzodiUJZ3jPCTz0Fzt2AkPmEAB8lK/hN5mghCISdeVECcdZSb0ljLh5+EeG5Hj51B5Anog3viQhAxsc9vRD690wW9w6YfeaYyn5Ct5kEldKeuP1cpfk5XtFwqdNR+gh8AG9vm5bzKTfASaXebXRAOQtiDLhKqMMuQrI6Cy2xRG9xuWdLICbZMll7ovzDDzhmCKcrbVIJBkM5Zgdx+gi2Qw/SHXz5KXvQ6wKHubI7FkOy7ljifo6TJpb1xyl7hES/DHjh98wjNzjplM1n8ACT7DTCKbZReFu2zXXQZpHBbEQ/JAGILyMTQ7wIkA36KDYyN/eDDKfAyd9R3OC+xUcEyBIk+RHj4JiKYZnZetPSno5YFaxayDGAAAQABJREFU5OeglwsiT05iVhaBQwv+KkiJXqMnMEuAif/Wt2Qc9pHJboKFzQ3NHEtBKPxs/UO00JFSZmVruwYnJguEfvjhktJe7iXQXoFpGsC6Ag/a1OSpB6YeuMw8wPV/L/eAvdBeZk2dmjPcA3EAMgDP8faRiucFWd8gpaAxmdCmwVRvxFcIKPE1sFd7cgQZ1v8Kvc7Xn9eYxZNlQ+wyPBeowgG8wMGSU/KT7V3Fw1Siy/LdBzZYFDEDQU+M1j1YJb4ZPQ3yEGGbIYumqaWA8+3NMN/ass/EL8xthhMLF8ONnfPhOk1nONhYDS+d/3h4dkufAguD98bcpzf3L9a6hvPbD4e2Xpdv6EluvhH35SOIta39XdgnZlNTHfgyGMeVL4mxifuubeIejbXAFgEtSxrE28OLBq754cUfWnGIEnKUefMTtOpYOQl8lgF94iUrD4LLcXD2rwCGQ4ErcTMhzglFuVIWe8BaKcpN7Uq4il5g0pXPhaS3pKmJ7PmjsMVkFDbn9jhzQVv6wZxV8GXyATDDDYIjO8H9Yc/lTJTDX9g3lmcvtGOFTQmeSg+wvKrR1oOx9mMlmNXUckAe4Flu1V3QLBRdkpiB5Z3eHu4JvABSUIRZTgQULPAQob2+pD5J4MmWUXFdJanv1M8N67NcW0UPjnPRgjuRw2D63oUiMgmQs0EnQ0RijwcirG+L1PSQF2zluWjwAm9tki0szy5luL2mCVvtOpqMUn1QG0s9zpc4ellhVx8NdvjsHpWxFTssGKKyLcuUj7n/ELxizy6WopvzEq3f3wiMuHyzq7A/1v0+EMmy7bTNU1kGlkQaWjgLViX1wKJvCyJokCEaTyyYd135WHCvdTaTqzp8JNpPUCkFueBlNhlBHj92kbD312ik02ZuiT76UfdA5GCLdOFXZvR1ceTAJDuh1c9yeMRvQVZtnG62C+1tMRFJp9mWzp8uQUctdbUDBlFqX2k75eaqgpJ+g4JGP2ixc/WG2bB012b4rKd/KjxdL8LuWz4a3nffzWHfh1th8ZE4C8vaTHCw4PPgYeln6xepyXHzAozaY0o6JuKC9gpM0wDWFXjQpiZPPTD1wOXlAe41lZvkGPOG3Y7HsE3Rl6EH4sBLhqWD6oMmM3VIp6jQ1NpUZ/GBjcu3EVPJ44MPz8GVHawoV/QW8CyuBssigedKpo56hMtyMb6QkeHOAm4QfYYnJanubLZ+JgWjDCY9tmmw6JhNxUMCAaq5Oc2GMtyONjjets/OM0OKTYQPtdbCic6FcFz7nXQ0uj7avBie334oBaxcE8Gr0emwvnX/tfvOhLtbj4YVTZO4r30sfKR9IjyyflAzs2btYypLm1qisqVFh3JAVxsqE9Ta0o+Nh20jYeXsrWKBLKmzjd9ZZsgvOc3GybijdCIDda8bDnyyV7kPuNVcSxmFj7ySyPsIEryPDj79JCKnuijDJTonqsuJPFqeMcQWww8U7BKV13Q4eUWX+yexWRUDnajAO7+ROp5KQWO42p+StETxIOOpLDtsXF6aOY4WvPl9EsIpzWXvgQP36/mZlVIKwlugSQ/VPIhzkAkAzbGcjpkmqW/auU6r1Inpj1bX9YFks18SDJyfA/TJ3uwXCFX3Puv0/oANGnl2zVGektGnjpflUk8wt8fpB+XOl3GuW7klr6f2AEvN7umJlJW/maYCHVyxc3iAnsHUERpn/MgEHQ+fxbRyrBEu3LUdnvbsh8PzDj1ks3PPb81riflivAfoBcZGo2kfDNlhZpb8pHBG9K2cZbNzXWnZfmwjwOIwFfuuOwXORVRokKELrt8XnMby4nhluMtzHAiHqViXnflE7/2CY2B09F/6jh9D5GBPCgBZPzS+qMx4RJtnf0GuvlmfsYTOvuMcRYAamDzmBJK91nds0KBjoWAXCXluv9UViOMctPOQ8wO7dSxm01YA2Gr1Ytkkwa0DH2iFj3/sjnDf7B3W7gOaYcf+Y10tg8x+lDL40bdxnZb53rIdFm9cCgfn18OFNW1H8Mi+sPBgM7TPQ6QhAfovIeES8+kEvGPcN4GEp4ZkGsB6avw+1Tr1wNQDV5MHuEOWd8lxbdsL7ThZU/xT6gHekPPbSyoHFvXBmA2kBgnzgaCPNobl4jWZNoIpBGFiaaaXCzkG8nrBasUSnspRj7hKHGrKugZgmQ5B4PxntIm/5DG6Qq6NGKlH2Kz8zdev2LsqvuGOyzX4yhYzoQhYLcxthf1z61oauBXYz+q6uZVwc+es7WnV0fqHW5rnasErlE6W3rO5HT66edI2/H1s62A4v7VgG/x2dfA29dS5oY15N/RFL77sxawsfn1ftRqkyvyiNup/HFUXTrHmqw6O5HmsmW94m4uLMsoLwJIo8JUkRB+sJEh8FbZKJemDTr9EHi+HNTpHui1ZjdM5M6IclomifJeRGym6irwBjBUQlQrDAGUlQ51W5ANApZWXXp7eRy7dd1c6p7qlP+zbsjI9HNPXra8V+STNRI79LNASObivxJ/kFqns6nZOobZK0qMGR1BFqXIaFeetn5eljHy+FHQZFsVlmVaQHlvaVyxt4trmvnAa8qwn2ewBEqPRnxywcwA5dtAWnW/uK7fbyXpyRYPsLF98BPmSH2zjdgU2eCHhqavpSHxpcVO/fP23lxM9OXEWlvgQnuRbsImyRBmI4AWFASnbJHy2VXRGPoTHxWReB9TzXlMMY/2SPlXIrRwL50982QYVMo+X3U+0kT7JjCuVjc4CWCCSQKfBDw5iHOR4BxZ5bpvTiDfOyBIRemiHjh1L/K1diEM+tiQ9bqLP7KrLBM8S37wfG/qB6ce5m9sjMDS00RI+KJY2Ir+pfeWWH9sXltt87aARmhcbZhez2Uj+kssqe/mzl3vJFfo8Mg1g7aVDTGmnHph6YOqBAR7gBmc3uQG4QaC90A7in8IuHw+wQTdLOGxQjFlx3BEN9EHUCHNL8oFkBUEeWEFYdqKEcJBVVanQG89ADRnIi8l66pNREETyxJQy6CtyEtwdk+W5sSI2WBo8uvhMB8CWB2owR67Es8C2Nq7VViJRrOAzWrY3qy88EbzCN3OakdWeW7CZWAS59rU2w4Ptw+FwazW0tX7gegW0PrHwQHi+ZlLd0GiFhdm4aaopqP25f2s5LGm54KPd/eG/1m4LH1xmE/fF0FVgalUzrZY39HltPazYp93ZA4vZViwZlCl5uSBTjxh8k2gcTYnNkblpMJ3q4M09Ti9SqxsPjU51CpmHSkyRwmvKnQZQWU4kJjuVze+lANH3dEeiTA9xqhhfkkGWaajUkcBIJVGiKUGQOGsdDs6T01DPdAPa6fSWl/hKh61Q9SolvUNrfnIwuT8clbBxZWzP9o8jRscgmybgm5Jcfh7oavLnrl+ChvWDdLytn3BtSHUevG2mCg/K9En4CV4R4C+uIeW9iXPGly9lb5T9OQEr55Zk+QM4NmQcsnQOWfAI3UaXBBhO5ZRbn4VGvzKZPQkATpdTyYkGeaDDl+lB5kGk3L6sN/KYKNed5PZn6TqbbMk25boKMszak2D4Vh/mU+QhSiM4AX5lsxVOb+7TPaERzqwvhtMri2FN9wXuCVv6wMfuqr5auKp9sLh5id733qrsGVb6rd/YCgRbre2DeAoX2DEq6tY3aEtqj7U5lbOCRA+v47OfYQXO7Q0/kJItRlPKTTinIfcAI33PZhhCLzmux+xyGbSNZYip7jbn3OU5HgW1ZIEgHSuJMj0UbHkje3ixFFTJzx/fA44Vn+xbxTLDfM/GJ8kvxpPq5l8AqvsSSvcb/qCfur0cc9NvxghnAVQtGV7mC4/6IqX0sXyYr1rG/cVE41+2RMceEj7LfhvDNyndGDGfcfQ0gPUZd/lU4dQDUw9cdR7gPhjvhZM1bS+0k0mcUj1VHmAg4wO5ug3FgKeOom6DnzR68EHPILpMOwxpo5VaF5xEdynP6T03pSWBysJVuq7Tei6SPKCD1e0CX9CUZaMnMOV45XwtqKxbAEvBKR7ISDYDS6PMhoJW9RlYbJzLMsJ9rY1wXXs1HNAsrKae5o61lsLt7dPh5rkzYXFmM5zUpjEnmvq2t74lNCqd2l4Jd28eC2e392nvq4XwyObBsK7N220JoIz3N+/lDCsLoslWXmyyB5ctEeRhjMbSBBBWj5rtBahQ/sAGPsIEVMId1ONDBAKiKCsM+BMpekTwWyLXL0rtwSrHLIHLzPAlk8sre0OGRc6qTCFr+FK+lVNwchiZtd+RpfDcuAF6S7qkMJOn9sS2RcGUDa9CzAsry/YXYCuCq+Pr9TrPoDpmeBsH4euwvdDWeaf1y8oDW9rnaocvzKW+FPulTNQxtr7Iw3A63hbQKQMI3hLvc4kuz+hBDPRJNuQEuGzfLPa04oFaOMd7Dl3Zr+2aJKTbAbpC68RlvyzbA8OAVG8fJBYcSTYZ3mV6riVqfUm4TFu0x80yX9JWl6FipkeY8SeklVPwimCg+Njnaf2oln3d2g37TyyF/Z2N0JIDrteLjC29uPjA6RP2UmNttR26y3NhZkNO13Wefc34Yh8bt3uQx4IbhS3Y4ThMsWQ2eEV5Mg2I2S1+X8pYUPXoai7iWFnQsug7ZgczyrAlJT+mlaBkoTv2v97MIvqSBXzUl0xO8r0dQ+myZLYmu01WIdD1YpcHYYE5T2Fb7qeJZ1zms+z82NIms196rJ0SwK2nudbzAXhbQqgIifvA2uh7eonH/KbZVO439q3amYtfMISfYBXHvLmucUrxJUHkeRsIyBKwYnN4eKwPSAeBMw+uzRS849pawePefhdXSHJlUrrMcHkUrukAlnWWEQcuT/sbcaz2PzBCgPhOf2Hfbod90uY/poXvY9J73vnMMRQhPPMlnxhL853/8/8cSfOmu/+XkXiQ/+udd4+l+Yvmi8fS7M7rDB+TNg5yNRueWqdH4+HsvnBpuICEmX/H/rE0KzeM1xXuHi3n7H9jtDA6Nc6PPy1fcOLh0UKEffSAvrE7Jj20qE81j0gL49WEx79gfJuOvSN9jnaErq0XlnepwYRLtw2GO/TEu8b3qZ3m6ON4KW887CZpozu3ZHTub6FGU1Wxb37zm8Mv/dIvhUcffTQ8//nPD7/1W78VXvSiF1WJitpf/MVfhDe+8Y3hE5/QV9We/vTwC7/wC+HLv/zLM8Wu7P2pn/qp8Ad/8Afh/Pnz4fM///PD7/zO7xitE509eza87nWvC3/1V3+lt46z4VWvelX4jd/4jbBvX++h//3vf3947WtfG9797neHo0ePGv3rX/96F3H159wC/DaQBm6jGm0Dz5KAUZSAfXCnSaMs3gqSfNBVMhjMbYhkg/9KlSfT5zzYDaLAGx11pzFA8cdp4c3lgjjBMq5gHVuElx8jS3JmEqhsP9UtaMUmuXIK40GWDbJ8kGWDVtbocd/cRjg0txYOaITIEsIjzSULXt3WXA4LYjrS6PXhYfbcp5lX71y7I9y9clO42J23rw5e3OqEpc12Xh6yoS9M8evajKsY0NrVW3a+OuUPfOZDD1jhotIpVlebSrxI6vVsI/4gFXI4lqVI6xsC5GMMbUrO7vWcFzQZ5jwDcKU+0+OCndbzurBhddGbnGF4h5eKgdXrpZCynPjVi6zkKMuRgf5EY1lpfwVREDkNOTTD6AqWUcXPxH1klP4p7qnzwMZRzbrQJu4WWFqPm7L7wzFW8Tzi3Q04wSefHRL7cDp/RATtth4r7MGYh3B7IPe9tUSgfhpnofBFPJXTtQfdpjMrirzwk8DZgzzDLGgSnZ9LdipKttGnc8FPz1KGPaAXG85jr+03xNAMvrpcgRyWc+iSDtCWCpscVObYiR3ZX9xTaVO5rEsyLcgjlFaCh+6i9qw/uBu2F3bkVwno7IT5A+thUR8EmdN9Z0NTxdY258L6mvY85GMdzLBa01Kw5UaY1R5I+NbbG30twRKTbXCbgRUBEdqGrRbwEIsHYurHRyi7BGZ56RhaW90/nkOcHWiVyh8/Vj2/FrO4kZHkmA01OfCygX2W4ZLhUdsYv+AH/2pfbl/RRgva8DiBT4Ykb6eh0Zn2isv9S+1Hh/VlycEew5F78Ij+xnlBfxNNDOTqIwqa7ZT9Bi1oAKYn6nI9yJ1hc/lkK2R2nNPj0MahmXD2edvh1mc9Gl505JNhpdsO//Lw7WH5nsNh3wN8gTLKtWOczi/GC/jJYElunz/NqvF/9nIvuZTnkfEWPPkU45+Un3wbphqmHph6YOqBK9sDaSA0cSOg30P68z//8/CDP/iD4Xd/93fDi1/84vDrv/7r4RWveEW49957w7Fjx/okvetd7wrf8A3fEN70pjeFr/zKrwxve9vbwitf+crwn//5n+G5z32u0f/iL/5i+M3f/M3wJ3/yJ+H222+3YBcyP/ShD4VOJ36F7Zu+6ZvCI488Ev7u7/5OX1XbCq9+9avDa17zGpOHkIsXL4Yv/dIvDV/yJV9itt19993h27/928OhQ4eMrs+wqxUQxzpx8GYjrNTQNPpwUBxMpZGJSPLgJPEbF+MaSByZmL2aJFcySCp4l+d5Ia7KmGpO53lJlGDZaqdRbjpR7rC6Hod77viSB5x+NlBEL4M5Alc8LBhOg0qVmXVF4MqDV03NvmK2FfWmglmLWiK4X7OuOvpMVlMj7CPt5XBj+7wFrub0tHZb63EtF1wLB2fHB64+vLmqLww2wie6x8PDm4cteLXSbWl/Kz2sdOfC2tacvXHfsTfv2ueEYBX7XMl0m21VORgA048HxTIBV6pszA7A+Uty0QLGdYNSBe78TuhykCGYVx1tuQMHyO8TJ5r8IOV8yo1OebYFOv0yv9OisKanx1MSiS4jzMrBf+o0rrAOT9wGLvWjUj/YKizQuDkJj4jMD66kKWWWZZgmSU/yfWQSE6Y0T40HWDJkS9OkfqelYJOCAQOT+lVDM3qCgiO2V5bqzAzSCmfLc38VnHNUk00tMfsnnp+pQyc8SPqz0TLzg4AWASoSpPpFPuW6Nnugyc8Vuw6koInTZ95ChgfbAJkc3ttLL8mCYugl4COY6Yso0+90Dhqap6ZlPO1CR9Jj8LIsQH54hxd6tYXZRMajzbcJXrXuvBiefeyx0NKLkHVFtVa22rbPIUvI+UgHX5zd3tL1f1MHQgGsGZVNDlsLoA9x+I5jio4EM98J1INFesNX4CJRQMX8QtBFKdud5LnPbFleJBFR5MvHxfUSKUl8lvvxcz7lLi+DEq/LAk+bcnJdAljwBD+qP+W+JDgBo67v7eT8pQzdH60fokuJLxRaUIj94JRs2SF9nV8KHrFETx8UFgC9RmZ/3H6pMZzXoaOPI9dQRkCwV/tV6mftM0TE+19km21qFzSccz5LCxraSSDMgmA67xZOax/OUzNh459PhH/ePWH+bOscnWPvLG3mj+/WbhD+mWvhhbc9EG5fPBM+unQ0/Nd9t+jLhe2w+LDGOpy/RZvclonyvdxLoH0SEi/Pf+7nfi784z/+o714P3nyZPjmb/7m8BM/8ROh1Rp2gZvckGkAa3JfTSmnHph6YOqBgR6wG7ZNtxiI7gPmwUcfZjDgV3/1V8N3fdd3WQAJCgJZf/3Xfx3+6I/+KPzoj/5oHxOzpL7sy74s/PAP/7DhuIkQhPrt3/5t42X2FUGwN7zhDeGrvuqrjOatb31ruOGGG8Jf/uVfhq//+q8PH/7wh8Pb3/52m1n1uZ/7uUbDrC9mcf3yL/9y4Gb0p3/6p2Fzc9Ps4Ib0nOc8J7z3ve8N2Eug65pJaZARBxsa3VBPA6OcAxJcw5LslokGJ4y86oR5NJZF9UiikjgALQY/6YViwdArYq+JLOgLrBXNav0pSaJZqT0pK5oX7YYHnJOZACeOcGuigzSws4ExwR4UMHDXIHWbAFaakTWjgNHOzrZgelAQTVOzr2zZnsRtNhqhpcBWUw8b8/bN96A9r7bCoe3VsLSzrACWNWfon/dsbIYPbtwS1rUhzSObh8In1q4Pj6wesAcW9rlic/Z1zbhibxMCWLx1twAWb97VkLjnlcRjP22lcTTD66Vm8wU0CV8MJKNvE3GSU4GBcv5EZnK8PAhfwJBlx6WkVznrcNkyv5IcrtxoU92OYSLMMup1560IVCUZUuczsAkW4yAa5JnMwkiKXoVnmE6ncVtEV9dvKPihHYavy3F5l5A/2feRSzBpyvIZ8kD7rGZlsIRQ1wBduvRArA6X+p7NHOG6mPqan3c2c0j2+cMzgRdwXD+7krWtH4GtnJBXpEp/B6efjU0SHXgLsqQ65wGySztsJhf2ym473cBLZ52uUNtfNL394AoEG9wOFftsT75x20reCq0j0Gm+joECl220yZ5N4fEtX7Q93lmy+8iaolDn9WXbZc2oYfk4X5vlK7O276HqBFYYCto9QTaZWUkO9wCXb74WvK7XzXO6gbYbEQejx++gSk6loHFZdi8ywvhnkM8KdO4Dzu82ZxpM4bgTWKLNaicBoh0CovRjJcPjG9Hl67Nhen+yHThNbOYv61upX6NHAbBShrUF/zKLLiX3nVXFw/I+bMvXcTsePZnbHX0tWHvQbXfijLNZba7ZZMmnlvcRRMvnH23Efk89lSkgFmntnBFNbLMKtEe/bW3oThCTwBd1lhguvHc+3PNfzwz3AJJdhwiu6TzuyibSNsHqS0h7uZfs9XlkUnPuuecejZF2wu/93u+FO++8M3zgAx+w55iVlRV7hphUzjC68tI2jGYKn3pg6oGpB6YeGOUBbmTFzWwUqeH2QEuA6D3veU/4sR/7sSyW5XzMevrXf/3XDCsLwJmxVSZmVxGcIt1///32RgQZng4ePGizu+AlgEXOTCoPXkEHPbr//d//PXz1V3+10bzsZS+rvE1BD8sVz507Fw4fPuzir+5cx3PU4K5sfDkcyQM2JyiRDrN8CIJ+VKIoJ6EluCJqTKViU25UZAJXkesVz119rqtQ7+uAHF/JY8VwClTlgaLTp+AVBvDlpp1ZzYICRlJwa1l7ZLEn1qwtLdRb87lu+Gj7qC0rZEbW9Z2V8P8tPh7YB2tRazvm9GRCzhcJmaG1stMO926cDB9YORkeWztgs63YoP3iejusa4lInGWlh0KCZ3rDngNUBK54MCFXMpf5gwoA+oY/qOSGg+ilyFP41n3meY+0UqocnpK2KFdoKtzYWticcAYaxFTYXkEnXRVYTU+uRnWxKr5hPKgC1yPvlQozsthKAXuSTQ6v6HGc5xD1xDvL3vOajIrOSaUNsH0ka9mGkYR7R06yfLwudX19PfzQD/1Q+LM/+7OwsbFhs4Tf8pa32IsRp/3e7/3e8C//8i/2MPPsZz/bXng4zvNrcVn6wildv3QNYxbI1iIP1OmhG6ekfmF9SmWCKjZTKl1XqFtSH/QuQRAs6EF4N+HieS187U1GfngVo/HwcI9cJXILQKDTBaec+tBzsTgXuI7bMi8PICDY5RWyALvxuZ1jXgrW21I5j00HRppk+zOoDbTRgh8DbOmc1yyaf1Wg45/3hw/uPM/acfHWZjj/3G64+Y7T4djCkgWxCHBt6NeVQ3YI0uj6v8ssOmk1ndwP5AcPDkYYelNAy5vutirPNMD4cWzxa+Fb82M6VsJUaaBDDnj4U6r7IMt1As9dDzJcTqEryxF9tks8lC2QxfFWsMbvMS7WaFOllGG2Yqd0eP+zAJD1G/nT7Uk6XJ7nricuje31W+OT7208oRw9lGeYCYY+QNR1njS0dBd67AK2rYUI20mx9ZNEb3wqx74TZeBHD4TZMXI85x98wvuyRbMFPcJZsJqZaoVv7WMFtFtJc8xjYa9/0clvkjQp3SSyChpeovPzdMcdd9iqEbYq4SX4E03TANYT9eCUf+qBqQemHmCgNWawVXFSomUJXpna7XbgV6bHH39cD83blYcA8MyW4g3HoMQ+WeDLRB04yfNxNPXliU19KeW6667L/Mi5/fbbSzVZL7hrIYDFIMQfIOoDsopjvKLxiA/GbGgybnySBhcV2S4r5S7PwYNoKzSu03NnlK4qqFpzpMsaqyfJLemMF7GFaJdn5EZcDFjdtpJBg0sfBJp7JIs6yxCJI7FyQ1+kDksKbNmXC9Glafv/1rrdHhJntNEEz3HM3GL5IbO3GKhubCgotq4vArEUhAElDxh6G8tXJs0s/CM6iZKyZJjBenWnM6zTqGLwxBJxGBVTxhX0jsv5EFzmzYRFYQhPQRGLBZ0939Yeco2ooKHtdb2VY9inYDCgLsOpep6JkFI2OPhKmPNNmvfprcnrw08quKDza0IBGl+8xPvIeMF7pxi3fHyQxB/4gR+wmcHsv8gLke/5nu8JX/M1X2MBq5KeZea8BCFQVU/X6rL0L/3Bd4bGYie859wt4YP3nwyd+9thTtuY8hC9fkQXo6MbYWHfhs30WT8zHzqPNEPnDNemeGLG51+dHfRlLl+a5UEwzGZDCWzLnQTzuvm96OjMOkHf3EXtBUTgS9cAeDbZXF4zRzzZgzYq9bNZHun+56LsvLSTVCToZY+iNOuEazR0FmRID+1GIz3oslkyEs3snbjpuWjTg73LtRxjJLsMYBGEsoACAQPQ4rMAkeUYnJLZ7ZVoo32pzkGpqejBVoIOs7qpIN/aIjvRzeyrTSE3tKSQGVhbm5qV6/cN7hmaOYNP/VpZtU14HzcUprkJ5OYn2p7ab+31+14iNJ8X7WFZm9NB4ngPTCY2o7Ey7ZDMeHwQpLbK7uaq7o0rOgbqByRbokrAh+boNzAluPstti/OcsIH8JYpbnou2fhTNrCEtq2A4fyZbfXDrh3bzUPNsHpkVss41YeIVqAfH6R2WrBLfrT2peO+o/OF2VSukL6Uv+ynMrbkpYl5dpjOk7pv8Xtsvunb0nLSbf3MXsH5UmDnvLYxWFKIiRninUbY3K/N/BV8tkCV+v2W9k/Dlh3tbYcoC+yl5YOqqp0zofP4jLWbzd45zzb3iW8/yxlFoPZua1ntJaW93Ev28DxySbYUTBcuXLBniAJ0ycVpAOuSXTdlnHpg6oGpB6IHbLCRbnaT+MQGFiK8+eabK+Rsqv7TP/3TFdi0cpl7gIFZGpzZ4C6V+6z2/uG5E4h+2KDQ+gnyxDOMxsTUdKKij75G4+pzDlOdZkjdZdebwojZcVluveAyPRfeeKgnmMl1vHLD12dlFTOyLEilYJVFlgRnqeGsZjO0Wl0LUvFVQr4YdXLfhXBj57yWgnQtaNVIT0fsXrWqUfxDa4fCQysHw4W1juLRGkzqwWRTQS32N2HJoM26IjpmDzTJQHtAwsjUUOUmVvx+nsfRa25eok0Mzkfzi3IpL0muZE5bfv3QCBzh1Oa8WMmoUo/TlXlqWsUGhyW6UkSWW8go1BrUaEomQXloqCTwJU1Np9EKn2WD1y/XK8JiZaDeutxSp9j65NXpEV3jMW0FXV/bjGD0H2wd5MthXHuhHSZjEHyS5eN1Ph5M/vAP/9D2R3z5y19u6D/+4z8OzLL6t3/7t/CSl7zEYOy7SDp9+vTAANa1uiz9bx66SwGsuCztuiNLoXtYUQQlntU7tmRaD8faa4nUvm4t7F6nwFbR33x/QGLP8dlVD+XqyF7uindnTY98vi8T555mrPoHMpCLPP9QBnXfbzDK1uVP10BmF9mXV112ui6iJwa/df1luXeybVcqdrCbNwucM8DB68WBLQk3RT1eqn0JXZJjy7OT3kyjel/ixACOPlLOE6ysl/hU9tk8xse13oJN8WJFIGvufCOc+s8bgrY5soAPgb9DS2wCrnbgUm0GTkBiVjky4CFoYstCpcNmYokOuKUUQDBaL4NwvIp2rseDKbhxxT9+DUUeeC3ZquALUttfkgOjXw7+wa9Z9aUbK7rgh549p1LC7pktBW660uX2mu6iPbJjZrvAo2NO/S99RMn023JAGaD/+GZmsxtm1uXELSJN6vei36+f8Ylm/cS+cO6ZrbB0h4I9B0SrjfL3398Ih+/ZCvMPLkkGB6pnpwnBBsFnusJhI23BDuTKJvPZ5pbp3dVqB3w+o60JNHCItoqGZO0vZFvb0If8MjmNZOzO63zutKQvyoAHn5nfEk95HKx/YAvtx16l7s5G+Gii3UvGMbTjOAGT0z3ZzyMf+9jH7ONTn47ZVzRLR2iaph6YemDqgakHnpAHuDH6jXwSQYn2wQcfDAcOHMgc9dlXII4cORIa2tfnsccey3QUqB8/frwC8wrwUfTOB82JEyeczXg++7M/2+rQnDp1KuModLvdwNIS5x+mB1qnoXw1p743d2kM19dmH1d5ngjywLGEJxkDcX2CBYC35IembofwPXl1JAwxZRoH1PO6nhLvOuJ4LQlUVqqDHzrn8zoBKVJNhtkDTjLzbCpGXASs0KOybfKuhzFmVDXSEkK+EnWwva6N3de1H9aO9jC5GJ41/0h4evvRsKidjZmav6XpCOu7ClCpzBLCg43j9sXCRxoHNCNrNqxqs/ZlyVtXEMsf3Hb40hQ/H7emhzp/aOCtPzgeZKxF/LGCmUoLY10N84Gj4RNNJEg0TpuAmR600+dCIiLDpzklQmWUsgwcmyuZWEQFc1EsKKxYsmZTEr3hMhClVbFZltMkgLGP0AnZ2MBQjd9UCFbam/WnwjiZA3nRU7O/LnfPdY7loOM5TFCinWQm7zARg+CTLB+v87HMnQ99lMvSn/WsZ4VbbrnFlpp7AKvOV6+j+1pclu4BKILtPD+zLI1EEGpLASw2C7fAUXKYB6eo8sxsX2RNODK6ZqSJJwTXxt2ONtjJcMcDiCdIlKPrqWyw4JWuu1w7kU2qfLQi9X1/XjcC/aFLWrDfryNqCx/gMPKkx/YrNB2Ry7p9+giGQURnXTvp4PrBEjyWh2MXyduWTgHzgSH4A43LoJ7kwONlv85FPdFHhlPAKl/bxUf7YLN7DXVmVinOMatN8bnGs5Szqdk4c6sewFK+zk/3oo3oNwtUERghgJFssQamGUCYaIEUbwyAskxdyQIcJZxyEeQaxGMN8OATXYqAi4JLsynwsktnI0hDbo2VzERTCbCVeglGOR+GmR0EZqTA6bDLy9DY/RpnCi49MwS4oCdY43TemTwXjqDUzHqchrRwcTUs3CtZjldudhAUA8ZPMmcUBLIAkOqbtx0Np18wHy7c1Q1zh9bD1sV22H/vXDj6Xm0f8PHHIx3+0W9mXtO3PLk86rJvZn0r7Or6RjCMulpRTbONXuDL7bi4EhrnLoo8Us+4zBQUQ0APpllXRw+Gx19yXTj3XPWfE6s6LJrZtboewrdWVU1UQ2fSO5Y+0U3yPIIs9t1lm5BRiZcgXP89PfTQQ7ac8Gu/9mttHyyHP5F8GsB6It6b8k49MPXA1APyAAMZfpMmpyV4VQawBvGzOfoLX/jC8A//8A/2JUFo2BiROks0BqXP+7zPM/z3f//3ZzSbuAMn3X777RZgQoYHrHgIYlnHd3/3dxsNtOfPn7f9t9BP4msi6OZLiCRo+KIIDy5zfF5FCT3PfOYzr4nlg9bg4k8enApmg16Ni6rBhIK4LNZHQxpL5lTHgUBukUxXUfdRch+8pPFyKUvlCk/d/iG2VMB1HumpyhR1qSfRZxqcqPb3glUSQADLBsA8WIldDzLsd8WPBxqCVh3tedVuapCqDdz5WhR7Xt04r68Q6vU4m7jzFcLPUfDqliZfIYwzGXQmqbyhYNVOWN49F443LyiA1bXN31kacmGrE840FsPFht6k8sUp/Ta1VGRbAeWdNKPAZgVYmUbpvw0ceQhSRal8m5/Hkwpy8cBi9Uhmhyzj5QzrSwlngpCNPKukPzU80LIPVkbZidGDNfmrj4W8qDMqqsqpaDUOOz4Fbz5+wLCrAkiEFaEJ5hn0fg0tG9qv2jmiHmqlH3rYgSUzy2WSO6/nzuU0kBRlOwB1WngSLDex5HGZY/JLvY98ut+cs/x73PLxelPg4V7FvollKpeul/Bh5Wt1Wfqpxw+E2RU9QKvfWJDG8lhuKPg0Nxc/VEHwh2XPTV3n5lJgaUvXJfbp20gfl+AaSdCJB+CGcrom1y8CS9tcqzxVOnbSm3AEe6C1YFS+XkKjq6f0e+KaZYEhATyoxAmTg21JR3lt25EQ2lg/jbJlwqGnjs/yTRd/errtwice+NDv11aftSVoX4o0haJSIWV+air7G9qYTXU7R1OdMsvX+JVL5ri25+tAbnhUjzsyjvt8z5VCYEthBLqpl7AoJv6FnqV9nqDzwBFlc4Yja3nCxeBaCiRBIrjPtrLgELBB+gWzmUKgCQDB14pjQNNrQSEFurIeNYaAFYErbFRugbIUEFKnirOimLFEWclmVFkQS7SlDV7GBviZtVXACDLZfVh65u75VDipnTZOmsTqH1lhaQa79bOZWbLX2qWPuexqTz8LsB27Plz43JvCmefqIy4nCGLNhIUHm+HwR7bDvvuWwyz6lVyeVQhWIkMvffXm145LBW9E+uO2qjh77kI49sl2uOFvtH4wzVRjBtbHnXYPufVTuW2SBC1pkucR6Njn8Nu+7dsoDk3sd+Xp4YcfDl/0RV8UXvrSl4bf//3fd/ATzqcBrCfswqmAqQemHph64Mn1ABuyf+u3fqttqP6iF73IviDIlzxe/epXm+Jv+ZZvCTfeeGN405veZPXv+77vC//9v//38Cu/8ivhK77iK2xT3f/4j//INw/e+hDc+vmf//nw9Kc/Pdx+++3hjW98o31Z8JWvfKXJYOkHGzDy9UO+ekiQioAZG7zzBULSN37jN4af+ZmfCd/xHd8RfuRHfsQ25uULiL/2a79m+Gvhzy5vl21TpNoAZkjj03i+ii3GoBVEAR/IVxIXtCV4T2XJyIMs5FEv5TLyLus14Uab+EBZneBTBVbIcFnQFHQxQAWdBqiS4w9wzAbgwYfZCYutzbCo72driBw6za1wpLUSrm8thwW9Hud3R/uxcNfc4wpYLWiM7xFBglf9CfzBmfnwMj0/3tZ8X7i7c8RmZJ3uHggfXzsaHts4YJ9PZ8+Tpc12WNPMLJYX8kDFlwm7mpG1o1kS9oAl8bsa4O6qTrJxNY5Qc7JzVbe3/OagBLfmJofAxKBS+Pywk/hzXehKMnyip1ymer3EqeyHIamoYanG45ARLo/cmUFSFgzz44NXrGeaktZlwGdJ55HHFR1UzxPPUB8keners0Pfp86R5KWfE3yQjMyS2lHSuE2uxwOFmedJLHy635w/iaZORQ/xQJMAVUsP46TUmXj2JwjFBynmW1s2G4r+xTVndaOl53+uOSI3up3QFh2J4BE/PjixpaAVCRpSgxcBKfGQzzWLxHUVXfwsgCZYDBh5rmuL2QU+0hPc4ut721wLuV4BNxkE2LhWE6fgWtdbdogukuu1irfXKsIZQbTL22c+EV2Eoj/a4L7iHPbrr53PENoPaanNykYFtEx9IrWy/wGmNqTmZ3EZnXTZOS8/ELQxt1qASmX9g6QvpcCBXStB0tgyiT9yilu0A4NZJU96aWIicBAJPEv9PKleWdpXwK0oPs0xy0EsR+fZWA4o9OaZYQXMDpBmGmGFB7gMxtI9ZBDgIaDFTC5mfBHwIjGDijrJ5cWDHevA+NHWFDjTiRE7ROaZi77yOvKMp/ADOE8EkVbjuWOgpG9mfj4E/SeIdfC9p8OBD7McUDOtJKuy3BHZtEOBt900G2znwHxYueVIuHiztiEgpm+OUIYJIufXObsbDnyiGxbuOxtmLi6H3YP7w+qdh8OF2+fCupYIw7NNEO1/qnwZpaNHjwZ+kyRmXhG84iU4S8r5CNSnK13TAazFh/V2Ql+KGJYuvFzf0ByTrnvZ6ZEUx/WWZFy6/4N3jCMJ68+IUyhHET5wvvrmaxDtb7ztaweBM6ylTerGpQdPjv+yWOfUuJGoZkX+b/84TlX4P97/P0bSzD5Li8/HpQ/sH0cRLjx7/HHqnNCuhmPS+inbPXAo1aH3pTcUQyn0IkCbaI5LHzzVm5o5jHb5juKCPITo5S+7ewgmgv+fdz9nJB7kTf/X+GO9fHJ8v1r+MFfs0WnhkdFy2ERxXDr/zNEUO7pf7DlxA+M3adoLrWR+3dd9ne0Z8pM/+ZO2gTqzpt7+9rfnDdMfeOCByo2BNx1ve9vbwhve8Ibw4z/+4xak4guEz33uc7OFr3/96wNBsNe85jU20+oLvuALTGano6f4lNiPhKDVF3/xF5v8V73qVcH3MIGEjXr/9m//Nrz2ta+1GxTLHbERmdM0oQcGdWnvSuQJn8b4/UIT3lmMYJBMECVRSVOUKRpZorW6421UXggRPD3/ZDttEF83tsISB/Q+oMs5gqDTAxBCmcE0owEqM4XizIF4bvMQxYB5oxuHL3xhUEPhsNLYCm192pyNEVj+R/Dp4dlV4VaDviYfbrKZVzhhdGKGVmfmjAJYu+GTDb4yNaslhrNhRbLXtufswZAHJewgjzMd9BCXAlhmq2Ys7DBSpT20hduLckvk7g/8RB2UwzyP1NW/BasjEGEJGRIi75i4CIzivWy0Tu9A4xpWyYe1Z19BWlVUF6Q6NpldkcldYLUCTr1i2wAbo4T41/pYCfBy4ouypCA7xwkG5Mmoim01sooYdEh0nZ56ha4mY6LqJd5HPt1vzidZPl5vDzx8MZdZu+UsrFFL3esyqF+ry9Ln2gSwtHm1OhLXkBz4kU+6urasaYYVs64sSANNrQPaDKvCoT7EKOMYkTcSAbcZWpJJOXa9GPSCwvljWQRKkccg2Y4I10mRhoGREn5d9wQu5fgJ4jQeKDOJtfYYXzqfKXMvcH7oSeaDGp8hihOxvBqaOFMeBYPjiinBxhZ59bcE6bZjL6hEApiQDJtyW/CES7zwzNBiks2sZkPZVxtFN6Njxi3A9hRjKI5NtKEMMglMIuBlwSk/EBFsQSuKOcBlFQzBEiXPS5no8PaU8JKesusi93osSa/uqLI9J2iczoHO7/VBObOslGwWsugtkOU2k/ssLPJ0HNngP+sq8SYp4dwW2ufrPV0uOIJJ5Ohc6ITuofmwdUABXw0E2JesdWEzNM+tag8tPePDpx9LGrM/4fVAC2XpmVnbCDMs5/OU6PPyQB1v9uD04zi7tB4W79fLtdPoFU7HhY3r+WAAH1IgNVe1T+c5PdsjixUMCqR1HlvT8tOd0J2PJ1RXwbP7Ivne/qZ2TcQE7ZOQCF594Rd+Ybj11lvtq4Pse+jp07HFyDUdwHJHTvOpB6YemHrgCXmA6/9e7gF7oU2GEUgatmTwHe94R5/5rDXnNywxC+tnf/Zn7TeMhi8OEggblZ73vOeFd77znaNIrmqcLS/QANZSynKD/Th7LkSFxCueZ8ZeIY/Pi0F5DxtL0IwQUUVCWNhTkSXcIFlZthVyzeT2iSppVDb7sb1gs2UFRR1cpZ0a7+0QyIJGv23xax91lROMt/wsH9RsAkjYG4UlNi0tIeTNP8tm9mmG1uH2ajg4t277Wt3UPhc+Z+ET4a7WmbBfM64ON4a/bFiYaWj8qsHkzJbtj0Xgit+6lhWudedsb6wtzTrgAYrcvkCV+gBv+PNbfpzDTzO04ht0Gqo6yXGxZg7Ih1g4e4AwGloYU8Y7oMyTvB61kMgpaSiXAOch91SWHeZ5gavbko+f0w7IOaT1BF+WpUou1wlVNx0QlHJqPEaTeNmPzFJJD6D0AXXwdRrgZSp5RNtnZ+J3eOUBsJQzqjyJHSX/OJtLWpUnfXM+yfLxmmh7gcEycpal86KDdO+99wZervjS9TrPoPq1vCydZ2U6oj87e6ckGEQQixlXniyQr85mz9cW8IpLBPOzaDoR4LVAUaL1GVglv8skCM9MUoJnyCU4b0u1U5ALOpePXBJBMC5uDuckJZjWu6AbWT5h4OIrsNiB/BjogkfXTe/P8IsQGMkDXcabTjDTL12Zx+j440JUruEFsYASuSWY0ZFYTBZKXKjgdi0n6EAQQ/K2ZTdfI5zlXbTwfOUOZxGcYT8slhLOrcbrmJkiWTazDbotBSpwrGD+9cgcnMo6kzEi95SX4TmNI+q5Ba8ERAdJdltbpNYScAVLWBpoM6qSLbm9EKHDAkM0Xj9o+HlQCBrV46yq1B9Fl5cFDrPRaCQysWT9NnMpAZFNchnkBHcU2MkpLS/MdS9goydmXFEnaLTQCis3zYelm/lCoIJGilnte0ibv4u2WS5PhAddnuBPMswfzNKyPbAKGoJn+ErJ/rr/AWiMQatmBRs6bQH5ao/vgzUj+bPnL4a2bGmnNnd34/JERO4pYVA0bTzbpHTjJVUo2E6Ejdv53XTTTRWcB/4qwD1WpgGsPTpsSj71wNQDUw/UPcAgJA9E6sgB9b3QDmCfgi5zD2icGxN5OaCu2Z3pnNwHEkLAlvGq5HJNRq66TgfU6w5X7oPIvgf5ETzO7iZa3drnmGSvtzfJMrtrdD2OxFMEq2xvJh/PIgte8MBUt3GlglRsDMzSwjgG1JtMBa9YQsMmyCw1XGxqE3cFrw7NrYY5PVVc11wO+2fXFJTSZ6tnRg999s12AosNj+gl6AvaHw1/r72zmNF1fnshPKi5/Q+tHwqr3ZbtibW6pQHyZkszwuKSQh66WFZjSwppqBywoyUcLCn0l8V2MBkH+0GlmarbuD05OJZpfATgCislPBVgeZBayBJ0eHJ+KPwYUS7gCQw0pgJnAOrFON5gdaY6j4jcxDq9kfKHRhd8mb7nhv7TSU5QrzCRjsx8SVYOZEWqqh3A6rYDKuxIbD3bBtC7DGfL51hmHl+4XO4jkywf5+06M3Pf+ta3Bpa1Mxv3O7SUnOXuvPhgVtjrXvc6C16VG7jzMLO8vGwzidfW1sJ73/tec8xdd91le2hd68vSuZ5xGpCTCN7YhynIU8DHlgcqyFMGeKBppqXskRM5vY7qQSDHkcPvMmIgqdfFwTN7iM3f2VeQxB6AW9pna5uPWEi293VD6g/aCE61WA4pXnRChw63xa5roiP3WauZ382VDIJFvUBery09OZLJNZMAFIkMnRSKk9f96Hox2mVkvkRvGXiX6XJBKBBhs7XQo59WcZoan1VEkMn2wuIrj6LnxRY3Ws7p3fQ1QmZnEbjBSuTpr/nBXm6gKxtJRcnvg7GW7YLPkncWAlUk+C34lG4m4PmVgRX6RKlHeNvrCrokw4JL0DjdIBpflhe54l9kuBzPHW+26bj6xvUeJPPgFAebHwEtP/Dkc5KZ9oMyUQPlFrZCBE1qc+MxzQh99Fw45HrAI7cuB7gnglXF3lUma64VZlid4LZ4+1O7KjJdtvvP5UqmBcEUOCsDOLLekgWy+EIiX0D0/cQI5l50AZPne7mXPFnPI+yTxe/JSqNHcU+W1qncqQemHph64GryADeq+s1qVPv2QjtKzhR3+Xggjf8wKI2Ho20MGFPKxURQoXMiciEybYI7bR2e2XwUZPwZ+mktlCps9J2kV2zyCsQymtZX+OBJLjFSGkZdv7yxuPHCCBAGJWRpLOcJcHwQiUsMebiaUeCooYeYbfExU2pFQaY5PVU0FcB6vLs/PLh1vVa6PK49srbCnQpwLcxqs9QxqT0zF+5onrUvF56Z3Rc2dvRlwm0tVVRCJ7MiNvQWdTs9pG1r8OoPSHZZwC7sVsW8Ye3RHxvkKqeNNFN209a86bsFiBIedshUNV+RT5LG0Q3AS43Zkf1O3YAUilSHDZBVUPcXUwDM2pSwdrgLuRlXyIbGU8Y7IDkpw0viQkYhwjljm702iKDgr/jGecgH8ZX4cWXrMKWiMQxP4n1k3PJx9kRkhtXq6mo2kr0P2eOEGVgbGxvhFa94RXjLW96S8RS+8zu/M/zTP/1Thr3gBS+w8v333x9uu+22a3ZZ+uZ6U77T3j10Xv24PHgAaDdtDudBqPL6gvN2FSixrlD097gXVZzlBI3NijLa2EmRxS/OoIKCOsEmXackJ+JjkGtTa55cNwEtfiQCU3nWlnjouUj3oBht8M3jCQq53fBWenmy27szfOYDCFPK9JU2iozrZpnwH6mgq8i1IFePBlwlYAWvy6A1yMceWIyNdtqVPPpcT9HWXgli70OWwM0q72riDC8lCJ7zUmW2K+YtF4QSJWuocunAhr5AQrpGGqkZKhnkBH88Obysq2yBMp81hR5+0IJj7ykPwIhGFtrSNqPR+WvdjQCQ87AvlYIuxoMA8dheTx4I0swl27eKIFHdNugHJWRjHwGbevI2kbudTuNt8aAc+lK7jAR8Pbk84OCxW4GoPBNNXy1kw/Zdbbqug6mZ3YpOKoBkASvKnpCD7zy5LWnfK/MJ9NiGXfJH9hu80BOcUt5nZTm4cflPJC/bPE4OtFdgGtBzrsBWTE2eemDqgakHnkoPcP0vBhtjTbky7xdjm3VNEjAS4efH1HOc4aOUlDMutnG1D67zQBniWoIm4Z28RlGtui6gZblKZbVsxwBcCcpNGSZP8Gxb2ZZB9C4s4TIfChMu7pWBTCcWjrLzOFjMGkJrHBgfwOxhqzR8SHm2WNfVYDA5YbpZm8Q2Zpb0MrirmVj77SuFLCkU1GYn8DWwrh5CdjQQ3NGreR4K4wbJXBaYTaDBMgNaU5n0ZvWC44xU5+GIZG9jrZQaLRojo5ppU9Fg8ocegirXoUTn9KU4K4NP4q3uf5zP62Uuejs8g/igS7x5BpLrgK+8RiY4bcqpLIu+gkO0684MicYMisBoGw+DBRFFyc7y6khzbJW+QuKyPHfS0l6HPZEc+aWPxsmq2zOOfg/4ccvHb7vtNuvjpUj2T3zzm99svxJelgctdy/xlK/FZenXH1oOjUWtQVMqAz1bmrm5qf3+NjaaerbWciPhmXna0n5ZzIziWZngORu7WzCJQIhgMQDFNdJE6pqk65A6daraaY8eDzZBZUvddO2CjlTaAR11D1hBgSxmXLGE2ycBOa/nUa8oK3EAZPXkE7xhVhn/8rO06pX7QNLnJ7bL9zonN/aZ5codbjbyR8nw0lW/5rks807hI4yx4FZaHh6l6K8JjbnZS10xEZtVowNi1z7UCGautLL+GE28NunOZcEZ2mxJfu8790XiB9D0cGwpAC9SZYkheP3MDx5MKoMuLJPzwBMy1EHyDCw6C/wEcbainKyfIE0K1BiM4BNySNY35D1iO/CTkhzLkQstP/hIA/RasMeCaylI5Hait0zI84S48ppJcI2gWLZNbUGmLeNPbZc8CzaR4yMdsxnxzbT1Ygr/kLwdBOXQ19YG7syKcltYfkhQz2SLB74V0e7wk0zksa8VPB6kEy3LBHcJVvl0bPMTPsM22aEvuaIL+212n7YtCKfMor39SSInYoL2CkzTANYVeNCmJk89MPXA5eWBvUzXxfK+N22XV3Om1uzBA8ycibNnNPhIY5/MzsCAsVYxQEjPBolEyGIsZkBo9YMuD0yhSXSMzS2VghIw8vTwmVagOrmNASXLaTLebRUOVY6POhFkpfgHOykZT2TwohE4recAk6IMYiDLIFQA1+W2RRngJZUnNZL4oefLf9sMhgXmAYQxIQ9L4HkQW9FA8KK+GLgwp30lBHu4dTA8vHEoHG0taQlhN3yofSq8YuGhkXthRYUhfFJvzx/dPmDLCB/ZOhROre8P5zfn9eCozZWZ6aUNlnmAZLYBD3hbWyozYMYZahRv5su9VqxsptJoaPzHA0rS6jBVK7CERq7Bnd7hyU1WFc6qhSyHO/mwPOuEoM4/iMn1JntsM96CLtrqRAlRKkkHfwCokNJfLOmjjkST7DAHJLWZlofYeipBzjuMxvHKken9tkLuNBXg6Mr0PjLaP9cC1oJEXEeKPkqgam5BD8ZF4prnl0R4CDBx7bGZPLr+xT2moOl1xLLM9YrrVPkFQZYhsueVXUelK8+eSiK4rjL7is3m0Y9e+wqhrm+7spkUr8W9IFiEGSr/Mdsli+s8z+/YHfTj9qmrmp1UnI7QebLgk1fIpbvEl6jypJhz33QAAEAASURBVPQYThVfqeWKWmFtsuuzoB7DsICRVzCM9moJO9dFTGTGkgW6kOR1YIrqafE4sQi7RnA/R0dfckd47gTUi2TjRuzItkR8Hk863Bvt9UIGTseunJK8/OU/IQicWPDELp4CYIf/YISHwI12iKRsSw4J9DBbipwG8yN4U2sD7J7iUkWOepGgZxaT5erPBIyQRd3bU+QmQ33JcZneA02KMYUdBY30gQmzTbJndmUXYwf3U6Heim6/jS+SXoJP6xu6l8teAk1up9um3GZuuW0u0/0EPQGzDhtxpfZZQEsGEggT3+6BxbBy+6Fw8VYFrA/rGIhle0Mbx/+SC5s838u9JPefycVfFpTTANZlcRimRkw9MPXAFe0BxiT1G9eoBkE/TVeFB2a158UM+17UUh57W98Qsp+kxtFfrchIaMQwsOkbGCb5xmP9i8FykYo+Z3CT0cNHmRpEuRzGlaowNiyT40uYlbOxyT4n6NPjCpxgUC6aRAYWnTHIlYzJ9YSTbvDbGAuffht6wFie09tXNntXfVYPgS19pp69snjwOdDZCH+3/0x41r5Hwg3NC6GjZYW3aKngHdo36/rZeXvw+NjWRnjX2h3hfSs321cIl/QlwlOr+8O5VX3ViH2ueGhUbnvCeMCKYJV+cQ8UjJc5akAZ3LQyTUnO7B2zSK+/sflGQ21wqvANIjHdQhQHzXgKWgvA4rMiVWiwvW5Hjd5YoRmV3JZEE02qCqroha6KjnYAL3XVaEBXktvuPE7veYU4VZzWc6f1HDLHKS/BLs5mI3hl0hyZ0/vIpN66qujOXlzQMrOOntUJEimQxMwmnRBcq/h5sIpn7hh86u1FZYEcaMRrH7ZQh7RAmIJChBk8AfMEj+1vpf2qKDt9DITpAVvJrpvIFN50JGZo6PXgW9p3sNmJM8FAs9k8S6uhQWbJBx4YP8cDg6aZ7ChpylMh8iEgtUE8JGwgZVqTH2Gco/DlczXRJmx/ZudfJMry+qmkFMIkTPcd7j32E1QhF/vaHBu97+gexAI9TZyzoBFBoRkFj5h8Y0EDAkU6oKkpIpLcSjwHHLpqyRut3F9yQWFf0iPA4rOIamyDqhYAgh4+EjZyfAnMKMVAlhV7f9DPD9vMhmQnndODT3RY8InG8p6EyEeAaDb2tYwq24sOkufCxdlUMXC229E+lMcOhPUjnbC1j4Og/rise/z5rdC4sB79IXZmZFnAyW1xebSbstq624nbApg+lv5tKOi1puCRzcDCTvmFIJUH5QhGMbPKg1HJ7xYI9DZ4jg2i2zm8L6wf7YTNA+KVyNbSjn11sHnqQthdWVOAbFNfSNwKC6c1t3tdBDJtm/3TLiXBVugfKeISVYyU+RlATgNYnwEnT1VMPTD1wFXuAW4Uk94scMVeaK9y113xzWMMxFNCGmv1tccHB573EdQALsdz+PTLg1zIwTme+l6S89XsARzfENd0DaArdfvzRGmQq6iYNRCYKGo4k1k0uE8H9PpV4HH8GgWCo85b8gTvaoPjLf1WDLYbzukh8ZH5A+G/OjcqqLVtD4wtBbkW5zZDp7FlS1ouaJbV2ZWFsLLa1jMBsxv0bLCpAbc+iWgBKrTZ8WfQn1RT5wEAv+mHqZaDL31ZloUqmis646rCkDNJqsntY6nhsRVtFf19TDVATYZhS1g0PzU+8ZZ4gUxfDWaUziucF5OEXgbCeaFL5dhvhCsZwTktErzsObAxyY9tSdbreyX0CZan95En6MArl/22o2fDzMJ8ePj8gbD2wP6w8LC+Yraiy4tdx9RtCYKovKOntvUb9OB781J42onHQ0ufwfvU0qFw+tGDYe70XGispc5f9nuV+VpeY0O5VinSd9duUNDqaavhc255MNw8fy58dOlYeN/HbwoLH9Gs1ce0j6BWMa3cpAdo0dxxg/To2vipCwfDuUcOhNbpZtQjuTzf70q2B+W5F85p+RkbmmPvyo3SeddS+JLb7g23dc6Ee1dvCO984Gmhe9/+0DkrQ3RdbCpO0FhTEGsjnpTbLc3sWtBPe2bTbrYc7B7YCdsHFSib79o1uHFmLiw8qg9ynBWPxKycnAkbz1oLL7j1wXBy/kL48IXj4WMfOREO3NMMC6fEK5lrx/Q7rvJ1Wxa3mDknGfIz7W0k3ZUeJLn4inagg6DU8k0zYfOu1fCiWz8Zbpw/H7Zk4KYOyoaWem2JcF1Ly3nJcerivnBxbc5mZu1uaNaPAhKNdW0Enu4D+CmWdf2lCTouHKMc+OZYp2Nu1zNocA8/T8m+fL0rbDUSeNCjH8n5DZbkaEtHO9Y7LYhlw4a+mrdMcEXHkBWtArP5vNlm9zb5an1XNPpgyqr8qKBVd18rrF+vr/QeVsC0EwN22zp2/EyuZDQkt6EvAHKsLUgnXejz6yi+4Bg0Jdv0Cu1487+q1i8WtVxWk5isX3R2w+b1+mLfsdVw3f6VsK4PDDz6wOFw8EML4dDHmpK1Hdav00zsWxph9aT69KKCwrKjdW42dM7sWhvxxdyqZBD0urip9mjOXGtebZpTH1TQSZvIm780C3tWX5HEF2aa6jP6OIvPXNu4vqMvHTbD6gn6bvQl4w/OV9vjbG437D++FF524/vDyw7eY184/quzLwh//4FnhwN332T2EKzEz+yX1rlAR1G/58uVl5L2ci+5Qp9HpgGsS+kYU56pB6YemHqg9AD3GG7Ik6ZLvCdNKn5K9xn0AINbfkOSD74c7Q/b1H3w5riBeepXcdhUUOylv01I6/ZUdLnBjixMyEWnyYBYMBZ01/T3iXJ8yk2/wxDlcIdpVgB+Nd+iGzh1glMkYApW2ewrwXjJymyDdnsrdPhSoWY3HGyvh2ccOBWeu/hQON48bwPK482lcKv4DmoGFukjWyvhnatPGzsDa0czrmzJIEzMwNJsrHIGlj10qNHZTTr//eEFlgxP5qsl+WEDvKWiaQ6KcnMtFtxHNbDRCma6SlsE43hk1c7nRqWD5VVH57yPMWHqcOyq21bS1HGIKfBD9UNW8pZlZKhePwcBj0p1XYUZVbahCJHV7ahyDq5N7yOD/XINQB/8f28JjVbHrgsLBDP0i9e31Hj1Na4ZwOcf1Qynxw+G+xoHDckD9iLBDw8k0efpf36NTLzA7IFaqPY5zR59/2J4/wefFd4nOvr8fBqXrN4QO29TAbRw92J44AOLhkf/fq3EwgbKdg3WUyQyCYRwviJnu61rXZI1tyTcew6Ev/+v/yakaJTAES/x9hGgYqYPwY9IEHE8zAce6KWvuaYXCJqZsstG9+hJ8llqRWooMDL/gfnwoQ8/I3xIIPD7xEugY/UGNVAJeQSswsNptg1y5LuNg1ybxaS6JeD+UG/lBFfWeXw3tP95IXz4Xc82PVv7FQy8cTvsu/FiOLpvRV+jbYYLa52wvqI9k9ZwjPRuzIbmCgGc6Be7vrhcdOoXv2DYa5ddt2habJ7R0Ka47K5nT6VEE7jZOQ9I5KdEmywYozajj2TH0PtJhMS/kkEQk8T9bVZNiT5XAEm3x42DusftikDyTYZmloEnECmXKzikP8JZW5Gh+zDHgh+JvtqwvqSgjWxBxo5kbCtgpInO1oaebb0G8RXD1oWe3MWHOLaa2bTLd4NDuC75aOWEOiRLBcXaukjADSw2C8SsN9HhK32fIGzu1z5z+1Aa+4XbXPoOblls8mIZfpWSafRf+uniQyhIFCJwn5kvdg6F/9h+QXjPjj5cITLo4qmG0fpvtqfcA2Upd50T55KV7RjHBO0VmHTort00t6oTjY3qhqTn3PjIEEwP/L57bulVBpTaj4138fax4Ta4yKN/H08srw/KmUY5Li1/sZ3FQ8lOHB7/vc5P/vozhvI74ghresek/33zf4yhCOHOV903kubBP71jJB7k0h3j/Tt7vV5NjUmbm+OP5cKDo2lWbhxvy8U7x9Pc8pyHx1irS/GfnRxL849zzxpJM7N//HE8f+f4vrlya7pbjtC22xp/FW0/9/wICSGcvvf6kXiQhz80mmRbN9W9JhsY+IBnAuY8OJqAdkpymXuA03XQKasBiQ1wGF95Ep3B6vQ+4IGujgNW4qmTajCTGzERPUhOwmfaPFIrGIui0WU9AwRmXMFUK9ogFLqSthQlODRxZBmZq3ojb4SJMcmyfbFKuSwVVPCJt50sSWloSUq73bUlg6xmmNdeWAcUtDqgJYLtRjccay+Fz9/3kfCSzulwrKFXupaq99BnzC2GxsLHDHN2ezFc6C5oxkOcrbWy2bI9sDa0hJB7w7aWTtAs9ruywTqBLIzmsqacB4d8iRChlWFQssMgunw4DC8eExhp7C/wVKXpUWECjMlcti1fEaP5cwBPH1yM8NbhXne5JYHBzMCqgj4e0N4gJy35irKTuQzI7eFAiGxDklHSuNixeamLsissGPv0FOd2HVfp74WMUcXpfWSUd65uHAEY4u/Wj+h76lt2XVTR+rP6pPdre/hnSFXrszyMM/kzp6JswYMUkKjj40N2ghY8BnGbErrUgT1WJyjh50J53jivcgtGJRnYbbzo0o9AiQdLIMEHZlMxJPSHexeR+V0vfARFyiEregiaMCzHriS3cq7iZ+hccM4j0I+H51GGronSA2xHM7tm12fC+ppm+uglCUsoKe+u62MeLANTGxqbCl4xA4nAH8ct2WE5ilPdAyvZhLLgNOJ3+/vurUYTr9ew0i5LNEU/+MyPyGC5H8lwIGOVv8ZX1Es7jUo4ZqM5j9O7PtMjHcwk8r7FrdmS52I3+3GRjo8Fk1S2tkGjH7xRdmRy220WFCCTEWd8uS1OY74s5OQ6osVXSQSygNXhFaJUiaaYfbMEwlKdDw7YnmecC8hJcMdTtyClAlI+i4ugV15eKh5o8QlBPH0xxhR2WWZ5CWkv95Ir9Xlk9NP2JThtyjL1wNQDUw9ccx7gaTQ/nU7Q+r3QTiBuSvLUecAGYQxaSGnQEiv6q7FHOQDrHznFQUumR4SPV/LIJ2HLUVcNl1FxzGMMdVP6bIOqoDemop5lGiL9cbznAvfpqdOLNgebShyMSY612cvkCkIZzmFeJyeRM7MqwcnLDYjZC2a+tRUOdtbDYnNT21fshOvbq+GmzrlwosVsq83wtNap8PkdnO3BK5Pc9+dpc/vCJ1qnQ6ervSlmN8OGRttdGTzfbNteL6tbLS1LjJu4s98KGxJ32cQ9LTm0vVsUzLKN3HEqTUhLDBlskzyYZa3jj+gYVBJs8lQ55KKJtNFBdZzz+MGByuhB8EDnBLlQEvT3yfKh2HTBp19Fb1Hp6zs1QK5y/EalTDiEyPuHo6k7THlpq5NYnmjqZdQVzSgcFblHmVPH1esV/cMqdIS93Bv2QjtM5xR+WXiAGUwz+tF/7Z7CpYn+qGtAnq1CcKbAG5332YHnZK9pPvPGAiiAJT8+PCeZklNPfv74dcrxdr2mIp26JAbt/d47V5CDjYU8lwNLxtVoDDfkj/ObHemSYWpSuc6WdRtRgcWX4qm3J1MgD7yfV1ZO9OBAy2/8PIDDcSMA09C1jBcn/ovU8S+s0Ngx4LgiF1v0c1WxjlMij7fZ6xEqHmdIAJtxlcoeAMu8iMNe9wN6k+4y0mn0WZ4KiS+BjIdAnNPZ8S9ozHYLWPVo4CWg4zOu3G/Oa/JcZmqz6cM+ySJlWiqFvh1mmaVkcqkmEG21SWgUXK7hIkHuG/ADSv4gqEQ7rA6fwQVTbqIUbLJgKDz6WfBJQbxsY5JT6jRd7n/YzEcKeDKrCvrEY/5DpWgJXhHMtaCrYNsKfl5Sop/U+spQOZPSDRXw1CCmAaynxu9TrVMPTD1wNXlgLzcL2n2F3jCupkP26WqLDaAYlProjsObxhwFyNRZIKemWMOMXvKxiueOMaIKpWNinuhdrwFLGY4vuRzveV288zgeXhtx9YTUB2g9TCq5A5DhcpTb59GLulGXtASnmI6QHgrYT9Y+x54CHgSr5vS2m72reGDgK118bXC/ZlexVwv7whxtLYcb2+fDkeZF26D9aXOnwwv5PHVOHLTJ0me1tDyksRLObi/oxSgbFu+G81pH0dUTIBu7X2jO29cI+RQ8GxhvalYWOcErNivmS107CmxZMEvN4otVBLTKL1d5UMssEp8dDv5YAdcnh6W6we26E+HmvoIeOe7SkZcbyXU61+UqzJbyjxB1nB/GPkTJ58gac9ZboS0qIw2XLTV5zuly3WUG94ojnVi5owAhcgAJqNGpFCJKe7AZzdGPteM5pFH91MMdMIh2CrusPaDLlS2pGmQkXSs/KOshm9lM5eyWiBcRJ2M6IWvdMfLrkucPxjw0syeWBVX8RJqg69m5ITpy00tAnCmuSS8nkM3uSbKg88BAPLlEbzzwR6ZK4MUdkPitigzqBSz7o9Bruks64ep+MDmFjrpcr3ugyIILCjwAJ+C3dKu+PPuctfDC2x8IxzsX7YXGmQ3NztV+iSwf3NLNal2zf7e059GuZiBhk70AwBbxmy+k3/ZJ9AAO9ogu+8ntq+XRtni9zu3y9psM4ZCpn6c+Oukpk9EDK3jKfmS04LEv8ZpM+lLS7T6DxpPTet3yAk89H0MnKnQ4fUV22dZUdhuq/Q/hUejGdVriectWuOGmc+HY4nI4s7YQHn7outB5oKV9p0RDu60tKRilKjrzsTCb9MdyIZWjC9sJYnobOI8a2nA9L6/FPqOBNhprL9yAqUOgw2wHhbwiL88naC8p7eVe4uf/JSl66pimAaynzvdTzVMPTD1wtXhgLzcL2nyF3jCulsP1ZLXDByE2mPIBCgOeMo0bjyS8D8xsAFfjcVwWW8NneFGom+EDMR/oZdJCVmxP4izgfbRmZIKWdF5WbkErSIA53OqSr0GdzaqiTtBKwatZgliSaz/BbIaVverX7HoFqZhh1dEXBQkmsSSQpYGHWmthXlMC2nrCO6GNMu5oPxaONxTA0ujyGXNl8ApFk6ePb3XCqe394bwCWOe6i2FNG/USvGLT3k1t3suMrG05iwDWdgpcEawalOyZDX/RZvyCe41WhTxYVRlYIUKPQxr0FoBcRIDIIea/yTNQFBuLCRAzo8lwk5wQg/CCFTKNIuuOqMjV+1ugI7DgR7c3w/I+4iRHdBkFPykDYtUeHmIx/zX5uaaC85bX3FKO40Va9UspBDklUw336apO7yOfLk9ecXLY24cfyQM73gh6XhmUsIAPQZUUdKDfGgx2789iyl02dd1cR57xRPpB/d7PTc9F2Z8klwf30SeO8OgqbItBM8S5sZSjvW5LDiBE1PC/qW2lKJu9WszScWYPSjmt2+Q5dJQtAEfFyrpU21I4bcit2TF8HY79DrnWc+/Z0UWIsn0ZMr28sKCDeLnncc3mOmU/PXHH6z16RKDjZ7pNV3qRILCllGe8gM6bKGLm7acmHu8TTmP8wPWzYwlCPF7O8pM+Qxdlk+N1z9FZyMg8jjemHk1FR0GT4U6v3NqY6mYz5YLHUEWb3bf53oBP0w9a+lrzbDM8tnNdeKx1SB9g0TG8qK8SKghsM510bLraPmvjsDZvZ9M0XpKtNcLc+YY2dtcxtt1l4rHJfdLbXrODvd+QaXaDq9Mp4GUrN6XC2k6e9uPqa6M19An8wZGlM0eJmpRulIynADcNYD0FTp+qnHpg6oGrzAMMJIub2djWQT9NV5cHNCIcNCAbBPOG+yDS6zkX06juVAlkwCR6kzWCyVA1/FD9JjN16QEPAm6nhkgWiOl74DJEGiTjAOnNNNhgdZeCjEhjEHCqbzsMepV9RhY0BLeWFcRqpCAXwS02Z2efK4Jbc9ps4lD7SLi3dTwcmlu1WVO3t0+FF3YeDM+aa4fGDNGj4Wl5Zz2s7m4HAlfvXrtDX846HlY0MiVwdX5jPixvthW40p5XcmDeA0uzrKzZgrH0zwJYAKizH5btiRXrptlwHDoaqJTqPpAtv2QI2vpRkkedZLBYjH/Bj0sFTdIcdTtfgXcQ+Z51SU4fTxKY9ZYKVHZX1MC52v9wVnvoc1fWFPTZMaSNWRGFmgw/LpmmLqNGX7c1840qTO8jo7xzVeO62sB8N21+bgEe+oL3Me9bKSeQssvWo6pzzkDPzI88KyvBebi3fsy5KHn+c0caL2oSvcvLfV9wUj4voSMYU9wThgbOMq8KqRyFyU4L1iHYIPFPpq/BnUT4bIdgdk7DX8joneelQhcAbe164XIgSXJie1AWdVhQUe3Fd3nGja7lS5udcLa5EJa32uHs+mI4tzoftnQPYAn5lr4+OGN7YCU5omfWHMcp25COR9ZbawsmkXKbkj1OH5EmTkRWizYX/abkNVmJLNN7vczdD4PsSbgKf9Jtx8btQF7dXuctddXKfkzrduc2I7/UR7WoZ/7CBy0tcW1dFNGnmrn/+AxAZDEjcWvfTmgeWws3Hz1nL8P42uZyV1/bvKB9zHTcckIXP9pmx48AZcTS/t00I4uZepagVQLntjlv9I/4k63gTVTiiZxP4C9yJ5UF7RWYpgGsK/Cg/f/svQm0J0lV5x9vX2rtruq9qzegoYGWpRHZHAFhRFREUcfRMyyCs9myuQAqiuPMeBSRPiwjniMCzoDHQVH+A0cGhAGVZmkRBVkaGnrvrqruru29evvy/35uxo1fZP6W9/tVV3e9VxVRlS8ibtwtbkZmRt7fjciicrFAscDmsgC/pqVf9/pQbRDcPtgVlFNpAWYePotBD5vJtRSqVXO8JmpzssFsxmGeJ7Y21WmKqlodV3mF1WKTyGPB263qdI7UqKd+5H1ABnjdcNWU9r9yHKOR5KxuDiwcViS9IPH1wDwCa0T1MTmocE4RjT+qnOgrIq9G9UXBSe2Oe+7kbDhPS/2mtS6Gvaou075Vjxi7N1wwMq66R19VXxesBHX+uyrv01e1h9Xc2nS4c+WscEgRV+x7taxZKb+02zJAkZL7PrjsuRW0nNHaFEUl7eW0EpL1UW3Zi6SdFSKtbOIqfpwluq7DnFmUrQq85RS1H0mtLSKA4zY0CiNqTZQTrI6Un77Ero5SUbbEWDd6/kgbcXPeEGUsXJtW3rNRaGpP/OhorNT6DKwDH8dxet2dnbzjeDWlHJmKM7CG6k9uotSc0zTozHmQ0fdTLM+Rfqx0euLwIm2H7gu24sicHYLp3mH7LPn+WK1LoWUIrhXRJac3LT5gY25j1mGRMo1j0I1eueTaS3XkUTmsKgIb7vl1aeA6U8P3+x3t9Ie+wJ/LVeg44Ey/Ommny67Cc5nKO13viEmpwTPBIw93GAC3SCvgUTfD1b3Z+8/XEecuHApLlyyFPXtn7LkzrQ5MKNLqnuPb7FhcHg0Lc+Nh7bicVtqviHNgG7YrcmeY/Yucf7Rvuq9FeN6f2u0k6mvtKlvK+2btLQdIxGjHE6R2nuHlvMHO6yrb+dNY5IuA9tzKcCjaPYq+ME44oKGbfs7REf6xv25LnDqMb3PuCMfaCXjCsSfcTsllWRtyxAMnIvuJIQ/Z6FDxUCWm3MFqzyHXL7YnO0eSqYN6Dn99OhwZnhZDObykzx7rH/P6iii3IRCHm/0MIJ1MoQrf/qIfdtDD03RCDx3p2gSppXbF0+qt94nVpS7GMQHd/wzyLAF3KyYNg5KKBYoFigWKBe6XBXgADPIQGAT3filWiB9oCzBhtRcHCaomJ90nA22TF1eOSY0nJ89h3tYrz/HhoSMHWSUCTATlGkJk7vIzWWny5rM259PkoXo3XGdnkzyb7EZB8PBoK5CSDG/XZE6wEQ7hsWxjTE4rnFfT2qDdHVg7RhfCrtG5sGNYG7cr7p+lg3XnlWvQO79zdS7ctaKIq7WJcGB5l5YMTts+V0RcLWnmvKglgywX4WtTyaGlTpvzSip7blLoAgaxg3KU7fBY9cyWnPhJwS6O7whNWKPdTNfgbTCn75VHXoiwlPMGmBq6tGf4aQxEVLKOemQ0TRw3m7FgfDRwDa4/uSyX4bnjIDzHq1ciVoZg9F3kgZ1MIRona8ps1pMuvQrlOdLLOqd12/I2LUebZJxXDpTmS72PM4xgQzMNQgFU5ocCcyJEhGFF/fByb45yUCDqNKahhZfxUK63wjR2I77X8bsbHnkjgZPrmC4S4PD093DXwfOMj8vJQFUR3Sg15WZ174MRAHf+nkPu5Zjzg4E5YVw3nA36VcIcbsIhomZNn88bHluz6N4RPXfml8fCgpxWi4uK6JEja3VZP1YcHw2jM4rW4SuD4jGsZWpsbm/RO+Jjco13LCPf4Agxje1P0o+atSt33Qyj/sfwHQ8S+q3Dc+OBXGS4nMxmcAPXnFY8k0nCY2+0UX6d0f/k3HB6odT0NKKKT35+khMJefBc1nNcX9pMuuR6guJ6GbyqwAOnlSd0GRYf9EvJ+UQA/CvnTQWgb+aMU9WdXtYvs0vVKX2/OLGjYOfQnGvSWXgtG0mf5DiTHjHqEX5mQzatV3u9LxVrtQguOegbcUxXHGXNc2x9qnTy/bNqCvZTGeRZskXfR4oDq5+BUHCKBYoFigV6WYCHfaenejcaD93o1l7gW8YC1YtDNRFqKp0mMnlDJ9ROsGr+kijbeDXaa3OwZpu4dBKRgDl+Vm6TiTZqT3Bwa/UoJeMBScfkOJGHLRO0siap7IGl64lNT4luYongKBu3K/IKlAlFX+G82j62qOWBa/rS4GLYNTIfzh6ZDbtH5syBdc7IkiKvtLnFgGlGPxHjvOJYUOgDTis2ZF/RTJrcnVbOFodVnqp9uwST/uqBmmQTyyJeAz+dA2HWlhPCFB6RjILdYrxOe35SvWztXgElJzCWULaniJbmsqrXKFssK9q8sdFmerZL2BCS+uqYuQzKDTmO5jn0nWTnfGk3nJxXlNNG7zi062jyQW4nea7PwHl5jgxsstOFYGRBkTv5AMs6xguuveT6eLSXciFkY3I4p41jPHfOWHP2cp2ugYibiWsVvS3KrSJg1Nx8Ae/wEu7XRa5Wi7FK8ZqrwbpVXA9zOlRIxjfjgTw7ms6AnKfRV06JBI59o252Vl9wYFl0lvjjhIKlL01nj8NFObKW9Vxa078hhcuZQ0KOrioCV8jw1AHc7ZyfC7eN3VAy+aJq3U8Ed1q/7zWdSS0+UHZOuQMIjHaeGSyysCip5B2IRs5s3SYJu/pBvx3XcxGsYSciqKJDCj3cJja20Q0eWl46HOfHfo7diWMOLXjqoM151JbOMjYlY5UIMhK4wHRYGbmcUFJSlHI8Ili7BdgXAVU1OYwDkyOn1YqW+h57qJyXV82Gx++7I+zQ/OMfD14Ujn11T9h9YwiTh7WfluQRaWhHdAojl43eTT7yXDdU5UC3qF/SUQ67E0qDPEu26PtIGqInZKBCVCxQLFAsUCygB48eMunNrw+DDILbB7uCcgotwCQonwihCrMQwcg2TEIyciYw3RITu7ytVokNuSzadeRqtZHk7ZE2xwHk+0sk4WIIT5w0eXI8/4Ux4Qup6lsL35e5sE+UJYQyuWSCC0C8V/UCscanB1XGibUyUu0tsjAyao6tef0CPj82FmbGJhWZxRLCFe1PNR5mteZjO0sIdSyss+bm3nDJaP9OLPa++tbynnDr4t6wqLCBoytT4Yi+LrWg2SxRV0uafS/oS1Pse8WXBUnsedLpC4PVnlfRovQVQ7gZYl5zWAFL7XHs5DA118ye4aqp1dagoc2TadOpParp8mtyRGzn0JkoT+2uQ9bWsRjxEl1EavJt0qZJfNbQpKnxVKPVvY+xX4xPp0v4tIEXcbw9E5XaDCbcRFtDUiX2rwbuBKshdKiU50gHo5wZoOkDctSPx0GTjVfrPWM0H6e06/Zo91sQYlvKGavsM8VzI7LEcbAeI0QMDxza/D7sfOCtw+nysc2yaDa/zpeW4YRIDgQ12XXk+sCT5LK8jF52TxQg4pqDgXbqUWeqliJ9837Q85qNPPJ+WDnBYyHyRo7ZC92wnePJYTWq5evnTM2GKYXcHNXeV0Ri8YMKUbiLo1pCKEVW9bxYWxo2ujWLzBEf2aqSqfuS9xlB8EYuNuiRXAdDMXwZhxx6kudVrfvf/HwYn4yWtrzdueS8EZvhVH3KeMAix4dHrDvcx0XiE+VW47iiN3sQ0Q5tg95YMuY1jllC6OOkGn+VfcExOtG6s8+cXjb2M5o49jra3+XKqePty9uGwvEL5VjbNxfO3T1rjublwzvC+l3T4UtfeYSdZ5ye04q6W5kM4fh5TGiq5P2nVvVVbXbtauN4fSFxYd9SOP+iw2HP1Jz9OMYPZKtC5Mcy0vBxhZt9wIqD/RnkWbJF30fOaAfWgWcuh+GpahLaaWQsve+KTuA67HEatT3S4kW6k22QLvrr7jo46T2Pqwaz1zvl048+1Alcgy3t31GrNyu3ze9pgtrrT8vuZO2tBtl508Z92v2M/V2oW+Avf+HyVqVDaY9uGBulSa1v3ijNjequs0EavnhuAwzdwPbHu18XzO3PvKtLSwt85IMXtSpdStseu3HHh27feOxtO9B7XP3E7/51Fw1a4Ov2/2Cr0qU0fl9vOZDtePzhLtQt8L337GxVOpTO/1wHYAN02cu/3oDUq8vHl8KX3lOHbVzTeR/oIdB7nGwsr2BsFgswyWES5amasHS/56QJXCLQ5ItyRpLj5JM5J8lxEywrGL0IYUk5n0TVZqLQZI0VXcWom06VmtXfNj0iGA5phANzDxdwq6s1wqwOgdMqN5gcV8Dgs6KIrJUROaQijA3dj7BPlupDepkg//a4Po2tFw1eLiYUqbVXLxwXTx8J547NhEmt7bhCm7g/fmJ/zaE1t7YU7tVB1NXM2nj4yuJl4Yuzl4Y75nabs2p+ZSzMLk6E+aUx+/Q1X5fCccVXqPhioF3ybM7O4R2xFxXVbZKsnK65MbLcYKlen7QbEX+8PQFaBeOMrB44ib4HTk960yGOz5bojqUN+RivOmllnTosjQPX2fOIlg2lBqGqETfpktF2lJVxaGvPaF0nP8WQmYwcx4AthkmHFqiPkhiW50gfdjr9UOw5wunXrcVf0t1BZS/jzbGmur+kM9bsZTu7H1jdcMRPg5t9tSxaOA50pzG8zJz5GDdw88KIPO1aU5s5xpjeNfkKL6W8DGqj7tdtwjccITle5J1+IAFRbcNcK44DLNdVcO9jwsnbI49q03YqSvDMNpgfUqQN9hgfXwl7x4/LgaUl69FgRAjzowaOLH7EWNIzAVxUIioLg1tOXYxtjqAyMiq9BM3Ol8u3nD/wSpVYyOgNEhFyezbPX5sNRMj4SklySImuWVdb2sOMZ5qSO52SvdE10hks1yvvhOMYExipm+KpR7Yl4yHdaiRZBbm+/xVl67e8GOwR5zbAztVRCQMPhxHjNOlbiav/zfoAPfuYsVyRvrM0dFxfJFzSHll3HsneFae0pHRSUXhSfFgRlGMzcnbOgl89z+lbdY5jJ5RZdFmcL47NKkLrwFg4oB/M9rPxFsn7G/O1ea27PKEkBn0/S1zoCQk6ZURntAPrlFm9CC4WKBY4vSxgE6kBHgJ9P1hOLzOdjr1hkhLntK3JR4+O9nwBj3T5PK8rqxypMfSqpgwhK7bzazWmSShIgHU4DN+RJXIvt0g7Tg6dNs0uIwtHbrXHhsjP4G4odKCZNsqWK2qNSWmErShf0hKOGTm2TJbqt02cHb40fpF+PdfG71J+Ql8o3D2lfbLG523fLH7hJLIKJxXLQlbFeGZhIszNTYTVRWbRYoJjSsyHEGD9VpkJrZ1zwUgG9x5ldVPaMBJOrHXMbAJunWs0+8y8Q5s3GUUuz1k0YDX8iJPY0p0GvrNp5p341HD65FOjoRJNmuD98OkDZyN9kw2S4M6FpF4nmcByeHwf6cypC7Q8R7oY5vQHs0cQ3zHla4QrU0NheZuGk97QlncIftlseOolN4fH77xVUaHT4WMHHhFu/cb5YeqOES1J0v1Ix+j8ehhdrBwlC2cNh2NXroVzrrw3XL3n7nB8ZTx8+eAFYe7mnWFKP1raXk3cx+KyKMatORKoSw97nmmwr9oSqCrnDODcMVqisJRwJhCdsqwgV3ci2P5Jx3EAiCnXg/hwrzZHgqqLZw2FuYcthcc99NbwmF13WgQtvDzNKZL27w8+JNz51fPCzm8Oh/EZlKvoa04I07lyFEBr1zB4OkjWH/Uxj6aizZajRRzrNzpyKHGfWNM9n34CY8NwEj9aHFmesq/Q8jXa4/ryIJG4tpxQbSv66IfWFWoTdx08G/S8wLYWrRb5euQx/My+cd7Q7d7k/ajdE6VTjl/1hz7BVYl27jvKSbYU0s5phKs75nDk8YZDR3icT8YP44+6PVfHWfpWleFjumC76DFITkvOq+A2juChYCGej+gMvTmboBFfG6dq9yV00IwuaMzOywGEvUnI4LlPLv2WtusZrbHM+KJuz17RmRz10/ov/iZLumAbHEhT9+lHrCMrFhm4NqZopikdfOWTfou/4Zt+lSz6A4z930jYjfE7dlzXnuyzpnnF6PGhMHkIWkXaCXfx7PWwdP5y2H72nM0njty3XU4ufTBGkZQTM6uiUSSVHKAsNwQf3RgP9B+epLHZdX3pUHiT+lFMUebgLSvGZHmHFqfKOWbJJjlVcaC/gzxLtuj7SDxdA5mlIBcLFAsUCxQL5BawNeTxIZzDu5W36Jrzbt05k+H55DzZQfOinmmAoZL45DyZ4GX1fFKb8JuFpkzn0YM4l2HkmczEvgHLadLkG1lO4PgxN3yb3VUIVV34TMpdNybKeNCAkSjLYTWkX7+RwZ5ZI/oKIL+U88s4XynEWXXB9LFwtn45H9PM96KJI+Hhk3eFK0YPaY+sNe1xNRzuWt0R7lw+S9FXU/rq4Hi4dX5v+PbsnnBofjq9nCwuysGllxR+SV3XZNKir8yhFTuACkwy6aAd8aWKMkm5dSO2VcBW1xynMpD65AiGX1UqMzhDwShGkY5e0ce2BGwvVLokKXWESlD72NJJiU0mu3aOnUOmnnWiKSJvd5ocJ7a7HB8HLYOIqBMP59Ur70DXsQ8ZD9cjAyW75GonnWpAUTXrOaNu5fIc6WaZ0x5+z7MXw/C0XrJ9YPr1oHvdkCJ8PnvnpeGG/fuSHbZdOBPWL9D9SBCif5aXWMLGm7gA3A8V0XH0+FT4zMJltuQbvlOXzYRwmRxS4r2G017OmjVFEfH+ar8XaNBz//SLHZhFucaLgQhU7oU4eeBnS8mFwzJvH+5Lgtu9kn7EPiSlgQl3VNGzX91/fvj6wfOMh/ksJAN+8F3GIbR3MRzZQX8QIA6i4wA3vW/Dz1ObLDWk+3KGF/tiZE4PrQ5b0s39nB8ujJ8BtVRsW7j+7ocbbFiOqtF5mVgRN+Ykk+NmN44IHTgnoBvRl+MsemdZzIyF9Obajo4aU0F1i6CLc8GklneOHF28jsKUI9yehTLGOkvt/bkI/hoyhUdyeq8DgwYjOk2ORznJiDwsmkzRZewphaw8Rb6mgy1PBUcHif7RN5ctXUipPytyXC2vyOmHhwhFpdeozrccOQqjrpD5m+jFy3kDF/7q9okwe+l0OHaZlvfLoYSDi6im8WOrYeq2o9o0fkl6i1fkaXpC6jzh4wmYw9FbOg2tZrb0NnLsR8ryC8OCzoXgDqPZ6SPtupxfYXwsrI/pmhMe52poWUrLDkk2NkbnyGdldTHcYcIG/GPjSrr2kwy3H8TNhVMcWJvrfBRtigWKBbaiBaq32/41B7+k08cCcT7TsUPNOQS4TXzHcbhyn1t35Blnu+BQNNycQECrOr9OTDq05SzaSMDXYarmtHm5jSjqhpIZXk03eNLmOFYWjBcWpyGySkfusBqWk4oXIV6wWDa4fXJRm7ov2Qbvk/qJ89LpQ+ERU3eHfWP32RLCi7TB+0PG2A9Ln8qO6dK1+fCN4blwcHV7mFufsAiIZXnOxvUT7IpyorOOaXl5bQmh9t9a48tT/nKknL1hLGEcJqveBlBVe9mjrbJeleW3AGujWbxAU8IclpRbUX/cHLElsUv1ZgEaI241oFoCxrYaDrAOdGlsRPpUj6xrPCLMcawtVjrhGXrsnL8ntHdWWODk/cnLUWanzPVoa4syDZ6XxbcrjZCtzWVndLW+ZfA2ud0A5TnSzTKnPXznrvkwMq3laDiWzLmke0wcY7zLcg9hqVq3ZE4kOfTtxVj3RGhXWdYWeXCfdGdUletyEuM1w62cUcipPkJREVEf1r3VhzLQdUW04sgioZPnuRx4IMPbwG/hGtjqONA6Je6tLBMfntSNFTZCQxfuW50pKjS7f1ZiDWAyvY4g6et6pouY+3Dqh5DRlWcNMFUtmmpJ+khXru9hLS3Tx27NiWURQYpcIlJnbE7PIiLgwJHjahgHzYoqEmjLFCuvIVpIRpXVHCkoJpwarEIzHlbEIeIOqupk2TlMjp3oeHGZ1ln4criTQs6RITlJfGP05GQCp1OKcnKnivM1WtEYr4bjJcnM+bouoqnJtZMrGP3jiPXUV2CevE3OohE5frYrH1PU9PI2Ob7Ef+Loapg4cDwMzegkrchBBj66Kbey88lz1wvbklRfl8x10Zs3dkj07pyiTFI957cODzbvRFfu48Kr7CK9HF/OT5xpQ+6gQ8ayHHg48aCNyXilsjykJ5IGeZZs0feR4sA6kYFRaIoFigWKBXIL+AMwh/Uqg1/S6WMBP52an9hcmFmspzg59mrHPMfvhCAejuLsLEJJuF5XqU7ZbaYfsYwOnAZeg0tqNrhwXa6xcaUyHomvaxPbkp682JidoiTa7VDdy8LhBcY6LdiIHFUsBeRrhLwc8UWoqfHlMKmvERIxMDW6HM6ZmA17dewYWdBG7gvh6snbwxNU3zU8FTXBeVVP08Pj4VHjq2HXyuEwo/URbJ56dHVKG6iOBBxZs8MTRoCDbFkvj0QtLEq3lWFFIdAhHTZPVJs5tMBm/kpbnAtXJ0gT4lj3FyO7BUQTmBDR5C8vzXZMXcEwUmWais7+qrHKrdX5VipGhA5ZnIu7qokWeudhZLVKxagBalQrnErVipU6YH2IMB+4wEiYzFJ88Y21BHc8AKnsNI6sPPGJwgxXHYzVCrMDXeovbc1275znmby86LKTfnljP2VOsJ3kfpCFMwhunywL2qmxAEua13WQcBpxeGI4WmRUBHDvsSM6krgvcoTqdmX3H+5B1XCqBvMKUaN5svYKxrCmxL2VC8V9BEavdU0+7NFpRPdlZFFGhjuz8oumglfCUqQXfRO+8Y96mDyV7X5JHuGWCdf0yNVG5xynQznprjaw1ZsKKxLSbpdN7YYgFNrjkSJqcaTJr2BOLPwLMjFL7qplm3Kwyb/BwZKwar8kMZCjyJwz5rCKQisN2v5aJJSg6b6PiZDZvK5daZwoevYkZ5RzdOdUBzqLQHI8z91IqltkFXCHicfQijqLM8f54qyBt+M4n5hbf9dEQyQRqQuetTV1NGD8423uSALsOlCGr0cnqYzDa/TAUR1qc1rwKIM3Ml45lHAOCZY7hkDLU3JGIQPeTp8jeRmc6BQznbCPbLZuuka7cf0OjUY+nDPV0WFRDilsRZJeOMrMeUU7zq3JCTlutc8W0WhKw2tad6nAyYETNuDoJ/WL1w+vBxGnOLAeRGMXUcUCxQKnqQXswdXnwwIT5A/l09QkZ0q31rWUbW0snnvNa9pTh3HhIMf3vJ04QpiIV4l3AEuex2oTZvhNnKxufOyFpcUg8XZQhp/eA2owSaFeg2nelPP1NmAk3tHMiVXVq8iBVnQA9TE5q3BS2QuT6uMqb4vRVXrNCzu1j9U547Nhz5iWB+oNYtfIfLhs7J6wb/Ro2K2J4y45pnBOaTcMJPZMY0Mj4XKLzArhO8aPhfNHvxy+Pq4FAfqK4eGVbeH2hbPCfYvbtKn7qH0ZaG553PY/waHFi5dHTHiUATmREh6hZS9n6mpVjy9gmqvWNn5HQ90TsIg5uKhHc3lu1dYfjKwXpQrPTZuTUbbkfFLdT4gDYi4m6Gq8RNNrTtuFQ51hLtfLnhtmVUmgVKiz8bHVam5dCw3MqtpCVJ0+KYs/gjt+bi+HWc4FEBsp5qkrjSNlBIhci+9y3txXXp4jfZnpdETy+53dUzSWcPz4NWj3kAE6jWPInEzKcXy5w8u+mBqdXtW10RrkLov7ipe5F4/oXuyOJlQw/XR/82gwx3X1WrpWvL2eL0003OyCAhM81ya/hJ0/PoNaivQONhp0556YJde9cmTpfkD/hWfJLlTqqkWYOa/svhrvrziUVMeRld9zjd6FW6XzH3P8cF17R6J+yUnl8IzcHVuAEp4bAHwcWaR8Hul8Il5yTFWYrb/gOW4LWofBg4NlgyQittxxRF30teVxjq+cqCOPzEpymvK8ntsFvvDJE/20vmZwi3DihMUEjdvDYXnueqOzw53G5cHToq0YH9UJSg6tSJMirJwHuUdmUfZzYY4vJjlKRGGZrSqHVXKg4YQkKR9i761GWicii0NpXR+ZOaFk+mR26sXEde+FswnbopU3oWZFpWKBYoFiga1iAR7Igx5bpW9Fz94W0KlnLm3zaZ8vMFPyw6ljnQgm20xUcxiLZkqzqgqRebThgNfhqPF1GZ67LBef64Vu2WE6M5n3w3Hh4fxibnqobHN876zlnXBhlMNVJ5rKj+i8Yu5o80dywfiaILkvc+HFo5q/as8U2qirA6Na3jeiMjC+LjipnVEnh5a0r9Viw3lFRwZPl2p9yEVjh+3YOzpjTrIdY1qeOLoYpke1RHGk+tLhCC93dlS6mX7SCf1xvFk/1Gf256r6Fw2M3Zh5uT08lyMU2LqizVjCYksoc/WxqdFBW9HjPDUHqn6KtA1z45iyMSR8y4H5Ab30SwMWXThIdnL9HKtuuDFHdpYiRQZpFB2B3MsUxXPgoyEbSVFVihV/l0MOPn1H/1hWqZZq9gHXD9nGy24az2sMOlUcMc874fWCDfoMAf8BSocOHQo//dM/HXbu3Bl2794dXvrSl4bZWe2Q3CMtLCyEn/u5nwt79uwJ27dvDy94wQvCgQOER7TSy1/+8nDNNdeEiYmJ8NjHPrbVEEu33HKLrnW9BDeOz372s224pxOAL9oRhcWBc6h5rGg5YLejiZvqkR8OLHMQaWxW9yfdkzTm3bmDHau6cl0Ddh+2KCvwWgd4DDmW/rE8kdwdVImea66RaKvdc2j3C41cKdfFAPpjwzsO8bahHumRbzpYDqN4OJNGnnRxeAd9vcl4URFOdd/ivqyy3Wdx1jhcuRhbV/TQSg4o6BDIg8wEixf3JaUWjtp6pIpvAweHQ9Pp4PwxVK9DsnAw+dFVtEcYkZOaPCtoq1+xvebY6oSDs8j1xy5EGrE3FIftgSV5OIEoI5vD9rCKdW9zRxE8nJ/nyMUebhPqTf0t8km6uEMsyhgaVdSU993IdM6hJbke5CScXouKkOIgqkq6DCl6amhqqjomxhWEpX7lvLUH1pAf6uNQftAn+oMXFn5+VNIG+9vs70b1wbhvCmxZtqRigWKBYoFigftlAZ5v/pDrh1F8HvaDWnA2twVsb4y4l4emHvUUATaxjS1M1PN6nUBzLgF4B/aUcNuYO0bMs/YmTWqqflyshECmBm/TlNYY5XO+CmB/7Y/x1RyrW6LdfrmMTFt6ZB2CXu0WpQUjlTHfqjlWqAtXDhyWENrLlNp8v6tRbdSuahhXPjW215YOsrwPx9K5k7OKypqx5YM7hhfCIyfvDI8f13LC4eyz18jrkW5bmQ3Xz+8LX1tQBJaWzsysTIZ7FX11bGkyLLOsUC+Z88tjYUH7YPGSyIuTbYRMtASOQCXLVfa6LSWkg7RnZkiRVq4Pbd6u3CMB8rHgqJYbvibMTlNrzCp5O3yzpsSnCWvWocv5dGhvgqyeC3N6zzsRgO80juc5TZRlc0dpYxGVtHHo+CClgVhR9OxLhdL+N9OjvbEdYhtBt4N7Q6x/AwgaALW34PZWnFd33313+NjHPqZNtZfDS17ykvDv//2/D+973/vakSPkVa96Vfjwhz8c3v/+94ddu3aFa6+9Nvzoj/5o+PSnP12j+Zmf+Znwuc99LnzpS1+qwfPK3/zN34RHPepRCYRT7HROC3Pj8m1M6J6nZVEsmeZep4Fa3WMqh5bdU+Lgbd6n0/RDY53hDt0aL/QxOX5XR5HwHAcScwrphkTu0SjVO3D96oOfO8WiKMuSPqrl0WQVTsXX8emXOdniPdThlkdxplt+4dJJpVyOAbr8cVumZuMlHuQwJ+e/nk/VMm90FLZ8FWYLxOn5mX4M0NvzGnRCqr5iJztx3xfNMHYnegl6bKg7llqodE8Q+vNZWCnyqkmBTOMNvg7oODzlZcEsGqoBy0807bZXkxm4YmLRW1ndWafcZXreCVewjlFbZudMXxxInnDeOK9c505lH9uug/MwevHxRB174Rwigc9yP5xP2b5TVWP8S2QVCX08ma0zXc3xpbrrEeRwQpYfTucOQK/nyyPdUWY6C0G6DUkvs47zzfvuPPrJYdIvbXY6+mG9WXDOaAfW6EE9MCZZZtA5TRzd+Kye93dxoHdmEY4+bGMTX/Kqr3WhboGPfeCqVqVLaemzZ3dpycCXV2GJGaRWnLoxLqKvQeuVpzz/n+uADrVvP2rjycaR91/UgbIOWrumdxz+PU+u43eqDS1Eb3mnxghb395bDmgj39R3jTdIfP64V1p+x/m9mq1t5fINUcKzztl4zLznoRszOvrw7IbcQey73/iDHaB10MqTNrbdrhs2vg7e8FP/X51xh9or/vIlHaAt0H2PbpW7lY7/ee9raXVxoRtpdzgPin4fFnAZBLe71NKyGSzAJc+hFOfUVaX51ybMESfiJ5TGo6bGx3E9T0StQg0fcBNXdRORP66aOC12VjKeNrlvNSQ5TgtfyrFvhultVGjHMYVcx/H2lFftOKvAqX79V3STXuBYBsPcjuU1k9rzakI5LyLsebVbywh3jC3oC4NrYac+C3XRxGHbsH33yFzYObSova1G1da/8wp1LxndHian79A+WvP6SuFEuGdlZ7htdE84OLojLK6OahnhSJiRM2t2dNycWbzYrMiRhWPL94LBsbXGER1W9vLDi02sI8c2CrZ7htWiEVW2kxRzbs06jD6i5ZmZUzyatxI3c47LOarwK3629NAROA8uN4d5mVztTRRv9tPodctB1uEyq3EQMZzA22uEjUoHnI6RaQ0yr9rYRJfMKBQN7kid8k4IrncnfIdlcoiiGzjZmBiArnnyBxbYmeBrX/ta+MhHPhJuuOGG8IQnPMGQ3vrWt4bnPve54fd+7/fChRde2EZ49OjR8M53vtMcXM985jOt/V3vele46qqrAtFTT3rSkwz2lre8xfJ77rmnpwMLh9X55288X2pTZIsCWKrny/VwCJH82rdoTlvD1l/noPMlzc0hkjujcm7cZ3Gajeqey48C8LCIMH11sLbZen5tmBzdpri3xVS9v1f6U3b53hfQuIdzeIKlOY1iv7lAnc5uPC329mgzynghI6OWnK/zEHIuG9ykF7hUXC79gF/OU2X0IxmdnmUeeWX3RXu2Ve3+11Tg/k0nEJE6I1icchssh0MMr9hOtaIXA095Z01vNTTxI645rjrROSzLU9QUMPFNjieXZ/3I9MhozShed3zqorG9tLzN++qOGYe7kwg4h20qGWXFfaMqdowZnQiimXD8QAc+MA7nT9lkRB6ue8YLHkNjWrs3rvd/p4v7ZLlaFnVlfCJE8oa0p5Unu7/nNJKboq1cH/a4sq8sVksIcZits08YdCT00J5Xpgs0DqOPMQ3px7Fw2GsD5N7vfkjcBv3gbiKc1tnYREoVVYoFigWKBYoFigW2ggWY3PoElxflVJbyPpf2flhbnKekmXicZzlO2wSaBnByvFxmIswK4LocwKrb/CjysKyJk+NnrExubKM/1ofIBzSaNLWsdxZgpAHHJtk+QXPE92BAAABAAElEQVQ4zKzMn4xhrFUvYCP26z4vOytyErGPCtgsH8SZxL5Ua/LGzK2Nh0VFTLFv1ZwcT7yAza4thLNGWl8cFFlf6SxFbBHBpQ9dhzlt4j49vKSvErac9PBmCeOqDt4d0I0lg7x9MA/MX8ySQPTWPLQ2T8wdWmo3w7ptRIijht/tExG8/UWxbq5cTCrnBdjXUianBu9UQa7Tkw9CC7+I7130U208na/LbdYFz68n55Vy6HIalVu6SnCs5DzysoslT3RtFQEiUQ0HvGYSXuKfCk2kzV//zGc+Y8sG3XmFxs961rM0zoctcupHfuRH2jrxhS98wSK1wPP0iEc8IlxyySUBfu7A8raN8uc973mBJYlXXnll+OVf/uVA/XRO7Ps3MrYiZ1AVbVXd/6oee4ST31u4lXLP8UuRS8CjnHDWgDeq5cWOQzuO9eVlnFHciFrXhtsUXtzl4FPdz6oWynkQCbLhz+G6spyQCCpS9bfCqQDgOo1Ex+sVPb1sdPA0guqS9sdFRI8t0MOsgroeNFb8xNPvkQasyMCzJFKTqarxRweEupCoANHBdu+lSeayH1eivjgu1kbVKv+Htk9UkrNQb9K27FuRPhbRRMSP6CzqFubOPzqbkvMqN0DuiIItyY1Q1drr0HPkUT2RJu2B1eThMmNuji5wOuE5rssnF6zmHAMHWg2S5PgCTzoZnvMg9+V6tHuyExAr8PFIKUA4jKJeaqn6Ch8cS+5ccv60e8K5BV08kl7UwddhTjvwnZ4li14W7yFs2nB6OT/I7BxyYUQaHF62ITuRXSTgOKzoczw/Q+Y4U59wnJHQU/tgmbMs8qk5O8GJtBRLqltAliypWKBYoFigWOB+WcAeMp1mIF24lodSF8NsQTCTY58gS/2s2NYZaxO6J5u7aQ7TljKc1NbA6yUnnxPaWwH8Mp5xTljNvZxv1o5MwEzj8w4lfZ0GRCV0MVyr1RnZL+sVM70sqI2y505sdO1/0ouHmlb1YkKkE04s8oXVMXNkjcqBNaxjZnWycl5JE71O6auCc+GsdpYbQtjU/YrR2TCzNqcIrhXxnQrHtJRwHp2VxtmDCyeWjEHfeHHKV0FUc2ZZgxcYDGYT2/iyRp3kJorVVHc4ZnJcx4GMSAHgEWYqeTtNwolqIqUlp6pVtIBzem/rkSeRLqsHbt6EPp7Qy3RzILwa/HhZzFMNP29wHg7zuvh531LnXa7jKm/hVMBkM+uoM8sIIkKii4VEF1FTe0Y6UPEEnyPHjh2riWF/KY4TTfv37w/nnntujXxUe7mcffbZgbZOCfi4XszYLytP5513XleaHM/L7J31pje9KTz1qU/VO/Fw+Iu/+Ivw/Oc/P/zVX/3Vae3EwilvkU8aVNz3fIky77U4syyqUwPMLhtwcHBnAzB3COHwsuhVGRWenuxepeAPeHKfqhxjVZRrJaeKHF3V/ZXkz4lcTg5LMqWHbdIOkXSs4PHipg5cKedTv1HRKKx4Adl+iJHcCPUH/Yy3A6gaPEPELlnVUCNPytZvqISDjnCwHxasaEAjAUHuCBNgTfQB3oAo682Z7Ymog7Yqf8TqGPSC4UBTFNHwMucKALTCk0mHzKsFD8F1DPGlQutY1Z7KOmXsfdXTmYEDx2nbOh27QeY4GchhyREFjh8mVzrnjiTRJtzIp9aOfA5oyP2BSKSRl70994bmunnZ+wU+zwPlLsucTvDTkmazIc3w4wCfI0/w1D11CD3c4UW799Xn4U7vtPRjVF/f9P4I32SD7/q5vpHGosNG0QXPpvRQO8sUTbbbwPn7lwaIrrJw6Op68+aTkg/yLHE7nBTBDx6T4sB68GxdJBULFAucrhbwB2K//Ws8/PolK3ibzwK2BxafKGfuxLwFJ0OfySbEGa5NiL1us15VItCr3twrb87jTK+on9GhYlSZOXaCeRkA7fQnY1bVK/TmX385qfbTqOjBSXqrH/b6ZXrwp0pmL83jTLRwqsm+XuDsBU04gi3r5XlRywf5hDtyZtV2bHQiLXdhaeGBCS33mzg7bNNm61P6rvk3J+4LDxvfHy4aPRamtfzGvzTocnvlh/ST+oyiulhCeO/K9nBoeVs4vjIelrSM8KiWEB5f0hJCLa0h6oCvELK5Mi+Y9nIjxuva86paMqicjtEp3iPdGJTtRUe5kjmrDK+qmzGEq65Gw1R5rR5RE0/VrR24GdMR6nWzvPO1c1FHr7VnLNqKhhih4lfTLcp3fbzbjKmUZANvT7C8XcC29sQoUbQXmkRNO8JXctpYQee0TZqGXklo7KfVhePk1PNywt+ocILPkX379tU4/8Zv/EZ4wxveUINRee1rXxt+53d+pw2eA1g+eCrT3r17w6tf/eqkwnd+53eGu+66K7zxjW88rR1Yc/Pa0mRIy4k0cKolg60cGFGf5NxjuO/YwT1EifFMpFSOsyocW96s+1SFUzm1WCZIMj6i99yA+oPsbonhmSLDmt7mjAgH1EYpe6yke6TfP+2HATGgvyTgltufqmzFTFXjF/HByJpAbUtmS25InRDhg0yasQcmtJsG/VeRrw7LduZ7oKiILI/A4sLnGWgHLNRu9z1ykl/jmMgeDllOO0nPw+p5ISLHsQb9ccPl+2B5G3kTv9FWi4ryNvF0J1ECZQ4f70/elhw6ANGJg3lQnlgK58vh0Avjaf+plIhAIjk9ZfpFnQSNjiGW3ZGA41Qa4TpRObabk8zLwLEtNqQcj/UxAKq6AwpdcCB1SuDIQ2lRWLRTZ28qdMdzSYIvEVXkSu6UtD667cCNUViGR381l7HIstj35ICDiXQyGURxRSfX+voJfoXQ7QHfjRK4WzAVB9YWPGlF5WKBYoFNZoFBHhaovkUfGJvM6ptCHSaoNkmNc4COmzfTVs1z2l6cI7jelxqwqtRAdezetUho7wBMrlU3fRtU8R2hBY10cX5m8DinT32pT/6dQKgqtk+JENxin0rgAjdDVtC0x0hUlHkmDq1ln28Kfpw9huI+Q2z4fpeW4IyN6wuB7OGi9m0TS2H35HzYqX2y+HLgJVOHwhO3fStcPX5v2KGf3cd0NDd4/9LSQvi7uYeFG+fO15LE0XB4aTocnNsRjs5P2n4wvLzZMhy9FPqeVussybFN2mOP6Izmxr7cz7qAMQSP3THj+MuPUZkBKvqEQ9WNqNxMZ3wqPP7WcCM4Y1W1N2ha1Bl9G1ELK29qQTNagELqpIvjo3s3Pgkn76MDO+X0p2cyS9UxmiDOTx1DtTok708n3a0910XkNby8rU1WF8AJPkduv/12+1qgc+0WffULv/AL4cUvfrGjdcyvuOIK23vq4MGDtfYVvVTxZcJu+1IBX1paCkeOHKlFYfEVwm40NQE9Kt/1Xd9lm8n3QNnyTVOTy2FoQkv8dLNr3WPULY2r6h28cmDRUXfoeKdxGLGlT+DepwznFRFcK36f0mDF+T+i+yD7CXpiCaAv/SNHbqKJ4zeXZVFfug9btFV+gYhh/pxw/uQ21RFvlwMMev7VaATDqWTO/DbelTLu70h8rVBdt+784iLsdumZvPwyl6NB6NWFazJVMQeeAQVHAPwqXa0vuneYQ8ecWirLnGzsbssKFVGFo4IvzxpflY3W7i2ZVqZIrOdzQYMjkxTb3RkCyA2Q47kji3bHdZ7Kk6PJ2+Dh9J6LFMcO/fJUc2jBx+nhzUFUEU4gEnw4cC7lCTxP1q7n5ngDJ7abnjiqiK7CgaNke0rpS37rfKGQOjq4Ewze7vBZXqr2lgJJ0VTuVDJ7EWInp9GQOb44aUosFyTqCtuRiNDyjd2RITskxxJ6e589cspo1Hftb7UW+2j8x/jqoHiP6TC4Lkrp6JF0aYnhuvoX7ekW8ogy08ftqso6uCeSXOd+aGMf+kHdTDjFgbWZzkbRpVigWGBrWsAeRv4o6qML8eHVB2ZB2ewWYA4X53FtqjI/8iM2NubmmqG0UbUD4jyrvaEFsQlzq9oqRf4VC03MWi21Uhs8B2TlrnJyblknO+Jn/IxM9RTpRZvVyStEfgW3yXWtTR2rmjXh1Lx3ZFSH1nLwAiL4MTm07hnfbhsTw+Zrk+eFL0xfEs6bnDGHFnIVM6W5anXycFgdmN8Z9h/fEWbmJzTv1F40fLp+cVQbsUoAdqQzQq+WiVAXD6IgDAbHmISXTGB0LVUrPqpHuJO05bQrJT5UOhqThlaSNrVUo6cl8q0jZTX6k6U2+g5tndRq0tW5Zkzub7FTf/rh6Qr1Qd/si9swh2MDZ4n4Afbcbml7gs+RnTt31hxYLYb10jnnnBM4NkpPfvKTzRHFvlbXXHONoX/iE5/QNbEWcCZ1SuCNyYvy8Y9/PLzgBS8wlBtvvDHcdtttAX73J/3TP/1TuOCCC+4Pi01PO/Q3u/VRqamwtFf3siu099e+A+GC6WPhjuO7w023nBembxoPU/dosGqQLW+Ts2mH3rmndV/Uu/LyWSthz8WHwjV77wjnTxyVA2vYHPDsDbiivQK5xxGVyn5+0yOL+qLqaPjbex8abrzxorDzG/rYxTE5KMTaPnkRr4dVrUA9frFuFw+ZC1ecd6996XVSDrBt+uIrUa5jGuA3zpwXvvzNi8P2r4+H6QMVYeXMER3v8NKVvZikRrVPlG6jS7u0h9SlC+Gxl9weHrXz7nB4eTp8/uCl4cAtZ4fJ/aNaeqd7qt7ZR/QtndEF8eT2bHxUxOEgHlrRHY7vWwt7HnIoPPacO61//3BgXzj2tT1h57fkP5gVHTRyRPCFQCurnhJlUMQbWcMrVf+BDeOEkj8DZ8nytuFw5EoJfNRMuOai282G81q6PrfCMW52nlU07uGZ6XD0mAym5wTPhiH90jK8pOgc+Iin3R+RGXUAPrwkR5eCa+Ljx9oSHqjCGVE79vD5BTrZPQfd1T5+fD2MH9PG+/Paa0kPuaVdo2F+r879WVW/LUiOR5cOt8G69kbDJpwfkvMze6g+vDgk+8mGM3J4Sn51Dit87Mmyx3G1Td27EiYOLepkrIXVbWNhce94mD9LDliZAZ7oPbKk56vsC83Y8bUwfngpjB6dN2fR2o7JsHjOdJjfI6fppGxh/dXebTrnw6KzJHuZ7lRUXpXza3laY1+HtryUEMEkjyWca4qKG9YPSQq8Djvu1FeKDyyKz2pYndbHV3aOhaUdep5rmaeGfljVx7ZWtD2mTqXZf/xoCNsOrqo/K9J7LaxsU8T3Lu2xuUOO4HF0ky3ieBxZruw3v2c4zJ8/FBbPRnGpMqdviB4eCvCi35wzH1v0jX6g99JOyZ6qdB+bCbpu9BXlA8thZH7F5M5ePB6OX8i5ZM4jNtoHMPwaBhgwDfIsMdwB+W8C9OLA2gQnoahQLFAssLUtsK5fZjj6TYPg9suz4J0aC9hEPU4GfYK6oSZxflbDj5NbaG0iG5nYBNOADojtagAvtcfmWuaMIm5NXg0xqzR166KXUXhbzJ20TY7jichUwiHlsEbu7UxOSbZvFmV9Wt5g6ot9qZBNiu2rhJowKvJgQhsg86XCMaIRBD9najbsmzoczh0/Fia1l9XDJvaHJ08eCbuGmT12TkRgfer4wy0CixeVmZWJcN/CtjCzOGHLcYiOWFoeDSuKVCAai0k/EVjrLJ2IdeuY4B6BBY4dvNgkAzXkR5zUbvXKMHWY+t6BFJDBnb/nwLOy6dGgt2rO1PE9j/g1PhHWQKlx7tVWR8yFN/StIariTD13Us/B97YmbdZW64tobczlPDrRZvQU4WGi+NOJNo5fcPtNm+U5wpcDn/Oc54Sf/dmfDe94xzsUFLEcrr322vCTP/mT6QuEd955Z/je7/3e8Cd/8ifhiU98Yti1a1d46Utfasv/2CsLp9rP//zPm/Mq38D9pptuCrOzs7Yv1vz8fMA5RXrkIx9pe2i95z3vsfxxj3ucwT/wgQ+EP/7jPw5/9Ed/ZPXT9c/CniFWRlkav3UifPvOS8K3Na5wVEzK2cF4W9wdB5rGFg6CsWNVfezoWDhyx3nhb0bObR/LoDBGdZhzxacpqk+JN84gHAgknCn5tYEjY/1L28LtQ9sqvoZkqNUf8dgmHqSFvRWPdF+vwGIoHlEH+jJxRE6Emanw1a9dGb4yfKXJAw4fchJ68PKOXnadQe98VMQxsO12ORDu3huuH5LHj2bRTMvhgmNjcZeQGzSGgx1IWU50TH6vTjYCRzy23a7CndvD14auMp1wDs1fJKfR3nntM7eiqEM5SGa0/HNWzjedJ3Nc4LyRIwg9ze7wym2rutmaPtOm1LQb7RWtECJOwot9w8GyJGfLEF4ZEnDhThyuCPy+1uRteEbQ/secZNIbp4udB3iqXPGqdMEpuXA2jiE56QDhKJQKRiN/S+qziuZAFP7KJM41/Rg0nH1YpVIzyLdq/HEw4TByfc02wnEbmbaqj81FQgPkfyr44k458XbWn/OJp+w6Ksff6PGKDt70k7G2eh5esZY8HHXWGQPST+FNyCD6Py4n6egtIWy/Tc9/1SsHnPY+k+0sUgxKbBd/hEMGNGOSDR+SyZaI+XPGVNaeW8LH+bX9dtHeWeGsakzfWhUH+jvIs2Srvo8UB9ZAQ6IgFwsUCxQLdLAAIbiD/IqxRUN2O/T8jAcxGfFfM+szLZlGM5La5MutxcRGySY4FDKkBAOuxBTKmr1BFSs2eRh2/BPbKuq8oVGGOcl5xYmV16vG1l9HN4jLUO6qmaLOy9tb5FUJe8UoqSYf6qlNyzCcH0sEh+TASnvDyGHFV7twVLHsZFz7uuyaWAhnT8zZr+QsGbxw4kh46ISWL40eVeTBYni0fqGd7uG8QvZ3jE/qMv6G4fM1wwPLO8Odo7vDgZEdiloYCYsrmoRrc9f5kbG4ybIuezmw1rS/xhrLCElyVLG80C5xDIZxaBMAWG2/q9ygwqOahgLI1X+4VnDqydgGTvjQGgMKEhe1qfSoUKu/hpgDGmUnzMDoVCPLK7GcXgKdzsep1zvk1tfUYSFggw7ynTQ1Ueigg+ElJKfK8thmpE7fCz8jbRadPBm6gdCrHw3UVpVzvkmeI+9973vNaYWTis3Uiap6y1veknTFqUWE1dzcXIK9+c1vTriLi4vh+77v+8L/+B//I7VTeNnLXhY+9alPJZg7qm6++eZw2WWXGfy3fuu3wq233qroydHAlwz/7M/+LPzYj/1YojkdC0R4cMuz54kcAqxw8rHljgS941ZJY9Zegn3sis6ieRh0DMzYXvFSFZheoOHTuNwiw4rG/CDw5BCN4UODI4YE39ju49tESi+irDx5G3WX6c4p+JpjR06Lrgk5/CjEsyIiWV+ibAPBp8EDZ4k5TJqMoaM/HOqPMY2M/X5sdgFmOHreKCfii0i35Z36Ci7RbugzrmcOnj91EucVP2YERepiIzvEnw3c0Y3D+brcVl0CkKXDkueq1GAZPGKmLOE5BH5SzZOZC3rgkY+dG+xLY5a83UAZvsGzOu1pSZzswy3LxwuRbCk5TQRVUdRClX1StHVCjiwaOlXnAprqfBi68420beMCeKYG+mOTnEdlg/iskUzGDE45IrLoi41Z0Vg0HuNFKdkLHcWTczu6wAbx1lzZBFlxfDF+WVaKQzXpCGrWR1OT61wFyujKtTGyyLJDkDW0FBF2QmmQZ4mdxBOSckqJigPrlJq/CC8WKBY4LSxgD4D4xOmnQ1v0gdFP1844HJshZec+zXQqSzSq1SylHyPlEx3KPqPJRNXYRPxqcgZ+NSlyHGtu0kYacFJTBqtNtoBbX4Wb4bhaxgM4k3zHBei4MTcHFZM2JzQaSc/wbK8VOamA8QMmkVbjenFwh9Wo2qbHlm0pIF/ZmtaylnMnZ8N5irbaoTdBHFaPmLg7PHp8Juwd2SZh/uaHQr3TQ+XoOrh6nzZxn7KvEC5rJsqeMkt6u1vQ0pEZhUkgc4n9ZQRfiXvW2PIW1dnrpb6Ju/qmyTEvkBhGr0GpbJpgeLofczI7GURsxcmwgbCZJcNIRa85vZ8ch0ciy9zkxj9vyJD9NOQ4UrueMnxvYBNjTx3ltJodzVVN9Wr/mVY12SWCXA/Pk5yMhKK3U+6IA0KjTx3xYJCnnCYv5zhe3qjd8fJ8Ez1HiKJ63/vel2tXK+Nsqu3botbJycnw9re/3Y4aclb55Cc/mdXaiy960YsCx5mW7CU3XuP2Ah3fW21c6tqxl/B4Ddn41vhK45wy9127r1aWA98cPH7dqc1e1KOMdG3B23EgzcpJD4dJTvWyHy8faM05oDzqm19Xrl+uV0e5zj/mSR/467DLNfbR+IMX23J9q563/rrtWpCKzutV9FUFc9y8z+tTWka4U6KumAsP0zLKcT2Hji+Ph2ML+irtUvUjBs8q7lu5/SvnRSWlyRfVTWd1ytoqtFZ/snrVR6NwaO+8k01kt1qK7GqyhZD0auJDTGOko2pnHzzHVVttHAju9rAxAF6NvjqvcMrhbvukG3yiI8hw9cft6XXXwcZIlGFjMZaB4/i1LQgSUb3g8nwMe936gO5KwGp8dR2t4sCL7R5pVWFLHhMXZNPOAb3x0B/9J1ndrp/KQWe6miOtogVnlai+E0mDPEsewPeR5z3veRZly56KZ511VnjWs55lHxK58MILT6RXNZot68DiIclXSfh072Me85jw1re+1cKYa73boLKyczUM40nvkhZ+SotZN0hrH9vTE+Py77mlZzuN//jxR2yIc/Yd/nTojsqFvlGauneDU97HQL7hvY/ZSIwenPEK7YXZx3X5l89+Wy8O4WX//ZU922nc/uN3b4hz5EMbX0y7v9n4uacD16NX9H5RuuvpHYgaoLGjG9vuT976/Q2q9uryrnZYE/LIx9zaBNXq09cofnWDdPizD9sAQ+fgJzY+B/88d+mGfB75xJt74ux/1+U922k89lwtPO+RVuf0U+jbeyB0amLTRX/6dWpvwgZYbtgkLfVNZgFNZGyC7mr57CfW0wTH27vl3A+7XfrNe2Wsd0Rv4iJPMPlDqhkTdZLqaXJVQdr/Oo7hS5rxiGiUldDBlvlZTX8iPOXAmeSTaIsTfpv4A1KdTW+H5ZQimoooK5YE4qwaURkYzqqdirDCUcW+VTu0Mfs547PhbK0DYC+WXSPHw5XjB8IVgu8aHg8TQ34fxnk1WGJj90eOH5YD62i4S3xJWjAY2E+GZYWTo3JsKZKLiCzb+FifnF+Z0P4atiGyfjGlrqgsNlG2jYXV9XXaOAHRDOkLhXZSJAAc2nywUFZbrzmoRw4knpHefx0XhyTPyl4FL0s2XF22KqmZcxUrFl2VGnLiFk4GdbIcVC873xza5B/rOdh0zWj6mK4kk2Zk0dg1SJvObbJ8XEeyZnudm0QwzgdN5TkyqMVOG/wJzftGxnX9cZtQBFb6IYAeGqzVVVuqFV98W9BWKUW4MGY5GIo67N7QGJY+jv3WU7tvR1zHyS+SBGuJtVKlv4rIJZncKrd69qfGA1mZbrU2mpyf5/DJ8KmSanRZu8FV99xwY2RPmrqpPe2BpZvLkiKr5rWv1Zqu5d0T82Fc4TE8f9K9frh66Vob17OAZZiEzWkqyLvYul611uJX+UwmU0T0cZ1cFxRxGOWYDJdy6ri3NPrYAld8nG/O022WwRJ/kxGZ0O64ngvUQYV2O0feNb6RbcdM+Ak306vNFpkexkf1XJ8NeYCP0zbSGT6yeaXO5NaemzSZAyoTbvpmBJGHyzedXDfIDD/KUbWVKp4J3+aPKKhkPDXn8bEiEE6yE0qDPEsewPeRZzzjGeFXfuVXbA9Dlp3/4i/+okXTXn/99SfUrZxoA29Gjrp5yoQT85ld1uazoeR1111nocqEM5977rmbR9GiSbFAscCZYYFeb5qdLNDPm1cnugLb/BZgYuRJcw+b4GRzEJ+4OIpNrLwS8TJ0b2lNtmJjNpWyyVltggZVDSGycdqOAho0EQf9TWf++Gwto0/OK4eROx5irU5BKYfn/GhSWzVnlBNLZaKsiHSijDNrVI6qUc3s2JB4Qi8SRFqdPTprDqzdcjTtUtRV3XllEu/XH8VYGX/k6ecuc1ihA7/E45xak8LkRGiZ802dRd/W3JeTIAOoHyMR106LQMwZMU11KwBAJVNXfAwDJE8ZDnaX1MhECJFZ7daCXjnPWK7B4I14nIWOS+7ONRXFpuKvjGR44Di+QXv8iXiw2TD1yxNG3Rg2eeR4zbacj+MJx/rcQ1lr78Ar2bAHbdem8hzpaprTvcGWn+k91oYggyiOxTQOVfeyX3+1scZYhEyH3ZOhz2niCzsvx7UU5eTXco1vDVkV5MTUDc/0dL6O7HlG76BufHJZjjtInpwSUSZyrP+1uu57bhPBbUN3bdqNbL4JQhs/qrAJPgeb4s8rEndRX5vDzwirZX0lb1VfuWODdADVrVP3XndiC+ZyU19lpFSmUzAiea5irpe1AVN7QkkFb23PTYbwjM7Pieegxzaj7MaPfkLjdNDE8WR0ff5xXQy9yRNgrkusG272p8ajImnp5Xh5PySHqEF3CBs955TYlRqed86ZxD6r6jS2Pxo0ka4WNBLJ/Rp1WyW7iQY+VaRaxQBHtUeqGT7tGjyGEx/k+KFOKA3yLKlNGk5IWleiV73qVant0ksvDa997WvD85//fNtXkY9+3J+0JR1Yv//7v2+bS77kJS+xvuPI+vCHP2wbPWKckooFigWKBR5MC6zrKbOeZhsbS96qmyZu3LMzEEMTjPzUpwmMTJHgAG0WpEzwHAcAsFqq5jctEAgNJK/mvBzWImyVcKoYk15ILfRqjgaujpYMVWI/DJU2ZvGeYrGFrwabtUUE2qERzHAoC7SmCKyV4TgdwZGi+nEdOIVII9rjatT2wFKUlups2L5tfClMjS6HUV9CODGjDdtnwnY5tnYML2gJ4V3hMcIhomqQdNvKbPjHxfPDce2Bdc/KjnDLwt6wf2FnWFJk1YIisOa0hOS4vjxFlBURWPwaT7QVEVbMAy3aSnte2ebufh7pLGWv255YgsXJqUVToaS3O25mSDNFws965DQZKBVFH01YgZxvQrDTkdVU7MQPo+cp41PjH3GS2hldeuFx/llbYu1tCdC7kGQngcJPwC60ETdHM1AboMUqZ+9cc3SH5XnbnmB5Y5dyeY50McwZAGYPqSEdJF9+VNUEl0OF60e3Okv20quX8rX83jvotZNHH0Gr67G6DqrcxrfgnpvgDjh2XUsv8DpdJ3bDrtSu/jZ4AIQ23R9y3F7lDrq1o2c3mYify6ki0nSPzO6r7ANmTgTB7Ot21MWYiFuir1Zk/OopVEnzKFvrvGRw/4SfHXHvMOfncuweC66S2ZdCs57BKJJq5wIAsqCLtIDylNqa7XQomiadMzcVPNGfCD+V05iIUUw5/1yu9Q1apxGiRT5FAuCOY3SSZ5FqmS5N3kmPOFbRpRmdaDhqT7qAY78guWDJzfZwA69yUkZ9QDOaKo9UlrltXHdsUpMTbZJsJD6IdvnWP5xnglmSHsPSlX2uKj4YpWqCB3KYE1ifKCsNbbwIpkJs/B3kWfJgvY8cOnQosLfiU57yFPtibUPlgatbzoG1tLQU+LTv6173utRZNphkXeVnPvOZBMsLbCbJ4enYsWNeLHmxQLFAscD9t8Agv3Yg7QH8xeP+d6ZwGMgCNmERhU9SMuI4B1FTdNjQ5nieZ/ipmLX5JCrROVKGY6CWsFa1idOgTbwT3JlEgOgTDry8bjOtFo6TW+4yY25LqRwGArQ28YuyiDpg+aA5rFRWO8sJR+W04pdvIppyhxX17WOL4ezxubB7dC5FY108fl+4bOzesFu7Ge8QzgWj2yVsMOcV6p0tR9ru4bm0/9VZkrE0rs9qr2oD91UtIRFvdMShhQOLvbCWtZTElwyuMZlm0aFmoUKzCC1bVgIYY5LzS70mqkKzZHsJZRFPhiMU6D2lW4xgCSx+OU6rQVSGFJETQeSWTmrGywUp78gz58H5zM8ptLTnOA4jp9uc82YSfk2W83Q+Xnc6h8d6qxtZQyeaWnNVadFWzPI61ytJZ7pq7PB3oyWCG7V3YCmByM2U7YiUActzJDPG1i4ub1NEJ1840+lP1wRDAZCWEVkUSewi7bzk2lDJh4sPV+eRtRnPrN66sVfyzCmma9ReuuO1ai/StlTRBasdfTpdyxGFLJdl5fhS7ihGjyzX1xtinmjQlyPi5fguw3LQXK+cZ+yv47jN/CtxENFmcPHg64XH962FqYv1Y8jO2TCuRhahc88/ML/D7vdzy2NhdmEiLC6MWX1tSTfx46NhdHY47Tk2rKWDtoF7PEcmP9rAyuJpjoqon1/y1uYwcHol9Nb1730yVGxA/90GhhP7B1+Hd+PrsiOdoyW75/SO60iwb8ASXYbjxYQbafJ6Kgu5nQfKRS4Nec67GjRVDV62gbtfL6Jl/NmelZGPjXOcZI4TGbke6MCG7H5tUK/4ZjJMTiXL5dcirFJ71AfdE0yyVba+EqmdXxv9bMcT9a1lgzxL4nOk6RuZmJjQlzbjp1FrzAervOY1rwlve9vb7IMffJH2Qx/60GAMumBvcBvqQnUKwffee68miqvhvPPOq2lBnf2wOqXf/u3ftk/88plfjn379nVCK7BigWKBYoETswAvrYMeJyapUJ1kC7Cf4mWXXWYbELMk/fOf//xgEpiExImIT0QTgzhBap+ECUM0HLTZwaQln7gkJirAp3nk7ZRje2Sb6g6v5ULvrBO/RldHpZTY0LfEtCkURtnhzeiilJYXUnFGpidMgek/EVd+CMccWNRpU52XBw4SDiM/DJD9YbnfyUhaHKjlgiwLVGSVDjZx59f3ZZX55d02bZfzyiKvbG8roq/80ORTOnofqr291BccdLGPaT8wlEVlJs3uvKKedaNmPzX1TBmd4WFfT3nZYT1yG4+isTHSgRaQHa6v5zlPEJhh5rNMx/NcODbm83FPm6e8DCwJ7lF23p436JI8ZPoB306JcdftyI3k5U48BoEN+gwBv6RNYYH7+xwh8scOraoh8scOvTtaLpjtqaScr5rhzOKw8UsObZMO2uxYkS9/ZSo7plXmkIdmWb5+2sBHB78u4Al8OeIsC39VfEwH10U58j3aJOkSZSN3Fbni4YeCW2tyUj/oC32jP9BHWsuRC51sw5H3zfQWrKZH5JX0gm/UeVWOwnSMqxwPHBgTh4fD4i07wq3fOD98+6bzwy137wn7j+1Q5O2YPuKhHzKWR+3rg6vaHwvn1br2yBrSRtt8BXJkccgOylbny5KKndDqdstHItzalvRc0zGyqIOcupwVRAfZobLBac+PiDsCLl85jA5GyxXZgwz7oqXLVt2WpwoPfDvAcZ08j/gGR0/HVW48M5rRBS3xj8fYvJbZx8NgKpOj86j1LaOHB/zgLV2T7txmZXv6X/HQD1jzOqIMt4/1OUYj8pzk1syeZcArWZXtzBHFXYHnix3RKRSfM8hG5/FZbQegAzkpKio+C2zKwe3VZOg3J/Vl7LjwZ7SFwbHqmDyyFiYP61AOH/QE3yKwREp/xub0Axz4onN54+IzNie54okcnGOMwbWx6KiOMn2vO7oycBr0WSIB+EbcT0KO76RTYqXbkCZovY6vf/3rifSXfumXwhe/+MXw0Y9+VPubjoQXvvCFmiepk/cz6TZx+ieitdgzyxNexuLEcmuUvFigWOB+W8BuxryJ9plOws27T0kFrYcFTsp+ivEl2MTomVz9iqdZkM2AqglUUiFOjvI6aOYo8Oe5TbgSRqvg7S1IqxT51lCocOQys3KS2+JiJdMl6u4TwIQiftaEd0kp4TpfzxNBVjBk1Z131tSpiBMIduSdEvtO4Vwa1rWEw4lke1ap02NRv050G8F2aYP23cPztvfVgj5fxF5bs6MTmiiPaR+r9bAwMhaW2f8EJ1bsE041Epc1zqxVW07YglmjdaaasKYe4bgCboSxbIz0x+DYuMJOywyNWeuPmzWaoN28LizyM8ouNrW2yDChQK8Dck/OMgfWTB5pbPw5EQz8cAae0+TlXE9oHd4sUyflilWQ+t+MPsmoY5y8WjoZYpmX+5Vgz4XyHOnXXJsF76Q8R+K1YcMmvmjTP8asvejrpd9fzMFxJ1NuA9rTGIeOsZ+N/xy3Iz00DD8fgg0Hr71Q6+U/f9lPfPw6dB4uN++X4+SKUIYGfKdptkecTuBesCbPVI9yqiWELZvhqJk4orqWeHO/xfk2e4n2vLpiPZy/c0b3f/YyVDS12ub1oRCWja/qhXxN+KuKxLUfJ8R7eDl2VPazPgnmsi1HadH6+aSa4FRI6Gh0FFrJnSNN3ZPtIl2qZzY3TrFu40xs2+RGUd5O1fQ0XVSJTLw/EV1IqWQFo2/AaMj5+vMAWMVPBZOTEZq8jHejyZdnVnR6vmrs4jhy28I7H6PYT4/uOHdxeSiGDi1h7G/Z7FMNAL6cRE07INci/GAtOStyStmyR8OXbuaAq+R6r1xX5KErziyXvZovE3aCfvJBniWx37fffnvYuVOf3YypW/TVL/zCL4QXv/jFjtYxv+KKKxJ87969gePKK68MV111lflfPvvZz4YnP/nJCedEClvOgYUR8OAdOHCg1l/q559/fg3mlZMVBuf8Sl4sUCxQLJBbYF0PMn/RzOHdyifj14duvAu8fwuclP0UmfPEeU+aDMZCmqxpPmKpiRfB3kw10cS2fJLnIMtrRFVLS36GGWW20QiQs6C9haoWGjkUOdQtMcfz/R4Mx+oRW8poil4npSoiW17F5F5pXb84r/P1JpS3dk36JHORiKUIs68Sjq/Yxu5EY7HB+12ju8LEaLWkj72wvjF5frhw8ojtgTWtn7gfNr4/XK2vCVZLCStZ/f6d1Bvj8vqqlpBoGWOaXWpiqZPDHiiL+iWeJYS8yNgXBy0Cq4q+WtXLDA4tNmmnHaPaVwdxVmFKYLwgxjbTia57uysJbp6En6lS8YrtmCmlvAwQOTEZHhNsByhvomdNqZjjQ2D1DQhrOsEp4qNOW5u3w3sDvkkpL/SDn9nAyXrlpkOTr/Rusumla6+2brLLc6SbZTY3/GQ8R7R9n0XFVPcIroPWALR7bLxf1izhKHFs8vJL8vFr94uIk/OrsKq/7hBxWBue6HuN5XRN2E3BuXCtVAB/yc/vXUaT47sM70/SucXvhErOT8Qd+4BcdzhEnKquiuxvzyUVp6aWwmXbD2kT96UwI6/W4cnpcHxlPCzrGUBk1pExfZV2bDysEo2FY0oRWURjEcXETaN2PgRK55jnQJZqOibdI32GVxU56SpFPGjTuYi4bXLbeAiQnwdvz/gCSnyirJoc6AV3HNfHWDV5o3IOa9TN9kSUNce+MUOR6jAeOZ+oV4WQ6QJdxMvlVnKi80koqS2OWchq/aBuuupP5Me+dMPsZennkHY5rPKliZA1+ZidIpwyusCDMnoYD0VkeeTyqsbSiaRBniX+PoLzKndgdZN7zjnnBI4TSWtxV/p8W6cT4QPNlnNgjY+Ph2uuuSZ8/OMft53s6QQGoX7ttddSLalYoFigWODBtYB9htafZH2IfgA/W9uH9IIiC5zIfoqdDDdk+11okuHzDM+FbMU0ucqoHQaCjjSBUtU36s2w24qGn2ZCahbAqvCN8ttwMi65PMenOZJmmBHauaHSmzaX6ZRWj8CYeVNNL7VZXS9eTTg8geEYln8oLPNJKJxp8BPM9swyJ5fAMtrNk2eHqfEL7QuBbOzOZ8/PmzoW9owdt32yHj11R3jm1P5w1ojWwfRIn5wfDp+b+46woPUm9yztCHfN7wyHFrZpD6xq2eCClpAs68BRhYK2fFBjwJxUKGwTUnIUVUJlysD9vAsvnS/Hoc2OSKeq4dBOSrRVlb8tzBaMEqipzelig02YM1jCo71DqunQob0jCDso5bQR1NIrNiY4OrldjHqAP1l/2qi6dBC5ST+T3UbZao9NXVi1Ewpidu7Y0gNYniM9jLM5m07Wc2RsVkuhxvkhTJcBjigGWxpwFbxmgdiWrp9aY2Nsw4qX5Hg4qtHm1yH3Yb8XQxOvi3SdQJhda8aPpWlxWZfpHvfrWteehpaUNeVWDdXfxBu8zHHhODjCanDYYiOcDck+jq08igUCHbJTytqAtfUv4jt88shqmPqc8K7fFm5ae6Qt9Tp26Wg4cvVKuPSKg+Hc6ZlwbGnSfsSYIfJWkbnrei6s64uEsorpqJrpZHogP+pQjxxCGzVl7RWk0tHA3lfPjUDtef+ANdtFnGQ7U2AwVarGgAoNOtfTkGiO+FZ3+gzGM7o6L05Rz6Gv6SF5SXZENXb2p1LGz0POKV0bDow6JP2oY5MIN52IuGob13UZvpwRtoYLDYfQct6u05Aio2x8IcdlKQemUVe1RT2cvlomrBGRe14ifeILD11PQZGOpCH9wHdCaZBnyQP0PvK5z30u3HDDDeFpT3taOOuss8K3vvWt8PrXvz485CEPud/RV9gkN+MJ2ehUELEc8EUvelF4whOeEJ74xCeG6667Lhw/fjz4Vwk30sm9jWsLWvTbI63OaXHwBmltsTePleMb81jdQA9UWFFI5IapeSPrQLChN7cPMat6QG2U+FV9w9QHyqzWDfdKq0u97Q9tX+dgg/NofJb5OaV3Wl3S07xHWpvv3Q7p2gJPgt5pVaHOG6VV/QK0UVo+3pvR8mjvdvhvdB2B0885WJjd2L4b6dvPeFid6z1m1uara9bvE+i/URrk1w54DcJ7I9ml/cQs0Gs/xXz9vnNvfgzk6NGj1rSu8bTml3WnS64Ja973Gu3N5nxy5LqkyWZG6/4ScHzClPBVsMliDuhSdtp+8ZMu4oc6bXTOMMpLP3JG3bMuVBgCGA9voE4LdW+zenzZU5kw+yUt7Tumz5lb58HVJu5Do3tsI3giucYmHhl2Tc+HXRMLYUwOrklFbe0cVX1sIUzqp/I5bTZz58LucMfMrjCzMGnLQ1aW9VKyrCUiOkwJjKwXFJyWtgQEPeylp/VrrjurUMGSn9CYmzkoOzyitdUd3iO3/baafISfZDdphdsBvYlVq4PfOIW1dipt5zxi1OiagqOSiTa2N9G6Kty1kygUFeiUiS7JzPWExuk68fa2nKYT/wjzueEg9/ryHOlh0E3adLKeIwuji/raqiJ3tI/OqJxZ7MvDi+z8npFw+NFr4aqrbw/P3HNjmNGGT5++9yHhplvOD+N3j9lyvrWJde1jpfvhthXd85TPj4Txe0bD9EHt8zPDfVLLprQcjo3iWRZHYrncKPsVzUUHlMZ3x3uTX6eals5eNBzmr1oIj7vs9nDp9KHwzZlzw1duvTBM3jQRJu+THN0mF3cPhcVz1sLazmWCbUM4OhYmDw6HqXskS3v+zJ89HGYfuhoufdj+8Kjd+8Ph5alww22XhOEbt4cdt1cOp9kLh8LCwxfC1ZfcGS6aOmp7II5r3SL36VF5Gg4u7gp/d+cVYeXGHWHbHdJfU8cqcoVcDgLJxSFh/ZM9cQL4vcgdPuw7dOxSRdM+ei589+XfCvumDoUvHrkkfOWrl4Td/zIctt3tD3Uzl+hZqq49EfUhj7Ul6bE4q+eIjuUVHZK3rHcV/bCB82RtUfkixtCzQuR268gdKMJhGeaQlhompw72F9z1TE6USGdtaoe/0cTzgnbpfiYYdP4AsEhnqZIcMchdGNLYUh5fTa0NtaWu06X7ICDpVe3Zhc6qoKcOSzGveMT9m6K+thcaj03Vwed8MOZsPy7V0dnowFHZcOgbZqcd8+3WD43nLYeJs/TMHlvVj47ai3JxzMY3z+FhPZ9Hjw2F8aPqk8Zy0iuqR4atfC8p2nEirUxr+wHtycaeaIYjmfbbmHC9rpOdkshqNjaenHP26NKYJi3uHg5zF+g6PG8pjE8th2Vt8j9ycDxMHZB+xyoc5K2yzxX9FGj86LrG/FKYvO1QWJ/RhbhTP5TtOyvMXjxuHxTAdqtsSqY0yHPE8AdYFTIob1Oojz/T09PhAx/4QPiN3/gN89FccMEF4TnPeU74tV/7tZOyObxO5dZL/+bf/Jtwzz33hF//9V+3jdsf+9jHho985CNtG7t369nMjGJ1le563X/vhmLwO3q29tf41T/sD69gdbbA97yzM7wF/dVWsVvp3d0aCvwbb35wbHBrH2I+0wfOSUF5b39cuE+wkWE/aWVdD5kBfsVYCXr6lbSlLMCGlr/5m7/ZpvO33/Jf2mAFUCxQLFAsgAXKc6SMg9wC3Z4jX39P7+fI7WLy0ZzRKSyjy/1N8Pj7DZicDDkbiLDm5vy0H7kn4/2wH90KzhlkgXvV12937u8gzxE4DPJO8kC9j1x99dXhE5/4ROcOnQSonMoWtHgSWG0dFiw5vOuuu8KOHTv0C4G88HFT9+YGZlunR6dW02K/B87+xbYPnG3h3Mm+3BJ5WFx44YWK3tBPID3SgqInL7/88q5fQO1Banv23Xzzzfb1u154pe2BsQBLP/iF6M///M/TcnQkEd175MiR8MEPfrAmuBmBxXPk0KFDYc+ePfYcqSGXSrFAscAZbYHyHDkzTn95jpwZ57n0sljgVFhgkOcI+p3oOwl7iG+195EtGYF1fwcRL6UXX3xxG5t+NzBrIywAs0Cx3wM3EIptHzjbwrlp334jryYnJ+2mzyR20MR+ftCXdGosMOh+ip0+BrJ7t2LcSyoWKBYoFuhggfIc6WCU0wxUniOn2Qkt3SkW2GQW6Pc5gton+k6yFd9HzkgH1iYbm0WdYoFigS1sAR4YxRG1NU/g/d1PcWv2umhdLFAssNksUJ4jm+2M9K9PeY70b6uCWSxQLPDAWuBMeZYUB9YDO44K92KBYoFigWKBTWqB+7uf4ibtVlGrWKBYoFigWOBBskB5jjxIhi5iigWKBYoFogV6b/ByhpiJpSHskk9e0uAWKPYb3Gb9UhTb9mupE8Mr9j0xu51OVNdee2249dZbA3tc8dnf7/qu7zqdulf6chpYgCXKD33oQ8P1119vvbnlllts37V/+qd/ekB799WvftW2W+ArzyUVCxQLdLdAeY50t01p2RwWKM+RzXEeihYnxwLFgSU78hL7hje8oTiwTnBMFfudoOH6ICu27cNI9wOl2Pd+GK+QFgucgAVe/OIXm/OFD6jkx0033XQC3M4Mkne84x32sYinPOUpfXf4sssuC9ddd10bPnMdvtzcT3rkIx8ZnvSkJ4Xf//3f7we94BQLFAsUCzwoFijPkcHNXJ4jg9usUGxeCxQH1uY9N0WzYoFigWKBYoFigdPOAs95znPC3XffXTv4mmczncjHEZo8tnqdrxC97W1vCy996UtPSVde8pKXhD/4gz8IKysrp0R+EVosUCxQLNDJAuU50skqnWHlOdLZLgW6dS1QHFhb99wVzYsFigWKBYoFigW2nAWIfOSzzfkxMjISnv70pweW4rzyla8Me/fuDd/3fd9nffuXf/mX8P3f//1h+/bt4bzzzgv/7t/9u3DvvfemfrPE7YUvfKG1X3DBBeFNb3qT8YKPJ6K9/uqv/sqrlvMVyXe/+90Jdvvtt4ef+ImfCMDPPvvs8MM//MOB5Xqe+NX/+c9/fvi93/u9gJw9e/aEn/u5nwvLy8uOYktRX/Oa14R9+/ZZVDdL/975zncGXiAoQ5snlgGiW7cItC984QvhW9/6VviBH/iBnKxWXl1dDT/zMz8THvGIR4Tbbrut1rZRJY+C8zLRW56e/exnh0OHDoVPfepTDip5sUCxQLHAKbdAeY60TkF5jrRsUUpnhgWKA+vMOM+ll8UCxQLFAsUCxQKb3gLvec97Ap90/vSnPx1Y8nDkyJHwzGc+MzzucY8L//AP/xA+8pGPhAMHDpijyTvzS7/0S+Zg+eAHPxg++tGPhk9+8pPhH//xH725rxwnFA6zHTt2hL/7u78z+TjM+JU/jwT7f//v/5lDiRxdcYDlTjAcaX/6p38a3vKWt4Svfe1r4Q//8A/NsYZzCCfTu971rpo+1P/Vv/pX5tyqNcQKulx55ZWmV6d29m778R//8cALDLiXXHJJJ7SusDwSDicaTjb08cS5YMkhvEsqFigWKBbYChYoz5H6WSrPkbo9Su00sIB+FSypWKBYoFigWKBYoFigWOABt8CLXvSidUVbrW/bti0dP/ZjP2Zyv+d7vmddjqqaDr/1W7+1/q//9b+uwRQpta7p1/qNN964PjMzsy4ny/r//t//O+Hcd99961NTU+uveMUrEgz8v/zLv0x1Crt27VqXA8lg//N//s/1hz/84etra2tW54+cQ8bn//7f/2swdL/00kvXtZwu4ch5tK6vkFkdfZDzsY99LLXnhTvvvNP6ro8FGFiOsXVFmq3LAZaj1cr0QQ68Guzmm282OXopWf/e7/3e9ac97WnrcvTVcNATu+R2pjw2Nrb+mMc8poZLhX7/yI/8yPo111yzPjc3V2sHruizGqxUigWKBYoFTpUFynNkZL08R07V6CtyN4MFSgSWZptvf/vbAyHzk5OT9gWqz3/+84KWtJEF9OJgSz00UQ56WQhsMHvDDTdsRFbaO1jgb//2b8MP/dAPhQsvvNCWkzSXuhBxwPIV2qenpy0q4Jvf/GYHTgXUyQK//du/Hb7zO7/TohjOPfdcWwakl80aKst09KIWzjnnnLBz506L8MDuJRULFAucXAs84xnPsIghooY4iFbyJAeKFy3/53/+50C0E9FQfrBUjsQ1y0GEVP71SJb/yRllOP3+QQ4RSERguRz4LCwsmAzn86hHPSqw3NETSwkPHjxoVfpCmxxx3lzLuX+zFPCP//iPDf5//s//sSWHRFB1S/Pz8zY36dT+b//tvw0snyTqTM64NhQi09zGnv/H//gf2/AA/Mqv/Er4zGc+E4hi43meJ+pyauWgUi4WKBYoFjilFijPkfIcOaUDsAg/pRYYPaXSN4HwP/uzPwuvfvWrbakCE2C+2sMyAl5uedEtqbsFXvaylwX2JtEv1+ZY+V//63+FZz3rWYFPb1900UXdCUtLmwV4CdGv4rbE5Ed/9Edr7fJ0m8NFv5zbywXOFb4K5bbWr+o1/FJptwD7t7BXDU4sNiPmZU1RHTZWsR/2p845+MQnPmEMXv/615tT8bOf/WwYHi6+/narFkixwIlZgGuOpWqdUvN+Njs7a9fh7/zO77Sh4zzqtndUE5klfNxL85TvXYUcnGfvfe97cxQr49T2xH04T/BV9JKBmo6fHM/LPDfZw+vNb36zLSdU9Jb9KOHtzZy9wL785S83wVZ/7nOfG3ju4nhimWUzQdu0M065ZoIH+rD0stOzmz2wHvKQhzTJSr1YoFigWOCUWaA8R8pz5JQNviL4lFvgjHdg4Qj42Z/92cCXdkjsufHhD3/YfiF97Wtfe8pP0GZVgF+F/+Iv/sIcKr5fBp/n5hdlvlj0X//rf92sqm9KvdigmKNTItIKJwrOQn79J2FjNkBmrxVeiErqbQH2zckTe9bgoGaDZMYv++2wWfMXv/hFi74Clz0UzjrrLHNo4SwsqVigWODBt8DjH/94e9YQJT06OtqmAI4VnEpaTpH2fzp8+HD4xje+UYuEwgnFfk+euK/mUUXI4Qct7gv8SHAi6eqrrzZnFg7zbvcMnE68eHEP575E9G2vxN5f4OJ8w1mWp//0n/5TePSjHx2e97zn2bylW+RXTtMs4/ziGcJeXU960pOazVbn2aNlnh3bCrBYoFigWGCzW6A8R8pzZLOP0aLfYBY4o8MKWHbAC2w+0STSgjqTupK6W4AoFr58xLLLPPEL9N///d/noFK+nxZgk15SbmvGKV9gKbY+MeMePXrUCD0aARvzcohNPWFv7Fxs7BYpebHAg28BIieJAGK5HEvUWTKoPansRyeeQSz3e+lLXxpYLkf0JM4Wlls3oyaJUHrb295mTmo2g2cpXR5N9dM//dP25UO+PMiGt9pnyiKSXv7y89SBCAAACuNJREFUl4c77rijr47jZNPeLBZJyzJw56H9uRI9SwzR73Wve1142MMeFp785Centk4FlskQHfaVr3ylU3P4+Z//efvB6Ad/8AcHvlft37/flk3/5E/+pEWeU+e45557kiwc+9q7qzZPSo2lUCxQLFAssAUsUJ4j5TmyBYZpUXEAC5zRDiw+w80EmM9y54k6k7iSuluAfUKYeGuD3XDXXXeZHX0pQ/4rd3cOpaVfC7DfC1+W4oWHyAIcryyn4aWq2LpfK7bwWO7zyle+Mjz1qU+16AVaiDwgKuI1r3mNRWWwpPAXf/EXbVwXG7dsV0rFAg+2Bdg3ighJntUs8yXKiet39+7dyUn1xje+MXz3d3+3LTXkByhtam7LAXNd3/SmN4V9+/YZ3k/91E/Z9c1+gp4oEw3FvZZl3FdddZU5xtgDa5CILKKliFb6z//5Pwfu3UR4cz/JEw437uMe+Z23Nct79uwxJ1OnpY2Oiz1+8zd/MxDddf311zt4w/zrX/+6fdGRaFOWY/rBUmtPRPlid/a6LKlYoFigWGArWqA8R8pzZCuO26JzdwsMsZN89+bTuwXHC/s9MOHLfwX95V/+ZfskN0sSSupuAX4J57PgTPr5VZkQXT73TVQbnw8v6cQsQCSQvpZl+145B2zKSw8bDWNrXtKIMODy/eu//mtHK3kfFmDZDTYjsuriiy9OFGyETBtRE9iWiA/2c3viE59oS3gSYikUCxQLbHoLPP3pTw+PfexjbV/LzaYsEV76emDQ1xTbfkDrpOuXvvSl8OxnP9uiz4g4e7ASTjaixN73vveZw//BklvkFAsUCxQLbAYLlOfI/T8L5Tly/21YOLRboH1DiXac0xbCBqc4A5pfGqPO/kIl9bYAe4+w1we/Lh87dsx+vWVD2iuuuKI3YWkd2AJsLsxXpFj6xsOA/Vz46MATnvCEgXmdyQTXXntt+NCHPmRO19x5hU2IMsApS2Qme+0Q4cF9oIznM3nElL4XC5w8C7BUmeV57BfJlweb0d/dJH3Hd3yHRd3iXCcC7cFKt912m33wgmjVkooFigWKBYoFTr0FynPk1J+DosGpt8AZvYRwfHzclhl8/OMfT2eC5UXU84is1FgKHS3A0iuWHrC8jb1J2EOkpAfGAnwqHecVGxCzj0uxdX92JlIN5xWRbeyTc/nll3clxLGN8wq8gwcP2gbJXZFLQ7FAsUCxQJ8WYDkeS/GOHDkSfvd3f7dPqgqNfbMeTOcVUvmC4X/4D/9hID0LcrFAsUCxQLHAA2eB8hx54GxbOG8dC5zRSwg5TXx1iE1X+QIPS4Wuu+66wIar7A3R76+jW+d0n1xNcVbhGHj4wx9unzJnE102vmZ5RL457smVenpyY5Ne/xw8X53i65hs3ssm4+zJ8v73v98cV5T5pPorXvEKc77yJciSNrYA+9GwDOaDH/ygjVenwCHIhwdI73rXu2zfGxyEfMQBG/PSyN45JRULFAsUCxQLFAsUCxQLFAsUCxQLFAsUC5xaC5zRSwgxPUveCOn/9V//ddu4nT0z+LR1cV5tPDBZzsbG4mwmjqPlBS94Qfhv/+2/FefVxqZrwyCaCoeVp1e/+tVWxLn67ne/2zZrB8byVqLdXvjCF4bXv/71jl7yDSzAxsok9jPIE04rnFSkG2+80cYzXzzja2K/+qu/Gl71qldZW/lTLFAsUCxQLFAsUCxQLFAsUCxQLFAsUCxwai1wxkdgnVrzF+nFAsUCxQLFAsUCxQLFAsUCxQLFAsUCxQLFAsUCxQLFAhtZ4IzeA2sj45T2YoFigWKBYoFigWKBYoFigWKBYoFigWKBYoFigWKBYoFTb4HiwDr156BoUCxQLFAsUCxQLFAsUCxQLFAsUCxQLFAsUCxQLFAsUCzQwwLFgdXDOKWpWKBYoFigWKBYoFigWKBYoFigWKBYoFigWKBYoFigWODUW6A4sE79OSgaFAsUCxQLFAsUCxQLFAsUCxQLFAsUCxQLFAsUCxQLFAv0sEBxYPUwTmkqFigWKBYoFigWKBYoFigWKBYoFigWKBYoFigWKBYoFjj1FigOrFN/DooGxQL/f3t3jKJIGIQBtAQPYDJGBqYyx1AwFS9hYuwFPIIgTCQeQO9hKhibGBkInsDd2UAKBgztYucJQtEd/F+/yj4aJUCAAAECBAgQIECAAAECBAi8EFBgvcBxiwABAgQIECBAgAABAgQIECBAoHkBBVbzO5CAAAECBAgQIECAAAECBAgQIEDghYAC6wWOW/+vwOPxiNFoFOPx+MdDrtfr6HQ6cblcftxzgQABAgQIECBAgAABAgQIEHi/gALr/eZOLCDQarVis9nE4XCIr6+vZ6Lz+RyLxSJWq1X0er3ndQMBAgQIECBAgAABAgQIECDQnEDr75soj+aOdzKBZgW2223M5/M4Ho/R7/djOBz+e/tqv983G8zpBAgQIECAAAECBAgQIECAwFNAgfWkMPxWgclkEvf7PabTaSyXyzidTvHx8fFbOTw3AQIECBAgQIAAAQIECBAoJ6DAKrcSgd4tcL1e4/PzM263W+x2u/gutHwIECBAgAABAgQIECBAgACBOgJ+A6vOLiRpSKDb7cZsNovBYKC8amgHjiVAgAABAgQIECBAgAABAq8EFFivdNz7NQLtdju+vz4ECBAgQIAAAQIECBAgQIBAPQEFVr2dSESAAAECBAgQIECAAAECBAgQIJAEFFgJw0iAAAECBAgQIECAAAECBAgQIFBPQIFVbycSESBAgAABAgQIECBAgAABAgQIJAH/QpgwjAQIECBAgAABAgQIECBAgAABAvUEvIFVbycSESBAgAABAgQIECBAgAABAgQIJAEFVsIwEiBAgAABAgQIECBAgAABAgQI1BNQYNXbiUQECBAgQIAAAQIECBAgQIAAAQJJQIGVMIwECBAgQIAAAQIECBAgQIAAAQL1BBRY9XYiEQECBAgQIECAAAECBAgQIECAQBJQYCUMIwECBAgQIECAAAECBAgQIECAQD0BBVa9nUhEgAABAgQIECBAgAABAgQIECCQBBRYCcNIgAABAgQIECBAgAABAgQIECBQT0CBVW8nEhEgQIAAAQIECBAgQIAAAQIECCQBBVbCMBIgQIAAAQIECBAgQIAAAQIECNQTUGDV24lEBAgQIECAAAECBAgQIECAAAECSUCBlTCMBAgQIECAAAECBAgQIECAAAEC9QQUWPV2IhEBAgQIECBAgAABAgQIECBAgEASUGAlDCMBAgQIECBAgAABAgQIECBAgEA9AQVWvZ1IRIAAAQIECBAgQIAAAQIECBAgkAQUWAnDSIAAAQIECBAgQIAAAQIECBAgUE9AgVVvJxIRIECAAAECBAgQIECAAAECBAgkAQVWwjASIECAAAECBAgQIECAAAECBAjUE1Bg1duJRAQIECBAgAABAgQIECBAgAABAklAgZUwjAQIECBAgAABAgQIECBAgAABAvUEFFj1diIRAQIECBAgQIAAAQIECBAgQIBAElBgJQwjAQIECBAgQIAAAQIECBAgQIBAPQEFVr2dSESAAAECBAgQIECAAAECBAgQIJAEFFgJw0iAAAECBAgQIECAAAECBAgQIFBPQIFVbycSESBAgAABAgQIECBAgAABAgQIJAEFVsIwEiBAgAABAgQIECBAgAABAgQI1BNQYNXbiUQECBAgQIAAAQIECBAgQIAAAQJJ4A/DxqpOfvdAawAAAABJRU5ErkJggg==\" width=\"1200\">"
      ],
      "text/plain": [
       "<IPython.core.display.HTML object>"
      ]
     },
     "metadata": {},
     "output_type": "display_data"
    },
    {
     "data": {
      "application/vnd.jupyter.widget-view+json": {
       "model_id": "ea69d4b438dc4b1ab2d5264a820adcbc",
       "version_major": 2,
       "version_minor": 0
      },
      "text/plain": [
       "HBox(children=(Text(value='BEcKPFM_sfPFM5_0016.png', description='Output Filename:', layout=Layout(width='50%'…"
      ]
     },
     "metadata": {},
     "output_type": "display_data"
    },
    {
     "data": {
      "application/vnd.jupyter.widget-view+json": {
       "model_id": "a21720a921e14fb3b4dd523b87c497c3",
       "version_major": 2,
       "version_minor": 0
      },
      "text/plain": [
       "interactive(children=(IntSlider(value=0, description='Step', max=26840), Output()), _dom_classes=('widget-inte…"
      ]
     },
     "metadata": {},
     "output_type": "display_data"
    }
   ],
   "source": [
    "fig = belib.viz.be_viz_utils.jupyter_visualize_be_spectrograms(h5_main)"
   ]
  },
  {
   "cell_type": "code",
   "execution_count": 9,
   "metadata": {},
   "outputs": [
    {
     "data": {
      "text/plain": [
       "<HDF5 dataset \"Raw_Data\": shape (900, 26840), type \"<c8\">\n",
       "located at: \n",
       "\t/Measurement_000/Channel_000/Raw_Data \n",
       "Data contains: \n",
       "\tquantity (a.u.) \n",
       "Data dimensions and original shape: \n",
       "Position Dimensions: \n",
       "\tX - size: 30 \n",
       "\tY - size: 30 \n",
       "Spectroscopic Dimensions: \n",
       "\tFrequency - size: 61 \n",
       "\tField - size: 2 \n",
       "\twrite_bias - size: 20 \n",
       "\tread_bias - size: 11\n",
       "Data Type:\n",
       "\tcomplex64"
      ]
     },
     "execution_count": 9,
     "metadata": {},
     "output_type": "execute_result"
    }
   ],
   "source": [
    "h5_main"
   ]
  },
  {
   "cell_type": "markdown",
   "metadata": {},
   "source": [
    "## Fit the Band Excitation (BE) spectra\n",
    "Fit each of the acquired spectra to a simple harmonic oscillator (SHO) model to extract the following information regarding the response:\n",
    "* Oscillation amplitude\n",
    "* Phase\n",
    "* Resonance frequency\n",
    "* Quality factor\n",
    "\n",
    "By default, the cell below will take any previous result instead of re-computing the SHO fit"
   ]
  },
  {
   "cell_type": "code",
   "execution_count": 20,
   "metadata": {
    "scrolled": false
   },
   "outputs": [
    {
     "name": "stdout",
     "output_type": "stream",
     "text": [
      "Consider calling test() to check results before calling compute() which computes on the entire dataset and writes results to the HDF5 file\n",
      "Group: <HDF5 group \"/Measurement_000/Channel_000/Raw_Data-SHO_Fit_000\" (3 members)> had neither the status HDF5 dataset or the legacy attribute: \"last_pixel\".\n",
      "\n",
      "Note: SHO_Fit has already been performed with the same parameters before. These results will be returned by compute() by default. Set override to True to force fresh computation\n",
      "\n",
      "[<HDF5 group \"/Measurement_000/Channel_000/Raw_Data-SHO_Fit_001\" (7 members)>]\n",
      "\n",
      "Note: SHO_Fit has already been performed with the same parameters before. These results will be returned by compute() by default. Set override to True to force fresh computation\n",
      "\n",
      "[<HDF5 group \"/Measurement_000/Channel_000/Raw_Data-SHO_Fit_001\" (7 members)>]\n",
      "Returned previously computed results at /Measurement_000/Channel_000/Raw_Data-SHO_Fit_001\n",
      "\n",
      "Note: SHO_Fit has already been performed with the same parameters before. These results will be returned by compute() by default. Set override to True to force fresh computation\n",
      "\n",
      "[<HDF5 group \"/Measurement_000/Channel_000/Raw_Data-SHO_Fit_001\" (7 members)>]\n",
      "Returned previously computed results at /Measurement_000/Channel_000/Raw_Data-SHO_Fit_001\n"
     ]
    }
   ],
   "source": [
    "sho_fit_points = 5  # The number of data points at each step to use when fitting\n",
    "sho_override = False  # Force recompute if True\n",
    "results_to_new_file = False\n",
    "\n",
    "h5_sho_targ_grp = None\n",
    "if results_to_new_file:\n",
    "    h5_sho_file_path = os.path.join(folder_path, \n",
    "                                h5_raw_file_name.replace('.h5', '_sho_fit.h5'))\n",
    "    print('\\n\\nSHO Fits will be written to:\\n' + h5_sho_file_path + '\\n\\n')\n",
    "    f_open_mode = 'w'\n",
    "    if os.path.exists(h5_sho_file_path):\n",
    "        f_open_mode = 'r+'\n",
    "    h5_sho_file = h5py.File(h5_sho_file_path, mode=f_open_mode)\n",
    "    h5_sho_targ_grp = h5_sho_file\n",
    "    \n",
    "sho_fitter = belib.analysis.BESHOfitter(h5_main, cores=max_cores, verbose=False, h5_target_group=h5_sho_targ_grp)\n",
    "sho_fitter.set_up_guess(guess_func=belib.analysis.be_sho_fitter.SHOGuessFunc.complex_gaussian,\n",
    "                        num_points=sho_fit_points)\n",
    "h5_sho_guess = sho_fitter.do_guess(override=sho_override)\n",
    "sho_fitter.set_up_fit()\n",
    "h5_sho_fit = sho_fitter.do_fit(override=sho_override)\n",
    "h5_sho_grp = h5_sho_fit.parent"
   ]
  },
  {
   "cell_type": "markdown",
   "metadata": {},
   "source": [
    "# cKPFM data analysis\n",
    "\n",
    "- Specify the output file path where the figures should be saved to.\n",
    "- Set high_voltage_amplf to 10 if a high voltage amplifier was used, otherwise set to 1"
   ]
  },
  {
   "cell_type": "code",
   "execution_count": 21,
   "metadata": {},
   "outputs": [],
   "source": [
    "# Specify output file path, default is the same directory as the data\n",
    "output_file_path = data_dir\n",
    "\n",
    "# If HV amplifier was used set high_voltage_amplf to 10, else to 1\n",
    "high_voltage_amplf = 1\n"
   ]
  },
  {
   "cell_type": "markdown",
   "metadata": {},
   "source": [
    "## Remove phase offset\n",
    "\n",
    "If removing the instrumental phase offset is not desired, set phase_offset = 0"
   ]
  },
  {
   "cell_type": "code",
   "execution_count": 22,
   "metadata": {},
   "outputs": [
    {
     "name": "stdout",
     "output_type": "stream",
     "text": [
      "Nd_mat shape =  (30, 30, 2, 20, 11)\n",
      "Phase offset [rad] =  -2.619004\n"
     ]
    }
   ],
   "source": [
    "Nd_mat = h5_sho_fit.get_n_dim_form()\n",
    "print('Nd_mat shape = ', Nd_mat.shape)\n",
    "\n",
    "phase_offset = Nd_mat[0, 0, 1, 0, 0]['Phase [rad]']\n",
    "\n",
    "print('Phase offset [rad] = ', phase_offset)\n",
    "\n",
    "Nd_mat[:,:,:,:,:]['Phase [rad]'] = Nd_mat[:,:,:,:,:]['Phase [rad]'] - phase_offset\n"
   ]
  },
  {
   "cell_type": "markdown",
   "metadata": {},
   "source": [
    "## Display cKPFM data\n",
    "The figure shows:\n",
    "\n",
    "- Read and write voltage steps with the selected step marked as a red dot\n",
    "- Response map at read and write voltage steps selected with sliders\n",
    "- Real component of the response at selected read and write steps and x/y coordinates <b> -> select option</b>\n",
    "- Response at each write step (x-axis) after each write pulse (color coded)\n",
    "\n",
    "The 'Save figure' button saves the displayed figure in the above specified output file path as tiff, png and eps file. Alternatively, figures can be copy pasted into other programs like Powerpoint or Word.\n",
    "\n",
    "#### Select display option by setting 'option = 1' or 'option = 2' in the second line of the code\n",
    "- Option 1: display response curves from the maximum write step to the minimum write step\n",
    "- Option 2: display response curves from all write voltages"
   ]
  },
  {
   "cell_type": "code",
   "execution_count": 29,
   "metadata": {},
   "outputs": [],
   "source": [
    "def plot_line_family(axis, x_vec, line_family, line_names=None, label_prefix='', label_suffix='',\n",
    "                     y_offset=0, show_cbar=False, **kwargs):\n",
    "    \"\"\"\n",
    "    Plots a family of lines with a sequence of colors\n",
    "\n",
    "    Parameters\n",
    "    ----------\n",
    "    axis : matplotlib.axes.Axes object\n",
    "        Axis to plot the curve\n",
    "    x_vec : array-like\n",
    "        Values to plot against\n",
    "    line_family : 2D numpy array\n",
    "        family of curves arranged as [curve_index, features]\n",
    "    line_names : array-like\n",
    "        array of string or numbers that represent the identity of each curve in the family\n",
    "    label_prefix : string / unicode\n",
    "        prefix for the legend (before the index of the curve)\n",
    "    label_suffix : string / unicode\n",
    "        suffix for the legend (after the index of the curve)\n",
    "    y_offset : (optional) number\n",
    "        quantity by which the lines are offset from each other vertically (useful for spectra)\n",
    "    show_cbar : (optional) bool\n",
    "        Whether or not to show a colorbar (instead of a legend)\n",
    "\n",
    "    \"\"\"\n",
    "    \n",
    "    x_vec = np.array(x_vec)\n",
    "    #assert x_vec.ndim == 1, 'x_vec must be a 1D array'\n",
    "    if not isinstance(line_family, list):\n",
    "        line_family = np.array(line_family)\n",
    "   \n",
    "    assert line_family.ndim == 2, 'line_family must be a 2D array'\n",
    "    #    assert x_vec.shape[1] == line_family.shape[1], \\\n",
    "    #        'The size of the 2nd dimension of line_family must match with of x_vec, but line fam has shape {} whereas xvec has shape {}'.format(line_family.shape, x_vec.shape)\n",
    "    num_lines = line_family.shape[0]\n",
    "\n",
    "\n",
    "    if line_names is None:\n",
    "        # label_prefix = 'Line '\n",
    "        line_names = [str(line_ind) for line_ind in range(num_lines)]\n",
    "\n",
    "    line_names = ['{} {} {}'.format(label_prefix, cur_name, label_suffix) for cur_name in line_names]\n",
    "    \n",
    "    print(\"Line family shape is {}\".format(line_family.shape))\n",
    "    \n",
    "    for line_ind in range(num_lines):\n",
    "        colors = plt.cm.get_cmap('jet', line_family.shape[-1])\n",
    "        axis.plot(x_vec, line_family[line_ind] + line_ind * y_offset,\n",
    "                  color = colors(line_ind),\n",
    "                  )\n",
    "\n",
    "    if show_cbar:\n",
    "        # put back the cmap parameter:\n",
    "        kwargs.update({'cmap': cmap})\n",
    "        _ = cbar_for_line_plot(axis, num_lines, **kwargs)\n"
   ]
  },
  {
   "cell_type": "code",
   "execution_count": 30,
   "metadata": {
    "scrolled": false
   },
   "outputs": [
    {
     "name": "stdout",
     "output_type": "stream",
     "text": [
      "No position datasets found as attributes of /Measurement_000/Channel_000/Raw_Data-SHO_Fit_001/Spectroscopic_Values\n",
      "These are the labels ['Field', 'write_bias', 'read_bias']\n"
     ]
    },
    {
     "data": {
      "application/vnd.jupyter.widget-view+json": {
       "model_id": "6371f3f2744b4df9b7c23d2b83615a05",
       "version_major": 2,
       "version_minor": 0
      },
      "text/plain": [
       "interactive(children=(IntSlider(value=4, continuous_update=False, description='Read step', max=10), IntSlider(…"
      ]
     },
     "metadata": {},
     "output_type": "display_data"
    },
    {
     "data": {
      "application/vnd.jupyter.widget-view+json": {
       "model_id": "9ba84103363445259feacc61aaae818b",
       "version_major": 2,
       "version_minor": 0
      },
      "text/plain": [
       "Button(description='Save figure', style=ButtonStyle())"
      ]
     },
     "metadata": {},
     "output_type": "display_data"
    }
   ],
   "source": [
    "global option, save_figure \n",
    "# Option 1: only show curves from maximum to minimum write voltage\n",
    "# Option 2: Show all curves from the whole write voltage waveform\n",
    "option = 1 \n",
    "save_figure = False # Save the figure after being generated if True\n",
    "\n",
    "h5_sho_spec_inds = h5_sho_fit.h5_spec_inds\n",
    "h5_sho_spec_vals = h5_sho_fit.h5_spec_vals\n",
    "\n",
    "sho_spec_labels = h5_sho_fit.spec_dim_labels\n",
    "pos_labels = h5_sho_fit.pos_dim_labels\n",
    "\n",
    "num_fields = h5_sho_fit.spec_dim_sizes[h5_sho_fit.spec_dim_labels.index('Field')]\n",
    "num_write_steps = h5_sho_fit.spec_dim_sizes[h5_sho_fit.spec_dim_labels.index('write_bias')]\n",
    "num_read_steps = h5_sho_fit.spec_dim_sizes[h5_sho_fit.spec_dim_labels.index('read_bias')]\n",
    "\n",
    "# It turns out that the read voltage index starts from 1 instead of 0\n",
    "# Also the VDC indices are NOT repeating. They are just rising monotonically\n",
    "write_volt_index = sho_spec_labels.index('write_bias')\n",
    "read_volt_index = sho_spec_labels.index('read_bias')\n",
    "h5_sho_spec_inds[read_volt_index, :] -= np.min(h5_sho_spec_inds[read_volt_index, :])\n",
    "h5_sho_spec_inds[write_volt_index, :] = np.tile(np.repeat(np.arange(num_write_steps), num_fields), num_read_steps)\n",
    "\n",
    "# Get the bias matrix:\n",
    "bias_mat, _ = usid.hdf_utils.reshape_to_n_dims(h5_sho_spec_vals, h5_spec=h5_sho_spec_inds)\n",
    "bias_vec_r_all = bias_mat[read_volt_index]*high_voltage_amplf\n",
    "bias_vec_w_all = bias_mat[write_volt_index]*high_voltage_amplf\n",
    "bias_vec_w = bias_vec_w_all.reshape(h5_sho_fit.spec_dim_sizes)[1, :, 1]\n",
    "bias_vec_r = bias_vec_r_all.reshape(h5_sho_fit.spec_dim_sizes)[1, :, :]\n",
    "\n",
    "# Option 1: only show curves from maximum to minimum write voltage:\n",
    "if option == 1:\n",
    "    write_step_start = np.argmax(bias_vec_w)\n",
    "    write_step_end = np.argmin(bias_vec_w)\n",
    "\n",
    "# ption 2: show all curves from the whole write voltage waveform\n",
    "if option == 2:\n",
    "    write_step_start = 0\n",
    "    write_step_end = num_write_steps-1\n",
    "\n",
    "bias_vec_r_display = np.transpose(bias_vec_r[write_step_start:write_step_end+1,:])\n",
    "\n",
    "print('These are the labels', sho_spec_labels)\n",
    "\n",
    "nd_labels = h5_sho_fit.n_dim_labels\n",
    "\n",
    "num_read_steps = Nd_mat.shape[nd_labels.index('read_bias')]\n",
    "num_write_steps = Nd_mat.shape[nd_labels.index('write_bias')]\n",
    "num_row = Nd_mat.shape[nd_labels.index('Y')]\n",
    "num_col = Nd_mat.shape[nd_labels.index('X')]\n",
    "\n",
    "# Indices of initial data points to plot\n",
    "row = 0\n",
    "col = 0\n",
    "field = 1\n",
    "dc_step_read = 0\n",
    "dc_step_write = 0\n",
    "\n",
    "# Select color scale range for map here\n",
    "cmin = -0.0001\n",
    "cmax = 0.0001\n",
    "\n",
    "# Get the read and write data to plot\n",
    "resp_vec_w = Nd_mat[row,col,field,:,dc_step_read]['Amplitude [V]'] * np.cos(Nd_mat[row,col,field,:,dc_step_read]['Phase [rad]'])*1000\n",
    "\n",
    "resp_mat_r = Nd_mat[:,:,1,dc_step_write,dc_step_read]['Amplitude [V]'] * np.cos(Nd_mat[:,:,1,dc_step_write,dc_step_read]['Phase [rad]'])*1000\n",
    "\n",
    "resp_vec_r = np.squeeze(Nd_mat[:,:,1,write_step_start:write_step_end+1,:]['Amplitude [V]'] \n",
    "                          * np.cos(Nd_mat[:,:,1,write_step_start:write_step_end+1,:]['Phase [rad]'])*1000)\n",
    "\n",
    "\n",
    "def make_figure(resp_mat_r, resp_vec_r, resp_vec_w, dc_step_read, dc_step_write, col, row):\n",
    "    global save_figure\n",
    "    plt.clf();\n",
    "    fig = plt.figure(figsize=(13, 9))\n",
    "    fig.set_facecolor('white')\n",
    "    \n",
    "    ax_bias_w = plt.subplot2grid((20, 2), (0, 0), colspan=1, rowspan=3)\n",
    "    ax_bias_r = plt.subplot2grid((20, 2), (5, 0), colspan=1, rowspan=3)\n",
    "    ax_loop_w = plt.subplot2grid((20, 2), (0, 1), colspan=1, rowspan=7)\n",
    "    ax_loop_r = plt.subplot2grid((20, 2), (9, 1), colspan=1, rowspan=8)\n",
    "    ax_colorbar = plt.subplot2grid((20, 2), (19, 1), colspan=1, rowspan=1)\n",
    "    ax_map = plt.subplot2grid((20, 2), (10, 0), colspan=1, rowspan=11)\n",
    "    \n",
    "    \n",
    "    \n",
    "    ax_bias_w.set_xlabel('Step', fontsize = 12)\n",
    "    ax_bias_w.set_ylabel('Write voltage [V]', fontsize = 12)\n",
    "    ax_bias_r.set_xlabel('Step', fontsize = 12)\n",
    "    ax_bias_r.set_ylabel('Read voltage [V]', fontsize = 12)\n",
    "    ax_loop_w.set_ylabel('Response [a.u.]', fontsize = 12)\n",
    "    ax_loop_w.set_xlabel('Write voltage [V]', fontsize = 12)\n",
    "    ax_loop_r.set_ylabel('Response [a.u.]', fontsize = 12)\n",
    "    ax_loop_r.set_xlabel('Read voltage [V]', fontsize = 12)\n",
    "\n",
    "    # Title saying read and write voltages\n",
    "    fig.suptitle('Read voltage = '+str(bias_vec_r[1,dc_step_read])+' V, Write voltage = ' +str(bias_vec_w[dc_step_write])+' V'\n",
    "                ', x = '+str(col)+', y = '+str(row), fontsize = 14);\n",
    "    \n",
    "    co_b = ax_map.imshow(resp_mat_r, cmap = sidpy.plot_utils.cmap_jet_white_center(), origin='upper', \n",
    "                         interpolation='none');\n",
    "    cb = fig.colorbar(co_b)\n",
    "    \n",
    "    #Graph of DC write voltage\n",
    "    ax_bias_w.plot(bias_vec_w,'b.');\n",
    "    ax_bias_w.plot(dc_step_write,bias_vec_w[dc_step_write],'r.');\n",
    "    ax_bias_w.set_ylim([np.min(bias_vec_w)-0.5, np.max(bias_vec_w)+0.5])\n",
    "    \n",
    "    #Graph of DC read voltage\n",
    "    ax_bias_r.plot(np.transpose(bias_vec_r[1]),'b.');\n",
    "    ax_bias_r.plot(dc_step_read,np.transpose(bias_vec_r[1,dc_step_read]),'r.');\n",
    "    ax_bias_r.set_ylim([np.min(bias_vec_r)-0.5, np.max(bias_vec_r)+0.5])\n",
    "        \n",
    "    #Graph of response loop (amplitude * cos(phase)) vs write voltage at selected x, y and read step\n",
    "    ax_loop_w.plot(bias_vec_w, resp_vec_w,'.-');\n",
    "    \n",
    "    #Response loops (amplitude * cos(phase)) of all write voltage steps (color coded) vs read voltage at selected x, y\n",
    "    plot_line_family(ax_loop_r, bias_vec_r_display[:, :], \n",
    "                                   resp_vec_r, line_names='None',\n",
    "                                   label_prefix='Line', label_suffix='')\n",
    "    \n",
    "    if option == 1:\n",
    "        colorbar_mat = np.column_stack((range(write_step_start,write_step_end+1),range(write_step_start,write_step_end+1)))\n",
    "        ax_colorbar.imshow(np.transpose(colorbar_mat[:,:]), cmap=plt.cm.jet, origin='lower', interpolation='none')\n",
    "        ax_colorbar.set_yticklabels('')\n",
    "        ax_colorbar.tick_params(axis = 'y', left = 'off', right = 'off')\n",
    "        plt.sca(ax_colorbar)\n",
    "        plt.xticks([0,write_step_end-write_step_start],[bias_vec_w[write_step_start],bias_vec_w[write_step_end]])\n",
    "        ax_colorbar.set_xlabel('Write voltage [V]', fontsize = 12)\n",
    "                \n",
    "    if option == 2:\n",
    "        colorbar_mat = np.column_stack((range(0,num_write_steps-1),range(0,num_write_steps-1)))\n",
    "        ax_colorbar.imshow(np.transpose(colorbar_mat[:,:]), cmap=plt.cm.jet, origin='lower', interpolation='none')\n",
    "        ax_colorbar.set_yticklabels('')\n",
    "        ax_colorbar.tick_params(axis = 'y', left = 'off', right = 'off')\n",
    "        ax_colorbar.set_xlabel('Write voltage step', fontsize = 12)\n",
    "        \n",
    "    \n",
    "    if save_figure == True:\n",
    "        fig.savefig(output_file_path+'\\cb_cKPFM_Vr'+str(dc_step_read)+'_Vw'+str(dc_step_write)+'_x='+str(col)+'_y='+str(row)+'.png', format='png')\n",
    "        fig.savefig(output_file_path+'\\cb_cKPFM_Vr'+str(dc_step_read)+'_Vw'+str(dc_step_write)+'_x='+str(col)+'_y='+str(row)+'.eps', format='eps')\n",
    "        fig.savefig(output_file_path+'\\cb_cKPFM_Vr'+str(dc_step_read)+'_Vw'+str(dc_step_write)+'_x='+str(col)+'_y='+str(row)+'.tif', format='tiff')\n",
    "        save_figure = False\n",
    "\n",
    "        \n",
    "def update_sho_plots(dc_step_read, dc_step_write, col, row, **kwargs):\n",
    "    resp_vec_w = Nd_mat[row,col,field,:,dc_step_read]['Amplitude [V]'] * np.cos(Nd_mat[row,col,field,:,dc_step_read]['Phase [rad]'])*1000\n",
    "    resp_vec_w = Nd_mat[row,col,field,:,dc_step_read]['Amplitude [V]'] * np.cos(Nd_mat[row,col,field,:,dc_step_read]['Phase [rad]'])*1000\n",
    "    resp_mat_r = Nd_mat[:,:,1,dc_step_write,dc_step_read]['Amplitude [V]'] * np.cos(Nd_mat[:,:,1,dc_step_write,dc_step_read]['Phase [rad]'])*1000\n",
    "    resp_vec_r = (Nd_mat[row,col,field,write_step_start:write_step_end+1,:]['Amplitude [V]'] \n",
    "                           * np.cos(Nd_mat[row,col,field,write_step_start:write_step_end+1,:]['Phase [rad]'])*1000)\n",
    "\n",
    "    make_figure(resp_mat_r, resp_vec_r, resp_vec_w, dc_step_read, dc_step_write, col, row)\n",
    "    \n",
    "    \n",
    "def on_save_button_clicked(b):\n",
    "    global save_figure \n",
    "    save_figure = True\n",
    "    dc_step_read =  dc_step_read_slider.value\n",
    "    dc_step_write = dc_step_write_slider.value\n",
    "    col = x_slider.value\n",
    "    row = y_slider.value\n",
    "    \n",
    "    update_sho_plots(dc_step_read,dc_step_write, col, row)\n",
    "    \n",
    "\n",
    "slider_dict = dict()   \n",
    "\n",
    "dc_step_read_slider = widgets.IntSlider(min = 0, max = num_read_steps-1, step = 1,value = 4,\n",
    "                                        description = 'Read step',continuous_update = False);\n",
    "dc_step_write_slider = widgets.IntSlider(min = 0, max = num_write_steps-1, step = 1,value = 0,\n",
    "                                         description = 'Write step', continuous_update = False);\n",
    "x_slider = widgets.IntSlider(min = 0, max = num_col-1,step = 1,value = 0,\n",
    "                             description='x',continuous_update = False);\n",
    "y_slider = widgets.IntSlider(min = 0,max = num_row-1,step = 1,value = 0,\n",
    "                             description = 'y',continuous_update = False);\n",
    "\n",
    "widgets.interact(update_sho_plots,dc_step_read=dc_step_read_slider,dc_step_write=dc_step_write_slider, col = x_slider, row = y_slider, **slider_dict); \n",
    "\n",
    "button = widgets.Button(description = 'Save figure')\n",
    "display(button)\n",
    "button.on_click(on_save_button_clicked)\n"
   ]
  },
  {
   "cell_type": "markdown",
   "metadata": {},
   "source": [
    "## Display averaged cKPFM data\n",
    "\n",
    "Figures show response at each write step (x-axis) after each write pulse (color coded) averaged over the whole map (left) and averaged over the area selected with x- and y-range sliders (right).\n",
    "\n",
    "#### Select display option by setting 'option = 1' or 'option = 2' in the first line of the code\n",
    "- Option 1: display response curves from the maximum write step to the minimum write step\n",
    "- Option 2: display response curves from all write voltages"
   ]
  },
  {
   "cell_type": "code",
   "execution_count": 31,
   "metadata": {
    "scrolled": false
   },
   "outputs": [
    {
     "data": {
      "application/vnd.jupyter.widget-view+json": {
       "model_id": "83c80f3b3a8d48529a1e6c8b77d0c79e",
       "version_major": 2,
       "version_minor": 0
      },
      "text/plain": [
       "interactive(children=(IntRangeSlider(value=(7, 21), continuous_update=False, description='x-range', max=29), I…"
      ]
     },
     "metadata": {},
     "output_type": "display_data"
    },
    {
     "data": {
      "application/vnd.jupyter.widget-view+json": {
       "model_id": "7c469253ae0e4635af4090939cd20b61",
       "version_major": 2,
       "version_minor": 0
      },
      "text/plain": [
       "Button(description='Save figure', style=ButtonStyle())"
      ]
     },
     "metadata": {},
     "output_type": "display_data"
    }
   ],
   "source": [
    "option = 1\n",
    "\n",
    "# Option 1: only show curves from maximum to minimum write voltage:\n",
    "if option == 1:\n",
    "    write_step_start = np.argmax(bias_vec_w)\n",
    "    write_step_end = np.argmin(bias_vec_w)\n",
    "\n",
    "# Option 2: show all curves from the whole write voltage waveform\n",
    "if option == 2:\n",
    "    write_step_start = 0\n",
    "    write_step_end = num_write_steps-1\n",
    "\n",
    "    \n",
    "bias_vec_r_display = np.transpose(bias_vec_r[write_step_start:write_step_end+1,:])\n",
    "\n",
    "num_display_steps = bias_vec_r_display.shape[1]\n",
    "\n",
    "\n",
    "global save_figure_vsr\n",
    "\n",
    "save_figure_vsr = False\n",
    "\n",
    "\n",
    "resp_mat_vsr = np.squeeze(Nd_mat[:,:,1,write_step_start:write_step_end+1,:]['Amplitude [V]'] \n",
    "                          * np.cos(Nd_mat[:,:,1,write_step_start:write_step_end+1,:]['Phase [rad]'])*1000)\n",
    "\n",
    "# Calculate response at 0 V read voltage averaged over all pixels\n",
    "resp_vsr_mean1 = np.nanmean(resp_mat_vsr,axis = 0)\n",
    "resp_vsr_std1 = np.nanstd(resp_mat_vsr,axis = 0)\n",
    "resp_vsr_mean = np.nanmean(resp_vsr_mean1,axis = 0)\n",
    "resp_vsr_std = np.nanstd(resp_vsr_std1,axis = 0)\n",
    "\n",
    "\n",
    "def make_figure_respvsr(resp_vsr_mean_range, resp_vsr_std_range, x_range, y_range):\n",
    "    global save_figure_vsr\n",
    "    \n",
    "    fig_vsr = plt.figure(figsize=(12,5))  \n",
    "    fig_vsr.clf()\n",
    "    fig_vsr.set_facecolor('white')\n",
    "    ax_plot = plt.subplot2grid((5, 2), (0, 0), colspan=1, rowspan=4)\n",
    "    ax_plot_range = plt.subplot2grid((5, 2), (0, 1), colspan=1, rowspan=4)\n",
    "    ax_colorbar = plt.subplot2grid((5, 2), (4, 0), colspan=1, rowspan=1)\n",
    "    ax_colorbar2 = plt.subplot2grid((5, 2), (4, 1), colspan=1, rowspan=1)\n",
    "\n",
    "    plot_line_family(ax_plot, bias_vec_r_display[:, :], \n",
    "                                   resp_vsr_mean[:, :], line_names='None',label_prefix='Line', \n",
    "                                   label_suffix='', cmap=plt.cm.jet)\n",
    "    plot_line_family(ax_plot_range, bias_vec_r_display[:, :], \n",
    "                                   resp_vsr_mean_range[:, :], line_names='None',\n",
    "                                   label_prefix='Line', label_suffix='', cmap=plt.cm.jet)\n",
    "         \n",
    "    ax_plot.set_xlabel('Read voltage [V]', fontsize = 12)\n",
    "    ax_plot.set_ylabel('Response [a.u.]', fontsize = 12)\n",
    "    ax_plot.set_title('Averaged over whole map', fontsize = 12)\n",
    "    \n",
    "    ax_plot_range.set_xlabel('Read voltage [V]', fontsize = 12)\n",
    "    ax_plot_range.set_ylabel('Response [a.u.]', fontsize = 12)\n",
    "    ax_plot_range.set_title('Averaged x = '+str(x_range[0])+' - '+str(x_range[1])\n",
    "                            +', y = '+str(y_range[0])+' - '+str(y_range[1]), fontsize = 12)\n",
    "    if option == 1:\n",
    "        colorbar_mat = np.column_stack((range(write_step_start,write_step_end+1),range(write_step_start,write_step_end+1)))\n",
    "        ax_colorbar.imshow(np.transpose(colorbar_mat[:,:]), cmap=plt.cm.jet, origin='lower', interpolation='none')\n",
    "        ax_colorbar.set_yticklabels('')\n",
    "        ax_colorbar.tick_params(axis = 'y', left = 'off', right = 'off')\n",
    "        plt.sca(ax_colorbar)\n",
    "        plt.xticks([0,write_step_end-write_step_start],[bias_vec_w[write_step_start],bias_vec_w[write_step_end]])\n",
    "        ax_colorbar.set_xlabel('Write voltage [V]', fontsize = 12)\n",
    "        \n",
    "        ax_colorbar2.imshow(np.transpose(colorbar_mat[:,:]), cmap=plt.cm.jet, origin='lower', interpolation='none')\n",
    "        ax_colorbar2.set_yticklabels('')\n",
    "        ax_colorbar2.tick_params(axis = 'y', left = 'off', right = 'off')\n",
    "        plt.sca(ax_colorbar2)\n",
    "        plt.xticks([0,write_step_end-write_step_start],[bias_vec_w[write_step_start],bias_vec_w[write_step_end]])\n",
    "        ax_colorbar2.set_xlabel('Write voltage [V]', fontsize = 12)\n",
    "\n",
    "        \n",
    "    \n",
    "    if option == 2:\n",
    "        colorbar_mat = np.column_stack((range(0,num_write_steps-1),range(0,num_write_steps-1)))\n",
    "        ax_colorbar.imshow(np.transpose(colorbar_mat[:,:]), cmap=plt.cm.jet, origin='lower', interpolation='none')\n",
    "        ax_colorbar.set_yticklabels('')\n",
    "        ax_colorbar.tick_params(axis = 'y', left = 'off', right = 'off')\n",
    "        ax_colorbar.set_xlabel('Write voltage step', fontsize = 12)\n",
    "        \n",
    "        ax_colorbar2.imshow(np.transpose(colorbar_mat[:,:]), cmap=plt.cm.jet, origin='lower', interpolation='none')\n",
    "        ax_colorbar2.set_yticklabels('')\n",
    "        ax_colorbar2.tick_params(axis = 'y', left = 'off', right = 'off')\n",
    "        ax_colorbar2.set_xlabel('Write voltage step', fontsize = 12)\n",
    "        \n",
    "     \n",
    "        \n",
    "    fig_vsr.tight_layout();\n",
    "   \n",
    "    if save_figure_vsr == True:\n",
    "        fig_vsr.savefig(output_file_path+'\\cbColor_Response_vsReadVoltage_x'+str(x_range)+'_y'+str(y_range)+'.png', format='png')\n",
    "        fig_vsr.savefig(output_file_path+'\\cbColor_Response_vsReadVoltage_x'+str(x_range)+'_y'+str(y_range)+'.eps', format='eps')\n",
    "        fig_vsr.savefig(output_file_path+'\\cbColor_Response_vsReadVoltage_x'+str(x_range)+'_y'+str(y_range)+'.tif', format='tiff')\n",
    "        save_figure_vsr = False\n",
    "        \n",
    "        \n",
    "            \n",
    "\n",
    "def update_xyrange(x_range, y_range):\n",
    "\n",
    "# Calculate response averaged over selected pixels\n",
    "    \n",
    "    resp_mat_vsr_range = np.squeeze(Nd_mat[y_range[0]:y_range[1], x_range[0]:x_range[1],1,write_step_start:write_step_end+1,:]['Amplitude [V]']\n",
    "                                    *np.cos(Nd_mat[y_range[0]:y_range[1], x_range[0]:x_range[1],1,write_step_start:write_step_end+1,:]['Phase [rad]'])*1000)\n",
    "    \n",
    "    resp_vsr_mean1_range = np.nanmean(resp_mat_vsr_range,axis = 0)\n",
    "    resp_vsr_std1_range = np.nanstd(resp_mat_vsr_range,axis = 0)\n",
    "    resp_vsr_mean_range = np.nanmean(resp_vsr_mean1_range,axis = 0)\n",
    "    resp_vsr_std_range = np.nanstd(resp_vsr_std1_range,axis = 0)\n",
    "\n",
    "    make_figure_respvsr(resp_vsr_mean_range, resp_vsr_std_range, x_range, y_range)\n",
    "                                        \n",
    "                                          \n",
    "x_range = widgets.IntRangeSlider(min = 0,max = num_col-1,step = 1,value = 0,\n",
    "                             description = 'x-range',continuous_update = False)\n",
    "\n",
    "y_range = widgets.IntRangeSlider(min = 0,max = num_col-1,step = 1,value = 0,\n",
    "                             description = 'y-range',continuous_update = False)\n",
    "\n",
    "widgets.interact(update_xyrange,x_range = x_range, y_range = y_range);\n",
    "\n",
    "\n",
    "\n",
    "def on_save_button_clicked_vsr(b):\n",
    "    global save_figure_vsr \n",
    "    save_figure_vsr = True\n",
    "  \n",
    "    update_xyrange(x_range.value, y_range.value)\n",
    "\n",
    "button_vsr = widgets.Button(description = 'Save figure')\n",
    "display(button_vsr)\n",
    "button_vsr.on_click(on_save_button_clicked_vsr)\n",
    "\n",
    "\n"
   ]
  },
  {
   "cell_type": "markdown",
   "metadata": {},
   "source": [
    "## Export response after all write steps for all pixels\n",
    "\n",
    "Response data (\\= amplitude * cos(phase)) is exported into separate tab delimited text files for each read voltage (see file names). The columns in the text file represent write voltage steps, the rows represent individual pixels. "
   ]
  },
  {
   "cell_type": "code",
   "execution_count": 32,
   "metadata": {},
   "outputs": [],
   "source": [
    "#Export response of all write steps (columns) for all pixels (rows) to one delimited text file for each read step\n",
    "\n",
    "for dc_step_read in range(0,num_read_steps-1):\n",
    "    resp_mat = np.squeeze(Nd_mat[:,:,1,:,dc_step_read]['Amplitude [V]'] \n",
    "                          * np.cos(Nd_mat[:,:,1,:,dc_step_read]['Phase [rad]'])*1000)\n",
    "\n",
    "    resp_vec = np.reshape(resp_mat, (num_row*num_col, num_write_steps))\n",
    "    np.savetxt(os.path.join(output_file_path,'Response_at_Vread_'+str(bias_vec_r[0,dc_step_read])+'V.txt'),resp_vec, fmt='%f', delimiter='\\t')\n",
    "\n",
    "np.savetxt(os.path.join(output_file_path,'Read_voltage_vec.txt'), np.squeeze(bias_vec_r[0,:]), fmt='%f', delimiter='\\t')\n",
    "np.savetxt(os.path.join(output_file_path,'Write_voltage_vec.txt'), np.squeeze(bias_vec_w[:]), fmt='%f', delimiter='\\t')"
   ]
  },
  {
   "cell_type": "markdown",
   "metadata": {},
   "source": [
    "## Display averaged response at 0 V read voltage\n",
    "\n",
    "The left figure shows response at 0 V read voltage averaged over the whole grid, the right figure shows response at 0 V read voltage averaged over the x- and y- range specified with sliders."
   ]
  },
  {
   "cell_type": "code",
   "execution_count": 33,
   "metadata": {
    "scrolled": false
   },
   "outputs": [
    {
     "data": {
      "application/vnd.jupyter.widget-view+json": {
       "model_id": "03287cd0d8ad4e0baa5ac84312e61683",
       "version_major": 2,
       "version_minor": 0
      },
      "text/plain": [
       "interactive(children=(IntRangeSlider(value=(7, 21), continuous_update=False, description='x-range', max=29, st…"
      ]
     },
     "metadata": {},
     "output_type": "display_data"
    },
    {
     "data": {
      "application/vnd.jupyter.widget-view+json": {
       "model_id": "2c6f04be6a70486eb96f579e9161885b",
       "version_major": 2,
       "version_minor": 0
      },
      "text/plain": [
       "Button(description='Save figure', style=ButtonStyle())"
      ]
     },
     "metadata": {},
     "output_type": "display_data"
    }
   ],
   "source": [
    "# Plot response at 0 V read voltage averaged over all pixels\n",
    "global save_figure_0V\n",
    "\n",
    "save_figure_0V = False\n",
    "dc_step_read = np.argwhere(np.isclose(bias_vec_r[0,:], 0)).squeeze()\n",
    "\n",
    "resp_mat_0Vr = np.squeeze(Nd_mat[:,:,1,:,dc_step_read]['Amplitude [V]'] \n",
    "                          * np.cos(Nd_mat[:,:,1,:,dc_step_read]['Phase [rad]'])*1000)\n",
    "\n",
    "# Calculate response at 0 V read voltage averaged over all pixels\n",
    "resp_0V_mean1 = np.nanmean(resp_mat_0Vr,axis = 0)\n",
    "resp_0V_std1 = np.nanstd(resp_mat_0Vr,axis = 0)\n",
    "resp_0V_mean = np.nanmean(resp_0V_mean1,axis = 0)\n",
    "resp_0V_std = np.nanstd(resp_0V_std1,axis = 0)\n",
    "\n",
    "\n",
    "def make_figure_resp0V(resp_0V_mean_range, resp_0V_std_range, x_range, y_range):\n",
    "    global save_figure_0V\n",
    "    \n",
    "    fig_r0V = plt.figure(figsize=(10,4))  \n",
    "    fig_r0V.clf()\n",
    "    fig_r0V.set_facecolor('white')\n",
    "    ax_plot = plt.subplot2grid((1, 2), (0, 0), colspan=1, rowspan=1)\n",
    "    ax_plot_range = plt.subplot2grid((1, 2), (0, 1), colspan=1, rowspan=1)\n",
    "    \n",
    "    ax_plot.plot(bias_vec_w[:], resp_0V_mean\n",
    "                 , '.-')\n",
    "    ax_plot.errorbar(bias_vec_w[:], resp_0V_mean, yerr = resp_0V_std, fmt = '.-')\n",
    "    \n",
    "    ax_plot.set_xlabel('Write voltage [V]', fontsize = 12)\n",
    "    ax_plot.set_ylabel('Response [a.u.]', fontsize = 12)\n",
    "    ax_plot.set_title('Averaged over whole map', fontsize = 12)\n",
    "    \n",
    "    ax_plot_range.errorbar(bias_vec_w[:], resp_0V_mean_range, yerr = resp_0V_std_range, fmt = '.-')\n",
    "    ax_plot_range.set_xlabel('Write voltage [V]', fontsize = 12)\n",
    "    ax_plot_range.set_ylabel('Response [a.u.]', fontsize = 12)\n",
    "    ax_plot_range.set_title('Averaged from x = '+str(x_range[0])+'-'+str(x_range[1])\n",
    "                            +', y = '+str(y_range[0])+'-'+str(y_range[1]), fontsize = 12)\n",
    "    \n",
    "    fig_r0V.tight_layout();\n",
    "    fig_r0V.suptitle('Spatially averaged response at read voltage = 0 V', y = 1.05, x=0.55, fontsize = 12)\n",
    "    \n",
    "    #save_figure_0V = True   \n",
    "    if save_figure_0V == True:\n",
    "        fig_r0V.savefig(output_file_path+'\\Response_0V_x'+str(x_range)+'_y'+str(y_range)+'.png', format='png')\n",
    "        fig_r0V.savefig(output_file_path+'\\Response_0V_x'+str(x_range)+'_y'+str(y_range)+'.eps', format='eps')\n",
    "        fig_r0V.savefig(output_file_path+'\\Response_0V_x'+str(x_range)+'_y'+str(y_range)+'.tif', format='tiff')\n",
    "        save_figure_0V = False\n",
    "        \n",
    "        \n",
    "        \n",
    "\n",
    "def update_xyrange(x_range, y_range):\n",
    "\n",
    "# Calculate response at 0 V read voltage averaged over selected pixels\n",
    "#     a=Nd_mat[x_range[0]:x_range[1], y_range[0]:y_range[1],1,:,dc_step_read]['Amplitude [V]']\n",
    "    \n",
    "    resp_mat_0Vr_range = np.squeeze(Nd_mat[y_range[0]:y_range[1], x_range[0]:x_range[1],1,:,dc_step_read]['Amplitude [V]']\n",
    "                                    *np.cos(Nd_mat[y_range[0]:y_range[1], x_range[0]:x_range[1],1,:,dc_step_read]['Phase [rad]'])*1000)\n",
    "    \n",
    "    resp_0V_mean1_range = np.nanmean(resp_mat_0Vr_range,axis = 0)\n",
    "    resp_0V_std1_range = np.nanstd(resp_mat_0Vr_range,axis = 0)\n",
    "    resp_0V_mean_range = np.nanmean(resp_0V_mean1_range,axis = 0)\n",
    "    resp_0V_std_range = np.nanstd(resp_0V_std1_range,axis = 0)\n",
    "    \n",
    "    print(resp_0V_mean_range, resp_0V_std_range, x_range, y_range)\n",
    "    \n",
    "    make_figure_resp0V(resp_0V_mean_range, resp_0V_std_range, x_range, y_range)\n",
    "                                          \n",
    "                                          \n",
    "x_range = widgets.IntRangeSlider(min = 0,max = num_col-1,step = 0.1,value = 0,\n",
    "                             description = 'x-range',continuous_update = False)\n",
    "\n",
    "y_range = widgets.IntRangeSlider(min = 0,max = num_col-1,step = 0.1,value = 0,\n",
    "                             description = 'y-range',continuous_update = False)\n",
    "\n",
    "widgets.interact(update_xyrange,x_range = x_range, y_range = y_range);\n",
    "\n",
    "\n",
    "\n",
    "def on_save_button_clicked_0V(b):\n",
    "    global save_figure_0V \n",
    "    save_figure_0V = True\n",
    "\n",
    "   \n",
    "    update_xyrange(x_range.value, y_range.value)\n",
    "\n",
    "button_0V = widgets.Button(description = 'Save figure')\n",
    "display(button_0V)\n",
    "button_0V.on_click(on_save_button_clicked_0V)"
   ]
  },
  {
   "cell_type": "markdown",
   "metadata": {},
   "source": [
    "## Display response, amplitude and phase data at 0 V read voltage for a single pixel\n",
    "\n",
    "Select the pixel of interest below by setting x_select and y_select to the desired coordinates."
   ]
  },
  {
   "cell_type": "code",
   "execution_count": 34,
   "metadata": {},
   "outputs": [
    {
     "data": {
      "application/javascript": [
       "/* Put everything inside the global mpl namespace */\n",
       "window.mpl = {};\n",
       "\n",
       "\n",
       "mpl.get_websocket_type = function() {\n",
       "    if (typeof(WebSocket) !== 'undefined') {\n",
       "        return WebSocket;\n",
       "    } else if (typeof(MozWebSocket) !== 'undefined') {\n",
       "        return MozWebSocket;\n",
       "    } else {\n",
       "        alert('Your browser does not have WebSocket support. ' +\n",
       "              'Please try Chrome, Safari or Firefox ≥ 6. ' +\n",
       "              'Firefox 4 and 5 are also supported but you ' +\n",
       "              'have to enable WebSockets in about:config.');\n",
       "    };\n",
       "}\n",
       "\n",
       "mpl.figure = function(figure_id, websocket, ondownload, parent_element) {\n",
       "    this.id = figure_id;\n",
       "\n",
       "    this.ws = websocket;\n",
       "\n",
       "    this.supports_binary = (this.ws.binaryType != undefined);\n",
       "\n",
       "    if (!this.supports_binary) {\n",
       "        var warnings = document.getElementById(\"mpl-warnings\");\n",
       "        if (warnings) {\n",
       "            warnings.style.display = 'block';\n",
       "            warnings.textContent = (\n",
       "                \"This browser does not support binary websocket messages. \" +\n",
       "                    \"Performance may be slow.\");\n",
       "        }\n",
       "    }\n",
       "\n",
       "    this.imageObj = new Image();\n",
       "\n",
       "    this.context = undefined;\n",
       "    this.message = undefined;\n",
       "    this.canvas = undefined;\n",
       "    this.rubberband_canvas = undefined;\n",
       "    this.rubberband_context = undefined;\n",
       "    this.format_dropdown = undefined;\n",
       "\n",
       "    this.image_mode = 'full';\n",
       "\n",
       "    this.root = $('<div/>');\n",
       "    this._root_extra_style(this.root)\n",
       "    this.root.attr('style', 'display: inline-block');\n",
       "\n",
       "    $(parent_element).append(this.root);\n",
       "\n",
       "    this._init_header(this);\n",
       "    this._init_canvas(this);\n",
       "    this._init_toolbar(this);\n",
       "\n",
       "    var fig = this;\n",
       "\n",
       "    this.waiting = false;\n",
       "\n",
       "    this.ws.onopen =  function () {\n",
       "            fig.send_message(\"supports_binary\", {value: fig.supports_binary});\n",
       "            fig.send_message(\"send_image_mode\", {});\n",
       "            if (mpl.ratio != 1) {\n",
       "                fig.send_message(\"set_dpi_ratio\", {'dpi_ratio': mpl.ratio});\n",
       "            }\n",
       "            fig.send_message(\"refresh\", {});\n",
       "        }\n",
       "\n",
       "    this.imageObj.onload = function() {\n",
       "            if (fig.image_mode == 'full') {\n",
       "                // Full images could contain transparency (where diff images\n",
       "                // almost always do), so we need to clear the canvas so that\n",
       "                // there is no ghosting.\n",
       "                fig.context.clearRect(0, 0, fig.canvas.width, fig.canvas.height);\n",
       "            }\n",
       "            fig.context.drawImage(fig.imageObj, 0, 0);\n",
       "        };\n",
       "\n",
       "    this.imageObj.onunload = function() {\n",
       "        fig.ws.close();\n",
       "    }\n",
       "\n",
       "    this.ws.onmessage = this._make_on_message_function(this);\n",
       "\n",
       "    this.ondownload = ondownload;\n",
       "}\n",
       "\n",
       "mpl.figure.prototype._init_header = function() {\n",
       "    var titlebar = $(\n",
       "        '<div class=\"ui-dialog-titlebar ui-widget-header ui-corner-all ' +\n",
       "        'ui-helper-clearfix\"/>');\n",
       "    var titletext = $(\n",
       "        '<div class=\"ui-dialog-title\" style=\"width: 100%; ' +\n",
       "        'text-align: center; padding: 3px;\"/>');\n",
       "    titlebar.append(titletext)\n",
       "    this.root.append(titlebar);\n",
       "    this.header = titletext[0];\n",
       "}\n",
       "\n",
       "\n",
       "\n",
       "mpl.figure.prototype._canvas_extra_style = function(canvas_div) {\n",
       "\n",
       "}\n",
       "\n",
       "\n",
       "mpl.figure.prototype._root_extra_style = function(canvas_div) {\n",
       "\n",
       "}\n",
       "\n",
       "mpl.figure.prototype._init_canvas = function() {\n",
       "    var fig = this;\n",
       "\n",
       "    var canvas_div = $('<div/>');\n",
       "\n",
       "    canvas_div.attr('style', 'position: relative; clear: both; outline: 0');\n",
       "\n",
       "    function canvas_keyboard_event(event) {\n",
       "        return fig.key_event(event, event['data']);\n",
       "    }\n",
       "\n",
       "    canvas_div.keydown('key_press', canvas_keyboard_event);\n",
       "    canvas_div.keyup('key_release', canvas_keyboard_event);\n",
       "    this.canvas_div = canvas_div\n",
       "    this._canvas_extra_style(canvas_div)\n",
       "    this.root.append(canvas_div);\n",
       "\n",
       "    var canvas = $('<canvas/>');\n",
       "    canvas.addClass('mpl-canvas');\n",
       "    canvas.attr('style', \"left: 0; top: 0; z-index: 0; outline: 0\")\n",
       "\n",
       "    this.canvas = canvas[0];\n",
       "    this.context = canvas[0].getContext(\"2d\");\n",
       "\n",
       "    var backingStore = this.context.backingStorePixelRatio ||\n",
       "\tthis.context.webkitBackingStorePixelRatio ||\n",
       "\tthis.context.mozBackingStorePixelRatio ||\n",
       "\tthis.context.msBackingStorePixelRatio ||\n",
       "\tthis.context.oBackingStorePixelRatio ||\n",
       "\tthis.context.backingStorePixelRatio || 1;\n",
       "\n",
       "    mpl.ratio = (window.devicePixelRatio || 1) / backingStore;\n",
       "\n",
       "    var rubberband = $('<canvas/>');\n",
       "    rubberband.attr('style', \"position: absolute; left: 0; top: 0; z-index: 1;\")\n",
       "\n",
       "    var pass_mouse_events = true;\n",
       "\n",
       "    canvas_div.resizable({\n",
       "        start: function(event, ui) {\n",
       "            pass_mouse_events = false;\n",
       "        },\n",
       "        resize: function(event, ui) {\n",
       "            fig.request_resize(ui.size.width, ui.size.height);\n",
       "        },\n",
       "        stop: function(event, ui) {\n",
       "            pass_mouse_events = true;\n",
       "            fig.request_resize(ui.size.width, ui.size.height);\n",
       "        },\n",
       "    });\n",
       "\n",
       "    function mouse_event_fn(event) {\n",
       "        if (pass_mouse_events)\n",
       "            return fig.mouse_event(event, event['data']);\n",
       "    }\n",
       "\n",
       "    rubberband.mousedown('button_press', mouse_event_fn);\n",
       "    rubberband.mouseup('button_release', mouse_event_fn);\n",
       "    // Throttle sequential mouse events to 1 every 20ms.\n",
       "    rubberband.mousemove('motion_notify', mouse_event_fn);\n",
       "\n",
       "    rubberband.mouseenter('figure_enter', mouse_event_fn);\n",
       "    rubberband.mouseleave('figure_leave', mouse_event_fn);\n",
       "\n",
       "    canvas_div.on(\"wheel\", function (event) {\n",
       "        event = event.originalEvent;\n",
       "        event['data'] = 'scroll'\n",
       "        if (event.deltaY < 0) {\n",
       "            event.step = 1;\n",
       "        } else {\n",
       "            event.step = -1;\n",
       "        }\n",
       "        mouse_event_fn(event);\n",
       "    });\n",
       "\n",
       "    canvas_div.append(canvas);\n",
       "    canvas_div.append(rubberband);\n",
       "\n",
       "    this.rubberband = rubberband;\n",
       "    this.rubberband_canvas = rubberband[0];\n",
       "    this.rubberband_context = rubberband[0].getContext(\"2d\");\n",
       "    this.rubberband_context.strokeStyle = \"#000000\";\n",
       "\n",
       "    this._resize_canvas = function(width, height) {\n",
       "        // Keep the size of the canvas, canvas container, and rubber band\n",
       "        // canvas in synch.\n",
       "        canvas_div.css('width', width)\n",
       "        canvas_div.css('height', height)\n",
       "\n",
       "        canvas.attr('width', width * mpl.ratio);\n",
       "        canvas.attr('height', height * mpl.ratio);\n",
       "        canvas.attr('style', 'width: ' + width + 'px; height: ' + height + 'px;');\n",
       "\n",
       "        rubberband.attr('width', width);\n",
       "        rubberband.attr('height', height);\n",
       "    }\n",
       "\n",
       "    // Set the figure to an initial 600x600px, this will subsequently be updated\n",
       "    // upon first draw.\n",
       "    this._resize_canvas(600, 600);\n",
       "\n",
       "    // Disable right mouse context menu.\n",
       "    $(this.rubberband_canvas).bind(\"contextmenu\",function(e){\n",
       "        return false;\n",
       "    });\n",
       "\n",
       "    function set_focus () {\n",
       "        canvas.focus();\n",
       "        canvas_div.focus();\n",
       "    }\n",
       "\n",
       "    window.setTimeout(set_focus, 100);\n",
       "}\n",
       "\n",
       "mpl.figure.prototype._init_toolbar = function() {\n",
       "    var fig = this;\n",
       "\n",
       "    var nav_element = $('<div/>');\n",
       "    nav_element.attr('style', 'width: 100%');\n",
       "    this.root.append(nav_element);\n",
       "\n",
       "    // Define a callback function for later on.\n",
       "    function toolbar_event(event) {\n",
       "        return fig.toolbar_button_onclick(event['data']);\n",
       "    }\n",
       "    function toolbar_mouse_event(event) {\n",
       "        return fig.toolbar_button_onmouseover(event['data']);\n",
       "    }\n",
       "\n",
       "    for(var toolbar_ind in mpl.toolbar_items) {\n",
       "        var name = mpl.toolbar_items[toolbar_ind][0];\n",
       "        var tooltip = mpl.toolbar_items[toolbar_ind][1];\n",
       "        var image = mpl.toolbar_items[toolbar_ind][2];\n",
       "        var method_name = mpl.toolbar_items[toolbar_ind][3];\n",
       "\n",
       "        if (!name) {\n",
       "            // put a spacer in here.\n",
       "            continue;\n",
       "        }\n",
       "        var button = $('<button/>');\n",
       "        button.addClass('ui-button ui-widget ui-state-default ui-corner-all ' +\n",
       "                        'ui-button-icon-only');\n",
       "        button.attr('role', 'button');\n",
       "        button.attr('aria-disabled', 'false');\n",
       "        button.click(method_name, toolbar_event);\n",
       "        button.mouseover(tooltip, toolbar_mouse_event);\n",
       "\n",
       "        var icon_img = $('<span/>');\n",
       "        icon_img.addClass('ui-button-icon-primary ui-icon');\n",
       "        icon_img.addClass(image);\n",
       "        icon_img.addClass('ui-corner-all');\n",
       "\n",
       "        var tooltip_span = $('<span/>');\n",
       "        tooltip_span.addClass('ui-button-text');\n",
       "        tooltip_span.html(tooltip);\n",
       "\n",
       "        button.append(icon_img);\n",
       "        button.append(tooltip_span);\n",
       "\n",
       "        nav_element.append(button);\n",
       "    }\n",
       "\n",
       "    var fmt_picker_span = $('<span/>');\n",
       "\n",
       "    var fmt_picker = $('<select/>');\n",
       "    fmt_picker.addClass('mpl-toolbar-option ui-widget ui-widget-content');\n",
       "    fmt_picker_span.append(fmt_picker);\n",
       "    nav_element.append(fmt_picker_span);\n",
       "    this.format_dropdown = fmt_picker[0];\n",
       "\n",
       "    for (var ind in mpl.extensions) {\n",
       "        var fmt = mpl.extensions[ind];\n",
       "        var option = $(\n",
       "            '<option/>', {selected: fmt === mpl.default_extension}).html(fmt);\n",
       "        fmt_picker.append(option);\n",
       "    }\n",
       "\n",
       "    // Add hover states to the ui-buttons\n",
       "    $( \".ui-button\" ).hover(\n",
       "        function() { $(this).addClass(\"ui-state-hover\");},\n",
       "        function() { $(this).removeClass(\"ui-state-hover\");}\n",
       "    );\n",
       "\n",
       "    var status_bar = $('<span class=\"mpl-message\"/>');\n",
       "    nav_element.append(status_bar);\n",
       "    this.message = status_bar[0];\n",
       "}\n",
       "\n",
       "mpl.figure.prototype.request_resize = function(x_pixels, y_pixels) {\n",
       "    // Request matplotlib to resize the figure. Matplotlib will then trigger a resize in the client,\n",
       "    // which will in turn request a refresh of the image.\n",
       "    this.send_message('resize', {'width': x_pixels, 'height': y_pixels});\n",
       "}\n",
       "\n",
       "mpl.figure.prototype.send_message = function(type, properties) {\n",
       "    properties['type'] = type;\n",
       "    properties['figure_id'] = this.id;\n",
       "    this.ws.send(JSON.stringify(properties));\n",
       "}\n",
       "\n",
       "mpl.figure.prototype.send_draw_message = function() {\n",
       "    if (!this.waiting) {\n",
       "        this.waiting = true;\n",
       "        this.ws.send(JSON.stringify({type: \"draw\", figure_id: this.id}));\n",
       "    }\n",
       "}\n",
       "\n",
       "\n",
       "mpl.figure.prototype.handle_save = function(fig, msg) {\n",
       "    var format_dropdown = fig.format_dropdown;\n",
       "    var format = format_dropdown.options[format_dropdown.selectedIndex].value;\n",
       "    fig.ondownload(fig, format);\n",
       "}\n",
       "\n",
       "\n",
       "mpl.figure.prototype.handle_resize = function(fig, msg) {\n",
       "    var size = msg['size'];\n",
       "    if (size[0] != fig.canvas.width || size[1] != fig.canvas.height) {\n",
       "        fig._resize_canvas(size[0], size[1]);\n",
       "        fig.send_message(\"refresh\", {});\n",
       "    };\n",
       "}\n",
       "\n",
       "mpl.figure.prototype.handle_rubberband = function(fig, msg) {\n",
       "    var x0 = msg['x0'] / mpl.ratio;\n",
       "    var y0 = (fig.canvas.height - msg['y0']) / mpl.ratio;\n",
       "    var x1 = msg['x1'] / mpl.ratio;\n",
       "    var y1 = (fig.canvas.height - msg['y1']) / mpl.ratio;\n",
       "    x0 = Math.floor(x0) + 0.5;\n",
       "    y0 = Math.floor(y0) + 0.5;\n",
       "    x1 = Math.floor(x1) + 0.5;\n",
       "    y1 = Math.floor(y1) + 0.5;\n",
       "    var min_x = Math.min(x0, x1);\n",
       "    var min_y = Math.min(y0, y1);\n",
       "    var width = Math.abs(x1 - x0);\n",
       "    var height = Math.abs(y1 - y0);\n",
       "\n",
       "    fig.rubberband_context.clearRect(\n",
       "        0, 0, fig.canvas.width / mpl.ratio, fig.canvas.height / mpl.ratio);\n",
       "\n",
       "    fig.rubberband_context.strokeRect(min_x, min_y, width, height);\n",
       "}\n",
       "\n",
       "mpl.figure.prototype.handle_figure_label = function(fig, msg) {\n",
       "    // Updates the figure title.\n",
       "    fig.header.textContent = msg['label'];\n",
       "}\n",
       "\n",
       "mpl.figure.prototype.handle_cursor = function(fig, msg) {\n",
       "    var cursor = msg['cursor'];\n",
       "    switch(cursor)\n",
       "    {\n",
       "    case 0:\n",
       "        cursor = 'pointer';\n",
       "        break;\n",
       "    case 1:\n",
       "        cursor = 'default';\n",
       "        break;\n",
       "    case 2:\n",
       "        cursor = 'crosshair';\n",
       "        break;\n",
       "    case 3:\n",
       "        cursor = 'move';\n",
       "        break;\n",
       "    }\n",
       "    fig.rubberband_canvas.style.cursor = cursor;\n",
       "}\n",
       "\n",
       "mpl.figure.prototype.handle_message = function(fig, msg) {\n",
       "    fig.message.textContent = msg['message'];\n",
       "}\n",
       "\n",
       "mpl.figure.prototype.handle_draw = function(fig, msg) {\n",
       "    // Request the server to send over a new figure.\n",
       "    fig.send_draw_message();\n",
       "}\n",
       "\n",
       "mpl.figure.prototype.handle_image_mode = function(fig, msg) {\n",
       "    fig.image_mode = msg['mode'];\n",
       "}\n",
       "\n",
       "mpl.figure.prototype.updated_canvas_event = function() {\n",
       "    // Called whenever the canvas gets updated.\n",
       "    this.send_message(\"ack\", {});\n",
       "}\n",
       "\n",
       "// A function to construct a web socket function for onmessage handling.\n",
       "// Called in the figure constructor.\n",
       "mpl.figure.prototype._make_on_message_function = function(fig) {\n",
       "    return function socket_on_message(evt) {\n",
       "        if (evt.data instanceof Blob) {\n",
       "            /* FIXME: We get \"Resource interpreted as Image but\n",
       "             * transferred with MIME type text/plain:\" errors on\n",
       "             * Chrome.  But how to set the MIME type?  It doesn't seem\n",
       "             * to be part of the websocket stream */\n",
       "            evt.data.type = \"image/png\";\n",
       "\n",
       "            /* Free the memory for the previous frames */\n",
       "            if (fig.imageObj.src) {\n",
       "                (window.URL || window.webkitURL).revokeObjectURL(\n",
       "                    fig.imageObj.src);\n",
       "            }\n",
       "\n",
       "            fig.imageObj.src = (window.URL || window.webkitURL).createObjectURL(\n",
       "                evt.data);\n",
       "            fig.updated_canvas_event();\n",
       "            fig.waiting = false;\n",
       "            return;\n",
       "        }\n",
       "        else if (typeof evt.data === 'string' && evt.data.slice(0, 21) == \"data:image/png;base64\") {\n",
       "            fig.imageObj.src = evt.data;\n",
       "            fig.updated_canvas_event();\n",
       "            fig.waiting = false;\n",
       "            return;\n",
       "        }\n",
       "\n",
       "        var msg = JSON.parse(evt.data);\n",
       "        var msg_type = msg['type'];\n",
       "\n",
       "        // Call the  \"handle_{type}\" callback, which takes\n",
       "        // the figure and JSON message as its only arguments.\n",
       "        try {\n",
       "            var callback = fig[\"handle_\" + msg_type];\n",
       "        } catch (e) {\n",
       "            console.log(\"No handler for the '\" + msg_type + \"' message type: \", msg);\n",
       "            return;\n",
       "        }\n",
       "\n",
       "        if (callback) {\n",
       "            try {\n",
       "                // console.log(\"Handling '\" + msg_type + \"' message: \", msg);\n",
       "                callback(fig, msg);\n",
       "            } catch (e) {\n",
       "                console.log(\"Exception inside the 'handler_\" + msg_type + \"' callback:\", e, e.stack, msg);\n",
       "            }\n",
       "        }\n",
       "    };\n",
       "}\n",
       "\n",
       "// from http://stackoverflow.com/questions/1114465/getting-mouse-location-in-canvas\n",
       "mpl.findpos = function(e) {\n",
       "    //this section is from http://www.quirksmode.org/js/events_properties.html\n",
       "    var targ;\n",
       "    if (!e)\n",
       "        e = window.event;\n",
       "    if (e.target)\n",
       "        targ = e.target;\n",
       "    else if (e.srcElement)\n",
       "        targ = e.srcElement;\n",
       "    if (targ.nodeType == 3) // defeat Safari bug\n",
       "        targ = targ.parentNode;\n",
       "\n",
       "    // jQuery normalizes the pageX and pageY\n",
       "    // pageX,Y are the mouse positions relative to the document\n",
       "    // offset() returns the position of the element relative to the document\n",
       "    var x = e.pageX - $(targ).offset().left;\n",
       "    var y = e.pageY - $(targ).offset().top;\n",
       "\n",
       "    return {\"x\": x, \"y\": y};\n",
       "};\n",
       "\n",
       "/*\n",
       " * return a copy of an object with only non-object keys\n",
       " * we need this to avoid circular references\n",
       " * http://stackoverflow.com/a/24161582/3208463\n",
       " */\n",
       "function simpleKeys (original) {\n",
       "  return Object.keys(original).reduce(function (obj, key) {\n",
       "    if (typeof original[key] !== 'object')\n",
       "        obj[key] = original[key]\n",
       "    return obj;\n",
       "  }, {});\n",
       "}\n",
       "\n",
       "mpl.figure.prototype.mouse_event = function(event, name) {\n",
       "    var canvas_pos = mpl.findpos(event)\n",
       "\n",
       "    if (name === 'button_press')\n",
       "    {\n",
       "        this.canvas.focus();\n",
       "        this.canvas_div.focus();\n",
       "    }\n",
       "\n",
       "    var x = canvas_pos.x * mpl.ratio;\n",
       "    var y = canvas_pos.y * mpl.ratio;\n",
       "\n",
       "    this.send_message(name, {x: x, y: y, button: event.button,\n",
       "                             step: event.step,\n",
       "                             guiEvent: simpleKeys(event)});\n",
       "\n",
       "    /* This prevents the web browser from automatically changing to\n",
       "     * the text insertion cursor when the button is pressed.  We want\n",
       "     * to control all of the cursor setting manually through the\n",
       "     * 'cursor' event from matplotlib */\n",
       "    event.preventDefault();\n",
       "    return false;\n",
       "}\n",
       "\n",
       "mpl.figure.prototype._key_event_extra = function(event, name) {\n",
       "    // Handle any extra behaviour associated with a key event\n",
       "}\n",
       "\n",
       "mpl.figure.prototype.key_event = function(event, name) {\n",
       "\n",
       "    // Prevent repeat events\n",
       "    if (name == 'key_press')\n",
       "    {\n",
       "        if (event.which === this._key)\n",
       "            return;\n",
       "        else\n",
       "            this._key = event.which;\n",
       "    }\n",
       "    if (name == 'key_release')\n",
       "        this._key = null;\n",
       "\n",
       "    var value = '';\n",
       "    if (event.ctrlKey && event.which != 17)\n",
       "        value += \"ctrl+\";\n",
       "    if (event.altKey && event.which != 18)\n",
       "        value += \"alt+\";\n",
       "    if (event.shiftKey && event.which != 16)\n",
       "        value += \"shift+\";\n",
       "\n",
       "    value += 'k';\n",
       "    value += event.which.toString();\n",
       "\n",
       "    this._key_event_extra(event, name);\n",
       "\n",
       "    this.send_message(name, {key: value,\n",
       "                             guiEvent: simpleKeys(event)});\n",
       "    return false;\n",
       "}\n",
       "\n",
       "mpl.figure.prototype.toolbar_button_onclick = function(name) {\n",
       "    if (name == 'download') {\n",
       "        this.handle_save(this, null);\n",
       "    } else {\n",
       "        this.send_message(\"toolbar_button\", {name: name});\n",
       "    }\n",
       "};\n",
       "\n",
       "mpl.figure.prototype.toolbar_button_onmouseover = function(tooltip) {\n",
       "    this.message.textContent = tooltip;\n",
       "};\n",
       "mpl.toolbar_items = [[\"Home\", \"Reset original view\", \"fa fa-home icon-home\", \"home\"], [\"Back\", \"Back to previous view\", \"fa fa-arrow-left icon-arrow-left\", \"back\"], [\"Forward\", \"Forward to next view\", \"fa fa-arrow-right icon-arrow-right\", \"forward\"], [\"\", \"\", \"\", \"\"], [\"Pan\", \"Pan axes with left mouse, zoom with right\", \"fa fa-arrows icon-move\", \"pan\"], [\"Zoom\", \"Zoom to rectangle\", \"fa fa-square-o icon-check-empty\", \"zoom\"], [\"\", \"\", \"\", \"\"], [\"Download\", \"Download plot\", \"fa fa-floppy-o icon-save\", \"download\"]];\n",
       "\n",
       "mpl.extensions = [\"eps\", \"jpeg\", \"pdf\", \"png\", \"ps\", \"raw\", \"svg\", \"tif\"];\n",
       "\n",
       "mpl.default_extension = \"png\";var comm_websocket_adapter = function(comm) {\n",
       "    // Create a \"websocket\"-like object which calls the given IPython comm\n",
       "    // object with the appropriate methods. Currently this is a non binary\n",
       "    // socket, so there is still some room for performance tuning.\n",
       "    var ws = {};\n",
       "\n",
       "    ws.close = function() {\n",
       "        comm.close()\n",
       "    };\n",
       "    ws.send = function(m) {\n",
       "        //console.log('sending', m);\n",
       "        comm.send(m);\n",
       "    };\n",
       "    // Register the callback with on_msg.\n",
       "    comm.on_msg(function(msg) {\n",
       "        //console.log('receiving', msg['content']['data'], msg);\n",
       "        // Pass the mpl event to the overridden (by mpl) onmessage function.\n",
       "        ws.onmessage(msg['content']['data'])\n",
       "    });\n",
       "    return ws;\n",
       "}\n",
       "\n",
       "mpl.mpl_figure_comm = function(comm, msg) {\n",
       "    // This is the function which gets called when the mpl process\n",
       "    // starts-up an IPython Comm through the \"matplotlib\" channel.\n",
       "\n",
       "    var id = msg.content.data.id;\n",
       "    // Get hold of the div created by the display call when the Comm\n",
       "    // socket was opened in Python.\n",
       "    var element = $(\"#\" + id);\n",
       "    var ws_proxy = comm_websocket_adapter(comm)\n",
       "\n",
       "    function ondownload(figure, format) {\n",
       "        window.open(figure.imageObj.src);\n",
       "    }\n",
       "\n",
       "    var fig = new mpl.figure(id, ws_proxy,\n",
       "                           ondownload,\n",
       "                           element.get(0));\n",
       "\n",
       "    // Call onopen now - mpl needs it, as it is assuming we've passed it a real\n",
       "    // web socket which is closed, not our websocket->open comm proxy.\n",
       "    ws_proxy.onopen();\n",
       "\n",
       "    fig.parent_element = element.get(0);\n",
       "    fig.cell_info = mpl.find_output_cell(\"<div id='\" + id + \"'></div>\");\n",
       "    if (!fig.cell_info) {\n",
       "        console.error(\"Failed to find cell for figure\", id, fig);\n",
       "        return;\n",
       "    }\n",
       "\n",
       "    var output_index = fig.cell_info[2]\n",
       "    var cell = fig.cell_info[0];\n",
       "\n",
       "};\n",
       "\n",
       "mpl.figure.prototype.handle_close = function(fig, msg) {\n",
       "    var width = fig.canvas.width/mpl.ratio\n",
       "    fig.root.unbind('remove')\n",
       "\n",
       "    // Update the output cell to use the data from the current canvas.\n",
       "    fig.push_to_output();\n",
       "    var dataURL = fig.canvas.toDataURL();\n",
       "    // Re-enable the keyboard manager in IPython - without this line, in FF,\n",
       "    // the notebook keyboard shortcuts fail.\n",
       "    IPython.keyboard_manager.enable()\n",
       "    $(fig.parent_element).html('<img src=\"' + dataURL + '\" width=\"' + width + '\">');\n",
       "    fig.close_ws(fig, msg);\n",
       "}\n",
       "\n",
       "mpl.figure.prototype.close_ws = function(fig, msg){\n",
       "    fig.send_message('closing', msg);\n",
       "    // fig.ws.close()\n",
       "}\n",
       "\n",
       "mpl.figure.prototype.push_to_output = function(remove_interactive) {\n",
       "    // Turn the data on the canvas into data in the output cell.\n",
       "    var width = this.canvas.width/mpl.ratio\n",
       "    var dataURL = this.canvas.toDataURL();\n",
       "    this.cell_info[1]['text/html'] = '<img src=\"' + dataURL + '\" width=\"' + width + '\">';\n",
       "}\n",
       "\n",
       "mpl.figure.prototype.updated_canvas_event = function() {\n",
       "    // Tell IPython that the notebook contents must change.\n",
       "    IPython.notebook.set_dirty(true);\n",
       "    this.send_message(\"ack\", {});\n",
       "    var fig = this;\n",
       "    // Wait a second, then push the new image to the DOM so\n",
       "    // that it is saved nicely (might be nice to debounce this).\n",
       "    setTimeout(function () { fig.push_to_output() }, 1000);\n",
       "}\n",
       "\n",
       "mpl.figure.prototype._init_toolbar = function() {\n",
       "    var fig = this;\n",
       "\n",
       "    var nav_element = $('<div/>');\n",
       "    nav_element.attr('style', 'width: 100%');\n",
       "    this.root.append(nav_element);\n",
       "\n",
       "    // Define a callback function for later on.\n",
       "    function toolbar_event(event) {\n",
       "        return fig.toolbar_button_onclick(event['data']);\n",
       "    }\n",
       "    function toolbar_mouse_event(event) {\n",
       "        return fig.toolbar_button_onmouseover(event['data']);\n",
       "    }\n",
       "\n",
       "    for(var toolbar_ind in mpl.toolbar_items){\n",
       "        var name = mpl.toolbar_items[toolbar_ind][0];\n",
       "        var tooltip = mpl.toolbar_items[toolbar_ind][1];\n",
       "        var image = mpl.toolbar_items[toolbar_ind][2];\n",
       "        var method_name = mpl.toolbar_items[toolbar_ind][3];\n",
       "\n",
       "        if (!name) { continue; };\n",
       "\n",
       "        var button = $('<button class=\"btn btn-default\" href=\"#\" title=\"' + name + '\"><i class=\"fa ' + image + ' fa-lg\"></i></button>');\n",
       "        button.click(method_name, toolbar_event);\n",
       "        button.mouseover(tooltip, toolbar_mouse_event);\n",
       "        nav_element.append(button);\n",
       "    }\n",
       "\n",
       "    // Add the status bar.\n",
       "    var status_bar = $('<span class=\"mpl-message\" style=\"text-align:right; float: right;\"/>');\n",
       "    nav_element.append(status_bar);\n",
       "    this.message = status_bar[0];\n",
       "\n",
       "    // Add the close button to the window.\n",
       "    var buttongrp = $('<div class=\"btn-group inline pull-right\"></div>');\n",
       "    var button = $('<button class=\"btn btn-mini btn-primary\" href=\"#\" title=\"Stop Interaction\"><i class=\"fa fa-power-off icon-remove icon-large\"></i></button>');\n",
       "    button.click(function (evt) { fig.handle_close(fig, {}); } );\n",
       "    button.mouseover('Stop Interaction', toolbar_mouse_event);\n",
       "    buttongrp.append(button);\n",
       "    var titlebar = this.root.find($('.ui-dialog-titlebar'));\n",
       "    titlebar.prepend(buttongrp);\n",
       "}\n",
       "\n",
       "mpl.figure.prototype._root_extra_style = function(el){\n",
       "    var fig = this\n",
       "    el.on(\"remove\", function(){\n",
       "\tfig.close_ws(fig, {});\n",
       "    });\n",
       "}\n",
       "\n",
       "mpl.figure.prototype._canvas_extra_style = function(el){\n",
       "    // this is important to make the div 'focusable\n",
       "    el.attr('tabindex', 0)\n",
       "    // reach out to IPython and tell the keyboard manager to turn it's self\n",
       "    // off when our div gets focus\n",
       "\n",
       "    // location in version 3\n",
       "    if (IPython.notebook.keyboard_manager) {\n",
       "        IPython.notebook.keyboard_manager.register_events(el);\n",
       "    }\n",
       "    else {\n",
       "        // location in version 2\n",
       "        IPython.keyboard_manager.register_events(el);\n",
       "    }\n",
       "\n",
       "}\n",
       "\n",
       "mpl.figure.prototype._key_event_extra = function(event, name) {\n",
       "    var manager = IPython.notebook.keyboard_manager;\n",
       "    if (!manager)\n",
       "        manager = IPython.keyboard_manager;\n",
       "\n",
       "    // Check for shift+enter\n",
       "    if (event.shiftKey && event.which == 13) {\n",
       "        this.canvas_div.blur();\n",
       "        // select the cell after this one\n",
       "        var index = IPython.notebook.find_cell_index(this.cell_info[0]);\n",
       "        IPython.notebook.select(index + 1);\n",
       "    }\n",
       "}\n",
       "\n",
       "mpl.figure.prototype.handle_save = function(fig, msg) {\n",
       "    fig.ondownload(fig, null);\n",
       "}\n",
       "\n",
       "\n",
       "mpl.find_output_cell = function(html_output) {\n",
       "    // Return the cell and output element which can be found *uniquely* in the notebook.\n",
       "    // Note - this is a bit hacky, but it is done because the \"notebook_saving.Notebook\"\n",
       "    // IPython event is triggered only after the cells have been serialised, which for\n",
       "    // our purposes (turning an active figure into a static one), is too late.\n",
       "    var cells = IPython.notebook.get_cells();\n",
       "    var ncells = cells.length;\n",
       "    for (var i=0; i<ncells; i++) {\n",
       "        var cell = cells[i];\n",
       "        if (cell.cell_type === 'code'){\n",
       "            for (var j=0; j<cell.output_area.outputs.length; j++) {\n",
       "                var data = cell.output_area.outputs[j];\n",
       "                if (data.data) {\n",
       "                    // IPython >= 3 moved mimebundle to data attribute of output\n",
       "                    data = data.data;\n",
       "                }\n",
       "                if (data['text/html'] == html_output) {\n",
       "                    return [cell, data, j];\n",
       "                }\n",
       "            }\n",
       "        }\n",
       "    }\n",
       "}\n",
       "\n",
       "// Register the function which deals with the matplotlib target/channel.\n",
       "// The kernel may be null if the page has been refreshed.\n",
       "if (IPython.notebook.kernel != null) {\n",
       "    IPython.notebook.kernel.comm_manager.register_target('matplotlib', mpl.mpl_figure_comm);\n",
       "}\n"
      ],
      "text/plain": [
       "<IPython.core.display.Javascript object>"
      ]
     },
     "metadata": {},
     "output_type": "display_data"
    },
    {
     "data": {
      "text/html": [
       "<img src=\"data:image/png;base64,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\" width=\"1200\">"
      ],
      "text/plain": [
       "<IPython.core.display.HTML object>"
      ]
     },
     "metadata": {},
     "output_type": "display_data"
    }
   ],
   "source": [
    "x_select = 3\n",
    "y_select = 2\n",
    "\n",
    "resp_mat_0Vr = np.squeeze(Nd_mat[:,:,1,:,dc_step_read]['Amplitude [V]'] \n",
    "                          * np.cos(Nd_mat[:,:,1,:,dc_step_read]['Phase [rad]'])*1000)\n",
    "amp_mat_0Vr = np.squeeze(Nd_mat[:,:,1,:,dc_step_read]['Amplitude [V]'])*1000\n",
    "phase_mat_0Vr = np.squeeze(Nd_mat[:,:,1,:,dc_step_read]['Phase [rad]'])\n",
    "\n",
    "\n",
    "fig_r0V = plt.figure(figsize=(12,4))  \n",
    "fig_r0V.clf()\n",
    "fig_r0V.set_facecolor('white')\n",
    "ax_resp = plt.subplot2grid((1, 3), (0, 0), colspan=1, rowspan=1)\n",
    "ax_amp = plt.subplot2grid((1, 3), (0, 1), colspan=1, rowspan=1)\n",
    "ax_phase = plt.subplot2grid((1, 3), (0, 2), colspan=1, rowspan=1)\n",
    "\n",
    "ax_resp.plot(bias_vec_w[:], resp_mat_0Vr[y_select, x_select, :],'.-')\n",
    "ax_resp.set_xlabel('Write voltage [V]', fontsize = 12)\n",
    "ax_resp.set_ylabel('Response [a.u.]', fontsize = 12)\n",
    "\n",
    "ax_amp.plot(bias_vec_w[:], amp_mat_0Vr[y_select, x_select, :],'.-')\n",
    "ax_amp.set_xlabel('Write voltage [V]', fontsize = 12)\n",
    "ax_amp.set_ylabel('Amplitude [a.u.]', fontsize = 12)\n",
    "\n",
    "ax_phase.plot(bias_vec_w[:], phase_mat_0Vr[y_select, x_select, :],'.-')\n",
    "ax_phase.set_xlabel('Write voltage [V]', fontsize = 12)\n",
    "ax_phase.set_ylabel('Phase [rad]', fontsize = 12)\n",
    "ax_phase.set_ylim([-4, 4])\n",
    "\n",
    "fig_r0V.tight_layout()"
   ]
  },
  {
   "cell_type": "markdown",
   "metadata": {},
   "source": [
    "## Display on-field loops for all read steps\n",
    "\n",
    "The figure shows on-field response vs. write voltage for all read voltages (color coded) averaged over the whole map."
   ]
  },
  {
   "cell_type": "code",
   "execution_count": 38,
   "metadata": {},
   "outputs": [
    {
     "ename": "AttributeError",
     "evalue": "module 'numpy' has no attribute 'matlib'",
     "output_type": "error",
     "traceback": [
      "\u001b[0;31m---------------------------------------------------------------------------\u001b[0m",
      "\u001b[0;31mAttributeError\u001b[0m                            Traceback (most recent call last)",
      "\u001b[0;32m<ipython-input-38-ce0dd88f5b35>\u001b[0m in \u001b[0;36m<module>\u001b[0;34m\u001b[0m\n\u001b[1;32m      8\u001b[0m \u001b[0mresp_IF_std\u001b[0m \u001b[0;34m=\u001b[0m \u001b[0mnp\u001b[0m\u001b[0;34m.\u001b[0m\u001b[0mnanstd\u001b[0m\u001b[0;34m(\u001b[0m\u001b[0mresp_IF_std1\u001b[0m\u001b[0;34m,\u001b[0m\u001b[0maxis\u001b[0m \u001b[0;34m=\u001b[0m \u001b[0;36m0\u001b[0m\u001b[0;34m)\u001b[0m\u001b[0;34m\u001b[0m\u001b[0;34m\u001b[0m\u001b[0m\n\u001b[1;32m      9\u001b[0m \u001b[0;34m\u001b[0m\u001b[0m\n\u001b[0;32m---> 10\u001b[0;31m \u001b[0mbias_vec_w_graph\u001b[0m \u001b[0;34m=\u001b[0m \u001b[0mnp\u001b[0m\u001b[0;34m.\u001b[0m\u001b[0mmatlib\u001b[0m\u001b[0;34m.\u001b[0m\u001b[0mrepmat\u001b[0m\u001b[0;34m(\u001b[0m\u001b[0mbias_vec_w\u001b[0m\u001b[0;34m,\u001b[0m\u001b[0mnum_read_steps\u001b[0m\u001b[0;34m,\u001b[0m \u001b[0;36m1\u001b[0m\u001b[0;34m)\u001b[0m\u001b[0;34m\u001b[0m\u001b[0;34m\u001b[0m\u001b[0m\n\u001b[0m\u001b[1;32m     11\u001b[0m \u001b[0;31m# print(resp_IF_mean.shape, resp_IF_std.shape, bias_vec_w_graph.shape)\u001b[0m\u001b[0;34m\u001b[0m\u001b[0;34m\u001b[0m\u001b[0;34m\u001b[0m\u001b[0m\n\u001b[1;32m     12\u001b[0m \u001b[0;34m\u001b[0m\u001b[0m\n",
      "\u001b[0;32m//anaconda3/lib/python3.7/site-packages/numpy/__init__.py\u001b[0m in \u001b[0;36m__getattr__\u001b[0;34m(attr)\u001b[0m\n\u001b[1;32m    218\u001b[0m             \u001b[0;32mreturn\u001b[0m \u001b[0mlist\u001b[0m\u001b[0;34m(\u001b[0m\u001b[0mglobals\u001b[0m\u001b[0;34m(\u001b[0m\u001b[0;34m)\u001b[0m\u001b[0;34m.\u001b[0m\u001b[0mkeys\u001b[0m\u001b[0;34m(\u001b[0m\u001b[0;34m)\u001b[0m \u001b[0;34m|\u001b[0m \u001b[0;34m{\u001b[0m\u001b[0;34m'Tester'\u001b[0m\u001b[0;34m,\u001b[0m \u001b[0;34m'testing'\u001b[0m\u001b[0;34m}\u001b[0m\u001b[0;34m)\u001b[0m\u001b[0;34m\u001b[0m\u001b[0;34m\u001b[0m\u001b[0m\n\u001b[1;32m    219\u001b[0m \u001b[0;34m\u001b[0m\u001b[0m\n\u001b[0;32m--> 220\u001b[0;31m     \u001b[0;32melse\u001b[0m\u001b[0;34m:\u001b[0m\u001b[0;34m\u001b[0m\u001b[0;34m\u001b[0m\u001b[0m\n\u001b[0m\u001b[1;32m    221\u001b[0m         \u001b[0;31m# We don't actually use this ourselves anymore, but I'm not 100% sure that\u001b[0m\u001b[0;34m\u001b[0m\u001b[0;34m\u001b[0m\u001b[0;34m\u001b[0m\u001b[0m\n\u001b[1;32m    222\u001b[0m         \u001b[0;31m# no-one else in the world is using it (though I hope not)\u001b[0m\u001b[0;34m\u001b[0m\u001b[0;34m\u001b[0m\u001b[0;34m\u001b[0m\u001b[0m\n",
      "\u001b[0;31mAttributeError\u001b[0m: module 'numpy' has no attribute 'matlib'"
     ]
    }
   ],
   "source": [
    "resp_mat_IF = np.squeeze(Nd_mat[:,:,0,:,:]['Amplitude [V]'] \n",
    "                          * np.cos(Nd_mat[:,:,0,:,:]['Phase [rad]'])*1000)\n",
    "\n",
    "# Calculate response at 0 V read voltage averaged over all pixels\n",
    "resp_IF_mean1 = np.nanmean(resp_mat_IF,axis = 0)\n",
    "resp_IF_std1 = np.nanstd(resp_mat_IF,axis = 0)\n",
    "resp_IF_mean = np.nanmean(resp_IF_mean1,axis = 0)\n",
    "resp_IF_std = np.nanstd(resp_IF_std1,axis = 0)\n",
    "\n",
    "bias_vec_w_graph = np.matlib.repmat(bias_vec_w,num_read_steps, 1)\n",
    "# print(resp_IF_mean.shape, resp_IF_std.shape, bias_vec_w_graph.shape)\n",
    "\n",
    "fig_IF = plt.figure(figsize=(6,6))  \n",
    "fig_IF.clf()\n",
    "fig_IF.set_facecolor('white')\n",
    "ax_plot = plt.subplot2grid((15, 5), (0, 0), colspan=5, rowspan=12)\n",
    "ax_colorbar = plt.subplot2grid((15, 5), (14, 0), colspan=5, rowspan=1)\n",
    "\n",
    "px.plot_utils.plot_line_family(ax_plot, np.transpose(bias_vec_w_graph), np.transpose(resp_IF_mean), line_names='None',label_prefix='Line', label_suffix='', cmap=plt.cm.jet)\n",
    "# ax_plot.plot(bias_vec_w[:], resp_IF_mean, '.-')\n",
    "# ax_plot.errorbar(bias_vec_w[:], resp_IF_mean, yerr = resp_IF_std, fmt = '.-')\n",
    "colorbar_mat = np.column_stack((range(0,num_read_steps),range(0,num_read_steps)))\n",
    "ax_colorbar.imshow(np.transpose(colorbar_mat[:,:]), cmap=plt.cm.jet, origin='lower', interpolation='none', aspect = 0.25)\n",
    "ax_colorbar.set_yticklabels('')\n",
    "\n",
    "\n",
    "ax_colorbar.tick_params(axis = 'y', left = 'off', right = 'off')\n",
    "\n",
    "\n",
    "# ax_colorbar.set_xlabel('Read step')\n",
    "    \n",
    "\n",
    "ax_plot.set_xlabel('Write voltage [V]', fontsize = 12)\n",
    "ax_plot.set_ylabel('In field response [a.u.]', fontsize = 12)\n",
    "ax_plot.set_title('Averaged over whole map', fontsize = 12)\n",
    "\n",
    "labels = list(range(num_read_steps))\n",
    "\n",
    "for i in range(0, num_read_steps-0, 1):\n",
    "    labels[i] = str(bias_vec_r[0,i])\n",
    "\n",
    "ax_colorbar.set_xticks(np.arange(num_read_steps))\n",
    "ax_colorbar.set_xticklabels(labels, fontsize = 10)\n",
    "\n",
    "ax_colorbar.set_xlabel('Read voltage [V]', fontsize = 12)\n",
    "# fig_IF.tight_layout();\n",
    "\n",
    "def on_save_button4_clicked(b):\n",
    "    \n",
    "    fig_IF.savefig(output_file_path+'\\IFresponse.png', format='png')\n",
    "    fig_IF.savefig(output_file_path+'\\IFresponse.eps', format='eps')\n",
    "    fig_IF.savefig(output_file_path+'\\IFresponse.tif', format='tiff')\n",
    "\n",
    "    \n",
    "    \n",
    "button4 = widgets.Button(description = 'Save figure')\n",
    "display(button4)\n",
    "button4.on_click(on_save_button4_clicked)"
   ]
  },
  {
   "cell_type": "markdown",
   "metadata": {},
   "source": [
    "## Calculate the jCPD\n",
    "\n",
    "The junction contact potential difference (jCPD) is extracted for each dc write voltage step by linear fitting of the response vs. read bias and calculating the x-intercept.\n",
    "\n",
    "If only a certain (linear) regime of the cKPFM curves should be fitted, set v_read_start_index and v_read_end_index to the first and last index of the data that should be considered for the fit."
   ]
  },
  {
   "cell_type": "code",
   "execution_count": null,
   "metadata": {},
   "outputs": [],
   "source": [
    "#Calculate x intercept -> jCPD\n",
    "\n",
    "v_read_start_index = 0\n",
    "v_read_end_index = num_read_steps-1\n",
    "\n",
    "print('v_read_start_index = ', v_read_start_index, ', v_read_end_index = ', v_read_end_index)\n",
    "# resp_mat_r_all_all = Nd_mat[:,:,1,:,:]['Amplitude [V]'] * np.cos(Nd_mat[:,:,1,:,:]['Phase [rad]'])*1000\n",
    "resp_mat_r_all = Nd_mat[:,:,1,:,v_read_start_index : v_read_end_index+1]['Amplitude [V]'] * np.cos(Nd_mat[:,:,1,:,v_read_start_index : v_read_end_index+1]['Phase [rad]'])*1000\n",
    "\n",
    "\n",
    "# print(num_read_steps)\n",
    "# print(resp_mat_r_all.shape)\n",
    "# print('resp_mat_r_all', resp_mat_r_all[0,0,0,:])\n",
    "# print('resp_mat_r_all_all', resp_mat_r_all_all[0,0,0,:])\n",
    "\n",
    "fit_slope = np.zeros((num_col, num_row, num_write_steps))\n",
    "fit_yintercept = np.zeros((num_col, num_row, num_write_steps))\n",
    "jCPD_mat = np.zeros((num_col, num_row, num_write_steps))\n",
    "   \n",
    "print(bias_vec_r[1,v_read_start_index : v_read_end_index+1])\n",
    "# print(bias_vec_r[1,:])\n",
    "\n",
    "for row in range(num_row):\n",
    "    for col in range(num_col):\n",
    "        for vw in range(0,num_write_steps-1):\n",
    "            fit_coeff = np.polyfit(bias_vec_r[1,v_read_start_index : v_read_end_index+1], resp_mat_r_all[col, row, vw,:],1)\n",
    "            fit_slope[col, row, vw] = fit_coeff[0]\n",
    "            fit_yintercept[col, row, vw] = fit_coeff[1]\n",
    "            jCPD_mat[col, row, vw] = -fit_coeff[1]/ fit_coeff[0]\n",
    "            \n",
    "\n",
    "# fit_y = fit_coeff[0] * bias_vec_r[1,:] + fit_coeff[1]\n",
    "\n",
    "# row = 1\n",
    "# col = 1\n",
    "# vw = 10         \n",
    "# print(fit_slope[col, row, vw])\n",
    "# print(fit_yintercept[col, row, vw])\n",
    "# print(jCPD_mat[col ,row, vw])\n",
    "\n",
    "\n",
    "# plt.figure(1)\n",
    "# plt.plot(bias_vec_r[1,:],resp_mat_r_all[col, row, vw,:],'.-')\n",
    "# plt.plot(bias_vec_r[1,:],fit_y)\n",
    "# print(fit_coeff[0],fit_coeff[1],jCPD_mat[col, row, vw])\n",
    "#Filter outliers from jCPD matrix, (-> improve code)\n",
    "# for r in range(1, num_row):\n",
    "#     for c in range(1, num_col):\n",
    "#         for s in range(1, num_write_steps):\n",
    "#             if jCPD_mat[r-1, c-1, s-1] > 20 or jCPD_mat[r-1, c-1, s-1] < -20:\n",
    "# #                 jCPD_mat[r-1, c-1, s-1] = np.nan\n",
    "#                 jCPD_mat[r-1, c-1, s-1] = 0\n",
    "\n"
   ]
  },
  {
   "cell_type": "markdown",
   "metadata": {},
   "source": [
    "## Display jCPD data\n",
    "Figure shows\n",
    "\n",
    "- The jCPD map for the write voltage step selected with the slider\n",
    "- Graphs of jCPD cross sections along the selected x- and y- axes for the selected write voltage step"
   ]
  },
  {
   "cell_type": "code",
   "execution_count": null,
   "metadata": {
    "scrolled": false
   },
   "outputs": [],
   "source": [
    "global save_figure\n",
    "\n",
    "save_figure = False\n",
    "\n",
    "#Color scale minimum and maximum\n",
    "cmin = -0.2\n",
    "cmax = 0.02\n",
    "  \n",
    "def make_jCPD_figure(dc_step_write, x_select, y_select):    \n",
    "    global save_figure \n",
    "\n",
    "    fig2 = plt.figure(figsize=(14,8))  \n",
    "    fig2.set_facecolor('white')    \n",
    "    ax_jCPD_xcross_section = plt.subplot2grid((10, 10), (0, 7), colspan=4, rowspan=3)\n",
    "    plt.title('jCPD cross section at x ='+str(x_select), fontsize = 12)\n",
    "    \n",
    "    ax_jCPD_ycross_section = plt.subplot2grid((10, 10), (4, 7), colspan=4, rowspan=3)\n",
    "    plt.title('jCPD cross section at y ='+str(y_select), fontsize = 12)\n",
    "    \n",
    "    ax_jCPD_plot = plt.subplot2grid((10, 10), (0, 0), colspan=6, rowspan=7)\n",
    "    plt.title('jCPD [V] at write voltage = '+str(bias_vec_w[dc_step_write])+' V', fontsize = 12)\n",
    "    \n",
    "\n",
    "    \n",
    "    ax_jCPD_xcross_section.plot(range(num_col),jCPD_mat[:,x_select,dc_step_write],'.-')\n",
    "    ax_jCPD_xcross_section.set_xlabel('Pixel #', fontsize = 12)\n",
    "    ax_jCPD_xcross_section.set_ylabel('jCPD [V]', fontsize = 12)\n",
    "  \n",
    "    ax_jCPD_ycross_section.plot(range(num_row),jCPD_mat[y_select,:,dc_step_write],'.-')\n",
    "    ax_jCPD_ycross_section.set_xlabel('Pixel #', fontsize = 12)\n",
    "    ax_jCPD_ycross_section.set_ylabel('jCPD [V]', fontsize = 12)\n",
    "    \n",
    "#     co_b2 = ax_jCPD_plot.imshow(jCPD_mat[:,:,dc_step_write], \n",
    "#                                 cmap=px.plot_utils.cmap_jet_white_center(), \n",
    "#                                 origin='lower', interpolation='none', clim=(cmin, cmax));\n",
    "    co_b2 = ax_jCPD_plot.imshow(jCPD_mat[:,:,dc_step_write], \n",
    "                                cmap=px.plot_utils.cmap_jet_white_center(), \n",
    "                                origin='upper', interpolation='none');\n",
    "    cb2 = fig2.colorbar(co_b2)\n",
    "   \n",
    "    \n",
    "    if save_figure == True:\n",
    "        fig2.savefig(output_file_path+'jCPD_map_WriteStep'+str(dc_step_write)+'y'+str(row)+'.png', format='png')\n",
    "        fig2.savefig(output_file_path+'jCPD_map_WriteStep'+str(dc_step_write)+'y'+str(row)+'.eps', format='eps')\n",
    "        save_figure = False;\n",
    "\n",
    "    \n",
    "\n",
    "slider_dict = dict()      \n",
    "dc_step_write_slider = widgets.IntSlider(min = 0, max = num_write_steps-1, step = 1,value = 0,description='Write Step');\n",
    "x_slider = widgets.IntSlider(min = 0, max = num_col, step = 1, value = 0, description = 'x')\n",
    "y_slider = widgets.IntSlider(min = 0, max = num_row, step = 1, value = 0, description = 'y')\n",
    "\n",
    "widgets.interact(make_jCPD_figure, dc_step_write = dc_step_write_slider, x_select = x_slider, y_select = y_slider, **slider_dict); \n",
    "\n",
    "\n",
    "def on_save_button2_clicked(b):\n",
    "    global save_figure\n",
    "    save_figure = True \n",
    "    \n",
    "    dc_step_write = dc_step_write_slider.value\n",
    "    x_select = x_slider.value\n",
    "    y_select = y_slider.value\n",
    "     \n",
    "    make_jCPD_figure(dc_step_write, x_select, y_select)\n",
    "    \n",
    "    \n",
    "button2 = widgets.Button(description = 'Save figure')\n",
    "display(button2)\n",
    "button2.on_click(on_save_button2_clicked)"
   ]
  },
  {
   "cell_type": "markdown",
   "metadata": {},
   "source": [
    "## Display jCPD and fitting parameters\n",
    "\n",
    "Figure shows maps of\n",
    "- jCPD\n",
    "- slope\n",
    "- y-intercept\n",
    "\n",
    "for the write voltage step selected with slider."
   ]
  },
  {
   "cell_type": "code",
   "execution_count": null,
   "metadata": {},
   "outputs": [],
   "source": [
    "global save_figure\n",
    "\n",
    "save_figure = False\n",
    "   \n",
    "cmin = -3\n",
    "cmax = 3\n",
    "  \n",
    "def make_fitting_figure(dc_step_write):    \n",
    "    global save_figure \n",
    "    fig3 = plt.figure(figsize=(10,3))  \n",
    "    fig3.set_facecolor('white')    \n",
    "    ax_jCPD_plot = plt.subplot(131)\n",
    "    ax_slope_plot = plt.subplot(132)\n",
    "    ax_yintercept_plot = plt.subplot(133)\n",
    "    ax_slope_plot.set_title('Slope [a.u.]', fontsize = 12)\n",
    "    \n",
    "    im3 = ax_jCPD_plot.imshow(jCPD_mat[:,:,dc_step_write], \n",
    "                                cmap=px.plot_utils.cmap_jet_white_center(), \n",
    "                                origin='upper', interpolation='none');\n",
    "    \n",
    "#     im3 = ax_jCPD_plot.imshow(jCPD_mat[:,:,dc_step_write], \n",
    "#                                 cmap=px.plot_utils.cmap_jet_white_center(), \n",
    "#                                 origin='upper', interpolation='none', clim=(cmin, cmax)); \n",
    "    \n",
    "    fig3.colorbar(im3, ax = ax_jCPD_plot)\n",
    "    ax_jCPD_plot.set_title('jCPD [V]', fontsize = 12)\n",
    "    \n",
    "    im = ax_slope_plot.imshow(fit_slope[:,:,dc_step_write], \n",
    "                                cmap=px.plot_utils.cmap_jet_white_center(), \n",
    "                                origin='upper', interpolation='none');\n",
    "       \n",
    "    fig3.colorbar(im, ax = ax_slope_plot)\n",
    "    \n",
    "    im2 = ax_yintercept_plot.imshow(fit_yintercept[:,:,dc_step_write], \n",
    "                                cmap=px.plot_utils.cmap_jet_white_center(), \n",
    "                                origin='upper', interpolation='none');\n",
    "    ax_yintercept_plot.set_title('y-intercept [a.u.]', fontsize = 12)\n",
    "    \n",
    "    fig3.colorbar(im2, ax = ax_yintercept_plot)\n",
    "    \n",
    "    #fig3.suptitle('Write voltage = '+str(bias_vec_w[dc_step_write])+' V', fontsize = 14, y = 1.06)\n",
    "    \n",
    "    fig3.suptitle('Write voltage = '+str(bias_vec_w[dc_step_write])+' V', fontsize = 14)\n",
    "    \n",
    "    \n",
    "#     fig3.add_subplot(132).text(2,11,'Write voltage = '+str(bias_vec_w[dc_step_write])+' V', fontsize = 14, orientation='vertical')\n",
    "    plt.tight_layout()\n",
    "    plt.subplots_adjust(top=0.8)\n",
    "    if save_figure == True:\n",
    "        fig3.savefig(output_file_path+'\\jCPD_map_WriteStep'+str(dc_step_write)+'.png', format='png')\n",
    "        fig3.savefig(output_file_path+'\\jCPD_map_WriteStep'+str(dc_step_write)+'.eps', format='eps')\n",
    "        fig3.savefig(output_file_path+'\\jCPD_map_WriteStep'+str(dc_step_write)+'.tif', format='tif')\n",
    "        save_figure = False;\n",
    "\n",
    "    \n",
    "slider_dict = dict()      \n",
    "dc_step_write_slider = widgets.IntSlider(min = 0, max = num_write_steps-1, step = 1, value = 0, description='Write Step');\n",
    "\n",
    "widgets.interact(make_fitting_figure, dc_step_write = dc_step_write_slider, **slider_dict); \n",
    "\n",
    "\n",
    "def on_save_button3_clicked(b):\n",
    "    global save_figure\n",
    "    save_figure = True \n",
    "    \n",
    "    dc_step_write = dc_step_write_slider.value\n",
    "#     x_select = x_slider.value\n",
    "#     y_select = y_slider.value\n",
    "     \n",
    "    make_fitting_figure(dc_step_write)\n",
    "    \n",
    "    \n",
    "button3 = widgets.Button(description = 'Save figure')\n",
    "display(button3)\n",
    "button3.on_click(on_save_button3_clicked)"
   ]
  },
  {
   "cell_type": "markdown",
   "metadata": {},
   "source": [
    "## jCPD plots\n",
    "\n",
    "- Left graph depicts the jCPD averaged over all pixels as a function of write voltage\n",
    "- Specify a pixel that jCPD data should be displayed from in graph on the right by setting x_select and y_select."
   ]
  },
  {
   "cell_type": "code",
   "execution_count": null,
   "metadata": {},
   "outputs": [],
   "source": [
    "# specify x select and y select\n",
    "\n",
    "x_select = 3\n",
    "y_select = 2\n",
    "\n",
    "x_range2 = [0, num_col-1]\n",
    "y_range2 = [0, num_row-1]\n",
    "# x_range2[0] = 0\n",
    "# x_range2[1] = num_col-1\n",
    "# y_range2[0] = 0\n",
    "# y_range2[1] = num_row-1\n",
    "\n",
    "jCPD_mean1 = np.nanmean(jCPD_mat[y_range2[0]:y_range2[1], x_range2[0]:x_range2[1],:],axis = 0)\n",
    "jCPD_std1 = np.nanstd(jCPD_mat[y_range2[0]:y_range2[1], x_range2[0]:x_range2[1],:],axis = 0)\n",
    "jCPD_mean_w = np.nanmean(jCPD_mean1,axis = 0)\n",
    "jCPD_std_w = np.nanstd(jCPD_mean1,axis = 0)\n",
    "\n",
    "\n",
    "\n",
    "#jCPD_mean_w[2] = np.nan\n",
    "\n",
    "\n",
    "jCPD_mean_all = np.nanmean(jCPD_mean_w,axis = 0)\n",
    "jCPD_std_all = np.nanstd(jCPD_std_w,axis = 0)\n",
    "\n",
    "\n",
    "fig3 = plt.figure(figsize=(12,7))  \n",
    "fig3.set_facecolor('white')\n",
    "ax_jCPD_mean = plt.subplot2grid((10, 10), (0, 0), colspan=4, rowspan=5)\n",
    "ax_jCPD_xy = plt.subplot2grid((10, 10), (0, 5), colspan=4, rowspan=5)\n",
    "\n",
    "plt.title('Mean jCPD vs write voltage', fontsize = 12)\n",
    "# ax_jCPD_mean.errorbar(bias_vec_w, jCPD_mean_w, yerr = jCPD_std_w, fmt = '.-')\n",
    "ax_jCPD_mean.plot(bias_vec_w, jCPD_mean_w, '.-')\n",
    "ax_jCPD_mean.set_xlabel('Write voltage [V]', fontsize = 12)\n",
    "ax_jCPD_mean.set_ylabel('Mean jCPD [V]', fontsize = 12)\n",
    "# ax_jCPD_mean.set_ylim([-10,10])\n",
    "\n",
    "ax_jCPD_xy.plot(bias_vec_w, jCPD_mat[y_select,x_select, : ], '.-')\n",
    "ax_jCPD_xy.set_xlabel('Write voltage [V]', fontsize = 12)\n",
    "ax_jCPD_xy.set_ylabel('jCPD [V]', fontsize = 12)\n",
    "# ax_jCPD_xy.set_ylim([-10,15])\n",
    "plt.title('jCPD at x = '+str(x_select)+' y = '+str(y_select))\n",
    "\n",
    "print('jCPD averaged over all pixels and write voltage steps = '+ str(jCPD_mean_all)+' +/- '+str(jCPD_std_all)+' V')"
   ]
  },
  {
   "cell_type": "markdown",
   "metadata": {},
   "source": [
    "## PCA analysis\n",
    "\n",
    "### Singular value decomposition performed on raw data:"
   ]
  },
  {
   "cell_type": "code",
   "execution_count": null,
   "metadata": {},
   "outputs": [],
   "source": [
    "# Do SVD on raw data\n",
    "print(h5_main.shape)\n",
    "do_svd = px.svd_utils.SVD(h5_main, num_components=40)\n",
    "SVD_data = do_svd.compute()\n"
   ]
  },
  {
   "cell_type": "markdown",
   "metadata": {},
   "source": [
    "### SVD on jCPD, slope, y-intercept data and response at 0 V read voltage:"
   ]
  },
  {
   "cell_type": "code",
   "execution_count": null,
   "metadata": {},
   "outputs": [],
   "source": [
    "# Do SVD on jCPD, slope and y-intercept data\n",
    "\n",
    "from sklearn.utils.extmath import randomized_svd\n",
    "\n",
    "num_components = 20;\n",
    "\n",
    "# # #Filter outliers from jCPD matrix, (-> improve code)\n",
    "# # for r in range(1, num_row):\n",
    "# #     for c in range(1, num_col):\n",
    "# #         for s in range(1, num_write_steps):\n",
    "# #             if jCPD_mat[r-1, c-1, s-1] > 5 or jCPD_mat[r-1, c-1, s-1] < -5:\n",
    "# #                 jCPD_mat[r-1, c-1, s-1] = np.nan\n",
    "# # #                 jCPD_mat[r-1, c-1, s-1] = 0\n",
    "\n",
    "\n",
    "x_delete = np.array([])\n",
    "y_delete = np.array([])\n",
    "\n",
    "\n",
    "index_delete = (num_col)*y_delete+x_delete\n",
    "\n",
    "\n",
    "jCPD_mat_SVD = np.reshape(jCPD_mat,(num_row*num_col, num_write_steps))\n",
    "\n",
    "nan_pos = np.squeeze((np.argwhere(np.isnan(jCPD_mat_SVD).any(axis=1))))\n",
    "index_delete = np.insert(index_delete, index_delete.shape[0], nan_pos, axis = 0)\n",
    "\n",
    "index_delete = -np.sort(-index_delete)\n",
    "\n",
    "\n",
    "jCPD_mat_SVD_clean = jCPD_mat_SVD\n",
    "\n",
    "for i in range(0,index_delete.shape[0]):\n",
    "    jCPD_mat_SVD_clean = np.delete(jCPD_mat_SVD_clean, index_delete[i], axis = 0)\n",
    "\n",
    "U_SVD_jCPD, S_SVD_jCPD, V_SVD_jCPD = randomized_svd(jCPD_mat_SVD_clean, n_components = num_components)\n",
    "\n",
    "\n",
    "index_delete = np.sort(index_delete)\n",
    "\n",
    "for i in range(0,index_delete.shape[0]):\n",
    "    U_SVD_jCPD = np.insert(U_SVD_jCPD, index_delete[i], np.nan ,axis = 0)\n",
    "    print(i,index_delete[i])\n",
    "    \n",
    "print(U_SVD_jCPD.shape)\n",
    "\n",
    "\n",
    "slope_mat_SVD = np.reshape(fit_slope,(num_row*num_col, num_write_steps))\n",
    "U_SVD_slope, S_SVD_slope, V_SVD_slope = randomized_svd(slope_mat_SVD, n_components = num_components)\n",
    "\n",
    "yintercept_mat_SVD = np.reshape(fit_yintercept,(num_row*num_col, num_write_steps))\n",
    "U_SVD_yintercept, S_SVD_yintercept, V_SVD_yintercept = randomized_svd(yintercept_mat_SVD, n_components = num_components)\n",
    "\n",
    "\n",
    "# Do SVD on cKPFM signal at 0 V read voltage (= PFM)\n",
    "dc_step_read = np.argwhere(np.isclose(bias_vec_r[0,:], 0)).squeeze()\n",
    "\n",
    "resp_mat_0Vr = np.squeeze(Nd_mat[:,:,1,:,dc_step_read]['Amplitude [V]'] * \n",
    "                          np.cos(Nd_mat[:,:,1,:,dc_step_read]['Phase [rad]'])*1000)\n",
    "\n",
    "resp_mat_0Vr = np.reshape(resp_mat_0Vr,(num_row*num_col, num_write_steps))\n",
    "U_SVD_resp0Vr, S_SVD_resp0Vr, V_SVD_resp0Vr = randomized_svd(resp_mat_0Vr, n_components = num_components)\n"
   ]
  },
  {
   "cell_type": "markdown",
   "metadata": {},
   "source": [
    "### Display SVD score maps and eigenvectors of jCPD data:"
   ]
  },
  {
   "cell_type": "code",
   "execution_count": null,
   "metadata": {
    "scrolled": false
   },
   "outputs": [],
   "source": [
    "# Visualize PCA of jCPD data\n",
    "\n",
    "U_SVD_jCPD = np.reshape(U_SVD_jCPD,(num_row, num_col, num_components))\n",
    "\n",
    "fig5 = plt.figure(figsize=(12,12))\n",
    "fig5.clf()\n",
    "fig5.set_facecolor('white')    \n",
    "\n",
    "n_components = 20\n",
    "\n",
    "for component in range(1, n_components+1):\n",
    "    \n",
    "\n",
    "    ax_SVD_plot = plt.subplot(5, 4, component)\n",
    "    image = ax_SVD_plot.imshow(U_SVD_jCPD[:,:,component-1], cmap=px.plot_utils.cmap_jet_white_center(), \n",
    "                               origin='upper', interpolation='none');\n",
    "    ax_SVD_plot.set_title('#'+str(component), fontsize = 10)\n",
    "    \n",
    "    fig5.colorbar(image, ax = ax_SVD_plot)\n",
    "    \n",
    "fig5.suptitle('PCA scores of jCPD data', weight = 'bold', fontsize = 12, y=1)\n",
    "fig5.tight_layout()\n",
    "\n",
    "\n",
    "\n",
    "fig55 = plt.figure(figsize=(12,12))\n",
    "fig55.clf()\n",
    "fig55.set_facecolor('white')\n",
    "\n",
    "for component in range(1, n_components+1):\n",
    "    ax_SVD_plot = plt.subplot(5, 4, component)\n",
    "    image = ax_SVD_plot.plot(bias_vec_w, V_SVD_jCPD[component-1,:],'.-');\n",
    "    ax_SVD_plot.set_title('#'+str(component), fontsize = 10)\n",
    "    ax_SVD_plot.set_xlabel('Write voltage [V]')\n",
    "\n",
    "\n",
    "fig55.suptitle('PCA eigenvectors of jCPD data', weight = 'bold', fontsize = 12, y=1);\n",
    "\n",
    "fig55.tight_layout()\n",
    "\n",
    "\n",
    "def on_save_button4_clicked(b):\n",
    "   \n",
    "    fig5.savefig(output_file_path+'\\PCA_jCPD_scores.png', format='png')\n",
    "    fig5.savefig(output_file_path+'\\PCA_jCPD_scores.eps', format='eps')\n",
    "    fig5.savefig(output_file_path+'\\PCA_jCPD_scores.tif', format='tif')\n",
    "    fig55.savefig(output_file_path+'\\PCA_jCPD_ev.png', format='png')\n",
    "    fig55.savefig(output_file_path+'\\PCA_jCPD_ev.eps', format='eps')\n",
    "    fig55.savefig(output_file_path+'\\PCA_jCPD_ev.tif', format='tif')\n",
    "\n",
    "    \n",
    "button4 = widgets.Button(description = 'Save figure')\n",
    "display(button4)\n",
    "button4.on_click(on_save_button4_clicked)\n",
    "\n",
    "\n"
   ]
  },
  {
   "cell_type": "markdown",
   "metadata": {},
   "source": [
    "### Display SVD score maps and eigenvectors of slope data:"
   ]
  },
  {
   "cell_type": "code",
   "execution_count": null,
   "metadata": {
    "scrolled": false
   },
   "outputs": [],
   "source": [
    "# Visualize PCA of slope data\n",
    "U_SVD_slope = np.reshape(U_SVD_slope,(num_row, num_col, num_components))\n",
    "\n",
    "fig6 = plt.figure(figsize=(12,12))\n",
    "fig6.clf()\n",
    "fig6.set_facecolor('white')    \n",
    "\n",
    "n_components = 20\n",
    "\n",
    "for component in range(1, n_components+1):\n",
    "    \n",
    "\n",
    "    ax_SVD_plot = plt.subplot(5, 4, component)\n",
    "    image = ax_SVD_plot.imshow(U_SVD_slope[:,:,component-1], cmap=px.plot_utils.cmap_jet_white_center(), \n",
    "                               origin='upper', interpolation='none');\n",
    "    ax_SVD_plot.set_title('#'+str(component), fontsize = 10)\n",
    "    fig6.colorbar(image, ax = ax_SVD_plot)\n",
    "    \n",
    "fig6.tight_layout()\n",
    "fig6.suptitle('PCA scores of slope data', weight = 'bold', fontsize = 12, y = 1);\n",
    "\n",
    "\n",
    "fig66 = plt.figure(figsize=(12,12))\n",
    "fig66.clf()\n",
    "fig66.set_facecolor('white')\n",
    "\n",
    "for component in range(1, n_components+1):\n",
    "    ax_SVD_plot = plt.subplot(5, 4, component)\n",
    "    image = ax_SVD_plot.plot(bias_vec_w, V_SVD_slope[component-1,:],'.-');\n",
    "    ax_SVD_plot.set_title('#'+str(component), fontsize = 10)\n",
    "    ax_SVD_plot.set_xlabel('Write voltage [V]')\n",
    "fig66.tight_layout()\n",
    "\n",
    "fig66.suptitle('PCA eigenvectors of slope data', weight = 'bold', fontsize = 12, y = 1);\n",
    "\n",
    "def on_save_button5_clicked(b):\n",
    "   \n",
    "    fig6.savefig(output_file_path+'\\PCA_slope_scores.png', format='png')\n",
    "    fig6.savefig(output_file_path+'\\PCA_slope_scores.eps', format='eps')\n",
    "    fig6.savefig(output_file_path+'\\PCA_slope_scores.tif', format='tif')\n",
    "    fig66.savefig(output_file_path+'\\PCA_slope_ev.png', format='png')\n",
    "    fig66.savefig(output_file_path+'\\PCA_slope_ev.eps', format='eps')\n",
    "    fig66.savefig(output_file_path+'\\PCA_slope_ev.tif', format='tif')\n",
    "\n",
    "    \n",
    "button5 = widgets.Button(description = 'Save figure')\n",
    "display(button5)\n",
    "button5.on_click(on_save_button5_clicked)"
   ]
  },
  {
   "cell_type": "markdown",
   "metadata": {},
   "source": [
    "### Display SVD score maps and eigenvectors of y-intercept data:"
   ]
  },
  {
   "cell_type": "code",
   "execution_count": null,
   "metadata": {
    "scrolled": false
   },
   "outputs": [],
   "source": [
    "# Visualize PCA of y-intercept data\n",
    "U_SVD_yintercept = np.reshape(U_SVD_yintercept,(num_row, num_col, num_components))\n",
    "\n",
    "fig7 = plt.figure(figsize=(12,12))\n",
    "fig7.clf()\n",
    "fig7.set_facecolor('white')    \n",
    "\n",
    "n_components = 20\n",
    "\n",
    "for component in range(1, n_components+1):\n",
    "    \n",
    "\n",
    "    ax_SVD_plot = plt.subplot(5, 4, component)\n",
    "    image = ax_SVD_plot.imshow(U_SVD_yintercept[:,:,component-1], cmap=px.plot_utils.cmap_jet_white_center(), \n",
    "                               origin='upper', interpolation='none');\n",
    "    ax_SVD_plot.set_title('#'+str(component), fontsize = 10)\n",
    "    \n",
    "    fig7.colorbar(image, ax = ax_SVD_plot)\n",
    "    \n",
    "\n",
    "fig7.tight_layout()\n",
    "\n",
    "fig7.suptitle('PCA scores of y-intercept data', weight = 'bold', fontsize = 12, y = 1);\n",
    "\n",
    "fig77 = plt.figure(figsize=(12,12))\n",
    "fig77.clf()\n",
    "fig77.set_facecolor('white')\n",
    "\n",
    "for component in range(1, n_components+1):\n",
    "    ax_SVD_plot = plt.subplot(5, 4, component)\n",
    "    image = ax_SVD_plot.plot(bias_vec_w, V_SVD_yintercept[component-1,:],'.-');\n",
    "    ax_SVD_plot.set_title('#'+str(component), fontsize = 10)\n",
    "    ax_SVD_plot.set_xlabel('Write voltage [V]')\n",
    "fig77.tight_layout()\n",
    "\n",
    "fig77.suptitle('PCA eigenvectors of y-intercept data', weight = 'bold', fontsize = 12, y = 1);\n",
    "\n",
    "def on_save_button6_clicked(b):\n",
    "   \n",
    "    fig7.savefig(output_file_path+'\\PCA_yintercept_scores.png', format='png')\n",
    "    fig7.savefig(output_file_path+'\\PCA_yintercept_scores.eps', format='eps')\n",
    "    fig7.savefig(output_file_path+'\\PCA_yintercept_scores.tif', format='tif')\n",
    "    fig77.savefig(output_file_path+'\\PCA_yintercept_ev.png', format='png')\n",
    "    fig77.savefig(output_file_path+'\\PCA_yintercept_ev.eps', format='eps')\n",
    "    fig77.savefig(output_file_path+'\\PCA_yintercept_ev.tif', format='tif')\n",
    "\n",
    "    \n",
    "button6 = widgets.Button(description = 'Save figure')\n",
    "display(button6)\n",
    "button6.on_click(on_save_button6_clicked)"
   ]
  },
  {
   "cell_type": "markdown",
   "metadata": {},
   "source": [
    "### Display SVD score maps and eigenvectors of response at 0 V read voltage:"
   ]
  },
  {
   "cell_type": "code",
   "execution_count": null,
   "metadata": {
    "scrolled": false
   },
   "outputs": [],
   "source": [
    "# Visualize PCA of response at 0 V read voltage\n",
    "U_SVD_resp0Vr = np.reshape(U_SVD_resp0Vr,(num_row, num_col, num_components))\n",
    "\n",
    "fig8 = plt.figure(figsize=(12,12))\n",
    "fig8.clf()\n",
    "fig8.set_facecolor('white')    \n",
    "\n",
    "n_components = 20\n",
    "\n",
    "\n",
    "for component in range(1, n_components+1):\n",
    "    \n",
    "\n",
    "    ax_SVD_plot = plt.subplot(5, 4, component)\n",
    "    image = ax_SVD_plot.imshow(U_SVD_resp0Vr[:,:,component-1], cmap=px.plot_utils.cmap_jet_white_center(), \n",
    "                               origin='upper', interpolation='none');\n",
    "    ax_SVD_plot.set_title('#'+str(component), fontsize = 10)\n",
    "    fig8.colorbar(image, ax = ax_SVD_plot)\n",
    "    \n",
    "\n",
    "fig8.tight_layout()\n",
    "\n",
    "fig8.suptitle('PCA scores of response at V$_{read}$ = 0 V', weight = 'bold', fontsize = 12, y = 1);\n",
    "\n",
    "fig88 = plt.figure(figsize=(12,12))\n",
    "fig88.clf()\n",
    "fig88.set_facecolor('white')\n",
    "\n",
    "for component in range(1, n_components+1):\n",
    "    ax_SVD_plot = plt.subplot(5, 4, component)\n",
    "    image = ax_SVD_plot.plot(bias_vec_w, V_SVD_resp0Vr[component-1,:],'.-');\n",
    "    ax_SVD_plot.set_xlabel('Write voltage [V]')\n",
    "    ax_SVD_plot.set_title('#'+str(component), fontsize = 10)\n",
    "fig88.tight_layout()\n",
    "\n",
    "fig88.suptitle('PCA eigenvectors of response at V$_{read}$ = 0 V', weight = 'bold', fontsize = 12, y = 1);\n",
    "\n",
    "def on_save_button7_clicked(b):\n",
    "   \n",
    "    fig8.savefig(output_file_path+'\\PCA_resp0V_scores.png', format='png')\n",
    "    fig8.savefig(output_file_path+'\\PCA_resp0V_scores.eps', format='eps')\n",
    "    fig8.savefig(output_file_path+'\\PCA_resp0V_scores.tif', format='tif')\n",
    "    fig88.savefig(output_file_path+'\\PCA_resp0V_ev.png', format='png')\n",
    "    fig88.savefig(output_file_path+'\\PCA_resp0V_ev.eps', format='eps')\n",
    "    fig88.savefig(output_file_path+'\\PCA_resp0V_ev.tif', format='tif')\n",
    "\n",
    "    \n",
    "button7 = widgets.Button(description = 'Save figure')\n",
    "display(button7)\n",
    "button7.on_click(on_save_button7_clicked)"
   ]
  },
  {
   "cell_type": "markdown",
   "metadata": {},
   "source": [
    "### Display SVD score maps and eigenvectors of raw data:"
   ]
  },
  {
   "cell_type": "code",
   "execution_count": null,
   "metadata": {
    "scrolled": false
   },
   "outputs": [],
   "source": [
    "# Visualize PCA of raw data\n",
    "S_mat = SVD_data['S'][:]\n",
    "U_mat = SVD_data['U'][:]\n",
    "V_mat = SVD_data['V'][:]\n",
    "\n",
    "n_components = min(40, S_mat.size)\n",
    "\n",
    "U_mat = np.reshape(U_mat,(num_row, num_col, n_components))\n",
    "\n",
    "fig4 = plt.figure(figsize=(12,20))\n",
    "fig4.clf()\n",
    "fig4.set_facecolor('white')    \n",
    "\n",
    "for component in range(1, n_components+1):\n",
    "    ax_SVD_plot = plt.subplot(10, 4, component)\n",
    "    \n",
    "    image = ax_SVD_plot.imshow(U_mat[:,:,component-1], \n",
    "                            cmap=px.plot_utils.cmap_jet_white_center(), \n",
    "                            origin='upper', interpolation='none');\n",
    "    ax_SVD_plot.set_title('#'+str(component), fontsize = 10)\n",
    "    fig4.colorbar(image, ax = ax_SVD_plot)\n",
    "    \n",
    "fig4.tight_layout()\n",
    "\n",
    "\n",
    "fig4.suptitle('PCA scores of raw data', weight = 'bold', fontsize = 12, y = 1);\n",
    "\n",
    "\n",
    "fig44 = plt.figure(figsize=(12,20))\n",
    "fig44.clf()\n",
    "fig44.set_facecolor('white')\n",
    "\n",
    "for component in range(1, n_components+1):\n",
    "    ax_SVD_plot = plt.subplot(10, 4, component)\n",
    "    image = ax_SVD_plot.plot(V_mat[component-1,:],'.-');\n",
    "    ax_SVD_plot.set_title('#'+str(component), fontsize = 10)\n",
    "fig44.tight_layout()\n",
    "\n",
    "fig44.suptitle('PCA eigenvectors of of raw data', weight = 'bold', fontsize = 12, y = 1);\n",
    "\n",
    "def on_save_button8_clicked(b):\n",
    "   \n",
    "    fig4.savefig(output_file_path+'\\PCA_rawdata_scores.png', format='png')\n",
    "    fig4.savefig(output_file_path+'\\PCA_rawdata_scores.eps', format='eps')\n",
    "    fig4.savefig(output_file_path+'\\PCA_rawdata_scores.tif', format='tif')\n",
    "    fig44.savefig(output_file_path+'\\PCA_rawdata_ev.png', format='png')\n",
    "    fig44.savefig(output_file_path+'\\PCA_rawdata_ev.eps', format='eps')\n",
    "    fig44.savefig(output_file_path+'\\PCA_rawdata_ev.tif', format='tif')\n",
    "\n",
    "    \n",
    "button8 = widgets.Button(description = 'Save figure')\n",
    "display(button8)\n",
    "button8.on_click(on_save_button8_clicked)"
   ]
  },
  {
   "cell_type": "markdown",
   "metadata": {},
   "source": [
    "# BEPS/ FORC viewer"
   ]
  },
  {
   "cell_type": "code",
   "execution_count": null,
   "metadata": {
    "scrolled": false
   },
   "outputs": [],
   "source": [
    "global count\n",
    "count = 0\n",
    "cycle = 0\n",
    "row = 0\n",
    "col = 0\n",
    "dc_step_write = 0\n",
    "step_chan = b'read_bias'\n",
    "\n",
    "guess_3d_data, success = px.hdf_utils.reshape_to_Ndims(h5_sho_fit)\n",
    "h5_sho_spec_inds = px.hdf_utils.getAuxData(h5_sho_fit, auxDataName='Spectroscopic_Indices')[0]\n",
    "h5_sho_spec_vals = px.hdf_utils.getAuxData(h5_sho_fit, auxDataName='Spectroscopic_Values')[0]\n",
    "\n",
    "spec_nd, _ = px.hdf_utils.reshape_to_Ndims(h5_sho_spec_inds, h5_spec=h5_sho_spec_inds)\n",
    "\n",
    "spec_nd, _ = px.hdf_utils.reshape_to_Ndims(h5_sho_spec_inds, h5_spec=h5_sho_spec_inds)\n",
    "# sho_spec_sort = get_sort_order(h5_sho_spec_inds)\n",
    "sho_spec_dims = np.array(spec_nd.shape[1:])\n",
    "sho_spec_labels = h5_sho_spec_inds.attrs['labels']\n",
    "\n",
    "h5_pos_inds = px.hdf_utils.getAuxData(h5_sho_fit, auxDataName='Position_Indices')[-1];\n",
    "pos_nd, _ = px.hdf_utils.reshape_to_Ndims(h5_pos_inds, h5_pos=h5_pos_inds)\n",
    "pos_dims = list(pos_nd.shape[:h5_pos_inds.shape[1]])\n",
    "pos_labels = h5_pos_inds.attrs['labels']\n",
    "\n",
    "# reshape to X, Y, step, all others\n",
    "spec_step_dim_ind = np.where(sho_spec_labels == step_chan)[0]\n",
    "step_dim_ind = len(pos_dims) + spec_step_dim_ind\n",
    "\n",
    "# move the step dimension to be the first after all position dimensions\n",
    "rest_sho_dim_order = list(range(len(pos_dims), len(guess_3d_data.shape)))\n",
    "rest_sho_dim_order.remove(step_dim_ind)\n",
    "new_order = list(range(len(pos_dims))) + step_dim_ind.tolist() + rest_sho_dim_order\n",
    "\n",
    "# Transpose the 3D dataset to this shape:\n",
    "sho_guess_Nd_1 = np.transpose(guess_3d_data, new_order)\n",
    "\n",
    "# Now move the step dimension to the front for the spec labels as well\n",
    "new_spec_order = list(range(len(sho_spec_labels)))\n",
    "new_spec_order.remove(spec_step_dim_ind)\n",
    "new_spec_order = spec_step_dim_ind.tolist() + new_spec_order\n",
    "\n",
    "# new_spec_labels = sho_spec_labels[new_spec_order]\n",
    "new_spec_dims = np.array(sho_spec_dims)[new_spec_order]\n",
    "\n",
    "# Now collapse all additional dimensions\n",
    "final_guess_shape = pos_dims + [new_spec_dims[0]] + [-1]\n",
    "sho_dset_collapsed = np.reshape(sho_guess_Nd_1, final_guess_shape)\n",
    "\n",
    "# Get the bias matrix:\n",
    "bias_mat, _ = px.hdf_utils.reshape_to_Ndims(h5_sho_spec_vals, h5_spec=h5_sho_spec_inds)\n",
    "bias_mat = np.transpose(bias_mat[spec_step_dim_ind].squeeze(), new_spec_order).reshape(sho_dset_collapsed.\n",
    "                                                                             shape[len(pos_dims):])\n",
    "bias_mat = bias_mat*high_voltage_amplf\n",
    "\n",
    "num_read_steps = sho_dset_collapsed.shape[1]\n",
    "num_write_steps = sho_dset_collapsed.shape[2]\n",
    "num_row = sho_dset_collapsed.shape[1]\n",
    "num_col = sho_dset_collapsed.shape[0]\n",
    "\n",
    "print(sho_dset_collapsed.shape)\n",
    "print('bias mat shape', bias_mat.shape)\n",
    "\n",
    "num_loops = bias_mat.shape[1]\n",
    "num_loops_h = int(num_loops/2)\n",
    "# plt.figure()\n",
    "# plt.plot(bias_mat[:,:]);\n",
    "\n",
    "\n",
    "\n",
    "# print(sho_dset_collapsed.attrs)\n",
    "# print(getattr(obj))\n",
    "\n",
    "amp_map = sho_dset_collapsed[:, :, dc_step_write, cycle]['Amplitude [V]']*1000\n",
    "phase_map = sho_dset_collapsed[:, :, dc_step_write, cycle]['Phase [rad]']\n",
    "frequency_map = sho_dset_collapsed[:, :, dc_step_write, cycle]['Frequency [Hz]']/1000\n",
    "Q_map = sho_dset_collapsed[:, :, dc_step_write, cycle]['Quality Factor']\n",
    "\n",
    "mixed_map = amp_map*np.cos(phase_map)\n",
    "mixed_mat_h = sho_dset_collapsed[:, :, :, :]['Amplitude [V]'] * np.cos(sho_dset_collapsed[:, :, :, :]['Phase [rad]'])*1000\n",
    "\n",
    "print('mixed shape = ', mixed_mat_h.shape)\n",
    "\n",
    "def make_figure_beps_forc(amp_map, phase_map, mixed_map, Q_map, frequency_map, mixed_mat_h, col, row, cycle, dc_step_write):\n",
    "    global fig_bf\n",
    "    fig_bf = plt.figure(figsize=(12,6))\n",
    "    fig_bf.clf()\n",
    "    fig_bf.set_facecolor('white')  \n",
    "    \n",
    "    \n",
    "    \n",
    "    ax_amp = plt.subplot(2, 3, 1)\n",
    "    img_a = ax_amp.imshow(amp_map, cmap=px.plot_utils.cmap_jet_white_center(), \n",
    "                          origin='upper', interpolation='none');\n",
    "    ax_amp.set_title('Amplitude [a.u.]', fontsize = 10)\n",
    "    fig_bf.colorbar(img_a, ax = ax_amp)\n",
    "\n",
    "    ax_phase = plt.subplot(2, 3, 2)\n",
    "    img_p = ax_phase.imshow(phase_map, cmap=px.plot_utils.cmap_jet_white_center(), \n",
    "                          origin='upper', interpolation='none', clim = [-3.5, 3.5]);\n",
    "    ax_phase.set_title('Phase [rad]', fontsize = 10)\n",
    "    fig_bf.colorbar(img_p, ax = ax_phase)\n",
    "\n",
    "    ax_m = plt.subplot(2, 3, 3)\n",
    "    img_m = ax_m.imshow(mixed_map, cmap=px.plot_utils.cmap_jet_white_center(), \n",
    "                          origin='upper', interpolation='none');\n",
    "    ax_m.set_title('Real component [a.u.]', fontsize = 10)\n",
    "    fig_bf.colorbar(img_m, ax = ax_m)\n",
    "\n",
    "    ax_q = plt.subplot(2, 3, 4)\n",
    "    img_q = ax_q.imshow(Q_map, cmap=px.plot_utils.cmap_jet_white_center(), \n",
    "                          origin='upper', interpolation='none');\n",
    "    ax_q.set_title('Quality factor', fontsize = 10)\n",
    "    fig_bf.colorbar(img_q, ax = ax_q)   \n",
    "\n",
    "    ax_f = plt.subplot(2, 3, 5)\n",
    "    img_f = ax_f.imshow(frequency_map, cmap=px.plot_utils.cmap_jet_white_center(), \n",
    "                          origin='upper', interpolation='none');\n",
    "    ax_f.set_title('Resonance frequency [kHz]', fontsize = 10)\n",
    "    fig_bf.colorbar(img_f, ax = ax_f) \n",
    "\n",
    "    ax_h = plt.subplot(2, 3, 6)\n",
    "    ax_h.plot(bias_mat[:,0:num_loops//2], mixed_mat_h[row, col, :, 0:num_loops//2],'-.', marker ='*')\n",
    "    ax_h.plot(bias_mat[:,num_loops_h:num_loops], mixed_mat_h[row, col, :, num_loops_h:num_loops],'.-')\n",
    "    ax_h.set_ylabel('Response [a.u.]')\n",
    "    ax_h.set_xlabel('Write voltage [V]')\n",
    "    ax_h.set_title('x = '+str(col)+' y = '+str(row), fontsize = 10)\n",
    "    \n",
    "    \n",
    "    fig_bf.suptitle('Step# = '+str(dc_step_write)+', cycle# = '+str(cycle)\n",
    "                    +', V$_{write}$ = '+str(bias_mat[dc_step_write, 0]) +' V'\n",
    "                   , fontsize = 12);\n",
    "    \n",
    "\n",
    "    fig_bf.tight_layout()\n",
    "    \n",
    "    plt.subplots_adjust(top = 0.9)\n",
    "\n",
    "make_figure_beps_forc(amp_map, phase_map, mixed_map, Q_map, frequency_map, mixed_mat_h, col, row, cycle, dc_step_write)\n",
    "    \n",
    "def update_beps_forc_plot(dc_step_write, cycle, col, row):\n",
    "       \n",
    "    amp_map = sho_dset_collapsed[:, :, dc_step_write, cycle]['Amplitude [V]']*1000\n",
    "    phase_map = sho_dset_collapsed[:, :, dc_step_write, cycle]['Phase [rad]']\n",
    "    frequency_map = sho_dset_collapsed[:, :, dc_step_write, cycle]['Frequency [Hz]']/1000\n",
    "    Q_map = sho_dset_collapsed[:, :, dc_step_write, cycle]['Quality Factor']\n",
    "    mixed_map = amp_map*np.cos(phase_map)\n",
    "    mixed_mat_h = sho_dset_collapsed[:, :, :, :]['Amplitude [V]'] * np.cos(sho_dset_collapsed[:, :, :, :]['Phase [rad]'])*1000\n",
    "\n",
    "    make_figure_beps_forc(amp_map, phase_map, mixed_map, Q_map, frequency_map, mixed_mat_h, col, row, cycle, dc_step_write)\n",
    "\n",
    "num_loops_h =num_loops//2-1\n",
    "\n",
    "dc_step_write_slider_bf = widgets.IntSlider(min = 0, max = num_write_steps-1, step = 1,value = 0,\n",
    "                                        description = 'Write step',continuous_update = False)\n",
    "cycle_slider = widgets.IntSlider(min = 2, max = num_loops-1, step = 1,value = 2,\n",
    "                                          description = 'Cycle', continuous_update = False)\n",
    "x_slider_bf  = widgets.IntSlider(min = 0, max = num_col-1,step = 1,value = 0,\n",
    "                             description='x',continuous_update = False)\n",
    "y_slider_bf  = widgets.IntSlider(min = 0,max = num_row-1,step = 1,value = 0, description = 'y',continuous_update = False)\n",
    "\n",
    "widgets.interact(update_beps_forc_plot, dc_step_write = dc_step_write_slider_bf, cycle = cycle_slider, \n",
    "                 col = x_slider_bf, row = y_slider_bf, **slider_dict); \n",
    "\n",
    "\n",
    "def on_save_button9_clicked(b):\n",
    "    global count\n",
    "    \n",
    "    fig_bf.savefig(output_file_path+'\\SHO_parms'+str(count)+'.png', format='png')\n",
    "    fig_bf.savefig(output_file_path+'\\SHO_parms'+str(count)+'.eps', format='eps')\n",
    "    fig_bf.savefig(output_file_path+'\\SHO_parms'+str(count)+'.tif', format='tif')\n",
    "    count+=1\n",
    "    \n",
    "button9 = widgets.Button(description = 'Save figure')\n",
    "display(button9)\n",
    "button9.on_click(on_save_button9_clicked)"
   ]
  },
  {
   "cell_type": "code",
   "execution_count": null,
   "metadata": {},
   "outputs": [],
   "source": [
    "amp_data = sho_dset_collapsed[:, :, :, :]['Amplitude [V]']*1000\n",
    "phase_data = sho_dset_collapsed[:, :, :, :]['Phase [rad]']\n",
    "\n",
    "amp_mean1 = np.nanmean(amp_data, axis = 0)\n",
    "amp_mean = np.nanmean(amp_mean1, axis = 0)\n",
    "\n",
    "phase_mean1 = np.nanmean(phase_data, axis = 0)\n",
    "phase_mean = np.nanmean(phase_mean1, axis = 0)\n",
    "\n",
    "mixed_mat_mean1 = np.nanmean(mixed_mat_h, axis = 0)\n",
    "mixed_mat_mean = np.nanmean(mixed_mat_mean1, axis = 0)\n",
    "\n",
    "fig_loops = plt.figure(figsize=(16,4))\n",
    "fig_loops.clf()\n",
    "fig_loops.set_facecolor('white')  \n",
    "\n",
    "ax_mixed = plt.subplot(1, 3, 1)\n",
    "img_a = ax_mixed.plot(bias_mat[:, 2:4], mixed_mat_mean[:, 2:4],'.-');\n",
    "ax_mixed.set_xlabel('DC voltage [V]', fontsize = 12)\n",
    "ax_mixed.set_ylabel('Mixed response [a.u.]', fontsize = 12)\n",
    "\n",
    "ax_phase = plt.subplot(1, 3, 2)\n",
    "img_c = ax_phase.plot(bias_mat[:,2:4], phase_mean[:, 2:4],'.-');\n",
    "ax_phase.set_xlabel('DC voltage [V]', fontsize = 12)\n",
    "ax_phase.set_ylabel('Phase [rad]', fontsize = 12)\n",
    "\n",
    "ax_amp = plt.subplot(1, 3, 3)\n",
    "img_b = ax_amp.plot(bias_mat[:,2:4], amp_mean[:,2:4],'.-');\n",
    "ax_amp.set_xlabel('DC voltage [V]', fontsize = 12)\n",
    "ax_amp.set_ylabel('Amplitude [a.u.]', fontsize = 12)\n",
    "\n",
    "def on_save_button10_clicked(b):\n",
    "    fig_loops.savefig(output_file_path+'\\Loops.png', format='png')\n",
    "    fig_loops.savefig(output_file_path+'\\Loops.eps', format='eps')\n",
    "    fig_loops.savefig(output_file_path+'\\Loops.tif', format='tif')\n",
    "    \n",
    "    \n",
    "button10 = widgets.Button(description = 'Save figure')\n",
    "display(button10)\n",
    "button10.on_click(on_save_button10_clicked)\n"
   ]
  },
  {
   "cell_type": "code",
   "execution_count": null,
   "metadata": {},
   "outputs": [],
   "source": [
    "# PCA on real component\n",
    "\n",
    "from sklearn.utils.extmath import randomized_svd\n",
    "\n",
    "\n",
    "mixed_mat_h[:, :, :, num_loops_h:num_loops]\n",
    "\n",
    "# resp_mat_0Vr = np.reshape(resp_mat_0Vr,(num_row*num_col, num_write_steps))\n",
    "# U_SVD_resp0Vr, S_SVD_resp0Vr, V_SVD_resp0Vr = randomized_svd(resp_mat_0Vr, n_components = num_components)"
   ]
  },
  {
   "cell_type": "code",
   "execution_count": null,
   "metadata": {},
   "outputs": [],
   "source": [
    "from matplotlib.widgets import Cursor\n",
    "import numpy as np\n",
    "import matplotlib.pyplot as plt\n",
    "\n",
    "\n",
    "fig = plt.figure(figsize=(8, 6))\n",
    "ax = fig.add_subplot(111)\n",
    "\n",
    "x, y = 4*(np.random.rand(2, 100) - .5)\n",
    "ax.plot(x, y, 'o')\n",
    "ax.set_xlim(-2, 2)\n",
    "ax.set_ylim(-2, 2)\n",
    "\n",
    "# set useblit = True on gtkagg for enhanced performance\n",
    "cursor = Cursor(ax, useblit=True, color='red', linewidth=2)\n",
    "\n",
    "plt.show()"
   ]
  },
  {
   "cell_type": "markdown",
   "metadata": {},
   "source": [
    "## Visualize the SHO results of BEline, BEPS and FORC data\n",
    "Here, we visualize the parameters for the SHO fits. BE-line (3D) data is visualized via simple spatial maps of the SHO parameters while more complex BEPS datasets (4+ dimensions) can be visualized using a simple interactive visualizer below. \n",
    "\n",
    "You can choose to visualize the guesses for SHO function or the final fit values from the first line of the cell below.\n",
    "\n",
    "Use the sliders below to inspect the BE response at any given location. "
   ]
  },
  {
   "cell_type": "code",
   "execution_count": null,
   "metadata": {
    "scrolled": false
   },
   "outputs": [],
   "source": [
    "use_sho_guess = False\n",
    "use_static_viz_func = False\n",
    "\n",
    "if use_sho_guess:\n",
    "    sho_dset = h5_sho_guess\n",
    "else:\n",
    "    sho_dset = h5_sho_fit\n",
    "\n",
    "if hdf.file.attrs['data_type'] == 'BELineData' or len(pos_dims) != 2:\n",
    "    use_static_viz_func = True\n",
    "    step_chan = None\n",
    "else:\n",
    "    if h5_main.parent.parent.attrs['VS_mode'] not in ['AC modulation mode with time reversal', \n",
    "                                                      'DC modulation mode']:\n",
    "        use_static_viz_func = True\n",
    "    else:\n",
    "        if h5_main.parent.parent.attrs['VS_mode'] == 'DC modulation mode':\n",
    "            step_chan = 'DC_Offset'\n",
    "        else:\n",
    "            step_chan = 'AC_Amplitude'\n",
    "if not use_static_viz_func:\n",
    "    try:\n",
    "        # use interactive visualization\n",
    "        px.be_viz_utils.jupyter_visualize_beps_sho(sho_dset, step_chan)\n",
    "    except:\n",
    "        print('There was a problem with the interactive visualizer')\n",
    "        use_static_viz_func = True\n",
    "if use_static_viz_func:\n",
    "    # show plots of SHO results vs. applied bias\n",
    "    px.be_viz_utils.visualize_sho_results(sho_dset, show_plots=True, \n",
    "                                        save_plots=False)"
   ]
  },
  {
   "cell_type": "code",
   "execution_count": null,
   "metadata": {},
   "outputs": [],
   "source": [
    "h5_sho_dset = sho_dset\n",
    "resp_func = None\n",
    "guess_3d_data, success = px.io.hdf_utils.reshape_to_Ndims(h5_sho_dset)\n",
    "\n",
    "h5_sho_spec_inds = px.io.hdf_utils.getAuxData(h5_sho_dset, 'Spectroscopic_Indices')[0]\n",
    "h5_sho_spec_vals = px.io.hdf_utils.getAuxData(h5_sho_dset, 'Spectroscopic_Values')[0]\n",
    "spec_nd, _ = px.io.hdf_utils.reshape_to_Ndims(h5_sho_spec_inds, h5_spec=h5_sho_spec_inds)\n",
    "# sho_spec_sort = get_sort_order(h5_sho_spec_inds)\n",
    "sho_spec_dims = np.array(spec_nd.shape[1:])\n",
    "sho_spec_labels = h5_sho_spec_inds.attrs['labels']\n",
    "\n",
    "h5_pos_inds = px.io.hdf_utils.getAuxData(h5_sho_dset, auxDataName='Position_Indices')[-1]\n",
    "pos_nd, _ = px.io.hdf_utils.reshape_to_Ndims(h5_pos_inds, h5_pos=h5_pos_inds)\n",
    "print(pos_nd.shape)\n",
    "pos_dims = list(pos_nd.shape[:h5_pos_inds.shape[1]])\n",
    "print(pos_dims)\n",
    "pos_labels = h5_pos_inds.attrs['labels']\n",
    "print(pos_labels)\n",
    "\n",
    "# reshape to X, Y, step, all others\n",
    "spec_step_dim_ind = np.argwhere(sho_spec_labels == step_chan)[0][0]\n",
    "step_dim_ind = len(pos_dims) + spec_step_dim_ind\n",
    "\n",
    "# move the step dimension to be the first after all position dimensions\n",
    "rest_sho_dim_order = list(range(len(pos_dims), len(guess_3d_data.shape)))\n",
    "rest_sho_dim_order.remove(step_dim_ind)\n",
    "new_order = list(range(len(pos_dims))) + [step_dim_ind] + rest_sho_dim_order\n",
    "\n",
    "# Transpose the 3D dataset to this shape:\n",
    "sho_guess_Nd_1 = np.transpose(guess_3d_data, new_order)\n",
    "\n",
    "# Now move the step dimension to the front for the spec labels as well\n",
    "new_spec_order = list(range(len(sho_spec_labels)))\n",
    "new_spec_order.remove(spec_step_dim_ind)\n",
    "new_spec_order = [spec_step_dim_ind] + new_spec_order\n",
    "\n",
    "# new_spec_labels = sho_spec_labels[new_spec_order]\n",
    "new_spec_dims = np.array(sho_spec_dims)[new_spec_order]\n",
    "\n",
    "# Now collapse all additional dimensions\n",
    "final_guess_shape = pos_dims + [new_spec_dims[0]] + [-1]\n",
    "sho_dset_collapsed = np.reshape(sho_guess_Nd_1, final_guess_shape)\n",
    "\n",
    "# Get the bias matrix:\n",
    "bias_mat, _ = px.io.hdf_utils.reshape_to_Ndims(h5_sho_spec_vals, h5_spec=h5_sho_spec_inds)\n",
    "bias_mat = np.transpose(bias_mat[spec_step_dim_ind], new_spec_order).reshape(sho_dset_collapsed.shape[len(pos_dims):])\n",
    "\n",
    "# This is just the visualizer:\n",
    "sho_quantity = 'Amplitude [V]'\n",
    "step_ind = 0\n",
    "row_ind = 1\n",
    "col_ind = 1\n",
    "\n",
    "def dc_spectroscopy_func(resp_vec):\n",
    "    return resp_vec['Amplitude [V]'] * np.cos(resp_vec['Phase [rad]']) * 1E+3\n",
    "\n",
    "def ac_spectroscopy_func(resp_vec):\n",
    "    return resp_vec['Amplitude [V]']\n",
    "\n",
    "if resp_func is None:\n",
    "    if step_chan == 'DC_Offset':\n",
    "        resp_func = dc_spectroscopy_func\n",
    "        resp_label = 'A cos($\\phi$) (a. u.)'\n",
    "    else:\n",
    "        resp_func = ac_spectroscopy_func\n",
    "        resp_label = 'Amplitude (a. u.)'\n",
    "\n",
    "spatial_map = sho_dset_collapsed[:, :, step_ind, 0][sho_quantity]\n",
    "resp_vec = sho_dset_collapsed[row_ind, col_ind, :, :]\n",
    "resp_vec = resp_func(resp_vec)"
   ]
  },
  {
   "cell_type": "markdown",
   "metadata": {},
   "source": [
    "## Fit loops to a function\n",
    "This is applicable only to DC voltage spectroscopy datasets from BEPS. The PFM hysteresis loops in this dataset will be projected to maximize the loop area and then fitted to a function.\n",
    "\n",
    "Note: This computation generally takes a while for reasonably sized datasets."
   ]
  },
  {
   "cell_type": "code",
   "execution_count": null,
   "metadata": {},
   "outputs": [],
   "source": [
    "# Do the Loop Fitting on the SHO Fit dataset\n",
    "loop_success = False\n",
    "h5_loop_group = px.hdf_utils.findH5group(h5_sho_fit, 'Loop_Fit')\n",
    "if len(h5_loop_group) == 0:\n",
    "    try:\n",
    "        loop_fitter = px.BELoopModel(h5_sho_fit, variables=['read_bias'], parallel=True)\n",
    "        print('No loop fits found. Fitting now....')\n",
    "        h5_loop_guess = loop_fitter.do_guess(processors=max_cores, max_mem=max_mem)\n",
    "        h5_loop_fit = loop_fitter.do_fit(processors=max_cores, max_mem=max_mem)\n",
    "        loop_success = True\n",
    "    except ValueError:\n",
    "        print('Loop fitting is applicable only to DC spectroscopy datasets!')\n",
    "        raise\n",
    "else:\n",
    "    loop_success = True\n",
    "    print('Taking previously computed loop fits')\n",
    "    h5_loop_guess = h5_loop_group[-1]['Guess']\n",
    "    h5_loop_fit = h5_loop_group[-1]['Fit']"
   ]
  },
  {
   "cell_type": "markdown",
   "metadata": {},
   "source": [
    "## Prepare datasets for visualization"
   ]
  },
  {
   "cell_type": "code",
   "execution_count": null,
   "metadata": {},
   "outputs": [],
   "source": [
    "# Prepare some variables for plotting loops fits and guesses\n",
    "# Plot the Loop Guess and Fit Results\n",
    "if loop_success:\n",
    "    h5_projected_loops = h5_loop_guess.parent['Projected_Loops']\n",
    "    h5_proj_spec_inds = px.hdf_utils.getAuxData(h5_projected_loops, \n",
    "                                                auxDataName='Spectroscopic_Indices')[-1]\n",
    "    h5_proj_spec_vals = px.hdf_utils.getAuxData(h5_projected_loops, \n",
    "                                                auxDataName='Spectroscopic_Values')[-1]\n",
    "\n",
    "    # reshape the vdc_vec into DC_step by Loop\n",
    "    sort_order = px.hdf_utils.get_sort_order(h5_proj_spec_inds)\n",
    "    dims = px.hdf_utils.get_dimensionality(h5_proj_spec_inds[()], \n",
    "                                           sort_order[::-1])\n",
    "    vdc_vec = np.reshape(h5_proj_spec_vals[h5_proj_spec_vals.attrs['read_bias']], dims).T\n",
    "\n",
    "    #Also reshape the projected loops to Positions-DC_Step-Loop\n",
    "    # Also reshape the projected loops to Positions-DC_Step-Loop\n",
    "    proj_nd, _ = px.hdf_utils.reshape_to_Ndims(h5_projected_loops)\n",
    "    proj_3d = np.reshape(proj_nd, [h5_projected_loops.shape[0], \n",
    "                                   proj_nd.shape[2], -1])"
   ]
  },
  {
   "cell_type": "markdown",
   "metadata": {},
   "source": [
    "## Visualize Loop fits"
   ]
  },
  {
   "cell_type": "code",
   "execution_count": null,
   "metadata": {},
   "outputs": [],
   "source": [
    "use_static_plots = False\n",
    "if loop_success:\n",
    "    if not use_static_plots:\n",
    "        try:\n",
    "            px.be_viz_utils.jupyter_visualize_beps_loops(h5_projected_loops, h5_loop_guess, h5_loop_fit)\n",
    "        except:\n",
    "            print('There was a problem with the interactive visualizer')\n",
    "            use_static_plots = True\n",
    "    if use_static_plots:\n",
    "        for iloop in range(h5_loop_guess.shape[1]):\n",
    "            fig, ax = px.be_viz_utils.plot_loop_guess_fit(vdc_vec[:, iloop], proj_3d[:, :, iloop], \n",
    "                                          h5_loop_guess[:, iloop], h5_loop_fit[:, iloop],\n",
    "                                          title='Loop {} - All Positions'.format(iloop))"
   ]
  },
  {
   "cell_type": "markdown",
   "metadata": {},
   "source": [
    "## Save and close\n",
    "* Save the .h5 file that we are working on by closing it. <br>\n",
    "* Also, consider exporting this notebook as a notebook or an html file. <br> To do this, go to File >> Download as >> HTML\n",
    "* Finally consider saving this notebook if necessary"
   ]
  },
  {
   "cell_type": "code",
   "execution_count": null,
   "metadata": {},
   "outputs": [],
   "source": [
    "hdf.close()"
   ]
  }
 ],
 "metadata": {
  "anaconda-cloud": {},
  "kernelspec": {
   "display_name": "Python 3",
   "language": "python",
   "name": "python3"
  },
  "language_info": {
   "codemirror_mode": {
    "name": "ipython",
    "version": 3
   },
   "file_extension": ".py",
   "mimetype": "text/x-python",
   "name": "python",
   "nbconvert_exporter": "python",
   "pygments_lexer": "ipython3",
   "version": "3.7.3"
  },
  "widgets": {
   "state": {
    "004b75b3c0a9453ca262e88bcffe6320": {
     "views": [
      {
       "cell_index": 32
      }
     ]
    },
    "013ef43338834ac39d1f55e0551f215f": {
     "views": [
      {
       "cell_index": 20
      }
     ]
    },
    "03731bbe4e7d465c87b35c0b214a490b": {
     "views": [
      {
       "cell_index": 20
      }
     ]
    },
    "0c2522aad7044463a20d86643b11210c": {
     "views": [
      {
       "cell_index": 22
      }
     ]
    },
    "0da6103db52140148c92ce3ec3c92ea7": {
     "views": [
      {
       "cell_index": 34
      }
     ]
    },
    "0df0b276e40145aeab5e3202f50e2b9a": {
     "views": [
      {
       "cell_index": 22
      }
     ]
    },
    "0f2d2083cd374bd7b06ffd7cf3dc7c79": {
     "views": [
      {
       "cell_index": 22
      }
     ]
    },
    "0fba4a2efa3f4c0cacd61f7949b828d0": {
     "views": [
      {
       "cell_index": 48
      }
     ]
    },
    "106ba6b9a2894013ad1ff2fa2aa47685": {
     "views": [
      {
       "cell_index": 20
      }
     ]
    },
    "1091c7898b69459f82d77f44c0dbe692": {
     "views": [
      {
       "cell_index": 27
      }
     ]
    },
    "1245a5ae807749d8affe00b6e8a06815": {
     "views": [
      {
       "cell_index": 22
      }
     ]
    },
    "16c05b12e4384404a5bff00c8f070e82": {
     "views": [
      {
       "cell_index": 22
      }
     ]
    },
    "18390a7af99d4e4490908f7f8e2ccb64": {
     "views": [
      {
       "cell_index": 22
      }
     ]
    },
    "1887b799056c41ddb614014b0b6b3052": {
     "views": [
      {
       "cell_index": 20
      }
     ]
    },
    "1b168bdf1dfc4e029a7bcdfaf5287d9e": {
     "views": [
      {
       "cell_index": 26
      }
     ]
    },
    "1c8b17397e97460a912c240618cce55b": {
     "views": [
      {
       "cell_index": 22
      }
     ]
    },
    "1e3a3abddfd44d44b3d8b35f614e4f6d": {
     "views": [
      {
       "cell_index": 22
      }
     ]
    },
    "1eff84f3a0644385a260536c132b5350": {
     "views": [
      {
       "cell_index": 20
      }
     ]
    },
    "1f3b6953cd83422ba4536fda5217fb0f": {
     "views": [
      {
       "cell_index": 22
      }
     ]
    },
    "1f57be14625349f88520479895455a09": {
     "views": [
      {
       "cell_index": 20
      }
     ]
    },
    "1fb9b7b1b1fe435aa6cd66e8ce7fc873": {
     "views": [
      {
       "cell_index": 22
      }
     ]
    },
    "200ee1d6a3604138b8ab81673c6d2437": {
     "views": [
      {
       "cell_index": 20
      }
     ]
    },
    "229081689cac459288eb97c2402e4647": {
     "views": [
      {
       "cell_index": 22
      }
     ]
    },
    "2333ee6e2b3041c1b14c4839f213a35f": {
     "views": [
      {
       "cell_index": 34
      }
     ]
    },
    "24683f19881944aa9e159aa3cd212b26": {
     "views": [
      {
       "cell_index": 22
      }
     ]
    },
    "252296babdb140b9822e152a621d3c6f": {
     "views": [
      {
       "cell_index": 20
      }
     ]
    },
    "253c6da489d24de9b9e9c3f57c834f8e": {
     "views": [
      {
       "cell_index": 22
      }
     ]
    },
    "27cec2a4bcf1481ab5fa76546685d313": {
     "views": [
      {
       "cell_index": 22
      }
     ]
    },
    "27ea4625d1264657abf1335f10309d48": {
     "views": [
      {
       "cell_index": 22
      }
     ]
    },
    "2a5f6a0c370e491f805769f82b16f1f5": {
     "views": [
      {
       "cell_index": 22
      }
     ]
    },
    "2c326a8d9c014475bb08a96f2d48ec6b": {
     "views": [
      {
       "cell_index": 20
      }
     ]
    },
    "2d978ede735d4a008c6d6939e7af0d34": {
     "views": [
      {
       "cell_index": 20
      }
     ]
    },
    "2eba2773d5a3439bab45d7c75633b80a": {
     "views": [
      {
       "cell_index": 22
      }
     ]
    },
    "2f08fd75283d4c9bbbb2f585c18c2b84": {
     "views": [
      {
       "cell_index": 22
      }
     ]
    },
    "2f5edd3f8d164672b6253acd481bab5c": {
     "views": [
      {
       "cell_index": 22
      }
     ]
    },
    "2fd188ee4d81451797c14a58f6d70013": {
     "views": [
      {
       "cell_index": 22
      }
     ]
    },
    "3226cf4e6c214735a3319a94b62452d9": {
     "views": [
      {
       "cell_index": 20
      }
     ]
    },
    "32c72b404c3540c3b9ee8321eb549227": {
     "views": [
      {
       "cell_index": 22
      }
     ]
    },
    "334527a619684c94ac23c0bb3927e7e2": {
     "views": [
      {
       "cell_index": 20
      }
     ]
    },
    "33c2a2056b4a48a2b4caf5416d6c15de": {
     "views": [
      {
       "cell_index": 22
      }
     ]
    },
    "3a11fd566d1243f88c7a1d9f9568346e": {
     "views": [
      {
       "cell_index": 22
      }
     ]
    },
    "3c2e566d0c5047c9bbb376a386566811": {
     "views": [
      {
       "cell_index": 20
      }
     ]
    },
    "3c6531bf8739465b9e278aa147b8bce0": {
     "views": [
      {
       "cell_index": 22
      }
     ]
    },
    "3c6b79158906476ba2ae69eb3626ef29": {
     "views": [
      {
       "cell_index": 20
      }
     ]
    },
    "3cd3856d1bec4cbca42bfdb385eac13b": {
     "views": [
      {
       "cell_index": 22
      }
     ]
    },
    "3ea78f55d0c24b39a8604fc5ae7fc470": {
     "views": [
      {
       "cell_index": 22
      }
     ]
    },
    "3fa3e0756a0a4858a044c50eb96655a4": {
     "views": [
      {
       "cell_index": 22
      }
     ]
    },
    "3fd4c31c30104f54bd0e36b599f1b0d7": {
     "views": [
      {
       "cell_index": 20
      }
     ]
    },
    "426f6d47a8b84e7ca4babb28232f785c": {
     "views": [
      {
       "cell_index": 27
      }
     ]
    },
    "441862466c3542d9b8614d285acc2d89": {
     "views": [
      {
       "cell_index": 33
      }
     ]
    },
    "4440c4795e124ebbbc97d48d20082a4b": {
     "views": [
      {
       "cell_index": 22
      }
     ]
    },
    "45d76a9ccb5341f58a4e940b81d72ad6": {
     "views": [
      {
       "cell_index": 22
      }
     ]
    },
    "466cf44264604b1ca750ddf1212e2ee8": {
     "views": [
      {
       "cell_index": 34
      }
     ]
    },
    "47667b6638864a2387eab723e4872a8b": {
     "views": [
      {
       "cell_index": 50
      }
     ]
    },
    "48db59f08e0e47859b0ee0edebed06b5": {
     "views": [
      {
       "cell_index": 22
      }
     ]
    },
    "49e68a65d3c34a8aa0858798e5116098": {
     "views": [
      {
       "cell_index": 22
      }
     ]
    },
    "4a08b03856224646ae6fc06386762f7d": {
     "views": [
      {
       "cell_index": 20
      }
     ]
    },
    "4b0eeeae2b384f59b72c7ec06f9c471a": {
     "views": [
      {
       "cell_index": 20
      }
     ]
    },
    "4c80135c71cf499fbc2be1eb7b3039ca": {
     "views": [
      {
       "cell_index": 22
      }
     ]
    },
    "4e34b568636f48ca8da39e6023d7b946": {
     "views": [
      {
       "cell_index": 20
      }
     ]
    },
    "50a8632de0c94ca981418a62c43b229d": {
     "views": [
      {
       "cell_index": 22
      }
     ]
    },
    "518ad177ac774c97b1bf788dfa362e87": {
     "views": [
      {
       "cell_index": 22
      }
     ]
    },
    "52e1cd22d4cc46f78b1bdb199b30b32e": {
     "views": [
      {
       "cell_index": 22
      }
     ]
    },
    "55545d47ba384198aad1cd7808448c7f": {
     "views": [
      {
       "cell_index": 22
      }
     ]
    },
    "57516f91b20b4797a77235b67e315d07": {
     "views": [
      {
       "cell_index": 22
      }
     ]
    },
    "5759b7e6994a44219ce213e406eb7982": {
     "views": [
      {
       "cell_index": 22
      }
     ]
    },
    "58548d5bb6e041da91fc1e34d67497c8": {
     "views": [
      {
       "cell_index": 24
      }
     ]
    },
    "59b02714a16e4aea94a8831867dff71e": {
     "views": [
      {
       "cell_index": 22
      }
     ]
    },
    "5a2a9080cd404793a247ef01c74a890a": {
     "views": [
      {
       "cell_index": 22
      }
     ]
    },
    "5a5f2318950d49978dec3511cb4b00dc": {
     "views": [
      {
       "cell_index": 22
      }
     ]
    },
    "5adc30a3eb994a6493a249a223ee3eaa": {
     "views": [
      {
       "cell_index": 28
      }
     ]
    },
    "5da98c3f88a9498d9bb77f208323c6fa": {
     "views": [
      {
       "cell_index": 33
      }
     ]
    },
    "5f140d874f0a4c7f86ccbb9d8f181f87": {
     "views": [
      {
       "cell_index": 22
      }
     ]
    },
    "5fcdc1b98d9a46b3b3698348ff309f76": {
     "views": [
      {
       "cell_index": 20
      }
     ]
    },
    "601a1d573ef54f3da0207940088436fc": {
     "views": [
      {
       "cell_index": 22
      }
     ]
    },
    "61923f2aa2014259ae563b97a8f030ba": {
     "views": [
      {
       "cell_index": 22
      }
     ]
    },
    "6215fec2288b4f8d908226db6f432b9f": {
     "views": [
      {
       "cell_index": 22
      }
     ]
    },
    "62705169cbc74b3eab7f8c50ea8c52fe": {
     "views": [
      {
       "cell_index": 20
      }
     ]
    },
    "640653936f65487988404f6d426da533": {
     "views": [
      {
       "cell_index": 20
      }
     ]
    },
    "6479f5cb4cf04daca716b0df1e643186": {
     "views": [
      {
       "cell_index": 22
      }
     ]
    },
    "6781d0b6a8e84ab691cd021175acefb3": {
     "views": [
      {
       "cell_index": 22
      }
     ]
    },
    "6820c0bb148c4cf9b2b3e2babf9d4876": {
     "views": [
      {
       "cell_index": 22
      }
     ]
    },
    "6a30ab4b402849a19a5ab69a0425d99f": {
     "views": [
      {
       "cell_index": 22
      }
     ]
    },
    "6a829084d30c43a990cf429ef467c5f5": {
     "views": [
      {
       "cell_index": 20
      }
     ]
    },
    "6aedfc25a0194d0ba4aa69bef246298c": {
     "views": [
      {
       "cell_index": 36
      }
     ]
    },
    "6b977337480340bea29cb7393cc86adf": {
     "views": [
      {
       "cell_index": 26
      }
     ]
    },
    "6f1267616b1442808bc8e28eaf990b9a": {
     "views": [
      {
       "cell_index": 22
      }
     ]
    },
    "745d38ec65f444e08b73f49bb4d5f19d": {
     "views": [
      {
       "cell_index": 12
      }
     ]
    },
    "75db983b508b44608fec25c6217f85f8": {
     "views": [
      {
       "cell_index": 22
      }
     ]
    },
    "76f8e33e84b24376891f86fce56e610b": {
     "views": [
      {
       "cell_index": 27
      }
     ]
    },
    "772c140a0c2040b4a21bde7f61617789": {
     "views": [
      {
       "cell_index": 22
      }
     ]
    },
    "78860c1ca5ba4daf8c1f8aa9cdf9886d": {
     "views": [
      {
       "cell_index": 22
      }
     ]
    },
    "78955f0364994a3c971afd1863a05b3a": {
     "views": [
      {
       "cell_index": 22
      }
     ]
    },
    "7cc6aa3950504a1abb7bb1fdaed4e8b4": {
     "views": [
      {
       "cell_index": 20
      }
     ]
    },
    "7dd37cbc0bb34505b9b8997ac8602da9": {
     "views": [
      {
       "cell_index": 34
      }
     ]
    },
    "81ea2b5c960741218ce783af9cc518b9": {
     "views": [
      {
       "cell_index": 22
      }
     ]
    },
    "8285c6714ca041f1a2294d40f8a744b5": {
     "views": [
      {
       "cell_index": 22
      }
     ]
    },
    "83148171a8254f2bba18f2825784d5cb": {
     "views": [
      {
       "cell_index": 30
      }
     ]
    },
    "835480b7080f4c739c41cf4d5ed2fc2c": {
     "views": [
      {
       "cell_index": 22
      }
     ]
    },
    "84f40717e9c649e5bbabaa85cf0ae263": {
     "views": [
      {
       "cell_index": 22
      }
     ]
    },
    "84f62ae372fd4442b5b1f43807e1f31c": {
     "views": [
      {
       "cell_index": 20
      }
     ]
    },
    "870b7b8a3fa24a4ba6d94d618fa3f3e3": {
     "views": [
      {
       "cell_index": 22
      }
     ]
    },
    "8719d35335554d098f37003a3e4d7266": {
     "views": [
      {
       "cell_index": 22
      }
     ]
    },
    "87f7c00bc4e24d46aa9e7d168574f79e": {
     "views": [
      {
       "cell_index": 20
      }
     ]
    },
    "8b0ef9eac4e24702b6f2fd4a94810f56": {
     "views": [
      {
       "cell_index": 27
      }
     ]
    },
    "8c0f848a076a41d89ccb59d04113fde2": {
     "views": [
      {
       "cell_index": 22
      }
     ]
    },
    "8cbe81dbfe0042aab68990f5f727e57f": {
     "views": [
      {
       "cell_index": 32
      }
     ]
    },
    "8ea4ba4cfd1c44c085b929fda24c9b3c": {
     "views": [
      {
       "cell_index": 22
      }
     ]
    },
    "8f637079f4eb44ed93e69a76ad7c8446": {
     "views": [
      {
       "cell_index": 22
      }
     ]
    },
    "8fd6b3062f27485d85b170e5dc493bd1": {
     "views": [
      {
       "cell_index": 20
      }
     ]
    },
    "90fc2cd4bc5a4bc9933eefe6eade6d73": {
     "views": [
      {
       "cell_index": 20
      }
     ]
    },
    "936a08daf35148fb9fd86dad1e54ad70": {
     "views": [
      {
       "cell_index": 20
      }
     ]
    },
    "943beb03286741f4ada739f7d3bfbf8f": {
     "views": [
      {
       "cell_index": 27
      }
     ]
    },
    "96323125acc0426281e0a3d62847dd46": {
     "views": [
      {
       "cell_index": 20
      }
     ]
    },
    "9710a09cec7c42ad89a94d5eb3458949": {
     "views": [
      {
       "cell_index": 22
      }
     ]
    },
    "9985eed09f37449fa1f1c8f245f4085f": {
     "views": [
      {
       "cell_index": 22
      }
     ]
    },
    "9a77a5c0079d42c5b2ccde0034423cad": {
     "views": [
      {
       "cell_index": 22
      }
     ]
    },
    "9abef5c8b2d54b7cbe1f7a6b71949bd9": {
     "views": [
      {
       "cell_index": 22
      }
     ]
    },
    "9b35d7483a93479da1b9f36593b7d564": {
     "views": [
      {
       "cell_index": 34
      }
     ]
    },
    "9f98b4f217ca4e68b9629b09bb30709d": {
     "views": [
      {
       "cell_index": 22
      }
     ]
    },
    "a319db55898f48c98a1a41f056b214aa": {
     "views": [
      {
       "cell_index": 22
      }
     ]
    },
    "a4132c170ec7479c8e19f0001aee322c": {
     "views": [
      {
       "cell_index": 22
      }
     ]
    },
    "a6000ebbbd6f42b2821a8e928102e349": {
     "views": [
      {
       "cell_index": 20
      }
     ]
    },
    "a85c126a09884a349ca65e98fdb6a175": {
     "views": [
      {
       "cell_index": 22
      }
     ]
    },
    "a8b860980e2f4c539fe2ecf6609de434": {
     "views": [
      {
       "cell_index": 20
      }
     ]
    },
    "aa32b3e3313e494899ce0e0d6d64c161": {
     "views": [
      {
       "cell_index": 22
      }
     ]
    },
    "ab22b74afdb246b5bf31c5d0d2c24eae": {
     "views": [
      {
       "cell_index": 22
      }
     ]
    },
    "ad5a9688818140fcb5d11d72e8448197": {
     "views": [
      {
       "cell_index": 20
      }
     ]
    },
    "ad888acb36d849bd9cecf53e7af0b263": {
     "views": [
      {
       "cell_index": 22
      }
     ]
    },
    "afbd23209f284c1e9f47a9925617b1e4": {
     "views": [
      {
       "cell_index": 22
      }
     ]
    },
    "b018aeb25f774f3e84edd16671e7448d": {
     "views": [
      {
       "cell_index": 19
      }
     ]
    },
    "b1dd9ef912ab40e4939dbbc8296d99df": {
     "views": [
      {
       "cell_index": 22
      }
     ]
    },
    "b2e873efb17d456b9e88099444f8c49d": {
     "views": [
      {
       "cell_index": 22
      }
     ]
    },
    "b3a3132aa5904950953e77668be69239": {
     "views": [
      {
       "cell_index": 20
      }
     ]
    },
    "b587b62ed2674093ac7547c28322dade": {
     "views": [
      {
       "cell_index": 22
      }
     ]
    },
    "b7aff4785f1a48919c6202e28194cd8a": {
     "views": [
      {
       "cell_index": 22
      }
     ]
    },
    "b7b4e90ac1c946f0b2a0a1a3944e3a72": {
     "views": [
      {
       "cell_index": 20
      }
     ]
    },
    "bae378b5ee894a82b3d0a01cd6226292": {
     "views": [
      {
       "cell_index": 26
      }
     ]
    },
    "c0818ccd1f224489b76a8e384050e05d": {
     "views": [
      {
       "cell_index": 22
      }
     ]
    },
    "c140980fff33438295f215f4a14bf1a0": {
     "views": [
      {
       "cell_index": 33
      }
     ]
    },
    "c1ae6f91f28a4979adc60164ae3c23a9": {
     "views": [
      {
       "cell_index": 20
      }
     ]
    },
    "c4bf1a0b9f5c4ae385c4f29ca2500930": {
     "views": [
      {
       "cell_index": 20
      }
     ]
    },
    "c53ed2724b494dd49705edd102548e1e": {
     "views": [
      {
       "cell_index": 32
      }
     ]
    },
    "ca651c48b785444db4843482c5c0128f": {
     "views": [
      {
       "cell_index": 20
      }
     ]
    },
    "cc8a22026fe94604ab8edf7bfc9d8ea4": {
     "views": [
      {
       "cell_index": 22
      }
     ]
    },
    "ceabcdc115244af88db6b71fb5541653": {
     "views": [
      {
       "cell_index": 36
      }
     ]
    },
    "cf01b46ee4eb47deab9fe18393b056bb": {
     "views": [
      {
       "cell_index": 22
      }
     ]
    },
    "d5624ebebcee48cdadabb67c904e06bb": {
     "views": [
      {
       "cell_index": 22
      }
     ]
    },
    "da7c461ef7014ae2bbf2027f8e096974": {
     "views": [
      {
       "cell_index": 22
      }
     ]
    },
    "daa28c65a80f43c8a73415376bdb4c0f": {
     "views": [
      {
       "cell_index": 22
      }
     ]
    },
    "db4ec01f773e4aafa9cb6f218273d987": {
     "views": [
      {
       "cell_index": 20
      }
     ]
    },
    "ddab1ab606344b008646a203ae843dad": {
     "views": [
      {
       "cell_index": 22
      }
     ]
    },
    "e13e4e9f39184699bb11f8c1cd3cdae4": {
     "views": [
      {
       "cell_index": 52
      }
     ]
    },
    "e1597335a1d44d8eb26e983ac939deeb": {
     "views": [
      {
       "cell_index": 22
      }
     ]
    },
    "e5e52ee5548c4aaf9ba824c4c82916e8": {
     "views": [
      {
       "cell_index": 34
      }
     ]
    },
    "e655206f0ed04bc9aeafb7fef58a3405": {
     "views": [
      {
       "cell_index": 46
      }
     ]
    },
    "e95b6a5beb194275979b5e71c9982243": {
     "views": [
      {
       "cell_index": 33
      }
     ]
    },
    "e9fb83d24e1b4b24b32022998a54c3d7": {
     "views": [
      {
       "cell_index": 22
      }
     ]
    },
    "ec619dc0e5a64620b425b3c7ec149c40": {
     "views": [
      {
       "cell_index": 27
      }
     ]
    },
    "ed220ad67e454d999b2da008a9df9771": {
     "views": [
      {
       "cell_index": 22
      }
     ]
    },
    "ed2ebc25e05246568c1477da2b97bc7a": {
     "views": [
      {
       "cell_index": 22
      }
     ]
    },
    "f0bd4c54c7a34f8fadf2443e6503e908": {
     "views": [
      {
       "cell_index": 22
      }
     ]
    },
    "f11b353d940642c49c91cc64e7b8b87c": {
     "views": [
      {
       "cell_index": 22
      }
     ]
    },
    "f139fa25257b4f0a8f780339d87b8ab3": {
     "views": [
      {
       "cell_index": 33
      }
     ]
    },
    "f1d46b6184c242eb8776b7848f59a233": {
     "views": [
      {
       "cell_index": 20
      }
     ]
    },
    "f776056026424da39823d5d1a90c6c73": {
     "views": [
      {
       "cell_index": 22
      }
     ]
    },
    "f886e32db5a848c680e24bffebf5a248": {
     "views": [
      {
       "cell_index": 20
      }
     ]
    },
    "f8eb0f63bc52416792d963d341e92cac": {
     "views": [
      {
       "cell_index": 22
      }
     ]
    },
    "f93549d3234d437991e3e8ccee7e2aef": {
     "views": [
      {
       "cell_index": 22
      }
     ]
    },
    "fb128ad83d604626b40e13b454e0cb91": {
     "views": [
      {
       "cell_index": 24
      }
     ]
    },
    "fd5503410927484f8e3a79f91701820e": {
     "views": [
      {
       "cell_index": 20
      }
     ]
    },
    "fd7a314013ae4b67b3051732b774dcf6": {
     "views": [
      {
       "cell_index": 44
      }
     ]
    },
    "fe12f66437d94adc95c058e7ab155a6b": {
     "views": [
      {
       "cell_index": 22
      }
     ]
    }
   },
   "version": "1.2.0"
  }
 },
 "nbformat": 4,
 "nbformat_minor": 1
}
