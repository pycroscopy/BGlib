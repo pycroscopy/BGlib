{
  "cells": [
    {
      "cell_type": "markdown",
      "metadata": {
        "id": "CmNnXeBPCw_I"
      },
      "source": [
        "Here we will test out several forms of guess propagation. FOr any spectral fit, we require a prior. How to obtain this prior is always the pertinent question. Typically, curves are treated independently, so neighboring pixel information is not shared. This is wasting valuable information that could help in generating better priors.\n",
        "\n",
        "\n",
        "1.   Random: arbitrary guesses on the coefficients\n",
        "2.   Nearest-neighbor: average the nearest-neighbors such that it becomes the guess for the current selected pixel\n",
        "3.   K-Means clustering: same as (2) but the average of the cluster becomes the guess for the current selected pixel\n",
        "4.   Hierarchical clustering: same as (2) but propagate the fit of cluster means to children\n",
        "\n",
        "More information found in our publication: N Creange et al 2021 *Mach. Learn.: Sci. Technol.* 2 045002\n",
        "\n",
        "Authors: N. Creange, K. Kelley, C. Smith, D. Sando, O. Paul, N. Valanoor, S. Somnath, S. Jesse, S. V. Kalinin, R. K. Vasudevan\n",
        "\n",
        "DOI: 10.13139/ORNLNCCS/1761194\n",
        "\n"
      ]
    },
    {
      "cell_type": "markdown",
      "metadata": {
        "id": "fiMRIjEsEHAZ"
      },
      "source": [
        "# Load packages"
      ]
    },
    {
      "cell_type": "code",
      "execution_count": 2,
      "metadata": {
        "colab": {
          "base_uri": "https://localhost:8080/"
        },
        "id": "ZCdKz_2_Cq9M",
        "outputId": "076a1c19-5707-48e4-d11a-5290fff57d5e"
      },
      "outputs": [
        {
          "output_type": "stream",
          "name": "stdout",
          "text": [
            "Collecting git+https://github.com/pycroscopy/pycroscopy.git\n",
            "  Cloning https://github.com/pycroscopy/pycroscopy.git to /tmp/pip-req-build-p66bihb6\n",
            "  Running command git clone -q https://github.com/pycroscopy/pycroscopy.git /tmp/pip-req-build-p66bihb6\n",
            "Requirement already satisfied: numpy>=1.13.0 in /usr/local/lib/python3.7/dist-packages (from pycroscopy==0.61.0a0) (1.19.5)\n",
            "Requirement already satisfied: scipy>=0.17.1 in /usr/local/lib/python3.7/dist-packages (from pycroscopy==0.61.0a0) (1.4.1)\n",
            "Requirement already satisfied: scikit-image>=0.12.3 in /usr/local/lib/python3.7/dist-packages (from pycroscopy==0.61.0a0) (0.18.3)\n",
            "Requirement already satisfied: scikit-learn>=0.17.1 in /usr/local/lib/python3.7/dist-packages (from pycroscopy==0.61.0a0) (1.0.1)\n",
            "Requirement already satisfied: matplotlib>=2.0.0 in /usr/local/lib/python3.7/dist-packages (from pycroscopy==0.61.0a0) (3.2.2)\n",
            "Requirement already satisfied: torch>=1.0.0 in /usr/local/lib/python3.7/dist-packages (from pycroscopy==0.61.0a0) (1.10.0+cu111)\n",
            "Requirement already satisfied: tensorly>=0.6.0 in /usr/local/lib/python3.7/dist-packages (from pycroscopy==0.61.0a0) (0.7.0)\n",
            "Requirement already satisfied: psutil in /usr/local/lib/python3.7/dist-packages (from pycroscopy==0.61.0a0) (5.4.8)\n",
            "Requirement already satisfied: six in /usr/local/lib/python3.7/dist-packages (from pycroscopy==0.61.0a0) (1.15.0)\n",
            "Requirement already satisfied: pillow in /usr/local/lib/python3.7/dist-packages (from pycroscopy==0.61.0a0) (7.1.2)\n",
            "Requirement already satisfied: joblib>=0.11.0 in /usr/local/lib/python3.7/dist-packages (from pycroscopy==0.61.0a0) (1.1.0)\n",
            "Requirement already satisfied: ipywidgets>=5.2.2 in /usr/local/lib/python3.7/dist-packages (from pycroscopy==0.61.0a0) (7.6.5)\n",
            "Requirement already satisfied: sidpy>=0.0.1 in /usr/local/lib/python3.7/dist-packages (from pycroscopy==0.61.0a0) (0.0.7)\n",
            "Requirement already satisfied: pyUSID>=0.0.8 in /usr/local/lib/python3.7/dist-packages (from pycroscopy==0.61.0a0) (0.0.8.1)\n",
            "Requirement already satisfied: ipython>=6.0 in /usr/local/lib/python3.7/dist-packages (from pycroscopy==0.61.0a0) (7.30.1)\n",
            "Requirement already satisfied: decorator in /usr/local/lib/python3.7/dist-packages (from ipython>=6.0->pycroscopy==0.61.0a0) (4.4.2)\n",
            "Requirement already satisfied: pexpect>4.3 in /usr/local/lib/python3.7/dist-packages (from ipython>=6.0->pycroscopy==0.61.0a0) (4.8.0)\n",
            "Requirement already satisfied: jedi>=0.16 in /usr/local/lib/python3.7/dist-packages (from ipython>=6.0->pycroscopy==0.61.0a0) (0.18.1)\n",
            "Requirement already satisfied: pickleshare in /usr/local/lib/python3.7/dist-packages (from ipython>=6.0->pycroscopy==0.61.0a0) (0.7.5)\n",
            "Requirement already satisfied: traitlets>=4.2 in /usr/local/lib/python3.7/dist-packages (from ipython>=6.0->pycroscopy==0.61.0a0) (5.1.1)\n",
            "Requirement already satisfied: setuptools>=18.5 in /usr/local/lib/python3.7/dist-packages (from ipython>=6.0->pycroscopy==0.61.0a0) (57.4.0)\n",
            "Requirement already satisfied: pygments in /usr/local/lib/python3.7/dist-packages (from ipython>=6.0->pycroscopy==0.61.0a0) (2.6.1)\n",
            "Requirement already satisfied: backcall in /usr/local/lib/python3.7/dist-packages (from ipython>=6.0->pycroscopy==0.61.0a0) (0.2.0)\n",
            "Requirement already satisfied: prompt-toolkit!=3.0.0,!=3.0.1,<3.1.0,>=2.0.0 in /usr/local/lib/python3.7/dist-packages (from ipython>=6.0->pycroscopy==0.61.0a0) (3.0.24)\n",
            "Requirement already satisfied: matplotlib-inline in /usr/local/lib/python3.7/dist-packages (from ipython>=6.0->pycroscopy==0.61.0a0) (0.1.3)\n",
            "Requirement already satisfied: jupyterlab-widgets>=1.0.0 in /usr/local/lib/python3.7/dist-packages (from ipywidgets>=5.2.2->pycroscopy==0.61.0a0) (1.0.2)\n",
            "Requirement already satisfied: widgetsnbextension~=3.5.0 in /usr/local/lib/python3.7/dist-packages (from ipywidgets>=5.2.2->pycroscopy==0.61.0a0) (3.5.2)\n",
            "Requirement already satisfied: ipython-genutils~=0.2.0 in /usr/local/lib/python3.7/dist-packages (from ipywidgets>=5.2.2->pycroscopy==0.61.0a0) (0.2.0)\n",
            "Requirement already satisfied: nbformat>=4.2.0 in /usr/local/lib/python3.7/dist-packages (from ipywidgets>=5.2.2->pycroscopy==0.61.0a0) (5.1.3)\n",
            "Requirement already satisfied: ipykernel>=4.5.1 in /usr/local/lib/python3.7/dist-packages (from ipywidgets>=5.2.2->pycroscopy==0.61.0a0) (4.10.1)\n",
            "Requirement already satisfied: jupyter-client in /usr/local/lib/python3.7/dist-packages (from ipykernel>=4.5.1->ipywidgets>=5.2.2->pycroscopy==0.61.0a0) (5.3.5)\n",
            "Requirement already satisfied: tornado>=4.0 in /usr/local/lib/python3.7/dist-packages (from ipykernel>=4.5.1->ipywidgets>=5.2.2->pycroscopy==0.61.0a0) (5.1.1)\n",
            "Requirement already satisfied: parso<0.9.0,>=0.8.0 in /usr/local/lib/python3.7/dist-packages (from jedi>=0.16->ipython>=6.0->pycroscopy==0.61.0a0) (0.8.3)\n",
            "Requirement already satisfied: kiwisolver>=1.0.1 in /usr/local/lib/python3.7/dist-packages (from matplotlib>=2.0.0->pycroscopy==0.61.0a0) (1.3.2)\n",
            "Requirement already satisfied: cycler>=0.10 in /usr/local/lib/python3.7/dist-packages (from matplotlib>=2.0.0->pycroscopy==0.61.0a0) (0.11.0)\n",
            "Requirement already satisfied: python-dateutil>=2.1 in /usr/local/lib/python3.7/dist-packages (from matplotlib>=2.0.0->pycroscopy==0.61.0a0) (2.8.2)\n",
            "Requirement already satisfied: pyparsing!=2.0.4,!=2.1.2,!=2.1.6,>=2.0.1 in /usr/local/lib/python3.7/dist-packages (from matplotlib>=2.0.0->pycroscopy==0.61.0a0) (3.0.6)\n",
            "Requirement already satisfied: jupyter-core in /usr/local/lib/python3.7/dist-packages (from nbformat>=4.2.0->ipywidgets>=5.2.2->pycroscopy==0.61.0a0) (4.9.1)\n",
            "Requirement already satisfied: jsonschema!=2.5.0,>=2.4 in /usr/local/lib/python3.7/dist-packages (from nbformat>=4.2.0->ipywidgets>=5.2.2->pycroscopy==0.61.0a0) (2.6.0)\n",
            "Requirement already satisfied: ptyprocess>=0.5 in /usr/local/lib/python3.7/dist-packages (from pexpect>4.3->ipython>=6.0->pycroscopy==0.61.0a0) (0.7.0)\n",
            "Requirement already satisfied: wcwidth in /usr/local/lib/python3.7/dist-packages (from prompt-toolkit!=3.0.0,!=3.0.1,<3.1.0,>=2.0.0->ipython>=6.0->pycroscopy==0.61.0a0) (0.2.5)\n",
            "Requirement already satisfied: toolz in /usr/local/lib/python3.7/dist-packages (from pyUSID>=0.0.8->pycroscopy==0.61.0a0) (0.11.2)\n",
            "Requirement already satisfied: dask>=0.10 in /usr/local/lib/python3.7/dist-packages (from pyUSID>=0.0.8->pycroscopy==0.61.0a0) (2021.12.0)\n",
            "Requirement already satisfied: h5py>=2.6.0 in /usr/local/lib/python3.7/dist-packages (from pyUSID>=0.0.8->pycroscopy==0.61.0a0) (3.1.0)\n",
            "Requirement already satisfied: cytoolz in /usr/local/lib/python3.7/dist-packages (from pyUSID>=0.0.8->pycroscopy==0.61.0a0) (0.11.2)\n",
            "Requirement already satisfied: packaging>=20.0 in /usr/local/lib/python3.7/dist-packages (from dask>=0.10->pyUSID>=0.0.8->pycroscopy==0.61.0a0) (21.3)\n",
            "Requirement already satisfied: pyyaml in /usr/local/lib/python3.7/dist-packages (from dask>=0.10->pyUSID>=0.0.8->pycroscopy==0.61.0a0) (3.13)\n",
            "Requirement already satisfied: cloudpickle>=1.1.1 in /usr/local/lib/python3.7/dist-packages (from dask>=0.10->pyUSID>=0.0.8->pycroscopy==0.61.0a0) (2.0.0)\n",
            "Requirement already satisfied: fsspec>=0.6.0 in /usr/local/lib/python3.7/dist-packages (from dask>=0.10->pyUSID>=0.0.8->pycroscopy==0.61.0a0) (2021.11.1)\n",
            "Requirement already satisfied: partd>=0.3.10 in /usr/local/lib/python3.7/dist-packages (from dask>=0.10->pyUSID>=0.0.8->pycroscopy==0.61.0a0) (1.2.0)\n",
            "Requirement already satisfied: cached-property in /usr/local/lib/python3.7/dist-packages (from h5py>=2.6.0->pyUSID>=0.0.8->pycroscopy==0.61.0a0) (1.5.2)\n",
            "Requirement already satisfied: locket in /usr/local/lib/python3.7/dist-packages (from partd>=0.3.10->dask>=0.10->pyUSID>=0.0.8->pycroscopy==0.61.0a0) (0.2.1)\n",
            "Requirement already satisfied: imageio>=2.3.0 in /usr/local/lib/python3.7/dist-packages (from scikit-image>=0.12.3->pycroscopy==0.61.0a0) (2.4.1)\n",
            "Requirement already satisfied: networkx>=2.0 in /usr/local/lib/python3.7/dist-packages (from scikit-image>=0.12.3->pycroscopy==0.61.0a0) (2.6.3)\n",
            "Requirement already satisfied: tifffile>=2019.7.26 in /usr/local/lib/python3.7/dist-packages (from scikit-image>=0.12.3->pycroscopy==0.61.0a0) (2021.11.2)\n",
            "Requirement already satisfied: PyWavelets>=1.1.1 in /usr/local/lib/python3.7/dist-packages (from scikit-image>=0.12.3->pycroscopy==0.61.0a0) (1.2.0)\n",
            "Requirement already satisfied: threadpoolctl>=2.0.0 in /usr/local/lib/python3.7/dist-packages (from scikit-learn>=0.17.1->pycroscopy==0.61.0a0) (3.0.0)\n",
            "Requirement already satisfied: ipyfilechooser>=0.0.6 in /usr/local/lib/python3.7/dist-packages (from sidpy>=0.0.1->pycroscopy==0.61.0a0) (0.6.0)\n",
            "Requirement already satisfied: distributed>=2.0.0psutil in /usr/local/lib/python3.7/dist-packages (from sidpy>=0.0.1->pycroscopy==0.61.0a0) (2021.12.0)\n",
            "Requirement already satisfied: msgpack>=0.6.0 in /usr/local/lib/python3.7/dist-packages (from distributed>=2.0.0psutil->sidpy>=0.0.1->pycroscopy==0.61.0a0) (1.0.3)\n",
            "Requirement already satisfied: zict>=0.1.3 in /usr/local/lib/python3.7/dist-packages (from distributed>=2.0.0psutil->sidpy>=0.0.1->pycroscopy==0.61.0a0) (2.0.0)\n",
            "Requirement already satisfied: tblib>=1.6.0 in /usr/local/lib/python3.7/dist-packages (from distributed>=2.0.0psutil->sidpy>=0.0.1->pycroscopy==0.61.0a0) (1.7.0)\n",
            "Requirement already satisfied: click>=6.6 in /usr/local/lib/python3.7/dist-packages (from distributed>=2.0.0psutil->sidpy>=0.0.1->pycroscopy==0.61.0a0) (7.1.2)\n",
            "Requirement already satisfied: sortedcontainers!=2.0.0,!=2.0.1 in /usr/local/lib/python3.7/dist-packages (from distributed>=2.0.0psutil->sidpy>=0.0.1->pycroscopy==0.61.0a0) (2.4.0)\n",
            "Requirement already satisfied: jinja2 in /usr/local/lib/python3.7/dist-packages (from distributed>=2.0.0psutil->sidpy>=0.0.1->pycroscopy==0.61.0a0) (2.11.3)\n",
            "Requirement already satisfied: nose in /usr/local/lib/python3.7/dist-packages (from tensorly>=0.6.0->pycroscopy==0.61.0a0) (1.3.7)\n",
            "Requirement already satisfied: typing-extensions in /usr/local/lib/python3.7/dist-packages (from torch>=1.0.0->pycroscopy==0.61.0a0) (3.10.0.2)\n",
            "Requirement already satisfied: notebook>=4.4.1 in /usr/local/lib/python3.7/dist-packages (from widgetsnbextension~=3.5.0->ipywidgets>=5.2.2->pycroscopy==0.61.0a0) (5.3.1)\n",
            "Requirement already satisfied: nbconvert in /usr/local/lib/python3.7/dist-packages (from notebook>=4.4.1->widgetsnbextension~=3.5.0->ipywidgets>=5.2.2->pycroscopy==0.61.0a0) (5.6.1)\n",
            "Requirement already satisfied: terminado>=0.8.1 in /usr/local/lib/python3.7/dist-packages (from notebook>=4.4.1->widgetsnbextension~=3.5.0->ipywidgets>=5.2.2->pycroscopy==0.61.0a0) (0.12.1)\n",
            "Requirement already satisfied: Send2Trash in /usr/local/lib/python3.7/dist-packages (from notebook>=4.4.1->widgetsnbextension~=3.5.0->ipywidgets>=5.2.2->pycroscopy==0.61.0a0) (1.8.0)\n",
            "Requirement already satisfied: pyzmq>=13 in /usr/local/lib/python3.7/dist-packages (from jupyter-client->ipykernel>=4.5.1->ipywidgets>=5.2.2->pycroscopy==0.61.0a0) (22.3.0)\n",
            "Requirement already satisfied: heapdict in /usr/local/lib/python3.7/dist-packages (from zict>=0.1.3->distributed>=2.0.0psutil->sidpy>=0.0.1->pycroscopy==0.61.0a0) (1.0.1)\n",
            "Requirement already satisfied: MarkupSafe>=0.23 in /usr/local/lib/python3.7/dist-packages (from jinja2->distributed>=2.0.0psutil->sidpy>=0.0.1->pycroscopy==0.61.0a0) (2.0.1)\n",
            "Requirement already satisfied: entrypoints>=0.2.2 in /usr/local/lib/python3.7/dist-packages (from nbconvert->notebook>=4.4.1->widgetsnbextension~=3.5.0->ipywidgets>=5.2.2->pycroscopy==0.61.0a0) (0.3)\n",
            "Requirement already satisfied: mistune<2,>=0.8.1 in /usr/local/lib/python3.7/dist-packages (from nbconvert->notebook>=4.4.1->widgetsnbextension~=3.5.0->ipywidgets>=5.2.2->pycroscopy==0.61.0a0) (0.8.4)\n",
            "Requirement already satisfied: testpath in /usr/local/lib/python3.7/dist-packages (from nbconvert->notebook>=4.4.1->widgetsnbextension~=3.5.0->ipywidgets>=5.2.2->pycroscopy==0.61.0a0) (0.5.0)\n",
            "Requirement already satisfied: defusedxml in /usr/local/lib/python3.7/dist-packages (from nbconvert->notebook>=4.4.1->widgetsnbextension~=3.5.0->ipywidgets>=5.2.2->pycroscopy==0.61.0a0) (0.7.1)\n",
            "Requirement already satisfied: bleach in /usr/local/lib/python3.7/dist-packages (from nbconvert->notebook>=4.4.1->widgetsnbextension~=3.5.0->ipywidgets>=5.2.2->pycroscopy==0.61.0a0) (4.1.0)\n",
            "Requirement already satisfied: pandocfilters>=1.4.1 in /usr/local/lib/python3.7/dist-packages (from nbconvert->notebook>=4.4.1->widgetsnbextension~=3.5.0->ipywidgets>=5.2.2->pycroscopy==0.61.0a0) (1.5.0)\n",
            "Requirement already satisfied: webencodings in /usr/local/lib/python3.7/dist-packages (from bleach->nbconvert->notebook>=4.4.1->widgetsnbextension~=3.5.0->ipywidgets>=5.2.2->pycroscopy==0.61.0a0) (0.5.1)\n",
            "Requirement already satisfied: pyUSID==0.0.8.1 in /usr/local/lib/python3.7/dist-packages (0.0.8.1)\n",
            "Requirement already satisfied: ipython>=6.0 in /usr/local/lib/python3.7/dist-packages (from pyUSID==0.0.8.1) (7.30.1)\n",
            "Requirement already satisfied: matplotlib>=2.0.0 in /usr/local/lib/python3.7/dist-packages (from pyUSID==0.0.8.1) (3.2.2)\n",
            "Requirement already satisfied: cytoolz in /usr/local/lib/python3.7/dist-packages (from pyUSID==0.0.8.1) (0.11.2)\n",
            "Requirement already satisfied: h5py>=2.6.0 in /usr/local/lib/python3.7/dist-packages (from pyUSID==0.0.8.1) (3.1.0)\n",
            "Requirement already satisfied: numpy>=1.10 in /usr/local/lib/python3.7/dist-packages (from pyUSID==0.0.8.1) (1.19.5)\n",
            "Requirement already satisfied: joblib>=0.11.0 in /usr/local/lib/python3.7/dist-packages (from pyUSID==0.0.8.1) (1.1.0)\n",
            "Requirement already satisfied: ipywidgets>=5.2.2 in /usr/local/lib/python3.7/dist-packages (from pyUSID==0.0.8.1) (7.6.5)\n",
            "Requirement already satisfied: toolz in /usr/local/lib/python3.7/dist-packages (from pyUSID==0.0.8.1) (0.11.2)\n",
            "Requirement already satisfied: six in /usr/local/lib/python3.7/dist-packages (from pyUSID==0.0.8.1) (1.15.0)\n",
            "Requirement already satisfied: dask>=0.10 in /usr/local/lib/python3.7/dist-packages (from pyUSID==0.0.8.1) (2021.12.0)\n",
            "Requirement already satisfied: psutil in /usr/local/lib/python3.7/dist-packages (from pyUSID==0.0.8.1) (5.4.8)\n",
            "Requirement already satisfied: pillow in /usr/local/lib/python3.7/dist-packages (from pyUSID==0.0.8.1) (7.1.2)\n",
            "Requirement already satisfied: fsspec>=0.6.0 in /usr/local/lib/python3.7/dist-packages (from dask>=0.10->pyUSID==0.0.8.1) (2021.11.1)\n",
            "Requirement already satisfied: packaging>=20.0 in /usr/local/lib/python3.7/dist-packages (from dask>=0.10->pyUSID==0.0.8.1) (21.3)\n",
            "Requirement already satisfied: pyyaml in /usr/local/lib/python3.7/dist-packages (from dask>=0.10->pyUSID==0.0.8.1) (3.13)\n",
            "Requirement already satisfied: cloudpickle>=1.1.1 in /usr/local/lib/python3.7/dist-packages (from dask>=0.10->pyUSID==0.0.8.1) (2.0.0)\n",
            "Requirement already satisfied: partd>=0.3.10 in /usr/local/lib/python3.7/dist-packages (from dask>=0.10->pyUSID==0.0.8.1) (1.2.0)\n",
            "Requirement already satisfied: cached-property in /usr/local/lib/python3.7/dist-packages (from h5py>=2.6.0->pyUSID==0.0.8.1) (1.5.2)\n",
            "Requirement already satisfied: prompt-toolkit!=3.0.0,!=3.0.1,<3.1.0,>=2.0.0 in /usr/local/lib/python3.7/dist-packages (from ipython>=6.0->pyUSID==0.0.8.1) (3.0.24)\n",
            "Requirement already satisfied: matplotlib-inline in /usr/local/lib/python3.7/dist-packages (from ipython>=6.0->pyUSID==0.0.8.1) (0.1.3)\n",
            "Requirement already satisfied: pickleshare in /usr/local/lib/python3.7/dist-packages (from ipython>=6.0->pyUSID==0.0.8.1) (0.7.5)\n",
            "Requirement already satisfied: backcall in /usr/local/lib/python3.7/dist-packages (from ipython>=6.0->pyUSID==0.0.8.1) (0.2.0)\n",
            "Requirement already satisfied: pygments in /usr/local/lib/python3.7/dist-packages (from ipython>=6.0->pyUSID==0.0.8.1) (2.6.1)\n",
            "Requirement already satisfied: jedi>=0.16 in /usr/local/lib/python3.7/dist-packages (from ipython>=6.0->pyUSID==0.0.8.1) (0.18.1)\n",
            "Requirement already satisfied: traitlets>=4.2 in /usr/local/lib/python3.7/dist-packages (from ipython>=6.0->pyUSID==0.0.8.1) (5.1.1)\n",
            "Requirement already satisfied: setuptools>=18.5 in /usr/local/lib/python3.7/dist-packages (from ipython>=6.0->pyUSID==0.0.8.1) (57.4.0)\n",
            "Requirement already satisfied: pexpect>4.3 in /usr/local/lib/python3.7/dist-packages (from ipython>=6.0->pyUSID==0.0.8.1) (4.8.0)\n",
            "Requirement already satisfied: decorator in /usr/local/lib/python3.7/dist-packages (from ipython>=6.0->pyUSID==0.0.8.1) (4.4.2)\n",
            "Requirement already satisfied: jupyterlab-widgets>=1.0.0 in /usr/local/lib/python3.7/dist-packages (from ipywidgets>=5.2.2->pyUSID==0.0.8.1) (1.0.2)\n",
            "Requirement already satisfied: nbformat>=4.2.0 in /usr/local/lib/python3.7/dist-packages (from ipywidgets>=5.2.2->pyUSID==0.0.8.1) (5.1.3)\n",
            "Requirement already satisfied: ipykernel>=4.5.1 in /usr/local/lib/python3.7/dist-packages (from ipywidgets>=5.2.2->pyUSID==0.0.8.1) (4.10.1)\n",
            "Requirement already satisfied: widgetsnbextension~=3.5.0 in /usr/local/lib/python3.7/dist-packages (from ipywidgets>=5.2.2->pyUSID==0.0.8.1) (3.5.2)\n",
            "Requirement already satisfied: ipython-genutils~=0.2.0 in /usr/local/lib/python3.7/dist-packages (from ipywidgets>=5.2.2->pyUSID==0.0.8.1) (0.2.0)\n",
            "Requirement already satisfied: tornado>=4.0 in /usr/local/lib/python3.7/dist-packages (from ipykernel>=4.5.1->ipywidgets>=5.2.2->pyUSID==0.0.8.1) (5.1.1)\n",
            "Requirement already satisfied: jupyter-client in /usr/local/lib/python3.7/dist-packages (from ipykernel>=4.5.1->ipywidgets>=5.2.2->pyUSID==0.0.8.1) (5.3.5)\n",
            "Requirement already satisfied: parso<0.9.0,>=0.8.0 in /usr/local/lib/python3.7/dist-packages (from jedi>=0.16->ipython>=6.0->pyUSID==0.0.8.1) (0.8.3)\n",
            "Requirement already satisfied: kiwisolver>=1.0.1 in /usr/local/lib/python3.7/dist-packages (from matplotlib>=2.0.0->pyUSID==0.0.8.1) (1.3.2)\n",
            "Requirement already satisfied: pyparsing!=2.0.4,!=2.1.2,!=2.1.6,>=2.0.1 in /usr/local/lib/python3.7/dist-packages (from matplotlib>=2.0.0->pyUSID==0.0.8.1) (3.0.6)\n",
            "Requirement already satisfied: cycler>=0.10 in /usr/local/lib/python3.7/dist-packages (from matplotlib>=2.0.0->pyUSID==0.0.8.1) (0.11.0)\n",
            "Requirement already satisfied: python-dateutil>=2.1 in /usr/local/lib/python3.7/dist-packages (from matplotlib>=2.0.0->pyUSID==0.0.8.1) (2.8.2)\n",
            "Requirement already satisfied: jupyter-core in /usr/local/lib/python3.7/dist-packages (from nbformat>=4.2.0->ipywidgets>=5.2.2->pyUSID==0.0.8.1) (4.9.1)\n",
            "Requirement already satisfied: jsonschema!=2.5.0,>=2.4 in /usr/local/lib/python3.7/dist-packages (from nbformat>=4.2.0->ipywidgets>=5.2.2->pyUSID==0.0.8.1) (2.6.0)\n",
            "Requirement already satisfied: locket in /usr/local/lib/python3.7/dist-packages (from partd>=0.3.10->dask>=0.10->pyUSID==0.0.8.1) (0.2.1)\n",
            "Requirement already satisfied: ptyprocess>=0.5 in /usr/local/lib/python3.7/dist-packages (from pexpect>4.3->ipython>=6.0->pyUSID==0.0.8.1) (0.7.0)\n",
            "Requirement already satisfied: wcwidth in /usr/local/lib/python3.7/dist-packages (from prompt-toolkit!=3.0.0,!=3.0.1,<3.1.0,>=2.0.0->ipython>=6.0->pyUSID==0.0.8.1) (0.2.5)\n",
            "Requirement already satisfied: notebook>=4.4.1 in /usr/local/lib/python3.7/dist-packages (from widgetsnbextension~=3.5.0->ipywidgets>=5.2.2->pyUSID==0.0.8.1) (5.3.1)\n",
            "Requirement already satisfied: jinja2 in /usr/local/lib/python3.7/dist-packages (from notebook>=4.4.1->widgetsnbextension~=3.5.0->ipywidgets>=5.2.2->pyUSID==0.0.8.1) (2.11.3)\n",
            "Requirement already satisfied: terminado>=0.8.1 in /usr/local/lib/python3.7/dist-packages (from notebook>=4.4.1->widgetsnbextension~=3.5.0->ipywidgets>=5.2.2->pyUSID==0.0.8.1) (0.12.1)\n",
            "Requirement already satisfied: Send2Trash in /usr/local/lib/python3.7/dist-packages (from notebook>=4.4.1->widgetsnbextension~=3.5.0->ipywidgets>=5.2.2->pyUSID==0.0.8.1) (1.8.0)\n",
            "Requirement already satisfied: nbconvert in /usr/local/lib/python3.7/dist-packages (from notebook>=4.4.1->widgetsnbextension~=3.5.0->ipywidgets>=5.2.2->pyUSID==0.0.8.1) (5.6.1)\n",
            "Requirement already satisfied: pyzmq>=13 in /usr/local/lib/python3.7/dist-packages (from jupyter-client->ipykernel>=4.5.1->ipywidgets>=5.2.2->pyUSID==0.0.8.1) (22.3.0)\n",
            "Requirement already satisfied: MarkupSafe>=0.23 in /usr/local/lib/python3.7/dist-packages (from jinja2->notebook>=4.4.1->widgetsnbextension~=3.5.0->ipywidgets>=5.2.2->pyUSID==0.0.8.1) (2.0.1)\n",
            "Requirement already satisfied: defusedxml in /usr/local/lib/python3.7/dist-packages (from nbconvert->notebook>=4.4.1->widgetsnbextension~=3.5.0->ipywidgets>=5.2.2->pyUSID==0.0.8.1) (0.7.1)\n",
            "Requirement already satisfied: bleach in /usr/local/lib/python3.7/dist-packages (from nbconvert->notebook>=4.4.1->widgetsnbextension~=3.5.0->ipywidgets>=5.2.2->pyUSID==0.0.8.1) (4.1.0)\n",
            "Requirement already satisfied: pandocfilters>=1.4.1 in /usr/local/lib/python3.7/dist-packages (from nbconvert->notebook>=4.4.1->widgetsnbextension~=3.5.0->ipywidgets>=5.2.2->pyUSID==0.0.8.1) (1.5.0)\n",
            "Requirement already satisfied: testpath in /usr/local/lib/python3.7/dist-packages (from nbconvert->notebook>=4.4.1->widgetsnbextension~=3.5.0->ipywidgets>=5.2.2->pyUSID==0.0.8.1) (0.5.0)\n",
            "Requirement already satisfied: mistune<2,>=0.8.1 in /usr/local/lib/python3.7/dist-packages (from nbconvert->notebook>=4.4.1->widgetsnbextension~=3.5.0->ipywidgets>=5.2.2->pyUSID==0.0.8.1) (0.8.4)\n",
            "Requirement already satisfied: entrypoints>=0.2.2 in /usr/local/lib/python3.7/dist-packages (from nbconvert->notebook>=4.4.1->widgetsnbextension~=3.5.0->ipywidgets>=5.2.2->pyUSID==0.0.8.1) (0.3)\n",
            "Requirement already satisfied: webencodings in /usr/local/lib/python3.7/dist-packages (from bleach->nbconvert->notebook>=4.4.1->widgetsnbextension~=3.5.0->ipywidgets>=5.2.2->pyUSID==0.0.8.1) (0.5.1)\n"
          ]
        }
      ],
      "source": [
        "#Run this cell then restart runtime; do not run it a second time.\n",
        "!pip install git+https://github.com/pycroscopy/pycroscopy.git\n",
        "!pip install pyUSID==0.0.8.1"
      ]
    },
    {
      "cell_type": "code",
      "execution_count": 3,
      "metadata": {
        "id": "Di-frFmjEMOd"
      },
      "outputs": [],
      "source": [
        "import numpy as np\n",
        "import matplotlib.pyplot as plt\n",
        "import pyUSID as usid\n",
        "import pycroscopy as px\n",
        "import h5py\n",
        "import time\n",
        "import pickle\n",
        "import os"
      ]
    },
    {
      "cell_type": "markdown",
      "metadata": {
        "id": "dwElGSq2Ixi1"
      },
      "source": [
        "#Prepare Data"
      ]
    },
    {
      "cell_type": "markdown",
      "metadata": {
        "id": "a0og2W-PGIaO"
      },
      "source": [
        "##Load Data"
      ]
    },
    {
      "cell_type": "code",
      "execution_count": 10,
      "metadata": {
        "id": "rf9kpOnLGIOx",
        "colab": {
          "base_uri": "https://localhost:8080/"
        },
        "outputId": "65c9565c-8d14-464d-94d4-c821b6b0e841"
      },
      "outputs": [
        {
          "output_type": "stream",
          "name": "stdout",
          "text": [
            "Downloading...\n",
            "From: https://drive.google.com/uc?id=1sGLzkzCM4KDJWyfXWYno2eFG93VOgaEX\n",
            "To: /content/Nagy_SuperR_BFO_BEPS_50x50_0001.h5\n",
            "100% 741M/741M [00:03<00:00, 194MB/s]\n"
          ]
        }
      ],
      "source": [
        "# !gdown https://drive.google.com/uc?id=1sGLzkzCM4KDJWyfXWYno2eFG93VOgaEX\n",
        "h5_path = '/content/Nagy_SuperR_BFO_BEPS_50x50_0001.h5'\n"
      ]
    },
    {
      "cell_type": "markdown",
      "metadata": {
        "id": "LfYr8z87GR39"
      },
      "source": [
        "#Load Data"
      ]
    },
    {
      "cell_type": "code",
      "execution_count": 12,
      "metadata": {
        "id": "DFpOhFl1G5UI"
      },
      "outputs": [],
      "source": [
        "h5_f = h5py.File(h5_path, 'r+')\n",
        "# main_dsets = usid.hdf_utils.get_all_main(h5_f)"
      ]
    },
    {
      "cell_type": "code",
      "source": [
        "h5_main = usid.hdf_utils.find_dataset(h5_f, 'Raw_Data')[0]\n",
        "h5_sho_fit = usid.hdf_utils.find_results_groups(h5_main,'Raw_Data-SHO_Fit_000')[0]"
      ],
      "metadata": {
        "id": "Nw-dBzfDOWOn"
      },
      "execution_count": 16,
      "outputs": []
    },
    {
      "cell_type": "code",
      "execution_count": null,
      "metadata": {
        "id": "_7oMDvroFvq0"
      },
      "outputs": [],
      "source": [
        "usid.hdf_utils.print_tree(h5_f)"
      ]
    },
    {
      "cell_type": "code",
      "execution_count": null,
      "metadata": {
        "id": "UZHAJgzdGVj0"
      },
      "outputs": [],
      "source": [
        "# h5_sho_fit = main_dsets[2]\n",
        "amplitude = h5_sho_fit['Amplitude [V]']\n",
        "phase = h5_sho_fit['Phase [rad]']\n",
        "\n",
        "adjust = np.max(phase) - np.min(phase)\n",
        "phase_wrap = []\n",
        "for ii in range(phase.shape[0]):\n",
        "  phase_wrap.append([x+adjust if x < -2 else x for x in phase[ii,:]])\n",
        "phase = np.asarray(phase_wrap)\n",
        "plt.figure()\n",
        "plt.hist(phase.ravel(),bins=100)\n",
        "\n",
        "PR_mat = amplitude*np.cos(phase)\n",
        "PR_mat = -PR_mat.reshape(h5_sho_fit.pos_dim_sizes[0],h5_sho_fit.pos_dim_sizes[1],-1 )\n",
        "\n",
        "plt.figure()\n",
        "\n",
        "dc_vec_OF = h5_sho_fit.h5_spec_vals[0,:][np.logical_and(h5_sho_fit.h5_spec_vals[1,:]==0,h5_sho_fit.h5_spec_vals[2,:]==2)]\n",
        "dc_vec_IF = h5_sho_fit.h5_spec_vals[0,:][np.logical_and(h5_sho_fit.h5_spec_vals[1,:]==1,h5_sho_fit.h5_spec_vals[2,:]==2)]\n",
        "                                        \n",
        "PR_OF = PR_mat[:,:,129::2] # off field\n",
        "PR_IF = PR_mat[:,:,128::2] # on field\n",
        "\n",
        "plt.plot(dc_vec_OF,PR_OF[11,9,:] , 'r-')\n",
        "plt.plot(dc_vec_IF,PR_IF[11,9,:] , 'b-')"
      ]
    },
    {
      "cell_type": "markdown",
      "metadata": {
        "id": "INP9A43UG0Pi"
      },
      "source": [
        "View Data"
      ]
    },
    {
      "cell_type": "code",
      "execution_count": null,
      "metadata": {
        "colab": {
          "base_uri": "https://localhost:8080/",
          "height": 1000
        },
        "id": "_Ez0G610G1X9",
        "outputId": "49ed0ff8-51fa-4c6b-92c5-58f9ea2c56c5"
      },
      "outputs": [
        {
          "data": {
            "image/png": "[encoded data removed]",
            "text/plain": [
              "<Figure size 432x288 with 1 Axes>"
            ]
          },
          "metadata": {
            "tags": []
          },
          "output_type": "display_data"
        },
        {
          "data": {
            "image/png": "[encoded data removed]",
            "text/plain": [
              "<Figure size 432x288 with 1 Axes>"
            ]
          },
          "metadata": {
            "tags": []
          },
          "output_type": "display_data"
        },
        {
          "data": {
            "image/png": "[encoded data removed]",
            "text/plain": [
              "<Figure size 432x288 with 1 Axes>"
            ]
          },
          "metadata": {
            "tags": []
          },
          "output_type": "display_data"
        },
        {
          "data": {
            "image/png": "[encoded data removed]",
            "text/plain": [
              "<Figure size 432x288 with 1 Axes>"
            ]
          },
          "metadata": {
            "tags": []
          },
          "output_type": "display_data"
        }
      ],
      "source": [
        "for ind in range(4):\n",
        "    plt.figure()\n",
        "    plt.imshow(PR_OF[:,:,ind])\n",
        "    plt.title(str(dc_vec_OF[ind])+' V')\n"
      ]
    },
    {
      "cell_type": "markdown",
      "metadata": {
        "id": "E78-fDvvHDJd"
      },
      "source": [
        "#Load analysis modules"
      ]
    },
    {
      "cell_type": "code",
      "source": [
        "from BGlib.be.analysis.prior_fitting import prior_fitting"
      ],
      "metadata": {
        "id": "Rs_8lMjlRZD6"
      },
      "execution_count": null,
      "outputs": []
    },
    {
      "cell_type": "code",
      "source": [
        "\"\"\"\n",
        "Fitting class for BEPS datasets using guessing propagation methods: nearest-neighbor or k-means\n",
        "\n",
        "More information can be found in our publication: N. Creange et al. 2021 Mach. Learn.: Sci. Technol. 2 045002\n",
        "\"\"\"\n",
        "\n",
        "from scipy.optimize import curve_fit\n",
        "from sklearn.metrics import r2_score\n",
        "from copy import deepcopy\n",
        "from sklearn.cluster import KMeans\n",
        "import numpy as np\n",
        "import matplotlib.pyplot as plt\n",
        "from scipy.special import erf, erfinv\n",
        "\n",
        "loop_metrics32 = np.dtype({'names': ['Area', 'Centroid x', 'Centroid y',\n",
        "                                     'Rotation Angle [rad]', 'Offset'],\n",
        "                           'formats': [np.float32, np.float32, np.float32,\n",
        "                                       np.float32, np.float32]})\n",
        "\n",
        "crit32 = np.dtype({'names': ['AIC_loop', 'BIC_loop', 'AIC_line', 'BIC_line'],\n",
        "                   'formats': [np.float32, np.float32, np.float32,\n",
        "                               np.float32]})\n",
        "\n",
        "__field_names = ['a_0', 'a_1', 'a_2', 'a_3', 'a_4', 'b_0', 'b_1', 'b_2', 'b_3',\n",
        "                 'R2 Criterion']\n",
        "loop_fit32 = np.dtype({'names': __field_names,\n",
        "                       'formats': [np.float32 for name in __field_names]})\n",
        "field_names = ['V+', 'V-', 'Imprint', 'R+', 'R-', 'Switchable Polarization',\n",
        "               'Work of Switching', 'Nucleation Bias 1', 'Nucleation Bias 2']\n",
        "switching32 = np.dtype({'names': field_names,\n",
        "                        'formats': [np.float32 for name in field_names]})\n",
        "\n",
        "\n",
        "def loop_fit_function(vdc, *coef_vec):\n",
        "    \"\"\"\n",
        "    9 parameter fit function\n",
        "\n",
        "    Parameters\n",
        "    -----------\n",
        "    vdc : 1D numpy array or list\n",
        "        DC voltages\n",
        "    coef_vec : 1D numpy array or list\n",
        "        9 parameter coefficient vector\n",
        "\n",
        "    Returns\n",
        "    ---------\n",
        "    loop_eval : 1D numpy array\n",
        "        Loop values\n",
        "    \"\"\"\n",
        "    from scipy.special import erf\n",
        "    a = coef_vec[:5]\n",
        "    b = coef_vec[5:]\n",
        "    d = 1000\n",
        "\n",
        "    v1 = np.asarray(vdc[:int(len(vdc) / 2)])\n",
        "    v2 = np.asarray(vdc[int(len(vdc) / 2):])\n",
        "\n",
        "    g1 = (b[1] - b[0]) / 2 * (erf((v1 - a[2]) * d) + 1) + b[0]\n",
        "    g2 = (b[3] - b[2]) / 2 * (erf((v2 - a[3]) * d) + 1) + b[2]\n",
        "\n",
        "    y1 = (g1 * erf((v1 - a[2]) / g1) + b[0]) / (b[0] + b[1])\n",
        "    y2 = (g2 * erf((v2 - a[3]) / g2) + b[2]) / (b[2] + b[3])\n",
        "\n",
        "    f1 = a[0] + a[1] * y1 + a[4] * v1\n",
        "    f2 = a[0] + a[1] * y2 + a[4] * v2\n",
        "\n",
        "    loop_eval = np.hstack((f1, f2))\n",
        "    return loop_eval\n",
        "\n",
        "class prior_fitting():\n",
        "\n",
        "    def __init__(self, dc_vec, PR, method= 'K-Means', NN=None):\n",
        "        self.h5_f = h5_f\n",
        "        self.xdata0 = dc_vec\n",
        "        self.PR_mat = PR\n",
        "        self.method = method\n",
        "        self.NN = NN\n",
        "\n",
        "        self.p0_mat = [[]]*PR.shape[0]*PR.shape[1]\n",
        "        self.p0_refs = [[]]*PR.shape[0]*PR.shape[1]\n",
        "        self.bnds = (-100,100)\n",
        "        self.fitted_loops_mat = [[]] * PR.shape[0] * PR.shape[1]\n",
        "        self.SumSq = [[]] * PR.shape[0] * PR.shape[1]\n",
        "        self.ref_counts = np.arange(PR.shape[0] * PR.shape[1]).reshape((PR.shape[0], PR.shape[1]))  # reference for finding neighboring pixels\n",
        "\n",
        "\n",
        "    def _roll_check(self):\n",
        "        max_x = np.where(self.xdata0==np.max(self.xdata0))[0]\n",
        "        self.max_x = max_x\n",
        "        if max_x != 0 or max_x != len(self.xdata0):\n",
        "            self.xdata0 = np.roll(self.xdata0, -max_x)\n",
        "            self.dum = 1\n",
        "        else:\n",
        "            self.xdata0 = self.xdata0\n",
        "            self.dum = 0\n",
        "\n",
        "    def _cal_all_mean(self):\n",
        "        all_mean = np.mean(np.mean(self.PR_mat,axis=0),axis=0)\n",
        "        if self.dum == 1:\n",
        "            all_mean = np.roll(all_mean, -self.max_x)\n",
        "        return all_mean\n",
        "\n",
        "    def loop_resid(self, coef_vec, vdc, ydata):\n",
        "        y = loop_fit_function(vdc, *coef_vec)\n",
        "        res = ydata - y\n",
        "        ss = res @ res\n",
        "        return ss\n",
        "\n",
        "    def calc_mean_fit(self):\n",
        "        p0_vals = []\n",
        "        opt_vals = []\n",
        "        res = []\n",
        "        all_mean = self._cal_all_mean()\n",
        "\n",
        "        for kk in range(20):\n",
        "            p0 = np.random.normal(0.1, 5, 9)\n",
        "            p0_vals.append(p0)\n",
        "            try:\n",
        "                vals_min, pcov = curve_fit(loop_fit_function, self.xdata0, all_mean, p0=p0, maxfev=10000)\n",
        "            except:\n",
        "                continue\n",
        "            opt_vals.append(vals_min)\n",
        "            fitted_loop = loop_fit_function(self.xdata0, *vals_min)\n",
        "            yres = all_mean - fitted_loop\n",
        "            res.append(yres @ yres)\n",
        "\n",
        "        popt = opt_vals[np.argmin(res)]\n",
        "        popt_mean = deepcopy(popt)\n",
        "        p0_mat = [popt] * self.PR_mat.shape[0] * self.PR_mat.shape[1]\n",
        "        plt.figure()\n",
        "        plt.plot(self.xdata0, all_mean, 'ko')\n",
        "        fitted_loop = loop_fit_function(self.xdata0, *popt)\n",
        "        plt.plot(self.xdata0, fitted_loop, 'k')\n",
        "        print('Done with average fit')\n",
        "\n",
        "        return popt_mean, p0_mat, fitted_loop, all_mean\n",
        "\n",
        "    def do_fit(self):\n",
        "        self._roll_check()\n",
        "        popt_mean, p0_mat, fitted_loop, all_mean = self.calc_mean_fit()\n",
        "\n",
        "        # Set up plotting figure\n",
        "        cmap = plt.cm.plasma_r\n",
        "        scale = (0, 1)\n",
        "        fig, ax = plt.subplots(figsize=(8, 8))\n",
        "        cbaxs = fig.add_axes([0.92, 0.125, 0.02, 0.755])\n",
        "\n",
        "        if self.method == 'K-Means':  # ---> use average fit for start point for kmeans average fits\n",
        "            size = self.PR_mat.shape[0] * self.PR_mat.shape[1]\n",
        "            n_clusters = int(size / 100)\n",
        "            PR_mat_flat = self.PR_mat.reshape(size, int(self.PR_mat.shape[2]))\n",
        "            kmeans = KMeans(n_clusters=n_clusters, random_state=0).fit(PR_mat_flat)\n",
        "            labels = kmeans.labels_\n",
        "            p0_clusters = []\n",
        "            cluster_loops = []\n",
        "            for pp in range(n_clusters):\n",
        "                opt_vals = []\n",
        "                res = []\n",
        "                clust = PR_mat_flat[labels == pp]\n",
        "                PR_mean = np.mean(clust, axis=0)\n",
        "                if self.dum == 1:\n",
        "                    PR_mean = np.roll(PR_mean, -self.max_x)\n",
        "                cluster_loops.append(PR_mean)\n",
        "                p0 = p0_mat[0]\n",
        "                try:\n",
        "                    popt, pcov = curve_fit(loop_fit_function, self.xdata0, PR_mean, p0=p0, maxfev=10000)\n",
        "                except:\n",
        "                    kk = 0\n",
        "                    p0 = np.random.normal(0.1, 5, 9)\n",
        "                    while kk < 20:\n",
        "                        try:\n",
        "                            vals_min, pcov = curve_fit(loop_fit_function, self.xdata0, all_mean, p0=p0, maxfev=10000)\n",
        "                        except:\n",
        "                            continue\n",
        "                        kk += 1\n",
        "                        opt_vals.append(vals_min)\n",
        "                        fitted_loop = loop_fit_function(self.xdata0, *vals_min)\n",
        "                        yres = PR_mean - fitted_loop\n",
        "                        res.append(yres @ yres)\n",
        "                        popt = opt_vals[np.argmin(res)]\n",
        "                p0_clusters.append(popt)\n",
        "                fitted_loop = loop_fit_function(self.xdata0, *popt)\n",
        "\n",
        "            # -----------------\n",
        "            # Start loop for fitting each pixel\n",
        "            # -----------------\n",
        "        count = -1\n",
        "        for ii in range(self.PR_mat.shape[0]):\n",
        "            xind = ii\n",
        "            for jj in range(self.PR_mat.shape[1]):\n",
        "                count += 1  # used to keep track of popt vals\n",
        "                yind = jj\n",
        "                ydata0 = self.PR_mat[xind, yind, :]\n",
        "                if self.dum == 1:\n",
        "                    ydata = np.roll(ydata0, -self.max_x)\n",
        "                else:\n",
        "                    ydata = ydata0\n",
        "\n",
        "        # -----------------\n",
        "        # SET UP METHOD FOR INITIAL VALUES\n",
        "        # -----------------\n",
        "                if self.method == 'Neighbor':\n",
        "                    xs = [ii + k for k in range(-self.NN, self.NN + 1)]\n",
        "                    ys = [jj + k for k in range(-self.NN, self.NN + 1)]\n",
        "                    nbrs = [(n, m) for n in xs for m in ys]\n",
        "                    cond = [all(x >= 0 for x in list(y)) for y in nbrs]\n",
        "                    nbrs = [d for (d, remove) in zip(nbrs, cond) if remove]\n",
        "                    cond2 = [all(x < self.ref_counts.shape[0] for x in list(y)) for y in\n",
        "                             nbrs]  # assumes PR_mat is square....\n",
        "                    nbrs = [d for (d, remove) in zip(nbrs, cond2) if remove]\n",
        "                    NN_indx = [self.ref_counts[v] for v in nbrs]\n",
        "                    prior_coefs = [p0_mat[k] for k in NN_indx if len(p0_mat[k]) != 0]\n",
        "                    if prior_coefs == []:\n",
        "                        p0 = popt\n",
        "                    else:\n",
        "                        p0 = np.mean(prior_coefs, axis=0)\n",
        "                    self.p0_refs[count] = p0\n",
        "                    try:\n",
        "                        popt, pcov = curve_fit(loop_fit_function, self.xdata0, ydata, p0=p0, maxfev=10000, bounds=self.bnds)\n",
        "                    except:\n",
        "                        fitted_loop = loop_fit_function(self.xdata0, *p0)\n",
        "                        plt.figure()\n",
        "                        plt.plot(self.xdata0, fitted_loop, 'r')\n",
        "                        plt.plot(self.xdata0, ydata, 'k')\n",
        "                        continue\n",
        "                    p0_mat[count] = popt  # saves fitted coefficients for the index\n",
        "\n",
        "                if self.method == 'K-Means':\n",
        "                    lab = labels[count]\n",
        "                    p0 = p0_clusters[lab]\n",
        "                    try:\n",
        "                        popt, pcov = curve_fit(loop_fit_function, self.xdata0, ydata, p0=p0, maxfev=10000)\n",
        "                    except:\n",
        "                        p0 = popt_mean\n",
        "                        try:\n",
        "                            popt, pcov = curve_fit(loop_fit_function, self.xdata0, ydata, p0=p0, maxfev=10000)\n",
        "                        except:\n",
        "                            continue\n",
        "                    self.p0_refs[count] = p0\n",
        "                    p0_mat[count] = popt  # saves fitted coefficients for the index\n",
        "\n",
        "                # -----------------\n",
        "                # ----------------- Common for all methods ---------------------\n",
        "                # -----------------\n",
        "\n",
        "                fitted_loop = loop_fit_function(self.xdata0, *p0_mat[count])\n",
        "                self.fitted_loops_mat[count] = fitted_loop\n",
        "                ss = r2_score(ydata, fitted_loop)\n",
        "                self.SumSq[count] = ss\n",
        "                sh = np.floor(1 + (2 ** 16 - 1) * ((ss) - scale[0]) / (scale[1] - scale[0]))\n",
        "                if sh < 1:\n",
        "                    sh = 1\n",
        "                if sh > 2 ** 16:\n",
        "                    sh = 2 ** 16\n",
        "\n",
        "                cz = ax.plot(ii, jj, c=cmap(sh / (2 ** 16)), marker='s', markersize=7)\n",
        "\n",
        "        scbar = plt.cm.ScalarMappable(cmap=plt.cm.plasma_r, norm=plt.Normalize(vmin=scale[0], vmax=scale[1]))\n",
        "        scbar._A = []\n",
        "        cbar = plt.colorbar(scbar, cax=cbaxs)\n",
        "        cbar.ax.set_ylabel('$R^2$', rotation=270, labelpad=20)\n",
        "\n",
        "        return fig, ax, self.p0_refs, p0_mat, self.SumSq, self.fitted_loops_mat\n",
        "\n",
        "    def calc_switching_coef_vec(self,loop_coef_vec, nuc_threshold):\n",
        "        \"\"\"\n",
        "        Calculates the physical loop parameters from the array of loop parameters.\n",
        "        Parameters\n",
        "        ----------\n",
        "        loop_coef_vec : numpy.ndarray\n",
        "            Array of loop coeffiecients\n",
        "        nuc_threshold : float\n",
        "            Nucleation threshold\n",
        "        Returns\n",
        "        -------\n",
        "        switching_coef_vec : numpy.ndarray\n",
        "            Array of loop parameters\n",
        "        \"\"\"\n",
        "        switching_coef_vec = np.zeros(shape=loop_coef_vec.shape[0], dtype=switching32)\n",
        "\n",
        "        anv = loop_coef_vec[:, :5].T\n",
        "        bnv = loop_coef_vec[:, 5:].T\n",
        "\n",
        "        nuc_v01a = bnv[2] * erfinv((nuc_threshold * bnv[2] + nuc_threshold * bnv[3] - bnv[2]) / bnv[2]) + anv[3]\n",
        "        nuc_v01b = bnv[3] * erfinv((nuc_threshold * bnv[2] + nuc_threshold * bnv[3] - bnv[2]) / bnv[3]) + anv[3]\n",
        "\n",
        "        nuc_v01 = np.where(np.isfinite(nuc_v01a), nuc_v01a,\n",
        "                           np.where(np.isfinite(nuc_v01b), nuc_v01b, -1E-10))\n",
        "\n",
        "        nuc_v02a = bnv[0] * erfinv(\n",
        "            ((1 - nuc_threshold) * bnv[0] + (1 - nuc_threshold) * bnv[1] - bnv[0]) / bnv[0]) + anv[2]\n",
        "        nuc_v02b = bnv[1] * erfinv(\n",
        "            ((1 - nuc_threshold) * bnv[0] + (1 - nuc_threshold) * bnv[1] - bnv[0]) / bnv[1]) + anv[2]\n",
        "\n",
        "        nuc_v02 = np.where(np.isfinite(nuc_v02a), nuc_v02a,\n",
        "                           np.where(np.isfinite(nuc_v02b), nuc_v02b, -1E-10))\n",
        "\n",
        "        switching_coef_vec['V+'] = loop_coef_vec[:, 3]\n",
        "        switching_coef_vec['V-'] = loop_coef_vec[:, 2]\n",
        "        switching_coef_vec['Imprint'] = (loop_coef_vec[:, 2] + loop_coef_vec[:, 3]) / 2\n",
        "        switching_coef_vec['R+'] = loop_coef_vec[:, 0] + loop_coef_vec[:, 1]\n",
        "        switching_coef_vec['R-'] = loop_coef_vec[:, 0]\n",
        "        switching_coef_vec['Switchable Polarization'] = loop_coef_vec[:, 1]\n",
        "        switching_coef_vec['Work of Switching'] = np.abs(loop_coef_vec[:, 3] -\n",
        "                                                         loop_coef_vec[:, 2]) * np.abs(loop_coef_vec[:, 1])\n",
        "\n",
        "        switching_coef_vec['Nucleation Bias 1'] = nuc_v01\n",
        "        switching_coef_vec['Nucleation Bias 2'] = nuc_v02\n",
        "\n",
        "        return switching_coef_vec.reshape([-1, 1])\n",
        "\n",
        "    field_names = ['V+', 'V-', 'Imprint', 'R+', 'R-', 'Switchable Polarization',\n",
        "                   'Work of Switching', 'Nucleation Bias 1', 'Nucleation Bias 2']\n",
        "    switching32 = np.dtype({'names': field_names,\n",
        "                            'formats': [np.float32 for name in field_names]})\n"
      ],
      "metadata": {
        "id": "kJ46OdtUPOC3"
      },
      "execution_count": 29,
      "outputs": []
    },
    {
      "cell_type": "markdown",
      "metadata": {
        "id": "9maLQe-MH6B9"
      },
      "source": [
        "#Do Fitting"
      ]
    },
    {
      "cell_type": "markdown",
      "source": [
        "Input the dc voltage vector, the Piezoresponse matrix, and the method for prior propagation fitting: 'K-Means' or 'Neighbor'.  Note that if you choose 'Neighbor' you will also need the input variable NN (NN=2 or some other value)."
      ],
      "metadata": {
        "id": "t4mwtQbePYcJ"
      }
    },
    {
      "cell_type": "code",
      "execution_count": null,
      "metadata": {
        "id": "7lij9rNjH9ug"
      },
      "outputs": [],
      "source": [
        "beps_prior_fitting = prior_fitting.prior_fitting(dc_vec, PR, method = 'K-Means')\n",
        "fig,ax,p0_refs,p0_mat,SumSq,fitted_loops_mat = beps_prior_fitting.do_fit()"
      ]
    },
    {
      "cell_type": "markdown",
      "metadata": {
        "id": "xiPJjqT6ILvf"
      },
      "source": [
        "Save Fitting"
      ]
    },
    {
      "cell_type": "code",
      "execution_count": null,
      "metadata": {
        "id": "oZoChawPINOz"
      },
      "outputs": [],
      "source": [
        "mdir = '/content'\n",
        "dict = {'fig':fig,'ax':ax,'p0_refs':p0_refs,'p0_mat':p0_mat,'ss':SumSq,'fitted_loops_mat':fitted_loops_mat}\n",
        "\n",
        "output = open(os.path.join(mdir,\"data.pkl\"), \"wb\")\n",
        "pickle.dump(dict, output)\n",
        "output.close()"
      ]
    },
    {
      "cell_type": "code",
      "execution_count": null,
      "metadata": {
        "id": "UEfT3VadZqJd"
      },
      "outputs": [],
      "source": [
        "fig.savefig(os.path.join(mdir,'figure.eps'),format='eps',bbox_inches = 'tight')"
      ]
    },
    {
      "cell_type": "markdown",
      "source": [
        "# Do Coefficient Calculations"
      ],
      "metadata": {
        "id": "-x3uf1gJQvHm"
      }
    },
    {
      "cell_type": "code",
      "source": [
        "coef_mat_kmeans = beps_prior_fitting.calc_switching_coef_vec(p0_mat,0.03)"
      ],
      "metadata": {
        "id": "IGzepF73Qupi"
      },
      "execution_count": null,
      "outputs": []
    }
  ],
  "metadata": {
    "colab": {
      "name": "TESTING Example of  BEPS Prior Fitting.ipynb",
      "provenance": []
    },
    "kernelspec": {
      "display_name": "Python 3",
      "name": "python3"
    }
  },
  "nbformat": 4,
  "nbformat_minor": 0
}